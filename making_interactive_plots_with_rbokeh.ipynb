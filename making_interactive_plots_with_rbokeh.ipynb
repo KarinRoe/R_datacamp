{
 "cells": [
  {
   "cell_type": "code",
   "execution_count": 2,
   "metadata": {},
   "outputs": [],
   "source": [
    "library(gapminder)\n",
    "library(rbokeh)\n",
    "library(dplyr)\n",
    "library(ggplot2)"
   ]
  },
  {
   "cell_type": "markdown",
   "metadata": {},
   "source": [
    "The economics dataset is extracted from US economic time series data, including info about population (pop), personal savings rate (psavert), personal consumption expenditures (pce), unemployment (unemploy), and median duration of unemployment (uempmed)."
   ]
  },
  {
   "cell_type": "code",
   "execution_count": 3,
   "metadata": {},
   "outputs": [
    {
     "name": "stdout",
     "output_type": "stream",
     "text": [
      "Classes 'tbl_df', 'tbl' and 'data.frame':\t142 obs. of  6 variables:\n",
      " $ country  : Factor w/ 142 levels \"Afghanistan\",..: 1 2 3 4 5 6 7 8 9 10 ...\n",
      " $ continent: Factor w/ 5 levels \"Africa\",\"Americas\",..: 3 4 1 1 2 5 4 3 3 4 ...\n",
      " $ year     : int  1992 1992 1992 1992 1992 1992 1992 1992 1992 1992 ...\n",
      " $ lifeExp  : num  41.7 71.6 67.7 40.6 71.9 ...\n",
      " $ pop      : int  16317921 3326498 26298373 8735988 33958947 17481977 7914969 529491 113704579 10045622 ...\n",
      " $ gdpPercap: num  649 2497 5023 2628 9308 ...\n"
     ]
    }
   ],
   "source": [
    "dat_1992 <- gapminder %>% filter(year == 1992)\n",
    "str(dat_1992)"
   ]
  },
  {
   "cell_type": "code",
   "execution_count": 4,
   "metadata": {},
   "outputs": [
    {
     "name": "stderr",
     "output_type": "stream",
     "text": [
      "Warning message in structure(x, class = unique(c(\"AsIs\", oldClass(x)))):\n",
      "\"Calling 'structure(NULL, *)' is deprecated, as NULL cannot have attributes.\n",
      "  Consider 'structure(list(), *)' instead.\"Warning message in structure(x, class = unique(c(\"AsIs\", oldClass(x)))):\n",
      "\"Calling 'structure(NULL, *)' is deprecated, as NULL cannot have attributes.\n",
      "  Consider 'structure(list(), *)' instead.\"Warning message in structure(x, class = unique(c(\"AsIs\", oldClass(x)))):\n",
      "\"Calling 'structure(NULL, *)' is deprecated, as NULL cannot have attributes.\n",
      "  Consider 'structure(list(), *)' instead.\"Warning message in structure(x, class = unique(c(\"AsIs\", oldClass(x)))):\n",
      "\"Calling 'structure(NULL, *)' is deprecated, as NULL cannot have attributes.\n",
      "  Consider 'structure(list(), *)' instead.\"Warning message in structure(x, class = unique(c(\"AsIs\", oldClass(x)))):\n",
      "\"Calling 'structure(NULL, *)' is deprecated, as NULL cannot have attributes.\n",
      "  Consider 'structure(list(), *)' instead.\"Warning message in structure(x, class = unique(c(\"AsIs\", oldClass(x)))):\n",
      "\"Calling 'structure(NULL, *)' is deprecated, as NULL cannot have attributes.\n",
      "  Consider 'structure(list(), *)' instead.\"Warning message in structure(x, class = unique(c(\"AsIs\", oldClass(x)))):\n",
      "\"Calling 'structure(NULL, *)' is deprecated, as NULL cannot have attributes.\n",
      "  Consider 'structure(list(), *)' instead.\""
     ]
    }
   ],
   "source": [
    "plot_1992 <- figure(legend_location = \"bottom_right\") %>%\n",
    "  ly_points(x = gdpPercap, y = lifeExp, data = dat_1992, color = continent )"
   ]
  },
  {
   "cell_type": "code",
   "execution_count": 5,
   "metadata": {},
   "outputs": [
    {
     "name": "stderr",
     "output_type": "stream",
     "text": [
      "Warning message in structure(x, class = unique(c(\"AsIs\", oldClass(x)))):\n",
      "\"Calling 'structure(NULL, *)' is deprecated, as NULL cannot have attributes.\n",
      "  Consider 'structure(list(), *)' instead.\"Warning message in structure(x, class = unique(c(\"AsIs\", oldClass(x)))):\n",
      "\"Calling 'structure(NULL, *)' is deprecated, as NULL cannot have attributes.\n",
      "  Consider 'structure(list(), *)' instead.\"Warning message in structure(x, class = unique(c(\"AsIs\", oldClass(x)))):\n",
      "\"Calling 'structure(NULL, *)' is deprecated, as NULL cannot have attributes.\n",
      "  Consider 'structure(list(), *)' instead.\"Warning message in structure(x, class = unique(c(\"AsIs\", oldClass(x)))):\n",
      "\"Calling 'structure(NULL, *)' is deprecated, as NULL cannot have attributes.\n",
      "  Consider 'structure(list(), *)' instead.\"Warning message in structure(x, class = unique(c(\"AsIs\", oldClass(x)))):\n",
      "\"Calling 'structure(NULL, *)' is deprecated, as NULL cannot have attributes.\n",
      "  Consider 'structure(list(), *)' instead.\"html file written to: plot_scatter_interactive.html\n"
     ]
    }
   ],
   "source": [
    "rbokeh2html(fig = plot_1992, file = \"plot_scatter_interactive.html\")"
   ]
  },
  {
   "cell_type": "code",
   "execution_count": 7,
   "metadata": {},
   "outputs": [],
   "source": [
    "browseURL(\"plot_scatter_interactive.html\")"
   ]
  },
  {
   "cell_type": "code",
   "execution_count": 8,
   "metadata": {},
   "outputs": [
    {
     "name": "stderr",
     "output_type": "stream",
     "text": [
      "** phantomjs dependency could not be found - static plot cannot be generated (run phantom_install() for details)\n"
     ]
    },
    {
     "ename": "ERROR",
     "evalue": "Error in widget2png(p = plot_1992, file = \"plot_scatter.png\"): Objekt 'res' nicht gefunden\n",
     "output_type": "error",
     "traceback": [
      "Error in widget2png(p = plot_1992, file = \"plot_scatter.png\"): Objekt 'res' nicht gefunden\nTraceback:\n",
      "1. widget2png(p = plot_1992, file = \"plot_scatter.png\")"
     ]
    }
   ],
   "source": []
  },
  {
   "cell_type": "code",
   "execution_count": 9,
   "metadata": {},
   "outputs": [
    {
     "name": "stderr",
     "output_type": "stream",
     "text": [
      "Please visit this page to install phantomjs on your system: http://phantomjs.org/download.html\n"
     ]
    }
   ],
   "source": [
    "\n"
   ]
  },
  {
   "cell_type": "code",
   "execution_count": 24,
   "metadata": {},
   "outputs": [
    {
     "ename": "ERROR",
     "evalue": "Error in as.list.environment(environment()): Objekt 'data_countries' nicht gefunden\n",
     "output_type": "error",
     "traceback": [
      "Error in as.list.environment(environment()): Objekt 'data_countries' nicht gefunden\nTraceback:\n",
      "1. figure(data = data_countries) %>% ly_lines(x = year, y = gdpPercap, \n .     color = country) %>% ly_points(x = year, y = gdpPercap, color = country)",
      "2. eval(lhs, parent, parent)",
      "3. eval(lhs, parent, parent)",
      "4. figure(data = data_countries)",
      "5. as.list(environment())",
      "6. as.list.environment(environment())"
     ]
    }
   ],
   "source": [
    "figure(data = data_countries) %>% \n",
    "  ly_lines(x = year, y = gdpPercap , color = country) %>%\n",
    "  ly_points(x = year, y = gdpPercap, color = country)"
   ]
  },
  {
   "cell_type": "code",
   "execution_count": null,
   "metadata": {},
   "outputs": [],
   "source": []
  }
 ],
 "metadata": {
  "kernelspec": {
   "display_name": "R",
   "language": "R",
   "name": "ir"
  },
  "language_info": {
   "codemirror_mode": "r",
   "file_extension": ".r",
   "mimetype": "text/x-r-source",
   "name": "R",
   "pygments_lexer": "r",
   "version": "3.5.1"
  }
 },
 "nbformat": 4,
 "nbformat_minor": 2
}

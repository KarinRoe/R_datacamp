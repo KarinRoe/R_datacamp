{
 "cells": [
  {
   "cell_type": "code",
   "execution_count": 1,
   "metadata": {},
   "outputs": [
    {
     "name": "stderr",
     "output_type": "stream",
     "text": [
      "\n",
      "Attaching package: 'dplyr'\n",
      "\n",
      "The following objects are masked from 'package:stats':\n",
      "\n",
      "    filter, lag\n",
      "\n",
      "The following objects are masked from 'package:base':\n",
      "\n",
      "    intersect, setdiff, setequal, union\n",
      "\n"
     ]
    }
   ],
   "source": [
    "library(gapminder)\n",
    "library(dplyr)\n",
    "library(ggplot2)"
   ]
  },
  {
   "cell_type": "markdown",
   "metadata": {},
   "source": [
    "## Arrange and filter\n",
    "You use arrange() to sort observations in ascending or descending order of a particular variable\n",
    "<br>You use filter() to filter observations with logical operator"
   ]
  },
  {
   "cell_type": "code",
   "execution_count": 2,
   "metadata": {},
   "outputs": [
    {
     "data": {
      "text/html": [
       "<table>\n",
       "<thead><tr><th scope=col>country</th><th scope=col>continent</th><th scope=col>year</th><th scope=col>lifeExp</th><th scope=col>pop</th><th scope=col>gdpPercap</th></tr></thead>\n",
       "<tbody>\n",
       "\t<tr><td>Rwanda           </td><td>Africa           </td><td>1992             </td><td>23.599           </td><td> 7290203         </td><td> 737.0686        </td></tr>\n",
       "\t<tr><td>Afghanistan      </td><td>Asia             </td><td>1952             </td><td>28.801           </td><td> 8425333         </td><td> 779.4453        </td></tr>\n",
       "\t<tr><td>Gambia           </td><td>Africa           </td><td>1952             </td><td>30.000           </td><td>  284320         </td><td> 485.2307        </td></tr>\n",
       "\t<tr><td>Angola           </td><td>Africa           </td><td>1952             </td><td>30.015           </td><td> 4232095         </td><td>3520.6103        </td></tr>\n",
       "\t<tr><td>Sierra Leone     </td><td>Africa           </td><td>1952             </td><td>30.331           </td><td> 2143249         </td><td> 879.7877        </td></tr>\n",
       "\t<tr><td>Afghanistan      </td><td>Asia             </td><td>1957             </td><td>30.332           </td><td> 9240934         </td><td> 820.8530        </td></tr>\n",
       "\t<tr><td>Cambodia         </td><td>Asia             </td><td>1977             </td><td>31.220           </td><td> 6978607         </td><td> 524.9722        </td></tr>\n",
       "\t<tr><td>Mozambique       </td><td>Africa           </td><td>1952             </td><td>31.286           </td><td> 6446316         </td><td> 468.5260        </td></tr>\n",
       "\t<tr><td>Sierra Leone     </td><td>Africa           </td><td>1957             </td><td>31.570           </td><td> 2295678         </td><td>1004.4844        </td></tr>\n",
       "\t<tr><td>Burkina Faso     </td><td>Africa           </td><td>1952             </td><td>31.975           </td><td> 4469979         </td><td> 543.2552        </td></tr>\n",
       "\t<tr><td>Afghanistan      </td><td>Asia             </td><td>1962             </td><td>31.997           </td><td>10267083         </td><td> 853.1007        </td></tr>\n",
       "\t<tr><td>Angola           </td><td>Africa           </td><td>1957             </td><td>31.999           </td><td> 4561361         </td><td>3827.9405        </td></tr>\n",
       "\t<tr><td>Gambia           </td><td>Africa           </td><td>1957             </td><td>32.065           </td><td>  323150         </td><td> 520.9267        </td></tr>\n",
       "\t<tr><td>Guinea-Bissau    </td><td>Africa           </td><td>1952             </td><td>32.500           </td><td>  580653         </td><td> 299.8503        </td></tr>\n",
       "\t<tr><td>Yemen, Rep.      </td><td>Asia             </td><td>1952             </td><td>32.548           </td><td> 4963829         </td><td> 781.7176        </td></tr>\n",
       "\t<tr><td>Sierra Leone     </td><td>Africa           </td><td>1962             </td><td>32.767           </td><td> 2467895         </td><td>1116.6399        </td></tr>\n",
       "\t<tr><td>Somalia          </td><td>Africa           </td><td>1952             </td><td>32.978           </td><td> 2526994         </td><td>1135.7498        </td></tr>\n",
       "\t<tr><td>Guinea-Bissau    </td><td>Africa           </td><td>1957             </td><td>33.489           </td><td>  601095         </td><td> 431.7905        </td></tr>\n",
       "\t<tr><td>Guinea           </td><td>Africa           </td><td>1952             </td><td>33.609           </td><td> 2664249         </td><td> 510.1965        </td></tr>\n",
       "\t<tr><td>Mali             </td><td>Africa           </td><td>1952             </td><td>33.685           </td><td> 3838168         </td><td> 452.3370        </td></tr>\n",
       "\t<tr><td>Mozambique       </td><td>Africa           </td><td>1957             </td><td>33.779           </td><td> 7038035         </td><td> 495.5868        </td></tr>\n",
       "\t<tr><td>Gambia           </td><td>Africa           </td><td>1962             </td><td>33.896           </td><td>  374020         </td><td> 599.6503        </td></tr>\n",
       "\t<tr><td>Yemen, Rep.      </td><td>Asia             </td><td>1957             </td><td>33.970           </td><td> 5498090         </td><td> 804.8305        </td></tr>\n",
       "\t<tr><td>Angola           </td><td>Africa           </td><td>1962             </td><td>34.000           </td><td> 4826015         </td><td>4269.2767        </td></tr>\n",
       "\t<tr><td>Afghanistan      </td><td>Asia             </td><td>1967             </td><td>34.020           </td><td>11537966         </td><td> 836.1971        </td></tr>\n",
       "\t<tr><td>Ethiopia         </td><td>Africa           </td><td>1952             </td><td>34.078           </td><td>20860941         </td><td> 362.1463        </td></tr>\n",
       "\t<tr><td>Sierra Leone     </td><td>Africa           </td><td>1967             </td><td>34.113           </td><td> 2662190         </td><td>1206.0435        </td></tr>\n",
       "\t<tr><td>Equatorial Guinea</td><td>Africa           </td><td>1952             </td><td>34.482           </td><td>  216964         </td><td> 375.6431        </td></tr>\n",
       "\t<tr><td>Guinea-Bissau    </td><td>Africa           </td><td>1962             </td><td>34.488           </td><td>  627820         </td><td> 522.0344        </td></tr>\n",
       "\t<tr><td>Guinea           </td><td>Africa           </td><td>1957             </td><td>34.558           </td><td> 2876726         </td><td> 576.2670        </td></tr>\n",
       "\t<tr><td>...</td><td>...</td><td>...</td><td>...</td><td>...</td><td>...</td></tr>\n",
       "\t<tr><td>Greece          </td><td>Europe          </td><td>2007            </td><td>79.483          </td><td> 10706290       </td><td>27538.41        </td></tr>\n",
       "\t<tr><td>France          </td><td>Europe          </td><td>2002            </td><td>79.590          </td><td> 59925035       </td><td>28926.03        </td></tr>\n",
       "\t<tr><td>Israel          </td><td>Asia            </td><td>2002            </td><td>79.696          </td><td>  6029529       </td><td>21905.60        </td></tr>\n",
       "\t<tr><td>Netherlands     </td><td>Europe          </td><td>2007            </td><td>79.762          </td><td> 16570613       </td><td>36797.93        </td></tr>\n",
       "\t<tr><td>Canada          </td><td>Americas        </td><td>2002            </td><td>79.770          </td><td> 31902268       </td><td>33328.97        </td></tr>\n",
       "\t<tr><td>Spain           </td><td>Europe          </td><td>2002            </td><td>79.780          </td><td> 40152517       </td><td>24835.47        </td></tr>\n",
       "\t<tr><td>Austria         </td><td>Europe          </td><td>2007            </td><td>79.829          </td><td>  8199783       </td><td>36126.49        </td></tr>\n",
       "\t<tr><td>Singapore       </td><td>Asia            </td><td>2007            </td><td>79.972          </td><td>  4553009       </td><td>47143.18        </td></tr>\n",
       "\t<tr><td>Hong Kong, China</td><td>Asia            </td><td>1997            </td><td>80.000          </td><td>  6495918       </td><td>28377.63        </td></tr>\n",
       "\t<tr><td>Sweden          </td><td>Europe          </td><td>2002            </td><td>80.040          </td><td>  8954175       </td><td>29341.63        </td></tr>\n",
       "\t<tr><td>Norway          </td><td>Europe          </td><td>2007            </td><td>80.196          </td><td>  4627926       </td><td>49357.19        </td></tr>\n",
       "\t<tr><td>New Zealand     </td><td>Oceania         </td><td>2007            </td><td>80.204          </td><td>  4115771       </td><td>25185.01        </td></tr>\n",
       "\t<tr><td>Italy           </td><td>Europe          </td><td>2002            </td><td>80.240          </td><td> 57926999       </td><td>27968.10        </td></tr>\n",
       "\t<tr><td>Australia       </td><td>Oceania         </td><td>2002            </td><td>80.370          </td><td> 19546792       </td><td>30687.75        </td></tr>\n",
       "\t<tr><td>Iceland         </td><td>Europe          </td><td>2002            </td><td>80.500          </td><td>   288030       </td><td>31163.20        </td></tr>\n",
       "\t<tr><td>Italy           </td><td>Europe          </td><td>2007            </td><td>80.546          </td><td> 58147733       </td><td>28569.72        </td></tr>\n",
       "\t<tr><td>Switzerland     </td><td>Europe          </td><td>2002            </td><td>80.620          </td><td>  7361757       </td><td>34480.96        </td></tr>\n",
       "\t<tr><td>Canada          </td><td>Americas        </td><td>2007            </td><td>80.653          </td><td> 33390141       </td><td>36319.24        </td></tr>\n",
       "\t<tr><td>France          </td><td>Europe          </td><td>2007            </td><td>80.657          </td><td> 61083916       </td><td>30470.02        </td></tr>\n",
       "\t<tr><td>Japan           </td><td>Asia            </td><td>1997            </td><td>80.690          </td><td>125956499       </td><td>28816.58        </td></tr>\n",
       "\t<tr><td>Israel          </td><td>Asia            </td><td>2007            </td><td>80.745          </td><td>  6426679       </td><td>25523.28        </td></tr>\n",
       "\t<tr><td>Sweden          </td><td>Europe          </td><td>2007            </td><td>80.884          </td><td>  9031088       </td><td>33859.75        </td></tr>\n",
       "\t<tr><td>Spain           </td><td>Europe          </td><td>2007            </td><td>80.941          </td><td> 40448191       </td><td>28821.06        </td></tr>\n",
       "\t<tr><td>Australia       </td><td>Oceania         </td><td>2007            </td><td>81.235          </td><td> 20434176       </td><td>34435.37        </td></tr>\n",
       "\t<tr><td>Hong Kong, China</td><td>Asia            </td><td>2002            </td><td>81.495          </td><td>  6762476       </td><td>30209.02        </td></tr>\n",
       "\t<tr><td>Switzerland     </td><td>Europe          </td><td>2007            </td><td>81.701          </td><td>  7554661       </td><td>37506.42        </td></tr>\n",
       "\t<tr><td>Iceland         </td><td>Europe          </td><td>2007            </td><td>81.757          </td><td>   301931       </td><td>36180.79        </td></tr>\n",
       "\t<tr><td>Japan           </td><td>Asia            </td><td>2002            </td><td>82.000          </td><td>127065841       </td><td>28604.59        </td></tr>\n",
       "\t<tr><td>Hong Kong, China</td><td>Asia            </td><td>2007            </td><td>82.208          </td><td>  6980412       </td><td>39724.98        </td></tr>\n",
       "\t<tr><td>Japan           </td><td>Asia            </td><td>2007            </td><td>82.603          </td><td>127467972       </td><td>31656.07        </td></tr>\n",
       "</tbody>\n",
       "</table>\n"
      ],
      "text/latex": [
       "\\begin{tabular}{r|llllll}\n",
       " country & continent & year & lifeExp & pop & gdpPercap\\\\\n",
       "\\hline\n",
       "\t Rwanda            & Africa            & 1992              & 23.599            &  7290203          &  737.0686        \\\\\n",
       "\t Afghanistan       & Asia              & 1952              & 28.801            &  8425333          &  779.4453        \\\\\n",
       "\t Gambia            & Africa            & 1952              & 30.000            &   284320          &  485.2307        \\\\\n",
       "\t Angola            & Africa            & 1952              & 30.015            &  4232095          & 3520.6103        \\\\\n",
       "\t Sierra Leone      & Africa            & 1952              & 30.331            &  2143249          &  879.7877        \\\\\n",
       "\t Afghanistan       & Asia              & 1957              & 30.332            &  9240934          &  820.8530        \\\\\n",
       "\t Cambodia          & Asia              & 1977              & 31.220            &  6978607          &  524.9722        \\\\\n",
       "\t Mozambique        & Africa            & 1952              & 31.286            &  6446316          &  468.5260        \\\\\n",
       "\t Sierra Leone      & Africa            & 1957              & 31.570            &  2295678          & 1004.4844        \\\\\n",
       "\t Burkina Faso      & Africa            & 1952              & 31.975            &  4469979          &  543.2552        \\\\\n",
       "\t Afghanistan       & Asia              & 1962              & 31.997            & 10267083          &  853.1007        \\\\\n",
       "\t Angola            & Africa            & 1957              & 31.999            &  4561361          & 3827.9405        \\\\\n",
       "\t Gambia            & Africa            & 1957              & 32.065            &   323150          &  520.9267        \\\\\n",
       "\t Guinea-Bissau     & Africa            & 1952              & 32.500            &   580653          &  299.8503        \\\\\n",
       "\t Yemen, Rep.       & Asia              & 1952              & 32.548            &  4963829          &  781.7176        \\\\\n",
       "\t Sierra Leone      & Africa            & 1962              & 32.767            &  2467895          & 1116.6399        \\\\\n",
       "\t Somalia           & Africa            & 1952              & 32.978            &  2526994          & 1135.7498        \\\\\n",
       "\t Guinea-Bissau     & Africa            & 1957              & 33.489            &   601095          &  431.7905        \\\\\n",
       "\t Guinea            & Africa            & 1952              & 33.609            &  2664249          &  510.1965        \\\\\n",
       "\t Mali              & Africa            & 1952              & 33.685            &  3838168          &  452.3370        \\\\\n",
       "\t Mozambique        & Africa            & 1957              & 33.779            &  7038035          &  495.5868        \\\\\n",
       "\t Gambia            & Africa            & 1962              & 33.896            &   374020          &  599.6503        \\\\\n",
       "\t Yemen, Rep.       & Asia              & 1957              & 33.970            &  5498090          &  804.8305        \\\\\n",
       "\t Angola            & Africa            & 1962              & 34.000            &  4826015          & 4269.2767        \\\\\n",
       "\t Afghanistan       & Asia              & 1967              & 34.020            & 11537966          &  836.1971        \\\\\n",
       "\t Ethiopia          & Africa            & 1952              & 34.078            & 20860941          &  362.1463        \\\\\n",
       "\t Sierra Leone      & Africa            & 1967              & 34.113            &  2662190          & 1206.0435        \\\\\n",
       "\t Equatorial Guinea & Africa            & 1952              & 34.482            &   216964          &  375.6431        \\\\\n",
       "\t Guinea-Bissau     & Africa            & 1962              & 34.488            &   627820          &  522.0344        \\\\\n",
       "\t Guinea            & Africa            & 1957              & 34.558            &  2876726          &  576.2670        \\\\\n",
       "\t ... & ... & ... & ... & ... & ...\\\\\n",
       "\t Greece           & Europe           & 2007             & 79.483           &  10706290        & 27538.41        \\\\\n",
       "\t France           & Europe           & 2002             & 79.590           &  59925035        & 28926.03        \\\\\n",
       "\t Israel           & Asia             & 2002             & 79.696           &   6029529        & 21905.60        \\\\\n",
       "\t Netherlands      & Europe           & 2007             & 79.762           &  16570613        & 36797.93        \\\\\n",
       "\t Canada           & Americas         & 2002             & 79.770           &  31902268        & 33328.97        \\\\\n",
       "\t Spain            & Europe           & 2002             & 79.780           &  40152517        & 24835.47        \\\\\n",
       "\t Austria          & Europe           & 2007             & 79.829           &   8199783        & 36126.49        \\\\\n",
       "\t Singapore        & Asia             & 2007             & 79.972           &   4553009        & 47143.18        \\\\\n",
       "\t Hong Kong, China & Asia             & 1997             & 80.000           &   6495918        & 28377.63        \\\\\n",
       "\t Sweden           & Europe           & 2002             & 80.040           &   8954175        & 29341.63        \\\\\n",
       "\t Norway           & Europe           & 2007             & 80.196           &   4627926        & 49357.19        \\\\\n",
       "\t New Zealand      & Oceania          & 2007             & 80.204           &   4115771        & 25185.01        \\\\\n",
       "\t Italy            & Europe           & 2002             & 80.240           &  57926999        & 27968.10        \\\\\n",
       "\t Australia        & Oceania          & 2002             & 80.370           &  19546792        & 30687.75        \\\\\n",
       "\t Iceland          & Europe           & 2002             & 80.500           &    288030        & 31163.20        \\\\\n",
       "\t Italy            & Europe           & 2007             & 80.546           &  58147733        & 28569.72        \\\\\n",
       "\t Switzerland      & Europe           & 2002             & 80.620           &   7361757        & 34480.96        \\\\\n",
       "\t Canada           & Americas         & 2007             & 80.653           &  33390141        & 36319.24        \\\\\n",
       "\t France           & Europe           & 2007             & 80.657           &  61083916        & 30470.02        \\\\\n",
       "\t Japan            & Asia             & 1997             & 80.690           & 125956499        & 28816.58        \\\\\n",
       "\t Israel           & Asia             & 2007             & 80.745           &   6426679        & 25523.28        \\\\\n",
       "\t Sweden           & Europe           & 2007             & 80.884           &   9031088        & 33859.75        \\\\\n",
       "\t Spain            & Europe           & 2007             & 80.941           &  40448191        & 28821.06        \\\\\n",
       "\t Australia        & Oceania          & 2007             & 81.235           &  20434176        & 34435.37        \\\\\n",
       "\t Hong Kong, China & Asia             & 2002             & 81.495           &   6762476        & 30209.02        \\\\\n",
       "\t Switzerland      & Europe           & 2007             & 81.701           &   7554661        & 37506.42        \\\\\n",
       "\t Iceland          & Europe           & 2007             & 81.757           &    301931        & 36180.79        \\\\\n",
       "\t Japan            & Asia             & 2002             & 82.000           & 127065841        & 28604.59        \\\\\n",
       "\t Hong Kong, China & Asia             & 2007             & 82.208           &   6980412        & 39724.98        \\\\\n",
       "\t Japan            & Asia             & 2007             & 82.603           & 127467972        & 31656.07        \\\\\n",
       "\\end{tabular}\n"
      ],
      "text/markdown": [
       "\n",
       "country | continent | year | lifeExp | pop | gdpPercap | \n",
       "|---|---|---|---|---|---|---|---|---|---|---|---|---|---|---|---|---|---|---|---|---|---|---|---|---|---|---|---|---|---|---|---|---|---|---|---|---|---|---|---|---|---|---|---|---|---|---|---|---|---|---|---|---|---|---|---|---|---|---|---|---|\n",
       "| Rwanda            | Africa            | 1992              | 23.599            |  7290203          |  737.0686         | \n",
       "| Afghanistan       | Asia              | 1952              | 28.801            |  8425333          |  779.4453         | \n",
       "| Gambia            | Africa            | 1952              | 30.000            |   284320          |  485.2307         | \n",
       "| Angola            | Africa            | 1952              | 30.015            |  4232095          | 3520.6103         | \n",
       "| Sierra Leone      | Africa            | 1952              | 30.331            |  2143249          |  879.7877         | \n",
       "| Afghanistan       | Asia              | 1957              | 30.332            |  9240934          |  820.8530         | \n",
       "| Cambodia          | Asia              | 1977              | 31.220            |  6978607          |  524.9722         | \n",
       "| Mozambique        | Africa            | 1952              | 31.286            |  6446316          |  468.5260         | \n",
       "| Sierra Leone      | Africa            | 1957              | 31.570            |  2295678          | 1004.4844         | \n",
       "| Burkina Faso      | Africa            | 1952              | 31.975            |  4469979          |  543.2552         | \n",
       "| Afghanistan       | Asia              | 1962              | 31.997            | 10267083          |  853.1007         | \n",
       "| Angola            | Africa            | 1957              | 31.999            |  4561361          | 3827.9405         | \n",
       "| Gambia            | Africa            | 1957              | 32.065            |   323150          |  520.9267         | \n",
       "| Guinea-Bissau     | Africa            | 1952              | 32.500            |   580653          |  299.8503         | \n",
       "| Yemen, Rep.       | Asia              | 1952              | 32.548            |  4963829          |  781.7176         | \n",
       "| Sierra Leone      | Africa            | 1962              | 32.767            |  2467895          | 1116.6399         | \n",
       "| Somalia           | Africa            | 1952              | 32.978            |  2526994          | 1135.7498         | \n",
       "| Guinea-Bissau     | Africa            | 1957              | 33.489            |   601095          |  431.7905         | \n",
       "| Guinea            | Africa            | 1952              | 33.609            |  2664249          |  510.1965         | \n",
       "| Mali              | Africa            | 1952              | 33.685            |  3838168          |  452.3370         | \n",
       "| Mozambique        | Africa            | 1957              | 33.779            |  7038035          |  495.5868         | \n",
       "| Gambia            | Africa            | 1962              | 33.896            |   374020          |  599.6503         | \n",
       "| Yemen, Rep.       | Asia              | 1957              | 33.970            |  5498090          |  804.8305         | \n",
       "| Angola            | Africa            | 1962              | 34.000            |  4826015          | 4269.2767         | \n",
       "| Afghanistan       | Asia              | 1967              | 34.020            | 11537966          |  836.1971         | \n",
       "| Ethiopia          | Africa            | 1952              | 34.078            | 20860941          |  362.1463         | \n",
       "| Sierra Leone      | Africa            | 1967              | 34.113            |  2662190          | 1206.0435         | \n",
       "| Equatorial Guinea | Africa            | 1952              | 34.482            |   216964          |  375.6431         | \n",
       "| Guinea-Bissau     | Africa            | 1962              | 34.488            |   627820          |  522.0344         | \n",
       "| Guinea            | Africa            | 1957              | 34.558            |  2876726          |  576.2670         | \n",
       "| ... | ... | ... | ... | ... | ... | \n",
       "| Greece           | Europe           | 2007             | 79.483           |  10706290        | 27538.41         | \n",
       "| France           | Europe           | 2002             | 79.590           |  59925035        | 28926.03         | \n",
       "| Israel           | Asia             | 2002             | 79.696           |   6029529        | 21905.60         | \n",
       "| Netherlands      | Europe           | 2007             | 79.762           |  16570613        | 36797.93         | \n",
       "| Canada           | Americas         | 2002             | 79.770           |  31902268        | 33328.97         | \n",
       "| Spain            | Europe           | 2002             | 79.780           |  40152517        | 24835.47         | \n",
       "| Austria          | Europe           | 2007             | 79.829           |   8199783        | 36126.49         | \n",
       "| Singapore        | Asia             | 2007             | 79.972           |   4553009        | 47143.18         | \n",
       "| Hong Kong, China | Asia             | 1997             | 80.000           |   6495918        | 28377.63         | \n",
       "| Sweden           | Europe           | 2002             | 80.040           |   8954175        | 29341.63         | \n",
       "| Norway           | Europe           | 2007             | 80.196           |   4627926        | 49357.19         | \n",
       "| New Zealand      | Oceania          | 2007             | 80.204           |   4115771        | 25185.01         | \n",
       "| Italy            | Europe           | 2002             | 80.240           |  57926999        | 27968.10         | \n",
       "| Australia        | Oceania          | 2002             | 80.370           |  19546792        | 30687.75         | \n",
       "| Iceland          | Europe           | 2002             | 80.500           |    288030        | 31163.20         | \n",
       "| Italy            | Europe           | 2007             | 80.546           |  58147733        | 28569.72         | \n",
       "| Switzerland      | Europe           | 2002             | 80.620           |   7361757        | 34480.96         | \n",
       "| Canada           | Americas         | 2007             | 80.653           |  33390141        | 36319.24         | \n",
       "| France           | Europe           | 2007             | 80.657           |  61083916        | 30470.02         | \n",
       "| Japan            | Asia             | 1997             | 80.690           | 125956499        | 28816.58         | \n",
       "| Israel           | Asia             | 2007             | 80.745           |   6426679        | 25523.28         | \n",
       "| Sweden           | Europe           | 2007             | 80.884           |   9031088        | 33859.75         | \n",
       "| Spain            | Europe           | 2007             | 80.941           |  40448191        | 28821.06         | \n",
       "| Australia        | Oceania          | 2007             | 81.235           |  20434176        | 34435.37         | \n",
       "| Hong Kong, China | Asia             | 2002             | 81.495           |   6762476        | 30209.02         | \n",
       "| Switzerland      | Europe           | 2007             | 81.701           |   7554661        | 37506.42         | \n",
       "| Iceland          | Europe           | 2007             | 81.757           |    301931        | 36180.79         | \n",
       "| Japan            | Asia             | 2002             | 82.000           | 127065841        | 28604.59         | \n",
       "| Hong Kong, China | Asia             | 2007             | 82.208           |   6980412        | 39724.98         | \n",
       "| Japan            | Asia             | 2007             | 82.603           | 127467972        | 31656.07         | \n",
       "\n",
       "\n"
      ],
      "text/plain": [
       "     country           continent year lifeExp pop       gdpPercap\n",
       "1    Rwanda            Africa    1992 23.599   7290203   737.0686\n",
       "2    Afghanistan       Asia      1952 28.801   8425333   779.4453\n",
       "3    Gambia            Africa    1952 30.000    284320   485.2307\n",
       "4    Angola            Africa    1952 30.015   4232095  3520.6103\n",
       "5    Sierra Leone      Africa    1952 30.331   2143249   879.7877\n",
       "6    Afghanistan       Asia      1957 30.332   9240934   820.8530\n",
       "7    Cambodia          Asia      1977 31.220   6978607   524.9722\n",
       "8    Mozambique        Africa    1952 31.286   6446316   468.5260\n",
       "9    Sierra Leone      Africa    1957 31.570   2295678  1004.4844\n",
       "10   Burkina Faso      Africa    1952 31.975   4469979   543.2552\n",
       "11   Afghanistan       Asia      1962 31.997  10267083   853.1007\n",
       "12   Angola            Africa    1957 31.999   4561361  3827.9405\n",
       "13   Gambia            Africa    1957 32.065    323150   520.9267\n",
       "14   Guinea-Bissau     Africa    1952 32.500    580653   299.8503\n",
       "15   Yemen, Rep.       Asia      1952 32.548   4963829   781.7176\n",
       "16   Sierra Leone      Africa    1962 32.767   2467895  1116.6399\n",
       "17   Somalia           Africa    1952 32.978   2526994  1135.7498\n",
       "18   Guinea-Bissau     Africa    1957 33.489    601095   431.7905\n",
       "19   Guinea            Africa    1952 33.609   2664249   510.1965\n",
       "20   Mali              Africa    1952 33.685   3838168   452.3370\n",
       "21   Mozambique        Africa    1957 33.779   7038035   495.5868\n",
       "22   Gambia            Africa    1962 33.896    374020   599.6503\n",
       "23   Yemen, Rep.       Asia      1957 33.970   5498090   804.8305\n",
       "24   Angola            Africa    1962 34.000   4826015  4269.2767\n",
       "25   Afghanistan       Asia      1967 34.020  11537966   836.1971\n",
       "26   Ethiopia          Africa    1952 34.078  20860941   362.1463\n",
       "27   Sierra Leone      Africa    1967 34.113   2662190  1206.0435\n",
       "28   Equatorial Guinea Africa    1952 34.482    216964   375.6431\n",
       "29   Guinea-Bissau     Africa    1962 34.488    627820   522.0344\n",
       "30   Guinea            Africa    1957 34.558   2876726   576.2670\n",
       "...  ...               ...       ...  ...     ...       ...      \n",
       "1675 Greece            Europe    2007 79.483   10706290 27538.41 \n",
       "1676 France            Europe    2002 79.590   59925035 28926.03 \n",
       "1677 Israel            Asia      2002 79.696    6029529 21905.60 \n",
       "1678 Netherlands       Europe    2007 79.762   16570613 36797.93 \n",
       "1679 Canada            Americas  2002 79.770   31902268 33328.97 \n",
       "1680 Spain             Europe    2002 79.780   40152517 24835.47 \n",
       "1681 Austria           Europe    2007 79.829    8199783 36126.49 \n",
       "1682 Singapore         Asia      2007 79.972    4553009 47143.18 \n",
       "1683 Hong Kong, China  Asia      1997 80.000    6495918 28377.63 \n",
       "1684 Sweden            Europe    2002 80.040    8954175 29341.63 \n",
       "1685 Norway            Europe    2007 80.196    4627926 49357.19 \n",
       "1686 New Zealand       Oceania   2007 80.204    4115771 25185.01 \n",
       "1687 Italy             Europe    2002 80.240   57926999 27968.10 \n",
       "1688 Australia         Oceania   2002 80.370   19546792 30687.75 \n",
       "1689 Iceland           Europe    2002 80.500     288030 31163.20 \n",
       "1690 Italy             Europe    2007 80.546   58147733 28569.72 \n",
       "1691 Switzerland       Europe    2002 80.620    7361757 34480.96 \n",
       "1692 Canada            Americas  2007 80.653   33390141 36319.24 \n",
       "1693 France            Europe    2007 80.657   61083916 30470.02 \n",
       "1694 Japan             Asia      1997 80.690  125956499 28816.58 \n",
       "1695 Israel            Asia      2007 80.745    6426679 25523.28 \n",
       "1696 Sweden            Europe    2007 80.884    9031088 33859.75 \n",
       "1697 Spain             Europe    2007 80.941   40448191 28821.06 \n",
       "1698 Australia         Oceania   2007 81.235   20434176 34435.37 \n",
       "1699 Hong Kong, China  Asia      2002 81.495    6762476 30209.02 \n",
       "1700 Switzerland       Europe    2007 81.701    7554661 37506.42 \n",
       "1701 Iceland           Europe    2007 81.757     301931 36180.79 \n",
       "1702 Japan             Asia      2002 82.000  127065841 28604.59 \n",
       "1703 Hong Kong, China  Asia      2007 82.208    6980412 39724.98 \n",
       "1704 Japan             Asia      2007 82.603  127467972 31656.07 "
      ]
     },
     "metadata": {},
     "output_type": "display_data"
    },
    {
     "data": {
      "text/html": [
       "<table>\n",
       "<thead><tr><th scope=col>country</th><th scope=col>continent</th><th scope=col>year</th><th scope=col>lifeExp</th><th scope=col>pop</th><th scope=col>gdpPercap</th></tr></thead>\n",
       "<tbody>\n",
       "\t<tr><td>Japan           </td><td>Asia            </td><td>2007            </td><td>82.603          </td><td>127467972       </td><td>31656.07        </td></tr>\n",
       "\t<tr><td>Hong Kong, China</td><td>Asia            </td><td>2007            </td><td>82.208          </td><td>  6980412       </td><td>39724.98        </td></tr>\n",
       "\t<tr><td>Japan           </td><td>Asia            </td><td>2002            </td><td>82.000          </td><td>127065841       </td><td>28604.59        </td></tr>\n",
       "\t<tr><td>Iceland         </td><td>Europe          </td><td>2007            </td><td>81.757          </td><td>   301931       </td><td>36180.79        </td></tr>\n",
       "\t<tr><td>Switzerland     </td><td>Europe          </td><td>2007            </td><td>81.701          </td><td>  7554661       </td><td>37506.42        </td></tr>\n",
       "\t<tr><td>Hong Kong, China</td><td>Asia            </td><td>2002            </td><td>81.495          </td><td>  6762476       </td><td>30209.02        </td></tr>\n",
       "\t<tr><td>Australia       </td><td>Oceania         </td><td>2007            </td><td>81.235          </td><td> 20434176       </td><td>34435.37        </td></tr>\n",
       "\t<tr><td>Spain           </td><td>Europe          </td><td>2007            </td><td>80.941          </td><td> 40448191       </td><td>28821.06        </td></tr>\n",
       "\t<tr><td>Sweden          </td><td>Europe          </td><td>2007            </td><td>80.884          </td><td>  9031088       </td><td>33859.75        </td></tr>\n",
       "\t<tr><td>Israel          </td><td>Asia            </td><td>2007            </td><td>80.745          </td><td>  6426679       </td><td>25523.28        </td></tr>\n",
       "\t<tr><td>Japan           </td><td>Asia            </td><td>1997            </td><td>80.690          </td><td>125956499       </td><td>28816.58        </td></tr>\n",
       "\t<tr><td>France          </td><td>Europe          </td><td>2007            </td><td>80.657          </td><td> 61083916       </td><td>30470.02        </td></tr>\n",
       "\t<tr><td>Canada          </td><td>Americas        </td><td>2007            </td><td>80.653          </td><td> 33390141       </td><td>36319.24        </td></tr>\n",
       "\t<tr><td>Switzerland     </td><td>Europe          </td><td>2002            </td><td>80.620          </td><td>  7361757       </td><td>34480.96        </td></tr>\n",
       "\t<tr><td>Italy           </td><td>Europe          </td><td>2007            </td><td>80.546          </td><td> 58147733       </td><td>28569.72        </td></tr>\n",
       "\t<tr><td>Iceland         </td><td>Europe          </td><td>2002            </td><td>80.500          </td><td>   288030       </td><td>31163.20        </td></tr>\n",
       "\t<tr><td>Australia       </td><td>Oceania         </td><td>2002            </td><td>80.370          </td><td> 19546792       </td><td>30687.75        </td></tr>\n",
       "\t<tr><td>Italy           </td><td>Europe          </td><td>2002            </td><td>80.240          </td><td> 57926999       </td><td>27968.10        </td></tr>\n",
       "\t<tr><td>New Zealand     </td><td>Oceania         </td><td>2007            </td><td>80.204          </td><td>  4115771       </td><td>25185.01        </td></tr>\n",
       "\t<tr><td>Norway          </td><td>Europe          </td><td>2007            </td><td>80.196          </td><td>  4627926       </td><td>49357.19        </td></tr>\n",
       "\t<tr><td>Sweden          </td><td>Europe          </td><td>2002            </td><td>80.040          </td><td>  8954175       </td><td>29341.63        </td></tr>\n",
       "\t<tr><td>Hong Kong, China</td><td>Asia            </td><td>1997            </td><td>80.000          </td><td>  6495918       </td><td>28377.63        </td></tr>\n",
       "\t<tr><td>Singapore       </td><td>Asia            </td><td>2007            </td><td>79.972          </td><td>  4553009       </td><td>47143.18        </td></tr>\n",
       "\t<tr><td>Austria         </td><td>Europe          </td><td>2007            </td><td>79.829          </td><td>  8199783       </td><td>36126.49        </td></tr>\n",
       "\t<tr><td>Spain           </td><td>Europe          </td><td>2002            </td><td>79.780          </td><td> 40152517       </td><td>24835.47        </td></tr>\n",
       "\t<tr><td>Canada          </td><td>Americas        </td><td>2002            </td><td>79.770          </td><td> 31902268       </td><td>33328.97        </td></tr>\n",
       "\t<tr><td>Netherlands     </td><td>Europe          </td><td>2007            </td><td>79.762          </td><td> 16570613       </td><td>36797.93        </td></tr>\n",
       "\t<tr><td>Israel          </td><td>Asia            </td><td>2002            </td><td>79.696          </td><td>  6029529       </td><td>21905.60        </td></tr>\n",
       "\t<tr><td>France          </td><td>Europe          </td><td>2002            </td><td>79.590          </td><td> 59925035       </td><td>28926.03        </td></tr>\n",
       "\t<tr><td>Greece          </td><td>Europe          </td><td>2007            </td><td>79.483          </td><td> 10706290       </td><td>27538.41        </td></tr>\n",
       "\t<tr><td>...</td><td>...</td><td>...</td><td>...</td><td>...</td><td>...</td></tr>\n",
       "\t<tr><td>Guinea           </td><td>Africa           </td><td>1957             </td><td>34.558           </td><td> 2876726         </td><td> 576.2670        </td></tr>\n",
       "\t<tr><td>Guinea-Bissau    </td><td>Africa           </td><td>1962             </td><td>34.488           </td><td>  627820         </td><td> 522.0344        </td></tr>\n",
       "\t<tr><td>Equatorial Guinea</td><td>Africa           </td><td>1952             </td><td>34.482           </td><td>  216964         </td><td> 375.6431        </td></tr>\n",
       "\t<tr><td>Sierra Leone     </td><td>Africa           </td><td>1967             </td><td>34.113           </td><td> 2662190         </td><td>1206.0435        </td></tr>\n",
       "\t<tr><td>Ethiopia         </td><td>Africa           </td><td>1952             </td><td>34.078           </td><td>20860941         </td><td> 362.1463        </td></tr>\n",
       "\t<tr><td>Afghanistan      </td><td>Asia             </td><td>1967             </td><td>34.020           </td><td>11537966         </td><td> 836.1971        </td></tr>\n",
       "\t<tr><td>Angola           </td><td>Africa           </td><td>1962             </td><td>34.000           </td><td> 4826015         </td><td>4269.2767        </td></tr>\n",
       "\t<tr><td>Yemen, Rep.      </td><td>Asia             </td><td>1957             </td><td>33.970           </td><td> 5498090         </td><td> 804.8305        </td></tr>\n",
       "\t<tr><td>Gambia           </td><td>Africa           </td><td>1962             </td><td>33.896           </td><td>  374020         </td><td> 599.6503        </td></tr>\n",
       "\t<tr><td>Mozambique       </td><td>Africa           </td><td>1957             </td><td>33.779           </td><td> 7038035         </td><td> 495.5868        </td></tr>\n",
       "\t<tr><td>Mali             </td><td>Africa           </td><td>1952             </td><td>33.685           </td><td> 3838168         </td><td> 452.3370        </td></tr>\n",
       "\t<tr><td>Guinea           </td><td>Africa           </td><td>1952             </td><td>33.609           </td><td> 2664249         </td><td> 510.1965        </td></tr>\n",
       "\t<tr><td>Guinea-Bissau    </td><td>Africa           </td><td>1957             </td><td>33.489           </td><td>  601095         </td><td> 431.7905        </td></tr>\n",
       "\t<tr><td>Somalia          </td><td>Africa           </td><td>1952             </td><td>32.978           </td><td> 2526994         </td><td>1135.7498        </td></tr>\n",
       "\t<tr><td>Sierra Leone     </td><td>Africa           </td><td>1962             </td><td>32.767           </td><td> 2467895         </td><td>1116.6399        </td></tr>\n",
       "\t<tr><td>Yemen, Rep.      </td><td>Asia             </td><td>1952             </td><td>32.548           </td><td> 4963829         </td><td> 781.7176        </td></tr>\n",
       "\t<tr><td>Guinea-Bissau    </td><td>Africa           </td><td>1952             </td><td>32.500           </td><td>  580653         </td><td> 299.8503        </td></tr>\n",
       "\t<tr><td>Gambia           </td><td>Africa           </td><td>1957             </td><td>32.065           </td><td>  323150         </td><td> 520.9267        </td></tr>\n",
       "\t<tr><td>Angola           </td><td>Africa           </td><td>1957             </td><td>31.999           </td><td> 4561361         </td><td>3827.9405        </td></tr>\n",
       "\t<tr><td>Afghanistan      </td><td>Asia             </td><td>1962             </td><td>31.997           </td><td>10267083         </td><td> 853.1007        </td></tr>\n",
       "\t<tr><td>Burkina Faso     </td><td>Africa           </td><td>1952             </td><td>31.975           </td><td> 4469979         </td><td> 543.2552        </td></tr>\n",
       "\t<tr><td>Sierra Leone     </td><td>Africa           </td><td>1957             </td><td>31.570           </td><td> 2295678         </td><td>1004.4844        </td></tr>\n",
       "\t<tr><td>Mozambique       </td><td>Africa           </td><td>1952             </td><td>31.286           </td><td> 6446316         </td><td> 468.5260        </td></tr>\n",
       "\t<tr><td>Cambodia         </td><td>Asia             </td><td>1977             </td><td>31.220           </td><td> 6978607         </td><td> 524.9722        </td></tr>\n",
       "\t<tr><td>Afghanistan      </td><td>Asia             </td><td>1957             </td><td>30.332           </td><td> 9240934         </td><td> 820.8530        </td></tr>\n",
       "\t<tr><td>Sierra Leone     </td><td>Africa           </td><td>1952             </td><td>30.331           </td><td> 2143249         </td><td> 879.7877        </td></tr>\n",
       "\t<tr><td>Angola           </td><td>Africa           </td><td>1952             </td><td>30.015           </td><td> 4232095         </td><td>3520.6103        </td></tr>\n",
       "\t<tr><td>Gambia           </td><td>Africa           </td><td>1952             </td><td>30.000           </td><td>  284320         </td><td> 485.2307        </td></tr>\n",
       "\t<tr><td>Afghanistan      </td><td>Asia             </td><td>1952             </td><td>28.801           </td><td> 8425333         </td><td> 779.4453        </td></tr>\n",
       "\t<tr><td>Rwanda           </td><td>Africa           </td><td>1992             </td><td>23.599           </td><td> 7290203         </td><td> 737.0686        </td></tr>\n",
       "</tbody>\n",
       "</table>\n"
      ],
      "text/latex": [
       "\\begin{tabular}{r|llllll}\n",
       " country & continent & year & lifeExp & pop & gdpPercap\\\\\n",
       "\\hline\n",
       "\t Japan            & Asia             & 2007             & 82.603           & 127467972        & 31656.07        \\\\\n",
       "\t Hong Kong, China & Asia             & 2007             & 82.208           &   6980412        & 39724.98        \\\\\n",
       "\t Japan            & Asia             & 2002             & 82.000           & 127065841        & 28604.59        \\\\\n",
       "\t Iceland          & Europe           & 2007             & 81.757           &    301931        & 36180.79        \\\\\n",
       "\t Switzerland      & Europe           & 2007             & 81.701           &   7554661        & 37506.42        \\\\\n",
       "\t Hong Kong, China & Asia             & 2002             & 81.495           &   6762476        & 30209.02        \\\\\n",
       "\t Australia        & Oceania          & 2007             & 81.235           &  20434176        & 34435.37        \\\\\n",
       "\t Spain            & Europe           & 2007             & 80.941           &  40448191        & 28821.06        \\\\\n",
       "\t Sweden           & Europe           & 2007             & 80.884           &   9031088        & 33859.75        \\\\\n",
       "\t Israel           & Asia             & 2007             & 80.745           &   6426679        & 25523.28        \\\\\n",
       "\t Japan            & Asia             & 1997             & 80.690           & 125956499        & 28816.58        \\\\\n",
       "\t France           & Europe           & 2007             & 80.657           &  61083916        & 30470.02        \\\\\n",
       "\t Canada           & Americas         & 2007             & 80.653           &  33390141        & 36319.24        \\\\\n",
       "\t Switzerland      & Europe           & 2002             & 80.620           &   7361757        & 34480.96        \\\\\n",
       "\t Italy            & Europe           & 2007             & 80.546           &  58147733        & 28569.72        \\\\\n",
       "\t Iceland          & Europe           & 2002             & 80.500           &    288030        & 31163.20        \\\\\n",
       "\t Australia        & Oceania          & 2002             & 80.370           &  19546792        & 30687.75        \\\\\n",
       "\t Italy            & Europe           & 2002             & 80.240           &  57926999        & 27968.10        \\\\\n",
       "\t New Zealand      & Oceania          & 2007             & 80.204           &   4115771        & 25185.01        \\\\\n",
       "\t Norway           & Europe           & 2007             & 80.196           &   4627926        & 49357.19        \\\\\n",
       "\t Sweden           & Europe           & 2002             & 80.040           &   8954175        & 29341.63        \\\\\n",
       "\t Hong Kong, China & Asia             & 1997             & 80.000           &   6495918        & 28377.63        \\\\\n",
       "\t Singapore        & Asia             & 2007             & 79.972           &   4553009        & 47143.18        \\\\\n",
       "\t Austria          & Europe           & 2007             & 79.829           &   8199783        & 36126.49        \\\\\n",
       "\t Spain            & Europe           & 2002             & 79.780           &  40152517        & 24835.47        \\\\\n",
       "\t Canada           & Americas         & 2002             & 79.770           &  31902268        & 33328.97        \\\\\n",
       "\t Netherlands      & Europe           & 2007             & 79.762           &  16570613        & 36797.93        \\\\\n",
       "\t Israel           & Asia             & 2002             & 79.696           &   6029529        & 21905.60        \\\\\n",
       "\t France           & Europe           & 2002             & 79.590           &  59925035        & 28926.03        \\\\\n",
       "\t Greece           & Europe           & 2007             & 79.483           &  10706290        & 27538.41        \\\\\n",
       "\t ... & ... & ... & ... & ... & ...\\\\\n",
       "\t Guinea            & Africa            & 1957              & 34.558            &  2876726          &  576.2670        \\\\\n",
       "\t Guinea-Bissau     & Africa            & 1962              & 34.488            &   627820          &  522.0344        \\\\\n",
       "\t Equatorial Guinea & Africa            & 1952              & 34.482            &   216964          &  375.6431        \\\\\n",
       "\t Sierra Leone      & Africa            & 1967              & 34.113            &  2662190          & 1206.0435        \\\\\n",
       "\t Ethiopia          & Africa            & 1952              & 34.078            & 20860941          &  362.1463        \\\\\n",
       "\t Afghanistan       & Asia              & 1967              & 34.020            & 11537966          &  836.1971        \\\\\n",
       "\t Angola            & Africa            & 1962              & 34.000            &  4826015          & 4269.2767        \\\\\n",
       "\t Yemen, Rep.       & Asia              & 1957              & 33.970            &  5498090          &  804.8305        \\\\\n",
       "\t Gambia            & Africa            & 1962              & 33.896            &   374020          &  599.6503        \\\\\n",
       "\t Mozambique        & Africa            & 1957              & 33.779            &  7038035          &  495.5868        \\\\\n",
       "\t Mali              & Africa            & 1952              & 33.685            &  3838168          &  452.3370        \\\\\n",
       "\t Guinea            & Africa            & 1952              & 33.609            &  2664249          &  510.1965        \\\\\n",
       "\t Guinea-Bissau     & Africa            & 1957              & 33.489            &   601095          &  431.7905        \\\\\n",
       "\t Somalia           & Africa            & 1952              & 32.978            &  2526994          & 1135.7498        \\\\\n",
       "\t Sierra Leone      & Africa            & 1962              & 32.767            &  2467895          & 1116.6399        \\\\\n",
       "\t Yemen, Rep.       & Asia              & 1952              & 32.548            &  4963829          &  781.7176        \\\\\n",
       "\t Guinea-Bissau     & Africa            & 1952              & 32.500            &   580653          &  299.8503        \\\\\n",
       "\t Gambia            & Africa            & 1957              & 32.065            &   323150          &  520.9267        \\\\\n",
       "\t Angola            & Africa            & 1957              & 31.999            &  4561361          & 3827.9405        \\\\\n",
       "\t Afghanistan       & Asia              & 1962              & 31.997            & 10267083          &  853.1007        \\\\\n",
       "\t Burkina Faso      & Africa            & 1952              & 31.975            &  4469979          &  543.2552        \\\\\n",
       "\t Sierra Leone      & Africa            & 1957              & 31.570            &  2295678          & 1004.4844        \\\\\n",
       "\t Mozambique        & Africa            & 1952              & 31.286            &  6446316          &  468.5260        \\\\\n",
       "\t Cambodia          & Asia              & 1977              & 31.220            &  6978607          &  524.9722        \\\\\n",
       "\t Afghanistan       & Asia              & 1957              & 30.332            &  9240934          &  820.8530        \\\\\n",
       "\t Sierra Leone      & Africa            & 1952              & 30.331            &  2143249          &  879.7877        \\\\\n",
       "\t Angola            & Africa            & 1952              & 30.015            &  4232095          & 3520.6103        \\\\\n",
       "\t Gambia            & Africa            & 1952              & 30.000            &   284320          &  485.2307        \\\\\n",
       "\t Afghanistan       & Asia              & 1952              & 28.801            &  8425333          &  779.4453        \\\\\n",
       "\t Rwanda            & Africa            & 1992              & 23.599            &  7290203          &  737.0686        \\\\\n",
       "\\end{tabular}\n"
      ],
      "text/markdown": [
       "\n",
       "country | continent | year | lifeExp | pop | gdpPercap | \n",
       "|---|---|---|---|---|---|---|---|---|---|---|---|---|---|---|---|---|---|---|---|---|---|---|---|---|---|---|---|---|---|---|---|---|---|---|---|---|---|---|---|---|---|---|---|---|---|---|---|---|---|---|---|---|---|---|---|---|---|---|---|---|\n",
       "| Japan            | Asia             | 2007             | 82.603           | 127467972        | 31656.07         | \n",
       "| Hong Kong, China | Asia             | 2007             | 82.208           |   6980412        | 39724.98         | \n",
       "| Japan            | Asia             | 2002             | 82.000           | 127065841        | 28604.59         | \n",
       "| Iceland          | Europe           | 2007             | 81.757           |    301931        | 36180.79         | \n",
       "| Switzerland      | Europe           | 2007             | 81.701           |   7554661        | 37506.42         | \n",
       "| Hong Kong, China | Asia             | 2002             | 81.495           |   6762476        | 30209.02         | \n",
       "| Australia        | Oceania          | 2007             | 81.235           |  20434176        | 34435.37         | \n",
       "| Spain            | Europe           | 2007             | 80.941           |  40448191        | 28821.06         | \n",
       "| Sweden           | Europe           | 2007             | 80.884           |   9031088        | 33859.75         | \n",
       "| Israel           | Asia             | 2007             | 80.745           |   6426679        | 25523.28         | \n",
       "| Japan            | Asia             | 1997             | 80.690           | 125956499        | 28816.58         | \n",
       "| France           | Europe           | 2007             | 80.657           |  61083916        | 30470.02         | \n",
       "| Canada           | Americas         | 2007             | 80.653           |  33390141        | 36319.24         | \n",
       "| Switzerland      | Europe           | 2002             | 80.620           |   7361757        | 34480.96         | \n",
       "| Italy            | Europe           | 2007             | 80.546           |  58147733        | 28569.72         | \n",
       "| Iceland          | Europe           | 2002             | 80.500           |    288030        | 31163.20         | \n",
       "| Australia        | Oceania          | 2002             | 80.370           |  19546792        | 30687.75         | \n",
       "| Italy            | Europe           | 2002             | 80.240           |  57926999        | 27968.10         | \n",
       "| New Zealand      | Oceania          | 2007             | 80.204           |   4115771        | 25185.01         | \n",
       "| Norway           | Europe           | 2007             | 80.196           |   4627926        | 49357.19         | \n",
       "| Sweden           | Europe           | 2002             | 80.040           |   8954175        | 29341.63         | \n",
       "| Hong Kong, China | Asia             | 1997             | 80.000           |   6495918        | 28377.63         | \n",
       "| Singapore        | Asia             | 2007             | 79.972           |   4553009        | 47143.18         | \n",
       "| Austria          | Europe           | 2007             | 79.829           |   8199783        | 36126.49         | \n",
       "| Spain            | Europe           | 2002             | 79.780           |  40152517        | 24835.47         | \n",
       "| Canada           | Americas         | 2002             | 79.770           |  31902268        | 33328.97         | \n",
       "| Netherlands      | Europe           | 2007             | 79.762           |  16570613        | 36797.93         | \n",
       "| Israel           | Asia             | 2002             | 79.696           |   6029529        | 21905.60         | \n",
       "| France           | Europe           | 2002             | 79.590           |  59925035        | 28926.03         | \n",
       "| Greece           | Europe           | 2007             | 79.483           |  10706290        | 27538.41         | \n",
       "| ... | ... | ... | ... | ... | ... | \n",
       "| Guinea            | Africa            | 1957              | 34.558            |  2876726          |  576.2670         | \n",
       "| Guinea-Bissau     | Africa            | 1962              | 34.488            |   627820          |  522.0344         | \n",
       "| Equatorial Guinea | Africa            | 1952              | 34.482            |   216964          |  375.6431         | \n",
       "| Sierra Leone      | Africa            | 1967              | 34.113            |  2662190          | 1206.0435         | \n",
       "| Ethiopia          | Africa            | 1952              | 34.078            | 20860941          |  362.1463         | \n",
       "| Afghanistan       | Asia              | 1967              | 34.020            | 11537966          |  836.1971         | \n",
       "| Angola            | Africa            | 1962              | 34.000            |  4826015          | 4269.2767         | \n",
       "| Yemen, Rep.       | Asia              | 1957              | 33.970            |  5498090          |  804.8305         | \n",
       "| Gambia            | Africa            | 1962              | 33.896            |   374020          |  599.6503         | \n",
       "| Mozambique        | Africa            | 1957              | 33.779            |  7038035          |  495.5868         | \n",
       "| Mali              | Africa            | 1952              | 33.685            |  3838168          |  452.3370         | \n",
       "| Guinea            | Africa            | 1952              | 33.609            |  2664249          |  510.1965         | \n",
       "| Guinea-Bissau     | Africa            | 1957              | 33.489            |   601095          |  431.7905         | \n",
       "| Somalia           | Africa            | 1952              | 32.978            |  2526994          | 1135.7498         | \n",
       "| Sierra Leone      | Africa            | 1962              | 32.767            |  2467895          | 1116.6399         | \n",
       "| Yemen, Rep.       | Asia              | 1952              | 32.548            |  4963829          |  781.7176         | \n",
       "| Guinea-Bissau     | Africa            | 1952              | 32.500            |   580653          |  299.8503         | \n",
       "| Gambia            | Africa            | 1957              | 32.065            |   323150          |  520.9267         | \n",
       "| Angola            | Africa            | 1957              | 31.999            |  4561361          | 3827.9405         | \n",
       "| Afghanistan       | Asia              | 1962              | 31.997            | 10267083          |  853.1007         | \n",
       "| Burkina Faso      | Africa            | 1952              | 31.975            |  4469979          |  543.2552         | \n",
       "| Sierra Leone      | Africa            | 1957              | 31.570            |  2295678          | 1004.4844         | \n",
       "| Mozambique        | Africa            | 1952              | 31.286            |  6446316          |  468.5260         | \n",
       "| Cambodia          | Asia              | 1977              | 31.220            |  6978607          |  524.9722         | \n",
       "| Afghanistan       | Asia              | 1957              | 30.332            |  9240934          |  820.8530         | \n",
       "| Sierra Leone      | Africa            | 1952              | 30.331            |  2143249          |  879.7877         | \n",
       "| Angola            | Africa            | 1952              | 30.015            |  4232095          | 3520.6103         | \n",
       "| Gambia            | Africa            | 1952              | 30.000            |   284320          |  485.2307         | \n",
       "| Afghanistan       | Asia              | 1952              | 28.801            |  8425333          |  779.4453         | \n",
       "| Rwanda            | Africa            | 1992              | 23.599            |  7290203          |  737.0686         | \n",
       "\n",
       "\n"
      ],
      "text/plain": [
       "     country           continent year lifeExp pop       gdpPercap\n",
       "1    Japan             Asia      2007 82.603  127467972 31656.07 \n",
       "2    Hong Kong, China  Asia      2007 82.208    6980412 39724.98 \n",
       "3    Japan             Asia      2002 82.000  127065841 28604.59 \n",
       "4    Iceland           Europe    2007 81.757     301931 36180.79 \n",
       "5    Switzerland       Europe    2007 81.701    7554661 37506.42 \n",
       "6    Hong Kong, China  Asia      2002 81.495    6762476 30209.02 \n",
       "7    Australia         Oceania   2007 81.235   20434176 34435.37 \n",
       "8    Spain             Europe    2007 80.941   40448191 28821.06 \n",
       "9    Sweden            Europe    2007 80.884    9031088 33859.75 \n",
       "10   Israel            Asia      2007 80.745    6426679 25523.28 \n",
       "11   Japan             Asia      1997 80.690  125956499 28816.58 \n",
       "12   France            Europe    2007 80.657   61083916 30470.02 \n",
       "13   Canada            Americas  2007 80.653   33390141 36319.24 \n",
       "14   Switzerland       Europe    2002 80.620    7361757 34480.96 \n",
       "15   Italy             Europe    2007 80.546   58147733 28569.72 \n",
       "16   Iceland           Europe    2002 80.500     288030 31163.20 \n",
       "17   Australia         Oceania   2002 80.370   19546792 30687.75 \n",
       "18   Italy             Europe    2002 80.240   57926999 27968.10 \n",
       "19   New Zealand       Oceania   2007 80.204    4115771 25185.01 \n",
       "20   Norway            Europe    2007 80.196    4627926 49357.19 \n",
       "21   Sweden            Europe    2002 80.040    8954175 29341.63 \n",
       "22   Hong Kong, China  Asia      1997 80.000    6495918 28377.63 \n",
       "23   Singapore         Asia      2007 79.972    4553009 47143.18 \n",
       "24   Austria           Europe    2007 79.829    8199783 36126.49 \n",
       "25   Spain             Europe    2002 79.780   40152517 24835.47 \n",
       "26   Canada            Americas  2002 79.770   31902268 33328.97 \n",
       "27   Netherlands       Europe    2007 79.762   16570613 36797.93 \n",
       "28   Israel            Asia      2002 79.696    6029529 21905.60 \n",
       "29   France            Europe    2002 79.590   59925035 28926.03 \n",
       "30   Greece            Europe    2007 79.483   10706290 27538.41 \n",
       "...  ...               ...       ...  ...     ...       ...      \n",
       "1675 Guinea            Africa    1957 34.558   2876726   576.2670\n",
       "1676 Guinea-Bissau     Africa    1962 34.488    627820   522.0344\n",
       "1677 Equatorial Guinea Africa    1952 34.482    216964   375.6431\n",
       "1678 Sierra Leone      Africa    1967 34.113   2662190  1206.0435\n",
       "1679 Ethiopia          Africa    1952 34.078  20860941   362.1463\n",
       "1680 Afghanistan       Asia      1967 34.020  11537966   836.1971\n",
       "1681 Angola            Africa    1962 34.000   4826015  4269.2767\n",
       "1682 Yemen, Rep.       Asia      1957 33.970   5498090   804.8305\n",
       "1683 Gambia            Africa    1962 33.896    374020   599.6503\n",
       "1684 Mozambique        Africa    1957 33.779   7038035   495.5868\n",
       "1685 Mali              Africa    1952 33.685   3838168   452.3370\n",
       "1686 Guinea            Africa    1952 33.609   2664249   510.1965\n",
       "1687 Guinea-Bissau     Africa    1957 33.489    601095   431.7905\n",
       "1688 Somalia           Africa    1952 32.978   2526994  1135.7498\n",
       "1689 Sierra Leone      Africa    1962 32.767   2467895  1116.6399\n",
       "1690 Yemen, Rep.       Asia      1952 32.548   4963829   781.7176\n",
       "1691 Guinea-Bissau     Africa    1952 32.500    580653   299.8503\n",
       "1692 Gambia            Africa    1957 32.065    323150   520.9267\n",
       "1693 Angola            Africa    1957 31.999   4561361  3827.9405\n",
       "1694 Afghanistan       Asia      1962 31.997  10267083   853.1007\n",
       "1695 Burkina Faso      Africa    1952 31.975   4469979   543.2552\n",
       "1696 Sierra Leone      Africa    1957 31.570   2295678  1004.4844\n",
       "1697 Mozambique        Africa    1952 31.286   6446316   468.5260\n",
       "1698 Cambodia          Asia      1977 31.220   6978607   524.9722\n",
       "1699 Afghanistan       Asia      1957 30.332   9240934   820.8530\n",
       "1700 Sierra Leone      Africa    1952 30.331   2143249   879.7877\n",
       "1701 Angola            Africa    1952 30.015   4232095  3520.6103\n",
       "1702 Gambia            Africa    1952 30.000    284320   485.2307\n",
       "1703 Afghanistan       Asia      1952 28.801   8425333   779.4453\n",
       "1704 Rwanda            Africa    1992 23.599   7290203   737.0686"
      ]
     },
     "metadata": {},
     "output_type": "display_data"
    }
   ],
   "source": [
    "# Sort in ascending order of lifeExp\n",
    "gapminder %>%\n",
    "  arrange(lifeExp)\n",
    "\n",
    "  \n",
    "# Sort in descending order of lifeExp\n",
    "gapminder %>%\n",
    "  arrange(desc(lifeExp))\n"
   ]
  },
  {
   "cell_type": "code",
   "execution_count": 3,
   "metadata": {},
   "outputs": [
    {
     "data": {
      "text/html": [
       "<table>\n",
       "<thead><tr><th scope=col>country</th><th scope=col>continent</th><th scope=col>year</th><th scope=col>lifeExp</th><th scope=col>pop</th><th scope=col>gdpPercap</th></tr></thead>\n",
       "<tbody>\n",
       "\t<tr><td>China           </td><td>Asia            </td><td>1957            </td><td>50.54896        </td><td>637408000       </td><td>  575.9870      </td></tr>\n",
       "\t<tr><td>India           </td><td>Asia            </td><td>1957            </td><td>40.24900        </td><td>409000000       </td><td>  590.0620      </td></tr>\n",
       "\t<tr><td>United States   </td><td>Americas        </td><td>1957            </td><td>69.49000        </td><td>171984000       </td><td>14847.1271      </td></tr>\n",
       "\t<tr><td>Japan           </td><td>Asia            </td><td>1957            </td><td>65.50000        </td><td> 91563009       </td><td> 4317.6944      </td></tr>\n",
       "\t<tr><td>Indonesia       </td><td>Asia            </td><td>1957            </td><td>39.91800        </td><td> 90124000       </td><td>  858.9003      </td></tr>\n",
       "\t<tr><td>Germany         </td><td>Europe          </td><td>1957            </td><td>69.10000        </td><td> 71019069       </td><td>10187.8267      </td></tr>\n",
       "\t<tr><td>Brazil          </td><td>Americas        </td><td>1957            </td><td>53.28500        </td><td> 65551171       </td><td> 2487.3660      </td></tr>\n",
       "\t<tr><td>United Kingdom  </td><td>Europe          </td><td>1957            </td><td>70.42000        </td><td> 51430000       </td><td>11283.1779      </td></tr>\n",
       "\t<tr><td>Bangladesh      </td><td>Asia            </td><td>1957            </td><td>39.34800        </td><td> 51365468       </td><td>  661.6375      </td></tr>\n",
       "\t<tr><td>Italy           </td><td>Europe          </td><td>1957            </td><td>67.81000        </td><td> 49182000       </td><td> 6248.6562      </td></tr>\n",
       "\t<tr><td>Pakistan        </td><td>Asia            </td><td>1957            </td><td>45.55700        </td><td> 46679944       </td><td>  747.0835      </td></tr>\n",
       "\t<tr><td>France          </td><td>Europe          </td><td>1957            </td><td>68.93000        </td><td> 44310863       </td><td> 8662.8349      </td></tr>\n",
       "\t<tr><td>Nigeria         </td><td>Africa          </td><td>1957            </td><td>37.80200        </td><td> 37173340       </td><td> 1100.5926      </td></tr>\n",
       "\t<tr><td>Mexico          </td><td>Americas        </td><td>1957            </td><td>55.19000        </td><td> 35015548       </td><td> 4131.5466      </td></tr>\n",
       "\t<tr><td>Spain           </td><td>Europe          </td><td>1957            </td><td>66.66000        </td><td> 29841614       </td><td> 4564.8024      </td></tr>\n",
       "\t<tr><td>Vietnam         </td><td>Asia            </td><td>1957            </td><td>42.88700        </td><td> 28998543       </td><td>  676.2854      </td></tr>\n",
       "\t<tr><td>Poland          </td><td>Europe          </td><td>1957            </td><td>65.77000        </td><td> 28235346       </td><td> 4734.2530      </td></tr>\n",
       "\t<tr><td>Philippines     </td><td>Asia            </td><td>1957            </td><td>51.33400        </td><td> 26072194       </td><td> 1547.9448      </td></tr>\n",
       "\t<tr><td>Turkey          </td><td>Europe          </td><td>1957            </td><td>48.07900        </td><td> 25670939       </td><td> 2218.7543      </td></tr>\n",
       "\t<tr><td>Thailand        </td><td>Asia            </td><td>1957            </td><td>53.63000        </td><td> 25041917       </td><td>  793.5774      </td></tr>\n",
       "\t<tr><td>Egypt           </td><td>Africa          </td><td>1957            </td><td>44.44400        </td><td> 25009741       </td><td> 1458.9153      </td></tr>\n",
       "\t<tr><td>Ethiopia        </td><td>Africa          </td><td>1957            </td><td>36.66700        </td><td> 22815614       </td><td>  378.9042      </td></tr>\n",
       "\t<tr><td>Korea, Rep.     </td><td>Asia            </td><td>1957            </td><td>52.68100        </td><td> 22611552       </td><td> 1487.5935      </td></tr>\n",
       "\t<tr><td>Myanmar         </td><td>Asia            </td><td>1957            </td><td>41.90500        </td><td> 21731844       </td><td>  350.0000      </td></tr>\n",
       "\t<tr><td>Iran            </td><td>Asia            </td><td>1957            </td><td>47.18100        </td><td> 19792000       </td><td> 3290.2576      </td></tr>\n",
       "\t<tr><td>Argentina       </td><td>Americas        </td><td>1957            </td><td>64.39900        </td><td> 19610538       </td><td> 6856.8562      </td></tr>\n",
       "\t<tr><td>Romania         </td><td>Europe          </td><td>1957            </td><td>64.10000        </td><td> 17829327       </td><td> 3943.3702      </td></tr>\n",
       "\t<tr><td>Canada          </td><td>Americas        </td><td>1957            </td><td>69.96000        </td><td> 17010154       </td><td>12489.9501      </td></tr>\n",
       "\t<tr><td>South Africa    </td><td>Africa          </td><td>1957            </td><td>47.98500        </td><td> 16151549       </td><td> 5487.1042      </td></tr>\n",
       "\t<tr><td>Congo, Dem. Rep.</td><td>Africa          </td><td>1957            </td><td>40.65200        </td><td> 15577932       </td><td>  905.8602      </td></tr>\n",
       "\t<tr><td>...</td><td>...</td><td>...</td><td>...</td><td>...</td><td>...</td></tr>\n",
       "\t<tr><td>Nicaragua            </td><td>Americas             </td><td>1957                 </td><td>45.432               </td><td>1358828              </td><td>  3457.4159          </td></tr>\n",
       "\t<tr><td>Togo                 </td><td>Africa               </td><td>1957                 </td><td>41.208               </td><td>1357445              </td><td>   925.9083          </td></tr>\n",
       "\t<tr><td>Libya                </td><td>Africa               </td><td>1957                 </td><td>45.289               </td><td>1201578              </td><td>  3448.2844          </td></tr>\n",
       "\t<tr><td>Costa Rica           </td><td>Americas             </td><td>1957                 </td><td>60.026               </td><td>1112300              </td><td>  2990.0108          </td></tr>\n",
       "\t<tr><td>Mauritania           </td><td>Africa               </td><td>1957                 </td><td>42.338               </td><td>1076852              </td><td>   846.1203          </td></tr>\n",
       "\t<tr><td>West Bank and Gaza   </td><td>Asia                 </td><td>1957                 </td><td>45.671               </td><td>1070439              </td><td>  1827.0677          </td></tr>\n",
       "\t<tr><td>Panama               </td><td>Americas             </td><td>1957                 </td><td>59.201               </td><td>1063506              </td><td>  2961.8009          </td></tr>\n",
       "\t<tr><td>Liberia              </td><td>Africa               </td><td>1957                 </td><td>39.486               </td><td> 975950              </td><td>   620.9700          </td></tr>\n",
       "\t<tr><td>Congo, Rep.          </td><td>Africa               </td><td>1957                 </td><td>45.053               </td><td> 940458              </td><td>  2315.0566          </td></tr>\n",
       "\t<tr><td>Mongolia             </td><td>Asia                 </td><td>1957                 </td><td>45.248               </td><td> 882134              </td><td>   912.6626          </td></tr>\n",
       "\t<tr><td>Lesotho              </td><td>Africa               </td><td>1957                 </td><td>45.047               </td><td> 813338              </td><td>   335.9971          </td></tr>\n",
       "\t<tr><td>Trinidad and Tobago  </td><td>Americas             </td><td>1957                 </td><td>61.800               </td><td> 764900              </td><td>  4100.3934          </td></tr>\n",
       "\t<tr><td>Jordan               </td><td>Asia                 </td><td>1957                 </td><td>45.669               </td><td> 746559              </td><td>  1886.0806          </td></tr>\n",
       "\t<tr><td>Mauritius            </td><td>Africa               </td><td>1957                 </td><td>58.089               </td><td> 609816              </td><td>  2034.0380          </td></tr>\n",
       "\t<tr><td>Guinea-Bissau        </td><td>Africa               </td><td>1957                 </td><td>33.489               </td><td> 601095              </td><td>   431.7905          </td></tr>\n",
       "\t<tr><td>Oman                 </td><td>Asia                 </td><td>1957                 </td><td>40.080               </td><td> 561977              </td><td>  2242.7466          </td></tr>\n",
       "\t<tr><td>Namibia              </td><td>Africa               </td><td>1957                 </td><td>45.226               </td><td> 548080              </td><td>  2621.4481          </td></tr>\n",
       "\t<tr><td>Botswana             </td><td>Africa               </td><td>1957                 </td><td>49.618               </td><td> 474639              </td><td>   918.2325          </td></tr>\n",
       "\t<tr><td>Montenegro           </td><td>Europe               </td><td>1957                 </td><td>61.448               </td><td> 442829              </td><td>  3682.2599          </td></tr>\n",
       "\t<tr><td>Gabon                </td><td>Africa               </td><td>1957                 </td><td>38.999               </td><td> 434904              </td><td>  4976.1981          </td></tr>\n",
       "\t<tr><td>Swaziland            </td><td>Africa               </td><td>1957                 </td><td>43.424               </td><td> 326741              </td><td>  1244.7084          </td></tr>\n",
       "\t<tr><td>Gambia               </td><td>Africa               </td><td>1957                 </td><td>32.065               </td><td> 323150              </td><td>   520.9267          </td></tr>\n",
       "\t<tr><td>Reunion              </td><td>Africa               </td><td>1957                 </td><td>55.090               </td><td> 308700              </td><td>  2769.4518          </td></tr>\n",
       "\t<tr><td>Equatorial Guinea    </td><td>Africa               </td><td>1957                 </td><td>35.983               </td><td> 232922              </td><td>   426.0964          </td></tr>\n",
       "\t<tr><td>Kuwait               </td><td>Asia                 </td><td>1957                 </td><td>58.033               </td><td> 212846              </td><td>113523.1329          </td></tr>\n",
       "\t<tr><td>Comoros              </td><td>Africa               </td><td>1957                 </td><td>42.460               </td><td> 170928              </td><td>  1211.1485          </td></tr>\n",
       "\t<tr><td>Iceland              </td><td>Europe               </td><td>1957                 </td><td>73.470               </td><td> 165110              </td><td>  9244.0014          </td></tr>\n",
       "\t<tr><td>Bahrain              </td><td>Asia                 </td><td>1957                 </td><td>53.832               </td><td> 138655              </td><td> 11635.7995          </td></tr>\n",
       "\t<tr><td>Djibouti             </td><td>Africa               </td><td>1957                 </td><td>37.328               </td><td>  71851              </td><td>  2864.9691          </td></tr>\n",
       "\t<tr><td>Sao Tome and Principe</td><td>Africa               </td><td>1957                 </td><td>48.945               </td><td>  61325              </td><td>   860.7369          </td></tr>\n",
       "</tbody>\n",
       "</table>\n"
      ],
      "text/latex": [
       "\\begin{tabular}{r|llllll}\n",
       " country & continent & year & lifeExp & pop & gdpPercap\\\\\n",
       "\\hline\n",
       "\t China            & Asia             & 1957             & 50.54896         & 637408000        &   575.9870      \\\\\n",
       "\t India            & Asia             & 1957             & 40.24900         & 409000000        &   590.0620      \\\\\n",
       "\t United States    & Americas         & 1957             & 69.49000         & 171984000        & 14847.1271      \\\\\n",
       "\t Japan            & Asia             & 1957             & 65.50000         &  91563009        &  4317.6944      \\\\\n",
       "\t Indonesia        & Asia             & 1957             & 39.91800         &  90124000        &   858.9003      \\\\\n",
       "\t Germany          & Europe           & 1957             & 69.10000         &  71019069        & 10187.8267      \\\\\n",
       "\t Brazil           & Americas         & 1957             & 53.28500         &  65551171        &  2487.3660      \\\\\n",
       "\t United Kingdom   & Europe           & 1957             & 70.42000         &  51430000        & 11283.1779      \\\\\n",
       "\t Bangladesh       & Asia             & 1957             & 39.34800         &  51365468        &   661.6375      \\\\\n",
       "\t Italy            & Europe           & 1957             & 67.81000         &  49182000        &  6248.6562      \\\\\n",
       "\t Pakistan         & Asia             & 1957             & 45.55700         &  46679944        &   747.0835      \\\\\n",
       "\t France           & Europe           & 1957             & 68.93000         &  44310863        &  8662.8349      \\\\\n",
       "\t Nigeria          & Africa           & 1957             & 37.80200         &  37173340        &  1100.5926      \\\\\n",
       "\t Mexico           & Americas         & 1957             & 55.19000         &  35015548        &  4131.5466      \\\\\n",
       "\t Spain            & Europe           & 1957             & 66.66000         &  29841614        &  4564.8024      \\\\\n",
       "\t Vietnam          & Asia             & 1957             & 42.88700         &  28998543        &   676.2854      \\\\\n",
       "\t Poland           & Europe           & 1957             & 65.77000         &  28235346        &  4734.2530      \\\\\n",
       "\t Philippines      & Asia             & 1957             & 51.33400         &  26072194        &  1547.9448      \\\\\n",
       "\t Turkey           & Europe           & 1957             & 48.07900         &  25670939        &  2218.7543      \\\\\n",
       "\t Thailand         & Asia             & 1957             & 53.63000         &  25041917        &   793.5774      \\\\\n",
       "\t Egypt            & Africa           & 1957             & 44.44400         &  25009741        &  1458.9153      \\\\\n",
       "\t Ethiopia         & Africa           & 1957             & 36.66700         &  22815614        &   378.9042      \\\\\n",
       "\t Korea, Rep.      & Asia             & 1957             & 52.68100         &  22611552        &  1487.5935      \\\\\n",
       "\t Myanmar          & Asia             & 1957             & 41.90500         &  21731844        &   350.0000      \\\\\n",
       "\t Iran             & Asia             & 1957             & 47.18100         &  19792000        &  3290.2576      \\\\\n",
       "\t Argentina        & Americas         & 1957             & 64.39900         &  19610538        &  6856.8562      \\\\\n",
       "\t Romania          & Europe           & 1957             & 64.10000         &  17829327        &  3943.3702      \\\\\n",
       "\t Canada           & Americas         & 1957             & 69.96000         &  17010154        & 12489.9501      \\\\\n",
       "\t South Africa     & Africa           & 1957             & 47.98500         &  16151549        &  5487.1042      \\\\\n",
       "\t Congo, Dem. Rep. & Africa           & 1957             & 40.65200         &  15577932        &   905.8602      \\\\\n",
       "\t ... & ... & ... & ... & ... & ...\\\\\n",
       "\t Nicaragua             & Americas              & 1957                  & 45.432                & 1358828               &   3457.4159          \\\\\n",
       "\t Togo                  & Africa                & 1957                  & 41.208                & 1357445               &    925.9083          \\\\\n",
       "\t Libya                 & Africa                & 1957                  & 45.289                & 1201578               &   3448.2844          \\\\\n",
       "\t Costa Rica            & Americas              & 1957                  & 60.026                & 1112300               &   2990.0108          \\\\\n",
       "\t Mauritania            & Africa                & 1957                  & 42.338                & 1076852               &    846.1203          \\\\\n",
       "\t West Bank and Gaza    & Asia                  & 1957                  & 45.671                & 1070439               &   1827.0677          \\\\\n",
       "\t Panama                & Americas              & 1957                  & 59.201                & 1063506               &   2961.8009          \\\\\n",
       "\t Liberia               & Africa                & 1957                  & 39.486                &  975950               &    620.9700          \\\\\n",
       "\t Congo, Rep.           & Africa                & 1957                  & 45.053                &  940458               &   2315.0566          \\\\\n",
       "\t Mongolia              & Asia                  & 1957                  & 45.248                &  882134               &    912.6626          \\\\\n",
       "\t Lesotho               & Africa                & 1957                  & 45.047                &  813338               &    335.9971          \\\\\n",
       "\t Trinidad and Tobago   & Americas              & 1957                  & 61.800                &  764900               &   4100.3934          \\\\\n",
       "\t Jordan                & Asia                  & 1957                  & 45.669                &  746559               &   1886.0806          \\\\\n",
       "\t Mauritius             & Africa                & 1957                  & 58.089                &  609816               &   2034.0380          \\\\\n",
       "\t Guinea-Bissau         & Africa                & 1957                  & 33.489                &  601095               &    431.7905          \\\\\n",
       "\t Oman                  & Asia                  & 1957                  & 40.080                &  561977               &   2242.7466          \\\\\n",
       "\t Namibia               & Africa                & 1957                  & 45.226                &  548080               &   2621.4481          \\\\\n",
       "\t Botswana              & Africa                & 1957                  & 49.618                &  474639               &    918.2325          \\\\\n",
       "\t Montenegro            & Europe                & 1957                  & 61.448                &  442829               &   3682.2599          \\\\\n",
       "\t Gabon                 & Africa                & 1957                  & 38.999                &  434904               &   4976.1981          \\\\\n",
       "\t Swaziland             & Africa                & 1957                  & 43.424                &  326741               &   1244.7084          \\\\\n",
       "\t Gambia                & Africa                & 1957                  & 32.065                &  323150               &    520.9267          \\\\\n",
       "\t Reunion               & Africa                & 1957                  & 55.090                &  308700               &   2769.4518          \\\\\n",
       "\t Equatorial Guinea     & Africa                & 1957                  & 35.983                &  232922               &    426.0964          \\\\\n",
       "\t Kuwait                & Asia                  & 1957                  & 58.033                &  212846               & 113523.1329          \\\\\n",
       "\t Comoros               & Africa                & 1957                  & 42.460                &  170928               &   1211.1485          \\\\\n",
       "\t Iceland               & Europe                & 1957                  & 73.470                &  165110               &   9244.0014          \\\\\n",
       "\t Bahrain               & Asia                  & 1957                  & 53.832                &  138655               &  11635.7995          \\\\\n",
       "\t Djibouti              & Africa                & 1957                  & 37.328                &   71851               &   2864.9691          \\\\\n",
       "\t Sao Tome and Principe & Africa                & 1957                  & 48.945                &   61325               &    860.7369          \\\\\n",
       "\\end{tabular}\n"
      ],
      "text/markdown": [
       "\n",
       "country | continent | year | lifeExp | pop | gdpPercap | \n",
       "|---|---|---|---|---|---|---|---|---|---|---|---|---|---|---|---|---|---|---|---|---|---|---|---|---|---|---|---|---|---|---|---|---|---|---|---|---|---|---|---|---|---|---|---|---|---|---|---|---|---|---|---|---|---|---|---|---|---|---|---|---|\n",
       "| China            | Asia             | 1957             | 50.54896         | 637408000        |   575.9870       | \n",
       "| India            | Asia             | 1957             | 40.24900         | 409000000        |   590.0620       | \n",
       "| United States    | Americas         | 1957             | 69.49000         | 171984000        | 14847.1271       | \n",
       "| Japan            | Asia             | 1957             | 65.50000         |  91563009        |  4317.6944       | \n",
       "| Indonesia        | Asia             | 1957             | 39.91800         |  90124000        |   858.9003       | \n",
       "| Germany          | Europe           | 1957             | 69.10000         |  71019069        | 10187.8267       | \n",
       "| Brazil           | Americas         | 1957             | 53.28500         |  65551171        |  2487.3660       | \n",
       "| United Kingdom   | Europe           | 1957             | 70.42000         |  51430000        | 11283.1779       | \n",
       "| Bangladesh       | Asia             | 1957             | 39.34800         |  51365468        |   661.6375       | \n",
       "| Italy            | Europe           | 1957             | 67.81000         |  49182000        |  6248.6562       | \n",
       "| Pakistan         | Asia             | 1957             | 45.55700         |  46679944        |   747.0835       | \n",
       "| France           | Europe           | 1957             | 68.93000         |  44310863        |  8662.8349       | \n",
       "| Nigeria          | Africa           | 1957             | 37.80200         |  37173340        |  1100.5926       | \n",
       "| Mexico           | Americas         | 1957             | 55.19000         |  35015548        |  4131.5466       | \n",
       "| Spain            | Europe           | 1957             | 66.66000         |  29841614        |  4564.8024       | \n",
       "| Vietnam          | Asia             | 1957             | 42.88700         |  28998543        |   676.2854       | \n",
       "| Poland           | Europe           | 1957             | 65.77000         |  28235346        |  4734.2530       | \n",
       "| Philippines      | Asia             | 1957             | 51.33400         |  26072194        |  1547.9448       | \n",
       "| Turkey           | Europe           | 1957             | 48.07900         |  25670939        |  2218.7543       | \n",
       "| Thailand         | Asia             | 1957             | 53.63000         |  25041917        |   793.5774       | \n",
       "| Egypt            | Africa           | 1957             | 44.44400         |  25009741        |  1458.9153       | \n",
       "| Ethiopia         | Africa           | 1957             | 36.66700         |  22815614        |   378.9042       | \n",
       "| Korea, Rep.      | Asia             | 1957             | 52.68100         |  22611552        |  1487.5935       | \n",
       "| Myanmar          | Asia             | 1957             | 41.90500         |  21731844        |   350.0000       | \n",
       "| Iran             | Asia             | 1957             | 47.18100         |  19792000        |  3290.2576       | \n",
       "| Argentina        | Americas         | 1957             | 64.39900         |  19610538        |  6856.8562       | \n",
       "| Romania          | Europe           | 1957             | 64.10000         |  17829327        |  3943.3702       | \n",
       "| Canada           | Americas         | 1957             | 69.96000         |  17010154        | 12489.9501       | \n",
       "| South Africa     | Africa           | 1957             | 47.98500         |  16151549        |  5487.1042       | \n",
       "| Congo, Dem. Rep. | Africa           | 1957             | 40.65200         |  15577932        |   905.8602       | \n",
       "| ... | ... | ... | ... | ... | ... | \n",
       "| Nicaragua             | Americas              | 1957                  | 45.432                | 1358828               |   3457.4159           | \n",
       "| Togo                  | Africa                | 1957                  | 41.208                | 1357445               |    925.9083           | \n",
       "| Libya                 | Africa                | 1957                  | 45.289                | 1201578               |   3448.2844           | \n",
       "| Costa Rica            | Americas              | 1957                  | 60.026                | 1112300               |   2990.0108           | \n",
       "| Mauritania            | Africa                | 1957                  | 42.338                | 1076852               |    846.1203           | \n",
       "| West Bank and Gaza    | Asia                  | 1957                  | 45.671                | 1070439               |   1827.0677           | \n",
       "| Panama                | Americas              | 1957                  | 59.201                | 1063506               |   2961.8009           | \n",
       "| Liberia               | Africa                | 1957                  | 39.486                |  975950               |    620.9700           | \n",
       "| Congo, Rep.           | Africa                | 1957                  | 45.053                |  940458               |   2315.0566           | \n",
       "| Mongolia              | Asia                  | 1957                  | 45.248                |  882134               |    912.6626           | \n",
       "| Lesotho               | Africa                | 1957                  | 45.047                |  813338               |    335.9971           | \n",
       "| Trinidad and Tobago   | Americas              | 1957                  | 61.800                |  764900               |   4100.3934           | \n",
       "| Jordan                | Asia                  | 1957                  | 45.669                |  746559               |   1886.0806           | \n",
       "| Mauritius             | Africa                | 1957                  | 58.089                |  609816               |   2034.0380           | \n",
       "| Guinea-Bissau         | Africa                | 1957                  | 33.489                |  601095               |    431.7905           | \n",
       "| Oman                  | Asia                  | 1957                  | 40.080                |  561977               |   2242.7466           | \n",
       "| Namibia               | Africa                | 1957                  | 45.226                |  548080               |   2621.4481           | \n",
       "| Botswana              | Africa                | 1957                  | 49.618                |  474639               |    918.2325           | \n",
       "| Montenegro            | Europe                | 1957                  | 61.448                |  442829               |   3682.2599           | \n",
       "| Gabon                 | Africa                | 1957                  | 38.999                |  434904               |   4976.1981           | \n",
       "| Swaziland             | Africa                | 1957                  | 43.424                |  326741               |   1244.7084           | \n",
       "| Gambia                | Africa                | 1957                  | 32.065                |  323150               |    520.9267           | \n",
       "| Reunion               | Africa                | 1957                  | 55.090                |  308700               |   2769.4518           | \n",
       "| Equatorial Guinea     | Africa                | 1957                  | 35.983                |  232922               |    426.0964           | \n",
       "| Kuwait                | Asia                  | 1957                  | 58.033                |  212846               | 113523.1329           | \n",
       "| Comoros               | Africa                | 1957                  | 42.460                |  170928               |   1211.1485           | \n",
       "| Iceland               | Europe                | 1957                  | 73.470                |  165110               |   9244.0014           | \n",
       "| Bahrain               | Asia                  | 1957                  | 53.832                |  138655               |  11635.7995           | \n",
       "| Djibouti              | Africa                | 1957                  | 37.328                |   71851               |   2864.9691           | \n",
       "| Sao Tome and Principe | Africa                | 1957                  | 48.945                |   61325               |    860.7369           | \n",
       "\n",
       "\n"
      ],
      "text/plain": [
       "    country               continent year lifeExp  pop       gdpPercap  \n",
       "1   China                 Asia      1957 50.54896 637408000   575.9870 \n",
       "2   India                 Asia      1957 40.24900 409000000   590.0620 \n",
       "3   United States         Americas  1957 69.49000 171984000 14847.1271 \n",
       "4   Japan                 Asia      1957 65.50000  91563009  4317.6944 \n",
       "5   Indonesia             Asia      1957 39.91800  90124000   858.9003 \n",
       "6   Germany               Europe    1957 69.10000  71019069 10187.8267 \n",
       "7   Brazil                Americas  1957 53.28500  65551171  2487.3660 \n",
       "8   United Kingdom        Europe    1957 70.42000  51430000 11283.1779 \n",
       "9   Bangladesh            Asia      1957 39.34800  51365468   661.6375 \n",
       "10  Italy                 Europe    1957 67.81000  49182000  6248.6562 \n",
       "11  Pakistan              Asia      1957 45.55700  46679944   747.0835 \n",
       "12  France                Europe    1957 68.93000  44310863  8662.8349 \n",
       "13  Nigeria               Africa    1957 37.80200  37173340  1100.5926 \n",
       "14  Mexico                Americas  1957 55.19000  35015548  4131.5466 \n",
       "15  Spain                 Europe    1957 66.66000  29841614  4564.8024 \n",
       "16  Vietnam               Asia      1957 42.88700  28998543   676.2854 \n",
       "17  Poland                Europe    1957 65.77000  28235346  4734.2530 \n",
       "18  Philippines           Asia      1957 51.33400  26072194  1547.9448 \n",
       "19  Turkey                Europe    1957 48.07900  25670939  2218.7543 \n",
       "20  Thailand              Asia      1957 53.63000  25041917   793.5774 \n",
       "21  Egypt                 Africa    1957 44.44400  25009741  1458.9153 \n",
       "22  Ethiopia              Africa    1957 36.66700  22815614   378.9042 \n",
       "23  Korea, Rep.           Asia      1957 52.68100  22611552  1487.5935 \n",
       "24  Myanmar               Asia      1957 41.90500  21731844   350.0000 \n",
       "25  Iran                  Asia      1957 47.18100  19792000  3290.2576 \n",
       "26  Argentina             Americas  1957 64.39900  19610538  6856.8562 \n",
       "27  Romania               Europe    1957 64.10000  17829327  3943.3702 \n",
       "28  Canada                Americas  1957 69.96000  17010154 12489.9501 \n",
       "29  South Africa          Africa    1957 47.98500  16151549  5487.1042 \n",
       "30  Congo, Dem. Rep.      Africa    1957 40.65200  15577932   905.8602 \n",
       "... ...                   ...       ...  ...      ...       ...        \n",
       "113 Nicaragua             Americas  1957 45.432   1358828     3457.4159\n",
       "114 Togo                  Africa    1957 41.208   1357445      925.9083\n",
       "115 Libya                 Africa    1957 45.289   1201578     3448.2844\n",
       "116 Costa Rica            Americas  1957 60.026   1112300     2990.0108\n",
       "117 Mauritania            Africa    1957 42.338   1076852      846.1203\n",
       "118 West Bank and Gaza    Asia      1957 45.671   1070439     1827.0677\n",
       "119 Panama                Americas  1957 59.201   1063506     2961.8009\n",
       "120 Liberia               Africa    1957 39.486    975950      620.9700\n",
       "121 Congo, Rep.           Africa    1957 45.053    940458     2315.0566\n",
       "122 Mongolia              Asia      1957 45.248    882134      912.6626\n",
       "123 Lesotho               Africa    1957 45.047    813338      335.9971\n",
       "124 Trinidad and Tobago   Americas  1957 61.800    764900     4100.3934\n",
       "125 Jordan                Asia      1957 45.669    746559     1886.0806\n",
       "126 Mauritius             Africa    1957 58.089    609816     2034.0380\n",
       "127 Guinea-Bissau         Africa    1957 33.489    601095      431.7905\n",
       "128 Oman                  Asia      1957 40.080    561977     2242.7466\n",
       "129 Namibia               Africa    1957 45.226    548080     2621.4481\n",
       "130 Botswana              Africa    1957 49.618    474639      918.2325\n",
       "131 Montenegro            Europe    1957 61.448    442829     3682.2599\n",
       "132 Gabon                 Africa    1957 38.999    434904     4976.1981\n",
       "133 Swaziland             Africa    1957 43.424    326741     1244.7084\n",
       "134 Gambia                Africa    1957 32.065    323150      520.9267\n",
       "135 Reunion               Africa    1957 55.090    308700     2769.4518\n",
       "136 Equatorial Guinea     Africa    1957 35.983    232922      426.0964\n",
       "137 Kuwait                Asia      1957 58.033    212846   113523.1329\n",
       "138 Comoros               Africa    1957 42.460    170928     1211.1485\n",
       "139 Iceland               Europe    1957 73.470    165110     9244.0014\n",
       "140 Bahrain               Asia      1957 53.832    138655    11635.7995\n",
       "141 Djibouti              Africa    1957 37.328     71851     2864.9691\n",
       "142 Sao Tome and Principe Africa    1957 48.945     61325      860.7369"
      ]
     },
     "metadata": {},
     "output_type": "display_data"
    }
   ],
   "source": [
    "# Filter for the year 1957, then arrange in descending order of population\n",
    "gapminder %>%\n",
    "  filter(year == 1957) %>%\n",
    "  arrange(desc(pop))"
   ]
  },
  {
   "cell_type": "markdown",
   "metadata": {},
   "source": [
    "## mutate\n",
    "Using mutate to change or create a column"
   ]
  },
  {
   "cell_type": "code",
   "execution_count": 4,
   "metadata": {},
   "outputs": [
    {
     "data": {
      "text/html": [
       "<table>\n",
       "<thead><tr><th scope=col>country</th><th scope=col>continent</th><th scope=col>year</th><th scope=col>lifeExp</th><th scope=col>pop</th><th scope=col>gdpPercap</th><th scope=col>lifeExpMonths</th></tr></thead>\n",
       "<tbody>\n",
       "\t<tr><td>Japan           </td><td>Asia            </td><td>2007            </td><td>82.603          </td><td>127467972       </td><td>31656.068       </td><td>991.236         </td></tr>\n",
       "\t<tr><td>Hong Kong, China</td><td>Asia            </td><td>2007            </td><td>82.208          </td><td>  6980412       </td><td>39724.979       </td><td>986.496         </td></tr>\n",
       "\t<tr><td>Iceland         </td><td>Europe          </td><td>2007            </td><td>81.757          </td><td>   301931       </td><td>36180.789       </td><td>981.084         </td></tr>\n",
       "\t<tr><td>Switzerland     </td><td>Europe          </td><td>2007            </td><td>81.701          </td><td>  7554661       </td><td>37506.419       </td><td>980.412         </td></tr>\n",
       "\t<tr><td>Australia       </td><td>Oceania         </td><td>2007            </td><td>81.235          </td><td> 20434176       </td><td>34435.367       </td><td>974.820         </td></tr>\n",
       "\t<tr><td>Spain           </td><td>Europe          </td><td>2007            </td><td>80.941          </td><td> 40448191       </td><td>28821.064       </td><td>971.292         </td></tr>\n",
       "\t<tr><td>Sweden          </td><td>Europe          </td><td>2007            </td><td>80.884          </td><td>  9031088       </td><td>33859.748       </td><td>970.608         </td></tr>\n",
       "\t<tr><td>Israel          </td><td>Asia            </td><td>2007            </td><td>80.745          </td><td>  6426679       </td><td>25523.277       </td><td>968.940         </td></tr>\n",
       "\t<tr><td>France          </td><td>Europe          </td><td>2007            </td><td>80.657          </td><td> 61083916       </td><td>30470.017       </td><td>967.884         </td></tr>\n",
       "\t<tr><td>Canada          </td><td>Americas        </td><td>2007            </td><td>80.653          </td><td> 33390141       </td><td>36319.235       </td><td>967.836         </td></tr>\n",
       "\t<tr><td>Italy           </td><td>Europe          </td><td>2007            </td><td>80.546          </td><td> 58147733       </td><td>28569.720       </td><td>966.552         </td></tr>\n",
       "\t<tr><td>New Zealand     </td><td>Oceania         </td><td>2007            </td><td>80.204          </td><td>  4115771       </td><td>25185.009       </td><td>962.448         </td></tr>\n",
       "\t<tr><td>Norway          </td><td>Europe          </td><td>2007            </td><td>80.196          </td><td>  4627926       </td><td>49357.190       </td><td>962.352         </td></tr>\n",
       "\t<tr><td>Singapore       </td><td>Asia            </td><td>2007            </td><td>79.972          </td><td>  4553009       </td><td>47143.180       </td><td>959.664         </td></tr>\n",
       "\t<tr><td>Austria         </td><td>Europe          </td><td>2007            </td><td>79.829          </td><td>  8199783       </td><td>36126.493       </td><td>957.948         </td></tr>\n",
       "\t<tr><td>Netherlands     </td><td>Europe          </td><td>2007            </td><td>79.762          </td><td> 16570613       </td><td>36797.933       </td><td>957.144         </td></tr>\n",
       "\t<tr><td>Greece          </td><td>Europe          </td><td>2007            </td><td>79.483          </td><td> 10706290       </td><td>27538.412       </td><td>953.796         </td></tr>\n",
       "\t<tr><td>Belgium         </td><td>Europe          </td><td>2007            </td><td>79.441          </td><td> 10392226       </td><td>33692.605       </td><td>953.292         </td></tr>\n",
       "\t<tr><td>United Kingdom  </td><td>Europe          </td><td>2007            </td><td>79.425          </td><td> 60776238       </td><td>33203.261       </td><td>953.100         </td></tr>\n",
       "\t<tr><td>Germany         </td><td>Europe          </td><td>2007            </td><td>79.406          </td><td> 82400996       </td><td>32170.374       </td><td>952.872         </td></tr>\n",
       "\t<tr><td>Finland         </td><td>Europe          </td><td>2007            </td><td>79.313          </td><td>  5238460       </td><td>33207.084       </td><td>951.756         </td></tr>\n",
       "\t<tr><td>Ireland         </td><td>Europe          </td><td>2007            </td><td>78.885          </td><td>  4109086       </td><td>40675.996       </td><td>946.620         </td></tr>\n",
       "\t<tr><td>Costa Rica      </td><td>Americas        </td><td>2007            </td><td>78.782          </td><td>  4133884       </td><td> 9645.061       </td><td>945.384         </td></tr>\n",
       "\t<tr><td>Puerto Rico     </td><td>Americas        </td><td>2007            </td><td>78.746          </td><td>  3942491       </td><td>19328.709       </td><td>944.952         </td></tr>\n",
       "\t<tr><td>Korea, Rep.     </td><td>Asia            </td><td>2007            </td><td>78.623          </td><td> 49044790       </td><td>23348.140       </td><td>943.476         </td></tr>\n",
       "\t<tr><td>Chile           </td><td>Americas        </td><td>2007            </td><td>78.553          </td><td> 16284741       </td><td>13171.639       </td><td>942.636         </td></tr>\n",
       "\t<tr><td>Taiwan          </td><td>Asia            </td><td>2007            </td><td>78.400          </td><td> 23174294       </td><td>28718.277       </td><td>940.800         </td></tr>\n",
       "\t<tr><td>Denmark         </td><td>Europe          </td><td>2007            </td><td>78.332          </td><td>  5468120       </td><td>35278.419       </td><td>939.984         </td></tr>\n",
       "\t<tr><td>Cuba            </td><td>Americas        </td><td>2007            </td><td>78.273          </td><td> 11416987       </td><td> 8948.103       </td><td>939.276         </td></tr>\n",
       "\t<tr><td>United States   </td><td>Americas        </td><td>2007            </td><td>78.242          </td><td>301139947       </td><td>42951.653       </td><td>938.904         </td></tr>\n",
       "\t<tr><td>...</td><td>...</td><td>...</td><td>...</td><td>...</td><td>...</td><td>...</td></tr>\n",
       "\t<tr><td>Mali                    </td><td>Africa                  </td><td>2007                    </td><td>54.467                  </td><td> 12031795               </td><td> 1042.5816              </td><td>653.604                 </td></tr>\n",
       "\t<tr><td>Kenya                   </td><td>Africa                  </td><td>2007                    </td><td>54.110                  </td><td> 35610177               </td><td> 1463.2493              </td><td>649.320                 </td></tr>\n",
       "\t<tr><td>Ethiopia                </td><td>Africa                  </td><td>2007                    </td><td>52.947                  </td><td> 76511887               </td><td>  690.8056              </td><td>635.364                 </td></tr>\n",
       "\t<tr><td>Namibia                 </td><td>Africa                  </td><td>2007                    </td><td>52.906                  </td><td>  2055080               </td><td> 4811.0604              </td><td>634.872                 </td></tr>\n",
       "\t<tr><td>Tanzania                </td><td>Africa                  </td><td>2007                    </td><td>52.517                  </td><td> 38139640               </td><td> 1107.4822              </td><td>630.204                 </td></tr>\n",
       "\t<tr><td>Burkina Faso            </td><td>Africa                  </td><td>2007                    </td><td>52.295                  </td><td> 14326203               </td><td> 1217.0330              </td><td>627.540                 </td></tr>\n",
       "\t<tr><td>Equatorial Guinea       </td><td>Africa                  </td><td>2007                    </td><td>51.579                  </td><td>   551201               </td><td>12154.0897              </td><td>618.948                 </td></tr>\n",
       "\t<tr><td>Uganda                  </td><td>Africa                  </td><td>2007                    </td><td>51.542                  </td><td> 29170398               </td><td> 1056.3801              </td><td>618.504                 </td></tr>\n",
       "\t<tr><td>Botswana                </td><td>Africa                  </td><td>2007                    </td><td>50.728                  </td><td>  1639131               </td><td>12569.8518              </td><td>608.736                 </td></tr>\n",
       "\t<tr><td>Chad                    </td><td>Africa                  </td><td>2007                    </td><td>50.651                  </td><td> 10238807               </td><td> 1704.0637              </td><td>607.812                 </td></tr>\n",
       "\t<tr><td>Cameroon                </td><td>Africa                  </td><td>2007                    </td><td>50.430                  </td><td> 17696293               </td><td> 2042.0952              </td><td>605.160                 </td></tr>\n",
       "\t<tr><td>Burundi                 </td><td>Africa                  </td><td>2007                    </td><td>49.580                  </td><td>  8390505               </td><td>  430.0707              </td><td>594.960                 </td></tr>\n",
       "\t<tr><td>South Africa            </td><td>Africa                  </td><td>2007                    </td><td>49.339                  </td><td> 43997828               </td><td> 9269.6578              </td><td>592.068                 </td></tr>\n",
       "\t<tr><td>Cote d'Ivoire           </td><td>Africa                  </td><td>2007                    </td><td>48.328                  </td><td> 18013409               </td><td> 1544.7501              </td><td>579.936                 </td></tr>\n",
       "\t<tr><td>Malawi                  </td><td>Africa                  </td><td>2007                    </td><td>48.303                  </td><td> 13327079               </td><td>  759.3499              </td><td>579.636                 </td></tr>\n",
       "\t<tr><td>Somalia                 </td><td>Africa                  </td><td>2007                    </td><td>48.159                  </td><td>  9118773               </td><td>  926.1411              </td><td>577.908                 </td></tr>\n",
       "\t<tr><td>Nigeria                 </td><td>Africa                  </td><td>2007                    </td><td>46.859                  </td><td>135031164               </td><td> 2013.9773              </td><td>562.308                 </td></tr>\n",
       "\t<tr><td>Congo, Dem. Rep.        </td><td>Africa                  </td><td>2007                    </td><td>46.462                  </td><td> 64606759               </td><td>  277.5519              </td><td>557.544                 </td></tr>\n",
       "\t<tr><td>Guinea-Bissau           </td><td>Africa                  </td><td>2007                    </td><td>46.388                  </td><td>  1472041               </td><td>  579.2317              </td><td>556.656                 </td></tr>\n",
       "\t<tr><td>Rwanda                  </td><td>Africa                  </td><td>2007                    </td><td>46.242                  </td><td>  8860588               </td><td>  863.0885              </td><td>554.904                 </td></tr>\n",
       "\t<tr><td>Liberia                 </td><td>Africa                  </td><td>2007                    </td><td>45.678                  </td><td>  3193942               </td><td>  414.5073              </td><td>548.136                 </td></tr>\n",
       "\t<tr><td>Central African Republic</td><td>Africa                  </td><td>2007                    </td><td>44.741                  </td><td>  4369038               </td><td>  706.0165              </td><td>536.892                 </td></tr>\n",
       "\t<tr><td>Afghanistan             </td><td>Asia                    </td><td>2007                    </td><td>43.828                  </td><td> 31889923               </td><td>  974.5803              </td><td>525.936                 </td></tr>\n",
       "\t<tr><td>Zimbabwe                </td><td>Africa                  </td><td>2007                    </td><td>43.487                  </td><td> 12311143               </td><td>  469.7093              </td><td>521.844                 </td></tr>\n",
       "\t<tr><td>Angola                  </td><td>Africa                  </td><td>2007                    </td><td>42.731                  </td><td> 12420476               </td><td> 4797.2313              </td><td>512.772                 </td></tr>\n",
       "\t<tr><td>Lesotho                 </td><td>Africa                  </td><td>2007                    </td><td>42.592                  </td><td>  2012649               </td><td> 1569.3314              </td><td>511.104                 </td></tr>\n",
       "\t<tr><td>Sierra Leone            </td><td>Africa                  </td><td>2007                    </td><td>42.568                  </td><td>  6144562               </td><td>  862.5408              </td><td>510.816                 </td></tr>\n",
       "\t<tr><td>Zambia                  </td><td>Africa                  </td><td>2007                    </td><td>42.384                  </td><td> 11746035               </td><td> 1271.2116              </td><td>508.608                 </td></tr>\n",
       "\t<tr><td>Mozambique              </td><td>Africa                  </td><td>2007                    </td><td>42.082                  </td><td> 19951656               </td><td>  823.6856              </td><td>504.984                 </td></tr>\n",
       "\t<tr><td>Swaziland               </td><td>Africa                  </td><td>2007                    </td><td>39.613                  </td><td>  1133066               </td><td> 4513.4806              </td><td>475.356                 </td></tr>\n",
       "</tbody>\n",
       "</table>\n"
      ],
      "text/latex": [
       "\\begin{tabular}{r|lllllll}\n",
       " country & continent & year & lifeExp & pop & gdpPercap & lifeExpMonths\\\\\n",
       "\\hline\n",
       "\t Japan            & Asia             & 2007             & 82.603           & 127467972        & 31656.068        & 991.236         \\\\\n",
       "\t Hong Kong, China & Asia             & 2007             & 82.208           &   6980412        & 39724.979        & 986.496         \\\\\n",
       "\t Iceland          & Europe           & 2007             & 81.757           &    301931        & 36180.789        & 981.084         \\\\\n",
       "\t Switzerland      & Europe           & 2007             & 81.701           &   7554661        & 37506.419        & 980.412         \\\\\n",
       "\t Australia        & Oceania          & 2007             & 81.235           &  20434176        & 34435.367        & 974.820         \\\\\n",
       "\t Spain            & Europe           & 2007             & 80.941           &  40448191        & 28821.064        & 971.292         \\\\\n",
       "\t Sweden           & Europe           & 2007             & 80.884           &   9031088        & 33859.748        & 970.608         \\\\\n",
       "\t Israel           & Asia             & 2007             & 80.745           &   6426679        & 25523.277        & 968.940         \\\\\n",
       "\t France           & Europe           & 2007             & 80.657           &  61083916        & 30470.017        & 967.884         \\\\\n",
       "\t Canada           & Americas         & 2007             & 80.653           &  33390141        & 36319.235        & 967.836         \\\\\n",
       "\t Italy            & Europe           & 2007             & 80.546           &  58147733        & 28569.720        & 966.552         \\\\\n",
       "\t New Zealand      & Oceania          & 2007             & 80.204           &   4115771        & 25185.009        & 962.448         \\\\\n",
       "\t Norway           & Europe           & 2007             & 80.196           &   4627926        & 49357.190        & 962.352         \\\\\n",
       "\t Singapore        & Asia             & 2007             & 79.972           &   4553009        & 47143.180        & 959.664         \\\\\n",
       "\t Austria          & Europe           & 2007             & 79.829           &   8199783        & 36126.493        & 957.948         \\\\\n",
       "\t Netherlands      & Europe           & 2007             & 79.762           &  16570613        & 36797.933        & 957.144         \\\\\n",
       "\t Greece           & Europe           & 2007             & 79.483           &  10706290        & 27538.412        & 953.796         \\\\\n",
       "\t Belgium          & Europe           & 2007             & 79.441           &  10392226        & 33692.605        & 953.292         \\\\\n",
       "\t United Kingdom   & Europe           & 2007             & 79.425           &  60776238        & 33203.261        & 953.100         \\\\\n",
       "\t Germany          & Europe           & 2007             & 79.406           &  82400996        & 32170.374        & 952.872         \\\\\n",
       "\t Finland          & Europe           & 2007             & 79.313           &   5238460        & 33207.084        & 951.756         \\\\\n",
       "\t Ireland          & Europe           & 2007             & 78.885           &   4109086        & 40675.996        & 946.620         \\\\\n",
       "\t Costa Rica       & Americas         & 2007             & 78.782           &   4133884        &  9645.061        & 945.384         \\\\\n",
       "\t Puerto Rico      & Americas         & 2007             & 78.746           &   3942491        & 19328.709        & 944.952         \\\\\n",
       "\t Korea, Rep.      & Asia             & 2007             & 78.623           &  49044790        & 23348.140        & 943.476         \\\\\n",
       "\t Chile            & Americas         & 2007             & 78.553           &  16284741        & 13171.639        & 942.636         \\\\\n",
       "\t Taiwan           & Asia             & 2007             & 78.400           &  23174294        & 28718.277        & 940.800         \\\\\n",
       "\t Denmark          & Europe           & 2007             & 78.332           &   5468120        & 35278.419        & 939.984         \\\\\n",
       "\t Cuba             & Americas         & 2007             & 78.273           &  11416987        &  8948.103        & 939.276         \\\\\n",
       "\t United States    & Americas         & 2007             & 78.242           & 301139947        & 42951.653        & 938.904         \\\\\n",
       "\t ... & ... & ... & ... & ... & ... & ...\\\\\n",
       "\t Mali                     & Africa                   & 2007                     & 54.467                   &  12031795                &  1042.5816               & 653.604                 \\\\\n",
       "\t Kenya                    & Africa                   & 2007                     & 54.110                   &  35610177                &  1463.2493               & 649.320                 \\\\\n",
       "\t Ethiopia                 & Africa                   & 2007                     & 52.947                   &  76511887                &   690.8056               & 635.364                 \\\\\n",
       "\t Namibia                  & Africa                   & 2007                     & 52.906                   &   2055080                &  4811.0604               & 634.872                 \\\\\n",
       "\t Tanzania                 & Africa                   & 2007                     & 52.517                   &  38139640                &  1107.4822               & 630.204                 \\\\\n",
       "\t Burkina Faso             & Africa                   & 2007                     & 52.295                   &  14326203                &  1217.0330               & 627.540                 \\\\\n",
       "\t Equatorial Guinea        & Africa                   & 2007                     & 51.579                   &    551201                & 12154.0897               & 618.948                 \\\\\n",
       "\t Uganda                   & Africa                   & 2007                     & 51.542                   &  29170398                &  1056.3801               & 618.504                 \\\\\n",
       "\t Botswana                 & Africa                   & 2007                     & 50.728                   &   1639131                & 12569.8518               & 608.736                 \\\\\n",
       "\t Chad                     & Africa                   & 2007                     & 50.651                   &  10238807                &  1704.0637               & 607.812                 \\\\\n",
       "\t Cameroon                 & Africa                   & 2007                     & 50.430                   &  17696293                &  2042.0952               & 605.160                 \\\\\n",
       "\t Burundi                  & Africa                   & 2007                     & 49.580                   &   8390505                &   430.0707               & 594.960                 \\\\\n",
       "\t South Africa             & Africa                   & 2007                     & 49.339                   &  43997828                &  9269.6578               & 592.068                 \\\\\n",
       "\t Cote d'Ivoire            & Africa                   & 2007                     & 48.328                   &  18013409                &  1544.7501               & 579.936                 \\\\\n",
       "\t Malawi                   & Africa                   & 2007                     & 48.303                   &  13327079                &   759.3499               & 579.636                 \\\\\n",
       "\t Somalia                  & Africa                   & 2007                     & 48.159                   &   9118773                &   926.1411               & 577.908                 \\\\\n",
       "\t Nigeria                  & Africa                   & 2007                     & 46.859                   & 135031164                &  2013.9773               & 562.308                 \\\\\n",
       "\t Congo, Dem. Rep.         & Africa                   & 2007                     & 46.462                   &  64606759                &   277.5519               & 557.544                 \\\\\n",
       "\t Guinea-Bissau            & Africa                   & 2007                     & 46.388                   &   1472041                &   579.2317               & 556.656                 \\\\\n",
       "\t Rwanda                   & Africa                   & 2007                     & 46.242                   &   8860588                &   863.0885               & 554.904                 \\\\\n",
       "\t Liberia                  & Africa                   & 2007                     & 45.678                   &   3193942                &   414.5073               & 548.136                 \\\\\n",
       "\t Central African Republic & Africa                   & 2007                     & 44.741                   &   4369038                &   706.0165               & 536.892                 \\\\\n",
       "\t Afghanistan              & Asia                     & 2007                     & 43.828                   &  31889923                &   974.5803               & 525.936                 \\\\\n",
       "\t Zimbabwe                 & Africa                   & 2007                     & 43.487                   &  12311143                &   469.7093               & 521.844                 \\\\\n",
       "\t Angola                   & Africa                   & 2007                     & 42.731                   &  12420476                &  4797.2313               & 512.772                 \\\\\n",
       "\t Lesotho                  & Africa                   & 2007                     & 42.592                   &   2012649                &  1569.3314               & 511.104                 \\\\\n",
       "\t Sierra Leone             & Africa                   & 2007                     & 42.568                   &   6144562                &   862.5408               & 510.816                 \\\\\n",
       "\t Zambia                   & Africa                   & 2007                     & 42.384                   &  11746035                &  1271.2116               & 508.608                 \\\\\n",
       "\t Mozambique               & Africa                   & 2007                     & 42.082                   &  19951656                &   823.6856               & 504.984                 \\\\\n",
       "\t Swaziland                & Africa                   & 2007                     & 39.613                   &   1133066                &  4513.4806               & 475.356                 \\\\\n",
       "\\end{tabular}\n"
      ],
      "text/markdown": [
       "\n",
       "country | continent | year | lifeExp | pop | gdpPercap | lifeExpMonths | \n",
       "|---|---|---|---|---|---|---|---|---|---|---|---|---|---|---|---|---|---|---|---|---|---|---|---|---|---|---|---|---|---|---|---|---|---|---|---|---|---|---|---|---|---|---|---|---|---|---|---|---|---|---|---|---|---|---|---|---|---|---|---|---|\n",
       "| Japan            | Asia             | 2007             | 82.603           | 127467972        | 31656.068        | 991.236          | \n",
       "| Hong Kong, China | Asia             | 2007             | 82.208           |   6980412        | 39724.979        | 986.496          | \n",
       "| Iceland          | Europe           | 2007             | 81.757           |    301931        | 36180.789        | 981.084          | \n",
       "| Switzerland      | Europe           | 2007             | 81.701           |   7554661        | 37506.419        | 980.412          | \n",
       "| Australia        | Oceania          | 2007             | 81.235           |  20434176        | 34435.367        | 974.820          | \n",
       "| Spain            | Europe           | 2007             | 80.941           |  40448191        | 28821.064        | 971.292          | \n",
       "| Sweden           | Europe           | 2007             | 80.884           |   9031088        | 33859.748        | 970.608          | \n",
       "| Israel           | Asia             | 2007             | 80.745           |   6426679        | 25523.277        | 968.940          | \n",
       "| France           | Europe           | 2007             | 80.657           |  61083916        | 30470.017        | 967.884          | \n",
       "| Canada           | Americas         | 2007             | 80.653           |  33390141        | 36319.235        | 967.836          | \n",
       "| Italy            | Europe           | 2007             | 80.546           |  58147733        | 28569.720        | 966.552          | \n",
       "| New Zealand      | Oceania          | 2007             | 80.204           |   4115771        | 25185.009        | 962.448          | \n",
       "| Norway           | Europe           | 2007             | 80.196           |   4627926        | 49357.190        | 962.352          | \n",
       "| Singapore        | Asia             | 2007             | 79.972           |   4553009        | 47143.180        | 959.664          | \n",
       "| Austria          | Europe           | 2007             | 79.829           |   8199783        | 36126.493        | 957.948          | \n",
       "| Netherlands      | Europe           | 2007             | 79.762           |  16570613        | 36797.933        | 957.144          | \n",
       "| Greece           | Europe           | 2007             | 79.483           |  10706290        | 27538.412        | 953.796          | \n",
       "| Belgium          | Europe           | 2007             | 79.441           |  10392226        | 33692.605        | 953.292          | \n",
       "| United Kingdom   | Europe           | 2007             | 79.425           |  60776238        | 33203.261        | 953.100          | \n",
       "| Germany          | Europe           | 2007             | 79.406           |  82400996        | 32170.374        | 952.872          | \n",
       "| Finland          | Europe           | 2007             | 79.313           |   5238460        | 33207.084        | 951.756          | \n",
       "| Ireland          | Europe           | 2007             | 78.885           |   4109086        | 40675.996        | 946.620          | \n",
       "| Costa Rica       | Americas         | 2007             | 78.782           |   4133884        |  9645.061        | 945.384          | \n",
       "| Puerto Rico      | Americas         | 2007             | 78.746           |   3942491        | 19328.709        | 944.952          | \n",
       "| Korea, Rep.      | Asia             | 2007             | 78.623           |  49044790        | 23348.140        | 943.476          | \n",
       "| Chile            | Americas         | 2007             | 78.553           |  16284741        | 13171.639        | 942.636          | \n",
       "| Taiwan           | Asia             | 2007             | 78.400           |  23174294        | 28718.277        | 940.800          | \n",
       "| Denmark          | Europe           | 2007             | 78.332           |   5468120        | 35278.419        | 939.984          | \n",
       "| Cuba             | Americas         | 2007             | 78.273           |  11416987        |  8948.103        | 939.276          | \n",
       "| United States    | Americas         | 2007             | 78.242           | 301139947        | 42951.653        | 938.904          | \n",
       "| ... | ... | ... | ... | ... | ... | ... | \n",
       "| Mali                     | Africa                   | 2007                     | 54.467                   |  12031795                |  1042.5816               | 653.604                  | \n",
       "| Kenya                    | Africa                   | 2007                     | 54.110                   |  35610177                |  1463.2493               | 649.320                  | \n",
       "| Ethiopia                 | Africa                   | 2007                     | 52.947                   |  76511887                |   690.8056               | 635.364                  | \n",
       "| Namibia                  | Africa                   | 2007                     | 52.906                   |   2055080                |  4811.0604               | 634.872                  | \n",
       "| Tanzania                 | Africa                   | 2007                     | 52.517                   |  38139640                |  1107.4822               | 630.204                  | \n",
       "| Burkina Faso             | Africa                   | 2007                     | 52.295                   |  14326203                |  1217.0330               | 627.540                  | \n",
       "| Equatorial Guinea        | Africa                   | 2007                     | 51.579                   |    551201                | 12154.0897               | 618.948                  | \n",
       "| Uganda                   | Africa                   | 2007                     | 51.542                   |  29170398                |  1056.3801               | 618.504                  | \n",
       "| Botswana                 | Africa                   | 2007                     | 50.728                   |   1639131                | 12569.8518               | 608.736                  | \n",
       "| Chad                     | Africa                   | 2007                     | 50.651                   |  10238807                |  1704.0637               | 607.812                  | \n",
       "| Cameroon                 | Africa                   | 2007                     | 50.430                   |  17696293                |  2042.0952               | 605.160                  | \n",
       "| Burundi                  | Africa                   | 2007                     | 49.580                   |   8390505                |   430.0707               | 594.960                  | \n",
       "| South Africa             | Africa                   | 2007                     | 49.339                   |  43997828                |  9269.6578               | 592.068                  | \n",
       "| Cote d'Ivoire            | Africa                   | 2007                     | 48.328                   |  18013409                |  1544.7501               | 579.936                  | \n",
       "| Malawi                   | Africa                   | 2007                     | 48.303                   |  13327079                |   759.3499               | 579.636                  | \n",
       "| Somalia                  | Africa                   | 2007                     | 48.159                   |   9118773                |   926.1411               | 577.908                  | \n",
       "| Nigeria                  | Africa                   | 2007                     | 46.859                   | 135031164                |  2013.9773               | 562.308                  | \n",
       "| Congo, Dem. Rep.         | Africa                   | 2007                     | 46.462                   |  64606759                |   277.5519               | 557.544                  | \n",
       "| Guinea-Bissau            | Africa                   | 2007                     | 46.388                   |   1472041                |   579.2317               | 556.656                  | \n",
       "| Rwanda                   | Africa                   | 2007                     | 46.242                   |   8860588                |   863.0885               | 554.904                  | \n",
       "| Liberia                  | Africa                   | 2007                     | 45.678                   |   3193942                |   414.5073               | 548.136                  | \n",
       "| Central African Republic | Africa                   | 2007                     | 44.741                   |   4369038                |   706.0165               | 536.892                  | \n",
       "| Afghanistan              | Asia                     | 2007                     | 43.828                   |  31889923                |   974.5803               | 525.936                  | \n",
       "| Zimbabwe                 | Africa                   | 2007                     | 43.487                   |  12311143                |   469.7093               | 521.844                  | \n",
       "| Angola                   | Africa                   | 2007                     | 42.731                   |  12420476                |  4797.2313               | 512.772                  | \n",
       "| Lesotho                  | Africa                   | 2007                     | 42.592                   |   2012649                |  1569.3314               | 511.104                  | \n",
       "| Sierra Leone             | Africa                   | 2007                     | 42.568                   |   6144562                |   862.5408               | 510.816                  | \n",
       "| Zambia                   | Africa                   | 2007                     | 42.384                   |  11746035                |  1271.2116               | 508.608                  | \n",
       "| Mozambique               | Africa                   | 2007                     | 42.082                   |  19951656                |   823.6856               | 504.984                  | \n",
       "| Swaziland                | Africa                   | 2007                     | 39.613                   |   1133066                |  4513.4806               | 475.356                  | \n",
       "\n",
       "\n"
      ],
      "text/plain": [
       "    country                  continent year lifeExp pop       gdpPercap \n",
       "1   Japan                    Asia      2007 82.603  127467972 31656.068 \n",
       "2   Hong Kong, China         Asia      2007 82.208    6980412 39724.979 \n",
       "3   Iceland                  Europe    2007 81.757     301931 36180.789 \n",
       "4   Switzerland              Europe    2007 81.701    7554661 37506.419 \n",
       "5   Australia                Oceania   2007 81.235   20434176 34435.367 \n",
       "6   Spain                    Europe    2007 80.941   40448191 28821.064 \n",
       "7   Sweden                   Europe    2007 80.884    9031088 33859.748 \n",
       "8   Israel                   Asia      2007 80.745    6426679 25523.277 \n",
       "9   France                   Europe    2007 80.657   61083916 30470.017 \n",
       "10  Canada                   Americas  2007 80.653   33390141 36319.235 \n",
       "11  Italy                    Europe    2007 80.546   58147733 28569.720 \n",
       "12  New Zealand              Oceania   2007 80.204    4115771 25185.009 \n",
       "13  Norway                   Europe    2007 80.196    4627926 49357.190 \n",
       "14  Singapore                Asia      2007 79.972    4553009 47143.180 \n",
       "15  Austria                  Europe    2007 79.829    8199783 36126.493 \n",
       "16  Netherlands              Europe    2007 79.762   16570613 36797.933 \n",
       "17  Greece                   Europe    2007 79.483   10706290 27538.412 \n",
       "18  Belgium                  Europe    2007 79.441   10392226 33692.605 \n",
       "19  United Kingdom           Europe    2007 79.425   60776238 33203.261 \n",
       "20  Germany                  Europe    2007 79.406   82400996 32170.374 \n",
       "21  Finland                  Europe    2007 79.313    5238460 33207.084 \n",
       "22  Ireland                  Europe    2007 78.885    4109086 40675.996 \n",
       "23  Costa Rica               Americas  2007 78.782    4133884  9645.061 \n",
       "24  Puerto Rico              Americas  2007 78.746    3942491 19328.709 \n",
       "25  Korea, Rep.              Asia      2007 78.623   49044790 23348.140 \n",
       "26  Chile                    Americas  2007 78.553   16284741 13171.639 \n",
       "27  Taiwan                   Asia      2007 78.400   23174294 28718.277 \n",
       "28  Denmark                  Europe    2007 78.332    5468120 35278.419 \n",
       "29  Cuba                     Americas  2007 78.273   11416987  8948.103 \n",
       "30  United States            Americas  2007 78.242  301139947 42951.653 \n",
       "... ...                      ...       ...  ...     ...       ...       \n",
       "113 Mali                     Africa    2007 54.467   12031795  1042.5816\n",
       "114 Kenya                    Africa    2007 54.110   35610177  1463.2493\n",
       "115 Ethiopia                 Africa    2007 52.947   76511887   690.8056\n",
       "116 Namibia                  Africa    2007 52.906    2055080  4811.0604\n",
       "117 Tanzania                 Africa    2007 52.517   38139640  1107.4822\n",
       "118 Burkina Faso             Africa    2007 52.295   14326203  1217.0330\n",
       "119 Equatorial Guinea        Africa    2007 51.579     551201 12154.0897\n",
       "120 Uganda                   Africa    2007 51.542   29170398  1056.3801\n",
       "121 Botswana                 Africa    2007 50.728    1639131 12569.8518\n",
       "122 Chad                     Africa    2007 50.651   10238807  1704.0637\n",
       "123 Cameroon                 Africa    2007 50.430   17696293  2042.0952\n",
       "124 Burundi                  Africa    2007 49.580    8390505   430.0707\n",
       "125 South Africa             Africa    2007 49.339   43997828  9269.6578\n",
       "126 Cote d'Ivoire            Africa    2007 48.328   18013409  1544.7501\n",
       "127 Malawi                   Africa    2007 48.303   13327079   759.3499\n",
       "128 Somalia                  Africa    2007 48.159    9118773   926.1411\n",
       "129 Nigeria                  Africa    2007 46.859  135031164  2013.9773\n",
       "130 Congo, Dem. Rep.         Africa    2007 46.462   64606759   277.5519\n",
       "131 Guinea-Bissau            Africa    2007 46.388    1472041   579.2317\n",
       "132 Rwanda                   Africa    2007 46.242    8860588   863.0885\n",
       "133 Liberia                  Africa    2007 45.678    3193942   414.5073\n",
       "134 Central African Republic Africa    2007 44.741    4369038   706.0165\n",
       "135 Afghanistan              Asia      2007 43.828   31889923   974.5803\n",
       "136 Zimbabwe                 Africa    2007 43.487   12311143   469.7093\n",
       "137 Angola                   Africa    2007 42.731   12420476  4797.2313\n",
       "138 Lesotho                  Africa    2007 42.592    2012649  1569.3314\n",
       "139 Sierra Leone             Africa    2007 42.568    6144562   862.5408\n",
       "140 Zambia                   Africa    2007 42.384   11746035  1271.2116\n",
       "141 Mozambique               Africa    2007 42.082   19951656   823.6856\n",
       "142 Swaziland                Africa    2007 39.613    1133066  4513.4806\n",
       "    lifeExpMonths\n",
       "1   991.236      \n",
       "2   986.496      \n",
       "3   981.084      \n",
       "4   980.412      \n",
       "5   974.820      \n",
       "6   971.292      \n",
       "7   970.608      \n",
       "8   968.940      \n",
       "9   967.884      \n",
       "10  967.836      \n",
       "11  966.552      \n",
       "12  962.448      \n",
       "13  962.352      \n",
       "14  959.664      \n",
       "15  957.948      \n",
       "16  957.144      \n",
       "17  953.796      \n",
       "18  953.292      \n",
       "19  953.100      \n",
       "20  952.872      \n",
       "21  951.756      \n",
       "22  946.620      \n",
       "23  945.384      \n",
       "24  944.952      \n",
       "25  943.476      \n",
       "26  942.636      \n",
       "27  940.800      \n",
       "28  939.984      \n",
       "29  939.276      \n",
       "30  938.904      \n",
       "... ...          \n",
       "113 653.604      \n",
       "114 649.320      \n",
       "115 635.364      \n",
       "116 634.872      \n",
       "117 630.204      \n",
       "118 627.540      \n",
       "119 618.948      \n",
       "120 618.504      \n",
       "121 608.736      \n",
       "122 607.812      \n",
       "123 605.160      \n",
       "124 594.960      \n",
       "125 592.068      \n",
       "126 579.936      \n",
       "127 579.636      \n",
       "128 577.908      \n",
       "129 562.308      \n",
       "130 557.544      \n",
       "131 556.656      \n",
       "132 554.904      \n",
       "133 548.136      \n",
       "134 536.892      \n",
       "135 525.936      \n",
       "136 521.844      \n",
       "137 512.772      \n",
       "138 511.104      \n",
       "139 510.816      \n",
       "140 508.608      \n",
       "141 504.984      \n",
       "142 475.356      "
      ]
     },
     "metadata": {},
     "output_type": "display_data"
    }
   ],
   "source": [
    "# find the countries with the highest life expectancy, in months, in the year 2007.\n",
    "gapminder %>%\n",
    "  filter(year == 2007) %>%\n",
    "  mutate(lifeExpMonths = 12 * lifeExp) %>%\n",
    "  arrange(desc(lifeExpMonths))"
   ]
  },
  {
   "cell_type": "markdown",
   "metadata": {},
   "source": [
    "## visualization in ggplot2"
   ]
  },
  {
   "cell_type": "code",
   "execution_count": 5,
   "metadata": {},
   "outputs": [
    {
     "data": {},
     "metadata": {},
     "output_type": "display_data"
    },
    {
     "data": {
      "image/png": "[encoded data removed]",
      "text/plain": [
       "plot without title"
      ]
     },
     "metadata": {},
     "output_type": "display_data"
    }
   ],
   "source": [
    "#Comparing population and GDP per capita\n",
    "\n",
    "gapminder_1952 <- gapminder %>%\n",
    "  filter(year == 1952)\n",
    "\n",
    "# Change to put pop on the x-axis and gdpPercap on the y-axis\n",
    "ggplot(gapminder_1952, aes(x = pop, y = gdpPercap)) +\n",
    "  geom_point()"
   ]
  },
  {
   "cell_type": "code",
   "execution_count": 6,
   "metadata": {},
   "outputs": [
    {
     "ename": "ERROR",
     "evalue": "Error in parse(text = x, srcfile = src): <text>:6:0: unerwartetes Ende der Eingabe\n4:   \n5: # You might notice the points are crowded towards the left side of the plot, making them hard to distinguish. \n  ^\n",
     "output_type": "error",
     "traceback": [
      "Error in parse(text = x, srcfile = src): <text>:6:0: unerwartetes Ende der Eingabe\n4:   \n5: # You might notice the points are crowded towards the left side of the plot, making them hard to distinguish. \n  ^\nTraceback:\n"
     ]
    }
   ],
   "source": [
    "# Comparing population and life expectancy\n",
    "ggplot(gapminder_1952, aes(x = pop, y = lifeExp) +\n",
    "  geom_point()\n",
    "  \n",
    "# You might notice the points are crowded towards the left side of the plot, making them hard to distinguish. "
   ]
  },
  {
   "cell_type": "markdown",
   "metadata": {},
   "source": [
    "### Putting the x-axis on a log scale\n",
    "\n",
    "You previously created a scatter plot with population on the x-axis and life expectancy on the y-axis. Since population is spread over several orders of magnitude, with some countries having a much higher population than others, it's a good idea to put the x-axis on a log scale."
   ]
  },
  {
   "cell_type": "code",
   "execution_count": 7,
   "metadata": {},
   "outputs": [
    {
     "data": {},
     "metadata": {},
     "output_type": "display_data"
    },
    {
     "data": {
      "image/png": "[encoded data removed]",
      "text/plain": [
       "plot without title"
      ]
     },
     "metadata": {},
     "output_type": "display_data"
    }
   ],
   "source": [
    "ggplot(gapminder_1952, aes(x = pop, y = lifeExp)) +\n",
    "  geom_point() +\n",
    "  scale_x_log10()\n",
    "  \n",
    "# This makes it easy to see that there isn't a correlation between population and life expectancy."
   ]
  },
  {
   "cell_type": "markdown",
   "metadata": {},
   "source": [
    "### Putting the x- and y- axes on a log scale\n",
    "Suppose you want to create a scatter plot with population on the x-axis and GDP per capita on the y-axis. Both population and GDP per-capita are better represented with log scales, since they vary over many orders of magnitude."
   ]
  },
  {
   "cell_type": "code",
   "execution_count": 8,
   "metadata": {},
   "outputs": [
    {
     "data": {},
     "metadata": {},
     "output_type": "display_data"
    },
    {
     "data": {
      "image/png": "[encoded data removed]",
      "text/plain": [
       "plot without title"
      ]
     },
     "metadata": {},
     "output_type": "display_data"
    }
   ],
   "source": [
    "ggplot(gapminder_1952, aes(x = pop, y = gdpPercap))+\n",
    "  geom_point() +\n",
    "  scale_x_log10() +\n",
    "  scale_y_log10()"
   ]
  },
  {
   "cell_type": "markdown",
   "metadata": {},
   "source": [
    "### additional aesthetics\n",
    "color and size"
   ]
  },
  {
   "cell_type": "code",
   "execution_count": 9,
   "metadata": {},
   "outputs": [
    {
     "data": {},
     "metadata": {},
     "output_type": "display_data"
    },
    {
     "data": {
      "image/png": "[encoded data removed]",
      "text/plain": [
       "plot without title"
      ]
     },
     "metadata": {},
     "output_type": "display_data"
    }
   ],
   "source": [
    "ggplot(gapminder_1952, aes(x = pop, y = lifeExp, color = continent, size = gdpPercap)) +\n",
    "  geom_point() +\n",
    "  scale_x_log10()"
   ]
  },
  {
   "cell_type": "markdown",
   "metadata": {},
   "source": [
    "### Faceting\n",
    "Creating a subgraph for each continent\n",
    "\n",
    "You've learned to use faceting to divide a graph into subplots based on one of its variables, such as the continent."
   ]
  },
  {
   "cell_type": "code",
   "execution_count": 10,
   "metadata": {},
   "outputs": [
    {
     "data": {},
     "metadata": {},
     "output_type": "display_data"
    },
    {
     "data": {
      "image/png": "[encoded data removed]",
      "text/plain": [
       "plot without title"
      ]
     },
     "metadata": {},
     "output_type": "display_data"
    }
   ],
   "source": [
    "ggplot(gapminder_1952, aes(x = pop, y = lifeExp)) + \n",
    "  geom_point() +\n",
    "  scale_x_log10() +\n",
    "  facet_wrap(~ continent)"
   ]
  },
  {
   "cell_type": "code",
   "execution_count": 11,
   "metadata": {},
   "outputs": [
    {
     "data": {},
     "metadata": {},
     "output_type": "display_data"
    },
    {
     "data": {
      "image/png": "[encoded data removed]",
      "text/plain": [
       "plot without title"
      ]
     },
     "metadata": {},
     "output_type": "display_data"
    }
   ],
   "source": [
    "ggplot(gapminder, aes(x = gdpPercap, y = lifeExp, color = continent, size = pop)) +\n",
    "  geom_point() +\n",
    "  scale_x_log10() +\n",
    "  facet_wrap(~ year)"
   ]
  },
  {
   "cell_type": "markdown",
   "metadata": {},
   "source": [
    "## Summarize\n",
    "Summarizing the median life expectancy"
   ]
  },
  {
   "cell_type": "code",
   "execution_count": 12,
   "metadata": {},
   "outputs": [
    {
     "data": {
      "text/html": [
       "<table>\n",
       "<thead><tr><th scope=col>medianLifeExp</th></tr></thead>\n",
       "<tbody>\n",
       "\t<tr><td>60.7125</td></tr>\n",
       "</tbody>\n",
       "</table>\n"
      ],
      "text/latex": [
       "\\begin{tabular}{r|l}\n",
       " medianLifeExp\\\\\n",
       "\\hline\n",
       "\t 60.7125\\\\\n",
       "\\end{tabular}\n"
      ],
      "text/markdown": [
       "\n",
       "medianLifeExp | \n",
       "|---|\n",
       "| 60.7125 | \n",
       "\n",
       "\n"
      ],
      "text/plain": [
       "  medianLifeExp\n",
       "1 60.7125      "
      ]
     },
     "metadata": {},
     "output_type": "display_data"
    }
   ],
   "source": [
    "gapminder %>%\n",
    "  summarize(medianLifeExp = median(lifeExp))"
   ]
  },
  {
   "cell_type": "code",
   "execution_count": 13,
   "metadata": {},
   "outputs": [
    {
     "data": {
      "text/html": [
       "<table>\n",
       "<thead><tr><th scope=col>medianLifeExp</th><th scope=col>maxGdpPercap</th></tr></thead>\n",
       "<tbody>\n",
       "\t<tr><td>48.3605 </td><td>113523.1</td></tr>\n",
       "</tbody>\n",
       "</table>\n"
      ],
      "text/latex": [
       "\\begin{tabular}{r|ll}\n",
       " medianLifeExp & maxGdpPercap\\\\\n",
       "\\hline\n",
       "\t 48.3605  & 113523.1\\\\\n",
       "\\end{tabular}\n"
      ],
      "text/markdown": [
       "\n",
       "medianLifeExp | maxGdpPercap | \n",
       "|---|\n",
       "| 48.3605  | 113523.1 | \n",
       "\n",
       "\n"
      ],
      "text/plain": [
       "  medianLifeExp maxGdpPercap\n",
       "1 48.3605       113523.1    "
      ]
     },
     "metadata": {},
     "output_type": "display_data"
    }
   ],
   "source": [
    "gapminder %>%\n",
    "  filter(year == 1957) %>%\n",
    "  summarize(medianLifeExp = median(lifeExp), maxGdpPercap = max(gdpPercap))"
   ]
  },
  {
   "cell_type": "markdown",
   "metadata": {},
   "source": [
    "## Group by\n"
   ]
  },
  {
   "cell_type": "code",
   "execution_count": 14,
   "metadata": {},
   "outputs": [
    {
     "data": {
      "text/html": [
       "<table>\n",
       "<thead><tr><th scope=col>year</th><th scope=col>medianLifeExp</th><th scope=col>maxGdpPercap</th></tr></thead>\n",
       "<tbody>\n",
       "\t<tr><td>1952     </td><td>45.1355  </td><td>108382.35</td></tr>\n",
       "\t<tr><td>1957     </td><td>48.3605  </td><td>113523.13</td></tr>\n",
       "\t<tr><td>1962     </td><td>50.8810  </td><td> 95458.11</td></tr>\n",
       "\t<tr><td>1967     </td><td>53.8250  </td><td> 80894.88</td></tr>\n",
       "\t<tr><td>1972     </td><td>56.5300  </td><td>109347.87</td></tr>\n",
       "\t<tr><td>1977     </td><td>59.6720  </td><td> 59265.48</td></tr>\n",
       "\t<tr><td>1982     </td><td>62.4415  </td><td> 33693.18</td></tr>\n",
       "\t<tr><td>1987     </td><td>65.8340  </td><td> 31540.97</td></tr>\n",
       "\t<tr><td>1992     </td><td>67.7030  </td><td> 34932.92</td></tr>\n",
       "\t<tr><td>1997     </td><td>69.3940  </td><td> 41283.16</td></tr>\n",
       "\t<tr><td>2002     </td><td>70.8255  </td><td> 44683.98</td></tr>\n",
       "\t<tr><td>2007     </td><td>71.9355  </td><td> 49357.19</td></tr>\n",
       "</tbody>\n",
       "</table>\n"
      ],
      "text/latex": [
       "\\begin{tabular}{r|lll}\n",
       " year & medianLifeExp & maxGdpPercap\\\\\n",
       "\\hline\n",
       "\t 1952      & 45.1355   & 108382.35\\\\\n",
       "\t 1957      & 48.3605   & 113523.13\\\\\n",
       "\t 1962      & 50.8810   &  95458.11\\\\\n",
       "\t 1967      & 53.8250   &  80894.88\\\\\n",
       "\t 1972      & 56.5300   & 109347.87\\\\\n",
       "\t 1977      & 59.6720   &  59265.48\\\\\n",
       "\t 1982      & 62.4415   &  33693.18\\\\\n",
       "\t 1987      & 65.8340   &  31540.97\\\\\n",
       "\t 1992      & 67.7030   &  34932.92\\\\\n",
       "\t 1997      & 69.3940   &  41283.16\\\\\n",
       "\t 2002      & 70.8255   &  44683.98\\\\\n",
       "\t 2007      & 71.9355   &  49357.19\\\\\n",
       "\\end{tabular}\n"
      ],
      "text/markdown": [
       "\n",
       "year | medianLifeExp | maxGdpPercap | \n",
       "|---|---|---|---|---|---|---|---|---|---|---|---|\n",
       "| 1952      | 45.1355   | 108382.35 | \n",
       "| 1957      | 48.3605   | 113523.13 | \n",
       "| 1962      | 50.8810   |  95458.11 | \n",
       "| 1967      | 53.8250   |  80894.88 | \n",
       "| 1972      | 56.5300   | 109347.87 | \n",
       "| 1977      | 59.6720   |  59265.48 | \n",
       "| 1982      | 62.4415   |  33693.18 | \n",
       "| 1987      | 65.8340   |  31540.97 | \n",
       "| 1992      | 67.7030   |  34932.92 | \n",
       "| 1997      | 69.3940   |  41283.16 | \n",
       "| 2002      | 70.8255   |  44683.98 | \n",
       "| 2007      | 71.9355   |  49357.19 | \n",
       "\n",
       "\n"
      ],
      "text/plain": [
       "   year medianLifeExp maxGdpPercap\n",
       "1  1952 45.1355       108382.35   \n",
       "2  1957 48.3605       113523.13   \n",
       "3  1962 50.8810        95458.11   \n",
       "4  1967 53.8250        80894.88   \n",
       "5  1972 56.5300       109347.87   \n",
       "6  1977 59.6720        59265.48   \n",
       "7  1982 62.4415        33693.18   \n",
       "8  1987 65.8340        31540.97   \n",
       "9  1992 67.7030        34932.92   \n",
       "10 1997 69.3940        41283.16   \n",
       "11 2002 70.8255        44683.98   \n",
       "12 2007 71.9355        49357.19   "
      ]
     },
     "metadata": {},
     "output_type": "display_data"
    }
   ],
   "source": [
    "# Find median life expectancy and maximum GDP per capita in each year\n",
    "\n",
    "gapminder %>%\n",
    "  group_by(year) %>%\n",
    "  summarize(medianLifeExp = median(lifeExp), maxGdpPercap = max(gdpPercap))\n",
    "  \n",
    "#Interesting: notice that median life expectancy across countries is generally going up over time, but maximum GDP per capita is not. "
   ]
  },
  {
   "cell_type": "code",
   "execution_count": 15,
   "metadata": {},
   "outputs": [
    {
     "data": {
      "text/html": [
       "<table>\n",
       "<thead><tr><th scope=col>continent</th><th scope=col>medianLifeExp</th><th scope=col>maxGdpPercap</th></tr></thead>\n",
       "<tbody>\n",
       "\t<tr><td>Africa    </td><td>40.5925   </td><td>  5487.104</td></tr>\n",
       "\t<tr><td>Americas  </td><td>56.0740   </td><td> 14847.127</td></tr>\n",
       "\t<tr><td>Asia      </td><td>48.2840   </td><td>113523.133</td></tr>\n",
       "\t<tr><td>Europe    </td><td>67.6500   </td><td> 17909.490</td></tr>\n",
       "\t<tr><td>Oceania   </td><td>70.2950   </td><td> 12247.395</td></tr>\n",
       "</tbody>\n",
       "</table>\n"
      ],
      "text/latex": [
       "\\begin{tabular}{r|lll}\n",
       " continent & medianLifeExp & maxGdpPercap\\\\\n",
       "\\hline\n",
       "\t Africa     & 40.5925    &   5487.104\\\\\n",
       "\t Americas   & 56.0740    &  14847.127\\\\\n",
       "\t Asia       & 48.2840    & 113523.133\\\\\n",
       "\t Europe     & 67.6500    &  17909.490\\\\\n",
       "\t Oceania    & 70.2950    &  12247.395\\\\\n",
       "\\end{tabular}\n"
      ],
      "text/markdown": [
       "\n",
       "continent | medianLifeExp | maxGdpPercap | \n",
       "|---|---|---|---|---|\n",
       "| Africa     | 40.5925    |   5487.104 | \n",
       "| Americas   | 56.0740    |  14847.127 | \n",
       "| Asia       | 48.2840    | 113523.133 | \n",
       "| Europe     | 67.6500    |  17909.490 | \n",
       "| Oceania    | 70.2950    |  12247.395 | \n",
       "\n",
       "\n"
      ],
      "text/plain": [
       "  continent medianLifeExp maxGdpPercap\n",
       "1 Africa    40.5925         5487.104  \n",
       "2 Americas  56.0740        14847.127  \n",
       "3 Asia      48.2840       113523.133  \n",
       "4 Europe    67.6500        17909.490  \n",
       "5 Oceania   70.2950        12247.395  "
      ]
     },
     "metadata": {},
     "output_type": "display_data"
    }
   ],
   "source": [
    "# Find median life expectancy and maximum GDP per capita in each continent in 1957\n",
    "gapminder %>%\n",
    "  group_by(continent) %>%\n",
    "  filter(year == 1957) %>%\n",
    "  summarize(medianLifeExp = median(lifeExp), maxGdpPercap = max(gdpPercap))"
   ]
  },
  {
   "cell_type": "markdown",
   "metadata": {},
   "source": [
    "## Visiualizing summarized data\n"
   ]
  },
  {
   "cell_type": "code",
   "execution_count": 16,
   "metadata": {},
   "outputs": [
    {
     "data": {},
     "metadata": {},
     "output_type": "display_data"
    },
    {
     "data": {
      "image/png": "[encoded data removed]",
      "text/plain": [
       "plot without title"
      ]
     },
     "metadata": {},
     "output_type": "display_data"
    }
   ],
   "source": [
    "by_year <- gapminder %>%\n",
    "  group_by(year) %>%\n",
    "  summarize(medianLifeExp = median(lifeExp),\n",
    "            maxGdpPercap = max(gdpPercap))\n",
    "\n",
    "# Create a scatter plot showing the change in medianLifeExp over time\n",
    "ggplot(by_year, aes(x = year, y = medianLifeExp)) +\n",
    "  geom_point() +\n",
    "  expand_limits(y = 0)"
   ]
  },
  {
   "cell_type": "code",
   "execution_count": 17,
   "metadata": {},
   "outputs": [
    {
     "data": {},
     "metadata": {},
     "output_type": "display_data"
    },
    {
     "data": {
      "image/png": "[encoded data removed]",
      "text/plain": [
       "plot without title"
      ]
     },
     "metadata": {},
     "output_type": "display_data"
    }
   ],
   "source": [
    "# Summarize medianGdpPercap within each continent within each year: by_year_continent\n",
    "by_year_continent <- gapminder %>%\n",
    "  group_by(continent, year) %>%\n",
    "  summarize(medianGdpPercap = median(gdpPercap))\n",
    "\n",
    "# Plot the change in medianGdpPercap in each continent over time\n",
    "ggplot(by_year_continent, aes(x = year, y = medianGdpPercap, color = continent)) +\n",
    "  geom_point() +\n",
    "  expand_limits(y = 0)"
   ]
  },
  {
   "cell_type": "code",
   "execution_count": 18,
   "metadata": {},
   "outputs": [
    {
     "data": {},
     "metadata": {},
     "output_type": "display_data"
    },
    {
     "data": {
      "image/png": "[encoded data removed]",
      "text/plain": [
       "plot without title"
      ]
     },
     "metadata": {},
     "output_type": "display_data"
    }
   ],
   "source": [
    "# Summarize the median GDP and median life expectancy per continent in 2007\n",
    "by_continent_2007 <- gapminder %>% \n",
    "  group_by(continent) %>%\n",
    "  filter(year == 2007) %>%\n",
    "  summarize(medianLifeExp = median(lifeExp), medianGdpPercap = median(gdpPercap))\n",
    "\n",
    "# Use a scatter plot to compare the median GDP and median life expectancy\n",
    "ggplot(by_continent_2007, aes(x = medianGdpPercap, y = medianLifeExp, color = continent)) +\n",
    "  geom_point() +\n",
    "  expand_limits(y = 0)"
   ]
  },
  {
   "cell_type": "markdown",
   "metadata": {},
   "source": [
    "## Line Plots\n",
    "Visualizing median GDP per capita by continent over time"
   ]
  },
  {
   "cell_type": "code",
   "execution_count": 19,
   "metadata": {},
   "outputs": [
    {
     "data": {},
     "metadata": {},
     "output_type": "display_data"
    },
    {
     "data": {
      "image/png": "[encoded data removed]",
      "text/plain": [
       "plot without title"
      ]
     },
     "metadata": {},
     "output_type": "display_data"
    }
   ],
   "source": [
    "# Summarize the median gdpPercap by year & continent, save as by_year_continent\n",
    "by_year_continent <- gapminder %>%\n",
    "  group_by(year, continent) %>%\n",
    "  summarize(medianGdpPercap = median(gdpPercap)) \n",
    "\n",
    "# Create a line plot showing the change in medianGdpPercap by continent over time\n",
    "ggplot(by_year_continent, aes(x = year, y = medianGdpPercap, color = continent)) +\n",
    "  geom_line() +\n",
    "  expand_limits(y = 0)"
   ]
  },
  {
   "cell_type": "markdown",
   "metadata": {},
   "source": [
    "## Bar plots\n",
    "Visualizing median GDP per capita by continent\n",
    "\n",
    "A bar plot is useful for visualizing summary statistics, such as the median GDP in each continent."
   ]
  },
  {
   "cell_type": "code",
   "execution_count": 20,
   "metadata": {},
   "outputs": [
    {
     "data": {},
     "metadata": {},
     "output_type": "display_data"
    },
    {
     "data": {
      "image/png": "[encoded data removed]",
      "text/plain": [
       "plot without title"
      ]
     },
     "metadata": {},
     "output_type": "display_data"
    }
   ],
   "source": [
    "# Summarize the median gdpPercap by year and continent in 1952\n",
    "by_continent <- gapminder %>%\n",
    "  group_by(continent) %>%\n",
    "  filter(year == 1952) %>%\n",
    "  summarize(medianGdpPercap = median(gdpPercap))\n",
    "\n",
    "# Create a bar plot showing medianGdp by continent\n",
    "ggplot(by_continent, aes(x = continent, y = medianGdpPercap))+\n",
    "  geom_col()"
   ]
  },
  {
   "cell_type": "markdown",
   "metadata": {},
   "source": [
    "## Histogram\n",
    "A histogram is useful for examining the distribution of a numeric variable. In this exercise, you'll create a histogram showing the distribution of country populations in the year 1952."
   ]
  },
  {
   "cell_type": "code",
   "execution_count": 21,
   "metadata": {},
   "outputs": [
    {
     "name": "stderr",
     "output_type": "stream",
     "text": [
      "`stat_bin()` using `bins = 30`. Pick better value with `binwidth`.\n"
     ]
    },
    {
     "data": {},
     "metadata": {},
     "output_type": "display_data"
    },
    {
     "data": {
      "image/png": "[encoded data removed]",
      "text/plain": [
       "plot without title"
      ]
     },
     "metadata": {},
     "output_type": "display_data"
    }
   ],
   "source": [
    "gapminder_1952 <- gapminder %>%\n",
    "  filter(year == 1952)\n",
    "\n",
    "# Create a histogram of population (pop)\n",
    "ggplot(gapminder_1952, aes(x = pop)) +\n",
    "  geom_histogram()\n",
    "  \n",
    "#  Notice that most of the distribution is in the smallest (leftmost) bins."
   ]
  },
  {
   "cell_type": "markdown",
   "metadata": {},
   "source": [
    "Visualizing population with x-axis on a log scale\n",
    "\n",
    "In the last exercise you created a histogram of populations across countries. You might have noticed that there were several countries with a much higher population than others, which causes the distribution to be very skewed, with most of the distribution crammed into a small part of the graph. (Consider that it's hard to tell the median or the minimum population from that histogram)."
   ]
  },
  {
   "cell_type": "code",
   "execution_count": 22,
   "metadata": {},
   "outputs": [
    {
     "name": "stderr",
     "output_type": "stream",
     "text": [
      "`stat_bin()` using `bins = 30`. Pick better value with `binwidth`.\n"
     ]
    },
    {
     "data": {},
     "metadata": {},
     "output_type": "display_data"
    },
    {
     "data": {
      "image/png": "[encoded data removed]",
      "text/plain": [
       "plot without title"
      ]
     },
     "metadata": {},
     "output_type": "display_data"
    }
   ],
   "source": [
    "gapminder_1952 <- gapminder %>%\n",
    "  filter(year == 1952)\n",
    "\n",
    "# Create a histogram of population (pop), with x on a log scale\n",
    "ggplot(gapminder_1952, aes(x = pop)) +\n",
    "  geom_histogram()+\n",
    "  scale_x_log10()"
   ]
  },
  {
   "cell_type": "markdown",
   "metadata": {},
   "source": [
    "## Boxplots\n",
    "Comparing GDP per capita across continents\n",
    "\n",
    "A boxplot is useful for comparing a distribution of values across several groups. In this exercise, you'll examine the distribution of GDP per capita by continent. Since GDP per capita varies across several orders of magnitude, you'll need to put the y-axis on a log scale."
   ]
  },
  {
   "cell_type": "code",
   "execution_count": 23,
   "metadata": {},
   "outputs": [
    {
     "data": {},
     "metadata": {},
     "output_type": "display_data"
    },
    {
     "data": {
      "image/png": "[encoded data removed]",
      "text/plain": [
       "plot without title"
      ]
     },
     "metadata": {},
     "output_type": "display_data"
    }
   ],
   "source": [
    "gapminder_1952 <- gapminder %>%\n",
    "  filter(year == 1952)\n",
    "\n",
    "# Create a boxplot comparing gdpPercap among continents\n",
    "ggplot(gapminder_1952, aes(x = continent, y = gdpPercap)) +\n",
    "  geom_boxplot() +\n",
    "  scale_y_log10() +\n",
    "  ggtitle(\"Comparing GDP per capita across continents\")"
   ]
  }
 ],
 "metadata": {
  "kernelspec": {
   "display_name": "R",
   "language": "R",
   "name": "ir"
  },
  "language_info": {
   "codemirror_mode": "r",
   "file_extension": ".r",
   "mimetype": "text/x-r-source",
   "name": "R",
   "pygments_lexer": "r",
   "version": "3.5.1"
  }
 },
 "nbformat": 4,
 "nbformat_minor": 2
}

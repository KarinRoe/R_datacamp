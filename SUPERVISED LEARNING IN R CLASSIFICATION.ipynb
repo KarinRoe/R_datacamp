{
 "cells": [
  {
   "cell_type": "code",
   "execution_count": 155,
   "metadata": {},
   "outputs": [],
   "source": [
    "library(class)\n",
    "library(tidyverse)\n",
    "library(repr)\n",
    "options(repr.plot.width=6, repr.plot.height=4)"
   ]
  },
  {
   "cell_type": "markdown",
   "metadata": {},
   "source": [
    "### Recognizing a road sign with kNN\n",
    "\n",
    "After several trips with a human behind the wheel, it is time for the self-driving car to attempt the test course alone.\n",
    "\n",
    "As it begins to drive away, its camera captures the following image:\n",
    "\n",
    "Stop Sign\n",
    "\n",
    "Can you apply a kNN classifier to help the car recognize this sign?"
   ]
  },
  {
   "cell_type": "code",
   "execution_count": 22,
   "metadata": {},
   "outputs": [
    {
     "data": {
      "text/html": [
       "stop\n",
       "<details>\n",
       "\t<summary style=display:list-item;cursor:pointer>\n",
       "\t\t<strong>Levels</strong>:\n",
       "\t</summary>\n",
       "\t<ol class=list-inline>\n",
       "\t\t<li>'pedestrian'</li>\n",
       "\t\t<li>'speed'</li>\n",
       "\t\t<li>'stop'</li>\n",
       "\t</ol>\n",
       "</details>"
      ],
      "text/latex": [
       "stop\n",
       "\\emph{Levels}: \\begin{enumerate*}\n",
       "\\item 'pedestrian'\n",
       "\\item 'speed'\n",
       "\\item 'stop'\n",
       "\\end{enumerate*}\n"
      ],
      "text/markdown": [
       "stop\n",
       "**Levels**: 1. 'pedestrian'\n",
       "2. 'speed'\n",
       "3. 'stop'\n",
       "\n",
       "\n"
      ],
      "text/plain": [
       "[1] stop\n",
       "Levels: pedestrian speed stop"
      ]
     },
     "metadata": {},
     "output_type": "display_data"
    }
   ],
   "source": [
    "signs <- read.csv(\"knn_traffic_signs.csv\")\n",
    "train <- filter(signs, sample == \"train\")\n",
    "test <- filter(signs, sample == \"test\")\n",
    "example <- filter(signs, sample == \"example\")\n",
    "\n",
    "# Create a vector of labels\n",
    "sign_types <- train$sign_type\n",
    "\n",
    "# Classify the next sign observed\n",
    "knn(train = train[c(-1,-2,-3)], test = example[c(-1,-2,-3)], cl = sign_types)"
   ]
  },
  {
   "cell_type": "markdown",
   "metadata": {},
   "source": [
    "kNN isn't really learning anything; it simply looks for the most similar example."
   ]
  },
  {
   "cell_type": "markdown",
   "metadata": {},
   "source": [
    "### Exploring the traffic sign dataset\n",
    "\n",
    "To better understand how the `knn()` function was able to classify the stop sign, it may help to examine the training dataset it used.\n",
    "\n",
    "Each previously observed street sign was divided into a 4x4 grid, and the red, green, and blue level for each of the 16 center pixels is recorded as illustrated here.\n",
    "\n",
    "![stop](stop_sign_grid.png)\n",
    "\n",
    "The result is a dataset that records the sign_type as well as 16 x 3 = 48 color properties of each sign."
   ]
  },
  {
   "cell_type": "code",
   "execution_count": 24,
   "metadata": {},
   "outputs": [
    {
     "name": "stdout",
     "output_type": "stream",
     "text": [
      "'data.frame':\t206 obs. of  51 variables:\n",
      " $ id       : int  1 2 3 4 5 6 7 8 9 10 ...\n",
      " $ sample   : Factor w/ 3 levels \"example\",\"test\",..: 3 3 3 3 3 3 3 2 3 3 ...\n",
      " $ sign_type: Factor w/ 3 levels \"pedestrian\",\"speed\",..: 1 1 1 1 1 1 1 1 1 1 ...\n",
      " $ r1       : int  155 142 57 22 169 75 136 118 149 13 ...\n",
      " $ g1       : int  228 217 54 35 179 67 149 105 225 34 ...\n",
      " $ b1       : int  251 242 50 41 170 60 157 69 241 28 ...\n",
      " $ r2       : int  135 166 187 171 231 131 200 244 34 5 ...\n",
      " $ g2       : int  188 204 201 178 254 89 203 245 45 21 ...\n",
      " $ b2       : int  101 44 68 26 27 53 107 67 1 11 ...\n",
      " $ r3       : int  156 142 51 19 97 214 150 132 155 123 ...\n",
      " $ g3       : int  227 217 51 27 107 144 167 123 226 154 ...\n",
      " $ b3       : int  245 242 45 29 99 75 134 12 238 140 ...\n",
      " $ r4       : int  145 147 59 19 123 156 171 138 147 21 ...\n",
      " $ g4       : int  211 219 62 27 147 169 218 123 222 46 ...\n",
      " $ b4       : int  228 242 65 29 152 190 252 85 242 41 ...\n",
      " $ r5       : int  166 164 156 42 221 67 171 254 170 36 ...\n",
      " $ g5       : int  233 228 171 37 236 50 158 254 191 60 ...\n",
      " $ b5       : int  245 229 50 3 117 36 108 92 113 26 ...\n",
      " $ r6       : int  212 84 254 217 205 37 157 241 26 75 ...\n",
      " $ g6       : int  254 116 255 228 225 36 186 240 37 108 ...\n",
      " $ b6       : int  52 17 36 19 80 42 11 108 12 44 ...\n",
      " $ r7       : int  212 217 211 221 235 44 26 254 34 13 ...\n",
      " $ g7       : int  254 254 226 235 254 42 35 254 45 27 ...\n",
      " $ b7       : int  11 26 70 20 60 44 10 99 19 25 ...\n",
      " $ r8       : int  188 155 78 181 90 192 180 108 221 133 ...\n",
      " $ g8       : int  229 203 73 183 110 131 211 106 249 163 ...\n",
      " $ b8       : int  117 128 64 73 9 73 236 27 184 126 ...\n",
      " $ r9       : int  170 213 220 237 216 123 129 135 226 83 ...\n",
      " $ g9       : int  216 253 234 234 236 74 109 123 246 125 ...\n",
      " $ b9       : int  120 51 59 44 66 22 73 40 59 19 ...\n",
      " $ r10      : int  211 217 254 251 229 36 161 254 30 13 ...\n",
      " $ g10      : int  254 255 255 254 255 34 190 254 40 27 ...\n",
      " $ b10      : int  3 21 51 2 12 37 10 115 34 25 ...\n",
      " $ r11      : int  212 217 253 235 235 44 161 254 34 9 ...\n",
      " $ g11      : int  254 255 255 243 254 42 190 254 44 23 ...\n",
      " $ b11      : int  19 21 44 12 60 44 6 99 35 18 ...\n",
      " $ r12      : int  172 158 66 19 163 197 187 138 241 85 ...\n",
      " $ g12      : int  235 225 68 27 168 114 215 123 255 128 ...\n",
      " $ b12      : int  244 237 68 29 152 21 236 85 54 21 ...\n",
      " $ r13      : int  172 164 69 20 124 171 141 118 205 83 ...\n",
      " $ g13      : int  235 227 65 29 117 102 142 105 229 125 ...\n",
      " $ b13      : int  244 237 59 34 91 26 140 75 46 19 ...\n",
      " $ r14      : int  172 182 76 64 188 197 189 131 226 85 ...\n",
      " $ g14      : int  228 228 84 61 205 114 171 124 246 128 ...\n",
      " $ b14      : int  235 143 22 4 78 21 140 5 59 21 ...\n",
      " $ r15      : int  177 171 82 211 125 123 214 106 235 85 ...\n",
      " $ g15      : int  235 228 93 222 147 74 221 94 252 128 ...\n",
      " $ b15      : int  244 196 17 78 20 22 201 53 67 21 ...\n",
      " $ r16      : int  22 164 58 19 160 180 188 101 237 83 ...\n",
      " $ g16      : int  52 227 60 27 183 107 211 91 254 125 ...\n",
      " $ b16      : int  53 237 60 29 187 26 227 59 53 19 ...\n"
     ]
    },
    {
     "data": {
      "text/plain": [
       "\n",
       "pedestrian      speed       stop \n",
       "        65         70         71 "
      ]
     },
     "metadata": {},
     "output_type": "display_data"
    },
    {
     "data": {
      "text/html": [
       "<table>\n",
       "<thead><tr><th scope=col>sign_type</th><th scope=col>r10</th></tr></thead>\n",
       "<tbody>\n",
       "\t<tr><td>pedestrian</td><td>108.78462 </td></tr>\n",
       "\t<tr><td>speed     </td><td> 83.08571 </td></tr>\n",
       "\t<tr><td>stop      </td><td>142.50704 </td></tr>\n",
       "</tbody>\n",
       "</table>\n"
      ],
      "text/latex": [
       "\\begin{tabular}{r|ll}\n",
       " sign\\_type & r10\\\\\n",
       "\\hline\n",
       "\t pedestrian & 108.78462 \\\\\n",
       "\t speed      &  83.08571 \\\\\n",
       "\t stop       & 142.50704 \\\\\n",
       "\\end{tabular}\n"
      ],
      "text/markdown": [
       "\n",
       "sign_type | r10 | \n",
       "|---|---|---|\n",
       "| pedestrian | 108.78462  | \n",
       "| speed      |  83.08571  | \n",
       "| stop       | 142.50704  | \n",
       "\n",
       "\n"
      ],
      "text/plain": [
       "  sign_type  r10      \n",
       "1 pedestrian 108.78462\n",
       "2 speed       83.08571\n",
       "3 stop       142.50704"
      ]
     },
     "metadata": {},
     "output_type": "display_data"
    }
   ],
   "source": [
    "# Examine the structure of the signs dataset\n",
    "str(signs)\n",
    "\n",
    "# Count the number of signs of each type\n",
    "table(signs$sign_type)\n",
    "\n",
    "# Check r10's average red level by sign type\n",
    "aggregate(r10 ~ sign_type, data = signs, mean)"
   ]
  },
  {
   "cell_type": "markdown",
   "metadata": {},
   "source": [
    "As you might have expected, stop signs tend to have a higher average red value. This is how kNN identifies similar signs. "
   ]
  },
  {
   "cell_type": "markdown",
   "metadata": {},
   "source": [
    "### Classifying a collection of road signs\n",
    "\n",
    "Now that the autonomous vehicle has successfully stopped on its own, your team feels confident allowing the car to continue the test course.\n",
    "\n",
    "The test course includes 59 additional road signs divided into three types:\n",
    "\n",
    "![signs](signs.png)\n",
    "\n",
    "At the conclusion of the trial, you are asked to measure the car's overall performance at recognizing these signs."
   ]
  },
  {
   "cell_type": "code",
   "execution_count": 29,
   "metadata": {},
   "outputs": [
    {
     "data": {
      "text/plain": [
       "            signs_actual\n",
       "signs_pred   pedestrian speed stop\n",
       "  pedestrian         19     2    0\n",
       "  speed               0    17    0\n",
       "  stop                0     2   19"
      ]
     },
     "metadata": {},
     "output_type": "display_data"
    }
   ],
   "source": [
    "# Use kNN to identify the test road signs\n",
    "sign_types <- train$sign_type\n",
    "signs_pred <- knn(train = train[c(-1,-2,-3)], test = test[c(-1,-2,-3)], cl = sign_types)\n",
    "\n",
    "# Create a confusion matrix of the actual versus predicted values\n",
    "signs_actual <- test$sign_type\n",
    "table(signs_pred, signs_actual)\n"
   ]
  },
  {
   "cell_type": "code",
   "execution_count": 32,
   "metadata": {},
   "outputs": [
    {
     "data": {
      "text/html": [
       "0.932203389830508"
      ],
      "text/latex": [
       "0.932203389830508"
      ],
      "text/markdown": [
       "0.932203389830508"
      ],
      "text/plain": [
       "[1] 0.9322034"
      ]
     },
     "metadata": {},
     "output_type": "display_data"
    }
   ],
   "source": [
    "# Compute the accuracy\n",
    "mean(signs_pred == signs_actual)"
   ]
  },
  {
   "cell_type": "markdown",
   "metadata": {},
   "source": [
    "That self-driving car is really coming along! The confusion matrix lets you look for patterns in the classifier's errors. "
   ]
  },
  {
   "cell_type": "markdown",
   "metadata": {},
   "source": [
    "## Testing other 'k' values\n",
    "\n",
    "By default, the `knn()` function in the class package uses only the single nearest neighbor.\n",
    "\n",
    "Setting a k parameter allows the algorithm to consider additional nearby neighbors. This enlarges the collection of neighbors which will vote on the predicted class.\n",
    "\n",
    "Compare k values of 1, 7, and 15 to examine the impact on traffic sign classification accuracy."
   ]
  },
  {
   "cell_type": "code",
   "execution_count": 36,
   "metadata": {},
   "outputs": [
    {
     "data": {
      "text/html": [
       "0.932203389830508"
      ],
      "text/latex": [
       "0.932203389830508"
      ],
      "text/markdown": [
       "0.932203389830508"
      ],
      "text/plain": [
       "[1] 0.9322034"
      ]
     },
     "metadata": {},
     "output_type": "display_data"
    },
    {
     "data": {
      "text/html": [
       "0.949152542372881"
      ],
      "text/latex": [
       "0.949152542372881"
      ],
      "text/markdown": [
       "0.949152542372881"
      ],
      "text/plain": [
       "[1] 0.9491525"
      ]
     },
     "metadata": {},
     "output_type": "display_data"
    },
    {
     "data": {
      "text/html": [
       "0.915254237288136"
      ],
      "text/latex": [
       "0.915254237288136"
      ],
      "text/markdown": [
       "0.915254237288136"
      ],
      "text/plain": [
       "[1] 0.9152542"
      ]
     },
     "metadata": {},
     "output_type": "display_data"
    }
   ],
   "source": [
    "# Compute the accuracy of the baseline model (default k = 1)\n",
    "k_1 <- knn(train = train[c(-1, -2, -3)], test = test[c(-1, -2, -3)], cl = sign_types)\n",
    "mean(k_1 == test$sign_type)\n",
    "\n",
    "# Modify the above to set k = 7\n",
    "k_7 <- knn(train = train[c(-1, -2, -3)], test = test[c(-1, -2, -3)], cl = sign_types, k = 7)\n",
    "mean(k_7 == test$sign_type)\n",
    "\n",
    "# Set k = 15 and compare to the above\n",
    "k_15 <- knn(train = train[c(-1, -2, -3)], test = test[c(-1, -2, -3)], cl = sign_types, k = 15)\n",
    "mean(k_15 == test$sign_type)\n"
   ]
  },
  {
   "cell_type": "markdown",
   "metadata": {},
   "source": [
    "## Seeing how the neighbors voted\n",
    "\n",
    "When multiple nearest neighbors hold a vote, it can sometimes be useful to examine whether the voters were unanimous or widely separated.\n",
    "\n",
    "For example, knowing more about the voters' confidence in the classification could allow an autonomous vehicle to use caution in the case there is any chance at all that a stop sign is ahead.\n",
    "\n",
    "In this exercise, you will learn how to obtain the voting results from the `knn()` function."
   ]
  },
  {
   "cell_type": "code",
   "execution_count": 38,
   "metadata": {},
   "outputs": [
    {
     "data": {
      "text/html": [
       "<ol class=list-inline>\n",
       "\t<li>pedestrian</li>\n",
       "\t<li>pedestrian</li>\n",
       "\t<li>pedestrian</li>\n",
       "\t<li>stop</li>\n",
       "\t<li>pedestrian</li>\n",
       "\t<li>pedestrian</li>\n",
       "</ol>\n",
       "\n",
       "<details>\n",
       "\t<summary style=display:list-item;cursor:pointer>\n",
       "\t\t<strong>Levels</strong>:\n",
       "\t</summary>\n",
       "\t<ol class=list-inline>\n",
       "\t\t<li>'pedestrian'</li>\n",
       "\t\t<li>'speed'</li>\n",
       "\t\t<li>'stop'</li>\n",
       "\t</ol>\n",
       "</details>"
      ],
      "text/latex": [
       "\\begin{enumerate*}\n",
       "\\item pedestrian\n",
       "\\item pedestrian\n",
       "\\item pedestrian\n",
       "\\item stop\n",
       "\\item pedestrian\n",
       "\\item pedestrian\n",
       "\\end{enumerate*}\n",
       "\n",
       "\\emph{Levels}: \\begin{enumerate*}\n",
       "\\item 'pedestrian'\n",
       "\\item 'speed'\n",
       "\\item 'stop'\n",
       "\\end{enumerate*}\n"
      ],
      "text/markdown": [
       "1. pedestrian\n",
       "2. pedestrian\n",
       "3. pedestrian\n",
       "4. stop\n",
       "5. pedestrian\n",
       "6. pedestrian\n",
       "\n",
       "\n",
       "\n",
       "**Levels**: 1. 'pedestrian'\n",
       "2. 'speed'\n",
       "3. 'stop'\n",
       "\n",
       "\n"
      ],
      "text/plain": [
       "[1] pedestrian pedestrian pedestrian stop       pedestrian pedestrian\n",
       "Levels: pedestrian speed stop"
      ]
     },
     "metadata": {},
     "output_type": "display_data"
    },
    {
     "data": {
      "text/html": [
       "<ol class=list-inline>\n",
       "\t<li>0.571428571428571</li>\n",
       "\t<li>0.571428571428571</li>\n",
       "\t<li>0.857142857142857</li>\n",
       "\t<li>0.571428571428571</li>\n",
       "\t<li>0.857142857142857</li>\n",
       "\t<li>0.571428571428571</li>\n",
       "</ol>\n"
      ],
      "text/latex": [
       "\\begin{enumerate*}\n",
       "\\item 0.571428571428571\n",
       "\\item 0.571428571428571\n",
       "\\item 0.857142857142857\n",
       "\\item 0.571428571428571\n",
       "\\item 0.857142857142857\n",
       "\\item 0.571428571428571\n",
       "\\end{enumerate*}\n"
      ],
      "text/markdown": [
       "1. 0.571428571428571\n",
       "2. 0.571428571428571\n",
       "3. 0.857142857142857\n",
       "4. 0.571428571428571\n",
       "5. 0.857142857142857\n",
       "6. 0.571428571428571\n",
       "\n",
       "\n"
      ],
      "text/plain": [
       "[1] 0.5714286 0.5714286 0.8571429 0.5714286 0.8571429 0.5714286"
      ]
     },
     "metadata": {},
     "output_type": "display_data"
    }
   ],
   "source": [
    "# Use the prob parameter to get the proportion of votes for the winning class\n",
    "sign_pred <- knn(train = train[c(-1, -2, -3)], test = test[c(-1, -2, -3)], cl = sign_types, k = 7, prob = TRUE)\n",
    "\n",
    "# Get the \"prob\" attribute from the predicted classes\n",
    "sign_prob <- attr(sign_pred, \"prob\")\n",
    "\n",
    "# Examine the first several predictions\n",
    "head(sign_pred)\n",
    "\n",
    "# Examine the proportion of votes for the winning class\n",
    "head(sign_prob)"
   ]
  },
  {
   "cell_type": "markdown",
   "metadata": {},
   "source": [
    " Now you can get an idea of how certain your kNN learner is about its classifications. "
   ]
  },
  {
   "cell_type": "markdown",
   "metadata": {},
   "source": [
    "### Normalize data\n",
    "\n",
    "Before applying kNN to a classification task, it is common practice to rescale the data using a technique like min-max normalization. What is the purpose of this step?\n",
    " * To ensure all data elements may contribute equal shares to distance. Rescaling reduces the influence of extreme values on kNN's distance function.\n",
    " \n",
    " $$ \\frac{(x - min(x))}{(max(x) - min(x))} $$"
   ]
  },
  {
   "cell_type": "markdown",
   "metadata": {},
   "source": [
    "# Bayes statistic\n",
    "### Computing probabilities\n",
    "\n",
    "The `where9am` data frame contains 91 days (thirteen weeks) worth of data in which Brett recorded his location at 9am each day as well as whether the daytype was a weekend or weekday.\n",
    "\n",
    "Using the conditional probability formula below, you can compute the probability that Brett is working in the office, given that it is a weekday.\n",
    "\n",
    "$$ P(A|B)=P(A and B)P(B)$$\n",
    "\n",
    "Calculations like these are the basis of the Naive Bayes destination prediction model you'll develop in later exercises."
   ]
  },
  {
   "cell_type": "code",
   "execution_count": 40,
   "metadata": {},
   "outputs": [
    {
     "name": "stdout",
     "output_type": "stream",
     "text": [
      "'data.frame':\t2184 obs. of  7 variables:\n",
      " $ month   : int  1 1 1 1 1 1 1 1 1 1 ...\n",
      " $ day     : int  4 4 4 4 4 4 4 4 4 4 ...\n",
      " $ weekday : Factor w/ 7 levels \"friday\",\"monday\",..: 7 7 7 7 7 7 7 7 7 7 ...\n",
      " $ daytype : Factor w/ 2 levels \"weekday\",\"weekend\": 1 1 1 1 1 1 1 1 1 1 ...\n",
      " $ hour    : int  0 1 2 3 4 5 6 7 8 9 ...\n",
      " $ hourtype: Factor w/ 4 levels \"afternoon\",\"evening\",..: 4 4 4 4 4 4 3 3 3 3 ...\n",
      " $ location: Factor w/ 7 levels \"appointment\",..: 3 3 3 3 3 3 3 3 3 4 ...\n"
     ]
    }
   ],
   "source": [
    "locations <- read.csv(\"locations.csv\")\n",
    "str(locations)"
   ]
  },
  {
   "cell_type": "code",
   "execution_count": 45,
   "metadata": {},
   "outputs": [],
   "source": [
    "where9am <- locations %>% filter(hour == 9 & hourtype == \"morning\") %>%\n",
    "    select(daytype, location)"
   ]
  },
  {
   "cell_type": "code",
   "execution_count": 46,
   "metadata": {},
   "outputs": [
    {
     "data": {
      "text/html": [
       "0.6"
      ],
      "text/latex": [
       "0.6"
      ],
      "text/markdown": [
       "0.6"
      ],
      "text/plain": [
       "[1] 0.6"
      ]
     },
     "metadata": {},
     "output_type": "display_data"
    }
   ],
   "source": [
    "# Compute P(A) \n",
    "p_A <- nrow(subset(where9am, location == \"office\")) / nrow(where9am)\n",
    "\n",
    "# Compute P(B)\n",
    "p_B <- nrow(subset(where9am, daytype == \"weekday\")) / nrow(where9am)\n",
    "\n",
    "# Compute the observed P(A and B)\n",
    "p_AB <- nrow(subset(where9am, location == \"office\" & daytype == \"weekday\")) /nrow(where9am)\n",
    "\n",
    "# Compute P(A | B) and print its value\n",
    "p_A_given_B <- p_AB / p_B\n",
    "p_A_given_B"
   ]
  },
  {
   "cell_type": "markdown",
   "metadata": {},
   "source": [
    "## A simple Naive Bayes location model\n",
    "\n",
    "The previous exercises showed that the probability that Brett is at work or at home at 9am is highly dependent on whether it is the weekend or a weekday.\n",
    "\n",
    "To see this finding in action, use the `where9am` data frame to build a Naive Bayes model on the same data.\n",
    "\n",
    "You can then use this model to predict the future: where does the model think that Brett will be at 9am on Thursday and at 9am on Saturday?A simple Naive Bayes location model"
   ]
  },
  {
   "cell_type": "code",
   "execution_count": 117,
   "metadata": {},
   "outputs": [
    {
     "data": {
      "text/html": [
       "weekday\n",
       "<details>\n",
       "\t<summary style=display:list-item;cursor:pointer>\n",
       "\t\t<strong>Levels</strong>:\n",
       "\t</summary>\n",
       "\t<ol class=list-inline>\n",
       "\t\t<li>'weekday'</li>\n",
       "\t\t<li>'weekend'</li>\n",
       "\t</ol>\n",
       "</details>"
      ],
      "text/latex": [
       "weekday\n",
       "\\emph{Levels}: \\begin{enumerate*}\n",
       "\\item 'weekday'\n",
       "\\item 'weekend'\n",
       "\\end{enumerate*}\n"
      ],
      "text/markdown": [
       "weekday\n",
       "**Levels**: 1. 'weekday'\n",
       "2. 'weekend'\n",
       "\n",
       "\n"
      ],
      "text/plain": [
       "[1] weekday\n",
       "Levels: weekday weekend"
      ]
     },
     "metadata": {},
     "output_type": "display_data"
    },
    {
     "data": {
      "text/html": [
       "weekend\n",
       "<details>\n",
       "\t<summary style=display:list-item;cursor:pointer>\n",
       "\t\t<strong>Levels</strong>:\n",
       "\t</summary>\n",
       "\t<ol class=list-inline>\n",
       "\t\t<li>'weekday'</li>\n",
       "\t\t<li>'weekend'</li>\n",
       "\t</ol>\n",
       "</details>"
      ],
      "text/latex": [
       "weekend\n",
       "\\emph{Levels}: \\begin{enumerate*}\n",
       "\\item 'weekday'\n",
       "\\item 'weekend'\n",
       "\\end{enumerate*}\n"
      ],
      "text/markdown": [
       "weekend\n",
       "**Levels**: 1. 'weekday'\n",
       "2. 'weekend'\n",
       "\n",
       "\n"
      ],
      "text/plain": [
       "[1] weekend\n",
       "Levels: weekday weekend"
      ]
     },
     "metadata": {},
     "output_type": "display_data"
    }
   ],
   "source": [
    "(thursday9am <- where9am$daytype[1])\n",
    "(saturday9am <- where9am$daytype[89])"
   ]
  },
  {
   "cell_type": "code",
   "execution_count": 128,
   "metadata": {},
   "outputs": [
    {
     "data": {
      "text/html": [
       "<ol class=list-inline>\n",
       "\t<li>'appointment'</li>\n",
       "\t<li>'campus'</li>\n",
       "\t<li>'home'</li>\n",
       "\t<li>'office'</li>\n",
       "</ol>\n"
      ],
      "text/latex": [
       "\\begin{enumerate*}\n",
       "\\item 'appointment'\n",
       "\\item 'campus'\n",
       "\\item 'home'\n",
       "\\item 'office'\n",
       "\\end{enumerate*}\n"
      ],
      "text/markdown": [
       "1. 'appointment'\n",
       "2. 'campus'\n",
       "3. 'home'\n",
       "4. 'office'\n",
       "\n",
       "\n"
      ],
      "text/plain": [
       "[1] \"appointment\" \"campus\"      \"home\"        \"office\"     "
      ]
     },
     "metadata": {},
     "output_type": "display_data"
    }
   ],
   "source": [
    "# Load the naivebayes package\n",
    "library(naivebayes)\n",
    "\n",
    "where9am$location <- droplevels(where9am$location)\n",
    "levels(where9am$location)\n",
    "\n",
    "# Build the location prediction model\n",
    "set.seed(1)\n",
    "locmodel <- naive_bayes(location ~ daytype, data = where9am)"
   ]
  },
  {
   "cell_type": "code",
   "execution_count": 129,
   "metadata": {},
   "outputs": [
    {
     "data": {
      "text/html": [
       "home\n",
       "<details>\n",
       "\t<summary style=display:list-item;cursor:pointer>\n",
       "\t\t<strong>Levels</strong>:\n",
       "\t</summary>\n",
       "\t<ol class=list-inline>\n",
       "\t\t<li>'appointment'</li>\n",
       "\t\t<li>'campus'</li>\n",
       "\t\t<li>'home'</li>\n",
       "\t\t<li>'office'</li>\n",
       "\t</ol>\n",
       "</details>"
      ],
      "text/latex": [
       "home\n",
       "\\emph{Levels}: \\begin{enumerate*}\n",
       "\\item 'appointment'\n",
       "\\item 'campus'\n",
       "\\item 'home'\n",
       "\\item 'office'\n",
       "\\end{enumerate*}\n"
      ],
      "text/markdown": [
       "home\n",
       "**Levels**: 1. 'appointment'\n",
       "2. 'campus'\n",
       "3. 'home'\n",
       "4. 'office'\n",
       "\n",
       "\n"
      ],
      "text/plain": [
       "[1] home\n",
       "Levels: appointment campus home office"
      ]
     },
     "metadata": {},
     "output_type": "display_data"
    }
   ],
   "source": [
    "# Predict Thursday's 9am location\n",
    "predict(locmodel, newdata = thursday9am)"
   ]
  },
  {
   "cell_type": "code",
   "execution_count": 130,
   "metadata": {},
   "outputs": [
    {
     "data": {
      "text/html": [
       "home\n",
       "<details>\n",
       "\t<summary style=display:list-item;cursor:pointer>\n",
       "\t\t<strong>Levels</strong>:\n",
       "\t</summary>\n",
       "\t<ol class=list-inline>\n",
       "\t\t<li>'appointment'</li>\n",
       "\t\t<li>'campus'</li>\n",
       "\t\t<li>'home'</li>\n",
       "\t\t<li>'office'</li>\n",
       "\t</ol>\n",
       "</details>"
      ],
      "text/latex": [
       "home\n",
       "\\emph{Levels}: \\begin{enumerate*}\n",
       "\\item 'appointment'\n",
       "\\item 'campus'\n",
       "\\item 'home'\n",
       "\\item 'office'\n",
       "\\end{enumerate*}\n"
      ],
      "text/markdown": [
       "home\n",
       "**Levels**: 1. 'appointment'\n",
       "2. 'campus'\n",
       "3. 'home'\n",
       "4. 'office'\n",
       "\n",
       "\n"
      ],
      "text/plain": [
       "[1] home\n",
       "Levels: appointment campus home office"
      ]
     },
     "metadata": {},
     "output_type": "display_data"
    }
   ],
   "source": [
    "# Predict Saturdays's 9am location\n",
    "predict(locmodel, newdata = saturday9am)"
   ]
  },
  {
   "cell_type": "markdown",
   "metadata": {},
   "source": [
    "## Examining \"raw\" probabilities\n",
    "\n",
    "The naivebayes package offers several ways to peek inside a Naive Bayes model.\n",
    "\n",
    "Typing the name of the model object provides the a priori (overall) and conditional probabilities of each of the model's predictors. If one were so inclined, you might use these for calculating posterior (predicted) probabilities by hand.\n",
    "\n",
    "Alternatively, R will compute the posterior probabilities for you if the type = \"prob\" parameter is supplied to the predict() function.\n",
    "\n",
    "Using these methods, examine how the model's predicted 9am location probability varies from day-to-day."
   ]
  },
  {
   "cell_type": "code",
   "execution_count": 126,
   "metadata": {},
   "outputs": [
    {
     "data": {
      "text/plain": [
       "===================== Naive Bayes ===================== \n",
       "Call: \n",
       "naive_bayes.formula(formula = location ~ daytype, data = where9am)\n",
       "\n",
       "A priori probabilities: \n",
       "\n",
       "appointment      campus        home      office \n",
       " 0.01098901  0.10989011  0.45054945  0.42857143 \n",
       "\n",
       "Tables: \n",
       "         \n",
       "daytype   appointment    campus      home    office\n",
       "  weekday   1.0000000 1.0000000 0.3658537 1.0000000\n",
       "  weekend   0.0000000 0.0000000 0.6341463 0.0000000\n"
      ]
     },
     "metadata": {},
     "output_type": "display_data"
    },
    {
     "data": {
      "text/html": [
       "<table>\n",
       "<thead><tr><th scope=col>appointment</th><th scope=col>campus</th><th scope=col>home</th><th scope=col>office</th></tr></thead>\n",
       "<tbody>\n",
       "\t<tr><td>0.01098901</td><td>0.1098901 </td><td>0.4505495 </td><td>0.4285714 </td></tr>\n",
       "</tbody>\n",
       "</table>\n"
      ],
      "text/latex": [
       "\\begin{tabular}{llll}\n",
       " appointment & campus & home & office\\\\\n",
       "\\hline\n",
       "\t 0.01098901 & 0.1098901  & 0.4505495  & 0.4285714 \\\\\n",
       "\\end{tabular}\n"
      ],
      "text/markdown": [
       "\n",
       "appointment | campus | home | office | \n",
       "|---|\n",
       "| 0.01098901 | 0.1098901  | 0.4505495  | 0.4285714  | \n",
       "\n",
       "\n"
      ],
      "text/plain": [
       "     appointment campus    home      office   \n",
       "[1,] 0.01098901  0.1098901 0.4505495 0.4285714"
      ]
     },
     "metadata": {},
     "output_type": "display_data"
    }
   ],
   "source": [
    "# Examine the location prediction model\n",
    "locmodel\n",
    "\n",
    "# Obtain the predicted probabilities for Thursday at 9am\n",
    "predict(locmodel, newdata = thursday9am , type = \"prob\")"
   ]
  },
  {
   "cell_type": "code",
   "execution_count": 131,
   "metadata": {},
   "outputs": [
    {
     "data": {
      "text/html": [
       "<table>\n",
       "<thead><tr><th scope=col>appointment</th><th scope=col>campus</th><th scope=col>home</th><th scope=col>office</th></tr></thead>\n",
       "<tbody>\n",
       "\t<tr><td>0.01098901</td><td>0.1098901 </td><td>0.4505495 </td><td>0.4285714 </td></tr>\n",
       "</tbody>\n",
       "</table>\n"
      ],
      "text/latex": [
       "\\begin{tabular}{llll}\n",
       " appointment & campus & home & office\\\\\n",
       "\\hline\n",
       "\t 0.01098901 & 0.1098901  & 0.4505495  & 0.4285714 \\\\\n",
       "\\end{tabular}\n"
      ],
      "text/markdown": [
       "\n",
       "appointment | campus | home | office | \n",
       "|---|\n",
       "| 0.01098901 | 0.1098901  | 0.4505495  | 0.4285714  | \n",
       "\n",
       "\n"
      ],
      "text/plain": [
       "     appointment campus    home      office   \n",
       "[1,] 0.01098901  0.1098901 0.4505495 0.4285714"
      ]
     },
     "metadata": {},
     "output_type": "display_data"
    }
   ],
   "source": [
    "# Obtain the predicted probabilities for Saturday at 9am\n",
    "predict(locmodel, newdata = saturday9am, type = \"prob\")"
   ]
  },
  {
   "cell_type": "markdown",
   "metadata": {},
   "source": [
    " One event is independent of another if knowing one doesn't give you information about how likely the other is. For example, knowing if it's raining in New York doesn't help you predict the weather in San Francisco. The weather events in the two cities are independent of each other."
   ]
  },
  {
   "cell_type": "markdown",
   "metadata": {},
   "source": [
    "## A more sophisticated location model\n",
    "\n",
    "The locations dataset records Brett's location every hour for 13 weeks. Each hour, the tracking information includes the daytype (weekend or weekday) as well as the hourtype (morning, afternoon, evening, or night).\n",
    "\n",
    "Using this data, build a more sophisticated model to see how Brett's predicted location not only varies by the day of week but also by the time of day."
   ]
  },
  {
   "cell_type": "code",
   "execution_count": 132,
   "metadata": {},
   "outputs": [
    {
     "name": "stdout",
     "output_type": "stream",
     "text": [
      "'data.frame':\t2184 obs. of  3 variables:\n",
      " $ daytype : Factor w/ 2 levels \"weekday\",\"weekend\": 1 1 1 1 1 1 1 1 1 1 ...\n",
      " $ hourtype: Factor w/ 4 levels \"afternoon\",\"evening\",..: 4 4 4 4 4 4 3 3 3 3 ...\n",
      " $ location: Factor w/ 7 levels \"appointment\",..: 3 3 3 3 3 3 3 3 3 4 ...\n"
     ]
    }
   ],
   "source": [
    "location <- select(locations, daytype, hourtype, location)\n",
    "str(location)"
   ]
  },
  {
   "cell_type": "code",
   "execution_count": 137,
   "metadata": {},
   "outputs": [
    {
     "data": {
      "text/html": [
       "<table>\n",
       "<thead><tr><th></th><th scope=col>daytype</th><th scope=col>hourtype</th><th scope=col>location</th></tr></thead>\n",
       "<tbody>\n",
       "\t<tr><th scope=row>19</th><td>weekday</td><td>evening</td><td>home   </td></tr>\n",
       "</tbody>\n",
       "</table>\n"
      ],
      "text/latex": [
       "\\begin{tabular}{r|lll}\n",
       "  & daytype & hourtype & location\\\\\n",
       "\\hline\n",
       "\t19 & weekday & evening & home   \\\\\n",
       "\\end{tabular}\n"
      ],
      "text/markdown": [
       "\n",
       "| <!--/--> | daytype | hourtype | location | \n",
       "|---|\n",
       "| 19 | weekday | evening | home    | \n",
       "\n",
       "\n"
      ],
      "text/plain": [
       "   daytype hourtype location\n",
       "19 weekday evening  home    "
      ]
     },
     "metadata": {},
     "output_type": "display_data"
    }
   ],
   "source": [
    "weekday_afternoon <- location[13,]\n",
    "weekday_evening <- location[19,]"
   ]
  },
  {
   "cell_type": "code",
   "execution_count": 138,
   "metadata": {},
   "outputs": [
    {
     "data": {
      "text/html": [
       "office\n",
       "<details>\n",
       "\t<summary style=display:list-item;cursor:pointer>\n",
       "\t\t<strong>Levels</strong>:\n",
       "\t</summary>\n",
       "\t<ol class=list-inline>\n",
       "\t\t<li>'appointment'</li>\n",
       "\t\t<li>'campus'</li>\n",
       "\t\t<li>'home'</li>\n",
       "\t\t<li>'office'</li>\n",
       "\t\t<li>'restaurant'</li>\n",
       "\t\t<li>'store'</li>\n",
       "\t\t<li>'theater'</li>\n",
       "\t</ol>\n",
       "</details>"
      ],
      "text/latex": [
       "office\n",
       "\\emph{Levels}: \\begin{enumerate*}\n",
       "\\item 'appointment'\n",
       "\\item 'campus'\n",
       "\\item 'home'\n",
       "\\item 'office'\n",
       "\\item 'restaurant'\n",
       "\\item 'store'\n",
       "\\item 'theater'\n",
       "\\end{enumerate*}\n"
      ],
      "text/markdown": [
       "office\n",
       "**Levels**: 1. 'appointment'\n",
       "2. 'campus'\n",
       "3. 'home'\n",
       "4. 'office'\n",
       "5. 'restaurant'\n",
       "6. 'store'\n",
       "7. 'theater'\n",
       "\n",
       "\n"
      ],
      "text/plain": [
       "[1] office\n",
       "Levels: appointment campus home office restaurant store theater"
      ]
     },
     "metadata": {},
     "output_type": "display_data"
    },
    {
     "data": {
      "text/html": [
       "home\n",
       "<details>\n",
       "\t<summary style=display:list-item;cursor:pointer>\n",
       "\t\t<strong>Levels</strong>:\n",
       "\t</summary>\n",
       "\t<ol class=list-inline>\n",
       "\t\t<li>'appointment'</li>\n",
       "\t\t<li>'campus'</li>\n",
       "\t\t<li>'home'</li>\n",
       "\t\t<li>'office'</li>\n",
       "\t\t<li>'restaurant'</li>\n",
       "\t\t<li>'store'</li>\n",
       "\t\t<li>'theater'</li>\n",
       "\t</ol>\n",
       "</details>"
      ],
      "text/latex": [
       "home\n",
       "\\emph{Levels}: \\begin{enumerate*}\n",
       "\\item 'appointment'\n",
       "\\item 'campus'\n",
       "\\item 'home'\n",
       "\\item 'office'\n",
       "\\item 'restaurant'\n",
       "\\item 'store'\n",
       "\\item 'theater'\n",
       "\\end{enumerate*}\n"
      ],
      "text/markdown": [
       "home\n",
       "**Levels**: 1. 'appointment'\n",
       "2. 'campus'\n",
       "3. 'home'\n",
       "4. 'office'\n",
       "5. 'restaurant'\n",
       "6. 'store'\n",
       "7. 'theater'\n",
       "\n",
       "\n"
      ],
      "text/plain": [
       "[1] home\n",
       "Levels: appointment campus home office restaurant store theater"
      ]
     },
     "metadata": {},
     "output_type": "display_data"
    }
   ],
   "source": [
    "# Build a NB model of location\n",
    "locmodel <- naive_bayes( location ~ daytype + hourtype, data = location)\n",
    "\n",
    "# Predict Brett's location on a weekday afternoon\n",
    "predict(locmodel, newdata = weekday_afternoon)\n",
    "\n",
    "# Predict Brett's location on a weekday evening\n",
    "predict(locmodel, newdata = weekday_evening)"
   ]
  },
  {
   "cell_type": "markdown",
   "metadata": {},
   "source": [
    "## Preparing for unforeseen circumstances\n",
    "\n",
    "While Brett was tracking his location over 13 weeks, he never went into the office during the weekend. Consequently, the joint probability of P(office and weekend) = 0.\n",
    "\n",
    "Explore how this impacts the predicted probability that Brett may go to work on the weekend in the future. Additionally, you can see how using the Laplace correction will allow a small chance for these types of unforeseen circumstances."
   ]
  },
  {
   "cell_type": "code",
   "execution_count": 140,
   "metadata": {},
   "outputs": [
    {
     "data": {
      "text/html": [
       "<table>\n",
       "<thead><tr><th scope=col>appointment</th><th scope=col>campus</th><th scope=col>home</th><th scope=col>office</th><th scope=col>restaurant</th><th scope=col>store</th><th scope=col>theater</th></tr></thead>\n",
       "<tbody>\n",
       "\t<tr><td>0.02472535</td><td>0         </td><td>0.8472217 </td><td>0         </td><td>0.1115693 </td><td>0.01648357</td><td>0         </td></tr>\n",
       "</tbody>\n",
       "</table>\n"
      ],
      "text/latex": [
       "\\begin{tabular}{lllllll}\n",
       " appointment & campus & home & office & restaurant & store & theater\\\\\n",
       "\\hline\n",
       "\t 0.02472535 & 0          & 0.8472217  & 0          & 0.1115693  & 0.01648357 & 0         \\\\\n",
       "\\end{tabular}\n"
      ],
      "text/markdown": [
       "\n",
       "appointment | campus | home | office | restaurant | store | theater | \n",
       "|---|\n",
       "| 0.02472535 | 0          | 0.8472217  | 0          | 0.1115693  | 0.01648357 | 0          | \n",
       "\n",
       "\n"
      ],
      "text/plain": [
       "     appointment campus home      office restaurant store      theater\n",
       "[1,] 0.02472535  0      0.8472217 0      0.1115693  0.01648357 0      "
      ]
     },
     "metadata": {},
     "output_type": "display_data"
    },
    {
     "data": {
      "text/html": [
       "<table>\n",
       "<thead><tr><th scope=col>appointment</th><th scope=col>campus</th><th scope=col>home</th><th scope=col>office</th><th scope=col>restaurant</th><th scope=col>store</th><th scope=col>theater</th></tr></thead>\n",
       "<tbody>\n",
       "\t<tr><td>0.01107985 </td><td>0.005752078</td><td>0.8527053  </td><td>0.008023444</td><td>0.1032598  </td><td>0.01608175 </td><td>0.003097769</td></tr>\n",
       "</tbody>\n",
       "</table>\n"
      ],
      "text/latex": [
       "\\begin{tabular}{lllllll}\n",
       " appointment & campus & home & office & restaurant & store & theater\\\\\n",
       "\\hline\n",
       "\t 0.01107985  & 0.005752078 & 0.8527053   & 0.008023444 & 0.1032598   & 0.01608175  & 0.003097769\\\\\n",
       "\\end{tabular}\n"
      ],
      "text/markdown": [
       "\n",
       "appointment | campus | home | office | restaurant | store | theater | \n",
       "|---|\n",
       "| 0.01107985  | 0.005752078 | 0.8527053   | 0.008023444 | 0.1032598   | 0.01608175  | 0.003097769 | \n",
       "\n",
       "\n"
      ],
      "text/plain": [
       "     appointment campus      home      office      restaurant store     \n",
       "[1,] 0.01107985  0.005752078 0.8527053 0.008023444 0.1032598  0.01608175\n",
       "     theater    \n",
       "[1,] 0.003097769"
      ]
     },
     "metadata": {},
     "output_type": "display_data"
    }
   ],
   "source": [
    "# The 'naivebayes' package is loaded into the workspace already\n",
    "# The Naive Bayes location model (locmodel) has already been built\n",
    "\n",
    "weekend_afternoon <- location[85, ]\n",
    "# Observe the predicted probabilities for a weekend afternoon\n",
    "predict(locmodel, newdata = weekend_afternoon, type = \"prob\")\n",
    "\n",
    "# Build a new model using the Laplace correction\n",
    "locmodel2 <- naive_bayes(location ~ daytype + hourtype, data = location, laplace = 1)\n",
    "\n",
    "# Observe the new predicted probabilities for a weekend afternoon\n",
    "predict(locmodel2, newdata = weekend_afternoon, type = \"prob\")"
   ]
  },
  {
   "cell_type": "code",
   "execution_count": 141,
   "metadata": {},
   "outputs": [
    {
     "data": {
      "text/html": [
       "<table>\n",
       "<thead><tr><th></th><th scope=col>daytype</th><th scope=col>hourtype</th><th scope=col>location</th></tr></thead>\n",
       "<tbody>\n",
       "\t<tr><th scope=row>85</th><td>weekend  </td><td>afternoon</td><td>home     </td></tr>\n",
       "</tbody>\n",
       "</table>\n"
      ],
      "text/latex": [
       "\\begin{tabular}{r|lll}\n",
       "  & daytype & hourtype & location\\\\\n",
       "\\hline\n",
       "\t85 & weekend   & afternoon & home     \\\\\n",
       "\\end{tabular}\n"
      ],
      "text/markdown": [
       "\n",
       "| <!--/--> | daytype | hourtype | location | \n",
       "|---|\n",
       "| 85 | weekend   | afternoon | home      | \n",
       "\n",
       "\n"
      ],
      "text/plain": [
       "   daytype hourtype  location\n",
       "85 weekend afternoon home    "
      ]
     },
     "metadata": {},
     "output_type": "display_data"
    }
   ],
   "source": [
    "weekend_afternoon"
   ]
  },
  {
   "cell_type": "markdown",
   "metadata": {},
   "source": [
    "## Handling numeric predictors\n",
    "\n",
    "Numeric data is often binned before it is used with Naive Bayes. Examples: \n",
    "\n",
    " * age values recoded as 'child' or 'adult' categories\n",
    " * geographic coordinates recoded into geographic regions (West, East, etc.)\n",
    " * test scores divided into four groups by percentile"
   ]
  },
  {
   "cell_type": "markdown",
   "metadata": {},
   "source": [
    "# Logistic regression\n",
    "### Building simple logistic regression models\n",
    "\n",
    "The `donors` dataset contains 93,462 examples of people mailed in a fundraising solicitation for paralyzed military veterans. The donated column is 1 if the person made a donation in response to the mailing and 0 otherwise. This binary outcome will be the dependent variable for the logistic regression model.\n",
    "\n",
    "The remaining columns are features of the prospective donors that may influence their donation behavior. These are the model's independent variables.\n",
    "\n",
    "When building a regression model, it is often helpful to form a hypothesis about which independent variables will be predictive of the dependent variable. The `bad_address` column, which is set to 1 for an invalid mailing address and 0 otherwise, seems like it might reduce the chances of a donation. Similarly, one might suspect that religious interest (`interest_religion`) and interest in veterans affairs (`interest_veterans`) would be associated with greater charitable giving.\n",
    "\n",
    "In this exercise, you will use these three factors to create a simple model of donation behavior."
   ]
  },
  {
   "cell_type": "code",
   "execution_count": 143,
   "metadata": {},
   "outputs": [
    {
     "name": "stdout",
     "output_type": "stream",
     "text": [
      "'data.frame':\t93462 obs. of  13 variables:\n",
      " $ donated          : int  0 0 0 0 0 0 0 0 0 0 ...\n",
      " $ veteran          : int  0 0 0 0 0 0 0 0 0 0 ...\n",
      " $ bad_address      : int  0 0 0 0 0 0 0 0 0 0 ...\n",
      " $ age              : int  60 46 NA 70 78 NA 38 NA NA 65 ...\n",
      " $ has_children     : int  0 1 0 0 1 0 1 0 0 0 ...\n",
      " $ wealth_rating    : int  0 3 1 2 1 0 2 3 1 0 ...\n",
      " $ interest_veterans: int  0 0 0 0 0 0 0 0 0 0 ...\n",
      " $ interest_religion: int  0 0 0 0 1 0 0 0 0 0 ...\n",
      " $ pet_owner        : int  0 0 0 0 0 0 1 0 0 0 ...\n",
      " $ catalog_shopper  : int  0 0 0 0 1 0 0 0 0 0 ...\n",
      " $ recency          : Factor w/ 2 levels \"CURRENT\",\"LAPSED\": 1 1 1 1 1 1 1 1 1 1 ...\n",
      " $ frequency        : Factor w/ 2 levels \"FREQUENT\",\"INFREQUENT\": 1 1 1 1 1 2 2 1 2 2 ...\n",
      " $ money            : Factor w/ 2 levels \"HIGH\",\"MEDIUM\": 2 1 2 2 2 2 2 2 2 2 ...\n"
     ]
    },
    {
     "data": {
      "text/plain": [
       "\n",
       "    0     1 \n",
       "88751  4711 "
      ]
     },
     "metadata": {},
     "output_type": "display_data"
    },
    {
     "data": {
      "text/plain": [
       "\n",
       "Call:\n",
       "glm(formula = donated ~ bad_address + interest_religion + interest_veterans, \n",
       "    family = \"binomial\", data = donors)\n",
       "\n",
       "Deviance Residuals: \n",
       "    Min       1Q   Median       3Q      Max  \n",
       "-0.3480  -0.3192  -0.3192  -0.3192   2.5678  \n",
       "\n",
       "Coefficients:\n",
       "                  Estimate Std. Error  z value Pr(>|z|)    \n",
       "(Intercept)       -2.95139    0.01652 -178.664   <2e-16 ***\n",
       "bad_address       -0.30780    0.14348   -2.145   0.0319 *  \n",
       "interest_religion  0.06724    0.05069    1.327   0.1847    \n",
       "interest_veterans  0.11009    0.04676    2.354   0.0186 *  \n",
       "---\n",
       "Signif. codes:  0 '***' 0.001 '**' 0.01 '*' 0.05 '.' 0.1 ' ' 1\n",
       "\n",
       "(Dispersion parameter for binomial family taken to be 1)\n",
       "\n",
       "    Null deviance: 37330  on 93461  degrees of freedom\n",
       "Residual deviance: 37316  on 93458  degrees of freedom\n",
       "AIC: 37324\n",
       "\n",
       "Number of Fisher Scoring iterations: 5\n"
      ]
     },
     "metadata": {},
     "output_type": "display_data"
    }
   ],
   "source": [
    "donors <- read.csv(\"donors.csv\")\n",
    "# Examine the dataset to identify potential independent variables\n",
    "str(donors)\n",
    "\n",
    "# Explore the dependent variable\n",
    "table(donors$donated)\n",
    "\n",
    "# Build the donation model\n",
    "donation_model <- glm(donated ~ bad_address + interest_religion + interest_veterans, \n",
    "                      data = donors, family = \"binomial\")\n",
    "\n",
    "# Summarize the model results\n",
    "summary(donation_model)"
   ]
  },
  {
   "cell_type": "markdown",
   "metadata": {},
   "source": [
    "## Making a binary prediction\n",
    "\n",
    "In the previous exercise, you used the `glm()` function to build a logistic regression model of donor behavior. As with many of R's machine learning methods, you can apply the `predict()` function to the model object to forecast future behavior. By default, `predict()` outputs predictions in terms of log odds unless type = \"response\" is specified. This converts the log odds to probabilities.\n",
    "\n",
    "Because a logistic regression model estimates the probability of the outcome, it is up to you to determine the threshold at which the probability implies action. One must balance the extremes of being too cautious versus being too aggressive. For example, if you were to solicit only the people with a 99% or greater donation probability, you may miss out on many people with lower estimated probabilities that still choose to donate. This balance is particularly important to consider for severely imbalanced outcomes, such as in this dataset where donations are relatively rare."
   ]
  },
  {
   "cell_type": "code",
   "execution_count": 144,
   "metadata": {},
   "outputs": [
    {
     "data": {
      "text/plain": [
       "\n",
       "Call:  glm(formula = donated ~ bad_address + interest_religion + interest_veterans, \n",
       "    family = \"binomial\", data = donors)\n",
       "\n",
       "Coefficients:\n",
       "      (Intercept)        bad_address  interest_religion  interest_veterans  \n",
       "         -2.95139           -0.30780            0.06724            0.11009  \n",
       "\n",
       "Degrees of Freedom: 93461 Total (i.e. Null);  93458 Residual\n",
       "Null Deviance:\t    37330 \n",
       "Residual Deviance: 37320 \tAIC: 37320"
      ]
     },
     "metadata": {},
     "output_type": "display_data"
    }
   ],
   "source": [
    "donation_model\n"
   ]
  },
  {
   "cell_type": "code",
   "execution_count": 150,
   "metadata": {},
   "outputs": [
    {
     "data": {
      "text/html": [
       "0.0504055124007618"
      ],
      "text/latex": [
       "0.0504055124007618"
      ],
      "text/markdown": [
       "0.0504055124007618"
      ],
      "text/plain": [
       "[1] 0.05040551"
      ]
     },
     "metadata": {},
     "output_type": "display_data"
    },
    {
     "data": {
      "text/html": [
       "0.794815005028782"
      ],
      "text/latex": [
       "0.794815005028782"
      ],
      "text/markdown": [
       "0.794815005028782"
      ],
      "text/plain": [
       "[1] 0.794815"
      ]
     },
     "metadata": {},
     "output_type": "display_data"
    }
   ],
   "source": [
    "# Estimate the donation probability\n",
    "donors$donation_prob <- predict(donation_model, type = \"response\")\n",
    "\n",
    "# Find the donation probability of the average prospect\n",
    "mean(donors$donated)\n",
    "\n",
    "# Predict a donation if probability of donation is greater than average\n",
    "donors$donation_pred <- ifelse(donors$donation_prob > 0.0504, 1, 0)\n",
    "\n",
    "# Calculate the model's accuracy\n",
    "mean(donors$donated == donors$donation_pred)\n"
   ]
  },
  {
   "cell_type": "markdown",
   "metadata": {},
   "source": [
    "The limitations of accuracy\n",
    "\n",
    "In the previous exercise, you found that the logistic regression model made a correct prediction nearly 80% of the time. Despite this relatively high accuracy, the result is misleading due to the rarity of outcome being predicted."
   ]
  },
  {
   "cell_type": "markdown",
   "metadata": {},
   "source": [
    "### Calculating ROC Curves and AUC\n",
    "\n",
    "The previous exercises have demonstrated that accuracy is a very misleading measure of model performance on imbalanced datasets. Graphing the model's performance better illustrates the tradeoff between a model that is overly agressive and one that is overly passive.\n",
    "\n",
    "In this exercise you will create a ROC curve and compute the area under the curve (AUC) to evaluate the logistic regression model of donations you built earlier."
   ]
  },
  {
   "cell_type": "code",
   "execution_count": 156,
   "metadata": {},
   "outputs": [
    {
     "data": {
      "text/html": [
       "0.510166058120372"
      ],
      "text/latex": [
       "0.510166058120372"
      ],
      "text/markdown": [
       "0.510166058120372"
      ],
      "text/plain": [
       "Area under the curve: 0.5102"
      ]
     },
     "metadata": {},
     "output_type": "display_data"
    },
    {
     "data": {
      "image/png": "[encoded data removed]",
      "text/plain": [
       "plot without title"
      ]
     },
     "metadata": {},
     "output_type": "display_data"
    }
   ],
   "source": [
    "# Load the pROC package\n",
    "library(pROC)\n",
    "\n",
    "# Create a ROC curve\n",
    "ROC <- roc(response = donors$donated, donors$donation_prob)\n",
    "\n",
    "# Plot the ROC curve\n",
    "plot(ROC, col = \"blue\")\n",
    "\n",
    "# Calculate the area under the curve (AUC)\n",
    "auc(ROC)"
   ]
  },
  {
   "cell_type": "markdown",
   "metadata": {},
   "source": [
    "Based on this visualization, the model isn't doing much better than baseline— a model doing nothing but making predictions at random. "
   ]
  },
  {
   "cell_type": "markdown",
   "metadata": {},
   "source": [
    "When AUC values are very close, it's important to know more about how the model will be used."
   ]
  },
  {
   "cell_type": "markdown",
   "metadata": {},
   "source": [
    "# Dummy variables, missing data, and interactions\n",
    "\n",
    "### Coding categorical features\n",
    "\n",
    "Sometimes a dataset contains numeric values that represent a categorical feature.\n",
    "\n",
    "In the donors dataset, wealth_rating uses numbers to indicate the donor's wealth level:\n",
    "\n",
    "    0 = Unknown\n",
    "    1 = Low\n",
    "    2 = Medium\n",
    "    3 = High\n",
    "\n",
    "This exercise illustrates how to prepare this type of categorical feature and the examines its impact on a logistic regression model."
   ]
  },
  {
   "cell_type": "code",
   "execution_count": 157,
   "metadata": {},
   "outputs": [
    {
     "data": {
      "text/plain": [
       "\n",
       "Call:\n",
       "glm(formula = donated ~ wealth_rating, family = \"binomial\", data = donors)\n",
       "\n",
       "Deviance Residuals: \n",
       "    Min       1Q   Median       3Q      Max  \n",
       "-0.3320  -0.3243  -0.3175  -0.3175   2.4582  \n",
       "\n",
       "Coefficients:\n",
       "                     Estimate Std. Error z value Pr(>|z|)    \n",
       "(Intercept)          -2.91894    0.03614 -80.772   <2e-16 ***\n",
       "wealth_ratingUnknown -0.04373    0.04243  -1.031    0.303    \n",
       "wealth_ratingLow     -0.05245    0.05332  -0.984    0.325    \n",
       "wealth_ratingHigh     0.04804    0.04768   1.008    0.314    \n",
       "---\n",
       "Signif. codes:  0 '***' 0.001 '**' 0.01 '*' 0.05 '.' 0.1 ' ' 1\n",
       "\n",
       "(Dispersion parameter for binomial family taken to be 1)\n",
       "\n",
       "    Null deviance: 37330  on 93461  degrees of freedom\n",
       "Residual deviance: 37323  on 93458  degrees of freedom\n",
       "AIC: 37331\n",
       "\n",
       "Number of Fisher Scoring iterations: 5\n"
      ]
     },
     "metadata": {},
     "output_type": "display_data"
    }
   ],
   "source": [
    "# Convert the wealth rating to a factor\n",
    "donors$wealth_rating <- factor(donors$wealth_rating, levels = c(0,1,2,3), labels = c(\"Unknown\", \"Low\", \"Medium\", \"High\"))\n",
    "\n",
    "# Use relevel() to change reference category\n",
    "donors$wealth_rating <- relevel(donors$wealth_rating, ref = \"Medium\")\n",
    "\n",
    "# See how our factor coding impacts the model\n",
    "summary(glm(donated ~ wealth_rating,family = \"binomial\", data = donors))"
   ]
  },
  {
   "cell_type": "markdown",
   "metadata": {},
   "source": [
    "### Handling missing data\n",
    "\n",
    "Some of the prospective donors have missing age data. Unfortunately, R will exclude any cases with NA values when building a regression model.\n",
    "\n",
    "One workaround is to replace, or impute, the missing values with an estimated value. After doing so, you may also create a missing data indicator to model the possibility that cases with missing data are different in some way from those without."
   ]
  },
  {
   "cell_type": "code",
   "execution_count": 158,
   "metadata": {},
   "outputs": [
    {
     "data": {
      "text/plain": [
       "   Min. 1st Qu.  Median    Mean 3rd Qu.    Max.    NA's \n",
       "   1.00   48.00   62.00   61.65   75.00   98.00   22546 "
      ]
     },
     "metadata": {},
     "output_type": "display_data"
    }
   ],
   "source": [
    "# Find the average age among non-missing values\n",
    "summary(donors$age)\n",
    "\n",
    "# Impute missing age values with mean(age)\n",
    "donors$imputed_age <- ifelse(is.na(donors$age),61.65, donors$age)\n",
    "\n",
    "# Create missing value indicator for age\n",
    "donors$missing_age <- ifelse(is.na(donors$age), 1, 0)"
   ]
  },
  {
   "cell_type": "code",
   "execution_count": 159,
   "metadata": {},
   "outputs": [
    {
     "data": {
      "text/html": [
       "<table>\n",
       "<thead><tr><th scope=col>donated</th><th scope=col>veteran</th><th scope=col>bad_address</th><th scope=col>age</th><th scope=col>has_children</th><th scope=col>wealth_rating</th><th scope=col>interest_veterans</th><th scope=col>interest_religion</th><th scope=col>pet_owner</th><th scope=col>catalog_shopper</th><th scope=col>recency</th><th scope=col>frequency</th><th scope=col>money</th><th scope=col>donation_prob</th><th scope=col>donation_pred</th><th scope=col>imputed_age</th><th scope=col>missing_age</th></tr></thead>\n",
       "<tbody>\n",
       "\t<tr><td>0         </td><td>0         </td><td>0         </td><td>60        </td><td>0         </td><td>Unknown   </td><td>0         </td><td>0         </td><td>0         </td><td>0         </td><td>CURRENT   </td><td>FREQUENT  </td><td>MEDIUM    </td><td>0.04967101</td><td>0         </td><td>60.00     </td><td>0         </td></tr>\n",
       "\t<tr><td>0         </td><td>0         </td><td>0         </td><td>46        </td><td>1         </td><td>High      </td><td>0         </td><td>0         </td><td>0         </td><td>0         </td><td>CURRENT   </td><td>FREQUENT  </td><td>HIGH      </td><td>0.04967101</td><td>0         </td><td>46.00     </td><td>0         </td></tr>\n",
       "\t<tr><td>0         </td><td>0         </td><td>0         </td><td>NA        </td><td>0         </td><td>Low       </td><td>0         </td><td>0         </td><td>0         </td><td>0         </td><td>CURRENT   </td><td>FREQUENT  </td><td>MEDIUM    </td><td>0.04967101</td><td>0         </td><td>61.65     </td><td>1         </td></tr>\n",
       "\t<tr><td>0         </td><td>0         </td><td>0         </td><td>70        </td><td>0         </td><td>Medium    </td><td>0         </td><td>0         </td><td>0         </td><td>0         </td><td>CURRENT   </td><td>FREQUENT  </td><td>MEDIUM    </td><td>0.04967101</td><td>0         </td><td>70.00     </td><td>0         </td></tr>\n",
       "\t<tr><td>0         </td><td>0         </td><td>0         </td><td>78        </td><td>1         </td><td>Low       </td><td>0         </td><td>1         </td><td>0         </td><td>1         </td><td>CURRENT   </td><td>FREQUENT  </td><td>MEDIUM    </td><td>0.05294280</td><td>1         </td><td>78.00     </td><td>0         </td></tr>\n",
       "\t<tr><td>0         </td><td>0         </td><td>0         </td><td>NA        </td><td>0         </td><td>Unknown   </td><td>0         </td><td>0         </td><td>0         </td><td>0         </td><td>CURRENT   </td><td>INFREQUENT</td><td>MEDIUM    </td><td>0.04967101</td><td>0         </td><td>61.65     </td><td>1         </td></tr>\n",
       "</tbody>\n",
       "</table>\n"
      ],
      "text/latex": [
       "\\begin{tabular}{r|lllllllllllllllll}\n",
       " donated & veteran & bad\\_address & age & has\\_children & wealth\\_rating & interest\\_veterans & interest\\_religion & pet\\_owner & catalog\\_shopper & recency & frequency & money & donation\\_prob & donation\\_pred & imputed\\_age & missing\\_age\\\\\n",
       "\\hline\n",
       "\t 0          & 0          & 0          & 60         & 0          & Unknown    & 0          & 0          & 0          & 0          & CURRENT    & FREQUENT   & MEDIUM     & 0.04967101 & 0          & 60.00      & 0         \\\\\n",
       "\t 0          & 0          & 0          & 46         & 1          & High       & 0          & 0          & 0          & 0          & CURRENT    & FREQUENT   & HIGH       & 0.04967101 & 0          & 46.00      & 0         \\\\\n",
       "\t 0          & 0          & 0          & NA         & 0          & Low        & 0          & 0          & 0          & 0          & CURRENT    & FREQUENT   & MEDIUM     & 0.04967101 & 0          & 61.65      & 1         \\\\\n",
       "\t 0          & 0          & 0          & 70         & 0          & Medium     & 0          & 0          & 0          & 0          & CURRENT    & FREQUENT   & MEDIUM     & 0.04967101 & 0          & 70.00      & 0         \\\\\n",
       "\t 0          & 0          & 0          & 78         & 1          & Low        & 0          & 1          & 0          & 1          & CURRENT    & FREQUENT   & MEDIUM     & 0.05294280 & 1          & 78.00      & 0         \\\\\n",
       "\t 0          & 0          & 0          & NA         & 0          & Unknown    & 0          & 0          & 0          & 0          & CURRENT    & INFREQUENT & MEDIUM     & 0.04967101 & 0          & 61.65      & 1         \\\\\n",
       "\\end{tabular}\n"
      ],
      "text/markdown": [
       "\n",
       "donated | veteran | bad_address | age | has_children | wealth_rating | interest_veterans | interest_religion | pet_owner | catalog_shopper | recency | frequency | money | donation_prob | donation_pred | imputed_age | missing_age | \n",
       "|---|---|---|---|---|---|\n",
       "| 0          | 0          | 0          | 60         | 0          | Unknown    | 0          | 0          | 0          | 0          | CURRENT    | FREQUENT   | MEDIUM     | 0.04967101 | 0          | 60.00      | 0          | \n",
       "| 0          | 0          | 0          | 46         | 1          | High       | 0          | 0          | 0          | 0          | CURRENT    | FREQUENT   | HIGH       | 0.04967101 | 0          | 46.00      | 0          | \n",
       "| 0          | 0          | 0          | NA         | 0          | Low        | 0          | 0          | 0          | 0          | CURRENT    | FREQUENT   | MEDIUM     | 0.04967101 | 0          | 61.65      | 1          | \n",
       "| 0          | 0          | 0          | 70         | 0          | Medium     | 0          | 0          | 0          | 0          | CURRENT    | FREQUENT   | MEDIUM     | 0.04967101 | 0          | 70.00      | 0          | \n",
       "| 0          | 0          | 0          | 78         | 1          | Low        | 0          | 1          | 0          | 1          | CURRENT    | FREQUENT   | MEDIUM     | 0.05294280 | 1          | 78.00      | 0          | \n",
       "| 0          | 0          | 0          | NA         | 0          | Unknown    | 0          | 0          | 0          | 0          | CURRENT    | INFREQUENT | MEDIUM     | 0.04967101 | 0          | 61.65      | 1          | \n",
       "\n",
       "\n"
      ],
      "text/plain": [
       "  donated veteran bad_address age has_children wealth_rating interest_veterans\n",
       "1 0       0       0           60  0            Unknown       0                \n",
       "2 0       0       0           46  1            High          0                \n",
       "3 0       0       0           NA  0            Low           0                \n",
       "4 0       0       0           70  0            Medium        0                \n",
       "5 0       0       0           78  1            Low           0                \n",
       "6 0       0       0           NA  0            Unknown       0                \n",
       "  interest_religion pet_owner catalog_shopper recency frequency  money \n",
       "1 0                 0         0               CURRENT FREQUENT   MEDIUM\n",
       "2 0                 0         0               CURRENT FREQUENT   HIGH  \n",
       "3 0                 0         0               CURRENT FREQUENT   MEDIUM\n",
       "4 0                 0         0               CURRENT FREQUENT   MEDIUM\n",
       "5 1                 0         1               CURRENT FREQUENT   MEDIUM\n",
       "6 0                 0         0               CURRENT INFREQUENT MEDIUM\n",
       "  donation_prob donation_pred imputed_age missing_age\n",
       "1 0.04967101    0             60.00       0          \n",
       "2 0.04967101    0             46.00       0          \n",
       "3 0.04967101    0             61.65       1          \n",
       "4 0.04967101    0             70.00       0          \n",
       "5 0.05294280    1             78.00       0          \n",
       "6 0.04967101    0             61.65       1          "
      ]
     },
     "metadata": {},
     "output_type": "display_data"
    }
   ],
   "source": [
    "head(donors)"
   ]
  },
  {
   "cell_type": "markdown",
   "metadata": {},
   "source": [
    "### Understanding missing value indicators\n",
    "\n",
    "A missing value indicator provides a reminder that, before imputation, there was a missing value present on the record.\n",
    "\n",
    "It is often useful to include this indicator as a predictor in the model because:\n",
    " * A missing value may represent a unique category by itself\n",
    " * There may be an important difference between records with and without missing data\n",
    " * Whatever caused the missing value may also be related to the outcome"
   ]
  },
  {
   "cell_type": "markdown",
   "metadata": {},
   "source": [
    "## Building a more sophisticated model\n",
    "\n",
    "One of the best predictors of future giving is a history of recent, frequent, and large gifts. In marketing terms, this is known as R/F/M:\n",
    "\n",
    "    Recency\n",
    "    Frequency\n",
    "    Money\n",
    "\n",
    "Donors that haven't given both recently and frequently may be especially likely to give again; in other words, the combined impact of recency and frequency may be greater than the sum of the separate effects.\n",
    "\n",
    "Because these predictors together have a greater impact on the dependent variable, their joint effect must be modeled as an interaction."
   ]
  },
  {
   "cell_type": "code",
   "execution_count": 160,
   "metadata": {},
   "outputs": [
    {
     "data": {
      "text/plain": [
       "\n",
       "Call:\n",
       "glm(formula = donated ~ money + recency * frequency, family = \"binomial\", \n",
       "    data = donors)\n",
       "\n",
       "Deviance Residuals: \n",
       "    Min       1Q   Median       3Q      Max  \n",
       "-0.3696  -0.3696  -0.2895  -0.2895   2.7924  \n",
       "\n",
       "Coefficients:\n",
       "                                  Estimate Std. Error z value Pr(>|z|)    \n",
       "(Intercept)                       -3.01142    0.04279 -70.375   <2e-16 ***\n",
       "moneyMEDIUM                        0.36186    0.04300   8.415   <2e-16 ***\n",
       "recencyLAPSED                     -0.86677    0.41434  -2.092   0.0364 *  \n",
       "frequencyINFREQUENT               -0.50148    0.03107 -16.143   <2e-16 ***\n",
       "recencyLAPSED:frequencyINFREQUENT  1.01787    0.51713   1.968   0.0490 *  \n",
       "---\n",
       "Signif. codes:  0 '***' 0.001 '**' 0.01 '*' 0.05 '.' 0.1 ' ' 1\n",
       "\n",
       "(Dispersion parameter for binomial family taken to be 1)\n",
       "\n",
       "    Null deviance: 37330  on 93461  degrees of freedom\n",
       "Residual deviance: 36938  on 93457  degrees of freedom\n",
       "AIC: 36948\n",
       "\n",
       "Number of Fisher Scoring iterations: 6\n"
      ]
     },
     "metadata": {},
     "output_type": "display_data"
    },
    {
     "data": {
      "text/html": [
       "0.578489371262516"
      ],
      "text/latex": [
       "0.578489371262516"
      ],
      "text/markdown": [
       "0.578489371262516"
      ],
      "text/plain": [
       "Area under the curve: 0.5785"
      ]
     },
     "metadata": {},
     "output_type": "display_data"
    },
    {
     "data": {
      "image/png": "[encoded data removed]",
      "text/plain": [
       "plot without title"
      ]
     },
     "metadata": {},
     "output_type": "display_data"
    }
   ],
   "source": [
    "# Build a recency, frequency, and money (RFM) model\n",
    "rfm_model <- glm(donated ~ money + recency * frequency, data = donors, family = \"binomial\")\n",
    "\n",
    "# Summarize the RFM model to see how the parameters were coded\n",
    "summary(rfm_model)\n",
    "\n",
    "# Compute predicted probabilities for the RFM model\n",
    "rfm_prob <- predict(rfm_model, type = \"response\")\n",
    "\n",
    "# Plot the ROC curve and find AUC for the new model\n",
    "library(pROC)\n",
    "# Remember, this function takes the column of outcomes and the vector of predictions\n",
    "ROC <- roc(donors$donated, rfm_prob)\n",
    "plot(ROC, col = \"red\")\n",
    "auc(ROC)"
   ]
  },
  {
   "cell_type": "markdown",
   "metadata": {},
   "source": [
    "# Automatic feature selection\n",
    "### The dangers of stepwise regression\n",
    "\n",
    "In spite of its utility for feature selection, stepwise regression is not frequently used in disciplines outside of machine learning due to some important caveats. The concers are:\n",
    " * It is not guaranteed to find the best possible model\n",
    " * The stepwise regression procedure violates some statistical assumptions\n",
    " * It can result in a model that makes little sense in the real world"
   ]
  },
  {
   "cell_type": "markdown",
   "metadata": {},
   "source": [
    "### Building a stepwise regression model\n",
    "\n",
    "In the absence of subject-matter expertise, stepwise regression can assist with the search for the most important predictors of the outcome of interest.\n",
    "\n",
    "In this exercise, you will use a forward stepwise approach to add predictors to the model one-by-one until no additional benefit is seen."
   ]
  },
  {
   "cell_type": "code",
   "execution_count": 163,
   "metadata": {},
   "outputs": [
    {
     "name": "stdout",
     "output_type": "stream",
     "text": [
      "Start:  AIC=37332.13\n",
      "donated ~ 1\n",
      "\n"
     ]
    },
    {
     "name": "stderr",
     "output_type": "stream",
     "text": [
      "Warning message in add1.glm(fit, scope$add, scale = scale, trace = trace, k = k, :\n",
      "\"using the 70916/93462 rows from a combined fit\""
     ]
    },
    {
     "name": "stdout",
     "output_type": "stream",
     "text": [
      "                    Df Deviance   AIC\n",
      "+ frequency          1    28502 37122\n",
      "+ money              1    28621 37241\n",
      "+ has_children       1    28705 37326\n",
      "+ age                1    28707 37328\n",
      "+ imputed_age        1    28707 37328\n",
      "+ wealth_rating      3    28704 37328\n",
      "+ interest_veterans  1    28709 37330\n",
      "+ donation_prob      1    28710 37330\n",
      "+ donation_pred      1    28710 37330\n",
      "+ catalog_shopper    1    28710 37330\n",
      "+ pet_owner          1    28711 37331\n",
      "<none>                    28714 37332\n",
      "+ interest_religion  1    28712 37333\n",
      "+ recency            1    28713 37333\n",
      "+ bad_address        1    28714 37334\n",
      "+ veteran            1    28714 37334\n",
      "\n",
      "Step:  AIC=37024.77\n",
      "donated ~ frequency\n",
      "\n"
     ]
    },
    {
     "name": "stderr",
     "output_type": "stream",
     "text": [
      "Warning message in add1.glm(fit, scope$add, scale = scale, trace = trace, k = k, :\n",
      "\"using the 70916/93462 rows from a combined fit\""
     ]
    },
    {
     "name": "stdout",
     "output_type": "stream",
     "text": [
      "                    Df Deviance   AIC\n",
      "+ money              1    28441 36966\n",
      "+ wealth_rating      3    28490 37019\n",
      "+ has_children       1    28494 37019\n",
      "+ donation_prob      1    28498 37023\n",
      "+ interest_veterans  1    28498 37023\n",
      "+ catalog_shopper    1    28499 37024\n",
      "+ donation_pred      1    28499 37024\n",
      "+ age                1    28499 37024\n",
      "+ imputed_age        1    28499 37024\n",
      "+ pet_owner          1    28499 37024\n",
      "<none>                    28502 37025\n",
      "+ interest_religion  1    28501 37026\n",
      "+ recency            1    28501 37026\n",
      "+ bad_address        1    28502 37026\n",
      "+ veteran            1    28502 37027\n",
      "\n",
      "Step:  AIC=36949.71\n",
      "donated ~ frequency + money\n",
      "\n"
     ]
    },
    {
     "name": "stderr",
     "output_type": "stream",
     "text": [
      "Warning message in add1.glm(fit, scope$add, scale = scale, trace = trace, k = k, :\n",
      "\"using the 70916/93462 rows from a combined fit\""
     ]
    },
    {
     "name": "stdout",
     "output_type": "stream",
     "text": [
      "                    Df Deviance   AIC\n",
      "+ wealth_rating      3    28427 36942\n",
      "+ has_children       1    28432 36943\n",
      "+ interest_veterans  1    28438 36948\n",
      "+ donation_prob      1    28438 36949\n",
      "+ catalog_shopper    1    28438 36949\n",
      "+ donation_pred      1    28439 36949\n",
      "+ age                1    28439 36949\n",
      "+ imputed_age        1    28439 36949\n",
      "+ pet_owner          1    28439 36949\n",
      "<none>                    28441 36950\n",
      "+ interest_religion  1    28440 36951\n",
      "+ recency            1    28441 36951\n",
      "+ bad_address        1    28441 36951\n",
      "+ veteran            1    28441 36952\n",
      "\n",
      "Step:  AIC=36945.48\n",
      "donated ~ frequency + money + wealth_rating\n",
      "\n"
     ]
    },
    {
     "name": "stderr",
     "output_type": "stream",
     "text": [
      "Warning message in add1.glm(fit, scope$add, scale = scale, trace = trace, k = k, :\n",
      "\"using the 70916/93462 rows from a combined fit\""
     ]
    },
    {
     "name": "stdout",
     "output_type": "stream",
     "text": [
      "                    Df Deviance   AIC\n",
      "+ has_children       1    28416 36937\n",
      "+ age                1    28424 36944\n",
      "+ imputed_age        1    28424 36944\n",
      "+ interest_veterans  1    28424 36945\n",
      "+ donation_prob      1    28424 36945\n",
      "+ catalog_shopper    1    28425 36945\n",
      "+ donation_pred      1    28425 36945\n",
      "<none>                    28427 36945\n",
      "+ pet_owner          1    28425 36946\n",
      "+ interest_religion  1    28426 36947\n",
      "+ recency            1    28427 36947\n",
      "+ bad_address        1    28427 36947\n",
      "+ veteran            1    28427 36947\n",
      "\n",
      "Step:  AIC=36938.4\n",
      "donated ~ frequency + money + wealth_rating + has_children\n",
      "\n"
     ]
    },
    {
     "name": "stderr",
     "output_type": "stream",
     "text": [
      "Warning message in add1.glm(fit, scope$add, scale = scale, trace = trace, k = k, :\n",
      "\"using the 70916/93462 rows from a combined fit\""
     ]
    },
    {
     "name": "stdout",
     "output_type": "stream",
     "text": [
      "                    Df Deviance   AIC\n",
      "+ pet_owner          1    28413 36937\n",
      "+ donation_prob      1    28413 36937\n",
      "+ catalog_shopper    1    28413 36937\n",
      "+ interest_veterans  1    28413 36937\n",
      "+ donation_pred      1    28414 36938\n",
      "<none>                    28416 36938\n",
      "+ interest_religion  1    28415 36939\n",
      "+ age                1    28416 36940\n",
      "+ imputed_age        1    28416 36940\n",
      "+ recency            1    28416 36940\n",
      "+ bad_address        1    28416 36940\n",
      "+ veteran            1    28416 36940\n",
      "\n",
      "Step:  AIC=36932.25\n",
      "donated ~ frequency + money + wealth_rating + has_children + \n",
      "    pet_owner\n",
      "\n"
     ]
    },
    {
     "name": "stderr",
     "output_type": "stream",
     "text": [
      "Warning message in add1.glm(fit, scope$add, scale = scale, trace = trace, k = k, :\n",
      "\"using the 70916/93462 rows from a combined fit\""
     ]
    },
    {
     "name": "stdout",
     "output_type": "stream",
     "text": [
      "                    Df Deviance   AIC\n",
      "<none>                    28413 36932\n",
      "+ donation_prob      1    28411 36932\n",
      "+ interest_veterans  1    28411 36932\n",
      "+ catalog_shopper    1    28412 36933\n",
      "+ donation_pred      1    28412 36933\n",
      "+ age                1    28412 36933\n",
      "+ imputed_age        1    28412 36933\n",
      "+ recency            1    28413 36934\n",
      "+ interest_religion  1    28413 36934\n",
      "+ bad_address        1    28413 36934\n",
      "+ veteran            1    28413 36934\n"
     ]
    }
   ],
   "source": [
    "# Specify a null model with no predictors\n",
    "null_model <- glm(donated ~ 1, data = donors, family = \"binomial\")\n",
    "\n",
    "# Specify the full model using all of the potential predictors\n",
    "full_model <- glm(donated ~ ., data = donors, family = \"binomial\")\n",
    "\n",
    "# Use a forward stepwise algorithm to build a parsimonious model\n",
    "step_model <- step(null_model, scope = list(lower = null_model, upper = full_model), direction = \"forward\")\n"
   ]
  },
  {
   "cell_type": "code",
   "execution_count": 164,
   "metadata": {},
   "outputs": [
    {
     "data": {
      "text/html": [
       "0.584926121156163"
      ],
      "text/latex": [
       "0.584926121156163"
      ],
      "text/markdown": [
       "0.584926121156163"
      ],
      "text/plain": [
       "Area under the curve: 0.5849"
      ]
     },
     "metadata": {},
     "output_type": "display_data"
    },
    {
     "data": {
      "image/png": "[encoded data removed]",
      "text/plain": [
       "plot without title"
      ]
     },
     "metadata": {},
     "output_type": "display_data"
    }
   ],
   "source": [
    "# Estimate the stepwise donation probability\n",
    "step_prob <- predict(step_model, type = \"response\")\n",
    "\n",
    "# Plot the ROC of the stepwise model\n",
    "ROC <- roc(donors$donated, step_prob)\n",
    "plot(ROC, col = \"red\")\n",
    "auc(ROC)"
   ]
  },
  {
   "cell_type": "code",
   "execution_count": 168,
   "metadata": {},
   "outputs": [
    {
     "name": "stdout",
     "output_type": "stream",
     "text": [
      "Start:  AIC=28438.85\n",
      "donated ~ veteran + bad_address + age + has_children + wealth_rating + \n",
      "    interest_veterans + interest_religion + pet_owner + catalog_shopper + \n",
      "    recency + frequency + money + donation_prob + donation_pred + \n",
      "    imputed_age + missing_age\n",
      "\n",
      "\n",
      "Step:  AIC=28438.85\n",
      "donated ~ veteran + bad_address + age + has_children + wealth_rating + \n",
      "    interest_veterans + interest_religion + pet_owner + catalog_shopper + \n",
      "    recency + frequency + money + donation_prob + donation_pred + \n",
      "    imputed_age\n",
      "\n",
      "\n",
      "Step:  AIC=28438.85\n",
      "donated ~ veteran + bad_address + age + has_children + wealth_rating + \n",
      "    interest_veterans + interest_religion + pet_owner + catalog_shopper + \n",
      "    recency + frequency + money + donation_prob + donation_pred\n",
      "\n",
      "                    Df Deviance   AIC\n",
      "- veteran            1    28405 28437\n",
      "- recency            1    28405 28437\n",
      "- donation_pred      1    28406 28438\n",
      "- age                1    28406 28438\n",
      "- pet_owner          1    28406 28438\n",
      "- catalog_shopper    1    28406 28438\n",
      "<none>                    28405 28439\n",
      "- donation_prob      1    28408 28440\n",
      "- bad_address        1    28408 28440\n",
      "- interest_religion  1    28408 28440\n",
      "- interest_veterans  1    28408 28440\n",
      "- has_children       1    28414 28446\n",
      "- wealth_rating      3    28420 28448\n",
      "- money              1    28468 28500\n",
      "- frequency          1    28583 28615\n",
      "\n",
      "Step:  AIC=28436.85\n",
      "donated ~ bad_address + age + has_children + wealth_rating + \n",
      "    interest_veterans + interest_religion + pet_owner + catalog_shopper + \n",
      "    recency + frequency + money + donation_prob + donation_pred\n",
      "\n",
      "                    Df Deviance   AIC\n",
      "- recency            1    28405 28435\n",
      "- donation_pred      1    28406 28436\n",
      "- age                1    28406 28436\n",
      "- pet_owner          1    28406 28436\n",
      "- catalog_shopper    1    28406 28436\n",
      "<none>                    28405 28437\n",
      "- donation_prob      1    28408 28438\n",
      "- bad_address        1    28408 28438\n",
      "- interest_religion  1    28408 28438\n",
      "- interest_veterans  1    28408 28438\n",
      "- has_children       1    28414 28444\n",
      "- wealth_rating      3    28420 28446\n",
      "- money              1    28468 28498\n",
      "- frequency          1    28583 28613\n",
      "\n",
      "Step:  AIC=28435.3\n",
      "donated ~ bad_address + age + has_children + wealth_rating + \n",
      "    interest_veterans + interest_religion + pet_owner + catalog_shopper + \n",
      "    frequency + money + donation_prob + donation_pred\n",
      "\n",
      "                    Df Deviance   AIC\n",
      "- donation_pred      1    28406 28434\n",
      "- age                1    28406 28434\n",
      "- pet_owner          1    28406 28434\n",
      "- catalog_shopper    1    28407 28435\n",
      "<none>                    28405 28435\n",
      "- donation_prob      1    28409 28437\n",
      "- bad_address        1    28409 28437\n",
      "- interest_religion  1    28409 28437\n",
      "- interest_veterans  1    28409 28437\n",
      "- has_children       1    28415 28443\n",
      "- wealth_rating      3    28420 28444\n",
      "- money              1    28468 28496\n",
      "- frequency          1    28583 28611\n",
      "\n",
      "Step:  AIC=28434.23\n",
      "donated ~ bad_address + age + has_children + wealth_rating + \n",
      "    interest_veterans + interest_religion + pet_owner + catalog_shopper + \n",
      "    frequency + money + donation_prob\n",
      "\n",
      "                    Df Deviance   AIC\n",
      "- pet_owner          1    28407 28433\n",
      "- age                1    28407 28433\n",
      "- catalog_shopper    1    28407 28433\n",
      "<none>                    28406 28434\n",
      "- donation_prob      1    28409 28435\n",
      "- interest_religion  1    28409 28435\n",
      "- bad_address        1    28409 28435\n",
      "- interest_veterans  1    28409 28435\n",
      "- has_children       1    28416 28442\n",
      "- wealth_rating      3    28421 28443\n",
      "- money              1    28469 28495\n",
      "- frequency          1    28584 28610\n",
      "\n",
      "Step:  AIC=28433.19\n",
      "donated ~ bad_address + age + has_children + wealth_rating + \n",
      "    interest_veterans + interest_religion + catalog_shopper + \n",
      "    frequency + money + donation_prob\n",
      "\n",
      "                    Df Deviance   AIC\n",
      "- age                1    28408 28432\n",
      "- catalog_shopper    1    28409 28433\n",
      "<none>                    28407 28433\n",
      "- donation_prob      1    28410 28434\n",
      "- bad_address        1    28410 28434\n",
      "- interest_religion  1    28410 28434\n",
      "- interest_veterans  1    28410 28434\n",
      "- has_children       1    28416 28440\n",
      "- wealth_rating      3    28422 28442\n",
      "- money              1    28470 28494\n",
      "- frequency          1    28585 28609\n"
     ]
    },
    {
     "ename": "ERROR",
     "evalue": "Error in step(full_model, scope = list(lower = null_model, upper = full_model), : number of rows in use has changed: remove missing values?\n",
     "output_type": "error",
     "traceback": [
      "Error in step(full_model, scope = list(lower = null_model, upper = full_model), : number of rows in use has changed: remove missing values?\nTraceback:\n",
      "1. step(full_model, scope = list(lower = null_model, upper = full_model), \n .     direction = \"backward\")",
      "2. stop(\"number of rows in use has changed: remove missing values?\")"
     ]
    }
   ],
   "source": [
    "\n"
   ]
  },
  {
   "cell_type": "code",
   "execution_count": null,
   "metadata": {},
   "outputs": [],
   "source": [
    "library(repr)\n",
    "options(repr.plot.width )"
   ]
  }
 ],
 "metadata": {
  "kernelspec": {
   "display_name": "R",
   "language": "R",
   "name": "ir"
  },
  "language_info": {
   "codemirror_mode": "r",
   "file_extension": ".r",
   "mimetype": "text/x-r-source",
   "name": "R",
   "pygments_lexer": "r",
   "version": "3.5.1"
  }
 },
 "nbformat": 4,
 "nbformat_minor": 2
}

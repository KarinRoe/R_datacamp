{
 "cells": [
  {
   "cell_type": "code",
   "execution_count": 1,
   "metadata": {},
   "outputs": [
    {
     "name": "stderr",
     "output_type": "stream",
     "text": [
      "\n",
      "Attaching package: 'dplyr'\n",
      "\n",
      "The following objects are masked from 'package:stats':\n",
      "\n",
      "    filter, lag\n",
      "\n",
      "The following objects are masked from 'package:base':\n",
      "\n",
      "    intersect, setdiff, setequal, union\n",
      "\n"
     ]
    }
   ],
   "source": [
    "library(dplyr)\n",
    "library(countrycode)\n",
    "library(ggplot2)\n",
    "library(repr)\n",
    "library(readr)\n",
    "options(repr.plot.width=6, repr.plot.height=4)"
   ]
  },
  {
   "cell_type": "markdown",
   "metadata": {},
   "source": [
    "# Exploring categorical data"
   ]
  },
  {
   "cell_type": "code",
   "execution_count": 2,
   "metadata": {},
   "outputs": [
    {
     "name": "stdout",
     "output_type": "stream",
     "text": [
      "Observations: 23,272\n",
      "Variables: 11\n",
      "$ name         <fct> Spider-Man (Peter Parker), Captain America (Steven Rog...\n",
      "$ id           <fct> Secret, Public, Public, Public, No Dual, Public, Publi...\n",
      "$ align        <fct> Good, Good, Neutral, Good, Good, Good, Good, Good, Neu...\n",
      "$ eye          <fct> Hazel Eyes, Blue Eyes, Blue Eyes, Blue Eyes, Blue Eyes...\n",
      "$ hair         <fct> Brown Hair, White Hair, Black Hair, Black Hair, Blond ...\n",
      "$ gender       <fct> Male, Male, Male, Male, Male, Male, Male, Male, Male, ...\n",
      "$ gsm          <fct> NA, NA, NA, NA, NA, NA, NA, NA, NA, NA, NA, NA, NA, NA...\n",
      "$ alive        <fct> Living Characters, Living Characters, Living Character...\n",
      "$ appearances  <int> 4043, 3360, 3061, 2961, 2258, 2255, 2072, 2017, 1955, ...\n",
      "$ first_appear <fct> Aug-62, Mar-41, Oct-74, Mar-63, Nov-50, Nov-61, Nov-61...\n",
      "$ publisher    <fct> marvel, marvel, marvel, marvel, marvel, marvel, marvel...\n"
     ]
    }
   ],
   "source": [
    "# loading data\n",
    "comics <- read.csv(\"comics.csv\", stringsAsFactors = TRUE)\n",
    "glimpse(comics)"
   ]
  },
  {
   "cell_type": "markdown",
   "metadata": {},
   "source": [
    "### contingency table review"
   ]
  },
  {
   "cell_type": "code",
   "execution_count": 3,
   "metadata": {},
   "outputs": [
    {
     "data": {
      "text/html": [
       "<ol class=list-inline>\n",
       "\t<li>'Bad'</li>\n",
       "\t<li>'Good'</li>\n",
       "\t<li>'Neutral'</li>\n",
       "\t<li>'Reformed Criminals'</li>\n",
       "</ol>\n"
      ],
      "text/latex": [
       "\\begin{enumerate*}\n",
       "\\item 'Bad'\n",
       "\\item 'Good'\n",
       "\\item 'Neutral'\n",
       "\\item 'Reformed Criminals'\n",
       "\\end{enumerate*}\n"
      ],
      "text/markdown": [
       "1. 'Bad'\n",
       "2. 'Good'\n",
       "3. 'Neutral'\n",
       "4. 'Reformed Criminals'\n",
       "\n",
       "\n"
      ],
      "text/plain": [
       "[1] \"Bad\"                \"Good\"               \"Neutral\"           \n",
       "[4] \"Reformed Criminals\""
      ]
     },
     "metadata": {},
     "output_type": "display_data"
    }
   ],
   "source": [
    "# Check levels of align\n",
    "levels(comics$align)"
   ]
  },
  {
   "cell_type": "code",
   "execution_count": 4,
   "metadata": {},
   "outputs": [
    {
     "data": {
      "text/html": [
       "<ol class=list-inline>\n",
       "\t<li>'Female'</li>\n",
       "\t<li>'Male'</li>\n",
       "\t<li>'Other'</li>\n",
       "</ol>\n"
      ],
      "text/latex": [
       "\\begin{enumerate*}\n",
       "\\item 'Female'\n",
       "\\item 'Male'\n",
       "\\item 'Other'\n",
       "\\end{enumerate*}\n"
      ],
      "text/markdown": [
       "1. 'Female'\n",
       "2. 'Male'\n",
       "3. 'Other'\n",
       "\n",
       "\n"
      ],
      "text/plain": [
       "[1] \"Female\" \"Male\"   \"Other\" "
      ]
     },
     "metadata": {},
     "output_type": "display_data"
    }
   ],
   "source": [
    "# Check the levels of gender\n",
    "levels(comics$gender)"
   ]
  },
  {
   "cell_type": "code",
   "execution_count": 5,
   "metadata": {},
   "outputs": [
    {
     "data": {
      "text/plain": [
       "                    \n",
       "                     Female Male Other\n",
       "  Bad                  1573 7561    32\n",
       "  Good                 2490 4809    17\n",
       "  Neutral               836 1799    17\n",
       "  Reformed Criminals      1    2     0"
      ]
     },
     "metadata": {},
     "output_type": "display_data"
    }
   ],
   "source": [
    "# Create a 2-way contingency table\n",
    "table(comics$align, comics$gender)"
   ]
  },
  {
   "cell_type": "markdown",
   "metadata": {},
   "source": [
    "### dropping levels\n",
    "Removing levels which have low counts"
   ]
  },
  {
   "cell_type": "code",
   "execution_count": 6,
   "metadata": {},
   "outputs": [
    {
     "data": {
      "text/html": [
       "<table>\n",
       "<thead><tr><th scope=col>name</th><th scope=col>id</th><th scope=col>align</th><th scope=col>eye</th><th scope=col>hair</th><th scope=col>gender</th><th scope=col>gsm</th><th scope=col>alive</th><th scope=col>appearances</th><th scope=col>first_appear</th><th scope=col>publisher</th></tr></thead>\n",
       "<tbody>\n",
       "\t<tr><td>Spider-Man (Peter Parker)            </td><td>Secret                               </td><td>Good                                 </td><td>Hazel Eyes                           </td><td>Brown Hair                           </td><td>Male                                 </td><td>NA                                   </td><td>Living Characters                    </td><td>4043                                 </td><td>Aug-62                               </td><td>marvel                               </td></tr>\n",
       "\t<tr><td>Captain America (Steven Rogers)      </td><td>Public                               </td><td>Good                                 </td><td>Blue Eyes                            </td><td>White Hair                           </td><td>Male                                 </td><td>NA                                   </td><td>Living Characters                    </td><td>3360                                 </td><td>Mar-41                               </td><td>marvel                               </td></tr>\n",
       "\t<tr><td>Wolverine (James \\\"Logan\\\" Howlett)</td><td>Public                               </td><td>Neutral                              </td><td>Blue Eyes                            </td><td>Black Hair                           </td><td>Male                                 </td><td>NA                                   </td><td>Living Characters                    </td><td>3061                                 </td><td>Oct-74                               </td><td>marvel                               </td></tr>\n",
       "\t<tr><td>Iron Man (Anthony \\\"Tony\\\" Stark)  </td><td>Public                               </td><td>Good                                 </td><td>Blue Eyes                            </td><td>Black Hair                           </td><td>Male                                 </td><td>NA                                   </td><td>Living Characters                    </td><td>2961                                 </td><td>Mar-63                               </td><td>marvel                               </td></tr>\n",
       "\t<tr><td>Thor (Thor Odinson)                  </td><td>No Dual                              </td><td>Good                                 </td><td>Blue Eyes                            </td><td>Blond Hair                           </td><td>Male                                 </td><td>NA                                   </td><td>Living Characters                    </td><td>2258                                 </td><td>Nov-50                               </td><td>marvel                               </td></tr>\n",
       "\t<tr><td>Benjamin Grimm (Earth-616)           </td><td>Public                               </td><td>Good                                 </td><td>Blue Eyes                            </td><td>No Hair                              </td><td>Male                                 </td><td>NA                                   </td><td>Living Characters                    </td><td>2255                                 </td><td>Nov-61                               </td><td>marvel                               </td></tr>\n",
       "</tbody>\n",
       "</table>\n"
      ],
      "text/latex": [
       "\\begin{tabular}{r|lllllllllll}\n",
       " name & id & align & eye & hair & gender & gsm & alive & appearances & first\\_appear & publisher\\\\\n",
       "\\hline\n",
       "\t Spider-Man (Peter Parker)             & Secret                                & Good                                  & Hazel Eyes                            & Brown Hair                            & Male                                  & NA                                    & Living Characters                     & 4043                                  & Aug-62                                & marvel                               \\\\\n",
       "\t Captain America (Steven Rogers)       & Public                                & Good                                  & Blue Eyes                             & White Hair                            & Male                                  & NA                                    & Living Characters                     & 3360                                  & Mar-41                                & marvel                               \\\\\n",
       "\t Wolverine (James \\textbackslash{}\"Logan\\textbackslash{}\" Howlett) & Public                                                              & Neutral                                                             & Blue Eyes                                                           & Black Hair                                                          & Male                                                                & NA                                                                  & Living Characters                                                   & 3061                                                                & Oct-74                                                              & marvel                                                             \\\\\n",
       "\t Iron Man (Anthony \\textbackslash{}\"Tony\\textbackslash{}\" Stark)   & Public                                                              & Good                                                                & Blue Eyes                                                           & Black Hair                                                          & Male                                                                & NA                                                                  & Living Characters                                                   & 2961                                                                & Mar-63                                                              & marvel                                                             \\\\\n",
       "\t Thor (Thor Odinson)                   & No Dual                               & Good                                  & Blue Eyes                             & Blond Hair                            & Male                                  & NA                                    & Living Characters                     & 2258                                  & Nov-50                                & marvel                               \\\\\n",
       "\t Benjamin Grimm (Earth-616)            & Public                                & Good                                  & Blue Eyes                             & No Hair                               & Male                                  & NA                                    & Living Characters                     & 2255                                  & Nov-61                                & marvel                               \\\\\n",
       "\\end{tabular}\n"
      ],
      "text/markdown": [
       "\n",
       "name | id | align | eye | hair | gender | gsm | alive | appearances | first_appear | publisher | \n",
       "|---|---|---|---|---|---|\n",
       "| Spider-Man (Peter Parker)             | Secret                                | Good                                  | Hazel Eyes                            | Brown Hair                            | Male                                  | NA                                    | Living Characters                     | 4043                                  | Aug-62                                | marvel                                | \n",
       "| Captain America (Steven Rogers)       | Public                                | Good                                  | Blue Eyes                             | White Hair                            | Male                                  | NA                                    | Living Characters                     | 3360                                  | Mar-41                                | marvel                                | \n",
       "| Wolverine (James \\\"Logan\\\" Howlett) | Public                                | Neutral                               | Blue Eyes                             | Black Hair                            | Male                                  | NA                                    | Living Characters                     | 3061                                  | Oct-74                                | marvel                                | \n",
       "| Iron Man (Anthony \\\"Tony\\\" Stark)   | Public                                | Good                                  | Blue Eyes                             | Black Hair                            | Male                                  | NA                                    | Living Characters                     | 2961                                  | Mar-63                                | marvel                                | \n",
       "| Thor (Thor Odinson)                   | No Dual                               | Good                                  | Blue Eyes                             | Blond Hair                            | Male                                  | NA                                    | Living Characters                     | 2258                                  | Nov-50                                | marvel                                | \n",
       "| Benjamin Grimm (Earth-616)            | Public                                | Good                                  | Blue Eyes                             | No Hair                               | Male                                  | NA                                    | Living Characters                     | 2255                                  | Nov-61                                | marvel                                | \n",
       "\n",
       "\n"
      ],
      "text/plain": [
       "  name                                  id      align   eye        hair      \n",
       "1 Spider-Man (Peter Parker)             Secret  Good    Hazel Eyes Brown Hair\n",
       "2 Captain America (Steven Rogers)       Public  Good    Blue Eyes  White Hair\n",
       "3 Wolverine (James \\\\\"Logan\\\\\" Howlett) Public  Neutral Blue Eyes  Black Hair\n",
       "4 Iron Man (Anthony \\\\\"Tony\\\\\" Stark)   Public  Good    Blue Eyes  Black Hair\n",
       "5 Thor (Thor Odinson)                   No Dual Good    Blue Eyes  Blond Hair\n",
       "6 Benjamin Grimm (Earth-616)            Public  Good    Blue Eyes  No Hair   \n",
       "  gender gsm alive             appearances first_appear publisher\n",
       "1 Male   NA  Living Characters 4043        Aug-62       marvel   \n",
       "2 Male   NA  Living Characters 3360        Mar-41       marvel   \n",
       "3 Male   NA  Living Characters 3061        Oct-74       marvel   \n",
       "4 Male   NA  Living Characters 2961        Mar-63       marvel   \n",
       "5 Male   NA  Living Characters 2258        Nov-50       marvel   \n",
       "6 Male   NA  Living Characters 2255        Nov-61       marvel   "
      ]
     },
     "metadata": {},
     "output_type": "display_data"
    }
   ],
   "source": [
    "# Remove align level\n",
    "comics_filtered <- comics %>%\n",
    "  filter(align != \"Reformed Criminals\") %>%\n",
    "  droplevels()\n",
    "\n",
    "# See the result\n",
    "head(comics_filtered)"
   ]
  },
  {
   "cell_type": "markdown",
   "metadata": {},
   "source": [
    "### side by side barchart"
   ]
  },
  {
   "cell_type": "code",
   "execution_count": 7,
   "metadata": {},
   "outputs": [
    {
     "data": {},
     "metadata": {},
     "output_type": "display_data"
    },
    {
     "data": {
      "image/png": "[encoded data removed]",
      "text/plain": [
       "plot without title"
      ]
     },
     "metadata": {},
     "output_type": "display_data"
    }
   ],
   "source": [
    "# Create side-by-side barchart of gender by alignment\n",
    "ggplot(comics, aes(x = align, fill = gender)) + \n",
    "  geom_bar(position = \"dodge\")"
   ]
  },
  {
   "cell_type": "code",
   "execution_count": 8,
   "metadata": {},
   "outputs": [
    {
     "data": {},
     "metadata": {},
     "output_type": "display_data"
    },
    {
     "data": {
      "image/png": "[encoded data removed]",
      "text/plain": [
       "plot without title"
      ]
     },
     "metadata": {},
     "output_type": "display_data"
    }
   ],
   "source": [
    "# Create side-by-side barchart of alignment by gender\n",
    "ggplot(comics, aes(x = gender, fill = align)) + \n",
    "  geom_bar(position = \"dodge\") +\n",
    "  theme(axis.text.x = element_text(angle = 90))"
   ]
  },
  {
   "cell_type": "markdown",
   "metadata": {},
   "source": [
    "Among characters with \"Neutral\" alignment, males are the most common.\n",
    "<br>In general, there is an association between gender and alignment.\n",
    "<br>There are more male characters than female characters in this dataset."
   ]
  },
  {
   "cell_type": "markdown",
   "metadata": {},
   "source": [
    "### Conditional proportion"
   ]
  },
  {
   "cell_type": "code",
   "execution_count": 9,
   "metadata": {},
   "outputs": [
    {
     "data": {
      "text/plain": [
       "                    \n",
       "                        Female      Male     Other\n",
       "  Bad                0.0821968 0.3950985 0.0016722\n",
       "  Good               0.1301144 0.2512933 0.0008883\n",
       "  Neutral            0.0436850 0.0940064 0.0008883\n",
       "  Reformed Criminals 0.0000523 0.0001045 0.0000000"
      ]
     },
     "metadata": {},
     "output_type": "display_data"
    },
    {
     "data": {
      "text/plain": [
       "                    \n",
       "                       Female     Male    Other\n",
       "  Bad                0.321020 0.533554 0.484848\n",
       "  Good               0.508163 0.339355 0.257576\n",
       "  Neutral            0.170612 0.126949 0.257576\n",
       "  Reformed Criminals 0.000204 0.000141 0.000000"
      ]
     },
     "metadata": {},
     "output_type": "display_data"
    }
   ],
   "source": [
    "tab <- table(comics$align, comics$gender)\n",
    "options(scipen = 999, digits = 3) # Print fewer digits\n",
    "prop.table(tab)     # Joint proportions\n",
    "prop.table(tab, 2)  # Conditional on columns"
   ]
  },
  {
   "cell_type": "code",
   "execution_count": 10,
   "metadata": {},
   "outputs": [
    {
     "data": {},
     "metadata": {},
     "output_type": "display_data"
    },
    {
     "data": {
      "image/png": "[encoded data removed]",
      "text/plain": [
       "plot without title"
      ]
     },
     "metadata": {},
     "output_type": "display_data"
    }
   ],
   "source": [
    "# Plot of gender by align\n",
    "ggplot(comics, aes(x = align, fill = gender)) +\n",
    "  geom_bar()\n",
    "  "
   ]
  },
  {
   "cell_type": "code",
   "execution_count": 11,
   "metadata": {},
   "outputs": [
    {
     "data": {},
     "metadata": {},
     "output_type": "display_data"
    },
    {
     "data": {
      "image/png": "[encoded data removed]",
      "text/plain": [
       "plot without title"
      ]
     },
     "metadata": {},
     "output_type": "display_data"
    }
   ],
   "source": [
    "# Plot proportion of gender, conditional on align\n",
    "ggplot(comics, aes(x = align, fill = gender)) + \n",
    "  geom_bar(position = \"fill\") +\n",
    "  ylab(\"proportion\")"
   ]
  },
  {
   "cell_type": "markdown",
   "metadata": {},
   "source": [
    "## Single variable exploration"
   ]
  },
  {
   "cell_type": "code",
   "execution_count": 12,
   "metadata": {},
   "outputs": [
    {
     "data": {},
     "metadata": {},
     "output_type": "display_data"
    },
    {
     "data": {
      "image/png": "[encoded data removed]",
      "text/plain": [
       "plot without title"
      ]
     },
     "metadata": {},
     "output_type": "display_data"
    }
   ],
   "source": [
    "# Change the order of the levels in align\n",
    "comics$align <- factor(comics$align, \n",
    "                       levels = c(\"Bad\", \"Neutral\", \"Good\"))\n",
    "\n",
    "# Create plot of align\n",
    "ggplot(comics, aes(x = align)) + \n",
    "  geom_bar()"
   ]
  },
  {
   "cell_type": "markdown",
   "metadata": {},
   "source": [
    "<b>Conditional barchart</b>"
   ]
  },
  {
   "cell_type": "code",
   "execution_count": 13,
   "metadata": {},
   "outputs": [
    {
     "data": {},
     "metadata": {},
     "output_type": "display_data"
    },
    {
     "data": {
      "image/png": "[encoded data removed]",
      "text/plain": [
       "plot without title"
      ]
     },
     "metadata": {},
     "output_type": "display_data"
    }
   ],
   "source": [
    "# Plot of alignment broken down by gender\n",
    "ggplot(comics, aes(x = align)) + \n",
    "  geom_bar() +\n",
    "  facet_wrap(~ gender)"
   ]
  },
  {
   "cell_type": "markdown",
   "metadata": {},
   "source": [
    "# Exploring numerical data"
   ]
  },
  {
   "cell_type": "code",
   "execution_count": 14,
   "metadata": {},
   "outputs": [
    {
     "name": "stdout",
     "output_type": "stream",
     "text": [
      "'data.frame':\t32 obs. of  11 variables:\n",
      " $ mpg : num  21 21 22.8 21.4 18.7 18.1 14.3 24.4 22.8 19.2 ...\n",
      " $ cyl : num  6 6 4 6 8 6 8 4 4 6 ...\n",
      " $ disp: num  160 160 108 258 360 ...\n",
      " $ hp  : num  110 110 93 110 175 105 245 62 95 123 ...\n",
      " $ drat: num  3.9 3.9 3.85 3.08 3.15 2.76 3.21 3.69 3.92 3.92 ...\n",
      " $ wt  : num  2.62 2.88 2.32 3.21 3.44 ...\n",
      " $ qsec: num  16.5 17 18.6 19.4 17 ...\n",
      " $ vs  : num  0 0 1 1 0 1 0 1 1 1 ...\n",
      " $ am  : num  1 1 1 0 0 0 0 0 0 0 ...\n",
      " $ gear: num  4 4 4 3 3 3 3 4 4 4 ...\n",
      " $ carb: num  4 4 1 1 2 1 4 2 2 4 ...\n"
     ]
    }
   ],
   "source": [
    "# Learn data structure\n",
    "str(mtcars)"
   ]
  },
  {
   "cell_type": "markdown",
   "metadata": {},
   "source": [
    "### faceted histogram"
   ]
  },
  {
   "cell_type": "code",
   "execution_count": 15,
   "metadata": {},
   "outputs": [
    {
     "name": "stderr",
     "output_type": "stream",
     "text": [
      "`stat_bin()` using `bins = 30`. Pick better value with `binwidth`.\n"
     ]
    },
    {
     "data": {},
     "metadata": {},
     "output_type": "display_data"
    },
    {
     "data": {
      "image/png": "[encoded data removed]",
      "text/plain": [
       "plot without title"
      ]
     },
     "metadata": {},
     "output_type": "display_data"
    }
   ],
   "source": [
    "# Create faceted histogram\n",
    "ggplot(mtcars, aes(x = mpg)) +\n",
    "  geom_histogram() +\n",
    "  facet_wrap(~ vs)"
   ]
  },
  {
   "cell_type": "markdown",
   "metadata": {},
   "source": [
    "### Boxplots and density plots\n",
    "The mileage of a car tends to be associated with the size of its engine (as measured by the number of cylinders). "
   ]
  },
  {
   "cell_type": "code",
   "execution_count": 16,
   "metadata": {},
   "outputs": [
    {
     "data": {},
     "metadata": {},
     "output_type": "display_data"
    },
    {
     "data": {
      "image/png": "[encoded data removed]",
      "text/plain": [
       "plot without title"
      ]
     },
     "metadata": {},
     "output_type": "display_data"
    }
   ],
   "source": [
    "# Create box plots of city mpg by ncyl\n",
    "ggplot(mtcars, aes(x = as.factor(cyl), y = mpg)) +\n",
    "  geom_boxplot()"
   ]
  },
  {
   "cell_type": "code",
   "execution_count": 17,
   "metadata": {},
   "outputs": [
    {
     "data": {},
     "metadata": {},
     "output_type": "display_data"
    },
    {
     "data": {
      "image/png": "[encoded data removed]",
      "text/plain": [
       "plot without title"
      ]
     },
     "metadata": {},
     "output_type": "display_data"
    }
   ],
   "source": [
    "# Create overlaid density plots for same data\n",
    "ggplot(mtcars, aes(x = mpg, fill = as.factor(cyl))) +\n",
    "  geom_density(alpha = .3)"
   ]
  },
  {
   "cell_type": "code",
   "execution_count": 18,
   "metadata": {},
   "outputs": [
    {
     "name": "stderr",
     "output_type": "stream",
     "text": [
      "`stat_bin()` using `bins = 30`. Pick better value with `binwidth`.\n"
     ]
    },
    {
     "data": {},
     "metadata": {},
     "output_type": "display_data"
    },
    {
     "data": {
      "image/png": "[encoded data removed]",
      "text/plain": [
       "plot without title"
      ]
     },
     "metadata": {},
     "output_type": "display_data"
    }
   ],
   "source": [
    "# Create hist of horsepwr\n",
    "mtcars %>%\n",
    "  ggplot(aes(hp)) +\n",
    "  geom_histogram() +\n",
    "  ggtitle(\"Horsepower distribution\")\n",
    "\n"
   ]
  },
  {
   "cell_type": "markdown",
   "metadata": {},
   "source": [
    "### Binwidths\n",
    "Before you take plots for granted, it's a good idea to see how things change when you alter the binwidth. The binwidth determines how smooth your distribution will appear: the smaller the binwidth, the more jagged your distribution becomes. It's good practice to consider several binwidths in order to detect different types of structure in your data."
   ]
  },
  {
   "cell_type": "code",
   "execution_count": 19,
   "metadata": {},
   "outputs": [
    {
     "data": {},
     "metadata": {},
     "output_type": "display_data"
    },
    {
     "data": {
      "image/png": "[encoded data removed]",
      "text/plain": [
       "plot without title"
      ]
     },
     "metadata": {},
     "output_type": "display_data"
    }
   ],
   "source": [
    "# Create hist of horsepwr with binwidth of 3\n",
    "mtcars %>%\n",
    "  ggplot(aes(hp)) +\n",
    "  geom_histogram(binwidth = 3) +\n",
    "  ggtitle(\"Horsepower\")"
   ]
  },
  {
   "cell_type": "code",
   "execution_count": 20,
   "metadata": {},
   "outputs": [
    {
     "data": {},
     "metadata": {},
     "output_type": "display_data"
    },
    {
     "data": {
      "image/png": "[encoded data removed]",
      "text/plain": [
       "plot without title"
      ]
     },
     "metadata": {},
     "output_type": "display_data"
    }
   ],
   "source": [
    "# Create hist of horsepwr with binwidth of 30\n",
    "mtcars %>%\n",
    "  ggplot(aes(hp)) +\n",
    "  geom_histogram(binwidth = 30) +\n",
    "  ggtitle(\"Horsepower\")"
   ]
  },
  {
   "cell_type": "code",
   "execution_count": 21,
   "metadata": {},
   "outputs": [
    {
     "data": {},
     "metadata": {},
     "output_type": "display_data"
    },
    {
     "data": {
      "image/png": "[encoded data removed]",
      "text/plain": [
       "plot without title"
      ]
     },
     "metadata": {},
     "output_type": "display_data"
    }
   ],
   "source": [
    "# Create hist of horsepwr with binwidth of 60\n",
    "mtcars %>%\n",
    "  ggplot(aes(hp)) +\n",
    "  geom_histogram(binwidth = 60) +\n",
    "  ggtitle(\"Horsepower\")"
   ]
  },
  {
   "cell_type": "markdown",
   "metadata": {},
   "source": [
    "## Boxplots"
   ]
  },
  {
   "cell_type": "code",
   "execution_count": 22,
   "metadata": {},
   "outputs": [
    {
     "data": {},
     "metadata": {},
     "output_type": "display_data"
    },
    {
     "data": {
      "image/png": "[encoded data removed]",
      "text/plain": [
       "plot without title"
      ]
     },
     "metadata": {},
     "output_type": "display_data"
    }
   ],
   "source": [
    "# Create box plots of city mpg by ncyl\n",
    "ggplot(mtcars, aes(x = as.factor(cyl), y = mpg)) +\n",
    "  geom_boxplot()"
   ]
  },
  {
   "cell_type": "markdown",
   "metadata": {},
   "source": [
    "### Three variable plots"
   ]
  },
  {
   "cell_type": "code",
   "execution_count": 23,
   "metadata": {},
   "outputs": [
    {
     "name": "stderr",
     "output_type": "stream",
     "text": [
      "`stat_bin()` using `bins = 30`. Pick better value with `binwidth`.\n"
     ]
    },
    {
     "data": {},
     "metadata": {},
     "output_type": "display_data"
    },
    {
     "data": {
      "image/png": "[encoded data removed]",
      "text/plain": [
       "plot without title"
      ]
     },
     "metadata": {},
     "output_type": "display_data"
    }
   ],
   "source": [
    "# Facet hists using hwy mileage and ncyl\n",
    "mtcars %>%\n",
    "  ggplot(aes(x = mpg)) +\n",
    "  geom_histogram() +\n",
    "  facet_grid(cyl ~ vs) "
   ]
  },
  {
   "cell_type": "markdown",
   "metadata": {},
   "source": [
    "## Calculate center measures"
   ]
  },
  {
   "cell_type": "code",
   "execution_count": 24,
   "metadata": {},
   "outputs": [],
   "source": [
    "library(gapminder)"
   ]
  },
  {
   "cell_type": "code",
   "execution_count": 25,
   "metadata": {},
   "outputs": [
    {
     "data": {
      "text/html": [
       "<table>\n",
       "<thead><tr><th scope=col>continent</th><th scope=col>mean(lifeExp)</th><th scope=col>median(lifeExp)</th></tr></thead>\n",
       "<tbody>\n",
       "\t<tr><td>Africa  </td><td>54.8    </td><td>52.9    </td></tr>\n",
       "\t<tr><td>Americas</td><td>73.6    </td><td>72.9    </td></tr>\n",
       "\t<tr><td>Asia    </td><td>70.7    </td><td>72.4    </td></tr>\n",
       "\t<tr><td>Europe  </td><td>77.6    </td><td>78.6    </td></tr>\n",
       "\t<tr><td>Oceania </td><td>80.7    </td><td>80.7    </td></tr>\n",
       "</tbody>\n",
       "</table>\n"
      ],
      "text/latex": [
       "\\begin{tabular}{r|lll}\n",
       " continent & mean(lifeExp) & median(lifeExp)\\\\\n",
       "\\hline\n",
       "\t Africa   & 54.8     & 52.9    \\\\\n",
       "\t Americas & 73.6     & 72.9    \\\\\n",
       "\t Asia     & 70.7     & 72.4    \\\\\n",
       "\t Europe   & 77.6     & 78.6    \\\\\n",
       "\t Oceania  & 80.7     & 80.7    \\\\\n",
       "\\end{tabular}\n"
      ],
      "text/markdown": [
       "\n",
       "continent | mean(lifeExp) | median(lifeExp) | \n",
       "|---|---|---|---|---|\n",
       "| Africa   | 54.8     | 52.9     | \n",
       "| Americas | 73.6     | 72.9     | \n",
       "| Asia     | 70.7     | 72.4     | \n",
       "| Europe   | 77.6     | 78.6     | \n",
       "| Oceania  | 80.7     | 80.7     | \n",
       "\n",
       "\n"
      ],
      "text/plain": [
       "  continent mean(lifeExp) median(lifeExp)\n",
       "1 Africa    54.8          52.9           \n",
       "2 Americas  73.6          72.9           \n",
       "3 Asia      70.7          72.4           \n",
       "4 Europe    77.6          78.6           \n",
       "5 Oceania   80.7          80.7           "
      ]
     },
     "metadata": {},
     "output_type": "display_data"
    },
    {
     "data": {},
     "metadata": {},
     "output_type": "display_data"
    },
    {
     "data": {
      "image/png": "[encoded data removed]",
      "text/plain": [
       "plot without title"
      ]
     },
     "metadata": {},
     "output_type": "display_data"
    }
   ],
   "source": [
    "# Create dataset of 2007 data\n",
    "gap2007 <- filter(gapminder, year == 2007)\n",
    "\n",
    "# Compute groupwise mean and median lifeExp\n",
    "gap2007 %>%\n",
    "  group_by(continent) %>%\n",
    "  summarize(mean(lifeExp),\n",
    "            median(lifeExp))\n",
    "\n",
    "# Generate box plots of lifeExp for each continent\n",
    "gap2007 %>%\n",
    "  ggplot(aes(x = continent, y = lifeExp)) +\n",
    "  geom_boxplot()"
   ]
  },
  {
   "cell_type": "code",
   "execution_count": 26,
   "metadata": {},
   "outputs": [
    {
     "data": {
      "text/html": [
       "<table>\n",
       "<thead><tr><th scope=col>continent</th><th scope=col>sd(lifeExp)</th><th scope=col>IQR(lifeExp)</th><th scope=col>n()</th></tr></thead>\n",
       "<tbody>\n",
       "\t<tr><td>Africa  </td><td>9.631   </td><td>11.610  </td><td>52      </td></tr>\n",
       "\t<tr><td>Americas</td><td>4.441   </td><td> 4.632  </td><td>25      </td></tr>\n",
       "\t<tr><td>Asia    </td><td>7.964   </td><td>10.152  </td><td>33      </td></tr>\n",
       "\t<tr><td>Europe  </td><td>2.980   </td><td> 4.782  </td><td>30      </td></tr>\n",
       "\t<tr><td>Oceania </td><td>0.729   </td><td> 0.516  </td><td> 2      </td></tr>\n",
       "</tbody>\n",
       "</table>\n"
      ],
      "text/latex": [
       "\\begin{tabular}{r|llll}\n",
       " continent & sd(lifeExp) & IQR(lifeExp) & n()\\\\\n",
       "\\hline\n",
       "\t Africa   & 9.631    & 11.610   & 52      \\\\\n",
       "\t Americas & 4.441    &  4.632   & 25      \\\\\n",
       "\t Asia     & 7.964    & 10.152   & 33      \\\\\n",
       "\t Europe   & 2.980    &  4.782   & 30      \\\\\n",
       "\t Oceania  & 0.729    &  0.516   &  2      \\\\\n",
       "\\end{tabular}\n"
      ],
      "text/markdown": [
       "\n",
       "continent | sd(lifeExp) | IQR(lifeExp) | n() | \n",
       "|---|---|---|---|---|\n",
       "| Africa   | 9.631    | 11.610   | 52       | \n",
       "| Americas | 4.441    |  4.632   | 25       | \n",
       "| Asia     | 7.964    | 10.152   | 33       | \n",
       "| Europe   | 2.980    |  4.782   | 30       | \n",
       "| Oceania  | 0.729    |  0.516   |  2       | \n",
       "\n",
       "\n"
      ],
      "text/plain": [
       "  continent sd(lifeExp) IQR(lifeExp) n()\n",
       "1 Africa    9.631       11.610       52 \n",
       "2 Americas  4.441        4.632       25 \n",
       "3 Asia      7.964       10.152       33 \n",
       "4 Europe    2.980        4.782       30 \n",
       "5 Oceania   0.729        0.516        2 "
      ]
     },
     "metadata": {},
     "output_type": "display_data"
    },
    {
     "data": {},
     "metadata": {},
     "output_type": "display_data"
    },
    {
     "data": {
      "image/png": "[encoded data removed]",
      "text/plain": [
       "plot without title"
      ]
     },
     "metadata": {},
     "output_type": "display_data"
    }
   ],
   "source": [
    "# Compute groupwise measures of spread\n",
    "gap2007 %>%\n",
    "  group_by(continent) %>%\n",
    "  summarize(sd(lifeExp),\n",
    "            IQR(lifeExp),\n",
    "            n())\n",
    "\n",
    "# Generate overlaid density plots\n",
    "gap2007 %>%\n",
    "  ggplot(aes(x = lifeExp, fill = continent)) +\n",
    "  geom_density(alpha = 0.3)"
   ]
  },
  {
   "cell_type": "markdown",
   "metadata": {},
   "source": [
    " Like mean and standard deviation, median and IQR measure the central tendency and spread, respectively, but are robust to outliers and non-normal data. "
   ]
  },
  {
   "cell_type": "markdown",
   "metadata": {},
   "source": [
    "### Transformations\n",
    "\n",
    "Highly skewed distributions can make it very difficult to learn anything from a visualization. Transformations can be helpful in revealing the more subtle structure. "
   ]
  },
  {
   "cell_type": "code",
   "execution_count": 27,
   "metadata": {},
   "outputs": [
    {
     "data": {},
     "metadata": {},
     "output_type": "display_data"
    },
    {
     "data": {
      "image/png": "[encoded data removed]",
      "text/plain": [
       "plot without title"
      ]
     },
     "metadata": {},
     "output_type": "display_data"
    }
   ],
   "source": [
    "# Create density plot of old variable\n",
    "gap2007 %>%\n",
    "  ggplot(aes(x = pop)) +\n",
    "  geom_density()"
   ]
  },
  {
   "cell_type": "code",
   "execution_count": 28,
   "metadata": {},
   "outputs": [
    {
     "data": {},
     "metadata": {},
     "output_type": "display_data"
    },
    {
     "data": {
      "image/png": "[encoded data removed]",
      "text/plain": [
       "plot without title"
      ]
     },
     "metadata": {},
     "output_type": "display_data"
    }
   ],
   "source": [
    "# Transform the skewed pop variable\n",
    "gap2007 <- gap2007 %>%\n",
    "  mutate(log_pop = log(pop))\n",
    "\n",
    "# Create density plot of new variable\n",
    "gap2007 %>%\n",
    "  ggplot(aes(x = log_pop)) +\n",
    "  geom_density()"
   ]
  },
  {
   "cell_type": "markdown",
   "metadata": {},
   "source": [
    "# Outlier"
   ]
  },
  {
   "cell_type": "code",
   "execution_count": 29,
   "metadata": {},
   "outputs": [
    {
     "data": {},
     "metadata": {},
     "output_type": "display_data"
    },
    {
     "data": {
      "image/png": "[encoded data removed]",
      "text/plain": [
       "plot without title"
      ]
     },
     "metadata": {},
     "output_type": "display_data"
    }
   ],
   "source": [
    "# Remove outliers, create box plot of lifeExp\n",
    "gap2007 %>%\n",
    "  ggplot(aes(x = 1, y = lifeExp)) +\n",
    "  geom_boxplot()"
   ]
  },
  {
   "cell_type": "code",
   "execution_count": 30,
   "metadata": {},
   "outputs": [
    {
     "data": {},
     "metadata": {},
     "output_type": "display_data"
    },
    {
     "data": {
      "image/png": "[encoded data removed]",
      "text/plain": [
       "plot without title"
      ]
     },
     "metadata": {},
     "output_type": "display_data"
    }
   ],
   "source": [
    "# Filter for Asia, add column indicating outliers\n",
    "gap_asia <- gap2007 %>%\n",
    "  filter(continent == \"Asia\") %>%\n",
    "  mutate(is_outlier = lifeExp < 50)\n",
    "\n",
    "# Remove outliers, create box plot of lifeExp\n",
    "gap_asia %>%\n",
    "  filter(is_outlier == FALSE) %>%\n",
    "  ggplot(aes(x = 1, y = lifeExp)) +\n",
    "  geom_boxplot()"
   ]
  },
  {
   "cell_type": "markdown",
   "metadata": {},
   "source": [
    "# Case studies United Nations\n",
    "The votes data set contains the UN General Assambly votes. The UN started voting in 1946. \n",
    "<br>Where the vote column is represented the votes:\n",
    "\n",
    "    1 = Yes\n",
    "    2 = Abstain\n",
    "    3 = No\n",
    "    8 = Not present\n",
    "    9 = Not a member\n",
    "\n",
    "The `ccode` are [The Correlates of War project](www.cow.dss.ucdavis.edu/data-sets/cow-country-codes) country codes"
   ]
  },
  {
   "cell_type": "code",
   "execution_count": 31,
   "metadata": {},
   "outputs": [
    {
     "name": "stderr",
     "output_type": "stream",
     "text": [
      "Parsed with column specification:\n",
      "cols(\n",
      "  StateAbb = col_character(),\n",
      "  CCode = col_integer(),\n",
      "  StateNme = col_character()\n",
      ")\n"
     ]
    }
   ],
   "source": [
    "votes <- readRDS(\"votes.Rds\")\n",
    "COW <- read_csv(\"COWcountrycodes.csv\")"
   ]
  },
  {
   "cell_type": "code",
   "execution_count": 32,
   "metadata": {},
   "outputs": [
    {
     "name": "stdout",
     "output_type": "stream",
     "text": [
      "Observations: 508,929\n",
      "Variables: 4\n",
      "$ rcid    <dbl> 46, 46, 46, 46, 46, 46, 46, 46, 46, 46, 46, 46, 46, 46, 46,...\n",
      "$ session <dbl> 2, 2, 2, 2, 2, 2, 2, 2, 2, 2, 2, 2, 2, 2, 2, 2, 2, 2, 2, 2,...\n",
      "$ vote    <dbl> 1, 1, 9, 1, 1, 1, 9, 9, 9, 9, 9, 9, 9, 9, 9, 1, 9, 1, 1, 1,...\n",
      "$ ccode   <int> 2, 20, 31, 40, 41, 42, 51, 52, 53, 54, 55, 56, 57, 58, 60, ...\n",
      "Observations: 243\n",
      "Variables: 3\n",
      "$ StateAbb <chr> \"USA\", \"CAN\", \"BHM\", \"CUB\", \"CUB\", \"HAI\", \"HAI\", \"DOM\", \"D...\n",
      "$ CCode    <int> 2, 20, 31, 40, 40, 41, 41, 42, 42, 51, 52, 53, 54, 55, 56,...\n",
      "$ StateNme <chr> \"United States of America\", \"Canada\", \"Bahamas\", \"Cuba\", \"...\n"
     ]
    }
   ],
   "source": [
    "glimpse(votes)\n",
    "glimpse(COW)"
   ]
  },
  {
   "cell_type": "code",
   "execution_count": 33,
   "metadata": {},
   "outputs": [
    {
     "name": "stderr",
     "output_type": "stream",
     "text": [
      "Warning message in countrycode(ccode, \"cown\", \"country.name\"):\n",
      "\"Some values were not matched unambiguously: 260, 816\n",
      "\""
     ]
    }
   ],
   "source": [
    "# Filter for votes that are \"yes\", \"abstain\", or \"no\"\n",
    "votes_processed <- votes %>%  \n",
    "    filter( vote %in% c(1,2,3)) %>%\n",
    "    mutate(year = session + 1945, #un started voteing in 1946 therefore you can get year by adding 1945 to the session\n",
    "          country = countrycode(ccode, \"cown\", \"country.name\")) \n",
    "    "
   ]
  },
  {
   "cell_type": "code",
   "execution_count": 34,
   "metadata": {},
   "outputs": [
    {
     "data": {
      "text/html": [
       "<table>\n",
       "<thead><tr><th scope=col>StateAbb</th><th scope=col>CCode</th><th scope=col>StateNme</th></tr></thead>\n",
       "<tbody>\n",
       "\t<tr><td>GFR                    </td><td>260                    </td><td>German Federal Republic</td></tr>\n",
       "</tbody>\n",
       "</table>\n"
      ],
      "text/latex": [
       "\\begin{tabular}{r|lll}\n",
       " StateAbb & CCode & StateNme\\\\\n",
       "\\hline\n",
       "\t GFR                     & 260                     & German Federal Republic\\\\\n",
       "\\end{tabular}\n"
      ],
      "text/markdown": [
       "\n",
       "StateAbb | CCode | StateNme | \n",
       "|---|\n",
       "| GFR                     | 260                     | German Federal Republic | \n",
       "\n",
       "\n"
      ],
      "text/plain": [
       "  StateAbb CCode StateNme               \n",
       "1 GFR      260   German Federal Republic"
      ]
     },
     "metadata": {},
     "output_type": "display_data"
    },
    {
     "data": {
      "text/html": [
       "<table>\n",
       "<thead><tr><th scope=col>StateAbb</th><th scope=col>CCode</th><th scope=col>StateNme</th></tr></thead>\n",
       "<tbody>\n",
       "\t<tr><td>DRV    </td><td>816    </td><td>Vietnam</td></tr>\n",
       "</tbody>\n",
       "</table>\n"
      ],
      "text/latex": [
       "\\begin{tabular}{r|lll}\n",
       " StateAbb & CCode & StateNme\\\\\n",
       "\\hline\n",
       "\t DRV     & 816     & Vietnam\\\\\n",
       "\\end{tabular}\n"
      ],
      "text/markdown": [
       "\n",
       "StateAbb | CCode | StateNme | \n",
       "|---|\n",
       "| DRV     | 816     | Vietnam | \n",
       "\n",
       "\n"
      ],
      "text/plain": [
       "  StateAbb CCode StateNme\n",
       "1 DRV      816   Vietnam "
      ]
     },
     "metadata": {},
     "output_type": "display_data"
    }
   ],
   "source": [
    "head(filter(COW, CCode == 260),1)\n",
    "head(filter(COW, CCode == 816),1)"
   ]
  },
  {
   "cell_type": "code",
   "execution_count": 35,
   "metadata": {},
   "outputs": [
    {
     "name": "stderr",
     "output_type": "stream",
     "text": [
      "Warning message in countrycode(ccode, \"cown\", \"country.name\"):\n",
      "\"Some values were not matched unambiguously: 260, 816\n",
      "\""
     ]
    }
   ],
   "source": [
    "# Filter for votes that are \"yes\", \"abstain\", or \"no\"\n",
    "votes_processed <- votes %>%  \n",
    "    filter( vote %in% c(1,2,3)) %>%\n",
    "    mutate(year = session + 1945, #un started voteing in 1946 therefore you can get year by adding 1945 to the session\n",
    "          country = countrycode(ccode, \"cown\", \"country.name\"),\n",
    "          country = replace(country, ccode == 260, \"German Federal Republic\"),\n",
    "          country = replace(country, ccode == 816, \"Vietnam\")) "
   ]
  },
  {
   "cell_type": "code",
   "execution_count": 36,
   "metadata": {},
   "outputs": [
    {
     "data": {
      "text/html": [
       "<table>\n",
       "<thead><tr><th scope=col>total</th><th scope=col>percent_yes</th></tr></thead>\n",
       "<tbody>\n",
       "\t<tr><td>353547</td><td>0.8   </td></tr>\n",
       "</tbody>\n",
       "</table>\n"
      ],
      "text/latex": [
       "\\begin{tabular}{r|ll}\n",
       " total & percent\\_yes\\\\\n",
       "\\hline\n",
       "\t 353547 & 0.8   \\\\\n",
       "\\end{tabular}\n"
      ],
      "text/markdown": [
       "\n",
       "total | percent_yes | \n",
       "|---|\n",
       "| 353547 | 0.8    | \n",
       "\n",
       "\n"
      ],
      "text/plain": [
       "  total  percent_yes\n",
       "1 353547 0.8        "
      ]
     },
     "metadata": {},
     "output_type": "display_data"
    }
   ],
   "source": [
    "# Find total and fraction of \"yes\" votes\n",
    "votes_processed %>%\n",
    "  summarise(total = n(),\n",
    "            percent_yes = sum(vote == 1)/n())"
   ]
  },
  {
   "cell_type": "code",
   "execution_count": 37,
   "metadata": {},
   "outputs": [
    {
     "data": {
      "text/html": [
       "<table>\n",
       "<thead><tr><th scope=col>year</th><th scope=col>total</th><th scope=col>percent_yes</th></tr></thead>\n",
       "<tbody>\n",
       "\t<tr><td>1947 </td><td> 2039</td><td>0.569</td></tr>\n",
       "\t<tr><td>1949 </td><td> 3469</td><td>0.438</td></tr>\n",
       "\t<tr><td>1951 </td><td> 1434</td><td>0.585</td></tr>\n",
       "\t<tr><td>1953 </td><td> 1537</td><td>0.632</td></tr>\n",
       "\t<tr><td>1955 </td><td> 2169</td><td>0.695</td></tr>\n",
       "\t<tr><td>1957 </td><td> 2708</td><td>0.609</td></tr>\n",
       "\t<tr><td>1959 </td><td> 4326</td><td>0.588</td></tr>\n",
       "\t<tr><td>1961 </td><td> 7482</td><td>0.573</td></tr>\n",
       "\t<tr><td>1963 </td><td> 3308</td><td>0.729</td></tr>\n",
       "\t<tr><td>1965 </td><td> 4382</td><td>0.708</td></tr>\n",
       "\t<tr><td>1967 </td><td> 6446</td><td>0.618</td></tr>\n",
       "\t<tr><td>1969 </td><td> 4942</td><td>0.665</td></tr>\n",
       "\t<tr><td>1971 </td><td>14648</td><td>0.714</td></tr>\n",
       "\t<tr><td>1973 </td><td>11521</td><td>0.772</td></tr>\n",
       "\t<tr><td>1975 </td><td> 8987</td><td>0.820</td></tr>\n",
       "\t<tr><td>1977 </td><td>13310</td><td>0.874</td></tr>\n",
       "\t<tr><td>1979 </td><td>17103</td><td>0.843</td></tr>\n",
       "\t<tr><td>1981 </td><td>19236</td><td>0.840</td></tr>\n",
       "\t<tr><td>1983 </td><td>21560</td><td>0.849</td></tr>\n",
       "\t<tr><td>1985 </td><td>22775</td><td>0.842</td></tr>\n",
       "\t<tr><td>1987 </td><td>22067</td><td>0.874</td></tr>\n",
       "\t<tr><td>1989 </td><td>17378</td><td>0.883</td></tr>\n",
       "\t<tr><td>1991 </td><td>11357</td><td>0.856</td></tr>\n",
       "\t<tr><td>1993 </td><td>10272</td><td>0.798</td></tr>\n",
       "\t<tr><td>1995 </td><td>12645</td><td>0.809</td></tr>\n",
       "\t<tr><td>1997 </td><td>11106</td><td>0.807</td></tr>\n",
       "\t<tr><td>1999 </td><td>10596</td><td>0.814</td></tr>\n",
       "\t<tr><td>2001 </td><td>10355</td><td>0.812</td></tr>\n",
       "\t<tr><td>2003 </td><td>13099</td><td>0.812</td></tr>\n",
       "\t<tr><td>2005 </td><td>12655</td><td>0.823</td></tr>\n",
       "\t<tr><td>2007 </td><td>13539</td><td>0.811</td></tr>\n",
       "\t<tr><td>2009 </td><td>12112</td><td>0.802</td></tr>\n",
       "\t<tr><td>2011 </td><td>11453</td><td>0.811</td></tr>\n",
       "\t<tr><td>2013 </td><td>11531</td><td>0.807</td></tr>\n",
       "</tbody>\n",
       "</table>\n"
      ],
      "text/latex": [
       "\\begin{tabular}{r|lll}\n",
       " year & total & percent\\_yes\\\\\n",
       "\\hline\n",
       "\t 1947  &  2039 & 0.569\\\\\n",
       "\t 1949  &  3469 & 0.438\\\\\n",
       "\t 1951  &  1434 & 0.585\\\\\n",
       "\t 1953  &  1537 & 0.632\\\\\n",
       "\t 1955  &  2169 & 0.695\\\\\n",
       "\t 1957  &  2708 & 0.609\\\\\n",
       "\t 1959  &  4326 & 0.588\\\\\n",
       "\t 1961  &  7482 & 0.573\\\\\n",
       "\t 1963  &  3308 & 0.729\\\\\n",
       "\t 1965  &  4382 & 0.708\\\\\n",
       "\t 1967  &  6446 & 0.618\\\\\n",
       "\t 1969  &  4942 & 0.665\\\\\n",
       "\t 1971  & 14648 & 0.714\\\\\n",
       "\t 1973  & 11521 & 0.772\\\\\n",
       "\t 1975  &  8987 & 0.820\\\\\n",
       "\t 1977  & 13310 & 0.874\\\\\n",
       "\t 1979  & 17103 & 0.843\\\\\n",
       "\t 1981  & 19236 & 0.840\\\\\n",
       "\t 1983  & 21560 & 0.849\\\\\n",
       "\t 1985  & 22775 & 0.842\\\\\n",
       "\t 1987  & 22067 & 0.874\\\\\n",
       "\t 1989  & 17378 & 0.883\\\\\n",
       "\t 1991  & 11357 & 0.856\\\\\n",
       "\t 1993  & 10272 & 0.798\\\\\n",
       "\t 1995  & 12645 & 0.809\\\\\n",
       "\t 1997  & 11106 & 0.807\\\\\n",
       "\t 1999  & 10596 & 0.814\\\\\n",
       "\t 2001  & 10355 & 0.812\\\\\n",
       "\t 2003  & 13099 & 0.812\\\\\n",
       "\t 2005  & 12655 & 0.823\\\\\n",
       "\t 2007  & 13539 & 0.811\\\\\n",
       "\t 2009  & 12112 & 0.802\\\\\n",
       "\t 2011  & 11453 & 0.811\\\\\n",
       "\t 2013  & 11531 & 0.807\\\\\n",
       "\\end{tabular}\n"
      ],
      "text/markdown": [
       "\n",
       "year | total | percent_yes | \n",
       "|---|---|---|---|---|---|---|---|---|---|---|---|---|---|---|---|---|---|---|---|---|---|---|---|---|---|---|---|---|---|---|---|---|---|\n",
       "| 1947  |  2039 | 0.569 | \n",
       "| 1949  |  3469 | 0.438 | \n",
       "| 1951  |  1434 | 0.585 | \n",
       "| 1953  |  1537 | 0.632 | \n",
       "| 1955  |  2169 | 0.695 | \n",
       "| 1957  |  2708 | 0.609 | \n",
       "| 1959  |  4326 | 0.588 | \n",
       "| 1961  |  7482 | 0.573 | \n",
       "| 1963  |  3308 | 0.729 | \n",
       "| 1965  |  4382 | 0.708 | \n",
       "| 1967  |  6446 | 0.618 | \n",
       "| 1969  |  4942 | 0.665 | \n",
       "| 1971  | 14648 | 0.714 | \n",
       "| 1973  | 11521 | 0.772 | \n",
       "| 1975  |  8987 | 0.820 | \n",
       "| 1977  | 13310 | 0.874 | \n",
       "| 1979  | 17103 | 0.843 | \n",
       "| 1981  | 19236 | 0.840 | \n",
       "| 1983  | 21560 | 0.849 | \n",
       "| 1985  | 22775 | 0.842 | \n",
       "| 1987  | 22067 | 0.874 | \n",
       "| 1989  | 17378 | 0.883 | \n",
       "| 1991  | 11357 | 0.856 | \n",
       "| 1993  | 10272 | 0.798 | \n",
       "| 1995  | 12645 | 0.809 | \n",
       "| 1997  | 11106 | 0.807 | \n",
       "| 1999  | 10596 | 0.814 | \n",
       "| 2001  | 10355 | 0.812 | \n",
       "| 2003  | 13099 | 0.812 | \n",
       "| 2005  | 12655 | 0.823 | \n",
       "| 2007  | 13539 | 0.811 | \n",
       "| 2009  | 12112 | 0.802 | \n",
       "| 2011  | 11453 | 0.811 | \n",
       "| 2013  | 11531 | 0.807 | \n",
       "\n",
       "\n"
      ],
      "text/plain": [
       "   year total percent_yes\n",
       "1  1947  2039 0.569      \n",
       "2  1949  3469 0.438      \n",
       "3  1951  1434 0.585      \n",
       "4  1953  1537 0.632      \n",
       "5  1955  2169 0.695      \n",
       "6  1957  2708 0.609      \n",
       "7  1959  4326 0.588      \n",
       "8  1961  7482 0.573      \n",
       "9  1963  3308 0.729      \n",
       "10 1965  4382 0.708      \n",
       "11 1967  6446 0.618      \n",
       "12 1969  4942 0.665      \n",
       "13 1971 14648 0.714      \n",
       "14 1973 11521 0.772      \n",
       "15 1975  8987 0.820      \n",
       "16 1977 13310 0.874      \n",
       "17 1979 17103 0.843      \n",
       "18 1981 19236 0.840      \n",
       "19 1983 21560 0.849      \n",
       "20 1985 22775 0.842      \n",
       "21 1987 22067 0.874      \n",
       "22 1989 17378 0.883      \n",
       "23 1991 11357 0.856      \n",
       "24 1993 10272 0.798      \n",
       "25 1995 12645 0.809      \n",
       "26 1997 11106 0.807      \n",
       "27 1999 10596 0.814      \n",
       "28 2001 10355 0.812      \n",
       "29 2003 13099 0.812      \n",
       "30 2005 12655 0.823      \n",
       "31 2007 13539 0.811      \n",
       "32 2009 12112 0.802      \n",
       "33 2011 11453 0.811      \n",
       "34 2013 11531 0.807      "
      ]
     },
     "metadata": {},
     "output_type": "display_data"
    }
   ],
   "source": [
    "# Now voes by year\n",
    "by_year <- votes_processed %>%\n",
    "              group_by(year) %>%\n",
    "              summarize(total = n(),\n",
    "                    percent_yes = mean(vote == 1))\n",
    "by_year"
   ]
  },
  {
   "cell_type": "code",
   "execution_count": 38,
   "metadata": {},
   "outputs": [
    {
     "data": {
      "text/html": [
       "<table>\n",
       "<thead><tr><th scope=col>country</th><th scope=col>total</th><th scope=col>percent_yes</th></tr></thead>\n",
       "<tbody>\n",
       "\t<tr><td>Afghanistan         </td><td>2373                </td><td>0.859               </td></tr>\n",
       "\t<tr><td>Albania             </td><td>1695                </td><td>0.717               </td></tr>\n",
       "\t<tr><td>Algeria             </td><td>2213                </td><td>0.899               </td></tr>\n",
       "\t<tr><td>Andorra             </td><td> 719                </td><td>0.638               </td></tr>\n",
       "\t<tr><td>Angola              </td><td>1431                </td><td>0.924               </td></tr>\n",
       "\t<tr><td><span style=white-space:pre-wrap>Antigua &amp; Barbuda   </span></td><td>1302                                                            </td><td>0.912                                                           </td></tr>\n",
       "\t<tr><td>Argentina           </td><td>2553                </td><td>0.768               </td></tr>\n",
       "\t<tr><td>Armenia             </td><td> 758                </td><td>0.747               </td></tr>\n",
       "\t<tr><td>Australia           </td><td>2575                </td><td>0.557               </td></tr>\n",
       "\t<tr><td>Austria             </td><td>2389                </td><td>0.622               </td></tr>\n",
       "\t<tr><td>Azerbaijan          </td><td> 704                </td><td>0.862               </td></tr>\n",
       "\t<tr><td>Bahamas             </td><td>1781                </td><td>0.894               </td></tr>\n",
       "\t<tr><td>Bahrain             </td><td>2010                </td><td>0.935               </td></tr>\n",
       "\t<tr><td>Bangladesh          </td><td>1799                </td><td>0.944               </td></tr>\n",
       "\t<tr><td>Barbados            </td><td>2001                </td><td>0.906               </td></tr>\n",
       "\t<tr><td>Belarus             </td><td>2534                </td><td>0.760               </td></tr>\n",
       "\t<tr><td>Belgium             </td><td>2568                </td><td>0.492               </td></tr>\n",
       "\t<tr><td>Belize              </td><td>1111                </td><td>0.927               </td></tr>\n",
       "\t<tr><td>Benin               </td><td>2169                </td><td>0.906               </td></tr>\n",
       "\t<tr><td>Bhutan              </td><td>1839                </td><td>0.918               </td></tr>\n",
       "\t<tr><td>Bolivia             </td><td>2396                </td><td>0.856               </td></tr>\n",
       "\t<tr><td>Bosnia &amp; Herzegovina</td><td> 556                    </td><td>0.676                   </td></tr>\n",
       "\t<tr><td>Botswana            </td><td>1903                </td><td>0.924               </td></tr>\n",
       "\t<tr><td>Brazil              </td><td>2560                </td><td>0.814               </td></tr>\n",
       "\t<tr><td>Brunei              </td><td>1247                </td><td>0.929               </td></tr>\n",
       "\t<tr><td>Bulgaria            </td><td>2377                </td><td>0.698               </td></tr>\n",
       "\t<tr><td>Burkina Faso        </td><td>2156                </td><td>0.909               </td></tr>\n",
       "\t<tr><td>Burundi             </td><td>1935                </td><td>0.924               </td></tr>\n",
       "\t<tr><td>Cambodia            </td><td>1785                </td><td>0.894               </td></tr>\n",
       "\t<tr><td>Cameroon            </td><td>2212                </td><td>0.852               </td></tr>\n",
       "\t<tr><td>...</td><td>...</td><td>...</td></tr>\n",
       "\t<tr><td>Syria                  </td><td>2409                   </td><td>0.851                  </td></tr>\n",
       "\t<tr><td>Taiwan                 </td><td> 534                   </td><td>0.588                  </td></tr>\n",
       "\t<tr><td>Tajikistan             </td><td> 543                   </td><td>0.836                  </td></tr>\n",
       "\t<tr><td>Tanzania               </td><td>2159                   </td><td>0.915                  </td></tr>\n",
       "\t<tr><td>Thailand               </td><td>2534                   </td><td>0.855                  </td></tr>\n",
       "\t<tr><td>Timor-Leste            </td><td> 326                   </td><td>0.957                  </td></tr>\n",
       "\t<tr><td>Togo                   </td><td>2260                   </td><td>0.903                  </td></tr>\n",
       "\t<tr><td>Tonga                  </td><td> 381                   </td><td>0.743                  </td></tr>\n",
       "\t<tr><td><span style=white-space:pre-wrap>Trinidad &amp; Tobago      </span></td><td>2116                                                               </td><td>0.923                                                              </td></tr>\n",
       "\t<tr><td>Tunisia                </td><td>2356                   </td><td>0.910                  </td></tr>\n",
       "\t<tr><td>Turkey                 </td><td>2532                   </td><td>0.699                  </td></tr>\n",
       "\t<tr><td>Turkmenistan           </td><td> 462                   </td><td>0.905                  </td></tr>\n",
       "\t<tr><td>Tuvalu                 </td><td> 272                   </td><td>0.820                  </td></tr>\n",
       "\t<tr><td>Uganda                 </td><td>2045                   </td><td>0.898                  </td></tr>\n",
       "\t<tr><td>Ukraine                </td><td>2570                   </td><td>0.728                  </td></tr>\n",
       "\t<tr><td>United Arab Emirates   </td><td>1934                   </td><td>0.947                  </td></tr>\n",
       "\t<tr><td>United Kingdom         </td><td>2558                   </td><td>0.417                  </td></tr>\n",
       "\t<tr><td>United States          </td><td>2568                   </td><td>0.269                  </td></tr>\n",
       "\t<tr><td>Uruguay                </td><td>2493                   </td><td>0.815                  </td></tr>\n",
       "\t<tr><td>Uzbekistan             </td><td> 452                   </td><td>0.757                  </td></tr>\n",
       "\t<tr><td>Vanuatu                </td><td>1018                   </td><td>0.905                  </td></tr>\n",
       "\t<tr><td>Venezuela              </td><td>2564                   </td><td>0.855                  </td></tr>\n",
       "\t<tr><td>Vietnam                </td><td>1628                   </td><td>0.909                  </td></tr>\n",
       "\t<tr><td>Yemen                  </td><td> 784                   </td><td>0.946                  </td></tr>\n",
       "\t<tr><td>Yemen Arab Republic    </td><td>1572                   </td><td>0.844                  </td></tr>\n",
       "\t<tr><td>Yemen People's Republic</td><td>1209                   </td><td>0.899                  </td></tr>\n",
       "\t<tr><td>Yugoslavia             </td><td>2286                   </td><td>0.826                  </td></tr>\n",
       "\t<tr><td>Zambia                 </td><td>2123                   </td><td>0.927                  </td></tr>\n",
       "\t<tr><td>Zanzibar               </td><td>   2                   </td><td>0.000                  </td></tr>\n",
       "\t<tr><td>Zimbabwe               </td><td>1361                   </td><td>0.949                  </td></tr>\n",
       "</tbody>\n",
       "</table>\n"
      ],
      "text/latex": [
       "\\begin{tabular}{r|lll}\n",
       " country & total & percent\\_yes\\\\\n",
       "\\hline\n",
       "\t Afghanistan          & 2373                 & 0.859               \\\\\n",
       "\t Albania              & 1695                 & 0.717               \\\\\n",
       "\t Algeria              & 2213                 & 0.899               \\\\\n",
       "\t Andorra              &  719                 & 0.638               \\\\\n",
       "\t Angola               & 1431                 & 0.924               \\\\\n",
       "\t Antigua \\& Barbuda    & 1302                   & 0.912                 \\\\\n",
       "\t Argentina            & 2553                 & 0.768               \\\\\n",
       "\t Armenia              &  758                 & 0.747               \\\\\n",
       "\t Australia            & 2575                 & 0.557               \\\\\n",
       "\t Austria              & 2389                 & 0.622               \\\\\n",
       "\t Azerbaijan           &  704                 & 0.862               \\\\\n",
       "\t Bahamas              & 1781                 & 0.894               \\\\\n",
       "\t Bahrain              & 2010                 & 0.935               \\\\\n",
       "\t Bangladesh           & 1799                 & 0.944               \\\\\n",
       "\t Barbados             & 2001                 & 0.906               \\\\\n",
       "\t Belarus              & 2534                 & 0.760               \\\\\n",
       "\t Belgium              & 2568                 & 0.492               \\\\\n",
       "\t Belize               & 1111                 & 0.927               \\\\\n",
       "\t Benin                & 2169                 & 0.906               \\\\\n",
       "\t Bhutan               & 1839                 & 0.918               \\\\\n",
       "\t Bolivia              & 2396                 & 0.856               \\\\\n",
       "\t Bosnia \\& Herzegovina &  556                   & 0.676                 \\\\\n",
       "\t Botswana             & 1903                 & 0.924               \\\\\n",
       "\t Brazil               & 2560                 & 0.814               \\\\\n",
       "\t Brunei               & 1247                 & 0.929               \\\\\n",
       "\t Bulgaria             & 2377                 & 0.698               \\\\\n",
       "\t Burkina Faso         & 2156                 & 0.909               \\\\\n",
       "\t Burundi              & 1935                 & 0.924               \\\\\n",
       "\t Cambodia             & 1785                 & 0.894               \\\\\n",
       "\t Cameroon             & 2212                 & 0.852               \\\\\n",
       "\t ... & ... & ...\\\\\n",
       "\t Syria                   & 2409                    & 0.851                  \\\\\n",
       "\t Taiwan                  &  534                    & 0.588                  \\\\\n",
       "\t Tajikistan              &  543                    & 0.836                  \\\\\n",
       "\t Tanzania                & 2159                    & 0.915                  \\\\\n",
       "\t Thailand                & 2534                    & 0.855                  \\\\\n",
       "\t Timor-Leste             &  326                    & 0.957                  \\\\\n",
       "\t Togo                    & 2260                    & 0.903                  \\\\\n",
       "\t Tonga                   &  381                    & 0.743                  \\\\\n",
       "\t Trinidad \\& Tobago       & 2116                      & 0.923                    \\\\\n",
       "\t Tunisia                 & 2356                    & 0.910                  \\\\\n",
       "\t Turkey                  & 2532                    & 0.699                  \\\\\n",
       "\t Turkmenistan            &  462                    & 0.905                  \\\\\n",
       "\t Tuvalu                  &  272                    & 0.820                  \\\\\n",
       "\t Uganda                  & 2045                    & 0.898                  \\\\\n",
       "\t Ukraine                 & 2570                    & 0.728                  \\\\\n",
       "\t United Arab Emirates    & 1934                    & 0.947                  \\\\\n",
       "\t United Kingdom          & 2558                    & 0.417                  \\\\\n",
       "\t United States           & 2568                    & 0.269                  \\\\\n",
       "\t Uruguay                 & 2493                    & 0.815                  \\\\\n",
       "\t Uzbekistan              &  452                    & 0.757                  \\\\\n",
       "\t Vanuatu                 & 1018                    & 0.905                  \\\\\n",
       "\t Venezuela               & 2564                    & 0.855                  \\\\\n",
       "\t Vietnam                 & 1628                    & 0.909                  \\\\\n",
       "\t Yemen                   &  784                    & 0.946                  \\\\\n",
       "\t Yemen Arab Republic     & 1572                    & 0.844                  \\\\\n",
       "\t Yemen People's Republic & 1209                    & 0.899                  \\\\\n",
       "\t Yugoslavia              & 2286                    & 0.826                  \\\\\n",
       "\t Zambia                  & 2123                    & 0.927                  \\\\\n",
       "\t Zanzibar                &    2                    & 0.000                  \\\\\n",
       "\t Zimbabwe                & 1361                    & 0.949                  \\\\\n",
       "\\end{tabular}\n"
      ],
      "text/markdown": [
       "\n",
       "country | total | percent_yes | \n",
       "|---|---|---|---|---|---|---|---|---|---|---|---|---|---|---|---|---|---|---|---|---|---|---|---|---|---|---|---|---|---|---|---|---|---|---|---|---|---|---|---|---|---|---|---|---|---|---|---|---|---|---|---|---|---|---|---|---|---|---|---|---|\n",
       "| Afghanistan          | 2373                 | 0.859                | \n",
       "| Albania              | 1695                 | 0.717                | \n",
       "| Algeria              | 2213                 | 0.899                | \n",
       "| Andorra              |  719                 | 0.638                | \n",
       "| Angola               | 1431                 | 0.924                | \n",
       "| Antigua & Barbuda    | 1302                 | 0.912                | \n",
       "| Argentina            | 2553                 | 0.768                | \n",
       "| Armenia              |  758                 | 0.747                | \n",
       "| Australia            | 2575                 | 0.557                | \n",
       "| Austria              | 2389                 | 0.622                | \n",
       "| Azerbaijan           |  704                 | 0.862                | \n",
       "| Bahamas              | 1781                 | 0.894                | \n",
       "| Bahrain              | 2010                 | 0.935                | \n",
       "| Bangladesh           | 1799                 | 0.944                | \n",
       "| Barbados             | 2001                 | 0.906                | \n",
       "| Belarus              | 2534                 | 0.760                | \n",
       "| Belgium              | 2568                 | 0.492                | \n",
       "| Belize               | 1111                 | 0.927                | \n",
       "| Benin                | 2169                 | 0.906                | \n",
       "| Bhutan               | 1839                 | 0.918                | \n",
       "| Bolivia              | 2396                 | 0.856                | \n",
       "| Bosnia & Herzegovina |  556                 | 0.676                | \n",
       "| Botswana             | 1903                 | 0.924                | \n",
       "| Brazil               | 2560                 | 0.814                | \n",
       "| Brunei               | 1247                 | 0.929                | \n",
       "| Bulgaria             | 2377                 | 0.698                | \n",
       "| Burkina Faso         | 2156                 | 0.909                | \n",
       "| Burundi              | 1935                 | 0.924                | \n",
       "| Cambodia             | 1785                 | 0.894                | \n",
       "| Cameroon             | 2212                 | 0.852                | \n",
       "| ... | ... | ... | \n",
       "| Syria                   | 2409                    | 0.851                   | \n",
       "| Taiwan                  |  534                    | 0.588                   | \n",
       "| Tajikistan              |  543                    | 0.836                   | \n",
       "| Tanzania                | 2159                    | 0.915                   | \n",
       "| Thailand                | 2534                    | 0.855                   | \n",
       "| Timor-Leste             |  326                    | 0.957                   | \n",
       "| Togo                    | 2260                    | 0.903                   | \n",
       "| Tonga                   |  381                    | 0.743                   | \n",
       "| Trinidad & Tobago       | 2116                    | 0.923                   | \n",
       "| Tunisia                 | 2356                    | 0.910                   | \n",
       "| Turkey                  | 2532                    | 0.699                   | \n",
       "| Turkmenistan            |  462                    | 0.905                   | \n",
       "| Tuvalu                  |  272                    | 0.820                   | \n",
       "| Uganda                  | 2045                    | 0.898                   | \n",
       "| Ukraine                 | 2570                    | 0.728                   | \n",
       "| United Arab Emirates    | 1934                    | 0.947                   | \n",
       "| United Kingdom          | 2558                    | 0.417                   | \n",
       "| United States           | 2568                    | 0.269                   | \n",
       "| Uruguay                 | 2493                    | 0.815                   | \n",
       "| Uzbekistan              |  452                    | 0.757                   | \n",
       "| Vanuatu                 | 1018                    | 0.905                   | \n",
       "| Venezuela               | 2564                    | 0.855                   | \n",
       "| Vietnam                 | 1628                    | 0.909                   | \n",
       "| Yemen                   |  784                    | 0.946                   | \n",
       "| Yemen Arab Republic     | 1572                    | 0.844                   | \n",
       "| Yemen People's Republic | 1209                    | 0.899                   | \n",
       "| Yugoslavia              | 2286                    | 0.826                   | \n",
       "| Zambia                  | 2123                    | 0.927                   | \n",
       "| Zanzibar                |    2                    | 0.000                   | \n",
       "| Zimbabwe                | 1361                    | 0.949                   | \n",
       "\n",
       "\n"
      ],
      "text/plain": [
       "    country                 total percent_yes\n",
       "1   Afghanistan             2373  0.859      \n",
       "2   Albania                 1695  0.717      \n",
       "3   Algeria                 2213  0.899      \n",
       "4   Andorra                  719  0.638      \n",
       "5   Angola                  1431  0.924      \n",
       "6   Antigua & Barbuda       1302  0.912      \n",
       "7   Argentina               2553  0.768      \n",
       "8   Armenia                  758  0.747      \n",
       "9   Australia               2575  0.557      \n",
       "10  Austria                 2389  0.622      \n",
       "11  Azerbaijan               704  0.862      \n",
       "12  Bahamas                 1781  0.894      \n",
       "13  Bahrain                 2010  0.935      \n",
       "14  Bangladesh              1799  0.944      \n",
       "15  Barbados                2001  0.906      \n",
       "16  Belarus                 2534  0.760      \n",
       "17  Belgium                 2568  0.492      \n",
       "18  Belize                  1111  0.927      \n",
       "19  Benin                   2169  0.906      \n",
       "20  Bhutan                  1839  0.918      \n",
       "21  Bolivia                 2396  0.856      \n",
       "22  Bosnia & Herzegovina     556  0.676      \n",
       "23  Botswana                1903  0.924      \n",
       "24  Brazil                  2560  0.814      \n",
       "25  Brunei                  1247  0.929      \n",
       "26  Bulgaria                2377  0.698      \n",
       "27  Burkina Faso            2156  0.909      \n",
       "28  Burundi                 1935  0.924      \n",
       "29  Cambodia                1785  0.894      \n",
       "30  Cameroon                2212  0.852      \n",
       "... ...                     ...   ...        \n",
       "171 Syria                   2409  0.851      \n",
       "172 Taiwan                   534  0.588      \n",
       "173 Tajikistan               543  0.836      \n",
       "174 Tanzania                2159  0.915      \n",
       "175 Thailand                2534  0.855      \n",
       "176 Timor-Leste              326  0.957      \n",
       "177 Togo                    2260  0.903      \n",
       "178 Tonga                    381  0.743      \n",
       "179 Trinidad & Tobago       2116  0.923      \n",
       "180 Tunisia                 2356  0.910      \n",
       "181 Turkey                  2532  0.699      \n",
       "182 Turkmenistan             462  0.905      \n",
       "183 Tuvalu                   272  0.820      \n",
       "184 Uganda                  2045  0.898      \n",
       "185 Ukraine                 2570  0.728      \n",
       "186 United Arab Emirates    1934  0.947      \n",
       "187 United Kingdom          2558  0.417      \n",
       "188 United States           2568  0.269      \n",
       "189 Uruguay                 2493  0.815      \n",
       "190 Uzbekistan               452  0.757      \n",
       "191 Vanuatu                 1018  0.905      \n",
       "192 Venezuela               2564  0.855      \n",
       "193 Vietnam                 1628  0.909      \n",
       "194 Yemen                    784  0.946      \n",
       "195 Yemen Arab Republic     1572  0.844      \n",
       "196 Yemen People's Republic 1209  0.899      \n",
       "197 Yugoslavia              2286  0.826      \n",
       "198 Zambia                  2123  0.927      \n",
       "199 Zanzibar                   2  0.000      \n",
       "200 Zimbabwe                1361  0.949      "
      ]
     },
     "metadata": {},
     "output_type": "display_data"
    }
   ],
   "source": [
    "# Summarize by country\n",
    "by_country <- votes_processed %>%\n",
    "  group_by(country) %>%\n",
    "  summarize(total = n(),\n",
    "            percent_yes = mean(vote == 1))\n",
    "by_country"
   ]
  },
  {
   "cell_type": "code",
   "execution_count": 39,
   "metadata": {},
   "outputs": [
    {
     "data": {
      "text/html": [
       "<table>\n",
       "<thead><tr><th scope=col>country</th><th scope=col>total</th><th scope=col>percent_yes</th></tr></thead>\n",
       "<tbody>\n",
       "\t<tr><td>Zanzibar               </td><td>   2                   </td><td>0.000                  </td></tr>\n",
       "\t<tr><td>United States          </td><td>2568                   </td><td>0.269                  </td></tr>\n",
       "\t<tr><td>Palau                  </td><td> 369                   </td><td>0.339                  </td></tr>\n",
       "\t<tr><td>Israel                 </td><td>2380                   </td><td>0.341                  </td></tr>\n",
       "\t<tr><td>German Federal Republic</td><td>1075                   </td><td>0.397                  </td></tr>\n",
       "\t<tr><td>United Kingdom         </td><td>2558                   </td><td>0.417                  </td></tr>\n",
       "</tbody>\n",
       "</table>\n"
      ],
      "text/latex": [
       "\\begin{tabular}{r|lll}\n",
       " country & total & percent\\_yes\\\\\n",
       "\\hline\n",
       "\t Zanzibar                &    2                    & 0.000                  \\\\\n",
       "\t United States           & 2568                    & 0.269                  \\\\\n",
       "\t Palau                   &  369                    & 0.339                  \\\\\n",
       "\t Israel                  & 2380                    & 0.341                  \\\\\n",
       "\t German Federal Republic & 1075                    & 0.397                  \\\\\n",
       "\t United Kingdom          & 2558                    & 0.417                  \\\\\n",
       "\\end{tabular}\n"
      ],
      "text/markdown": [
       "\n",
       "country | total | percent_yes | \n",
       "|---|---|---|---|---|---|\n",
       "| Zanzibar                |    2                    | 0.000                   | \n",
       "| United States           | 2568                    | 0.269                   | \n",
       "| Palau                   |  369                    | 0.339                   | \n",
       "| Israel                  | 2380                    | 0.341                   | \n",
       "| German Federal Republic | 1075                    | 0.397                   | \n",
       "| United Kingdom          | 2558                    | 0.417                   | \n",
       "\n",
       "\n"
      ],
      "text/plain": [
       "  country                 total percent_yes\n",
       "1 Zanzibar                   2  0.000      \n",
       "2 United States           2568  0.269      \n",
       "3 Palau                    369  0.339      \n",
       "4 Israel                  2380  0.341      \n",
       "5 German Federal Republic 1075  0.397      \n",
       "6 United Kingdom          2558  0.417      "
      ]
     },
     "metadata": {},
     "output_type": "display_data"
    },
    {
     "data": {
      "text/html": [
       "<table>\n",
       "<thead><tr><th scope=col>country</th><th scope=col>total</th><th scope=col>percent_yes</th></tr></thead>\n",
       "<tbody>\n",
       "\t<tr><td>São Tomé &amp; Príncipe</td><td>1091                   </td><td>0.976                  </td></tr>\n",
       "\t<tr><td>Seychelles         </td><td> 881               </td><td>0.975              </td></tr>\n",
       "\t<tr><td>Djibouti           </td><td>1598               </td><td>0.961              </td></tr>\n",
       "\t<tr><td>Guinea-Bissau      </td><td>1538               </td><td>0.960              </td></tr>\n",
       "\t<tr><td>Timor-Leste        </td><td> 326               </td><td>0.957              </td></tr>\n",
       "\t<tr><td>Mauritius          </td><td>1831               </td><td>0.950              </td></tr>\n",
       "</tbody>\n",
       "</table>\n"
      ],
      "text/latex": [
       "\\begin{tabular}{r|lll}\n",
       " country & total & percent\\_yes\\\\\n",
       "\\hline\n",
       "\t São Tomé \\& Príncipe & 1091                  & 0.976                \\\\\n",
       "\t Seychelles          &  881                & 0.975              \\\\\n",
       "\t Djibouti            & 1598                & 0.961              \\\\\n",
       "\t Guinea-Bissau       & 1538                & 0.960              \\\\\n",
       "\t Timor-Leste         &  326                & 0.957              \\\\\n",
       "\t Mauritius           & 1831                & 0.950              \\\\\n",
       "\\end{tabular}\n"
      ],
      "text/markdown": [
       "\n",
       "country | total | percent_yes | \n",
       "|---|---|---|---|---|---|\n",
       "| São Tomé & Príncipe | 1091                | 0.976               | \n",
       "| Seychelles          |  881                | 0.975               | \n",
       "| Djibouti            | 1598                | 0.961               | \n",
       "| Guinea-Bissau       | 1538                | 0.960               | \n",
       "| Timor-Leste         |  326                | 0.957               | \n",
       "| Mauritius           | 1831                | 0.950               | \n",
       "\n",
       "\n"
      ],
      "text/plain": [
       "  country             total percent_yes\n",
       "1 São Tomé & Príncipe 1091  0.976      \n",
       "2 Seychelles           881  0.975      \n",
       "3 Djibouti            1598  0.961      \n",
       "4 Guinea-Bissau       1538  0.960      \n",
       "5 Timor-Leste          326  0.957      \n",
       "6 Mauritius           1831  0.950      "
      ]
     },
     "metadata": {},
     "output_type": "display_data"
    }
   ],
   "source": [
    "# Sort in ascending order of percent_yes\n",
    "head(by_country %>%\n",
    "  arrange(percent_yes))\n",
    "\n",
    "# Now sort in descending order\n",
    "head(by_country %>%\n",
    "  arrange(desc(percent_yes)))"
   ]
  },
  {
   "cell_type": "code",
   "execution_count": 40,
   "metadata": {},
   "outputs": [
    {
     "data": {
      "text/html": [
       "<table>\n",
       "<thead><tr><th scope=col>country</th><th scope=col>total</th><th scope=col>percent_yes</th></tr></thead>\n",
       "<tbody>\n",
       "\t<tr><td>United States          </td><td>2568                   </td><td>0.269                  </td></tr>\n",
       "\t<tr><td>Palau                  </td><td> 369                   </td><td>0.339                  </td></tr>\n",
       "\t<tr><td>Israel                 </td><td>2380                   </td><td>0.341                  </td></tr>\n",
       "\t<tr><td>German Federal Republic</td><td>1075                   </td><td>0.397                  </td></tr>\n",
       "\t<tr><td>United Kingdom         </td><td>2558                   </td><td>0.417                  </td></tr>\n",
       "\t<tr><td>France                 </td><td>2527                   </td><td>0.427                  </td></tr>\n",
       "</tbody>\n",
       "</table>\n"
      ],
      "text/latex": [
       "\\begin{tabular}{r|lll}\n",
       " country & total & percent\\_yes\\\\\n",
       "\\hline\n",
       "\t United States           & 2568                    & 0.269                  \\\\\n",
       "\t Palau                   &  369                    & 0.339                  \\\\\n",
       "\t Israel                  & 2380                    & 0.341                  \\\\\n",
       "\t German Federal Republic & 1075                    & 0.397                  \\\\\n",
       "\t United Kingdom          & 2558                    & 0.417                  \\\\\n",
       "\t France                  & 2527                    & 0.427                  \\\\\n",
       "\\end{tabular}\n"
      ],
      "text/markdown": [
       "\n",
       "country | total | percent_yes | \n",
       "|---|---|---|---|---|---|\n",
       "| United States           | 2568                    | 0.269                   | \n",
       "| Palau                   |  369                    | 0.339                   | \n",
       "| Israel                  | 2380                    | 0.341                   | \n",
       "| German Federal Republic | 1075                    | 0.397                   | \n",
       "| United Kingdom          | 2558                    | 0.417                   | \n",
       "| France                  | 2527                    | 0.427                   | \n",
       "\n",
       "\n"
      ],
      "text/plain": [
       "  country                 total percent_yes\n",
       "1 United States           2568  0.269      \n",
       "2 Palau                    369  0.339      \n",
       "3 Israel                  2380  0.341      \n",
       "4 German Federal Republic 1075  0.397      \n",
       "5 United Kingdom          2558  0.417      \n",
       "6 France                  2527  0.427      "
      ]
     },
     "metadata": {},
     "output_type": "display_data"
    }
   ],
   "source": [
    "# Filter out countries with fewer than 100 votes\n",
    "head(by_country %>%\n",
    "  arrange(percent_yes) %>%\n",
    "  filter(total >= 100))"
   ]
  },
  {
   "cell_type": "markdown",
   "metadata": {},
   "source": [
    "## Visualisation of the data"
   ]
  },
  {
   "cell_type": "code",
   "execution_count": 41,
   "metadata": {},
   "outputs": [
    {
     "data": {},
     "metadata": {},
     "output_type": "display_data"
    },
    {
     "data": {
      "image/png": "[encoded data removed]",
      "text/plain": [
       "plot without title"
      ]
     },
     "metadata": {},
     "output_type": "display_data"
    }
   ],
   "source": [
    "# Create line plot \n",
    "ggplot(by_year, aes(x = year, y = percent_yes)) +\n",
    "  geom_line()"
   ]
  },
  {
   "cell_type": "code",
   "execution_count": 42,
   "metadata": {},
   "outputs": [
    {
     "name": "stderr",
     "output_type": "stream",
     "text": [
      "`geom_smooth()` using method = 'loess' and formula 'y ~ x'\n"
     ]
    },
    {
     "data": {},
     "metadata": {},
     "output_type": "display_data"
    },
    {
     "data": {
      "image/png": "[encoded data removed]",
      "text/plain": [
       "plot without title"
      ]
     },
     "metadata": {},
     "output_type": "display_data"
    }
   ],
   "source": [
    "# Change to scatter plot and add smoothing curve\n",
    "ggplot(by_year, aes(year, percent_yes)) +\n",
    "  geom_point()+\n",
    "  geom_smooth()"
   ]
  },
  {
   "cell_type": "code",
   "execution_count": 43,
   "metadata": {},
   "outputs": [],
   "source": [
    "# Group by year and country: by_year_country\n",
    "by_year_country <- votes_processed %>%\n",
    "  group_by(year, country) %>%\n",
    "  summarize(total = n(),\n",
    "            percent_yes = mean(vote == 1))"
   ]
  },
  {
   "cell_type": "code",
   "execution_count": 44,
   "metadata": {},
   "outputs": [
    {
     "data": {},
     "metadata": {},
     "output_type": "display_data"
    },
    {
     "data": {
      "image/png": "[encoded data removed]",
      "text/plain": [
       "plot without title"
      ]
     },
     "metadata": {},
     "output_type": "display_data"
    }
   ],
   "source": [
    "# Create a filtered version: UK_by_year\n",
    "UK_by_year <- by_year_country %>%\n",
    "  filter(country == \"United Kingdom\" )\n",
    "\n",
    "# Line plot of percent_yes over time for UK only\n",
    "ggplot(UK_by_year, aes(x = year, y = percent_yes)) +\n",
    "  geom_line()"
   ]
  },
  {
   "cell_type": "code",
   "execution_count": 45,
   "metadata": {},
   "outputs": [
    {
     "data": {},
     "metadata": {},
     "output_type": "display_data"
    },
    {
     "data": {
      "image/png": "[encoded data removed]",
      "text/plain": [
       "plot without title"
      ]
     },
     "metadata": {},
     "output_type": "display_data"
    }
   ],
   "source": [
    "# Vector of four countries to examine\n",
    "countries <- c(\"United States\", \"United Kingdom\",\n",
    "               \"France\", \"India\", \"Germany\")\n",
    "\n",
    "# Filter by_year_country: filtered_4_countries\n",
    "filtered_4_countries <- by_year_country %>%\n",
    "  filter(country %in% countries)\n",
    "\n",
    "# Line plot of % yes in four countries\n",
    "ggplot(filtered_4_countries, aes(x = year, y = percent_yes, color = country)) +\n",
    "  geom_line()"
   ]
  },
  {
   "cell_type": "code",
   "execution_count": 46,
   "metadata": {},
   "outputs": [
    {
     "data": {},
     "metadata": {},
     "output_type": "display_data"
    },
    {
     "data": {
      "image/png": "[encoded data removed]",
      "text/plain": [
       "plot without title"
      ]
     },
     "metadata": {},
     "output_type": "display_data"
    }
   ],
   "source": [
    "# Vector of six countries to examine\n",
    "countries <- c(\"United States\", \"United Kingdom\",\n",
    "               \"France\", \"Japan\", \"Brazil\", \"India\")\n",
    "\n",
    "# Filtered by_year_country: filtered_6_countries\n",
    "filtered_6_countries <- by_year_country %>%\n",
    "  filter(country %in% countries)\n",
    "\n",
    "# Line plot of % yes over time faceted by country\n",
    "ggplot(filtered_6_countries, aes(x = year, y = percent_yes)) +\n",
    "  geom_line() +\n",
    "  facet_wrap( ~ country)"
   ]
  },
  {
   "cell_type": "code",
   "execution_count": 47,
   "metadata": {},
   "outputs": [
    {
     "data": {},
     "metadata": {},
     "output_type": "display_data"
    },
    {
     "data": {
      "image/png": "[encoded data removed]",
      "text/plain": [
       "plot without title"
      ]
     },
     "metadata": {},
     "output_type": "display_data"
    }
   ],
   "source": [
    "# Line plot of % yes over time faceted by country with independent y axis\n",
    "ggplot(filtered_6_countries, aes(year, percent_yes)) +\n",
    "  geom_line() +\n",
    "  facet_wrap(~ country, scales = \"free_y\")"
   ]
  },
  {
   "cell_type": "code",
   "execution_count": 48,
   "metadata": {},
   "outputs": [
    {
     "data": {
      "text/plain": [
       "\n",
       "Call:\n",
       "lm(formula = percent_yes ~ year, data = US_by_year)\n",
       "\n",
       "Residuals:\n",
       "     Min       1Q   Median       3Q      Max \n",
       "-0.22249 -0.08064 -0.00866  0.08195  0.19431 \n",
       "\n",
       "Coefficients:\n",
       "             Estimate Std. Error t value    Pr(>|t|)    \n",
       "(Intercept) 12.664146   1.837974    6.89 0.000000085 ***\n",
       "year        -0.006239   0.000928   -6.72 0.000000137 ***\n",
       "---\n",
       "Signif. codes:  0 '***' 0.001 '**' 0.01 '*' 0.05 '.' 0.1 ' ' 1\n",
       "\n",
       "Residual standard error: 0.106 on 32 degrees of freedom\n",
       "Multiple R-squared:  0.585,\tAdjusted R-squared:  0.572 \n",
       "F-statistic: 45.2 on 1 and 32 DF,  p-value: 0.000000137\n"
      ]
     },
     "metadata": {},
     "output_type": "display_data"
    }
   ],
   "source": [
    "# Percentage of yes votes from the US by year: US_by_year\n",
    "US_by_year <- by_year_country %>%\n",
    "  filter(country == \"United States\")\n",
    "\n",
    "# Perform a linear regression of percent_yes by year: US_fit\n",
    "US_fit <- lm(percent_yes ~ year, data = US_by_year)\n",
    "\n",
    "# Perform summary() on the US_fit object\n",
    "summary(US_fit)\n"
   ]
  },
  {
   "cell_type": "markdown",
   "metadata": {},
   "source": [
    "The estimated slope of this relationship or the estimated change each year of the probability of the US voting \"yes\" is - 0.006.\n",
    "<br>In this linear model the p-value of the relationship between year and percent_yes us 0.000000137"
   ]
  },
  {
   "cell_type": "code",
   "execution_count": 49,
   "metadata": {},
   "outputs": [],
   "source": [
    "library(broom)"
   ]
  },
  {
   "cell_type": "code",
   "execution_count": 50,
   "metadata": {},
   "outputs": [
    {
     "data": {
      "text/html": [
       "<table>\n",
       "<thead><tr><th scope=col>term</th><th scope=col>estimate</th><th scope=col>std.error</th><th scope=col>statistic</th><th scope=col>p.value</th></tr></thead>\n",
       "<tbody>\n",
       "\t<tr><td>(Intercept) </td><td>12.66415    </td><td>1.837974    </td><td> 6.89       </td><td>0.0000000848</td></tr>\n",
       "\t<tr><td>year        </td><td>-0.00624    </td><td>0.000928    </td><td>-6.72       </td><td>0.0000001367</td></tr>\n",
       "</tbody>\n",
       "</table>\n"
      ],
      "text/latex": [
       "\\begin{tabular}{r|lllll}\n",
       " term & estimate & std.error & statistic & p.value\\\\\n",
       "\\hline\n",
       "\t (Intercept)  & 12.66415     & 1.837974     &  6.89        & 0.0000000848\\\\\n",
       "\t year         & -0.00624     & 0.000928     & -6.72        & 0.0000001367\\\\\n",
       "\\end{tabular}\n"
      ],
      "text/markdown": [
       "\n",
       "term | estimate | std.error | statistic | p.value | \n",
       "|---|---|\n",
       "| (Intercept)  | 12.66415     | 1.837974     |  6.89        | 0.0000000848 | \n",
       "| year         | -0.00624     | 0.000928     | -6.72        | 0.0000001367 | \n",
       "\n",
       "\n"
      ],
      "text/plain": [
       "  term        estimate std.error statistic p.value     \n",
       "1 (Intercept) 12.66415 1.837974   6.89     0.0000000848\n",
       "2 year        -0.00624 0.000928  -6.72     0.0000001367"
      ]
     },
     "metadata": {},
     "output_type": "display_data"
    }
   ],
   "source": [
    "tidy(US_fit)"
   ]
  },
  {
   "cell_type": "code",
   "execution_count": 51,
   "metadata": {},
   "outputs": [
    {
     "data": {
      "text/html": [
       "<table>\n",
       "<thead><tr><th scope=col>term</th><th scope=col>estimate</th><th scope=col>std.error</th><th scope=col>statistic</th><th scope=col>p.value</th></tr></thead>\n",
       "<tbody>\n",
       "\t<tr><td>(Intercept) </td><td>12.66415    </td><td>1.837974    </td><td> 6.89       </td><td>0.0000000848</td></tr>\n",
       "\t<tr><td>year        </td><td>-0.00624    </td><td>0.000928    </td><td>-6.72       </td><td>0.0000001367</td></tr>\n",
       "\t<tr><td>(Intercept) </td><td>-3.26655    </td><td>1.957774    </td><td>-1.67       </td><td>0.1049736038</td></tr>\n",
       "\t<tr><td>year        </td><td> 0.00187    </td><td>0.000989    </td><td> 1.89       </td><td>0.0677417688</td></tr>\n",
       "</tbody>\n",
       "</table>\n"
      ],
      "text/latex": [
       "\\begin{tabular}{r|lllll}\n",
       " term & estimate & std.error & statistic & p.value\\\\\n",
       "\\hline\n",
       "\t (Intercept)  & 12.66415     & 1.837974     &  6.89        & 0.0000000848\\\\\n",
       "\t year         & -0.00624     & 0.000928     & -6.72        & 0.0000001367\\\\\n",
       "\t (Intercept)  & -3.26655     & 1.957774     & -1.67        & 0.1049736038\\\\\n",
       "\t year         &  0.00187     & 0.000989     &  1.89        & 0.0677417688\\\\\n",
       "\\end{tabular}\n"
      ],
      "text/markdown": [
       "\n",
       "term | estimate | std.error | statistic | p.value | \n",
       "|---|---|---|---|\n",
       "| (Intercept)  | 12.66415     | 1.837974     |  6.89        | 0.0000000848 | \n",
       "| year         | -0.00624     | 0.000928     | -6.72        | 0.0000001367 | \n",
       "| (Intercept)  | -3.26655     | 1.957774     | -1.67        | 0.1049736038 | \n",
       "| year         |  0.00187     | 0.000989     |  1.89        | 0.0677417688 | \n",
       "\n",
       "\n"
      ],
      "text/plain": [
       "  term        estimate std.error statistic p.value     \n",
       "1 (Intercept) 12.66415 1.837974   6.89     0.0000000848\n",
       "2 year        -0.00624 0.000928  -6.72     0.0000001367\n",
       "3 (Intercept) -3.26655 1.957774  -1.67     0.1049736038\n",
       "4 year         0.00187 0.000989   1.89     0.0677417688"
      ]
     },
     "metadata": {},
     "output_type": "display_data"
    }
   ],
   "source": [
    "# Fit model for the United Kingdom\n",
    "UK_by_year <- by_year_country %>%\n",
    "  filter(country == \"United Kingdom\")\n",
    "UK_fit <- lm(percent_yes ~ year, UK_by_year)\n",
    "\n",
    "# Create US_tidied and UK_tidied\n",
    "US_tidied <- tidy(US_fit)\n",
    "UK_tidied <- tidy(UK_fit)\n",
    "\n",
    "# Combine the two tidied models\n",
    "bind_rows(US_tidied, UK_tidied)"
   ]
  },
  {
   "cell_type": "markdown",
   "metadata": {},
   "source": [
    "This \"nested\" data has an interesting structure. The second column, data, is a list, a type of R object that hasn't yet come up in this course that allows complicated objects to be stored within each row. This is because each item of the data column is itself a data frame."
   ]
  },
  {
   "cell_type": "code",
   "execution_count": 52,
   "metadata": {},
   "outputs": [],
   "source": [
    "# Load the tidyr package\n",
    "library(tidyr)\n",
    "# Nest all columns besides country\n",
    "nested <- by_year_country %>%\n",
    "  nest(-country)"
   ]
  },
  {
   "cell_type": "code",
   "execution_count": 53,
   "metadata": {},
   "outputs": [
    {
     "data": {
      "text/html": [
       "<table>\n",
       "<thead><tr><th scope=col>total</th><th scope=col>percent_yes</th></tr></thead>\n",
       "<tbody>\n",
       "\t<tr><td>54   </td><td>0.611</td></tr>\n",
       "\t<tr><td>54   </td><td>0.704</td></tr>\n",
       "\t<tr><td>54   </td><td>0.611</td></tr>\n",
       "\t<tr><td>53   </td><td>0.472</td></tr>\n",
       "\t<tr><td>54   </td><td>0.463</td></tr>\n",
       "\t<tr><td>54   </td><td>0.704</td></tr>\n",
       "\t<tr><td>54   </td><td>0.426</td></tr>\n",
       "\t<tr><td>52   </td><td>0.519</td></tr>\n",
       "\t<tr><td>54   </td><td>0.537</td></tr>\n",
       "\t<tr><td>54   </td><td>0.704</td></tr>\n",
       "\t<tr><td>53   </td><td>0.528</td></tr>\n",
       "\t<tr><td>54   </td><td>0.500</td></tr>\n",
       "\t<tr><td>54   </td><td>0.500</td></tr>\n",
       "\t<tr><td>54   </td><td>0.519</td></tr>\n",
       "\t<tr><td>53   </td><td>0.585</td></tr>\n",
       "\t<tr><td>54   </td><td>0.796</td></tr>\n",
       "\t<tr><td>54   </td><td>0.704</td></tr>\n",
       "\t<tr><td>54   </td><td>0.481</td></tr>\n",
       "\t<tr><td>54   </td><td>0.370</td></tr>\n",
       "\t<tr><td>54   </td><td>0.593</td></tr>\n",
       "\t<tr><td>54   </td><td>0.648</td></tr>\n",
       "\t<tr><td>51   </td><td>0.627</td></tr>\n",
       "\t<tr><td>53   </td><td>0.623</td></tr>\n",
       "\t<tr><td>54   </td><td>0.389</td></tr>\n",
       "\t<tr><td>46   </td><td>0.457</td></tr>\n",
       "\t<tr><td>54   </td><td>0.593</td></tr>\n",
       "\t<tr><td>53   </td><td>0.547</td></tr>\n",
       "\t<tr><td>54   </td><td>0.537</td></tr>\n",
       "\t<tr><td>53   </td><td>0.717</td></tr>\n",
       "\t<tr><td>51   </td><td>0.608</td></tr>\n",
       "\t<tr><td>...</td><td>...</td></tr>\n",
       "\t<tr><td>54   </td><td>0.370</td></tr>\n",
       "\t<tr><td>54   </td><td>0.500</td></tr>\n",
       "\t<tr><td>38   </td><td>0.421</td></tr>\n",
       "\t<tr><td>54   </td><td>0.500</td></tr>\n",
       "\t<tr><td>54   </td><td>0.833</td></tr>\n",
       "\t<tr><td>53   </td><td>0.717</td></tr>\n",
       "\t<tr><td>53   </td><td>0.509</td></tr>\n",
       "\t<tr><td>54   </td><td>0.407</td></tr>\n",
       "\t<tr><td>54   </td><td>0.741</td></tr>\n",
       "\t<tr><td>54   </td><td>0.704</td></tr>\n",
       "\t<tr><td>54   </td><td>0.296</td></tr>\n",
       "\t<tr><td>54   </td><td>0.704</td></tr>\n",
       "\t<tr><td>54   </td><td>0.704</td></tr>\n",
       "\t<tr><td>52   </td><td>0.615</td></tr>\n",
       "\t<tr><td>52   </td><td>0.346</td></tr>\n",
       "\t<tr><td>53   </td><td>0.396</td></tr>\n",
       "\t<tr><td>54   </td><td>0.685</td></tr>\n",
       "\t<tr><td>54   </td><td>0.667</td></tr>\n",
       "\t<tr><td>54   </td><td>0.611</td></tr>\n",
       "\t<tr><td>54   </td><td>0.537</td></tr>\n",
       "\t<tr><td>54   </td><td>0.556</td></tr>\n",
       "\t<tr><td>52   </td><td>0.769</td></tr>\n",
       "\t<tr><td>53   </td><td>0.585</td></tr>\n",
       "\t<tr><td>54   </td><td>0.704</td></tr>\n",
       "\t<tr><td>53   </td><td>0.340</td></tr>\n",
       "\t<tr><td>54   </td><td>0.426</td></tr>\n",
       "\t<tr><td>53   </td><td>0.434</td></tr>\n",
       "\t<tr><td>54   </td><td>0.741</td></tr>\n",
       "\t<tr><td>53   </td><td>0.623</td></tr>\n",
       "\t<tr><td>54   </td><td>0.667</td></tr>\n",
       "</tbody>\n",
       "</table>\n"
      ],
      "text/latex": [
       "\\begin{tabular}{r|ll}\n",
       " total & percent\\_yes\\\\\n",
       "\\hline\n",
       "\t 54    & 0.611\\\\\n",
       "\t 54    & 0.704\\\\\n",
       "\t 54    & 0.611\\\\\n",
       "\t 53    & 0.472\\\\\n",
       "\t 54    & 0.463\\\\\n",
       "\t 54    & 0.704\\\\\n",
       "\t 54    & 0.426\\\\\n",
       "\t 52    & 0.519\\\\\n",
       "\t 54    & 0.537\\\\\n",
       "\t 54    & 0.704\\\\\n",
       "\t 53    & 0.528\\\\\n",
       "\t 54    & 0.500\\\\\n",
       "\t 54    & 0.500\\\\\n",
       "\t 54    & 0.519\\\\\n",
       "\t 53    & 0.585\\\\\n",
       "\t 54    & 0.796\\\\\n",
       "\t 54    & 0.704\\\\\n",
       "\t 54    & 0.481\\\\\n",
       "\t 54    & 0.370\\\\\n",
       "\t 54    & 0.593\\\\\n",
       "\t 54    & 0.648\\\\\n",
       "\t 51    & 0.627\\\\\n",
       "\t 53    & 0.623\\\\\n",
       "\t 54    & 0.389\\\\\n",
       "\t 46    & 0.457\\\\\n",
       "\t 54    & 0.593\\\\\n",
       "\t 53    & 0.547\\\\\n",
       "\t 54    & 0.537\\\\\n",
       "\t 53    & 0.717\\\\\n",
       "\t 51    & 0.608\\\\\n",
       "\t ... & ...\\\\\n",
       "\t 54    & 0.370\\\\\n",
       "\t 54    & 0.500\\\\\n",
       "\t 38    & 0.421\\\\\n",
       "\t 54    & 0.500\\\\\n",
       "\t 54    & 0.833\\\\\n",
       "\t 53    & 0.717\\\\\n",
       "\t 53    & 0.509\\\\\n",
       "\t 54    & 0.407\\\\\n",
       "\t 54    & 0.741\\\\\n",
       "\t 54    & 0.704\\\\\n",
       "\t 54    & 0.296\\\\\n",
       "\t 54    & 0.704\\\\\n",
       "\t 54    & 0.704\\\\\n",
       "\t 52    & 0.615\\\\\n",
       "\t 52    & 0.346\\\\\n",
       "\t 53    & 0.396\\\\\n",
       "\t 54    & 0.685\\\\\n",
       "\t 54    & 0.667\\\\\n",
       "\t 54    & 0.611\\\\\n",
       "\t 54    & 0.537\\\\\n",
       "\t 54    & 0.556\\\\\n",
       "\t 52    & 0.769\\\\\n",
       "\t 53    & 0.585\\\\\n",
       "\t 54    & 0.704\\\\\n",
       "\t 53    & 0.340\\\\\n",
       "\t 54    & 0.426\\\\\n",
       "\t 53    & 0.434\\\\\n",
       "\t 54    & 0.741\\\\\n",
       "\t 53    & 0.623\\\\\n",
       "\t 54    & 0.667\\\\\n",
       "\\end{tabular}\n"
      ],
      "text/markdown": [
       "\n",
       "total | percent_yes | \n",
       "|---|---|---|---|---|---|---|---|---|---|---|---|---|---|---|---|---|---|---|---|---|---|---|---|---|---|---|---|---|---|---|---|---|---|---|---|---|---|---|---|---|---|---|---|---|---|---|---|---|---|---|---|---|---|---|---|---|---|---|---|---|\n",
       "| 54    | 0.611 | \n",
       "| 54    | 0.704 | \n",
       "| 54    | 0.611 | \n",
       "| 53    | 0.472 | \n",
       "| 54    | 0.463 | \n",
       "| 54    | 0.704 | \n",
       "| 54    | 0.426 | \n",
       "| 52    | 0.519 | \n",
       "| 54    | 0.537 | \n",
       "| 54    | 0.704 | \n",
       "| 53    | 0.528 | \n",
       "| 54    | 0.500 | \n",
       "| 54    | 0.500 | \n",
       "| 54    | 0.519 | \n",
       "| 53    | 0.585 | \n",
       "| 54    | 0.796 | \n",
       "| 54    | 0.704 | \n",
       "| 54    | 0.481 | \n",
       "| 54    | 0.370 | \n",
       "| 54    | 0.593 | \n",
       "| 54    | 0.648 | \n",
       "| 51    | 0.627 | \n",
       "| 53    | 0.623 | \n",
       "| 54    | 0.389 | \n",
       "| 46    | 0.457 | \n",
       "| 54    | 0.593 | \n",
       "| 53    | 0.547 | \n",
       "| 54    | 0.537 | \n",
       "| 53    | 0.717 | \n",
       "| 51    | 0.608 | \n",
       "| ... | ... | \n",
       "| 54    | 0.370 | \n",
       "| 54    | 0.500 | \n",
       "| 38    | 0.421 | \n",
       "| 54    | 0.500 | \n",
       "| 54    | 0.833 | \n",
       "| 53    | 0.717 | \n",
       "| 53    | 0.509 | \n",
       "| 54    | 0.407 | \n",
       "| 54    | 0.741 | \n",
       "| 54    | 0.704 | \n",
       "| 54    | 0.296 | \n",
       "| 54    | 0.704 | \n",
       "| 54    | 0.704 | \n",
       "| 52    | 0.615 | \n",
       "| 52    | 0.346 | \n",
       "| 53    | 0.396 | \n",
       "| 54    | 0.685 | \n",
       "| 54    | 0.667 | \n",
       "| 54    | 0.611 | \n",
       "| 54    | 0.537 | \n",
       "| 54    | 0.556 | \n",
       "| 52    | 0.769 | \n",
       "| 53    | 0.585 | \n",
       "| 54    | 0.704 | \n",
       "| 53    | 0.340 | \n",
       "| 54    | 0.426 | \n",
       "| 53    | 0.434 | \n",
       "| 54    | 0.741 | \n",
       "| 53    | 0.623 | \n",
       "| 54    | 0.667 | \n",
       "\n",
       "\n"
      ],
      "text/plain": [
       "    total percent_yes\n",
       "1   54    0.611      \n",
       "2   54    0.704      \n",
       "3   54    0.611      \n",
       "4   53    0.472      \n",
       "5   54    0.463      \n",
       "6   54    0.704      \n",
       "7   54    0.426      \n",
       "8   52    0.519      \n",
       "9   54    0.537      \n",
       "10  54    0.704      \n",
       "11  53    0.528      \n",
       "12  54    0.500      \n",
       "13  54    0.500      \n",
       "14  54    0.519      \n",
       "15  53    0.585      \n",
       "16  54    0.796      \n",
       "17  54    0.704      \n",
       "18  54    0.481      \n",
       "19  54    0.370      \n",
       "20  54    0.593      \n",
       "21  54    0.648      \n",
       "22  51    0.627      \n",
       "23  53    0.623      \n",
       "24  54    0.389      \n",
       "25  46    0.457      \n",
       "26  54    0.593      \n",
       "27  53    0.547      \n",
       "28  54    0.537      \n",
       "29  53    0.717      \n",
       "30  51    0.608      \n",
       "... ...   ...        \n",
       "53  54    0.370      \n",
       "54  54    0.500      \n",
       "55  38    0.421      \n",
       "56  54    0.500      \n",
       "57  54    0.833      \n",
       "58  53    0.717      \n",
       "59  53    0.509      \n",
       "60  54    0.407      \n",
       "61  54    0.741      \n",
       "62  54    0.704      \n",
       "63  54    0.296      \n",
       "64  54    0.704      \n",
       "65  54    0.704      \n",
       "66  52    0.615      \n",
       "67  52    0.346      \n",
       "68  53    0.396      \n",
       "69  54    0.685      \n",
       "70  54    0.667      \n",
       "71  54    0.611      \n",
       "72  54    0.537      \n",
       "73  54    0.556      \n",
       "74  52    0.769      \n",
       "75  53    0.585      \n",
       "76  54    0.704      \n",
       "77  53    0.340      \n",
       "78  54    0.426      \n",
       "79  53    0.434      \n",
       "80  54    0.741      \n",
       "81  53    0.623      \n",
       "82  54    0.667      "
      ]
     },
     "metadata": {},
     "output_type": "display_data"
    }
   ],
   "source": [
    "# Print the nested data for Brazil\n",
    "nested$data[[7]]"
   ]
  },
  {
   "cell_type": "markdown",
   "metadata": {},
   "source": [
    "The opposite of the `nest()` operation is the `unnest()` operation. This takes each of the data frames in the list column and brings those rows back to the main data frame.\n",
    "<br>The `map()` function from purrr works by applying a formula to each item in a list, where `.`represents the individual item. For example, you could add one to each of a list of numbers:\n",
    "\n",
    "`map(numbers, ~ 1 + .)`\n"
   ]
  },
  {
   "cell_type": "code",
   "execution_count": 54,
   "metadata": {},
   "outputs": [],
   "source": [
    "library(purrr)"
   ]
  },
  {
   "cell_type": "code",
   "execution_count": 55,
   "metadata": {},
   "outputs": [],
   "source": [
    "# Perform a linear regression on each item in the data column\n",
    "#country_coefficients <- by_year_country %>%\n",
    "#    nest(-country) %>%\n",
    "#    mutate(model = map(data, ~ lm(percent_yes ~ year, data = .)),\n",
    "#         tidied = map(model, tidy))%>%\n",
    "#    unnest(tidied)\n",
    "    "
   ]
  },
  {
   "cell_type": "code",
   "execution_count": 56,
   "metadata": {},
   "outputs": [],
   "source": [
    "#head(country_coefficients)"
   ]
  },
  {
   "cell_type": "code",
   "execution_count": 57,
   "metadata": {},
   "outputs": [],
   "source": [
    "# Filter for only the slope terms\n",
    "# slope_terms <- filter(country_coefficients, term == \"year\")"
   ]
  },
  {
   "cell_type": "markdown",
   "metadata": {},
   "source": [
    "Filtering for significant countries\n",
    "\n",
    "Not all slopes are significant, and you can use the p-value to guess which are and which are not.\n",
    "\n",
    "However, when you have lots of p-values, like one for each country, you run into the problem of multiple hypothesis testing, where you have to set a stricter threshold. The p.adjust() function is a simple way to correct for this, where p.adjust(p.value) on a vector of p-values returns a set that you can trust."
   ]
  },
  {
   "cell_type": "code",
   "execution_count": 58,
   "metadata": {},
   "outputs": [],
   "source": [
    "# Add p.adjusted column, then filter\n",
    "#filtered_countries <- slope_terms %>%\n",
    "#  mutate(p.adjusted = p.adjust(p.value))%>%\n",
    "#  filter(p.adjusted < .05)"
   ]
  },
  {
   "cell_type": "code",
   "execution_count": 59,
   "metadata": {},
   "outputs": [],
   "source": [
    "# Sort for the countries increasing most quickly\n",
    "# head(filtered_countries %>% arrange(desc(estimate)))\n",
    "\n",
    "# Sort for the countries decreasing most quickly\n",
    "# head(filtered_countries %>% arrange(estimate))"
   ]
  },
  {
   "cell_type": "markdown",
   "metadata": {},
   "source": [
    "## Joinging another dataset\n",
    "The description dataset has more information about the votes\n",
    "\n",
    "There are six columns in the descriptions dataset that describe the topic of a resolution:\n",
    "\n",
    "    me: Palestinian conflict\n",
    "    nu: Nuclear weapons and nuclear material\n",
    "    di: Arms control and disarmament\n",
    "    hr: Human rights\n",
    "    co: Colonialism\n",
    "    ec: Economic development\n",
    "\n",
    "Each contains a 1 if the resolution is related to this topic and a 0 otherwise."
   ]
  },
  {
   "cell_type": "code",
   "execution_count": 61,
   "metadata": {},
   "outputs": [],
   "source": [
    "description <- readRDS(\"descriptions.Rds\")"
   ]
  },
  {
   "cell_type": "code",
   "execution_count": 63,
   "metadata": {},
   "outputs": [
    {
     "data": {
      "text/html": [
       "<table>\n",
       "<thead><tr><th scope=col>rcid</th><th scope=col>session</th><th scope=col>date</th><th scope=col>unres</th><th scope=col>me</th><th scope=col>nu</th><th scope=col>di</th><th scope=col>hr</th><th scope=col>co</th><th scope=col>ec</th></tr></thead>\n",
       "<tbody>\n",
       "\t<tr><td>46        </td><td>2         </td><td>1947-09-04</td><td>R/2/299   </td><td>0         </td><td>0         </td><td>0         </td><td>0         </td><td>0         </td><td>0         </td></tr>\n",
       "\t<tr><td>47        </td><td>2         </td><td>1947-10-05</td><td>R/2/355   </td><td>0         </td><td>0         </td><td>0         </td><td>1         </td><td>0         </td><td>0         </td></tr>\n",
       "\t<tr><td>48        </td><td>2         </td><td>1947-10-06</td><td>R/2/461   </td><td>0         </td><td>0         </td><td>0         </td><td>0         </td><td>0         </td><td>0         </td></tr>\n",
       "\t<tr><td>49        </td><td>2         </td><td>1947-10-06</td><td>R/2/463   </td><td>0         </td><td>0         </td><td>0         </td><td>0         </td><td>0         </td><td>0         </td></tr>\n",
       "\t<tr><td>50        </td><td>2         </td><td>1947-10-06</td><td>R/2/465   </td><td>0         </td><td>0         </td><td>0         </td><td>0         </td><td>0         </td><td>0         </td></tr>\n",
       "\t<tr><td>51        </td><td>2         </td><td>1947-10-02</td><td>R/2/561   </td><td>0         </td><td>0         </td><td>0         </td><td>0         </td><td>1         </td><td>0         </td></tr>\n",
       "</tbody>\n",
       "</table>\n"
      ],
      "text/latex": [
       "\\begin{tabular}{r|llllllllll}\n",
       " rcid & session & date & unres & me & nu & di & hr & co & ec\\\\\n",
       "\\hline\n",
       "\t 46         & 2          & 1947-09-04 & R/2/299    & 0          & 0          & 0          & 0          & 0          & 0         \\\\\n",
       "\t 47         & 2          & 1947-10-05 & R/2/355    & 0          & 0          & 0          & 1          & 0          & 0         \\\\\n",
       "\t 48         & 2          & 1947-10-06 & R/2/461    & 0          & 0          & 0          & 0          & 0          & 0         \\\\\n",
       "\t 49         & 2          & 1947-10-06 & R/2/463    & 0          & 0          & 0          & 0          & 0          & 0         \\\\\n",
       "\t 50         & 2          & 1947-10-06 & R/2/465    & 0          & 0          & 0          & 0          & 0          & 0         \\\\\n",
       "\t 51         & 2          & 1947-10-02 & R/2/561    & 0          & 0          & 0          & 0          & 1          & 0         \\\\\n",
       "\\end{tabular}\n"
      ],
      "text/markdown": [
       "\n",
       "rcid | session | date | unres | me | nu | di | hr | co | ec | \n",
       "|---|---|---|---|---|---|\n",
       "| 46         | 2          | 1947-09-04 | R/2/299    | 0          | 0          | 0          | 0          | 0          | 0          | \n",
       "| 47         | 2          | 1947-10-05 | R/2/355    | 0          | 0          | 0          | 1          | 0          | 0          | \n",
       "| 48         | 2          | 1947-10-06 | R/2/461    | 0          | 0          | 0          | 0          | 0          | 0          | \n",
       "| 49         | 2          | 1947-10-06 | R/2/463    | 0          | 0          | 0          | 0          | 0          | 0          | \n",
       "| 50         | 2          | 1947-10-06 | R/2/465    | 0          | 0          | 0          | 0          | 0          | 0          | \n",
       "| 51         | 2          | 1947-10-02 | R/2/561    | 0          | 0          | 0          | 0          | 1          | 0          | \n",
       "\n",
       "\n"
      ],
      "text/plain": [
       "  rcid session date       unres   me nu di hr co ec\n",
       "1 46   2       1947-09-04 R/2/299 0  0  0  0  0  0 \n",
       "2 47   2       1947-10-05 R/2/355 0  0  0  1  0  0 \n",
       "3 48   2       1947-10-06 R/2/461 0  0  0  0  0  0 \n",
       "4 49   2       1947-10-06 R/2/463 0  0  0  0  0  0 \n",
       "5 50   2       1947-10-06 R/2/465 0  0  0  0  0  0 \n",
       "6 51   2       1947-10-02 R/2/561 0  0  0  0  1  0 "
      ]
     },
     "metadata": {},
     "output_type": "display_data"
    },
    {
     "data": {
      "text/html": [
       "<table>\n",
       "<thead><tr><th scope=col>rcid</th><th scope=col>session</th><th scope=col>vote</th><th scope=col>ccode</th><th scope=col>year</th><th scope=col>country</th></tr></thead>\n",
       "<tbody>\n",
       "\t<tr><td>46                </td><td>2                 </td><td>1                 </td><td> 2                </td><td>1947              </td><td>United States     </td></tr>\n",
       "\t<tr><td>46                </td><td>2                 </td><td>1                 </td><td>20                </td><td>1947              </td><td>Canada            </td></tr>\n",
       "\t<tr><td>46                </td><td>2                 </td><td>1                 </td><td>40                </td><td>1947              </td><td>Cuba              </td></tr>\n",
       "\t<tr><td>46                </td><td>2                 </td><td>1                 </td><td>41                </td><td>1947              </td><td>Haiti             </td></tr>\n",
       "\t<tr><td>46                </td><td>2                 </td><td>1                 </td><td>42                </td><td>1947              </td><td>Dominican Republic</td></tr>\n",
       "\t<tr><td>46                </td><td>2                 </td><td>1                 </td><td>70                </td><td>1947              </td><td>Mexico            </td></tr>\n",
       "</tbody>\n",
       "</table>\n"
      ],
      "text/latex": [
       "\\begin{tabular}{r|llllll}\n",
       " rcid & session & vote & ccode & year & country\\\\\n",
       "\\hline\n",
       "\t 46                 & 2                  & 1                  &  2                 & 1947               & United States     \\\\\n",
       "\t 46                 & 2                  & 1                  & 20                 & 1947               & Canada            \\\\\n",
       "\t 46                 & 2                  & 1                  & 40                 & 1947               & Cuba              \\\\\n",
       "\t 46                 & 2                  & 1                  & 41                 & 1947               & Haiti             \\\\\n",
       "\t 46                 & 2                  & 1                  & 42                 & 1947               & Dominican Republic\\\\\n",
       "\t 46                 & 2                  & 1                  & 70                 & 1947               & Mexico            \\\\\n",
       "\\end{tabular}\n"
      ],
      "text/markdown": [
       "\n",
       "rcid | session | vote | ccode | year | country | \n",
       "|---|---|---|---|---|---|\n",
       "| 46                 | 2                  | 1                  |  2                 | 1947               | United States      | \n",
       "| 46                 | 2                  | 1                  | 20                 | 1947               | Canada             | \n",
       "| 46                 | 2                  | 1                  | 40                 | 1947               | Cuba               | \n",
       "| 46                 | 2                  | 1                  | 41                 | 1947               | Haiti              | \n",
       "| 46                 | 2                  | 1                  | 42                 | 1947               | Dominican Republic | \n",
       "| 46                 | 2                  | 1                  | 70                 | 1947               | Mexico             | \n",
       "\n",
       "\n"
      ],
      "text/plain": [
       "  rcid session vote ccode year country           \n",
       "1 46   2       1     2    1947 United States     \n",
       "2 46   2       1    20    1947 Canada            \n",
       "3 46   2       1    40    1947 Cuba              \n",
       "4 46   2       1    41    1947 Haiti             \n",
       "5 46   2       1    42    1947 Dominican Republic\n",
       "6 46   2       1    70    1947 Mexico            "
      ]
     },
     "metadata": {},
     "output_type": "display_data"
    }
   ],
   "source": [
    "head(description)\n",
    "head(votes_processed)"
   ]
  },
  {
   "cell_type": "code",
   "execution_count": 65,
   "metadata": {},
   "outputs": [
    {
     "name": "stderr",
     "output_type": "stream",
     "text": [
      "Warning message:\n",
      "\"Column `rcid` has different attributes on LHS and RHS of join\"Warning message:\n",
      "\"Column `session` has different attributes on LHS and RHS of join\""
     ]
    }
   ],
   "source": [
    "# Join them together based on the \"rcid\" and \"session\" columns\n",
    "votes_joined <- votes_processed %>%\n",
    "  inner_join(description, by = c(\"rcid\", \"session\"))"
   ]
  },
  {
   "cell_type": "code",
   "execution_count": 66,
   "metadata": {},
   "outputs": [
    {
     "data": {},
     "metadata": {},
     "output_type": "display_data"
    },
    {
     "data": {
      "image/png": "[encoded data removed]",
      "text/plain": [
       "plot without title"
      ]
     },
     "metadata": {},
     "output_type": "display_data"
    }
   ],
   "source": [
    "# Filter, then summarize by year: US_co_by_year\n",
    "US_co_by_year <- votes_joined %>%\n",
    "  filter(country == \"United States\" & co == 1) %>%\n",
    "  group_by(year) %>%\n",
    "  summarise(percent_yes = mean(vote == 1))\n",
    "\n",
    "# Graph the % of \"yes\" votes over time\n",
    "ggplot(US_co_by_year, aes(x = year, y = percent_yes)) +\n",
    "  geom_line()"
   ]
  },
  {
   "cell_type": "code",
   "execution_count": 67,
   "metadata": {},
   "outputs": [],
   "source": [
    "# Perform gather again, then filter \n",
    "votes_gathered <- votes_joined %>%\n",
    "  gather(key = topic, value = has_topic, me:ec) %>%\n",
    "  filter(has_topic == 1)"
   ]
  },
  {
   "cell_type": "code",
   "execution_count": 68,
   "metadata": {},
   "outputs": [
    {
     "data": {
      "text/html": [
       "<table>\n",
       "<thead><tr><th scope=col>rcid</th><th scope=col>session</th><th scope=col>vote</th><th scope=col>ccode</th><th scope=col>year</th><th scope=col>country</th><th scope=col>date</th><th scope=col>unres</th><th scope=col>topic</th><th scope=col>has_topic</th></tr></thead>\n",
       "<tbody>\n",
       "\t<tr><td>77                </td><td>2                 </td><td>1                 </td><td> 2                </td><td>1947              </td><td>United States     </td><td>1947-11-06        </td><td>R/2/1424          </td><td>me                </td><td>1                 </td></tr>\n",
       "\t<tr><td>77                </td><td>2                 </td><td>1                 </td><td>20                </td><td>1947              </td><td>Canada            </td><td>1947-11-06        </td><td>R/2/1424          </td><td>me                </td><td>1                 </td></tr>\n",
       "\t<tr><td>77                </td><td>2                 </td><td>3                 </td><td>40                </td><td>1947              </td><td>Cuba              </td><td>1947-11-06        </td><td>R/2/1424          </td><td>me                </td><td>1                 </td></tr>\n",
       "\t<tr><td>77                </td><td>2                 </td><td>1                 </td><td>41                </td><td>1947              </td><td>Haiti             </td><td>1947-11-06        </td><td>R/2/1424          </td><td>me                </td><td>1                 </td></tr>\n",
       "\t<tr><td>77                </td><td>2                 </td><td>1                 </td><td>42                </td><td>1947              </td><td>Dominican Republic</td><td>1947-11-06        </td><td>R/2/1424          </td><td>me                </td><td>1                 </td></tr>\n",
       "\t<tr><td>77                </td><td>2                 </td><td>2                 </td><td>70                </td><td>1947              </td><td>Mexico            </td><td>1947-11-06        </td><td>R/2/1424          </td><td>me                </td><td>1                 </td></tr>\n",
       "</tbody>\n",
       "</table>\n"
      ],
      "text/latex": [
       "\\begin{tabular}{r|llllllllll}\n",
       " rcid & session & vote & ccode & year & country & date & unres & topic & has\\_topic\\\\\n",
       "\\hline\n",
       "\t 77                 & 2                  & 1                  &  2                 & 1947               & United States      & 1947-11-06         & R/2/1424           & me                 & 1                 \\\\\n",
       "\t 77                 & 2                  & 1                  & 20                 & 1947               & Canada             & 1947-11-06         & R/2/1424           & me                 & 1                 \\\\\n",
       "\t 77                 & 2                  & 3                  & 40                 & 1947               & Cuba               & 1947-11-06         & R/2/1424           & me                 & 1                 \\\\\n",
       "\t 77                 & 2                  & 1                  & 41                 & 1947               & Haiti              & 1947-11-06         & R/2/1424           & me                 & 1                 \\\\\n",
       "\t 77                 & 2                  & 1                  & 42                 & 1947               & Dominican Republic & 1947-11-06         & R/2/1424           & me                 & 1                 \\\\\n",
       "\t 77                 & 2                  & 2                  & 70                 & 1947               & Mexico             & 1947-11-06         & R/2/1424           & me                 & 1                 \\\\\n",
       "\\end{tabular}\n"
      ],
      "text/markdown": [
       "\n",
       "rcid | session | vote | ccode | year | country | date | unres | topic | has_topic | \n",
       "|---|---|---|---|---|---|\n",
       "| 77                 | 2                  | 1                  |  2                 | 1947               | United States      | 1947-11-06         | R/2/1424           | me                 | 1                  | \n",
       "| 77                 | 2                  | 1                  | 20                 | 1947               | Canada             | 1947-11-06         | R/2/1424           | me                 | 1                  | \n",
       "| 77                 | 2                  | 3                  | 40                 | 1947               | Cuba               | 1947-11-06         | R/2/1424           | me                 | 1                  | \n",
       "| 77                 | 2                  | 1                  | 41                 | 1947               | Haiti              | 1947-11-06         | R/2/1424           | me                 | 1                  | \n",
       "| 77                 | 2                  | 1                  | 42                 | 1947               | Dominican Republic | 1947-11-06         | R/2/1424           | me                 | 1                  | \n",
       "| 77                 | 2                  | 2                  | 70                 | 1947               | Mexico             | 1947-11-06         | R/2/1424           | me                 | 1                  | \n",
       "\n",
       "\n"
      ],
      "text/plain": [
       "  rcid session vote ccode year country            date       unres    topic\n",
       "1 77   2       1     2    1947 United States      1947-11-06 R/2/1424 me   \n",
       "2 77   2       1    20    1947 Canada             1947-11-06 R/2/1424 me   \n",
       "3 77   2       3    40    1947 Cuba               1947-11-06 R/2/1424 me   \n",
       "4 77   2       1    41    1947 Haiti              1947-11-06 R/2/1424 me   \n",
       "5 77   2       1    42    1947 Dominican Republic 1947-11-06 R/2/1424 me   \n",
       "6 77   2       2    70    1947 Mexico             1947-11-06 R/2/1424 me   \n",
       "  has_topic\n",
       "1 1        \n",
       "2 1        \n",
       "3 1        \n",
       "4 1        \n",
       "5 1        \n",
       "6 1        "
      ]
     },
     "metadata": {},
     "output_type": "display_data"
    }
   ],
   "source": [
    "head(votes_gathered)"
   ]
  },
  {
   "cell_type": "code",
   "execution_count": 69,
   "metadata": {},
   "outputs": [],
   "source": [
    "# Replace the two-letter codes in topic: votes_tidied\n",
    "votes_tidied <- votes_gathered %>%\n",
    "  mutate(topic = recode(topic,\n",
    "                        me = \"Palestinian conflict\",\n",
    "                        nu = \"Nuclear weapons and nuclear material\",\n",
    "                        di = \"Arms control and disarmament\",\n",
    "                        hr = \"Human rights\",\n",
    "                        co = \"Colonialism\",\n",
    "                        ec = \"Economic development\"))"
   ]
  },
  {
   "cell_type": "code",
   "execution_count": 70,
   "metadata": {},
   "outputs": [],
   "source": [
    "# Summarize the percentage \"yes\" per country-year-topic\n",
    "by_country_year_topic <- votes_tidied %>%\n",
    "  group_by(country, year, topic) %>%\n",
    "summarise(total = n(),\n",
    "  percent_yes = mean(vote == 1)) %>%\n",
    "  ungroup()"
   ]
  },
  {
   "cell_type": "code",
   "execution_count": 71,
   "metadata": {},
   "outputs": [
    {
     "data": {
      "text/html": [
       "<table>\n",
       "<thead><tr><th scope=col>country</th><th scope=col>year</th><th scope=col>topic</th><th scope=col>total</th><th scope=col>percent_yes</th></tr></thead>\n",
       "<tbody>\n",
       "\t<tr><td>Afghanistan                 </td><td>1947                        </td><td>Colonialism                 </td><td> 8                          </td><td>0.500                       </td></tr>\n",
       "\t<tr><td>Afghanistan                 </td><td>1947                        </td><td>Economic development        </td><td> 1                          </td><td>0.000                       </td></tr>\n",
       "\t<tr><td>Afghanistan                 </td><td>1947                        </td><td>Human rights                </td><td> 1                          </td><td>0.000                       </td></tr>\n",
       "\t<tr><td>Afghanistan                 </td><td>1947                        </td><td>Palestinian conflict        </td><td> 6                          </td><td>0.000                       </td></tr>\n",
       "\t<tr><td>Afghanistan                 </td><td>1949                        </td><td>Arms control and disarmament</td><td> 3                          </td><td>0.000                       </td></tr>\n",
       "\t<tr><td>Afghanistan                 </td><td>1949                        </td><td>Colonialism                 </td><td>22                          </td><td>0.864                       </td></tr>\n",
       "</tbody>\n",
       "</table>\n"
      ],
      "text/latex": [
       "\\begin{tabular}{r|lllll}\n",
       " country & year & topic & total & percent\\_yes\\\\\n",
       "\\hline\n",
       "\t Afghanistan                  & 1947                         & Colonialism                  &  8                           & 0.500                       \\\\\n",
       "\t Afghanistan                  & 1947                         & Economic development         &  1                           & 0.000                       \\\\\n",
       "\t Afghanistan                  & 1947                         & Human rights                 &  1                           & 0.000                       \\\\\n",
       "\t Afghanistan                  & 1947                         & Palestinian conflict         &  6                           & 0.000                       \\\\\n",
       "\t Afghanistan                  & 1949                         & Arms control and disarmament &  3                           & 0.000                       \\\\\n",
       "\t Afghanistan                  & 1949                         & Colonialism                  & 22                           & 0.864                       \\\\\n",
       "\\end{tabular}\n"
      ],
      "text/markdown": [
       "\n",
       "country | year | topic | total | percent_yes | \n",
       "|---|---|---|---|---|---|\n",
       "| Afghanistan                  | 1947                         | Colonialism                  |  8                           | 0.500                        | \n",
       "| Afghanistan                  | 1947                         | Economic development         |  1                           | 0.000                        | \n",
       "| Afghanistan                  | 1947                         | Human rights                 |  1                           | 0.000                        | \n",
       "| Afghanistan                  | 1947                         | Palestinian conflict         |  6                           | 0.000                        | \n",
       "| Afghanistan                  | 1949                         | Arms control and disarmament |  3                           | 0.000                        | \n",
       "| Afghanistan                  | 1949                         | Colonialism                  | 22                           | 0.864                        | \n",
       "\n",
       "\n"
      ],
      "text/plain": [
       "  country     year topic                        total percent_yes\n",
       "1 Afghanistan 1947 Colonialism                   8    0.500      \n",
       "2 Afghanistan 1947 Economic development          1    0.000      \n",
       "3 Afghanistan 1947 Human rights                  1    0.000      \n",
       "4 Afghanistan 1947 Palestinian conflict          6    0.000      \n",
       "5 Afghanistan 1949 Arms control and disarmament  3    0.000      \n",
       "6 Afghanistan 1949 Colonialism                  22    0.864      "
      ]
     },
     "metadata": {},
     "output_type": "display_data"
    }
   ],
   "source": [
    "head(by_country_year_topic)"
   ]
  },
  {
   "cell_type": "code",
   "execution_count": 73,
   "metadata": {},
   "outputs": [
    {
     "data": {},
     "metadata": {},
     "output_type": "display_data"
    },
    {
     "data": {
      "image/png": "[encoded data removed]",
      "text/plain": [
       "plot without title"
      ]
     },
     "metadata": {},
     "output_type": "display_data"
    }
   ],
   "source": [
    "# Filter by_country_year_topic for just the US\n",
    "US_by_country_year_topic <- by_country_year_topic %>%\n",
    "  filter(country == \"United States\" | country == \"United Kingdom\")\n",
    "\n",
    "# Plot % yes over time for the US, faceting by topic\n",
    "ggplot(US_by_country_year_topic, aes(x = year, y = percent_yes, color = country)) +\n",
    "  geom_line() +\n",
    "  facet_wrap( ~ topic)\n"
   ]
  },
  {
   "cell_type": "code",
   "execution_count": null,
   "metadata": {},
   "outputs": [],
   "source": [
    "# Fit model on the by_country_year_topic dataset\n",
    "country_topic_coefficients <- by_country_year_topic %>%\n",
    "  nest(-country, - topic) %>%\n",
    "  mutate(model = map(data, ~ lm(percent_yes ~ year, data = .)),\n",
    "    tidied = map(model, tidy)) %>%\n",
    "  unnest(tidied)\n",
    "\n",
    "# Print country_topic_coefficients\n",
    "head(country_topic_coefficients)"
   ]
  },
  {
   "cell_type": "code",
   "execution_count": null,
   "metadata": {},
   "outputs": [],
   "source": [
    "# Create country_topic_filtered\n",
    "country_topic_filtered <- country_topic_coefficients %>% \n",
    "  filter(term == \"year\") %>%\n",
    "  mutate(p.adjusted = p.adjust(p.value)) %>%\n",
    "  filter(p.adjusted < .05)"
   ]
  },
  {
   "cell_type": "code",
   "execution_count": null,
   "metadata": {},
   "outputs": [],
   "source": [
    "head(arrange(country_topic_filtered, estimate))"
   ]
  },
  {
   "cell_type": "code",
   "execution_count": null,
   "metadata": {},
   "outputs": [],
   "source": [
    "# Create vanuatu_by_country_year_topic\n",
    "vanuatu_by_country_year_topic <- by_country_year_topic %>%\n",
    "  filter(country == \"Vanuatu\")\n",
    "\n",
    "# Plot of percentage \"yes\" over time, faceted by topic\n",
    "ggplot(vanuatu_by_country_year_topic, aes(x = year, y = percent_yes)) +\n",
    "  geom_line() +\n",
    "  facet_wrap( ~ topic)"
   ]
  }
 ],
 "metadata": {
  "kernelspec": {
   "display_name": "R",
   "language": "R",
   "name": "ir"
  },
  "language_info": {
   "codemirror_mode": "r",
   "file_extension": ".r",
   "mimetype": "text/x-r-source",
   "name": "R",
   "pygments_lexer": "r",
   "version": "3.5.1"
  }
 },
 "nbformat": 4,
 "nbformat_minor": 2
}

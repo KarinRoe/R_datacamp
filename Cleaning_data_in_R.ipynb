{
 "cells": [
  {
   "cell_type": "code",
   "execution_count": 1,
   "metadata": {},
   "outputs": [],
   "source": [
    "# setting the graphic width and height for ggplot\n",
    "library(repr)\n",
    "options(repr.plot.width=10, repr.plot.height=6.19)"
   ]
  },
  {
   "cell_type": "markdown",
   "metadata": {},
   "source": [
    "# Exploring Raw data\n",
    "\n",
    "    Historical weather data from Boston, USA\n",
    "    12 months beginning Dec 2014\n",
    "    data is dirty\n",
    "    column names are values, Variables are coded incorrectly and missing and extreme values\n",
    "    "
   ]
  },
  {
   "cell_type": "code",
   "execution_count": 2,
   "metadata": {},
   "outputs": [],
   "source": [
    "weather <- readRDS(\"~/R_datacamp/weather.rds\")"
   ]
  },
  {
   "cell_type": "code",
   "execution_count": 3,
   "metadata": {},
   "outputs": [
    {
     "data": {
      "text/html": [
       "<table>\n",
       "<thead><tr><th scope=col>X</th><th scope=col>year</th><th scope=col>month</th><th scope=col>measure</th><th scope=col>X1</th><th scope=col>X2</th><th scope=col>X3</th><th scope=col>X4</th><th scope=col>X5</th><th scope=col>X6</th><th scope=col>...</th><th scope=col>X22</th><th scope=col>X23</th><th scope=col>X24</th><th scope=col>X25</th><th scope=col>X26</th><th scope=col>X27</th><th scope=col>X28</th><th scope=col>X29</th><th scope=col>X30</th><th scope=col>X31</th></tr></thead>\n",
       "<tbody>\n",
       "\t<tr><td>1                </td><td>2014             </td><td>12               </td><td>Max.TemperatureF </td><td>64               </td><td>42               </td><td>51               </td><td>43               </td><td>42               </td><td>45               </td><td>...              </td><td>44               </td><td>47               </td><td>46               </td><td>59               </td><td>50               </td><td>52               </td><td>52               </td><td>41               </td><td>30               </td><td>30               </td></tr>\n",
       "\t<tr><td>2                </td><td>2014             </td><td>12               </td><td>Mean.TemperatureF</td><td>52               </td><td>38               </td><td>44               </td><td>37               </td><td>34               </td><td>42               </td><td>...              </td><td>39               </td><td>45               </td><td>44               </td><td>52               </td><td>44               </td><td>45               </td><td>46               </td><td>36               </td><td>26               </td><td>25               </td></tr>\n",
       "\t<tr><td>3                </td><td>2014             </td><td>12               </td><td>Min.TemperatureF </td><td>39               </td><td>33               </td><td>37               </td><td>30               </td><td>26               </td><td>38               </td><td>...              </td><td>33               </td><td>42               </td><td>41               </td><td>44               </td><td>37               </td><td>38               </td><td>40               </td><td>30               </td><td>22               </td><td>20               </td></tr>\n",
       "\t<tr><td>4                </td><td>2014             </td><td>12               </td><td>Max.Dew.PointF   </td><td>46               </td><td>40               </td><td>49               </td><td>24               </td><td>37               </td><td>45               </td><td>...              </td><td>39               </td><td>45               </td><td>46               </td><td>58               </td><td>31               </td><td>34               </td><td>42               </td><td>26               </td><td>10               </td><td>8                </td></tr>\n",
       "\t<tr><td>5                </td><td>2014             </td><td>12               </td><td>MeanDew.PointF   </td><td>40               </td><td>27               </td><td>42               </td><td>21               </td><td>25               </td><td>40               </td><td>...              </td><td>34               </td><td>42               </td><td>44               </td><td>43               </td><td>29               </td><td>31               </td><td>35               </td><td>20               </td><td>4                </td><td>5                </td></tr>\n",
       "\t<tr><td>6                </td><td>2014             </td><td>12               </td><td>Min.DewpointF    </td><td>26               </td><td>17               </td><td>24               </td><td>13               </td><td>12               </td><td>36               </td><td>...              </td><td>25               </td><td>37               </td><td>41               </td><td>29               </td><td>28               </td><td>29               </td><td>27               </td><td>10               </td><td>-6               </td><td>1                </td></tr>\n",
       "</tbody>\n",
       "</table>\n"
      ],
      "text/latex": [
       "\\begin{tabular}{r|lllllllllllllllllllllllllllllllllll}\n",
       " X & year & month & measure & X1 & X2 & X3 & X4 & X5 & X6 & ... & X22 & X23 & X24 & X25 & X26 & X27 & X28 & X29 & X30 & X31\\\\\n",
       "\\hline\n",
       "\t 1                 & 2014              & 12                & Max.TemperatureF  & 64                & 42                & 51                & 43                & 42                & 45                & ...               & 44                & 47                & 46                & 59                & 50                & 52                & 52                & 41                & 30                & 30               \\\\\n",
       "\t 2                 & 2014              & 12                & Mean.TemperatureF & 52                & 38                & 44                & 37                & 34                & 42                & ...               & 39                & 45                & 44                & 52                & 44                & 45                & 46                & 36                & 26                & 25               \\\\\n",
       "\t 3                 & 2014              & 12                & Min.TemperatureF  & 39                & 33                & 37                & 30                & 26                & 38                & ...               & 33                & 42                & 41                & 44                & 37                & 38                & 40                & 30                & 22                & 20               \\\\\n",
       "\t 4                 & 2014              & 12                & Max.Dew.PointF    & 46                & 40                & 49                & 24                & 37                & 45                & ...               & 39                & 45                & 46                & 58                & 31                & 34                & 42                & 26                & 10                & 8                \\\\\n",
       "\t 5                 & 2014              & 12                & MeanDew.PointF    & 40                & 27                & 42                & 21                & 25                & 40                & ...               & 34                & 42                & 44                & 43                & 29                & 31                & 35                & 20                & 4                 & 5                \\\\\n",
       "\t 6                 & 2014              & 12                & Min.DewpointF     & 26                & 17                & 24                & 13                & 12                & 36                & ...               & 25                & 37                & 41                & 29                & 28                & 29                & 27                & 10                & -6                & 1                \\\\\n",
       "\\end{tabular}\n"
      ],
      "text/markdown": [
       "\n",
       "X | year | month | measure | X1 | X2 | X3 | X4 | X5 | X6 | ... | X22 | X23 | X24 | X25 | X26 | X27 | X28 | X29 | X30 | X31 | \n",
       "|---|---|---|---|---|---|\n",
       "| 1                 | 2014              | 12                | Max.TemperatureF  | 64                | 42                | 51                | 43                | 42                | 45                | ...               | 44                | 47                | 46                | 59                | 50                | 52                | 52                | 41                | 30                | 30                | \n",
       "| 2                 | 2014              | 12                | Mean.TemperatureF | 52                | 38                | 44                | 37                | 34                | 42                | ...               | 39                | 45                | 44                | 52                | 44                | 45                | 46                | 36                | 26                | 25                | \n",
       "| 3                 | 2014              | 12                | Min.TemperatureF  | 39                | 33                | 37                | 30                | 26                | 38                | ...               | 33                | 42                | 41                | 44                | 37                | 38                | 40                | 30                | 22                | 20                | \n",
       "| 4                 | 2014              | 12                | Max.Dew.PointF    | 46                | 40                | 49                | 24                | 37                | 45                | ...               | 39                | 45                | 46                | 58                | 31                | 34                | 42                | 26                | 10                | 8                 | \n",
       "| 5                 | 2014              | 12                | MeanDew.PointF    | 40                | 27                | 42                | 21                | 25                | 40                | ...               | 34                | 42                | 44                | 43                | 29                | 31                | 35                | 20                | 4                 | 5                 | \n",
       "| 6                 | 2014              | 12                | Min.DewpointF     | 26                | 17                | 24                | 13                | 12                | 36                | ...               | 25                | 37                | 41                | 29                | 28                | 29                | 27                | 10                | -6                | 1                 | \n",
       "\n",
       "\n"
      ],
      "text/plain": [
       "  X year month measure           X1 X2 X3 X4 X5 X6 ... X22 X23 X24 X25 X26 X27\n",
       "1 1 2014 12    Max.TemperatureF  64 42 51 43 42 45 ... 44  47  46  59  50  52 \n",
       "2 2 2014 12    Mean.TemperatureF 52 38 44 37 34 42 ... 39  45  44  52  44  45 \n",
       "3 3 2014 12    Min.TemperatureF  39 33 37 30 26 38 ... 33  42  41  44  37  38 \n",
       "4 4 2014 12    Max.Dew.PointF    46 40 49 24 37 45 ... 39  45  46  58  31  34 \n",
       "5 5 2014 12    MeanDew.PointF    40 27 42 21 25 40 ... 34  42  44  43  29  31 \n",
       "6 6 2014 12    Min.DewpointF     26 17 24 13 12 36 ... 25  37  41  29  28  29 \n",
       "  X28 X29 X30 X31\n",
       "1 52  41  30  30 \n",
       "2 46  36  26  25 \n",
       "3 40  30  22  20 \n",
       "4 42  26  10  8  \n",
       "5 35  20  4   5  \n",
       "6 27  10  -6  1  "
      ]
     },
     "metadata": {},
     "output_type": "display_data"
    }
   ],
   "source": [
    "head(weather)"
   ]
  },
  {
   "cell_type": "markdown",
   "metadata": {},
   "source": [
    "**The first think you do with a new dataset is to understand the structure.**\n",
    "<br>class() to find out if you have a tabular data set (data.frame)\n",
    "<br>dim() lets you check how many rows and columns there are\n",
    "<br>colnames() lets you see your column names"
   ]
  },
  {
   "cell_type": "code",
   "execution_count": 4,
   "metadata": {},
   "outputs": [
    {
     "data": {
      "text/html": [
       "'data.frame'"
      ],
      "text/latex": [
       "'data.frame'"
      ],
      "text/markdown": [
       "'data.frame'"
      ],
      "text/plain": [
       "[1] \"data.frame\""
      ]
     },
     "metadata": {},
     "output_type": "display_data"
    }
   ],
   "source": [
    "class(weather)"
   ]
  },
  {
   "cell_type": "code",
   "execution_count": 5,
   "metadata": {},
   "outputs": [
    {
     "data": {
      "text/html": [
       "<ol class=list-inline>\n",
       "\t<li>286</li>\n",
       "\t<li>35</li>\n",
       "</ol>\n"
      ],
      "text/latex": [
       "\\begin{enumerate*}\n",
       "\\item 286\n",
       "\\item 35\n",
       "\\end{enumerate*}\n"
      ],
      "text/markdown": [
       "1. 286\n",
       "2. 35\n",
       "\n",
       "\n"
      ],
      "text/plain": [
       "[1] 286  35"
      ]
     },
     "metadata": {},
     "output_type": "display_data"
    }
   ],
   "source": [
    "dim(weather)"
   ]
  },
  {
   "cell_type": "code",
   "execution_count": 6,
   "metadata": {},
   "outputs": [
    {
     "data": {
      "text/html": [
       "<ol class=list-inline>\n",
       "\t<li>'X'</li>\n",
       "\t<li>'year'</li>\n",
       "\t<li>'month'</li>\n",
       "\t<li>'measure'</li>\n",
       "\t<li>'X1'</li>\n",
       "\t<li>'X2'</li>\n",
       "\t<li>'X3'</li>\n",
       "\t<li>'X4'</li>\n",
       "\t<li>'X5'</li>\n",
       "\t<li>'X6'</li>\n",
       "\t<li>'X7'</li>\n",
       "\t<li>'X8'</li>\n",
       "\t<li>'X9'</li>\n",
       "\t<li>'X10'</li>\n",
       "\t<li>'X11'</li>\n",
       "\t<li>'X12'</li>\n",
       "\t<li>'X13'</li>\n",
       "\t<li>'X14'</li>\n",
       "\t<li>'X15'</li>\n",
       "\t<li>'X16'</li>\n",
       "\t<li>'X17'</li>\n",
       "\t<li>'X18'</li>\n",
       "\t<li>'X19'</li>\n",
       "\t<li>'X20'</li>\n",
       "\t<li>'X21'</li>\n",
       "\t<li>'X22'</li>\n",
       "\t<li>'X23'</li>\n",
       "\t<li>'X24'</li>\n",
       "\t<li>'X25'</li>\n",
       "\t<li>'X26'</li>\n",
       "\t<li>'X27'</li>\n",
       "\t<li>'X28'</li>\n",
       "\t<li>'X29'</li>\n",
       "\t<li>'X30'</li>\n",
       "\t<li>'X31'</li>\n",
       "</ol>\n"
      ],
      "text/latex": [
       "\\begin{enumerate*}\n",
       "\\item 'X'\n",
       "\\item 'year'\n",
       "\\item 'month'\n",
       "\\item 'measure'\n",
       "\\item 'X1'\n",
       "\\item 'X2'\n",
       "\\item 'X3'\n",
       "\\item 'X4'\n",
       "\\item 'X5'\n",
       "\\item 'X6'\n",
       "\\item 'X7'\n",
       "\\item 'X8'\n",
       "\\item 'X9'\n",
       "\\item 'X10'\n",
       "\\item 'X11'\n",
       "\\item 'X12'\n",
       "\\item 'X13'\n",
       "\\item 'X14'\n",
       "\\item 'X15'\n",
       "\\item 'X16'\n",
       "\\item 'X17'\n",
       "\\item 'X18'\n",
       "\\item 'X19'\n",
       "\\item 'X20'\n",
       "\\item 'X21'\n",
       "\\item 'X22'\n",
       "\\item 'X23'\n",
       "\\item 'X24'\n",
       "\\item 'X25'\n",
       "\\item 'X26'\n",
       "\\item 'X27'\n",
       "\\item 'X28'\n",
       "\\item 'X29'\n",
       "\\item 'X30'\n",
       "\\item 'X31'\n",
       "\\end{enumerate*}\n"
      ],
      "text/markdown": [
       "1. 'X'\n",
       "2. 'year'\n",
       "3. 'month'\n",
       "4. 'measure'\n",
       "5. 'X1'\n",
       "6. 'X2'\n",
       "7. 'X3'\n",
       "8. 'X4'\n",
       "9. 'X5'\n",
       "10. 'X6'\n",
       "11. 'X7'\n",
       "12. 'X8'\n",
       "13. 'X9'\n",
       "14. 'X10'\n",
       "15. 'X11'\n",
       "16. 'X12'\n",
       "17. 'X13'\n",
       "18. 'X14'\n",
       "19. 'X15'\n",
       "20. 'X16'\n",
       "21. 'X17'\n",
       "22. 'X18'\n",
       "23. 'X19'\n",
       "24. 'X20'\n",
       "25. 'X21'\n",
       "26. 'X22'\n",
       "27. 'X23'\n",
       "28. 'X24'\n",
       "29. 'X25'\n",
       "30. 'X26'\n",
       "31. 'X27'\n",
       "32. 'X28'\n",
       "33. 'X29'\n",
       "34. 'X30'\n",
       "35. 'X31'\n",
       "\n",
       "\n"
      ],
      "text/plain": [
       " [1] \"X\"       \"year\"    \"month\"   \"measure\" \"X1\"      \"X2\"      \"X3\"     \n",
       " [8] \"X4\"      \"X5\"      \"X6\"      \"X7\"      \"X8\"      \"X9\"      \"X10\"    \n",
       "[15] \"X11\"     \"X12\"     \"X13\"     \"X14\"     \"X15\"     \"X16\"     \"X17\"    \n",
       "[22] \"X18\"     \"X19\"     \"X20\"     \"X21\"     \"X22\"     \"X23\"     \"X24\"    \n",
       "[29] \"X25\"     \"X26\"     \"X27\"     \"X28\"     \"X29\"     \"X30\"     \"X31\"    "
      ]
     },
     "metadata": {},
     "output_type": "display_data"
    }
   ],
   "source": [
    "names(weather)"
   ]
  },
  {
   "cell_type": "markdown",
   "metadata": {},
   "source": [
    "str() stands for structure and lets you see the class and dimensions of the entire dataset and also the class of each variable and a preview of its content\n",
    "<br>glimpse() from dplyr is an alternative to str, which is a bit cleaner\n",
    "<br>summary() has for each variable a summary. It helps to reveal unusual or extreme values, unexpected missing data. For numeric variables it will give you mean, median, quartiles. For character or factor variables it gives you count."
   ]
  },
  {
   "cell_type": "code",
   "execution_count": 7,
   "metadata": {},
   "outputs": [
    {
     "name": "stdout",
     "output_type": "stream",
     "text": [
      "'data.frame':\t286 obs. of  35 variables:\n",
      " $ X      : int  1 2 3 4 5 6 7 8 9 10 ...\n",
      " $ year   : int  2014 2014 2014 2014 2014 2014 2014 2014 2014 2014 ...\n",
      " $ month  : int  12 12 12 12 12 12 12 12 12 12 ...\n",
      " $ measure: chr  \"Max.TemperatureF\" \"Mean.TemperatureF\" \"Min.TemperatureF\" \"Max.Dew.PointF\" ...\n",
      " $ X1     : chr  \"64\" \"52\" \"39\" \"46\" ...\n",
      " $ X2     : chr  \"42\" \"38\" \"33\" \"40\" ...\n",
      " $ X3     : chr  \"51\" \"44\" \"37\" \"49\" ...\n",
      " $ X4     : chr  \"43\" \"37\" \"30\" \"24\" ...\n",
      " $ X5     : chr  \"42\" \"34\" \"26\" \"37\" ...\n",
      " $ X6     : chr  \"45\" \"42\" \"38\" \"45\" ...\n",
      " $ X7     : chr  \"38\" \"30\" \"21\" \"36\" ...\n",
      " $ X8     : chr  \"29\" \"24\" \"18\" \"28\" ...\n",
      " $ X9     : chr  \"49\" \"39\" \"29\" \"49\" ...\n",
      " $ X10    : chr  \"48\" \"43\" \"38\" \"45\" ...\n",
      " $ X11    : chr  \"39\" \"36\" \"32\" \"37\" ...\n",
      " $ X12    : chr  \"39\" \"35\" \"31\" \"28\" ...\n",
      " $ X13    : chr  \"42\" \"37\" \"32\" \"28\" ...\n",
      " $ X14    : chr  \"45\" \"39\" \"33\" \"29\" ...\n",
      " $ X15    : chr  \"42\" \"37\" \"32\" \"33\" ...\n",
      " $ X16    : chr  \"44\" \"40\" \"35\" \"42\" ...\n",
      " $ X17    : chr  \"49\" \"45\" \"41\" \"46\" ...\n",
      " $ X18    : chr  \"44\" \"40\" \"36\" \"34\" ...\n",
      " $ X19    : chr  \"37\" \"33\" \"29\" \"25\" ...\n",
      " $ X20    : chr  \"36\" \"32\" \"27\" \"30\" ...\n",
      " $ X21    : chr  \"36\" \"33\" \"30\" \"30\" ...\n",
      " $ X22    : chr  \"44\" \"39\" \"33\" \"39\" ...\n",
      " $ X23    : chr  \"47\" \"45\" \"42\" \"45\" ...\n",
      " $ X24    : chr  \"46\" \"44\" \"41\" \"46\" ...\n",
      " $ X25    : chr  \"59\" \"52\" \"44\" \"58\" ...\n",
      " $ X26    : chr  \"50\" \"44\" \"37\" \"31\" ...\n",
      " $ X27    : chr  \"52\" \"45\" \"38\" \"34\" ...\n",
      " $ X28    : chr  \"52\" \"46\" \"40\" \"42\" ...\n",
      " $ X29    : chr  \"41\" \"36\" \"30\" \"26\" ...\n",
      " $ X30    : chr  \"30\" \"26\" \"22\" \"10\" ...\n",
      " $ X31    : chr  \"30\" \"25\" \"20\" \"8\" ...\n"
     ]
    }
   ],
   "source": [
    "str(weather)"
   ]
  },
  {
   "cell_type": "code",
   "execution_count": 8,
   "metadata": {},
   "outputs": [
    {
     "name": "stderr",
     "output_type": "stream",
     "text": [
      "\n",
      "Attaching package: 'dplyr'\n",
      "\n",
      "The following objects are masked from 'package:stats':\n",
      "\n",
      "    filter, lag\n",
      "\n",
      "The following objects are masked from 'package:base':\n",
      "\n",
      "    intersect, setdiff, setequal, union\n",
      "\n"
     ]
    },
    {
     "name": "stdout",
     "output_type": "stream",
     "text": [
      "Observations: 286\n",
      "Variables: 35\n",
      "$ X       <int> 1, 2, 3, 4, 5, 6, 7, 8, 9, 10, 11, 12, 13, 14, 15, 16, 17, ...\n",
      "$ year    <int> 2014, 2014, 2014, 2014, 2014, 2014, 2014, 2014, 2014, 2014,...\n",
      "$ month   <int> 12, 12, 12, 12, 12, 12, 12, 12, 12, 12, 12, 12, 12, 12, 12,...\n",
      "$ measure <chr> \"Max.TemperatureF\", \"Mean.TemperatureF\", \"Min.TemperatureF\"...\n",
      "$ X1      <chr> \"64\", \"52\", \"39\", \"46\", \"40\", \"26\", \"74\", \"63\", \"52\", \"30.4...\n",
      "$ X2      <chr> \"42\", \"38\", \"33\", \"40\", \"27\", \"17\", \"92\", \"72\", \"51\", \"30.7...\n",
      "$ X3      <chr> \"51\", \"44\", \"37\", \"49\", \"42\", \"24\", \"100\", \"79\", \"57\", \"30....\n",
      "$ X4      <chr> \"43\", \"37\", \"30\", \"24\", \"21\", \"13\", \"69\", \"54\", \"39\", \"30.5...\n",
      "$ X5      <chr> \"42\", \"34\", \"26\", \"37\", \"25\", \"12\", \"85\", \"66\", \"47\", \"30.6...\n",
      "$ X6      <chr> \"45\", \"42\", \"38\", \"45\", \"40\", \"36\", \"100\", \"93\", \"85\", \"30....\n",
      "$ X7      <chr> \"38\", \"30\", \"21\", \"36\", \"20\", \"-3\", \"92\", \"61\", \"29\", \"30.6...\n",
      "$ X8      <chr> \"29\", \"24\", \"18\", \"28\", \"16\", \"3\", \"92\", \"70\", \"47\", \"30.77...\n",
      "$ X9      <chr> \"49\", \"39\", \"29\", \"49\", \"41\", \"28\", \"100\", \"93\", \"86\", \"30....\n",
      "$ X10     <chr> \"48\", \"43\", \"38\", \"45\", \"39\", \"37\", \"100\", \"95\", \"89\", \"29....\n",
      "$ X11     <chr> \"39\", \"36\", \"32\", \"37\", \"31\", \"27\", \"92\", \"87\", \"82\", \"29.8...\n",
      "$ X12     <chr> \"39\", \"35\", \"31\", \"28\", \"27\", \"25\", \"85\", \"75\", \"64\", \"29.8...\n",
      "$ X13     <chr> \"42\", \"37\", \"32\", \"28\", \"26\", \"24\", \"75\", \"65\", \"55\", \"29.8...\n",
      "$ X14     <chr> \"45\", \"39\", \"33\", \"29\", \"27\", \"25\", \"82\", \"68\", \"53\", \"29.9...\n",
      "$ X15     <chr> \"42\", \"37\", \"32\", \"33\", \"29\", \"27\", \"89\", \"75\", \"60\", \"30.1...\n",
      "$ X16     <chr> \"44\", \"40\", \"35\", \"42\", \"36\", \"30\", \"96\", \"85\", \"73\", \"30.1...\n",
      "$ X17     <chr> \"49\", \"45\", \"41\", \"46\", \"41\", \"32\", \"100\", \"85\", \"70\", \"29....\n",
      "$ X18     <chr> \"44\", \"40\", \"36\", \"34\", \"30\", \"26\", \"89\", \"73\", \"57\", \"29.8...\n",
      "$ X19     <chr> \"37\", \"33\", \"29\", \"25\", \"22\", \"20\", \"69\", \"63\", \"56\", \"30.1...\n",
      "$ X20     <chr> \"36\", \"32\", \"27\", \"30\", \"24\", \"20\", \"89\", \"79\", \"69\", \"30.3...\n",
      "$ X21     <chr> \"36\", \"33\", \"30\", \"30\", \"27\", \"25\", \"85\", \"77\", \"69\", \"30.3...\n",
      "$ X22     <chr> \"44\", \"39\", \"33\", \"39\", \"34\", \"25\", \"89\", \"79\", \"69\", \"30.4...\n",
      "$ X23     <chr> \"47\", \"45\", \"42\", \"45\", \"42\", \"37\", \"100\", \"91\", \"82\", \"30....\n",
      "$ X24     <chr> \"46\", \"44\", \"41\", \"46\", \"44\", \"41\", \"100\", \"98\", \"96\", \"30....\n",
      "$ X25     <chr> \"59\", \"52\", \"44\", \"58\", \"43\", \"29\", \"100\", \"75\", \"49\", \"29....\n",
      "$ X26     <chr> \"50\", \"44\", \"37\", \"31\", \"29\", \"28\", \"70\", \"60\", \"49\", \"30.1...\n",
      "$ X27     <chr> \"52\", \"45\", \"38\", \"34\", \"31\", \"29\", \"70\", \"60\", \"50\", \"30.2...\n",
      "$ X28     <chr> \"52\", \"46\", \"40\", \"42\", \"35\", \"27\", \"76\", \"65\", \"53\", \"29.9...\n",
      "$ X29     <chr> \"41\", \"36\", \"30\", \"26\", \"20\", \"10\", \"64\", \"51\", \"37\", \"30.2...\n",
      "$ X30     <chr> \"30\", \"26\", \"22\", \"10\", \"4\", \"-6\", \"50\", \"38\", \"26\", \"30.36...\n",
      "$ X31     <chr> \"30\", \"25\", \"20\", \"8\", \"5\", \"1\", \"57\", \"44\", \"31\", \"30.32\",...\n"
     ]
    }
   ],
   "source": [
    "library(dplyr)\n",
    "glimpse(weather)"
   ]
  },
  {
   "cell_type": "code",
   "execution_count": 9,
   "metadata": {},
   "outputs": [
    {
     "data": {
      "text/plain": [
       "       X               year          month          measure         \n",
       " Min.   :  1.00   Min.   :2014   Min.   : 1.000   Length:286        \n",
       " 1st Qu.: 72.25   1st Qu.:2015   1st Qu.: 4.000   Class :character  \n",
       " Median :143.50   Median :2015   Median : 7.000   Mode  :character  \n",
       " Mean   :143.50   Mean   :2015   Mean   : 6.923                     \n",
       " 3rd Qu.:214.75   3rd Qu.:2015   3rd Qu.:10.000                     \n",
       " Max.   :286.00   Max.   :2015   Max.   :12.000                     \n",
       "      X1                 X2                 X3                 X4           \n",
       " Length:286         Length:286         Length:286         Length:286        \n",
       " Class :character   Class :character   Class :character   Class :character  \n",
       " Mode  :character   Mode  :character   Mode  :character   Mode  :character  \n",
       "                                                                            \n",
       "                                                                            \n",
       "                                                                            \n",
       "      X5                 X6                 X7                 X8           \n",
       " Length:286         Length:286         Length:286         Length:286        \n",
       " Class :character   Class :character   Class :character   Class :character  \n",
       " Mode  :character   Mode  :character   Mode  :character   Mode  :character  \n",
       "                                                                            \n",
       "                                                                            \n",
       "                                                                            \n",
       "      X9                X10                X11                X12           \n",
       " Length:286         Length:286         Length:286         Length:286        \n",
       " Class :character   Class :character   Class :character   Class :character  \n",
       " Mode  :character   Mode  :character   Mode  :character   Mode  :character  \n",
       "                                                                            \n",
       "                                                                            \n",
       "                                                                            \n",
       "     X13                X14                X15                X16           \n",
       " Length:286         Length:286         Length:286         Length:286        \n",
       " Class :character   Class :character   Class :character   Class :character  \n",
       " Mode  :character   Mode  :character   Mode  :character   Mode  :character  \n",
       "                                                                            \n",
       "                                                                            \n",
       "                                                                            \n",
       "     X17                X18                X19                X20           \n",
       " Length:286         Length:286         Length:286         Length:286        \n",
       " Class :character   Class :character   Class :character   Class :character  \n",
       " Mode  :character   Mode  :character   Mode  :character   Mode  :character  \n",
       "                                                                            \n",
       "                                                                            \n",
       "                                                                            \n",
       "     X21                X22                X23                X24           \n",
       " Length:286         Length:286         Length:286         Length:286        \n",
       " Class :character   Class :character   Class :character   Class :character  \n",
       " Mode  :character   Mode  :character   Mode  :character   Mode  :character  \n",
       "                                                                            \n",
       "                                                                            \n",
       "                                                                            \n",
       "     X25                X26                X27                X28           \n",
       " Length:286         Length:286         Length:286         Length:286        \n",
       " Class :character   Class :character   Class :character   Class :character  \n",
       " Mode  :character   Mode  :character   Mode  :character   Mode  :character  \n",
       "                                                                            \n",
       "                                                                            \n",
       "                                                                            \n",
       "     X29                X30                X31           \n",
       " Length:286         Length:286         Length:286        \n",
       " Class :character   Class :character   Class :character  \n",
       " Mode  :character   Mode  :character   Mode  :character  \n",
       "                                                         \n",
       "                                                         \n",
       "                                                         "
      ]
     },
     "metadata": {},
     "output_type": "display_data"
    }
   ],
   "source": [
    "summary(weather)\n"
   ]
  },
  {
   "cell_type": "markdown",
   "metadata": {},
   "source": [
    "**Looking at your data**\n",
    "<br>observation are in your rows and variables are in your columns\n",
    "<br>print() lets you see the whole data set (not recommended with large datasets)\n",
    "<br>head() lets you see the first 6 rows\n",
    "<br>tail() lets you see the last 6 rows"
   ]
  },
  {
   "cell_type": "code",
   "execution_count": 10,
   "metadata": {},
   "outputs": [
    {
     "data": {
      "text/html": [
       "<table>\n",
       "<thead><tr><th scope=col>X</th><th scope=col>year</th><th scope=col>month</th><th scope=col>measure</th><th scope=col>X1</th><th scope=col>X2</th><th scope=col>X3</th><th scope=col>X4</th><th scope=col>X5</th><th scope=col>X6</th><th scope=col>...</th><th scope=col>X22</th><th scope=col>X23</th><th scope=col>X24</th><th scope=col>X25</th><th scope=col>X26</th><th scope=col>X27</th><th scope=col>X28</th><th scope=col>X29</th><th scope=col>X30</th><th scope=col>X31</th></tr></thead>\n",
       "<tbody>\n",
       "\t<tr><td>1                </td><td>2014             </td><td>12               </td><td>Max.TemperatureF </td><td>64               </td><td>42               </td><td>51               </td><td>43               </td><td>42               </td><td>45               </td><td>...              </td><td>44               </td><td>47               </td><td>46               </td><td>59               </td><td>50               </td><td>52               </td><td>52               </td><td>41               </td><td>30               </td><td>30               </td></tr>\n",
       "\t<tr><td>2                </td><td>2014             </td><td>12               </td><td>Mean.TemperatureF</td><td>52               </td><td>38               </td><td>44               </td><td>37               </td><td>34               </td><td>42               </td><td>...              </td><td>39               </td><td>45               </td><td>44               </td><td>52               </td><td>44               </td><td>45               </td><td>46               </td><td>36               </td><td>26               </td><td>25               </td></tr>\n",
       "\t<tr><td>3                </td><td>2014             </td><td>12               </td><td>Min.TemperatureF </td><td>39               </td><td>33               </td><td>37               </td><td>30               </td><td>26               </td><td>38               </td><td>...              </td><td>33               </td><td>42               </td><td>41               </td><td>44               </td><td>37               </td><td>38               </td><td>40               </td><td>30               </td><td>22               </td><td>20               </td></tr>\n",
       "\t<tr><td>4                </td><td>2014             </td><td>12               </td><td>Max.Dew.PointF   </td><td>46               </td><td>40               </td><td>49               </td><td>24               </td><td>37               </td><td>45               </td><td>...              </td><td>39               </td><td>45               </td><td>46               </td><td>58               </td><td>31               </td><td>34               </td><td>42               </td><td>26               </td><td>10               </td><td>8                </td></tr>\n",
       "\t<tr><td>5                </td><td>2014             </td><td>12               </td><td>MeanDew.PointF   </td><td>40               </td><td>27               </td><td>42               </td><td>21               </td><td>25               </td><td>40               </td><td>...              </td><td>34               </td><td>42               </td><td>44               </td><td>43               </td><td>29               </td><td>31               </td><td>35               </td><td>20               </td><td>4                </td><td>5                </td></tr>\n",
       "\t<tr><td>6                </td><td>2014             </td><td>12               </td><td>Min.DewpointF    </td><td>26               </td><td>17               </td><td>24               </td><td>13               </td><td>12               </td><td>36               </td><td>...              </td><td>25               </td><td>37               </td><td>41               </td><td>29               </td><td>28               </td><td>29               </td><td>27               </td><td>10               </td><td>-6               </td><td>1                </td></tr>\n",
       "</tbody>\n",
       "</table>\n"
      ],
      "text/latex": [
       "\\begin{tabular}{r|lllllllllllllllllllllllllllllllllll}\n",
       " X & year & month & measure & X1 & X2 & X3 & X4 & X5 & X6 & ... & X22 & X23 & X24 & X25 & X26 & X27 & X28 & X29 & X30 & X31\\\\\n",
       "\\hline\n",
       "\t 1                 & 2014              & 12                & Max.TemperatureF  & 64                & 42                & 51                & 43                & 42                & 45                & ...               & 44                & 47                & 46                & 59                & 50                & 52                & 52                & 41                & 30                & 30               \\\\\n",
       "\t 2                 & 2014              & 12                & Mean.TemperatureF & 52                & 38                & 44                & 37                & 34                & 42                & ...               & 39                & 45                & 44                & 52                & 44                & 45                & 46                & 36                & 26                & 25               \\\\\n",
       "\t 3                 & 2014              & 12                & Min.TemperatureF  & 39                & 33                & 37                & 30                & 26                & 38                & ...               & 33                & 42                & 41                & 44                & 37                & 38                & 40                & 30                & 22                & 20               \\\\\n",
       "\t 4                 & 2014              & 12                & Max.Dew.PointF    & 46                & 40                & 49                & 24                & 37                & 45                & ...               & 39                & 45                & 46                & 58                & 31                & 34                & 42                & 26                & 10                & 8                \\\\\n",
       "\t 5                 & 2014              & 12                & MeanDew.PointF    & 40                & 27                & 42                & 21                & 25                & 40                & ...               & 34                & 42                & 44                & 43                & 29                & 31                & 35                & 20                & 4                 & 5                \\\\\n",
       "\t 6                 & 2014              & 12                & Min.DewpointF     & 26                & 17                & 24                & 13                & 12                & 36                & ...               & 25                & 37                & 41                & 29                & 28                & 29                & 27                & 10                & -6                & 1                \\\\\n",
       "\\end{tabular}\n"
      ],
      "text/markdown": [
       "\n",
       "X | year | month | measure | X1 | X2 | X3 | X4 | X5 | X6 | ... | X22 | X23 | X24 | X25 | X26 | X27 | X28 | X29 | X30 | X31 | \n",
       "|---|---|---|---|---|---|\n",
       "| 1                 | 2014              | 12                | Max.TemperatureF  | 64                | 42                | 51                | 43                | 42                | 45                | ...               | 44                | 47                | 46                | 59                | 50                | 52                | 52                | 41                | 30                | 30                | \n",
       "| 2                 | 2014              | 12                | Mean.TemperatureF | 52                | 38                | 44                | 37                | 34                | 42                | ...               | 39                | 45                | 44                | 52                | 44                | 45                | 46                | 36                | 26                | 25                | \n",
       "| 3                 | 2014              | 12                | Min.TemperatureF  | 39                | 33                | 37                | 30                | 26                | 38                | ...               | 33                | 42                | 41                | 44                | 37                | 38                | 40                | 30                | 22                | 20                | \n",
       "| 4                 | 2014              | 12                | Max.Dew.PointF    | 46                | 40                | 49                | 24                | 37                | 45                | ...               | 39                | 45                | 46                | 58                | 31                | 34                | 42                | 26                | 10                | 8                 | \n",
       "| 5                 | 2014              | 12                | MeanDew.PointF    | 40                | 27                | 42                | 21                | 25                | 40                | ...               | 34                | 42                | 44                | 43                | 29                | 31                | 35                | 20                | 4                 | 5                 | \n",
       "| 6                 | 2014              | 12                | Min.DewpointF     | 26                | 17                | 24                | 13                | 12                | 36                | ...               | 25                | 37                | 41                | 29                | 28                | 29                | 27                | 10                | -6                | 1                 | \n",
       "\n",
       "\n"
      ],
      "text/plain": [
       "  X year month measure           X1 X2 X3 X4 X5 X6 ... X22 X23 X24 X25 X26 X27\n",
       "1 1 2014 12    Max.TemperatureF  64 42 51 43 42 45 ... 44  47  46  59  50  52 \n",
       "2 2 2014 12    Mean.TemperatureF 52 38 44 37 34 42 ... 39  45  44  52  44  45 \n",
       "3 3 2014 12    Min.TemperatureF  39 33 37 30 26 38 ... 33  42  41  44  37  38 \n",
       "4 4 2014 12    Max.Dew.PointF    46 40 49 24 37 45 ... 39  45  46  58  31  34 \n",
       "5 5 2014 12    MeanDew.PointF    40 27 42 21 25 40 ... 34  42  44  43  29  31 \n",
       "6 6 2014 12    Min.DewpointF     26 17 24 13 12 36 ... 25  37  41  29  28  29 \n",
       "  X28 X29 X30 X31\n",
       "1 52  41  30  30 \n",
       "2 46  36  26  25 \n",
       "3 40  30  22  20 \n",
       "4 42  26  10  8  \n",
       "5 35  20  4   5  \n",
       "6 27  10  -6  1  "
      ]
     },
     "metadata": {},
     "output_type": "display_data"
    }
   ],
   "source": [
    "head(weather)"
   ]
  },
  {
   "cell_type": "code",
   "execution_count": 11,
   "metadata": {},
   "outputs": [
    {
     "data": {
      "text/html": [
       "<table>\n",
       "<thead><tr><th></th><th scope=col>X</th><th scope=col>year</th><th scope=col>month</th><th scope=col>measure</th><th scope=col>X1</th><th scope=col>X2</th><th scope=col>X3</th><th scope=col>X4</th><th scope=col>X5</th><th scope=col>X6</th><th scope=col>...</th><th scope=col>X22</th><th scope=col>X23</th><th scope=col>X24</th><th scope=col>X25</th><th scope=col>X26</th><th scope=col>X27</th><th scope=col>X28</th><th scope=col>X29</th><th scope=col>X30</th><th scope=col>X31</th></tr></thead>\n",
       "<tbody>\n",
       "\t<tr><th scope=row>281</th><td>281               </td><td>2015              </td><td>12                </td><td>Mean.Wind.SpeedMPH</td><td>6                 </td><td>NA                </td><td>NA                </td><td>NA                </td><td>NA                </td><td>NA                </td><td>...               </td><td>NA                </td><td>NA                </td><td>NA                </td><td>NA                </td><td>NA                </td><td>NA                </td><td>NA                </td><td>NA                </td><td>NA                </td><td>NA                </td></tr>\n",
       "\t<tr><th scope=row>282</th><td>282               </td><td>2015              </td><td>12                </td><td>Max.Gust.SpeedMPH </td><td>17                </td><td>NA                </td><td>NA                </td><td>NA                </td><td>NA                </td><td>NA                </td><td>...               </td><td>NA                </td><td>NA                </td><td>NA                </td><td>NA                </td><td>NA                </td><td>NA                </td><td>NA                </td><td>NA                </td><td>NA                </td><td>NA                </td></tr>\n",
       "\t<tr><th scope=row>283</th><td>283               </td><td>2015              </td><td>12                </td><td>PrecipitationIn   </td><td>0.14              </td><td>NA                </td><td>NA                </td><td>NA                </td><td>NA                </td><td>NA                </td><td>...               </td><td>NA                </td><td>NA                </td><td>NA                </td><td>NA                </td><td>NA                </td><td>NA                </td><td>NA                </td><td>NA                </td><td>NA                </td><td>NA                </td></tr>\n",
       "\t<tr><th scope=row>284</th><td>284               </td><td>2015              </td><td>12                </td><td>CloudCover        </td><td>7                 </td><td>NA                </td><td>NA                </td><td>NA                </td><td>NA                </td><td>NA                </td><td>...               </td><td>NA                </td><td>NA                </td><td>NA                </td><td>NA                </td><td>NA                </td><td>NA                </td><td>NA                </td><td>NA                </td><td>NA                </td><td>NA                </td></tr>\n",
       "\t<tr><th scope=row>285</th><td>285               </td><td>2015              </td><td>12                </td><td>Events            </td><td>Rain              </td><td>NA                </td><td>NA                </td><td>NA                </td><td>NA                </td><td>NA                </td><td>...               </td><td>NA                </td><td>NA                </td><td>NA                </td><td>NA                </td><td>NA                </td><td>NA                </td><td>NA                </td><td>NA                </td><td>NA                </td><td>NA                </td></tr>\n",
       "\t<tr><th scope=row>286</th><td>286               </td><td>2015              </td><td>12                </td><td>WindDirDegrees    </td><td>109               </td><td>NA                </td><td>NA                </td><td>NA                </td><td>NA                </td><td>NA                </td><td>...               </td><td>NA                </td><td>NA                </td><td>NA                </td><td>NA                </td><td>NA                </td><td>NA                </td><td>NA                </td><td>NA                </td><td>NA                </td><td>NA                </td></tr>\n",
       "</tbody>\n",
       "</table>\n"
      ],
      "text/latex": [
       "\\begin{tabular}{r|lllllllllllllllllllllllllllllllllll}\n",
       "  & X & year & month & measure & X1 & X2 & X3 & X4 & X5 & X6 & ... & X22 & X23 & X24 & X25 & X26 & X27 & X28 & X29 & X30 & X31\\\\\n",
       "\\hline\n",
       "\t281 & 281                & 2015               & 12                 & Mean.Wind.SpeedMPH & 6                  & NA                 & NA                 & NA                 & NA                 & NA                 & ...                & NA                 & NA                 & NA                 & NA                 & NA                 & NA                 & NA                 & NA                 & NA                 & NA                \\\\\n",
       "\t282 & 282                & 2015               & 12                 & Max.Gust.SpeedMPH  & 17                 & NA                 & NA                 & NA                 & NA                 & NA                 & ...                & NA                 & NA                 & NA                 & NA                 & NA                 & NA                 & NA                 & NA                 & NA                 & NA                \\\\\n",
       "\t283 & 283                & 2015               & 12                 & PrecipitationIn    & 0.14               & NA                 & NA                 & NA                 & NA                 & NA                 & ...                & NA                 & NA                 & NA                 & NA                 & NA                 & NA                 & NA                 & NA                 & NA                 & NA                \\\\\n",
       "\t284 & 284                & 2015               & 12                 & CloudCover         & 7                  & NA                 & NA                 & NA                 & NA                 & NA                 & ...                & NA                 & NA                 & NA                 & NA                 & NA                 & NA                 & NA                 & NA                 & NA                 & NA                \\\\\n",
       "\t285 & 285                & 2015               & 12                 & Events             & Rain               & NA                 & NA                 & NA                 & NA                 & NA                 & ...                & NA                 & NA                 & NA                 & NA                 & NA                 & NA                 & NA                 & NA                 & NA                 & NA                \\\\\n",
       "\t286 & 286                & 2015               & 12                 & WindDirDegrees     & 109                & NA                 & NA                 & NA                 & NA                 & NA                 & ...                & NA                 & NA                 & NA                 & NA                 & NA                 & NA                 & NA                 & NA                 & NA                 & NA                \\\\\n",
       "\\end{tabular}\n"
      ],
      "text/markdown": [
       "\n",
       "| <!--/--> | X | year | month | measure | X1 | X2 | X3 | X4 | X5 | X6 | ... | X22 | X23 | X24 | X25 | X26 | X27 | X28 | X29 | X30 | X31 | \n",
       "|---|---|---|---|---|---|\n",
       "| 281 | 281                | 2015               | 12                 | Mean.Wind.SpeedMPH | 6                  | NA                 | NA                 | NA                 | NA                 | NA                 | ...                | NA                 | NA                 | NA                 | NA                 | NA                 | NA                 | NA                 | NA                 | NA                 | NA                 | \n",
       "| 282 | 282                | 2015               | 12                 | Max.Gust.SpeedMPH  | 17                 | NA                 | NA                 | NA                 | NA                 | NA                 | ...                | NA                 | NA                 | NA                 | NA                 | NA                 | NA                 | NA                 | NA                 | NA                 | NA                 | \n",
       "| 283 | 283                | 2015               | 12                 | PrecipitationIn    | 0.14               | NA                 | NA                 | NA                 | NA                 | NA                 | ...                | NA                 | NA                 | NA                 | NA                 | NA                 | NA                 | NA                 | NA                 | NA                 | NA                 | \n",
       "| 284 | 284                | 2015               | 12                 | CloudCover         | 7                  | NA                 | NA                 | NA                 | NA                 | NA                 | ...                | NA                 | NA                 | NA                 | NA                 | NA                 | NA                 | NA                 | NA                 | NA                 | NA                 | \n",
       "| 285 | 285                | 2015               | 12                 | Events             | Rain               | NA                 | NA                 | NA                 | NA                 | NA                 | ...                | NA                 | NA                 | NA                 | NA                 | NA                 | NA                 | NA                 | NA                 | NA                 | NA                 | \n",
       "| 286 | 286                | 2015               | 12                 | WindDirDegrees     | 109                | NA                 | NA                 | NA                 | NA                 | NA                 | ...                | NA                 | NA                 | NA                 | NA                 | NA                 | NA                 | NA                 | NA                 | NA                 | NA                 | \n",
       "\n",
       "\n"
      ],
      "text/plain": [
       "    X   year month measure            X1   X2 X3 X4 X5 X6 ... X22 X23 X24 X25\n",
       "281 281 2015 12    Mean.Wind.SpeedMPH 6    NA NA NA NA NA ... NA  NA  NA  NA \n",
       "282 282 2015 12    Max.Gust.SpeedMPH  17   NA NA NA NA NA ... NA  NA  NA  NA \n",
       "283 283 2015 12    PrecipitationIn    0.14 NA NA NA NA NA ... NA  NA  NA  NA \n",
       "284 284 2015 12    CloudCover         7    NA NA NA NA NA ... NA  NA  NA  NA \n",
       "285 285 2015 12    Events             Rain NA NA NA NA NA ... NA  NA  NA  NA \n",
       "286 286 2015 12    WindDirDegrees     109  NA NA NA NA NA ... NA  NA  NA  NA \n",
       "    X26 X27 X28 X29 X30 X31\n",
       "281 NA  NA  NA  NA  NA  NA \n",
       "282 NA  NA  NA  NA  NA  NA \n",
       "283 NA  NA  NA  NA  NA  NA \n",
       "284 NA  NA  NA  NA  NA  NA \n",
       "285 NA  NA  NA  NA  NA  NA \n",
       "286 NA  NA  NA  NA  NA  NA "
      ]
     },
     "metadata": {},
     "output_type": "display_data"
    }
   ],
   "source": [
    "tail(weather)"
   ]
  },
  {
   "cell_type": "markdown",
   "metadata": {},
   "source": [
    "# Introduction to tidyr"
   ]
  },
  {
   "cell_type": "markdown",
   "metadata": {},
   "source": [
    "## Gathering columns into key-value pairs\n",
    "gather() used when columns that are not variables and you want to collapse them into key-value pairs.\n",
    "It makes wide datasets long\n",
    "\n",
    "gather(data, key, value,...)\n",
    "<br>gather(df, time, val, t1:t3)\n",
    "<br>the : operator allows to select multiple columns to be gathered"
   ]
  },
  {
   "cell_type": "code",
   "execution_count": 12,
   "metadata": {},
   "outputs": [
    {
     "data": {
      "text/html": [
       "<table>\n",
       "<thead><tr><th scope=col>X</th><th scope=col>year</th><th scope=col>month</th><th scope=col>measure</th><th scope=col>day</th><th scope=col>value</th></tr></thead>\n",
       "<tbody>\n",
       "\t<tr><td>1                </td><td>2014             </td><td>12               </td><td>Max.TemperatureF </td><td>X1               </td><td>64               </td></tr>\n",
       "\t<tr><td>2                </td><td>2014             </td><td>12               </td><td>Mean.TemperatureF</td><td>X1               </td><td>52               </td></tr>\n",
       "\t<tr><td>3                </td><td>2014             </td><td>12               </td><td>Min.TemperatureF </td><td>X1               </td><td>39               </td></tr>\n",
       "\t<tr><td>4                </td><td>2014             </td><td>12               </td><td>Max.Dew.PointF   </td><td>X1               </td><td>46               </td></tr>\n",
       "\t<tr><td>5                </td><td>2014             </td><td>12               </td><td>MeanDew.PointF   </td><td>X1               </td><td>40               </td></tr>\n",
       "\t<tr><td>6                </td><td>2014             </td><td>12               </td><td>Min.DewpointF    </td><td>X1               </td><td>26               </td></tr>\n",
       "</tbody>\n",
       "</table>\n"
      ],
      "text/latex": [
       "\\begin{tabular}{r|llllll}\n",
       " X & year & month & measure & day & value\\\\\n",
       "\\hline\n",
       "\t 1                 & 2014              & 12                & Max.TemperatureF  & X1                & 64               \\\\\n",
       "\t 2                 & 2014              & 12                & Mean.TemperatureF & X1                & 52               \\\\\n",
       "\t 3                 & 2014              & 12                & Min.TemperatureF  & X1                & 39               \\\\\n",
       "\t 4                 & 2014              & 12                & Max.Dew.PointF    & X1                & 46               \\\\\n",
       "\t 5                 & 2014              & 12                & MeanDew.PointF    & X1                & 40               \\\\\n",
       "\t 6                 & 2014              & 12                & Min.DewpointF     & X1                & 26               \\\\\n",
       "\\end{tabular}\n"
      ],
      "text/markdown": [
       "\n",
       "X | year | month | measure | day | value | \n",
       "|---|---|---|---|---|---|\n",
       "| 1                 | 2014              | 12                | Max.TemperatureF  | X1                | 64                | \n",
       "| 2                 | 2014              | 12                | Mean.TemperatureF | X1                | 52                | \n",
       "| 3                 | 2014              | 12                | Min.TemperatureF  | X1                | 39                | \n",
       "| 4                 | 2014              | 12                | Max.Dew.PointF    | X1                | 46                | \n",
       "| 5                 | 2014              | 12                | MeanDew.PointF    | X1                | 40                | \n",
       "| 6                 | 2014              | 12                | Min.DewpointF     | X1                | 26                | \n",
       "\n",
       "\n"
      ],
      "text/plain": [
       "  X year month measure           day value\n",
       "1 1 2014 12    Max.TemperatureF  X1  64   \n",
       "2 2 2014 12    Mean.TemperatureF X1  52   \n",
       "3 3 2014 12    Min.TemperatureF  X1  39   \n",
       "4 4 2014 12    Max.Dew.PointF    X1  46   \n",
       "5 5 2014 12    MeanDew.PointF    X1  40   \n",
       "6 6 2014 12    Min.DewpointF     X1  26   "
      ]
     },
     "metadata": {},
     "output_type": "display_data"
    },
    {
     "data": {
      "text/plain": [
       "       X            year          month         measure         \n",
       " Min.   :  1   Min.   :2014   Min.   : 1.00   Length:8046       \n",
       " 1st Qu.: 68   1st Qu.:2015   1st Qu.: 4.00   Class :character  \n",
       " Median :133   Median :2015   Median : 7.00   Mode  :character  \n",
       " Mean   :133   Mean   :2015   Mean   : 6.54                     \n",
       " 3rd Qu.:199   3rd Qu.:2015   3rd Qu.:10.00                     \n",
       " Max.   :286   Max.   :2015   Max.   :12.00                     \n",
       "     day               value          \n",
       " Length:8046        Length:8046       \n",
       " Class :character   Class :character  \n",
       " Mode  :character   Mode  :character  \n",
       "                                      \n",
       "                                      \n",
       "                                      "
      ]
     },
     "metadata": {},
     "output_type": "display_data"
    }
   ],
   "source": [
    "# Column names are values\n",
    "# The weather dataset has the days in the column which you want to be a value\n",
    "\n",
    "library(tidyr)\n",
    "weather2 <- gather(weather, key = day , value, X1:X31, na.rm = TRUE)\n",
    "\n",
    "# View the head\n",
    "head(weather2)\n",
    "summary(weather2)"
   ]
  },
  {
   "cell_type": "markdown",
   "metadata": {},
   "source": [
    "## Spreading key-value pairs into columns\n",
    "spread() opposite of gather, takes key-values pairs and spreads them across multiple columns. This is useful when values in a column should actually be column names (variables). Can make the data more compact and easier to read. It makes long datasets wide\n",
    "\n",
    "spread(data, key, value, ...)"
   ]
  },
  {
   "cell_type": "code",
   "execution_count": 13,
   "metadata": {},
   "outputs": [
    {
     "data": {
      "text/html": [
       "<table>\n",
       "<thead><tr><th scope=col>year</th><th scope=col>month</th><th scope=col>day</th><th scope=col>CloudCover</th><th scope=col>Events</th><th scope=col>Max.Dew.PointF</th><th scope=col>Max.Gust.SpeedMPH</th><th scope=col>Max.Humidity</th><th scope=col>Max.Sea.Level.PressureIn</th><th scope=col>Max.TemperatureF</th><th scope=col>...</th><th scope=col>Mean.VisibilityMiles</th><th scope=col>Mean.Wind.SpeedMPH</th><th scope=col>MeanDew.PointF</th><th scope=col>Min.DewpointF</th><th scope=col>Min.Humidity</th><th scope=col>Min.Sea.Level.PressureIn</th><th scope=col>Min.TemperatureF</th><th scope=col>Min.VisibilityMiles</th><th scope=col>PrecipitationIn</th><th scope=col>WindDirDegrees</th></tr></thead>\n",
       "<tbody>\n",
       "\t<tr><td>2014     </td><td>12       </td><td>X1       </td><td>6        </td><td>Rain     </td><td>46       </td><td>29       </td><td>74       </td><td>30.45    </td><td>64       </td><td>...      </td><td>10       </td><td>13       </td><td>40       </td><td>26       </td><td>52       </td><td>30.01    </td><td>39       </td><td>10       </td><td>0.01     </td><td>268      </td></tr>\n",
       "\t<tr><td>2014     </td><td>12       </td><td>X10      </td><td>8        </td><td>Rain     </td><td>45       </td><td>29       </td><td>100      </td><td>29.58    </td><td>48       </td><td>...      </td><td>3        </td><td>13       </td><td>39       </td><td>37       </td><td>89       </td><td>29.43    </td><td>38       </td><td>1        </td><td>0.28     </td><td>357      </td></tr>\n",
       "\t<tr><td>2014     </td><td>12       </td><td>X11      </td><td>8        </td><td>Rain-Snow</td><td>37       </td><td>28       </td><td>92       </td><td>29.81    </td><td>39       </td><td>...      </td><td>7        </td><td>13       </td><td>31       </td><td>27       </td><td>82       </td><td>29.44    </td><td>32       </td><td>1        </td><td>0.02     </td><td>230      </td></tr>\n",
       "\t<tr><td>2014     </td><td>12       </td><td>X12      </td><td>7        </td><td>Snow     </td><td>28       </td><td>21       </td><td>85       </td><td>29.88    </td><td>39       </td><td>...      </td><td>10       </td><td>11       </td><td>27       </td><td>25       </td><td>64       </td><td>29.81    </td><td>31       </td><td>7        </td><td>T        </td><td>286      </td></tr>\n",
       "\t<tr><td>2014     </td><td>12       </td><td>X13      </td><td>5        </td><td>         </td><td>28       </td><td>23       </td><td>75       </td><td>29.86    </td><td>42       </td><td>...      </td><td>10       </td><td>12       </td><td>26       </td><td>24       </td><td>55       </td><td>29.78    </td><td>32       </td><td>10       </td><td>T        </td><td>298      </td></tr>\n",
       "\t<tr><td>2014     </td><td>12       </td><td>X14      </td><td>4        </td><td>         </td><td>29       </td><td>20       </td><td>82       </td><td>29.91    </td><td>45       </td><td>...      </td><td>10       </td><td>10       </td><td>27       </td><td>25       </td><td>53       </td><td>29.78    </td><td>33       </td><td>10       </td><td>0.00     </td><td>306      </td></tr>\n",
       "</tbody>\n",
       "</table>\n"
      ],
      "text/latex": [
       "\\begin{tabular}{r|lllllllllllllllllllllllll}\n",
       " year & month & day & CloudCover & Events & Max.Dew.PointF & Max.Gust.SpeedMPH & Max.Humidity & Max.Sea.Level.PressureIn & Max.TemperatureF & ... & Mean.VisibilityMiles & Mean.Wind.SpeedMPH & MeanDew.PointF & Min.DewpointF & Min.Humidity & Min.Sea.Level.PressureIn & Min.TemperatureF & Min.VisibilityMiles & PrecipitationIn & WindDirDegrees\\\\\n",
       "\\hline\n",
       "\t 2014      & 12        & X1        & 6         & Rain      & 46        & 29        & 74        & 30.45     & 64        & ...       & 10        & 13        & 40        & 26        & 52        & 30.01     & 39        & 10        & 0.01      & 268      \\\\\n",
       "\t 2014      & 12        & X10       & 8         & Rain      & 45        & 29        & 100       & 29.58     & 48        & ...       & 3         & 13        & 39        & 37        & 89        & 29.43     & 38        & 1         & 0.28      & 357      \\\\\n",
       "\t 2014      & 12        & X11       & 8         & Rain-Snow & 37        & 28        & 92        & 29.81     & 39        & ...       & 7         & 13        & 31        & 27        & 82        & 29.44     & 32        & 1         & 0.02      & 230      \\\\\n",
       "\t 2014      & 12        & X12       & 7         & Snow      & 28        & 21        & 85        & 29.88     & 39        & ...       & 10        & 11        & 27        & 25        & 64        & 29.81     & 31        & 7         & T         & 286      \\\\\n",
       "\t 2014      & 12        & X13       & 5         &           & 28        & 23        & 75        & 29.86     & 42        & ...       & 10        & 12        & 26        & 24        & 55        & 29.78     & 32        & 10        & T         & 298      \\\\\n",
       "\t 2014      & 12        & X14       & 4         &           & 29        & 20        & 82        & 29.91     & 45        & ...       & 10        & 10        & 27        & 25        & 53        & 29.78     & 33        & 10        & 0.00      & 306      \\\\\n",
       "\\end{tabular}\n"
      ],
      "text/markdown": [
       "\n",
       "year | month | day | CloudCover | Events | Max.Dew.PointF | Max.Gust.SpeedMPH | Max.Humidity | Max.Sea.Level.PressureIn | Max.TemperatureF | ... | Mean.VisibilityMiles | Mean.Wind.SpeedMPH | MeanDew.PointF | Min.DewpointF | Min.Humidity | Min.Sea.Level.PressureIn | Min.TemperatureF | Min.VisibilityMiles | PrecipitationIn | WindDirDegrees | \n",
       "|---|---|---|---|---|---|\n",
       "| 2014      | 12        | X1        | 6         | Rain      | 46        | 29        | 74        | 30.45     | 64        | ...       | 10        | 13        | 40        | 26        | 52        | 30.01     | 39        | 10        | 0.01      | 268       | \n",
       "| 2014      | 12        | X10       | 8         | Rain      | 45        | 29        | 100       | 29.58     | 48        | ...       | 3         | 13        | 39        | 37        | 89        | 29.43     | 38        | 1         | 0.28      | 357       | \n",
       "| 2014      | 12        | X11       | 8         | Rain-Snow | 37        | 28        | 92        | 29.81     | 39        | ...       | 7         | 13        | 31        | 27        | 82        | 29.44     | 32        | 1         | 0.02      | 230       | \n",
       "| 2014      | 12        | X12       | 7         | Snow      | 28        | 21        | 85        | 29.88     | 39        | ...       | 10        | 11        | 27        | 25        | 64        | 29.81     | 31        | 7         | T         | 286       | \n",
       "| 2014      | 12        | X13       | 5         |           | 28        | 23        | 75        | 29.86     | 42        | ...       | 10        | 12        | 26        | 24        | 55        | 29.78     | 32        | 10        | T         | 298       | \n",
       "| 2014      | 12        | X14       | 4         |           | 29        | 20        | 82        | 29.91     | 45        | ...       | 10        | 10        | 27        | 25        | 53        | 29.78     | 33        | 10        | 0.00      | 306       | \n",
       "\n",
       "\n"
      ],
      "text/plain": [
       "  year month day CloudCover Events    Max.Dew.PointF Max.Gust.SpeedMPH\n",
       "1 2014 12    X1  6          Rain      46             29               \n",
       "2 2014 12    X10 8          Rain      45             29               \n",
       "3 2014 12    X11 8          Rain-Snow 37             28               \n",
       "4 2014 12    X12 7          Snow      28             21               \n",
       "5 2014 12    X13 5                    28             23               \n",
       "6 2014 12    X14 4                    29             20               \n",
       "  Max.Humidity Max.Sea.Level.PressureIn Max.TemperatureF ...\n",
       "1 74           30.45                    64               ...\n",
       "2 100          29.58                    48               ...\n",
       "3 92           29.81                    39               ...\n",
       "4 85           29.88                    39               ...\n",
       "5 75           29.86                    42               ...\n",
       "6 82           29.91                    45               ...\n",
       "  Mean.VisibilityMiles Mean.Wind.SpeedMPH MeanDew.PointF Min.DewpointF\n",
       "1 10                   13                 40             26           \n",
       "2 3                    13                 39             37           \n",
       "3 7                    13                 31             27           \n",
       "4 10                   11                 27             25           \n",
       "5 10                   12                 26             24           \n",
       "6 10                   10                 27             25           \n",
       "  Min.Humidity Min.Sea.Level.PressureIn Min.TemperatureF Min.VisibilityMiles\n",
       "1 52           30.01                    39               10                 \n",
       "2 89           29.43                    38               1                  \n",
       "3 82           29.44                    32               1                  \n",
       "4 64           29.81                    31               7                  \n",
       "5 55           29.78                    32               10                 \n",
       "6 53           29.78                    33               10                 \n",
       "  PrecipitationIn WindDirDegrees\n",
       "1 0.01            268           \n",
       "2 0.28            357           \n",
       "3 0.02            230           \n",
       "4 T               286           \n",
       "5 T               298           \n",
       "6 0.00            306           "
      ]
     },
     "metadata": {},
     "output_type": "display_data"
    }
   ],
   "source": [
    "# Values are variable names \n",
    "# The measure column should be variables\n",
    "# also first column is not needed \n",
    "\n",
    "# First remove column of row names\n",
    "without_x <- weather2[, -1]\n",
    "\n",
    "# Spread the data\n",
    "weather3 <- spread(without_x, key = measure , value)\n",
    "\n",
    "# View the head\n",
    "head(weather3)"
   ]
  },
  {
   "cell_type": "markdown",
   "metadata": {},
   "source": [
    "## Separate columns\n",
    "separates one column into multiple columns. It will separate the column on any character that is not a letter or number as its default. To specify the separation you can use sep\n",
    "\n",
    "seperate(data, col, into, ...)\n",
    "\n",
    "        data: data frame\n",
    "        col: bare naem of column to separate\n",
    "        into: character vector of new column names\n",
    "        sep = \"-\""
   ]
  },
  {
   "cell_type": "markdown",
   "metadata": {},
   "source": [
    "## Unite columns\n",
    "unite(data, col, ...)\n",
    "\n",
    "        data: a data frame\n",
    "        col: bare name of new column\n",
    "        ...: bare names of columns to unite\n",
    "        \"_\": is the default connection\n"
   ]
  },
  {
   "cell_type": "markdown",
   "metadata": {},
   "source": [
    "**visualization of the data**\n",
    "<br>are useful to quickly identifying extreme or suspicious values.\n",
    "<br>histogram (hist()) and scatterplot (plot) are especially useful for this."
   ]
  },
  {
   "cell_type": "markdown",
   "metadata": {},
   "source": [
    "# String manipulation\n",
    "## Finding and replacing strings"
   ]
  },
  {
   "cell_type": "markdown",
   "metadata": {},
   "source": [
    "Like all functions in stringr the first argument of each is the string of interest.\n",
    "<br>The second argument is the pattern of interest"
   ]
  },
  {
   "cell_type": "code",
   "execution_count": 34,
   "metadata": {},
   "outputs": [
    {
     "data": {
      "text/html": [
       "<ol class=list-inline>\n",
       "\t<li>TRUE</li>\n",
       "\t<li>FALSE</li>\n",
       "</ol>\n"
      ],
      "text/latex": [
       "\\begin{enumerate*}\n",
       "\\item TRUE\n",
       "\\item FALSE\n",
       "\\end{enumerate*}\n"
      ],
      "text/markdown": [
       "1. TRUE\n",
       "2. FALSE\n",
       "\n",
       "\n"
      ],
      "text/plain": [
       "[1]  TRUE FALSE"
      ]
     },
     "metadata": {},
     "output_type": "display_data"
    }
   ],
   "source": [
    "library(stringr)\n",
    "str_detect(c(\"banana\", \"kiwi\"), \"a\")"
   ]
  },
  {
   "cell_type": "code",
   "execution_count": 35,
   "metadata": {},
   "outputs": [
    {
     "data": {
      "text/html": [
       "<ol class=list-inline>\n",
       "\t<li>'bonana'</li>\n",
       "\t<li>'kiwi'</li>\n",
       "</ol>\n"
      ],
      "text/latex": [
       "\\begin{enumerate*}\n",
       "\\item 'bonana'\n",
       "\\item 'kiwi'\n",
       "\\end{enumerate*}\n"
      ],
      "text/markdown": [
       "1. 'bonana'\n",
       "2. 'kiwi'\n",
       "\n",
       "\n"
      ],
      "text/plain": [
       "[1] \"bonana\" \"kiwi\"  "
      ]
     },
     "metadata": {},
     "output_type": "display_data"
    }
   ],
   "source": [
    "str_replace(c(\"banana\", \"kiwi\"), \"a\", \"o\")"
   ]
  },
  {
   "cell_type": "code",
   "execution_count": 36,
   "metadata": {},
   "outputs": [
    {
     "data": {
      "text/html": [
       "<table>\n",
       "<thead><tr><th scope=col>date</th><th scope=col>CloudCover</th><th scope=col>Events</th><th scope=col>Max.Dew.PointF</th><th scope=col>Max.Gust.SpeedMPH</th><th scope=col>Max.Humidity</th><th scope=col>Max.Sea.Level.PressureIn</th><th scope=col>Max.TemperatureF</th><th scope=col>Max.VisibilityMiles</th><th scope=col>Max.Wind.SpeedMPH</th><th scope=col>...</th><th scope=col>Mean.VisibilityMiles</th><th scope=col>Mean.Wind.SpeedMPH</th><th scope=col>MeanDew.PointF</th><th scope=col>Min.DewpointF</th><th scope=col>Min.Humidity</th><th scope=col>Min.Sea.Level.PressureIn</th><th scope=col>Min.TemperatureF</th><th scope=col>Min.VisibilityMiles</th><th scope=col>PrecipitationIn</th><th scope=col>WindDirDegrees</th></tr></thead>\n",
       "<tbody>\n",
       "\t<tr><td>2014-12-1 </td><td>6         </td><td>Rain      </td><td>46        </td><td>29        </td><td>74        </td><td>30.45     </td><td>64        </td><td>10        </td><td>22        </td><td>...       </td><td>10        </td><td>13        </td><td>40        </td><td>26        </td><td>52        </td><td>30.01     </td><td>39        </td><td>10        </td><td>0.01      </td><td>268       </td></tr>\n",
       "\t<tr><td>2014-12-10</td><td>8         </td><td>Rain      </td><td>45        </td><td>29        </td><td>100       </td><td>29.58     </td><td>48        </td><td>10        </td><td>23        </td><td>...       </td><td>3         </td><td>13        </td><td>39        </td><td>37        </td><td>89        </td><td>29.43     </td><td>38        </td><td>1         </td><td>0.28      </td><td>357       </td></tr>\n",
       "\t<tr><td>2014-12-11</td><td>8         </td><td>Rain-Snow </td><td>37        </td><td>28        </td><td>92        </td><td>29.81     </td><td>39        </td><td>10        </td><td>21        </td><td>...       </td><td>7         </td><td>13        </td><td>31        </td><td>27        </td><td>82        </td><td>29.44     </td><td>32        </td><td>1         </td><td>0.02      </td><td>230       </td></tr>\n",
       "\t<tr><td>2014-12-12</td><td>7         </td><td>Snow      </td><td>28        </td><td>21        </td><td>85        </td><td>29.88     </td><td>39        </td><td>10        </td><td>16        </td><td>...       </td><td>10        </td><td>11        </td><td>27        </td><td>25        </td><td>64        </td><td>29.81     </td><td>31        </td><td>7         </td><td>T         </td><td>286       </td></tr>\n",
       "\t<tr><td>2014-12-13</td><td>5         </td><td>          </td><td>28        </td><td>23        </td><td>75        </td><td>29.86     </td><td>42        </td><td>10        </td><td>17        </td><td>...       </td><td>10        </td><td>12        </td><td>26        </td><td>24        </td><td>55        </td><td>29.78     </td><td>32        </td><td>10        </td><td>T         </td><td>298       </td></tr>\n",
       "\t<tr><td>2014-12-14</td><td>4         </td><td>          </td><td>29        </td><td>20        </td><td>82        </td><td>29.91     </td><td>45        </td><td>10        </td><td>15        </td><td>...       </td><td>10        </td><td>10        </td><td>27        </td><td>25        </td><td>53        </td><td>29.78     </td><td>33        </td><td>10        </td><td>0.00      </td><td>306       </td></tr>\n",
       "</tbody>\n",
       "</table>\n"
      ],
      "text/latex": [
       "\\begin{tabular}{r|lllllllllllllllllllllll}\n",
       " date & CloudCover & Events & Max.Dew.PointF & Max.Gust.SpeedMPH & Max.Humidity & Max.Sea.Level.PressureIn & Max.TemperatureF & Max.VisibilityMiles & Max.Wind.SpeedMPH & ... & Mean.VisibilityMiles & Mean.Wind.SpeedMPH & MeanDew.PointF & Min.DewpointF & Min.Humidity & Min.Sea.Level.PressureIn & Min.TemperatureF & Min.VisibilityMiles & PrecipitationIn & WindDirDegrees\\\\\n",
       "\\hline\n",
       "\t 2014-12-1  & 6          & Rain       & 46         & 29         & 74         & 30.45      & 64         & 10         & 22         & ...        & 10         & 13         & 40         & 26         & 52         & 30.01      & 39         & 10         & 0.01       & 268       \\\\\n",
       "\t 2014-12-10 & 8          & Rain       & 45         & 29         & 100        & 29.58      & 48         & 10         & 23         & ...        & 3          & 13         & 39         & 37         & 89         & 29.43      & 38         & 1          & 0.28       & 357       \\\\\n",
       "\t 2014-12-11 & 8          & Rain-Snow  & 37         & 28         & 92         & 29.81      & 39         & 10         & 21         & ...        & 7          & 13         & 31         & 27         & 82         & 29.44      & 32         & 1          & 0.02       & 230       \\\\\n",
       "\t 2014-12-12 & 7          & Snow       & 28         & 21         & 85         & 29.88      & 39         & 10         & 16         & ...        & 10         & 11         & 27         & 25         & 64         & 29.81      & 31         & 7          & T          & 286       \\\\\n",
       "\t 2014-12-13 & 5          &            & 28         & 23         & 75         & 29.86      & 42         & 10         & 17         & ...        & 10         & 12         & 26         & 24         & 55         & 29.78      & 32         & 10         & T          & 298       \\\\\n",
       "\t 2014-12-14 & 4          &            & 29         & 20         & 82         & 29.91      & 45         & 10         & 15         & ...        & 10         & 10         & 27         & 25         & 53         & 29.78      & 33         & 10         & 0.00       & 306       \\\\\n",
       "\\end{tabular}\n"
      ],
      "text/markdown": [
       "\n",
       "date | CloudCover | Events | Max.Dew.PointF | Max.Gust.SpeedMPH | Max.Humidity | Max.Sea.Level.PressureIn | Max.TemperatureF | Max.VisibilityMiles | Max.Wind.SpeedMPH | ... | Mean.VisibilityMiles | Mean.Wind.SpeedMPH | MeanDew.PointF | Min.DewpointF | Min.Humidity | Min.Sea.Level.PressureIn | Min.TemperatureF | Min.VisibilityMiles | PrecipitationIn | WindDirDegrees | \n",
       "|---|---|---|---|---|---|\n",
       "| 2014-12-1  | 6          | Rain       | 46         | 29         | 74         | 30.45      | 64         | 10         | 22         | ...        | 10         | 13         | 40         | 26         | 52         | 30.01      | 39         | 10         | 0.01       | 268        | \n",
       "| 2014-12-10 | 8          | Rain       | 45         | 29         | 100        | 29.58      | 48         | 10         | 23         | ...        | 3          | 13         | 39         | 37         | 89         | 29.43      | 38         | 1          | 0.28       | 357        | \n",
       "| 2014-12-11 | 8          | Rain-Snow  | 37         | 28         | 92         | 29.81      | 39         | 10         | 21         | ...        | 7          | 13         | 31         | 27         | 82         | 29.44      | 32         | 1          | 0.02       | 230        | \n",
       "| 2014-12-12 | 7          | Snow       | 28         | 21         | 85         | 29.88      | 39         | 10         | 16         | ...        | 10         | 11         | 27         | 25         | 64         | 29.81      | 31         | 7          | T          | 286        | \n",
       "| 2014-12-13 | 5          |            | 28         | 23         | 75         | 29.86      | 42         | 10         | 17         | ...        | 10         | 12         | 26         | 24         | 55         | 29.78      | 32         | 10         | T          | 298        | \n",
       "| 2014-12-14 | 4          |            | 29         | 20         | 82         | 29.91      | 45         | 10         | 15         | ...        | 10         | 10         | 27         | 25         | 53         | 29.78      | 33         | 10         | 0.00       | 306        | \n",
       "\n",
       "\n"
      ],
      "text/plain": [
       "  date       CloudCover Events    Max.Dew.PointF Max.Gust.SpeedMPH Max.Humidity\n",
       "1 2014-12-1  6          Rain      46             29                74          \n",
       "2 2014-12-10 8          Rain      45             29                100         \n",
       "3 2014-12-11 8          Rain-Snow 37             28                92          \n",
       "4 2014-12-12 7          Snow      28             21                85          \n",
       "5 2014-12-13 5                    28             23                75          \n",
       "6 2014-12-14 4                    29             20                82          \n",
       "  Max.Sea.Level.PressureIn Max.TemperatureF Max.VisibilityMiles\n",
       "1 30.45                    64               10                 \n",
       "2 29.58                    48               10                 \n",
       "3 29.81                    39               10                 \n",
       "4 29.88                    39               10                 \n",
       "5 29.86                    42               10                 \n",
       "6 29.91                    45               10                 \n",
       "  Max.Wind.SpeedMPH ... Mean.VisibilityMiles Mean.Wind.SpeedMPH MeanDew.PointF\n",
       "1 22                ... 10                   13                 40            \n",
       "2 23                ... 3                    13                 39            \n",
       "3 21                ... 7                    13                 31            \n",
       "4 16                ... 10                   11                 27            \n",
       "5 17                ... 10                   12                 26            \n",
       "6 15                ... 10                   10                 27            \n",
       "  Min.DewpointF Min.Humidity Min.Sea.Level.PressureIn Min.TemperatureF\n",
       "1 26            52           30.01                    39              \n",
       "2 37            89           29.43                    38              \n",
       "3 27            82           29.44                    32              \n",
       "4 25            64           29.81                    31              \n",
       "5 24            55           29.78                    32              \n",
       "6 25            53           29.78                    33              \n",
       "  Min.VisibilityMiles PrecipitationIn WindDirDegrees\n",
       "1 10                  0.01            268           \n",
       "2 1                   0.28            357           \n",
       "3 1                   0.02            230           \n",
       "4 7                   T               286           \n",
       "5 10                  T               298           \n",
       "6 10                  0.00            306           "
      ]
     },
     "metadata": {},
     "output_type": "display_data"
    }
   ],
   "source": [
    "# Remove X's from day column\n",
    "weather3$day <- str_replace(weather3$day, \"X\", \"\")\n",
    "\n",
    "# Unite the year, month, and day columns with the unite function from above tidyr package\n",
    "weather4 <- unite(weather3, date, year, month, day, sep = \"-\")\n",
    "\n",
    "head(weather4)"
   ]
  },
  {
   "cell_type": "markdown",
   "metadata": {},
   "source": [
    "## Trimming and padding strings\n",
    "Common issue is removing leading or trailing white space\n",
    "<br>str_trim()"
   ]
  },
  {
   "cell_type": "code",
   "execution_count": 37,
   "metadata": {},
   "outputs": [
    {
     "data": {
      "text/html": [
       "'this is a test'"
      ],
      "text/latex": [
       "'this is a test'"
      ],
      "text/markdown": [
       "'this is a test'"
      ],
      "text/plain": [
       "[1] \"this is a test\""
      ]
     },
     "metadata": {},
     "output_type": "display_data"
    }
   ],
   "source": [
    "library(stringr)\n",
    "str_trim(\"  this is a test     \")"
   ]
  },
  {
   "cell_type": "markdown",
   "metadata": {},
   "source": [
    "Another issue is when you need to pad strings to make them a certian number of character wide. Example woulde be employee ID which sometimes start with some zeroes. These could have been lost during the uploading process"
   ]
  },
  {
   "cell_type": "code",
   "execution_count": 38,
   "metadata": {},
   "outputs": [
    {
     "data": {
      "text/html": [
       "'0024493'"
      ],
      "text/latex": [
       "'0024493'"
      ],
      "text/markdown": [
       "'0024493'"
      ],
      "text/plain": [
       "[1] \"0024493\""
      ]
     },
     "metadata": {},
     "output_type": "display_data"
    }
   ],
   "source": [
    "str_pad(\"24493\", width = 7, side = \"left\", pad = \"0\")"
   ]
  },
  {
   "cell_type": "markdown",
   "metadata": {},
   "source": [
    "## Dates with lubridate"
   ]
  },
  {
   "cell_type": "code",
   "execution_count": 39,
   "metadata": {},
   "outputs": [],
   "source": [
    "library(lubridate)"
   ]
  },
  {
   "cell_type": "markdown",
   "metadata": {},
   "source": [
    "The letters y, m, d, h, m, s, which stand for year, month, day, hour, minute, and second, respectively"
   ]
  },
  {
   "cell_type": "code",
   "execution_count": 40,
   "metadata": {},
   "outputs": [
    {
     "data": {
      "text/html": [
       "<time datetime=\"2015-09-17\">2015-09-17</time>"
      ],
      "text/latex": [
       "2015-09-17"
      ],
      "text/markdown": [
       "2015-09-17"
      ],
      "text/plain": [
       "[1] \"2015-09-17\""
      ]
     },
     "metadata": {},
     "output_type": "display_data"
    },
    {
     "data": {
      "text/plain": [
       "[1] \"2012-07-15 12:56:00 UTC\""
      ]
     },
     "metadata": {},
     "output_type": "display_data"
    }
   ],
   "source": [
    "# Parse as date\n",
    "dmy(\"17 Sep 2015\")\n",
    "\n",
    "# Parse as date and time (with no seconds!)\n",
    "mdy_hm(\"July 15, 2012 12:56\")"
   ]
  },
  {
   "cell_type": "code",
   "execution_count": 41,
   "metadata": {},
   "outputs": [
    {
     "data": {
      "text/html": [
       "<table>\n",
       "<thead><tr><th scope=col>date</th><th scope=col>Events</th><th scope=col>CloudCover</th><th scope=col>Max.Dew.PointF</th><th scope=col>Max.Gust.SpeedMPH</th><th scope=col>Max.Humidity</th><th scope=col>Max.Sea.Level.PressureIn</th><th scope=col>Max.TemperatureF</th><th scope=col>Max.VisibilityMiles</th><th scope=col>Max.Wind.SpeedMPH</th><th scope=col>...</th><th scope=col>Mean.VisibilityMiles</th><th scope=col>Mean.Wind.SpeedMPH</th><th scope=col>MeanDew.PointF</th><th scope=col>Min.DewpointF</th><th scope=col>Min.Humidity</th><th scope=col>Min.Sea.Level.PressureIn</th><th scope=col>Min.TemperatureF</th><th scope=col>Min.VisibilityMiles</th><th scope=col>PrecipitationIn</th><th scope=col>WindDirDegrees</th></tr></thead>\n",
       "<tbody>\n",
       "\t<tr><td>2014-12-01</td><td>Rain      </td><td>6         </td><td>46        </td><td>29        </td><td>74        </td><td>30.45     </td><td>64        </td><td>10        </td><td>22        </td><td>...       </td><td>10        </td><td>13        </td><td>40        </td><td>26        </td><td>52        </td><td>30.01     </td><td>39        </td><td>10        </td><td>0.01      </td><td>268       </td></tr>\n",
       "\t<tr><td>2014-12-10</td><td>Rain      </td><td>8         </td><td>45        </td><td>29        </td><td>100       </td><td>29.58     </td><td>48        </td><td>10        </td><td>23        </td><td>...       </td><td>3         </td><td>13        </td><td>39        </td><td>37        </td><td>89        </td><td>29.43     </td><td>38        </td><td>1         </td><td>0.28      </td><td>357       </td></tr>\n",
       "\t<tr><td>2014-12-11</td><td>Rain-Snow </td><td>8         </td><td>37        </td><td>28        </td><td>92        </td><td>29.81     </td><td>39        </td><td>10        </td><td>21        </td><td>...       </td><td>7         </td><td>13        </td><td>31        </td><td>27        </td><td>82        </td><td>29.44     </td><td>32        </td><td>1         </td><td>0.02      </td><td>230       </td></tr>\n",
       "\t<tr><td>2014-12-12</td><td>Snow      </td><td>7         </td><td>28        </td><td>21        </td><td>85        </td><td>29.88     </td><td>39        </td><td>10        </td><td>16        </td><td>...       </td><td>10        </td><td>11        </td><td>27        </td><td>25        </td><td>64        </td><td>29.81     </td><td>31        </td><td>7         </td><td>T         </td><td>286       </td></tr>\n",
       "\t<tr><td>2014-12-13</td><td>          </td><td>5         </td><td>28        </td><td>23        </td><td>75        </td><td>29.86     </td><td>42        </td><td>10        </td><td>17        </td><td>...       </td><td>10        </td><td>12        </td><td>26        </td><td>24        </td><td>55        </td><td>29.78     </td><td>32        </td><td>10        </td><td>T         </td><td>298       </td></tr>\n",
       "\t<tr><td>2014-12-14</td><td>          </td><td>4         </td><td>29        </td><td>20        </td><td>82        </td><td>29.91     </td><td>45        </td><td>10        </td><td>15        </td><td>...       </td><td>10        </td><td>10        </td><td>27        </td><td>25        </td><td>53        </td><td>29.78     </td><td>33        </td><td>10        </td><td>0.00      </td><td>306       </td></tr>\n",
       "</tbody>\n",
       "</table>\n"
      ],
      "text/latex": [
       "\\begin{tabular}{r|lllllllllllllllllllllll}\n",
       " date & Events & CloudCover & Max.Dew.PointF & Max.Gust.SpeedMPH & Max.Humidity & Max.Sea.Level.PressureIn & Max.TemperatureF & Max.VisibilityMiles & Max.Wind.SpeedMPH & ... & Mean.VisibilityMiles & Mean.Wind.SpeedMPH & MeanDew.PointF & Min.DewpointF & Min.Humidity & Min.Sea.Level.PressureIn & Min.TemperatureF & Min.VisibilityMiles & PrecipitationIn & WindDirDegrees\\\\\n",
       "\\hline\n",
       "\t 2014-12-01 & Rain       & 6          & 46         & 29         & 74         & 30.45      & 64         & 10         & 22         & ...        & 10         & 13         & 40         & 26         & 52         & 30.01      & 39         & 10         & 0.01       & 268       \\\\\n",
       "\t 2014-12-10 & Rain       & 8          & 45         & 29         & 100        & 29.58      & 48         & 10         & 23         & ...        & 3          & 13         & 39         & 37         & 89         & 29.43      & 38         & 1          & 0.28       & 357       \\\\\n",
       "\t 2014-12-11 & Rain-Snow  & 8          & 37         & 28         & 92         & 29.81      & 39         & 10         & 21         & ...        & 7          & 13         & 31         & 27         & 82         & 29.44      & 32         & 1          & 0.02       & 230       \\\\\n",
       "\t 2014-12-12 & Snow       & 7          & 28         & 21         & 85         & 29.88      & 39         & 10         & 16         & ...        & 10         & 11         & 27         & 25         & 64         & 29.81      & 31         & 7          & T          & 286       \\\\\n",
       "\t 2014-12-13 &            & 5          & 28         & 23         & 75         & 29.86      & 42         & 10         & 17         & ...        & 10         & 12         & 26         & 24         & 55         & 29.78      & 32         & 10         & T          & 298       \\\\\n",
       "\t 2014-12-14 &            & 4          & 29         & 20         & 82         & 29.91      & 45         & 10         & 15         & ...        & 10         & 10         & 27         & 25         & 53         & 29.78      & 33         & 10         & 0.00       & 306       \\\\\n",
       "\\end{tabular}\n"
      ],
      "text/markdown": [
       "\n",
       "date | Events | CloudCover | Max.Dew.PointF | Max.Gust.SpeedMPH | Max.Humidity | Max.Sea.Level.PressureIn | Max.TemperatureF | Max.VisibilityMiles | Max.Wind.SpeedMPH | ... | Mean.VisibilityMiles | Mean.Wind.SpeedMPH | MeanDew.PointF | Min.DewpointF | Min.Humidity | Min.Sea.Level.PressureIn | Min.TemperatureF | Min.VisibilityMiles | PrecipitationIn | WindDirDegrees | \n",
       "|---|---|---|---|---|---|\n",
       "| 2014-12-01 | Rain       | 6          | 46         | 29         | 74         | 30.45      | 64         | 10         | 22         | ...        | 10         | 13         | 40         | 26         | 52         | 30.01      | 39         | 10         | 0.01       | 268        | \n",
       "| 2014-12-10 | Rain       | 8          | 45         | 29         | 100        | 29.58      | 48         | 10         | 23         | ...        | 3          | 13         | 39         | 37         | 89         | 29.43      | 38         | 1          | 0.28       | 357        | \n",
       "| 2014-12-11 | Rain-Snow  | 8          | 37         | 28         | 92         | 29.81      | 39         | 10         | 21         | ...        | 7          | 13         | 31         | 27         | 82         | 29.44      | 32         | 1          | 0.02       | 230        | \n",
       "| 2014-12-12 | Snow       | 7          | 28         | 21         | 85         | 29.88      | 39         | 10         | 16         | ...        | 10         | 11         | 27         | 25         | 64         | 29.81      | 31         | 7          | T          | 286        | \n",
       "| 2014-12-13 |            | 5          | 28         | 23         | 75         | 29.86      | 42         | 10         | 17         | ...        | 10         | 12         | 26         | 24         | 55         | 29.78      | 32         | 10         | T          | 298        | \n",
       "| 2014-12-14 |            | 4          | 29         | 20         | 82         | 29.91      | 45         | 10         | 15         | ...        | 10         | 10         | 27         | 25         | 53         | 29.78      | 33         | 10         | 0.00       | 306        | \n",
       "\n",
       "\n"
      ],
      "text/plain": [
       "  date       Events    CloudCover Max.Dew.PointF Max.Gust.SpeedMPH Max.Humidity\n",
       "1 2014-12-01 Rain      6          46             29                74          \n",
       "2 2014-12-10 Rain      8          45             29                100         \n",
       "3 2014-12-11 Rain-Snow 8          37             28                92          \n",
       "4 2014-12-12 Snow      7          28             21                85          \n",
       "5 2014-12-13           5          28             23                75          \n",
       "6 2014-12-14           4          29             20                82          \n",
       "  Max.Sea.Level.PressureIn Max.TemperatureF Max.VisibilityMiles\n",
       "1 30.45                    64               10                 \n",
       "2 29.58                    48               10                 \n",
       "3 29.81                    39               10                 \n",
       "4 29.88                    39               10                 \n",
       "5 29.86                    42               10                 \n",
       "6 29.91                    45               10                 \n",
       "  Max.Wind.SpeedMPH ... Mean.VisibilityMiles Mean.Wind.SpeedMPH MeanDew.PointF\n",
       "1 22                ... 10                   13                 40            \n",
       "2 23                ... 3                    13                 39            \n",
       "3 21                ... 7                    13                 31            \n",
       "4 16                ... 10                   11                 27            \n",
       "5 17                ... 10                   12                 26            \n",
       "6 15                ... 10                   10                 27            \n",
       "  Min.DewpointF Min.Humidity Min.Sea.Level.PressureIn Min.TemperatureF\n",
       "1 26            52           30.01                    39              \n",
       "2 37            89           29.43                    38              \n",
       "3 27            82           29.44                    32              \n",
       "4 25            64           29.81                    31              \n",
       "5 24            55           29.78                    32              \n",
       "6 25            53           29.78                    33              \n",
       "  Min.VisibilityMiles PrecipitationIn WindDirDegrees\n",
       "1 10                  0.01            268           \n",
       "2 1                   0.28            357           \n",
       "3 1                   0.02            230           \n",
       "4 7                   T               286           \n",
       "5 10                  T               298           \n",
       "6 10                  0.00            306           "
      ]
     },
     "metadata": {},
     "output_type": "display_data"
    }
   ],
   "source": [
    "# Convert date column to proper date format using lubridates's ymd()\n",
    "weather4$date <- ymd(weather4$date)\n",
    "\n",
    "# Rearrange columns using dplyr's select()\n",
    "weather5 <- select(weather4, date, Events, CloudCover:WindDirDegrees)\n",
    "\n",
    "# View the head of weather5\n",
    "head(weather5)"
   ]
  },
  {
   "cell_type": "markdown",
   "metadata": {},
   "source": [
    "# Types of variables in R\n",
    "R stores data in different formats. The class() function can tell you which type of data you have\n",
    "<br> under the hood, the logical values TRUE and FALSE are coded as 1 and 0, respectively. Therefore, as.logical(1) returns TRUE and as.numeric(TRUE) returns 1.\n",
    "\n",
    "to coerce a variable use as.numeric(), as.factor, as.integer, as.character"
   ]
  },
  {
   "cell_type": "code",
   "execution_count": 42,
   "metadata": {},
   "outputs": [
    {
     "data": {
      "text/html": [
       "'character'"
      ],
      "text/latex": [
       "'character'"
      ],
      "text/markdown": [
       "'character'"
      ],
      "text/plain": [
       "[1] \"character\""
      ]
     },
     "metadata": {},
     "output_type": "display_data"
    },
    {
     "data": {
      "text/html": [
       "'numeric'"
      ],
      "text/latex": [
       "'numeric'"
      ],
      "text/markdown": [
       "'numeric'"
      ],
      "text/plain": [
       "[1] \"numeric\""
      ]
     },
     "metadata": {},
     "output_type": "display_data"
    },
    {
     "data": {
      "text/html": [
       "'integer'"
      ],
      "text/latex": [
       "'integer'"
      ],
      "text/markdown": [
       "'integer'"
      ],
      "text/plain": [
       "[1] \"integer\""
      ]
     },
     "metadata": {},
     "output_type": "display_data"
    },
    {
     "data": {
      "text/html": [
       "'factor'"
      ],
      "text/latex": [
       "'factor'"
      ],
      "text/markdown": [
       "'factor'"
      ],
      "text/plain": [
       "[1] \"factor\""
      ]
     },
     "metadata": {},
     "output_type": "display_data"
    },
    {
     "data": {
      "text/html": [
       "factor\n",
       "<details>\n",
       "\t<summary style=display:list-item;cursor:pointer>\n",
       "\t\t<strong>Levels</strong>:\n",
       "\t</summary>\n",
       "\t'factor'\n",
       "</details>"
      ],
      "text/latex": [
       "factor\n",
       "\\emph{Levels}: 'factor'"
      ],
      "text/markdown": [
       "factor\n",
       "**Levels**: 'factor'"
      ],
      "text/plain": [
       "[1] factor\n",
       "Levels: factor"
      ]
     },
     "metadata": {},
     "output_type": "display_data"
    },
    {
     "data": {
      "text/html": [
       "'logical'"
      ],
      "text/latex": [
       "'logical'"
      ],
      "text/markdown": [
       "'logical'"
      ],
      "text/plain": [
       "[1] \"logical\""
      ]
     },
     "metadata": {},
     "output_type": "display_data"
    }
   ],
   "source": [
    "# \"character\"\n",
    "class(\"TRUE\")\n",
    "\n",
    "#  \"numeric\"\n",
    "class(8484.00)\n",
    "\n",
    "#  \"integer\"\n",
    "class(99L)\n",
    "\n",
    "# \"factor\"\n",
    "class(as.factor(\"factor\"))\n",
    "as.factor(\"factor\")\n",
    "\n",
    "# \"logical\"\n",
    "class(FALSE)"
   ]
  },
  {
   "cell_type": "code",
   "execution_count": 43,
   "metadata": {},
   "outputs": [
    {
     "name": "stdout",
     "output_type": "stream",
     "text": [
      "'data.frame':\t366 obs. of  23 variables:\n",
      " $ date                     : Date, format: \"2014-12-01\" \"2014-12-10\" ...\n",
      " $ Events                   : chr  \"Rain\" \"Rain\" \"Rain-Snow\" \"Snow\" ...\n",
      " $ CloudCover               : chr  \"6\" \"8\" \"8\" \"7\" ...\n",
      " $ Max.Dew.PointF           : chr  \"46\" \"45\" \"37\" \"28\" ...\n",
      " $ Max.Gust.SpeedMPH        : chr  \"29\" \"29\" \"28\" \"21\" ...\n",
      " $ Max.Humidity             : chr  \"74\" \"100\" \"92\" \"85\" ...\n",
      " $ Max.Sea.Level.PressureIn : chr  \"30.45\" \"29.58\" \"29.81\" \"29.88\" ...\n",
      " $ Max.TemperatureF         : chr  \"64\" \"48\" \"39\" \"39\" ...\n",
      " $ Max.VisibilityMiles      : chr  \"10\" \"10\" \"10\" \"10\" ...\n",
      " $ Max.Wind.SpeedMPH        : chr  \"22\" \"23\" \"21\" \"16\" ...\n",
      " $ Mean.Humidity            : chr  \"63\" \"95\" \"87\" \"75\" ...\n",
      " $ Mean.Sea.Level.PressureIn: chr  \"30.13\" \"29.5\" \"29.61\" \"29.85\" ...\n",
      " $ Mean.TemperatureF        : chr  \"52\" \"43\" \"36\" \"35\" ...\n",
      " $ Mean.VisibilityMiles     : chr  \"10\" \"3\" \"7\" \"10\" ...\n",
      " $ Mean.Wind.SpeedMPH       : chr  \"13\" \"13\" \"13\" \"11\" ...\n",
      " $ MeanDew.PointF           : chr  \"40\" \"39\" \"31\" \"27\" ...\n",
      " $ Min.DewpointF            : chr  \"26\" \"37\" \"27\" \"25\" ...\n",
      " $ Min.Humidity             : chr  \"52\" \"89\" \"82\" \"64\" ...\n",
      " $ Min.Sea.Level.PressureIn : chr  \"30.01\" \"29.43\" \"29.44\" \"29.81\" ...\n",
      " $ Min.TemperatureF         : chr  \"39\" \"38\" \"32\" \"31\" ...\n",
      " $ Min.VisibilityMiles      : chr  \"10\" \"1\" \"1\" \"7\" ...\n",
      " $ PrecipitationIn          : chr  \"0.01\" \"0.28\" \"0.02\" \"T\" ...\n",
      " $ WindDirDegrees           : chr  \"268\" \"357\" \"230\" \"286\" ...\n"
     ]
    }
   ],
   "source": [
    "# In the weather 5 most columns are character which should be numeric\n",
    "# But beware there are some special character see below\n",
    "# View the structure of weather5\n",
    "str(weather5)"
   ]
  },
  {
   "cell_type": "code",
   "execution_count": 44,
   "metadata": {},
   "outputs": [
    {
     "name": "stderr",
     "output_type": "stream",
     "text": [
      "Warning message in eval(expr, envir, enclos):\n",
      "\"NAs durch Umwandlung erzeugt\""
     ]
    },
    {
     "data": {
      "text/html": [
       "<ol class=list-inline>\n",
       "\t<li>0.01</li>\n",
       "\t<li>0.28</li>\n",
       "\t<li>0.02</li>\n",
       "\t<li>&lt;NA&gt;</li>\n",
       "\t<li>&lt;NA&gt;</li>\n",
       "\t<li>0</li>\n",
       "\t<li>0</li>\n",
       "\t<li>&lt;NA&gt;</li>\n",
       "\t<li>0.43</li>\n",
       "\t<li>0.01</li>\n",
       "\t<li>0</li>\n",
       "\t<li>0.1</li>\n",
       "\t<li>&lt;NA&gt;</li>\n",
       "\t<li>&lt;NA&gt;</li>\n",
       "\t<li>0.05</li>\n",
       "\t<li>0.25</li>\n",
       "\t<li>0.56</li>\n",
       "\t<li>0.14</li>\n",
       "\t<li>0</li>\n",
       "\t<li>0</li>\n",
       "\t<li>0.01</li>\n",
       "\t<li>0</li>\n",
       "\t<li>0.44</li>\n",
       "\t<li>0</li>\n",
       "\t<li>0</li>\n",
       "\t<li>0</li>\n",
       "\t<li>0.11</li>\n",
       "\t<li>1.09</li>\n",
       "\t<li>0.13</li>\n",
       "\t<li>0.03</li>\n",
       "\t<li>2.9</li>\n",
       "\t<li>0</li>\n",
       "\t<li>0</li>\n",
       "\t<li>0</li>\n",
       "\t<li>0.2</li>\n",
       "\t<li>0</li>\n",
       "\t<li>&lt;NA&gt;</li>\n",
       "\t<li>0.12</li>\n",
       "\t<li>0</li>\n",
       "\t<li>0</li>\n",
       "\t<li>0.15</li>\n",
       "\t<li>0</li>\n",
       "\t<li>0</li>\n",
       "\t<li>0</li>\n",
       "\t<li>0</li>\n",
       "\t<li>&lt;NA&gt;</li>\n",
       "\t<li>0</li>\n",
       "\t<li>0.71</li>\n",
       "\t<li>0</li>\n",
       "\t<li>0.1</li>\n",
       "\t<li>0.95</li>\n",
       "\t<li>0.01</li>\n",
       "\t<li>&lt;NA&gt;</li>\n",
       "\t<li>0.62</li>\n",
       "\t<li>0.06</li>\n",
       "\t<li>0.05</li>\n",
       "\t<li>0.57</li>\n",
       "\t<li>0</li>\n",
       "\t<li>0.02</li>\n",
       "\t<li>&lt;NA&gt;</li>\n",
       "\t<li>0</li>\n",
       "\t<li>0.01</li>\n",
       "\t<li>0</li>\n",
       "\t<li>0.05</li>\n",
       "\t<li>0.01</li>\n",
       "\t<li>0.03</li>\n",
       "\t<li>0</li>\n",
       "\t<li>0.23</li>\n",
       "\t<li>0.39</li>\n",
       "\t<li>0</li>\n",
       "\t<li>0.02</li>\n",
       "\t<li>0.01</li>\n",
       "\t<li>0.06</li>\n",
       "\t<li>0.78</li>\n",
       "\t<li>0</li>\n",
       "\t<li>0.17</li>\n",
       "\t<li>0.11</li>\n",
       "\t<li>0</li>\n",
       "\t<li>&lt;NA&gt;</li>\n",
       "\t<li>0.07</li>\n",
       "\t<li>0.02</li>\n",
       "\t<li>0</li>\n",
       "\t<li>0</li>\n",
       "\t<li>0</li>\n",
       "\t<li>0</li>\n",
       "\t<li>0.09</li>\n",
       "\t<li>&lt;NA&gt;</li>\n",
       "\t<li>0.07</li>\n",
       "\t<li>0.37</li>\n",
       "\t<li>0.88</li>\n",
       "\t<li>0.17</li>\n",
       "\t<li>0.06</li>\n",
       "\t<li>0.01</li>\n",
       "\t<li>0</li>\n",
       "\t<li>0</li>\n",
       "\t<li>0.8</li>\n",
       "\t<li>0.27</li>\n",
       "\t<li>0</li>\n",
       "\t<li>0.14</li>\n",
       "\t<li>0</li>\n",
       "\t<li>0</li>\n",
       "\t<li>0.01</li>\n",
       "\t<li>0.05</li>\n",
       "\t<li>0.09</li>\n",
       "\t<li>0</li>\n",
       "\t<li>0</li>\n",
       "\t<li>0</li>\n",
       "\t<li>0.04</li>\n",
       "\t<li>0.8</li>\n",
       "\t<li>0.21</li>\n",
       "\t<li>0.12</li>\n",
       "\t<li>0</li>\n",
       "\t<li>0.26</li>\n",
       "\t<li>&lt;NA&gt;</li>\n",
       "\t<li>0</li>\n",
       "\t<li>0.02</li>\n",
       "\t<li>&lt;NA&gt;</li>\n",
       "\t<li>0</li>\n",
       "\t<li>0</li>\n",
       "\t<li>&lt;NA&gt;</li>\n",
       "\t<li>0</li>\n",
       "\t<li>0</li>\n",
       "\t<li>0.09</li>\n",
       "\t<li>0</li>\n",
       "\t<li>0</li>\n",
       "\t<li>0</li>\n",
       "\t<li>0.01</li>\n",
       "\t<li>0</li>\n",
       "\t<li>0</li>\n",
       "\t<li>0.06</li>\n",
       "\t<li>0</li>\n",
       "\t<li>0</li>\n",
       "\t<li>0</li>\n",
       "\t<li>0.61</li>\n",
       "\t<li>0.54</li>\n",
       "\t<li>&lt;NA&gt;</li>\n",
       "\t<li>0</li>\n",
       "\t<li>&lt;NA&gt;</li>\n",
       "\t<li>0</li>\n",
       "\t<li>0</li>\n",
       "\t<li>0.1</li>\n",
       "\t<li>0.07</li>\n",
       "\t<li>0</li>\n",
       "\t<li>0.03</li>\n",
       "\t<li>0</li>\n",
       "\t<li>0.39</li>\n",
       "\t<li>0</li>\n",
       "\t<li>0</li>\n",
       "\t<li>0.03</li>\n",
       "\t<li>0.26</li>\n",
       "\t<li>0.09</li>\n",
       "\t<li>0</li>\n",
       "\t<li>0</li>\n",
       "\t<li>0</li>\n",
       "\t<li>0.02</li>\n",
       "\t<li>0</li>\n",
       "\t<li>0</li>\n",
       "\t<li>0</li>\n",
       "\t<li>&lt;NA&gt;</li>\n",
       "\t<li>0</li>\n",
       "\t<li>0</li>\n",
       "\t<li>0.27</li>\n",
       "\t<li>0</li>\n",
       "\t<li>0</li>\n",
       "\t<li>0</li>\n",
       "\t<li>&lt;NA&gt;</li>\n",
       "\t<li>0</li>\n",
       "\t<li>0</li>\n",
       "\t<li>&lt;NA&gt;</li>\n",
       "\t<li>0</li>\n",
       "\t<li>0</li>\n",
       "\t<li>&lt;NA&gt;</li>\n",
       "\t<li>0</li>\n",
       "\t<li>0</li>\n",
       "\t<li>0</li>\n",
       "\t<li>0.91</li>\n",
       "\t<li>0</li>\n",
       "\t<li>0.02</li>\n",
       "\t<li>0</li>\n",
       "\t<li>0</li>\n",
       "\t<li>0</li>\n",
       "\t<li>0</li>\n",
       "\t<li>0.38</li>\n",
       "\t<li>0</li>\n",
       "\t<li>0</li>\n",
       "\t<li>0</li>\n",
       "\t<li>&lt;NA&gt;</li>\n",
       "\t<li>0</li>\n",
       "\t<li>0.4</li>\n",
       "\t<li>&lt;NA&gt;</li>\n",
       "\t<li>0</li>\n",
       "\t<li>0</li>\n",
       "\t<li>0</li>\n",
       "\t<li>0.74</li>\n",
       "\t<li>0.04</li>\n",
       "\t<li>1.72</li>\n",
       "\t<li>0</li>\n",
       "\t<li>0.01</li>\n",
       "\t<li>0</li>\n",
       "\t<li>0</li>\n",
       "\t<li>&lt;NA&gt;</li>\n",
       "\t<li>0.2</li>\n",
       "\t<li>1.43</li>\n",
       "\t<li>&lt;NA&gt;</li>\n",
       "\t<li>0</li>\n",
       "\t<li>0</li>\n",
       "\t<li>0</li>\n",
       "\t<li>&lt;NA&gt;</li>\n",
       "\t<li>0.09</li>\n",
       "\t<li>0</li>\n",
       "\t<li>&lt;NA&gt;</li>\n",
       "\t<li>&lt;NA&gt;</li>\n",
       "\t<li>0.5</li>\n",
       "\t<li>1.12</li>\n",
       "\t<li>0</li>\n",
       "\t<li>0</li>\n",
       "\t<li>0</li>\n",
       "\t<li>0.03</li>\n",
       "\t<li>&lt;NA&gt;</li>\n",
       "\t<li>0</li>\n",
       "\t<li>&lt;NA&gt;</li>\n",
       "\t<li>0.14</li>\n",
       "\t<li>&lt;NA&gt;</li>\n",
       "\t<li>0</li>\n",
       "\t<li>&lt;NA&gt;</li>\n",
       "\t<li>&lt;NA&gt;</li>\n",
       "\t<li>0</li>\n",
       "\t<li>0</li>\n",
       "\t<li>0.01</li>\n",
       "\t<li>0</li>\n",
       "\t<li>&lt;NA&gt;</li>\n",
       "\t<li>0.06</li>\n",
       "\t<li>0</li>\n",
       "\t<li>0</li>\n",
       "\t<li>0</li>\n",
       "\t<li>0.02</li>\n",
       "\t<li>0</li>\n",
       "\t<li>&lt;NA&gt;</li>\n",
       "\t<li>0</li>\n",
       "\t<li>0</li>\n",
       "\t<li>0.02</li>\n",
       "\t<li>&lt;NA&gt;</li>\n",
       "\t<li>0.15</li>\n",
       "\t<li>&lt;NA&gt;</li>\n",
       "\t<li>0</li>\n",
       "\t<li>0.83</li>\n",
       "\t<li>0</li>\n",
       "\t<li>0</li>\n",
       "\t<li>0</li>\n",
       "\t<li>0.08</li>\n",
       "\t<li>0</li>\n",
       "\t<li>0</li>\n",
       "\t<li>0.14</li>\n",
       "\t<li>0</li>\n",
       "\t<li>0</li>\n",
       "\t<li>0</li>\n",
       "\t<li>0.63</li>\n",
       "\t<li>&lt;NA&gt;</li>\n",
       "\t<li>0.02</li>\n",
       "\t<li>&lt;NA&gt;</li>\n",
       "\t<li>0</li>\n",
       "\t<li>&lt;NA&gt;</li>\n",
       "\t<li>0</li>\n",
       "\t<li>0</li>\n",
       "\t<li>0</li>\n",
       "\t<li>0</li>\n",
       "\t<li>0</li>\n",
       "\t<li>0</li>\n",
       "\t<li>0.49</li>\n",
       "\t<li>0</li>\n",
       "\t<li>0</li>\n",
       "\t<li>0</li>\n",
       "\t<li>0</li>\n",
       "\t<li>0</li>\n",
       "\t<li>0</li>\n",
       "\t<li>0.17</li>\n",
       "\t<li>0.66</li>\n",
       "\t<li>0.01</li>\n",
       "\t<li>0.38</li>\n",
       "\t<li>0</li>\n",
       "\t<li>0</li>\n",
       "\t<li>0</li>\n",
       "\t<li>0</li>\n",
       "\t<li>0</li>\n",
       "\t<li>0</li>\n",
       "\t<li>0</li>\n",
       "\t<li>&lt;NA&gt;</li>\n",
       "\t<li>0</li>\n",
       "\t<li>0</li>\n",
       "\t<li>0</li>\n",
       "\t<li>0</li>\n",
       "\t<li>0</li>\n",
       "\t<li>0</li>\n",
       "\t<li>0</li>\n",
       "\t<li>0</li>\n",
       "\t<li>0.04</li>\n",
       "\t<li>0.01</li>\n",
       "\t<li>2.46</li>\n",
       "\t<li>&lt;NA&gt;</li>\n",
       "\t<li>0</li>\n",
       "\t<li>0</li>\n",
       "\t<li>0</li>\n",
       "\t<li>0.2</li>\n",
       "\t<li>0</li>\n",
       "\t<li>&lt;NA&gt;</li>\n",
       "\t<li>0</li>\n",
       "\t<li>0</li>\n",
       "\t<li>0</li>\n",
       "\t<li>0.12</li>\n",
       "\t<li>0</li>\n",
       "\t<li>0</li>\n",
       "\t<li>&lt;NA&gt;</li>\n",
       "\t<li>&lt;NA&gt;</li>\n",
       "\t<li>&lt;NA&gt;</li>\n",
       "\t<li>0</li>\n",
       "\t<li>0.08</li>\n",
       "\t<li>&lt;NA&gt;</li>\n",
       "\t<li>0.07</li>\n",
       "\t<li>&lt;NA&gt;</li>\n",
       "\t<li>0</li>\n",
       "\t<li>0</li>\n",
       "\t<li>0.03</li>\n",
       "\t<li>0</li>\n",
       "\t<li>0</li>\n",
       "\t<li>0.36</li>\n",
       "\t<li>0.73</li>\n",
       "\t<li>0.01</li>\n",
       "\t<li>0</li>\n",
       "\t<li>0</li>\n",
       "\t<li>0</li>\n",
       "\t<li>0</li>\n",
       "\t<li>0</li>\n",
       "\t<li>0</li>\n",
       "\t<li>0</li>\n",
       "\t<li>0.34</li>\n",
       "\t<li>&lt;NA&gt;</li>\n",
       "\t<li>0.07</li>\n",
       "\t<li>0.54</li>\n",
       "\t<li>0.04</li>\n",
       "\t<li>0.01</li>\n",
       "\t<li>0</li>\n",
       "\t<li>0</li>\n",
       "\t<li>0</li>\n",
       "\t<li>0</li>\n",
       "\t<li>0</li>\n",
       "\t<li>&lt;NA&gt;</li>\n",
       "\t<li>0</li>\n",
       "\t<li>0.86</li>\n",
       "\t<li>0</li>\n",
       "\t<li>0.3</li>\n",
       "\t<li>0.04</li>\n",
       "\t<li>0</li>\n",
       "\t<li>0</li>\n",
       "\t<li>0</li>\n",
       "\t<li>0</li>\n",
       "\t<li>0.21</li>\n",
       "\t<li>0</li>\n",
       "\t<li>0</li>\n",
       "\t<li>0</li>\n",
       "\t<li>0</li>\n",
       "\t<li>0</li>\n",
       "\t<li>0</li>\n",
       "\t<li>0</li>\n",
       "\t<li>0</li>\n",
       "\t<li>0</li>\n",
       "\t<li>0.14</li>\n",
       "</ol>\n"
      ],
      "text/latex": [
       "\\begin{enumerate*}\n",
       "\\item 0.01\n",
       "\\item 0.28\n",
       "\\item 0.02\n",
       "\\item <NA>\n",
       "\\item <NA>\n",
       "\\item 0\n",
       "\\item 0\n",
       "\\item <NA>\n",
       "\\item 0.43\n",
       "\\item 0.01\n",
       "\\item 0\n",
       "\\item 0.1\n",
       "\\item <NA>\n",
       "\\item <NA>\n",
       "\\item 0.05\n",
       "\\item 0.25\n",
       "\\item 0.56\n",
       "\\item 0.14\n",
       "\\item 0\n",
       "\\item 0\n",
       "\\item 0.01\n",
       "\\item 0\n",
       "\\item 0.44\n",
       "\\item 0\n",
       "\\item 0\n",
       "\\item 0\n",
       "\\item 0.11\n",
       "\\item 1.09\n",
       "\\item 0.13\n",
       "\\item 0.03\n",
       "\\item 2.9\n",
       "\\item 0\n",
       "\\item 0\n",
       "\\item 0\n",
       "\\item 0.2\n",
       "\\item 0\n",
       "\\item <NA>\n",
       "\\item 0.12\n",
       "\\item 0\n",
       "\\item 0\n",
       "\\item 0.15\n",
       "\\item 0\n",
       "\\item 0\n",
       "\\item 0\n",
       "\\item 0\n",
       "\\item <NA>\n",
       "\\item 0\n",
       "\\item 0.71\n",
       "\\item 0\n",
       "\\item 0.1\n",
       "\\item 0.95\n",
       "\\item 0.01\n",
       "\\item <NA>\n",
       "\\item 0.62\n",
       "\\item 0.06\n",
       "\\item 0.05\n",
       "\\item 0.57\n",
       "\\item 0\n",
       "\\item 0.02\n",
       "\\item <NA>\n",
       "\\item 0\n",
       "\\item 0.01\n",
       "\\item 0\n",
       "\\item 0.05\n",
       "\\item 0.01\n",
       "\\item 0.03\n",
       "\\item 0\n",
       "\\item 0.23\n",
       "\\item 0.39\n",
       "\\item 0\n",
       "\\item 0.02\n",
       "\\item 0.01\n",
       "\\item 0.06\n",
       "\\item 0.78\n",
       "\\item 0\n",
       "\\item 0.17\n",
       "\\item 0.11\n",
       "\\item 0\n",
       "\\item <NA>\n",
       "\\item 0.07\n",
       "\\item 0.02\n",
       "\\item 0\n",
       "\\item 0\n",
       "\\item 0\n",
       "\\item 0\n",
       "\\item 0.09\n",
       "\\item <NA>\n",
       "\\item 0.07\n",
       "\\item 0.37\n",
       "\\item 0.88\n",
       "\\item 0.17\n",
       "\\item 0.06\n",
       "\\item 0.01\n",
       "\\item 0\n",
       "\\item 0\n",
       "\\item 0.8\n",
       "\\item 0.27\n",
       "\\item 0\n",
       "\\item 0.14\n",
       "\\item 0\n",
       "\\item 0\n",
       "\\item 0.01\n",
       "\\item 0.05\n",
       "\\item 0.09\n",
       "\\item 0\n",
       "\\item 0\n",
       "\\item 0\n",
       "\\item 0.04\n",
       "\\item 0.8\n",
       "\\item 0.21\n",
       "\\item 0.12\n",
       "\\item 0\n",
       "\\item 0.26\n",
       "\\item <NA>\n",
       "\\item 0\n",
       "\\item 0.02\n",
       "\\item <NA>\n",
       "\\item 0\n",
       "\\item 0\n",
       "\\item <NA>\n",
       "\\item 0\n",
       "\\item 0\n",
       "\\item 0.09\n",
       "\\item 0\n",
       "\\item 0\n",
       "\\item 0\n",
       "\\item 0.01\n",
       "\\item 0\n",
       "\\item 0\n",
       "\\item 0.06\n",
       "\\item 0\n",
       "\\item 0\n",
       "\\item 0\n",
       "\\item 0.61\n",
       "\\item 0.54\n",
       "\\item <NA>\n",
       "\\item 0\n",
       "\\item <NA>\n",
       "\\item 0\n",
       "\\item 0\n",
       "\\item 0.1\n",
       "\\item 0.07\n",
       "\\item 0\n",
       "\\item 0.03\n",
       "\\item 0\n",
       "\\item 0.39\n",
       "\\item 0\n",
       "\\item 0\n",
       "\\item 0.03\n",
       "\\item 0.26\n",
       "\\item 0.09\n",
       "\\item 0\n",
       "\\item 0\n",
       "\\item 0\n",
       "\\item 0.02\n",
       "\\item 0\n",
       "\\item 0\n",
       "\\item 0\n",
       "\\item <NA>\n",
       "\\item 0\n",
       "\\item 0\n",
       "\\item 0.27\n",
       "\\item 0\n",
       "\\item 0\n",
       "\\item 0\n",
       "\\item <NA>\n",
       "\\item 0\n",
       "\\item 0\n",
       "\\item <NA>\n",
       "\\item 0\n",
       "\\item 0\n",
       "\\item <NA>\n",
       "\\item 0\n",
       "\\item 0\n",
       "\\item 0\n",
       "\\item 0.91\n",
       "\\item 0\n",
       "\\item 0.02\n",
       "\\item 0\n",
       "\\item 0\n",
       "\\item 0\n",
       "\\item 0\n",
       "\\item 0.38\n",
       "\\item 0\n",
       "\\item 0\n",
       "\\item 0\n",
       "\\item <NA>\n",
       "\\item 0\n",
       "\\item 0.4\n",
       "\\item <NA>\n",
       "\\item 0\n",
       "\\item 0\n",
       "\\item 0\n",
       "\\item 0.74\n",
       "\\item 0.04\n",
       "\\item 1.72\n",
       "\\item 0\n",
       "\\item 0.01\n",
       "\\item 0\n",
       "\\item 0\n",
       "\\item <NA>\n",
       "\\item 0.2\n",
       "\\item 1.43\n",
       "\\item <NA>\n",
       "\\item 0\n",
       "\\item 0\n",
       "\\item 0\n",
       "\\item <NA>\n",
       "\\item 0.09\n",
       "\\item 0\n",
       "\\item <NA>\n",
       "\\item <NA>\n",
       "\\item 0.5\n",
       "\\item 1.12\n",
       "\\item 0\n",
       "\\item 0\n",
       "\\item 0\n",
       "\\item 0.03\n",
       "\\item <NA>\n",
       "\\item 0\n",
       "\\item <NA>\n",
       "\\item 0.14\n",
       "\\item <NA>\n",
       "\\item 0\n",
       "\\item <NA>\n",
       "\\item <NA>\n",
       "\\item 0\n",
       "\\item 0\n",
       "\\item 0.01\n",
       "\\item 0\n",
       "\\item <NA>\n",
       "\\item 0.06\n",
       "\\item 0\n",
       "\\item 0\n",
       "\\item 0\n",
       "\\item 0.02\n",
       "\\item 0\n",
       "\\item <NA>\n",
       "\\item 0\n",
       "\\item 0\n",
       "\\item 0.02\n",
       "\\item <NA>\n",
       "\\item 0.15\n",
       "\\item <NA>\n",
       "\\item 0\n",
       "\\item 0.83\n",
       "\\item 0\n",
       "\\item 0\n",
       "\\item 0\n",
       "\\item 0.08\n",
       "\\item 0\n",
       "\\item 0\n",
       "\\item 0.14\n",
       "\\item 0\n",
       "\\item 0\n",
       "\\item 0\n",
       "\\item 0.63\n",
       "\\item <NA>\n",
       "\\item 0.02\n",
       "\\item <NA>\n",
       "\\item 0\n",
       "\\item <NA>\n",
       "\\item 0\n",
       "\\item 0\n",
       "\\item 0\n",
       "\\item 0\n",
       "\\item 0\n",
       "\\item 0\n",
       "\\item 0.49\n",
       "\\item 0\n",
       "\\item 0\n",
       "\\item 0\n",
       "\\item 0\n",
       "\\item 0\n",
       "\\item 0\n",
       "\\item 0.17\n",
       "\\item 0.66\n",
       "\\item 0.01\n",
       "\\item 0.38\n",
       "\\item 0\n",
       "\\item 0\n",
       "\\item 0\n",
       "\\item 0\n",
       "\\item 0\n",
       "\\item 0\n",
       "\\item 0\n",
       "\\item <NA>\n",
       "\\item 0\n",
       "\\item 0\n",
       "\\item 0\n",
       "\\item 0\n",
       "\\item 0\n",
       "\\item 0\n",
       "\\item 0\n",
       "\\item 0\n",
       "\\item 0.04\n",
       "\\item 0.01\n",
       "\\item 2.46\n",
       "\\item <NA>\n",
       "\\item 0\n",
       "\\item 0\n",
       "\\item 0\n",
       "\\item 0.2\n",
       "\\item 0\n",
       "\\item <NA>\n",
       "\\item 0\n",
       "\\item 0\n",
       "\\item 0\n",
       "\\item 0.12\n",
       "\\item 0\n",
       "\\item 0\n",
       "\\item <NA>\n",
       "\\item <NA>\n",
       "\\item <NA>\n",
       "\\item 0\n",
       "\\item 0.08\n",
       "\\item <NA>\n",
       "\\item 0.07\n",
       "\\item <NA>\n",
       "\\item 0\n",
       "\\item 0\n",
       "\\item 0.03\n",
       "\\item 0\n",
       "\\item 0\n",
       "\\item 0.36\n",
       "\\item 0.73\n",
       "\\item 0.01\n",
       "\\item 0\n",
       "\\item 0\n",
       "\\item 0\n",
       "\\item 0\n",
       "\\item 0\n",
       "\\item 0\n",
       "\\item 0\n",
       "\\item 0.34\n",
       "\\item <NA>\n",
       "\\item 0.07\n",
       "\\item 0.54\n",
       "\\item 0.04\n",
       "\\item 0.01\n",
       "\\item 0\n",
       "\\item 0\n",
       "\\item 0\n",
       "\\item 0\n",
       "\\item 0\n",
       "\\item <NA>\n",
       "\\item 0\n",
       "\\item 0.86\n",
       "\\item 0\n",
       "\\item 0.3\n",
       "\\item 0.04\n",
       "\\item 0\n",
       "\\item 0\n",
       "\\item 0\n",
       "\\item 0\n",
       "\\item 0.21\n",
       "\\item 0\n",
       "\\item 0\n",
       "\\item 0\n",
       "\\item 0\n",
       "\\item 0\n",
       "\\item 0\n",
       "\\item 0\n",
       "\\item 0\n",
       "\\item 0\n",
       "\\item 0.14\n",
       "\\end{enumerate*}\n"
      ],
      "text/markdown": [
       "1. 0.01\n",
       "2. 0.28\n",
       "3. 0.02\n",
       "4. &lt;NA&gt;\n",
       "5. &lt;NA&gt;\n",
       "6. 0\n",
       "7. 0\n",
       "8. &lt;NA&gt;\n",
       "9. 0.43\n",
       "10. 0.01\n",
       "11. 0\n",
       "12. 0.1\n",
       "13. &lt;NA&gt;\n",
       "14. &lt;NA&gt;\n",
       "15. 0.05\n",
       "16. 0.25\n",
       "17. 0.56\n",
       "18. 0.14\n",
       "19. 0\n",
       "20. 0\n",
       "21. 0.01\n",
       "22. 0\n",
       "23. 0.44\n",
       "24. 0\n",
       "25. 0\n",
       "26. 0\n",
       "27. 0.11\n",
       "28. 1.09\n",
       "29. 0.13\n",
       "30. 0.03\n",
       "31. 2.9\n",
       "32. 0\n",
       "33. 0\n",
       "34. 0\n",
       "35. 0.2\n",
       "36. 0\n",
       "37. &lt;NA&gt;\n",
       "38. 0.12\n",
       "39. 0\n",
       "40. 0\n",
       "41. 0.15\n",
       "42. 0\n",
       "43. 0\n",
       "44. 0\n",
       "45. 0\n",
       "46. &lt;NA&gt;\n",
       "47. 0\n",
       "48. 0.71\n",
       "49. 0\n",
       "50. 0.1\n",
       "51. 0.95\n",
       "52. 0.01\n",
       "53. &lt;NA&gt;\n",
       "54. 0.62\n",
       "55. 0.06\n",
       "56. 0.05\n",
       "57. 0.57\n",
       "58. 0\n",
       "59. 0.02\n",
       "60. &lt;NA&gt;\n",
       "61. 0\n",
       "62. 0.01\n",
       "63. 0\n",
       "64. 0.05\n",
       "65. 0.01\n",
       "66. 0.03\n",
       "67. 0\n",
       "68. 0.23\n",
       "69. 0.39\n",
       "70. 0\n",
       "71. 0.02\n",
       "72. 0.01\n",
       "73. 0.06\n",
       "74. 0.78\n",
       "75. 0\n",
       "76. 0.17\n",
       "77. 0.11\n",
       "78. 0\n",
       "79. &lt;NA&gt;\n",
       "80. 0.07\n",
       "81. 0.02\n",
       "82. 0\n",
       "83. 0\n",
       "84. 0\n",
       "85. 0\n",
       "86. 0.09\n",
       "87. &lt;NA&gt;\n",
       "88. 0.07\n",
       "89. 0.37\n",
       "90. 0.88\n",
       "91. 0.17\n",
       "92. 0.06\n",
       "93. 0.01\n",
       "94. 0\n",
       "95. 0\n",
       "96. 0.8\n",
       "97. 0.27\n",
       "98. 0\n",
       "99. 0.14\n",
       "100. 0\n",
       "101. 0\n",
       "102. 0.01\n",
       "103. 0.05\n",
       "104. 0.09\n",
       "105. 0\n",
       "106. 0\n",
       "107. 0\n",
       "108. 0.04\n",
       "109. 0.8\n",
       "110. 0.21\n",
       "111. 0.12\n",
       "112. 0\n",
       "113. 0.26\n",
       "114. &lt;NA&gt;\n",
       "115. 0\n",
       "116. 0.02\n",
       "117. &lt;NA&gt;\n",
       "118. 0\n",
       "119. 0\n",
       "120. &lt;NA&gt;\n",
       "121. 0\n",
       "122. 0\n",
       "123. 0.09\n",
       "124. 0\n",
       "125. 0\n",
       "126. 0\n",
       "127. 0.01\n",
       "128. 0\n",
       "129. 0\n",
       "130. 0.06\n",
       "131. 0\n",
       "132. 0\n",
       "133. 0\n",
       "134. 0.61\n",
       "135. 0.54\n",
       "136. &lt;NA&gt;\n",
       "137. 0\n",
       "138. &lt;NA&gt;\n",
       "139. 0\n",
       "140. 0\n",
       "141. 0.1\n",
       "142. 0.07\n",
       "143. 0\n",
       "144. 0.03\n",
       "145. 0\n",
       "146. 0.39\n",
       "147. 0\n",
       "148. 0\n",
       "149. 0.03\n",
       "150. 0.26\n",
       "151. 0.09\n",
       "152. 0\n",
       "153. 0\n",
       "154. 0\n",
       "155. 0.02\n",
       "156. 0\n",
       "157. 0\n",
       "158. 0\n",
       "159. &lt;NA&gt;\n",
       "160. 0\n",
       "161. 0\n",
       "162. 0.27\n",
       "163. 0\n",
       "164. 0\n",
       "165. 0\n",
       "166. &lt;NA&gt;\n",
       "167. 0\n",
       "168. 0\n",
       "169. &lt;NA&gt;\n",
       "170. 0\n",
       "171. 0\n",
       "172. &lt;NA&gt;\n",
       "173. 0\n",
       "174. 0\n",
       "175. 0\n",
       "176. 0.91\n",
       "177. 0\n",
       "178. 0.02\n",
       "179. 0\n",
       "180. 0\n",
       "181. 0\n",
       "182. 0\n",
       "183. 0.38\n",
       "184. 0\n",
       "185. 0\n",
       "186. 0\n",
       "187. &lt;NA&gt;\n",
       "188. 0\n",
       "189. 0.4\n",
       "190. &lt;NA&gt;\n",
       "191. 0\n",
       "192. 0\n",
       "193. 0\n",
       "194. 0.74\n",
       "195. 0.04\n",
       "196. 1.72\n",
       "197. 0\n",
       "198. 0.01\n",
       "199. 0\n",
       "200. 0\n",
       "201. &lt;NA&gt;\n",
       "202. 0.2\n",
       "203. 1.43\n",
       "204. &lt;NA&gt;\n",
       "205. 0\n",
       "206. 0\n",
       "207. 0\n",
       "208. &lt;NA&gt;\n",
       "209. 0.09\n",
       "210. 0\n",
       "211. &lt;NA&gt;\n",
       "212. &lt;NA&gt;\n",
       "213. 0.5\n",
       "214. 1.12\n",
       "215. 0\n",
       "216. 0\n",
       "217. 0\n",
       "218. 0.03\n",
       "219. &lt;NA&gt;\n",
       "220. 0\n",
       "221. &lt;NA&gt;\n",
       "222. 0.14\n",
       "223. &lt;NA&gt;\n",
       "224. 0\n",
       "225. &lt;NA&gt;\n",
       "226. &lt;NA&gt;\n",
       "227. 0\n",
       "228. 0\n",
       "229. 0.01\n",
       "230. 0\n",
       "231. &lt;NA&gt;\n",
       "232. 0.06\n",
       "233. 0\n",
       "234. 0\n",
       "235. 0\n",
       "236. 0.02\n",
       "237. 0\n",
       "238. &lt;NA&gt;\n",
       "239. 0\n",
       "240. 0\n",
       "241. 0.02\n",
       "242. &lt;NA&gt;\n",
       "243. 0.15\n",
       "244. &lt;NA&gt;\n",
       "245. 0\n",
       "246. 0.83\n",
       "247. 0\n",
       "248. 0\n",
       "249. 0\n",
       "250. 0.08\n",
       "251. 0\n",
       "252. 0\n",
       "253. 0.14\n",
       "254. 0\n",
       "255. 0\n",
       "256. 0\n",
       "257. 0.63\n",
       "258. &lt;NA&gt;\n",
       "259. 0.02\n",
       "260. &lt;NA&gt;\n",
       "261. 0\n",
       "262. &lt;NA&gt;\n",
       "263. 0\n",
       "264. 0\n",
       "265. 0\n",
       "266. 0\n",
       "267. 0\n",
       "268. 0\n",
       "269. 0.49\n",
       "270. 0\n",
       "271. 0\n",
       "272. 0\n",
       "273. 0\n",
       "274. 0\n",
       "275. 0\n",
       "276. 0.17\n",
       "277. 0.66\n",
       "278. 0.01\n",
       "279. 0.38\n",
       "280. 0\n",
       "281. 0\n",
       "282. 0\n",
       "283. 0\n",
       "284. 0\n",
       "285. 0\n",
       "286. 0\n",
       "287. &lt;NA&gt;\n",
       "288. 0\n",
       "289. 0\n",
       "290. 0\n",
       "291. 0\n",
       "292. 0\n",
       "293. 0\n",
       "294. 0\n",
       "295. 0\n",
       "296. 0.04\n",
       "297. 0.01\n",
       "298. 2.46\n",
       "299. &lt;NA&gt;\n",
       "300. 0\n",
       "301. 0\n",
       "302. 0\n",
       "303. 0.2\n",
       "304. 0\n",
       "305. &lt;NA&gt;\n",
       "306. 0\n",
       "307. 0\n",
       "308. 0\n",
       "309. 0.12\n",
       "310. 0\n",
       "311. 0\n",
       "312. &lt;NA&gt;\n",
       "313. &lt;NA&gt;\n",
       "314. &lt;NA&gt;\n",
       "315. 0\n",
       "316. 0.08\n",
       "317. &lt;NA&gt;\n",
       "318. 0.07\n",
       "319. &lt;NA&gt;\n",
       "320. 0\n",
       "321. 0\n",
       "322. 0.03\n",
       "323. 0\n",
       "324. 0\n",
       "325. 0.36\n",
       "326. 0.73\n",
       "327. 0.01\n",
       "328. 0\n",
       "329. 0\n",
       "330. 0\n",
       "331. 0\n",
       "332. 0\n",
       "333. 0\n",
       "334. 0\n",
       "335. 0.34\n",
       "336. &lt;NA&gt;\n",
       "337. 0.07\n",
       "338. 0.54\n",
       "339. 0.04\n",
       "340. 0.01\n",
       "341. 0\n",
       "342. 0\n",
       "343. 0\n",
       "344. 0\n",
       "345. 0\n",
       "346. &lt;NA&gt;\n",
       "347. 0\n",
       "348. 0.86\n",
       "349. 0\n",
       "350. 0.3\n",
       "351. 0.04\n",
       "352. 0\n",
       "353. 0\n",
       "354. 0\n",
       "355. 0\n",
       "356. 0.21\n",
       "357. 0\n",
       "358. 0\n",
       "359. 0\n",
       "360. 0\n",
       "361. 0\n",
       "362. 0\n",
       "363. 0\n",
       "364. 0\n",
       "365. 0\n",
       "366. 0.14\n",
       "\n",
       "\n"
      ],
      "text/plain": [
       "  [1] 0.01 0.28 0.02   NA   NA 0.00 0.00   NA 0.43 0.01 0.00 0.10   NA   NA 0.05\n",
       " [16] 0.25 0.56 0.14 0.00 0.00 0.01 0.00 0.44 0.00 0.00 0.00 0.11 1.09 0.13 0.03\n",
       " [31] 2.90 0.00 0.00 0.00 0.20 0.00   NA 0.12 0.00 0.00 0.15 0.00 0.00 0.00 0.00\n",
       " [46]   NA 0.00 0.71 0.00 0.10 0.95 0.01   NA 0.62 0.06 0.05 0.57 0.00 0.02   NA\n",
       " [61] 0.00 0.01 0.00 0.05 0.01 0.03 0.00 0.23 0.39 0.00 0.02 0.01 0.06 0.78 0.00\n",
       " [76] 0.17 0.11 0.00   NA 0.07 0.02 0.00 0.00 0.00 0.00 0.09   NA 0.07 0.37 0.88\n",
       " [91] 0.17 0.06 0.01 0.00 0.00 0.80 0.27 0.00 0.14 0.00 0.00 0.01 0.05 0.09 0.00\n",
       "[106] 0.00 0.00 0.04 0.80 0.21 0.12 0.00 0.26   NA 0.00 0.02   NA 0.00 0.00   NA\n",
       "[121] 0.00 0.00 0.09 0.00 0.00 0.00 0.01 0.00 0.00 0.06 0.00 0.00 0.00 0.61 0.54\n",
       "[136]   NA 0.00   NA 0.00 0.00 0.10 0.07 0.00 0.03 0.00 0.39 0.00 0.00 0.03 0.26\n",
       "[151] 0.09 0.00 0.00 0.00 0.02 0.00 0.00 0.00   NA 0.00 0.00 0.27 0.00 0.00 0.00\n",
       "[166]   NA 0.00 0.00   NA 0.00 0.00   NA 0.00 0.00 0.00 0.91 0.00 0.02 0.00 0.00\n",
       "[181] 0.00 0.00 0.38 0.00 0.00 0.00   NA 0.00 0.40   NA 0.00 0.00 0.00 0.74 0.04\n",
       "[196] 1.72 0.00 0.01 0.00 0.00   NA 0.20 1.43   NA 0.00 0.00 0.00   NA 0.09 0.00\n",
       "[211]   NA   NA 0.50 1.12 0.00 0.00 0.00 0.03   NA 0.00   NA 0.14   NA 0.00   NA\n",
       "[226]   NA 0.00 0.00 0.01 0.00   NA 0.06 0.00 0.00 0.00 0.02 0.00   NA 0.00 0.00\n",
       "[241] 0.02   NA 0.15   NA 0.00 0.83 0.00 0.00 0.00 0.08 0.00 0.00 0.14 0.00 0.00\n",
       "[256] 0.00 0.63   NA 0.02   NA 0.00   NA 0.00 0.00 0.00 0.00 0.00 0.00 0.49 0.00\n",
       "[271] 0.00 0.00 0.00 0.00 0.00 0.17 0.66 0.01 0.38 0.00 0.00 0.00 0.00 0.00 0.00\n",
       "[286] 0.00   NA 0.00 0.00 0.00 0.00 0.00 0.00 0.00 0.00 0.04 0.01 2.46   NA 0.00\n",
       "[301] 0.00 0.00 0.20 0.00   NA 0.00 0.00 0.00 0.12 0.00 0.00   NA   NA   NA 0.00\n",
       "[316] 0.08   NA 0.07   NA 0.00 0.00 0.03 0.00 0.00 0.36 0.73 0.01 0.00 0.00 0.00\n",
       "[331] 0.00 0.00 0.00 0.00 0.34   NA 0.07 0.54 0.04 0.01 0.00 0.00 0.00 0.00 0.00\n",
       "[346]   NA 0.00 0.86 0.00 0.30 0.04 0.00 0.00 0.00 0.00 0.21 0.00 0.00 0.00 0.00\n",
       "[361] 0.00 0.00 0.00 0.00 0.00 0.14"
      ]
     },
     "metadata": {},
     "output_type": "display_data"
    }
   ],
   "source": [
    "# See what happens if we try to convert PrecipitationIn to numeric\n",
    "as.numeric(weather5$PrecipitationIn)"
   ]
  },
  {
   "cell_type": "code",
   "execution_count": 45,
   "metadata": {},
   "outputs": [
    {
     "data": {
      "text/html": [
       "<ol class=list-inline>\n",
       "\t<li>'0.01'</li>\n",
       "\t<li>'0.28'</li>\n",
       "\t<li>'0.02'</li>\n",
       "\t<li>'T'</li>\n",
       "\t<li>'T'</li>\n",
       "\t<li>'0.00'</li>\n",
       "</ol>\n"
      ],
      "text/latex": [
       "\\begin{enumerate*}\n",
       "\\item '0.01'\n",
       "\\item '0.28'\n",
       "\\item '0.02'\n",
       "\\item 'T'\n",
       "\\item 'T'\n",
       "\\item '0.00'\n",
       "\\end{enumerate*}\n"
      ],
      "text/markdown": [
       "1. '0.01'\n",
       "2. '0.28'\n",
       "3. '0.02'\n",
       "4. 'T'\n",
       "5. 'T'\n",
       "6. '0.00'\n",
       "\n",
       "\n"
      ],
      "text/plain": [
       "[1] \"0.01\" \"0.28\" \"0.02\" \"T\"    \"T\"    \"0.00\""
      ]
     },
     "metadata": {},
     "output_type": "display_data"
    }
   ],
   "source": [
    "# NA are produced why that?\n",
    "head(weather5$PrecipitationIn)"
   ]
  },
  {
   "cell_type": "markdown",
   "metadata": {},
   "source": [
    "*\"T\" was used to denote a trace amount (i.e. too small to be accurately measured) of precipitation in the PrecipitationIn column. In order to coerce this column to numeric, you'll need to deal with this somehow. To keep things simple, we will just replace \"T\" with zero, as a string (\"0\").*"
   ]
  },
  {
   "cell_type": "code",
   "execution_count": 46,
   "metadata": {},
   "outputs": [
    {
     "name": "stdout",
     "output_type": "stream",
     "text": [
      "'data.frame':\t366 obs. of  23 variables:\n",
      " $ date                     : Date, format: \"2014-12-01\" \"2014-12-10\" ...\n",
      " $ Events                   : chr  \"Rain\" \"Rain\" \"Rain-Snow\" \"Snow\" ...\n",
      " $ CloudCover               : num  6 8 8 7 5 4 2 8 8 7 ...\n",
      " $ Max.Dew.PointF           : num  46 45 37 28 28 29 33 42 46 34 ...\n",
      " $ Max.Gust.SpeedMPH        : num  29 29 28 21 23 20 21 10 26 30 ...\n",
      " $ Max.Humidity             : num  74 100 92 85 75 82 89 96 100 89 ...\n",
      " $ Max.Sea.Level.PressureIn : num  30.4 29.6 29.8 29.9 29.9 ...\n",
      " $ Max.TemperatureF         : num  64 48 39 39 42 45 42 44 49 44 ...\n",
      " $ Max.VisibilityMiles      : num  10 10 10 10 10 10 10 10 10 10 ...\n",
      " $ Max.Wind.SpeedMPH        : num  22 23 21 16 17 15 15 8 20 23 ...\n",
      " $ Mean.Humidity            : num  63 95 87 75 65 68 75 85 85 73 ...\n",
      " $ Mean.Sea.Level.PressureIn: num  30.1 29.5 29.6 29.9 29.8 ...\n",
      " $ Mean.TemperatureF        : num  52 43 36 35 37 39 37 40 45 40 ...\n",
      " $ Mean.VisibilityMiles     : num  10 3 7 10 10 10 10 9 6 10 ...\n",
      " $ Mean.Wind.SpeedMPH       : num  13 13 13 11 12 10 6 4 11 14 ...\n",
      " $ MeanDew.PointF           : num  40 39 31 27 26 27 29 36 41 30 ...\n",
      " $ Min.DewpointF            : num  26 37 27 25 24 25 27 30 32 26 ...\n",
      " $ Min.Humidity             : num  52 89 82 64 55 53 60 73 70 57 ...\n",
      " $ Min.Sea.Level.PressureIn : num  30 29.4 29.4 29.8 29.8 ...\n",
      " $ Min.TemperatureF         : num  39 38 32 31 32 33 32 35 41 36 ...\n",
      " $ Min.VisibilityMiles      : num  10 1 1 7 10 10 10 5 1 10 ...\n",
      " $ PrecipitationIn          : num  0.01 0.28 0.02 0 0 0 0 0 0.43 0.01 ...\n",
      " $ WindDirDegrees           : num  268 357 230 286 298 306 324 79 311 281 ...\n"
     ]
    }
   ],
   "source": [
    "# Replace \"T\" with \"0\" (T = trace)\n",
    "weather5$PrecipitationIn <- str_replace(weather5$PrecipitationIn, \"T\", \"0\")\n",
    "\n",
    "# Convert characters to numerics\n",
    "weather6 <- mutate_at(weather5, vars(CloudCover:WindDirDegrees), funs(as.numeric))\n",
    "\n",
    "# Look at result\n",
    "str(weather6)"
   ]
  },
  {
   "cell_type": "markdown",
   "metadata": {},
   "source": [
    "# Missing and special values\n",
    "## Missing value\n",
    "May be random, but dangerous to assume\n",
    "<br>NA in R is Missing value\n",
    "<br>NaN is not a number in R"
   ]
  },
  {
   "cell_type": "markdown",
   "metadata": {},
   "source": [
    "If missing values are properly coded as NA, the is.na() function will help you find them. Otherwise, if your dataset is too big to just look at the whole thing, you may need to try searching for some of the usual suspects like \"\", \"#N/A\", etc. You can also use the summary() and table() functions to turn up unexpected values in your data."
   ]
  },
  {
   "cell_type": "code",
   "execution_count": 47,
   "metadata": {},
   "outputs": [
    {
     "data": {
      "text/html": [
       "<table>\n",
       "<thead><tr><th scope=col>name</th><th scope=col>n_friends</th><th scope=col>status</th></tr></thead>\n",
       "<tbody>\n",
       "\t<tr><td>Sarah         </td><td>244           </td><td>Going out!    </td></tr>\n",
       "\t<tr><td>Tom           </td><td> NA           </td><td>              </td></tr>\n",
       "\t<tr><td>David         </td><td>145           </td><td>Movie night...</td></tr>\n",
       "\t<tr><td>Alice         </td><td> 43           </td><td>              </td></tr>\n",
       "</tbody>\n",
       "</table>\n"
      ],
      "text/latex": [
       "\\begin{tabular}{r|lll}\n",
       " name & n\\_friends & status\\\\\n",
       "\\hline\n",
       "\t Sarah          & 244            & Going out!    \\\\\n",
       "\t Tom            &  NA            &               \\\\\n",
       "\t David          & 145            & Movie night...\\\\\n",
       "\t Alice          &  43            &               \\\\\n",
       "\\end{tabular}\n"
      ],
      "text/markdown": [
       "\n",
       "name | n_friends | status | \n",
       "|---|---|---|---|\n",
       "| Sarah          | 244            | Going out!     | \n",
       "| Tom            |  NA            |                | \n",
       "| David          | 145            | Movie night... | \n",
       "| Alice          |  43            |                | \n",
       "\n",
       "\n"
      ],
      "text/plain": [
       "  name  n_friends status        \n",
       "1 Sarah 244       Going out!    \n",
       "2 Tom    NA                     \n",
       "3 David 145       Movie night...\n",
       "4 Alice  43                     "
      ]
     },
     "metadata": {},
     "output_type": "display_data"
    }
   ],
   "source": [
    "name <- c(\"Sarah\", \"Tom\", \"David\", \"Alice\")\n",
    "n_friends <- c(244, NA, 145, 43)\n",
    "status <- c(\"Going out!\", \"\", \"Movie night...\", \"\")\n",
    "social_df <- data.frame(name, n_friends, status)\n",
    "social_df"
   ]
  },
  {
   "cell_type": "code",
   "execution_count": 48,
   "metadata": {},
   "outputs": [
    {
     "data": {
      "text/html": [
       "<table>\n",
       "<thead><tr><th scope=col>name</th><th scope=col>n_friends</th><th scope=col>status</th></tr></thead>\n",
       "<tbody>\n",
       "\t<tr><td>FALSE</td><td>FALSE</td><td>FALSE</td></tr>\n",
       "\t<tr><td>FALSE</td><td> TRUE</td><td>FALSE</td></tr>\n",
       "\t<tr><td>FALSE</td><td>FALSE</td><td>FALSE</td></tr>\n",
       "\t<tr><td>FALSE</td><td>FALSE</td><td>FALSE</td></tr>\n",
       "</tbody>\n",
       "</table>\n"
      ],
      "text/latex": [
       "\\begin{tabular}{lll}\n",
       " name & n\\_friends & status\\\\\n",
       "\\hline\n",
       "\t FALSE & FALSE & FALSE\\\\\n",
       "\t FALSE &  TRUE & FALSE\\\\\n",
       "\t FALSE & FALSE & FALSE\\\\\n",
       "\t FALSE & FALSE & FALSE\\\\\n",
       "\\end{tabular}\n"
      ],
      "text/markdown": [
       "\n",
       "name | n_friends | status | \n",
       "|---|---|---|---|\n",
       "| FALSE | FALSE | FALSE | \n",
       "| FALSE |  TRUE | FALSE | \n",
       "| FALSE | FALSE | FALSE | \n",
       "| FALSE | FALSE | FALSE | \n",
       "\n",
       "\n"
      ],
      "text/plain": [
       "     name  n_friends status\n",
       "[1,] FALSE FALSE     FALSE \n",
       "[2,] FALSE  TRUE     FALSE \n",
       "[3,] FALSE FALSE     FALSE \n",
       "[4,] FALSE FALSE     FALSE "
      ]
     },
     "metadata": {},
     "output_type": "display_data"
    },
    {
     "data": {
      "text/html": [
       "TRUE"
      ],
      "text/latex": [
       "TRUE"
      ],
      "text/markdown": [
       "TRUE"
      ],
      "text/plain": [
       "[1] TRUE"
      ]
     },
     "metadata": {},
     "output_type": "display_data"
    },
    {
     "data": {
      "text/plain": [
       "    name     n_friends                status \n",
       " Alice:1   Min.   : 43.0                 :2  \n",
       " David:1   1st Qu.: 94.0   Going out!    :1  \n",
       " Sarah:1   Median :145.0   Movie night...:1  \n",
       " Tom  :1   Mean   :144.0                     \n",
       "           3rd Qu.:194.5                     \n",
       "           Max.   :244.0                     \n",
       "           NA's   :1                         "
      ]
     },
     "metadata": {},
     "output_type": "display_data"
    },
    {
     "data": {
      "text/plain": [
       "\n",
       "                   Going out! Movie night... \n",
       "             2              1              1 "
      ]
     },
     "metadata": {},
     "output_type": "display_data"
    }
   ],
   "source": [
    "# Call is.na() on the full social_df to spot all NAs\n",
    "is.na(social_df)\n",
    "\n",
    "# Use the any() function to ask whether there are any NAs in the data\n",
    "any(is.na(social_df))\n",
    "\n",
    "# View a summary() of the dataset\n",
    "summary(social_df)\n",
    "\n",
    "# Call table() on the status column\n",
    "table(social_df$status)"
   ]
  },
  {
   "cell_type": "code",
   "execution_count": 49,
   "metadata": {},
   "outputs": [
    {
     "data": {
      "text/html": [
       "6"
      ],
      "text/latex": [
       "6"
      ],
      "text/markdown": [
       "6"
      ],
      "text/plain": [
       "[1] 6"
      ]
     },
     "metadata": {},
     "output_type": "display_data"
    },
    {
     "data": {
      "text/plain": [
       "      date               Events            CloudCover    Max.Dew.PointF \n",
       " Min.   :2014-12-01   Length:366         Min.   :0.000   Min.   :-6.00  \n",
       " 1st Qu.:2015-03-02   Class :character   1st Qu.:3.000   1st Qu.:32.00  \n",
       " Median :2015-06-01   Mode  :character   Median :5.000   Median :47.50  \n",
       " Mean   :2015-06-01                      Mean   :4.708   Mean   :45.48  \n",
       " 3rd Qu.:2015-08-31                      3rd Qu.:7.000   3rd Qu.:61.00  \n",
       " Max.   :2015-12-01                      Max.   :8.000   Max.   :75.00  \n",
       "                                                                        \n",
       " Max.Gust.SpeedMPH  Max.Humidity     Max.Sea.Level.PressureIn Max.TemperatureF\n",
       " Min.   : 0.00     Min.   :  39.00   Min.   :29.58            Min.   :18.00   \n",
       " 1st Qu.:21.00     1st Qu.:  73.25   1st Qu.:30.00            1st Qu.:42.00   \n",
       " Median :25.50     Median :  86.00   Median :30.14            Median :60.00   \n",
       " Mean   :26.99     Mean   :  85.69   Mean   :30.16            Mean   :58.93   \n",
       " 3rd Qu.:31.25     3rd Qu.:  93.00   3rd Qu.:30.31            3rd Qu.:76.00   \n",
       " Max.   :94.00     Max.   :1000.00   Max.   :30.88            Max.   :96.00   \n",
       " NA's   :6                                                                    \n",
       " Max.VisibilityMiles Max.Wind.SpeedMPH Mean.Humidity  \n",
       " Min.   : 2.000      Min.   : 8.00     Min.   :28.00  \n",
       " 1st Qu.:10.000      1st Qu.:16.00     1st Qu.:56.00  \n",
       " Median :10.000      Median :20.00     Median :66.00  \n",
       " Mean   : 9.907      Mean   :20.62     Mean   :66.02  \n",
       " 3rd Qu.:10.000      3rd Qu.:24.00     3rd Qu.:76.75  \n",
       " Max.   :10.000      Max.   :38.00     Max.   :98.00  \n",
       "                                                      \n",
       " Mean.Sea.Level.PressureIn Mean.TemperatureF Mean.VisibilityMiles\n",
       " Min.   :29.49             Min.   : 8.00     Min.   :-1.000      \n",
       " 1st Qu.:29.87             1st Qu.:36.25     1st Qu.: 8.000      \n",
       " Median :30.03             Median :53.50     Median :10.000      \n",
       " Mean   :30.04             Mean   :51.40     Mean   : 8.861      \n",
       " 3rd Qu.:30.19             3rd Qu.:68.00     3rd Qu.:10.000      \n",
       " Max.   :30.77             Max.   :84.00     Max.   :10.000      \n",
       "                                                                 \n",
       " Mean.Wind.SpeedMPH MeanDew.PointF   Min.DewpointF     Min.Humidity  \n",
       " Min.   : 4.00      Min.   :-11.00   Min.   :-18.00   Min.   :16.00  \n",
       " 1st Qu.: 8.00      1st Qu.: 24.00   1st Qu.: 16.25   1st Qu.:35.00  \n",
       " Median :10.00      Median : 41.00   Median : 35.00   Median :46.00  \n",
       " Mean   :10.68      Mean   : 38.96   Mean   : 32.25   Mean   :48.31  \n",
       " 3rd Qu.:13.00      3rd Qu.: 56.00   3rd Qu.: 51.00   3rd Qu.:60.00  \n",
       " Max.   :22.00      Max.   : 71.00   Max.   : 68.00   Max.   :96.00  \n",
       "                                                                     \n",
       " Min.Sea.Level.PressureIn Min.TemperatureF Min.VisibilityMiles PrecipitationIn \n",
       " Min.   :29.16            Min.   :-3.00    Min.   : 0.000      Min.   :0.0000  \n",
       " 1st Qu.:29.76            1st Qu.:30.00    1st Qu.: 2.000      1st Qu.:0.0000  \n",
       " Median :29.94            Median :46.00    Median :10.000      Median :0.0000  \n",
       " Mean   :29.93            Mean   :43.33    Mean   : 6.716      Mean   :0.1016  \n",
       " 3rd Qu.:30.09            3rd Qu.:60.00    3rd Qu.:10.000      3rd Qu.:0.0400  \n",
       " Max.   :30.64            Max.   :74.00    Max.   :10.000      Max.   :2.9000  \n",
       "                                                                               \n",
       " WindDirDegrees \n",
       " Min.   :  1.0  \n",
       " 1st Qu.:113.0  \n",
       " Median :222.0  \n",
       " Mean   :200.1  \n",
       " 3rd Qu.:275.0  \n",
       " Max.   :360.0  \n",
       "                "
      ]
     },
     "metadata": {},
     "output_type": "display_data"
    },
    {
     "data": {
      "text/html": [
       "<table>\n",
       "<thead><tr><th></th><th scope=col>date</th><th scope=col>Events</th><th scope=col>CloudCover</th><th scope=col>Max.Dew.PointF</th><th scope=col>Max.Gust.SpeedMPH</th><th scope=col>Max.Humidity</th><th scope=col>Max.Sea.Level.PressureIn</th><th scope=col>Max.TemperatureF</th><th scope=col>Max.VisibilityMiles</th><th scope=col>Max.Wind.SpeedMPH</th><th scope=col>...</th><th scope=col>Mean.VisibilityMiles</th><th scope=col>Mean.Wind.SpeedMPH</th><th scope=col>MeanDew.PointF</th><th scope=col>Min.DewpointF</th><th scope=col>Min.Humidity</th><th scope=col>Min.Sea.Level.PressureIn</th><th scope=col>Min.TemperatureF</th><th scope=col>Min.VisibilityMiles</th><th scope=col>PrecipitationIn</th><th scope=col>WindDirDegrees</th></tr></thead>\n",
       "<tbody>\n",
       "\t<tr><th scope=row>161</th><td>2015-05-18</td><td>Fog       </td><td>6         </td><td>52        </td><td>NA        </td><td>100       </td><td>30.30     </td><td>58        </td><td>10        </td><td>16        </td><td>...       </td><td> 8        </td><td>10        </td><td>48        </td><td>43        </td><td>57        </td><td>30.12     </td><td>49        </td><td> 0        </td><td>0         </td><td> 72       </td></tr>\n",
       "\t<tr><th scope=row>205</th><td>2015-06-03</td><td>          </td><td>7         </td><td>48        </td><td>NA        </td><td> 93       </td><td>30.31     </td><td>56        </td><td>10        </td><td>14        </td><td>...       </td><td>10        </td><td> 7        </td><td>45        </td><td>43        </td><td>71        </td><td>30.19     </td><td>47        </td><td>10        </td><td>0         </td><td> 90       </td></tr>\n",
       "\t<tr><th scope=row>273</th><td>2015-08-08</td><td>          </td><td>4         </td><td>61        </td><td>NA        </td><td> 87       </td><td>30.02     </td><td>76        </td><td>10        </td><td>14        </td><td>...       </td><td>10        </td><td> 6        </td><td>57        </td><td>54        </td><td>49        </td><td>29.95     </td><td>61        </td><td>10        </td><td>0         </td><td> 45       </td></tr>\n",
       "\t<tr><th scope=row>275</th><td>2015-09-01</td><td>          </td><td>1         </td><td>63        </td><td>NA        </td><td> 78       </td><td>30.06     </td><td>79        </td><td>10        </td><td>15        </td><td>...       </td><td>10        </td><td> 9        </td><td>62        </td><td>59        </td><td>52        </td><td>29.96     </td><td>69        </td><td>10        </td><td>0         </td><td> 54       </td></tr>\n",
       "\t<tr><th scope=row>308</th><td>2015-10-12</td><td>          </td><td>0         </td><td>56        </td><td>NA        </td><td> 89       </td><td>29.86     </td><td>76        </td><td>10        </td><td>15        </td><td>...       </td><td>10        </td><td> 8        </td><td>51        </td><td>48        </td><td>41        </td><td>29.74     </td><td>51        </td><td>10        </td><td>0         </td><td>199       </td></tr>\n",
       "\t<tr><th scope=row>358</th><td>2015-11-03</td><td>          </td><td>1         </td><td>44        </td><td>NA        </td><td> 82       </td><td>30.25     </td><td>73        </td><td>10        </td><td>16        </td><td>...       </td><td>10        </td><td> 8        </td><td>42        </td><td>40        </td><td>31        </td><td>30.06     </td><td>47        </td><td>10        </td><td>0         </td><td>281       </td></tr>\n",
       "</tbody>\n",
       "</table>\n"
      ],
      "text/latex": [
       "\\begin{tabular}{r|lllllllllllllllllllllll}\n",
       "  & date & Events & CloudCover & Max.Dew.PointF & Max.Gust.SpeedMPH & Max.Humidity & Max.Sea.Level.PressureIn & Max.TemperatureF & Max.VisibilityMiles & Max.Wind.SpeedMPH & ... & Mean.VisibilityMiles & Mean.Wind.SpeedMPH & MeanDew.PointF & Min.DewpointF & Min.Humidity & Min.Sea.Level.PressureIn & Min.TemperatureF & Min.VisibilityMiles & PrecipitationIn & WindDirDegrees\\\\\n",
       "\\hline\n",
       "\t161 & 2015-05-18 & Fog        & 6          & 52         & NA         & 100        & 30.30      & 58         & 10         & 16         & ...        &  8         & 10         & 48         & 43         & 57         & 30.12      & 49         &  0         & 0          &  72       \\\\\n",
       "\t205 & 2015-06-03 &            & 7          & 48         & NA         &  93        & 30.31      & 56         & 10         & 14         & ...        & 10         &  7         & 45         & 43         & 71         & 30.19      & 47         & 10         & 0          &  90       \\\\\n",
       "\t273 & 2015-08-08 &            & 4          & 61         & NA         &  87        & 30.02      & 76         & 10         & 14         & ...        & 10         &  6         & 57         & 54         & 49         & 29.95      & 61         & 10         & 0          &  45       \\\\\n",
       "\t275 & 2015-09-01 &            & 1          & 63         & NA         &  78        & 30.06      & 79         & 10         & 15         & ...        & 10         &  9         & 62         & 59         & 52         & 29.96      & 69         & 10         & 0          &  54       \\\\\n",
       "\t308 & 2015-10-12 &            & 0          & 56         & NA         &  89        & 29.86      & 76         & 10         & 15         & ...        & 10         &  8         & 51         & 48         & 41         & 29.74      & 51         & 10         & 0          & 199       \\\\\n",
       "\t358 & 2015-11-03 &            & 1          & 44         & NA         &  82        & 30.25      & 73         & 10         & 16         & ...        & 10         &  8         & 42         & 40         & 31         & 30.06      & 47         & 10         & 0          & 281       \\\\\n",
       "\\end{tabular}\n"
      ],
      "text/markdown": [
       "\n",
       "| <!--/--> | date | Events | CloudCover | Max.Dew.PointF | Max.Gust.SpeedMPH | Max.Humidity | Max.Sea.Level.PressureIn | Max.TemperatureF | Max.VisibilityMiles | Max.Wind.SpeedMPH | ... | Mean.VisibilityMiles | Mean.Wind.SpeedMPH | MeanDew.PointF | Min.DewpointF | Min.Humidity | Min.Sea.Level.PressureIn | Min.TemperatureF | Min.VisibilityMiles | PrecipitationIn | WindDirDegrees | \n",
       "|---|---|---|---|---|---|\n",
       "| 161 | 2015-05-18 | Fog        | 6          | 52         | NA         | 100        | 30.30      | 58         | 10         | 16         | ...        |  8         | 10         | 48         | 43         | 57         | 30.12      | 49         |  0         | 0          |  72        | \n",
       "| 205 | 2015-06-03 |            | 7          | 48         | NA         |  93        | 30.31      | 56         | 10         | 14         | ...        | 10         |  7         | 45         | 43         | 71         | 30.19      | 47         | 10         | 0          |  90        | \n",
       "| 273 | 2015-08-08 |            | 4          | 61         | NA         |  87        | 30.02      | 76         | 10         | 14         | ...        | 10         |  6         | 57         | 54         | 49         | 29.95      | 61         | 10         | 0          |  45        | \n",
       "| 275 | 2015-09-01 |            | 1          | 63         | NA         |  78        | 30.06      | 79         | 10         | 15         | ...        | 10         |  9         | 62         | 59         | 52         | 29.96      | 69         | 10         | 0          |  54        | \n",
       "| 308 | 2015-10-12 |            | 0          | 56         | NA         |  89        | 29.86      | 76         | 10         | 15         | ...        | 10         |  8         | 51         | 48         | 41         | 29.74      | 51         | 10         | 0          | 199        | \n",
       "| 358 | 2015-11-03 |            | 1          | 44         | NA         |  82        | 30.25      | 73         | 10         | 16         | ...        | 10         |  8         | 42         | 40         | 31         | 30.06      | 47         | 10         | 0          | 281        | \n",
       "\n",
       "\n"
      ],
      "text/plain": [
       "    date       Events CloudCover Max.Dew.PointF Max.Gust.SpeedMPH Max.Humidity\n",
       "161 2015-05-18 Fog    6          52             NA                100         \n",
       "205 2015-06-03        7          48             NA                 93         \n",
       "273 2015-08-08        4          61             NA                 87         \n",
       "275 2015-09-01        1          63             NA                 78         \n",
       "308 2015-10-12        0          56             NA                 89         \n",
       "358 2015-11-03        1          44             NA                 82         \n",
       "    Max.Sea.Level.PressureIn Max.TemperatureF Max.VisibilityMiles\n",
       "161 30.30                    58               10                 \n",
       "205 30.31                    56               10                 \n",
       "273 30.02                    76               10                 \n",
       "275 30.06                    79               10                 \n",
       "308 29.86                    76               10                 \n",
       "358 30.25                    73               10                 \n",
       "    Max.Wind.SpeedMPH ... Mean.VisibilityMiles Mean.Wind.SpeedMPH\n",
       "161 16                ...  8                   10                \n",
       "205 14                ... 10                    7                \n",
       "273 14                ... 10                    6                \n",
       "275 15                ... 10                    9                \n",
       "308 15                ... 10                    8                \n",
       "358 16                ... 10                    8                \n",
       "    MeanDew.PointF Min.DewpointF Min.Humidity Min.Sea.Level.PressureIn\n",
       "161 48             43            57           30.12                   \n",
       "205 45             43            71           30.19                   \n",
       "273 57             54            49           29.95                   \n",
       "275 62             59            52           29.96                   \n",
       "308 51             48            41           29.74                   \n",
       "358 42             40            31           30.06                   \n",
       "    Min.TemperatureF Min.VisibilityMiles PrecipitationIn WindDirDegrees\n",
       "161 49                0                  0                72           \n",
       "205 47               10                  0                90           \n",
       "273 61               10                  0                45           \n",
       "275 69               10                  0                54           \n",
       "308 51               10                  0               199           \n",
       "358 47               10                  0               281           "
      ]
     },
     "metadata": {},
     "output_type": "display_data"
    }
   ],
   "source": [
    "#Finding the missing values in the weather data set\n",
    "# Count missing values\n",
    "sum(is.na(weather6))\n",
    "\n",
    "# Find missing values\n",
    "summary(weather6)\n",
    "\n",
    "# Find indices of NAs in Max.Gust.SpeedMPH\n",
    "ind <- which(is.na(weather6$Max.Gust.SpeedMPH))\n",
    "# Look at the full rows for records missing Max.Gust.SpeedMPH\n",
    "weather6[ind, ]"
   ]
  },
  {
   "cell_type": "markdown",
   "metadata": {},
   "source": [
    "## Dealing with missing values\n"
   ]
  },
  {
   "cell_type": "code",
   "execution_count": 50,
   "metadata": {},
   "outputs": [
    {
     "data": {
      "text/html": [
       "<table>\n",
       "<thead><tr><th scope=col>name</th><th scope=col>n_friends</th><th scope=col>status</th></tr></thead>\n",
       "<tbody>\n",
       "\t<tr><td>Sarah         </td><td>244           </td><td>Going out!    </td></tr>\n",
       "\t<tr><td>Tom           </td><td> NA           </td><td>NA            </td></tr>\n",
       "\t<tr><td>David         </td><td>145           </td><td>Movie night...</td></tr>\n",
       "\t<tr><td>Alice         </td><td> 43           </td><td>NA            </td></tr>\n",
       "</tbody>\n",
       "</table>\n"
      ],
      "text/latex": [
       "\\begin{tabular}{r|lll}\n",
       " name & n\\_friends & status\\\\\n",
       "\\hline\n",
       "\t Sarah          & 244            & Going out!    \\\\\n",
       "\t Tom            &  NA            & NA            \\\\\n",
       "\t David          & 145            & Movie night...\\\\\n",
       "\t Alice          &  43            & NA            \\\\\n",
       "\\end{tabular}\n"
      ],
      "text/markdown": [
       "\n",
       "name | n_friends | status | \n",
       "|---|---|---|---|\n",
       "| Sarah          | 244            | Going out!     | \n",
       "| Tom            |  NA            | NA             | \n",
       "| David          | 145            | Movie night... | \n",
       "| Alice          |  43            | NA             | \n",
       "\n",
       "\n"
      ],
      "text/plain": [
       "  name  n_friends status        \n",
       "1 Sarah 244       Going out!    \n",
       "2 Tom    NA       NA            \n",
       "3 David 145       Movie night...\n",
       "4 Alice  43       NA            "
      ]
     },
     "metadata": {},
     "output_type": "display_data"
    },
    {
     "data": {
      "text/html": [
       "<ol class=list-inline>\n",
       "\t<li>TRUE</li>\n",
       "\t<li>FALSE</li>\n",
       "\t<li>TRUE</li>\n",
       "\t<li>FALSE</li>\n",
       "</ol>\n"
      ],
      "text/latex": [
       "\\begin{enumerate*}\n",
       "\\item TRUE\n",
       "\\item FALSE\n",
       "\\item TRUE\n",
       "\\item FALSE\n",
       "\\end{enumerate*}\n"
      ],
      "text/markdown": [
       "1. TRUE\n",
       "2. FALSE\n",
       "3. TRUE\n",
       "4. FALSE\n",
       "\n",
       "\n"
      ],
      "text/plain": [
       "[1]  TRUE FALSE  TRUE FALSE"
      ]
     },
     "metadata": {},
     "output_type": "display_data"
    },
    {
     "data": {
      "text/html": [
       "<table>\n",
       "<thead><tr><th></th><th scope=col>name</th><th scope=col>n_friends</th><th scope=col>status</th></tr></thead>\n",
       "<tbody>\n",
       "\t<tr><th scope=row>1</th><td>Sarah         </td><td>244           </td><td>Going out!    </td></tr>\n",
       "\t<tr><th scope=row>3</th><td>David         </td><td>145           </td><td>Movie night...</td></tr>\n",
       "</tbody>\n",
       "</table>\n"
      ],
      "text/latex": [
       "\\begin{tabular}{r|lll}\n",
       "  & name & n\\_friends & status\\\\\n",
       "\\hline\n",
       "\t1 & Sarah          & 244            & Going out!    \\\\\n",
       "\t3 & David          & 145            & Movie night...\\\\\n",
       "\\end{tabular}\n"
      ],
      "text/markdown": [
       "\n",
       "| <!--/--> | name | n_friends | status | \n",
       "|---|---|\n",
       "| 1 | Sarah          | 244            | Going out!     | \n",
       "| 3 | David          | 145            | Movie night... | \n",
       "\n",
       "\n"
      ],
      "text/plain": [
       "  name  n_friends status        \n",
       "1 Sarah 244       Going out!    \n",
       "3 David 145       Movie night..."
      ]
     },
     "metadata": {},
     "output_type": "display_data"
    }
   ],
   "source": [
    "# Replace all empty strings in status with NA\n",
    "social_df$status[social_df$status == \"\"] <- NA\n",
    "\n",
    "# Print social_df to the console\n",
    "social_df\n",
    "\n",
    "# Use complete.cases() to see which rows have no missing values\n",
    "complete.cases(social_df)\n",
    "\n",
    "# Use na.omit() to remove all rows with any missing values\n",
    "na.omit(social_df)"
   ]
  },
  {
   "cell_type": "markdown",
   "metadata": {},
   "source": [
    "## Outliers\n",
    "Detecting ouliers hist() and summary() and boxplot() are espeacially helpful"
   ]
  },
  {
   "cell_type": "code",
   "execution_count": 51,
   "metadata": {},
   "outputs": [
    {
     "data": {
      "text/plain": [
       "   Min. 1st Qu.  Median    Mean 3rd Qu.    Max. \n",
       "  39.00   73.25   86.00   85.69   93.00 1000.00 "
      ]
     },
     "metadata": {},
     "output_type": "display_data"
    },
    {
     "data": {
      "text/html": [
       "<table>\n",
       "<thead><tr><th></th><th scope=col>date</th><th scope=col>Events</th><th scope=col>CloudCover</th><th scope=col>Max.Dew.PointF</th><th scope=col>Max.Gust.SpeedMPH</th><th scope=col>Max.Humidity</th><th scope=col>Max.Sea.Level.PressureIn</th><th scope=col>Max.TemperatureF</th><th scope=col>Max.VisibilityMiles</th><th scope=col>Max.Wind.SpeedMPH</th><th scope=col>...</th><th scope=col>Mean.VisibilityMiles</th><th scope=col>Mean.Wind.SpeedMPH</th><th scope=col>MeanDew.PointF</th><th scope=col>Min.DewpointF</th><th scope=col>Min.Humidity</th><th scope=col>Min.Sea.Level.PressureIn</th><th scope=col>Min.TemperatureF</th><th scope=col>Min.VisibilityMiles</th><th scope=col>PrecipitationIn</th><th scope=col>WindDirDegrees</th></tr></thead>\n",
       "<tbody>\n",
       "\t<tr><th scope=row>135</th><td>2015-04-21           </td><td>Fog-Rain-Thunderstorm</td><td>6                    </td><td>57                   </td><td>94                   </td><td>1000                 </td><td>29.75                </td><td>65                   </td><td>10                   </td><td>20                   </td><td>...                  </td><td>5                    </td><td>10                   </td><td>49                   </td><td>36                   </td><td>42                   </td><td>29.53                </td><td>46                   </td><td>0                    </td><td>0.54                 </td><td>184                  </td></tr>\n",
       "</tbody>\n",
       "</table>\n"
      ],
      "text/latex": [
       "\\begin{tabular}{r|lllllllllllllllllllllll}\n",
       "  & date & Events & CloudCover & Max.Dew.PointF & Max.Gust.SpeedMPH & Max.Humidity & Max.Sea.Level.PressureIn & Max.TemperatureF & Max.VisibilityMiles & Max.Wind.SpeedMPH & ... & Mean.VisibilityMiles & Mean.Wind.SpeedMPH & MeanDew.PointF & Min.DewpointF & Min.Humidity & Min.Sea.Level.PressureIn & Min.TemperatureF & Min.VisibilityMiles & PrecipitationIn & WindDirDegrees\\\\\n",
       "\\hline\n",
       "\t135 & 2015-04-21            & Fog-Rain-Thunderstorm & 6                     & 57                    & 94                    & 1000                  & 29.75                 & 65                    & 10                    & 20                    & ...                   & 5                     & 10                    & 49                    & 36                    & 42                    & 29.53                 & 46                    & 0                     & 0.54                  & 184                  \\\\\n",
       "\\end{tabular}\n"
      ],
      "text/markdown": [
       "\n",
       "| <!--/--> | date | Events | CloudCover | Max.Dew.PointF | Max.Gust.SpeedMPH | Max.Humidity | Max.Sea.Level.PressureIn | Max.TemperatureF | Max.VisibilityMiles | Max.Wind.SpeedMPH | ... | Mean.VisibilityMiles | Mean.Wind.SpeedMPH | MeanDew.PointF | Min.DewpointF | Min.Humidity | Min.Sea.Level.PressureIn | Min.TemperatureF | Min.VisibilityMiles | PrecipitationIn | WindDirDegrees | \n",
       "|---|\n",
       "| 135 | 2015-04-21            | Fog-Rain-Thunderstorm | 6                     | 57                    | 94                    | 1000                  | 29.75                 | 65                    | 10                    | 20                    | ...                   | 5                     | 10                    | 49                    | 36                    | 42                    | 29.53                 | 46                    | 0                     | 0.54                  | 184                   | \n",
       "\n",
       "\n"
      ],
      "text/plain": [
       "    date       Events                CloudCover Max.Dew.PointF\n",
       "135 2015-04-21 Fog-Rain-Thunderstorm 6          57            \n",
       "    Max.Gust.SpeedMPH Max.Humidity Max.Sea.Level.PressureIn Max.TemperatureF\n",
       "135 94                1000         29.75                    65              \n",
       "    Max.VisibilityMiles Max.Wind.SpeedMPH ... Mean.VisibilityMiles\n",
       "135 10                  20                ... 5                   \n",
       "    Mean.Wind.SpeedMPH MeanDew.PointF Min.DewpointF Min.Humidity\n",
       "135 10                 49             36            42          \n",
       "    Min.Sea.Level.PressureIn Min.TemperatureF Min.VisibilityMiles\n",
       "135 29.53                    46               0                  \n",
       "    PrecipitationIn WindDirDegrees\n",
       "135 0.54            184           "
      ]
     },
     "metadata": {},
     "output_type": "display_data"
    }
   ],
   "source": [
    "# Review of Max.Humidity\n",
    "summary(weather6$Max.Humidity)\n",
    "\n",
    "# Find row with Max.Humidity of 1000\n",
    "ind <- which(weather6$Max.Humidity == 1000)\n",
    "\n",
    "# Look at the data for that day\n",
    "weather6[ind, ]\n",
    "\n",
    "# Change 1000 to 100\n",
    "weather6$Max.Humidity[ind] <- 100"
   ]
  },
  {
   "cell_type": "code",
   "execution_count": 52,
   "metadata": {},
   "outputs": [
    {
     "data": {
      "text/plain": [
       "   Min. 1st Qu.  Median    Mean 3rd Qu.    Max. \n",
       " -1.000   8.000  10.000   8.861  10.000  10.000 "
      ]
     },
     "metadata": {},
     "output_type": "display_data"
    },
    {
     "data": {
      "text/html": [
       "<table>\n",
       "<thead><tr><th></th><th scope=col>date</th><th scope=col>Events</th><th scope=col>CloudCover</th><th scope=col>Max.Dew.PointF</th><th scope=col>Max.Gust.SpeedMPH</th><th scope=col>Max.Humidity</th><th scope=col>Max.Sea.Level.PressureIn</th><th scope=col>Max.TemperatureF</th><th scope=col>Max.VisibilityMiles</th><th scope=col>Max.Wind.SpeedMPH</th><th scope=col>...</th><th scope=col>Mean.VisibilityMiles</th><th scope=col>Mean.Wind.SpeedMPH</th><th scope=col>MeanDew.PointF</th><th scope=col>Min.DewpointF</th><th scope=col>Min.Humidity</th><th scope=col>Min.Sea.Level.PressureIn</th><th scope=col>Min.TemperatureF</th><th scope=col>Min.VisibilityMiles</th><th scope=col>PrecipitationIn</th><th scope=col>WindDirDegrees</th></tr></thead>\n",
       "<tbody>\n",
       "\t<tr><th scope=row>192</th><td>2015-06-18</td><td>          </td><td>5         </td><td>54        </td><td>23        </td><td>72        </td><td>30.14     </td><td>76        </td><td>10        </td><td>17        </td><td>...       </td><td>-1        </td><td>10        </td><td>49        </td><td>45        </td><td>46        </td><td>29.93     </td><td>57        </td><td>10        </td><td>0         </td><td>189       </td></tr>\n",
       "</tbody>\n",
       "</table>\n"
      ],
      "text/latex": [
       "\\begin{tabular}{r|lllllllllllllllllllllll}\n",
       "  & date & Events & CloudCover & Max.Dew.PointF & Max.Gust.SpeedMPH & Max.Humidity & Max.Sea.Level.PressureIn & Max.TemperatureF & Max.VisibilityMiles & Max.Wind.SpeedMPH & ... & Mean.VisibilityMiles & Mean.Wind.SpeedMPH & MeanDew.PointF & Min.DewpointF & Min.Humidity & Min.Sea.Level.PressureIn & Min.TemperatureF & Min.VisibilityMiles & PrecipitationIn & WindDirDegrees\\\\\n",
       "\\hline\n",
       "\t192 & 2015-06-18 &            & 5          & 54         & 23         & 72         & 30.14      & 76         & 10         & 17         & ...        & -1         & 10         & 49         & 45         & 46         & 29.93      & 57         & 10         & 0          & 189       \\\\\n",
       "\\end{tabular}\n"
      ],
      "text/markdown": [
       "\n",
       "| <!--/--> | date | Events | CloudCover | Max.Dew.PointF | Max.Gust.SpeedMPH | Max.Humidity | Max.Sea.Level.PressureIn | Max.TemperatureF | Max.VisibilityMiles | Max.Wind.SpeedMPH | ... | Mean.VisibilityMiles | Mean.Wind.SpeedMPH | MeanDew.PointF | Min.DewpointF | Min.Humidity | Min.Sea.Level.PressureIn | Min.TemperatureF | Min.VisibilityMiles | PrecipitationIn | WindDirDegrees | \n",
       "|---|\n",
       "| 192 | 2015-06-18 |            | 5          | 54         | 23         | 72         | 30.14      | 76         | 10         | 17         | ...        | -1         | 10         | 49         | 45         | 46         | 29.93      | 57         | 10         | 0          | 189        | \n",
       "\n",
       "\n"
      ],
      "text/plain": [
       "    date       Events CloudCover Max.Dew.PointF Max.Gust.SpeedMPH Max.Humidity\n",
       "192 2015-06-18        5          54             23                72          \n",
       "    Max.Sea.Level.PressureIn Max.TemperatureF Max.VisibilityMiles\n",
       "192 30.14                    76               10                 \n",
       "    Max.Wind.SpeedMPH ... Mean.VisibilityMiles Mean.Wind.SpeedMPH\n",
       "192 17                ... -1                   10                \n",
       "    MeanDew.PointF Min.DewpointF Min.Humidity Min.Sea.Level.PressureIn\n",
       "192 49             45            46           29.93                   \n",
       "    Min.TemperatureF Min.VisibilityMiles PrecipitationIn WindDirDegrees\n",
       "192 57               10                  0               189           "
      ]
     },
     "metadata": {},
     "output_type": "display_data"
    },
    {
     "data": {
      "text/html": [
       "<table>\n",
       "<thead><tr><th></th><th scope=col>date</th><th scope=col>Events</th><th scope=col>CloudCover</th><th scope=col>Max.Dew.PointF</th><th scope=col>Max.Gust.SpeedMPH</th><th scope=col>Max.Humidity</th><th scope=col>Max.Sea.Level.PressureIn</th><th scope=col>Max.TemperatureF</th><th scope=col>Max.VisibilityMiles</th><th scope=col>Max.Wind.SpeedMPH</th><th scope=col>...</th><th scope=col>Mean.VisibilityMiles</th><th scope=col>Mean.Wind.SpeedMPH</th><th scope=col>MeanDew.PointF</th><th scope=col>Min.DewpointF</th><th scope=col>Min.Humidity</th><th scope=col>Min.Sea.Level.PressureIn</th><th scope=col>Min.TemperatureF</th><th scope=col>Min.VisibilityMiles</th><th scope=col>PrecipitationIn</th><th scope=col>WindDirDegrees</th></tr></thead>\n",
       "<tbody>\n",
       "\t<tr><th scope=row>198</th><td>2015-06-23</td><td>Rain      </td><td>6         </td><td>72        </td><td>33        </td><td>100       </td><td>29.96     </td><td>88        </td><td>10        </td><td>28        </td><td>...       </td><td>10        </td><td>12        </td><td>66        </td><td>59        </td><td>60        </td><td>29.68     </td><td>60        </td><td> 9        </td><td>0.01      </td><td>201       </td></tr>\n",
       "\t<tr><th scope=row>199</th><td>2015-06-24</td><td>          </td><td>2         </td><td>60        </td><td>28        </td><td> 73       </td><td>29.97     </td><td>84        </td><td>10        </td><td>20        </td><td>...       </td><td>10        </td><td>11        </td><td>54        </td><td>46        </td><td>30        </td><td>29.78     </td><td>67        </td><td>10        </td><td>0.00      </td><td>298       </td></tr>\n",
       "\t<tr><th scope=row>200</th><td>2015-06-25</td><td>          </td><td>4         </td><td>61        </td><td>21        </td><td> 76       </td><td>30.03     </td><td>81        </td><td>10        </td><td>15        </td><td>...       </td><td>10        </td><td> 7        </td><td>55        </td><td>52        </td><td>36        </td><td>29.93     </td><td>64        </td><td>10        </td><td>0.00      </td><td>292       </td></tr>\n",
       "\t<tr><th scope=row>201</th><td>2015-06-26</td><td>Rain      </td><td>5         </td><td>58        </td><td>20        </td><td> 84       </td><td>30.09     </td><td>72        </td><td>10        </td><td>16        </td><td>...       </td><td>10        </td><td> 8        </td><td>53        </td><td>46        </td><td>52        </td><td>29.94     </td><td>59        </td><td>10        </td><td>0.00      </td><td> 41       </td></tr>\n",
       "\t<tr><th scope=row>202</th><td>2015-06-27</td><td>Rain      </td><td>6         </td><td>58        </td><td> 0        </td><td> 93       </td><td>30.19     </td><td>68        </td><td>10        </td><td>38        </td><td>...       </td><td>10        </td><td> 8        </td><td>55        </td><td>48        </td><td>58        </td><td>30.09     </td><td>57        </td><td> 7        </td><td>0.20      </td><td>108       </td></tr>\n",
       "</tbody>\n",
       "</table>\n"
      ],
      "text/latex": [
       "\\begin{tabular}{r|lllllllllllllllllllllll}\n",
       "  & date & Events & CloudCover & Max.Dew.PointF & Max.Gust.SpeedMPH & Max.Humidity & Max.Sea.Level.PressureIn & Max.TemperatureF & Max.VisibilityMiles & Max.Wind.SpeedMPH & ... & Mean.VisibilityMiles & Mean.Wind.SpeedMPH & MeanDew.PointF & Min.DewpointF & Min.Humidity & Min.Sea.Level.PressureIn & Min.TemperatureF & Min.VisibilityMiles & PrecipitationIn & WindDirDegrees\\\\\n",
       "\\hline\n",
       "\t198 & 2015-06-23 & Rain       & 6          & 72         & 33         & 100        & 29.96      & 88         & 10         & 28         & ...        & 10         & 12         & 66         & 59         & 60         & 29.68      & 60         &  9         & 0.01       & 201       \\\\\n",
       "\t199 & 2015-06-24 &            & 2          & 60         & 28         &  73        & 29.97      & 84         & 10         & 20         & ...        & 10         & 11         & 54         & 46         & 30         & 29.78      & 67         & 10         & 0.00       & 298       \\\\\n",
       "\t200 & 2015-06-25 &            & 4          & 61         & 21         &  76        & 30.03      & 81         & 10         & 15         & ...        & 10         &  7         & 55         & 52         & 36         & 29.93      & 64         & 10         & 0.00       & 292       \\\\\n",
       "\t201 & 2015-06-26 & Rain       & 5          & 58         & 20         &  84        & 30.09      & 72         & 10         & 16         & ...        & 10         &  8         & 53         & 46         & 52         & 29.94      & 59         & 10         & 0.00       &  41       \\\\\n",
       "\t202 & 2015-06-27 & Rain       & 6          & 58         &  0         &  93        & 30.19      & 68         & 10         & 38         & ...        & 10         &  8         & 55         & 48         & 58         & 30.09      & 57         &  7         & 0.20       & 108       \\\\\n",
       "\\end{tabular}\n"
      ],
      "text/markdown": [
       "\n",
       "| <!--/--> | date | Events | CloudCover | Max.Dew.PointF | Max.Gust.SpeedMPH | Max.Humidity | Max.Sea.Level.PressureIn | Max.TemperatureF | Max.VisibilityMiles | Max.Wind.SpeedMPH | ... | Mean.VisibilityMiles | Mean.Wind.SpeedMPH | MeanDew.PointF | Min.DewpointF | Min.Humidity | Min.Sea.Level.PressureIn | Min.TemperatureF | Min.VisibilityMiles | PrecipitationIn | WindDirDegrees | \n",
       "|---|---|---|---|---|\n",
       "| 198 | 2015-06-23 | Rain       | 6          | 72         | 33         | 100        | 29.96      | 88         | 10         | 28         | ...        | 10         | 12         | 66         | 59         | 60         | 29.68      | 60         |  9         | 0.01       | 201        | \n",
       "| 199 | 2015-06-24 |            | 2          | 60         | 28         |  73        | 29.97      | 84         | 10         | 20         | ...        | 10         | 11         | 54         | 46         | 30         | 29.78      | 67         | 10         | 0.00       | 298        | \n",
       "| 200 | 2015-06-25 |            | 4          | 61         | 21         |  76        | 30.03      | 81         | 10         | 15         | ...        | 10         |  7         | 55         | 52         | 36         | 29.93      | 64         | 10         | 0.00       | 292        | \n",
       "| 201 | 2015-06-26 | Rain       | 5          | 58         | 20         |  84        | 30.09      | 72         | 10         | 16         | ...        | 10         |  8         | 53         | 46         | 52         | 29.94      | 59         | 10         | 0.00       |  41        | \n",
       "| 202 | 2015-06-27 | Rain       | 6          | 58         |  0         |  93        | 30.19      | 68         | 10         | 38         | ...        | 10         |  8         | 55         | 48         | 58         | 30.09      | 57         |  7         | 0.20       | 108        | \n",
       "\n",
       "\n"
      ],
      "text/plain": [
       "    date       Events CloudCover Max.Dew.PointF Max.Gust.SpeedMPH Max.Humidity\n",
       "198 2015-06-23 Rain   6          72             33                100         \n",
       "199 2015-06-24        2          60             28                 73         \n",
       "200 2015-06-25        4          61             21                 76         \n",
       "201 2015-06-26 Rain   5          58             20                 84         \n",
       "202 2015-06-27 Rain   6          58              0                 93         \n",
       "    Max.Sea.Level.PressureIn Max.TemperatureF Max.VisibilityMiles\n",
       "198 29.96                    88               10                 \n",
       "199 29.97                    84               10                 \n",
       "200 30.03                    81               10                 \n",
       "201 30.09                    72               10                 \n",
       "202 30.19                    68               10                 \n",
       "    Max.Wind.SpeedMPH ... Mean.VisibilityMiles Mean.Wind.SpeedMPH\n",
       "198 28                ... 10                   12                \n",
       "199 20                ... 10                   11                \n",
       "200 15                ... 10                    7                \n",
       "201 16                ... 10                    8                \n",
       "202 38                ... 10                    8                \n",
       "    MeanDew.PointF Min.DewpointF Min.Humidity Min.Sea.Level.PressureIn\n",
       "198 66             59            60           29.68                   \n",
       "199 54             46            30           29.78                   \n",
       "200 55             52            36           29.93                   \n",
       "201 53             46            52           29.94                   \n",
       "202 55             48            58           30.09                   \n",
       "    Min.TemperatureF Min.VisibilityMiles PrecipitationIn WindDirDegrees\n",
       "198 60                9                  0.01            201           \n",
       "199 67               10                  0.00            298           \n",
       "200 64               10                  0.00            292           \n",
       "201 59               10                  0.00             41           \n",
       "202 57                7                  0.20            108           "
      ]
     },
     "metadata": {},
     "output_type": "display_data"
    }
   ],
   "source": [
    "# Look at summary of Mean.VisibilityMiles\n",
    "summary(weather6$Mean.VisibilityMiles)\n",
    "\n",
    "# Get index of row with -1 value\n",
    "ind <- which(weather6$Mean.VisibilityMiles == -1)\n",
    "\n",
    "# Look at full row\n",
    "weather6[ind,]\n",
    "weather6[198:202,]\n",
    "# Set Mean.VisibilityMiles to the appropriate value\n",
    "weather6$Mean.VisibilityMiles[ind] <- 10"
   ]
  },
  {
   "cell_type": "code",
   "execution_count": 53,
   "metadata": {},
   "outputs": [
    {
     "data": {
      "image/png": "[encoded data removed]",
      "text/plain": [
       "Plot with title \"Histogram of weather6$MeanDew.PointF\""
      ]
     },
     "metadata": {},
     "output_type": "display_data"
    },
    {
     "data": {
      "image/png": "[encoded data removed]",
      "text/plain": [
       "Plot with title \"Histogram of weather6$Min.TemperatureF\""
      ]
     },
     "metadata": {},
     "output_type": "display_data"
    },
    {
     "data": {
      "image/png": "[encoded data removed]",
      "text/plain": [
       "Plot with title \"Histogram of weather6$Mean.TemperatureF\""
      ]
     },
     "metadata": {},
     "output_type": "display_data"
    }
   ],
   "source": [
    "\n",
    "# Look at histogram for MeanDew.PointF\n",
    "hist(weather6$MeanDew.PointF)\n",
    "\n",
    "# Look at histogram for Min.TemperatureF\n",
    "hist(weather6$Min.TemperatureF)\n",
    "\n",
    "# Compare to histogram for Mean.TemperatureF\n",
    "hist(weather6$Mean.TemperatureF)"
   ]
  },
  {
   "cell_type": "markdown",
   "metadata": {},
   "source": [
    "## Upper and lower case\n",
    "Making strings uppercase and lowercase (base)"
   ]
  },
  {
   "cell_type": "code",
   "execution_count": 54,
   "metadata": {},
   "outputs": [],
   "source": [
    "upper <- toupper(c(\"select\", \"Ac\", \"kErin\"))"
   ]
  },
  {
   "cell_type": "code",
   "execution_count": 55,
   "metadata": {},
   "outputs": [
    {
     "data": {
      "text/html": [
       "<ol class=list-inline>\n",
       "\t<li>'select'</li>\n",
       "\t<li>'ac'</li>\n",
       "\t<li>'kerin'</li>\n",
       "</ol>\n"
      ],
      "text/latex": [
       "\\begin{enumerate*}\n",
       "\\item 'select'\n",
       "\\item 'ac'\n",
       "\\item 'kerin'\n",
       "\\end{enumerate*}\n"
      ],
      "text/markdown": [
       "1. 'select'\n",
       "2. 'ac'\n",
       "3. 'kerin'\n",
       "\n",
       "\n"
      ],
      "text/plain": [
       "[1] \"select\" \"ac\"     \"kerin\" "
      ]
     },
     "metadata": {},
     "output_type": "display_data"
    }
   ],
   "source": [
    "tolower(upper)"
   ]
  },
  {
   "cell_type": "code",
   "execution_count": 56,
   "metadata": {},
   "outputs": [
    {
     "data": {
      "text/html": [
       "<table>\n",
       "<thead><tr><th scope=col>date</th><th scope=col>events</th><th scope=col>cloudcover</th><th scope=col>max_dew_pointf</th><th scope=col>max_gust_speedmph</th><th scope=col>max_humidity</th><th scope=col>max_sea_level_pressurein</th><th scope=col>max_temperaturef</th><th scope=col>max_visibilitymiles</th><th scope=col>max_wind_speedmph</th><th scope=col>...</th><th scope=col>mean_visibilitymiles</th><th scope=col>mean_wind_speedmph</th><th scope=col>meandew_pointf</th><th scope=col>min_dewpointf</th><th scope=col>min_humidity</th><th scope=col>min_sea_level_pressurein</th><th scope=col>min_temperaturef</th><th scope=col>min_visibilitymiles</th><th scope=col>precipitationin</th><th scope=col>winddirdegrees</th></tr></thead>\n",
       "<tbody>\n",
       "\t<tr><td>2014-12-01</td><td>Rain      </td><td>6         </td><td>46        </td><td>29        </td><td> 74       </td><td>30.45     </td><td>64        </td><td>10        </td><td>22        </td><td>...       </td><td>10        </td><td>13        </td><td>40        </td><td>26        </td><td>52        </td><td>30.01     </td><td>39        </td><td>10        </td><td>0.01      </td><td>268       </td></tr>\n",
       "\t<tr><td>2014-12-10</td><td>Rain      </td><td>8         </td><td>45        </td><td>29        </td><td>100       </td><td>29.58     </td><td>48        </td><td>10        </td><td>23        </td><td>...       </td><td> 3        </td><td>13        </td><td>39        </td><td>37        </td><td>89        </td><td>29.43     </td><td>38        </td><td> 1        </td><td>0.28      </td><td>357       </td></tr>\n",
       "\t<tr><td>2014-12-11</td><td>Rain-Snow </td><td>8         </td><td>37        </td><td>28        </td><td> 92       </td><td>29.81     </td><td>39        </td><td>10        </td><td>21        </td><td>...       </td><td> 7        </td><td>13        </td><td>31        </td><td>27        </td><td>82        </td><td>29.44     </td><td>32        </td><td> 1        </td><td>0.02      </td><td>230       </td></tr>\n",
       "\t<tr><td>2014-12-12</td><td>Snow      </td><td>7         </td><td>28        </td><td>21        </td><td> 85       </td><td>29.88     </td><td>39        </td><td>10        </td><td>16        </td><td>...       </td><td>10        </td><td>11        </td><td>27        </td><td>25        </td><td>64        </td><td>29.81     </td><td>31        </td><td> 7        </td><td>0.00      </td><td>286       </td></tr>\n",
       "\t<tr><td>2014-12-13</td><td>None      </td><td>5         </td><td>28        </td><td>23        </td><td> 75       </td><td>29.86     </td><td>42        </td><td>10        </td><td>17        </td><td>...       </td><td>10        </td><td>12        </td><td>26        </td><td>24        </td><td>55        </td><td>29.78     </td><td>32        </td><td>10        </td><td>0.00      </td><td>298       </td></tr>\n",
       "\t<tr><td>2014-12-14</td><td>None      </td><td>4         </td><td>29        </td><td>20        </td><td> 82       </td><td>29.91     </td><td>45        </td><td>10        </td><td>15        </td><td>...       </td><td>10        </td><td>10        </td><td>27        </td><td>25        </td><td>53        </td><td>29.78     </td><td>33        </td><td>10        </td><td>0.00      </td><td>306       </td></tr>\n",
       "</tbody>\n",
       "</table>\n"
      ],
      "text/latex": [
       "\\begin{tabular}{r|lllllllllllllllllllllll}\n",
       " date & events & cloudcover & max\\_dew\\_pointf & max\\_gust\\_speedmph & max\\_humidity & max\\_sea\\_level\\_pressurein & max\\_temperaturef & max\\_visibilitymiles & max\\_wind\\_speedmph & ... & mean\\_visibilitymiles & mean\\_wind\\_speedmph & meandew\\_pointf & min\\_dewpointf & min\\_humidity & min\\_sea\\_level\\_pressurein & min\\_temperaturef & min\\_visibilitymiles & precipitationin & winddirdegrees\\\\\n",
       "\\hline\n",
       "\t 2014-12-01 & Rain       & 6          & 46         & 29         &  74        & 30.45      & 64         & 10         & 22         & ...        & 10         & 13         & 40         & 26         & 52         & 30.01      & 39         & 10         & 0.01       & 268       \\\\\n",
       "\t 2014-12-10 & Rain       & 8          & 45         & 29         & 100        & 29.58      & 48         & 10         & 23         & ...        &  3         & 13         & 39         & 37         & 89         & 29.43      & 38         &  1         & 0.28       & 357       \\\\\n",
       "\t 2014-12-11 & Rain-Snow  & 8          & 37         & 28         &  92        & 29.81      & 39         & 10         & 21         & ...        &  7         & 13         & 31         & 27         & 82         & 29.44      & 32         &  1         & 0.02       & 230       \\\\\n",
       "\t 2014-12-12 & Snow       & 7          & 28         & 21         &  85        & 29.88      & 39         & 10         & 16         & ...        & 10         & 11         & 27         & 25         & 64         & 29.81      & 31         &  7         & 0.00       & 286       \\\\\n",
       "\t 2014-12-13 & None       & 5          & 28         & 23         &  75        & 29.86      & 42         & 10         & 17         & ...        & 10         & 12         & 26         & 24         & 55         & 29.78      & 32         & 10         & 0.00       & 298       \\\\\n",
       "\t 2014-12-14 & None       & 4          & 29         & 20         &  82        & 29.91      & 45         & 10         & 15         & ...        & 10         & 10         & 27         & 25         & 53         & 29.78      & 33         & 10         & 0.00       & 306       \\\\\n",
       "\\end{tabular}\n"
      ],
      "text/markdown": [
       "\n",
       "date | events | cloudcover | max_dew_pointf | max_gust_speedmph | max_humidity | max_sea_level_pressurein | max_temperaturef | max_visibilitymiles | max_wind_speedmph | ... | mean_visibilitymiles | mean_wind_speedmph | meandew_pointf | min_dewpointf | min_humidity | min_sea_level_pressurein | min_temperaturef | min_visibilitymiles | precipitationin | winddirdegrees | \n",
       "|---|---|---|---|---|---|\n",
       "| 2014-12-01 | Rain       | 6          | 46         | 29         |  74        | 30.45      | 64         | 10         | 22         | ...        | 10         | 13         | 40         | 26         | 52         | 30.01      | 39         | 10         | 0.01       | 268        | \n",
       "| 2014-12-10 | Rain       | 8          | 45         | 29         | 100        | 29.58      | 48         | 10         | 23         | ...        |  3         | 13         | 39         | 37         | 89         | 29.43      | 38         |  1         | 0.28       | 357        | \n",
       "| 2014-12-11 | Rain-Snow  | 8          | 37         | 28         |  92        | 29.81      | 39         | 10         | 21         | ...        |  7         | 13         | 31         | 27         | 82         | 29.44      | 32         |  1         | 0.02       | 230        | \n",
       "| 2014-12-12 | Snow       | 7          | 28         | 21         |  85        | 29.88      | 39         | 10         | 16         | ...        | 10         | 11         | 27         | 25         | 64         | 29.81      | 31         |  7         | 0.00       | 286        | \n",
       "| 2014-12-13 | None       | 5          | 28         | 23         |  75        | 29.86      | 42         | 10         | 17         | ...        | 10         | 12         | 26         | 24         | 55         | 29.78      | 32         | 10         | 0.00       | 298        | \n",
       "| 2014-12-14 | None       | 4          | 29         | 20         |  82        | 29.91      | 45         | 10         | 15         | ...        | 10         | 10         | 27         | 25         | 53         | 29.78      | 33         | 10         | 0.00       | 306        | \n",
       "\n",
       "\n"
      ],
      "text/plain": [
       "  date       events    cloudcover max_dew_pointf max_gust_speedmph max_humidity\n",
       "1 2014-12-01 Rain      6          46             29                 74         \n",
       "2 2014-12-10 Rain      8          45             29                100         \n",
       "3 2014-12-11 Rain-Snow 8          37             28                 92         \n",
       "4 2014-12-12 Snow      7          28             21                 85         \n",
       "5 2014-12-13 None      5          28             23                 75         \n",
       "6 2014-12-14 None      4          29             20                 82         \n",
       "  max_sea_level_pressurein max_temperaturef max_visibilitymiles\n",
       "1 30.45                    64               10                 \n",
       "2 29.58                    48               10                 \n",
       "3 29.81                    39               10                 \n",
       "4 29.88                    39               10                 \n",
       "5 29.86                    42               10                 \n",
       "6 29.91                    45               10                 \n",
       "  max_wind_speedmph ... mean_visibilitymiles mean_wind_speedmph meandew_pointf\n",
       "1 22                ... 10                   13                 40            \n",
       "2 23                ...  3                   13                 39            \n",
       "3 21                ...  7                   13                 31            \n",
       "4 16                ... 10                   11                 27            \n",
       "5 17                ... 10                   12                 26            \n",
       "6 15                ... 10                   10                 27            \n",
       "  min_dewpointf min_humidity min_sea_level_pressurein min_temperaturef\n",
       "1 26            52           30.01                    39              \n",
       "2 37            89           29.43                    38              \n",
       "3 27            82           29.44                    32              \n",
       "4 25            64           29.81                    31              \n",
       "5 24            55           29.78                    32              \n",
       "6 25            53           29.78                    33              \n",
       "  min_visibilitymiles precipitationin winddirdegrees\n",
       "1 10                  0.01            268           \n",
       "2  1                  0.28            357           \n",
       "3  1                  0.02            230           \n",
       "4  7                  0.00            286           \n",
       "5 10                  0.00            298           \n",
       "6 10                  0.00            306           "
      ]
     },
     "metadata": {},
     "output_type": "display_data"
    }
   ],
   "source": [
    "#renaming the columnames\n",
    "new_colnames <- tolower(names(weather6))\n",
    "# A simple regular expression to replace dots with spaces\n",
    "# This might have unintended consequences, so be sure to check the results\n",
    "new_colnames <- gsub(x = new_colnames, pattern = \"\\\\.\", replacement = \"\\\\_\")\n",
    "# Clean up column names\n",
    "names(weather6) <- new_colnames\n",
    "\n",
    "# Replace empty cells in events column\n",
    "weather6$events[weather6$events == \"\"] <- \"None\"\n",
    "    \n",
    "# Print the first 6 rows of weather6\n",
    "head(weather6)"
   ]
  }
 ],
 "metadata": {
  "kernelspec": {
   "display_name": "R",
   "language": "R",
   "name": "ir"
  },
  "language_info": {
   "codemirror_mode": "r",
   "file_extension": ".r",
   "mimetype": "text/x-r-source",
   "name": "R",
   "pygments_lexer": "r",
   "version": "3.5.1"
  }
 },
 "nbformat": 4,
 "nbformat_minor": 2
}

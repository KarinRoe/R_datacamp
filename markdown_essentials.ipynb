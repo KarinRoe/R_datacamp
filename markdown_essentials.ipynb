{
 "cells": [
  {
   "cell_type": "code",
   "execution_count": 1,
   "metadata": {},
   "outputs": [],
   "source": [
    "# setting the graphic width and height for ggplot\n",
    "library(repr)\n",
    "options(repr.plot.width=7.27, repr.plot.height=4.98)"
   ]
  },
  {
   "cell_type": "markdown",
   "metadata": {},
   "source": [
    "# Styling narrative sections"
   ]
  },
  {
   "cell_type": "markdown",
   "metadata": {},
   "source": [
    "`*italics*`\n",
    "<br>*italics*\n",
    "<br>`**bold**`\n",
    "<br>**bold**\n",
    "<br>code within backtick\n",
    "<br>`code`"
   ]
  },
  {
   "cell_type": "markdown",
   "metadata": {},
   "source": [
    "Link:\n",
    "<br>`[RStudio](www.rstudio.com)`\n",
    "<br>[RStudio](www.rstudio.com)"
   ]
  },
  {
   "cell_type": "markdown",
   "metadata": {},
   "source": [
    "`# First level header`\n",
    "# First level header\n",
    "`## Second level header`\n",
    "## Second level header\n",
    "`### Third level header`\n",
    "### Third level header"
   ]
  },
  {
   "cell_type": "markdown",
   "metadata": {},
   "source": [
    "# Lists in R Markdown"
   ]
  },
  {
   "cell_type": "markdown",
   "metadata": {},
   "source": [
    "`* item 1`\n",
    "<br>`* item 2`\n",
    "<br>`* item 3`\n",
    "\n",
    "* item 1\n",
    "* item 2\n",
    "* item 3"
   ]
  },
  {
   "cell_type": "markdown",
   "metadata": {},
   "source": [
    "`1. item 1`\n",
    "<br>`2. item 2`\n",
    "<br>`3. item 3`\n",
    "\n",
    "1. item 1\n",
    "2. item 2\n",
    "3. item 3"
   ]
  },
  {
   "cell_type": "markdown",
   "metadata": {},
   "source": [
    "# LaTeX equations"
   ]
  },
  {
   "cell_type": "markdown",
   "metadata": {},
   "source": [
    "`$$1 + 1 = 2$$`\n",
    "$$1 + 1 = 2$$"
   ]
  },
  {
   "cell_type": "markdown",
   "metadata": {},
   "source": [
    "You can convert the temperature unit from Kelvin to Celsius with the formula\n",
    "\n",
    "`$$ celsius = kelvin - 273.15 $$`\n",
    "$$ celsius = kelvin - 273.15 $$\n",
    "\n",
    "And you can convert the result to Fahrenheit with the formula\n",
    "\n",
    "`$$ fahrenheit = celsius \\times \\frac{9}{5} + 32 $$`\n",
    "$$ fahrenheit = celsius \\times \\frac{9}{5} + 32 $$"
   ]
  }
 ],
 "metadata": {
  "kernelspec": {
   "display_name": "R",
   "language": "R",
   "name": "ir"
  },
  "language_info": {
   "codemirror_mode": "r",
   "file_extension": ".r",
   "mimetype": "text/x-r-source",
   "name": "R",
   "pygments_lexer": "r",
   "version": "3.5.1"
  }
 },
 "nbformat": 4,
 "nbformat_minor": 2
}

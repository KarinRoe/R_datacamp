{
 "cells": [
  {
   "cell_type": "code",
   "execution_count": 28,
   "metadata": {},
   "outputs": [],
   "source": [
    "library(openintro)\n",
    "library(ggplot2)\n",
    "library(dplyr)\n",
    "library(tidyr)\n",
    "library(broom)\n",
    "# setting the graphic width and height for ggplot\n",
    "library(repr)\n",
    "options(repr.plot.width=6, repr.plot.height=4)"
   ]
  },
  {
   "cell_type": "markdown",
   "metadata": {},
   "source": [
    "Using the bdims dataset, create a scatterplot illustrating how a person's weight varies as a function of their height. Use color to separate by sex, which you'll need to coerce to a factor with `factor()`."
   ]
  },
  {
   "cell_type": "code",
   "execution_count": 13,
   "metadata": {},
   "outputs": [
    {
     "data": {},
     "metadata": {},
     "output_type": "display_data"
    },
    {
     "data": {
      "image/png": "[encoded data removed]",
      "text/plain": [
       "plot without title"
      ]
     },
     "metadata": {},
     "output_type": "display_data"
    }
   ],
   "source": [
    "data(bdims)\n",
    "# Body dimensions scatterplot\n",
    "ggplot(bdims, aes(x = hgt, y = wgt, color = factor(sex)))+\n",
    "  geom_point()"
   ]
  },
  {
   "cell_type": "code",
   "execution_count": 56,
   "metadata": {},
   "outputs": [
    {
     "data": {
      "text/html": [
       "<table>\n",
       "<thead><tr><th scope=col>sex</th><th scope=col>N</th><th scope=col>r</th></tr></thead>\n",
       "<tbody>\n",
       "\t<tr><td>0        </td><td>260      </td><td>0.4310593</td></tr>\n",
       "\t<tr><td>1        </td><td>247      </td><td>0.5347418</td></tr>\n",
       "</tbody>\n",
       "</table>\n"
      ],
      "text/latex": [
       "\\begin{tabular}{r|lll}\n",
       " sex & N & r\\\\\n",
       "\\hline\n",
       "\t 0         & 260       & 0.4310593\\\\\n",
       "\t 1         & 247       & 0.5347418\\\\\n",
       "\\end{tabular}\n"
      ],
      "text/markdown": [
       "\n",
       "sex | N | r | \n",
       "|---|---|\n",
       "| 0         | 260       | 0.4310593 | \n",
       "| 1         | 247       | 0.5347418 | \n",
       "\n",
       "\n"
      ],
      "text/plain": [
       "  sex N   r        \n",
       "1 0   260 0.4310593\n",
       "2 1   247 0.5347418"
      ]
     },
     "metadata": {},
     "output_type": "display_data"
    }
   ],
   "source": [
    "# Correlation of body dimensions\n",
    "bdims %>%\n",
    "  group_by(sex) %>%\n",
    "  summarize(N = n(), r = cor(hgt, wgt))"
   ]
  },
  {
   "cell_type": "markdown",
   "metadata": {},
   "source": [
    "Using the smoking dataset, create a scatterplot illustrating how the amount that a person smokes on weekdays varies as a function of their age. "
   ]
  },
  {
   "cell_type": "code",
   "execution_count": 14,
   "metadata": {},
   "outputs": [
    {
     "name": "stderr",
     "output_type": "stream",
     "text": [
      "Warning message:\n",
      "\"Removed 1270 rows containing missing values (geom_point).\""
     ]
    },
    {
     "data": {},
     "metadata": {},
     "output_type": "display_data"
    },
    {
     "data": {
      "image/png": "[encoded data removed]",
      "text/plain": [
       "plot without title"
      ]
     },
     "metadata": {},
     "output_type": "display_data"
    }
   ],
   "source": [
    "data(smoking)\n",
    "\n",
    "# Smoking scatterplot\n",
    "ggplot(smoking, aes(x = age, y = amtWeekdays))+\n",
    "  geom_point()"
   ]
  },
  {
   "cell_type": "markdown",
   "metadata": {},
   "source": [
    "Using the mammals dataset, create a scatterplot illustrating how the brain weight of a mammal varies as a function of its body weight."
   ]
  },
  {
   "cell_type": "code",
   "execution_count": 11,
   "metadata": {},
   "outputs": [
    {
     "data": {},
     "metadata": {},
     "output_type": "display_data"
    },
    {
     "data": {
      "image/png": "[encoded data removed]",
      "text/plain": [
       "plot without title"
      ]
     },
     "metadata": {},
     "output_type": "display_data"
    }
   ],
   "source": [
    "data(mammals)\n",
    "# Mammals scatterplot\n",
    "ggplot(mammals, aes(x = BodyWt, y = BrainWt)) +\n",
    "  geom_point()"
   ]
  },
  {
   "cell_type": "markdown",
   "metadata": {},
   "source": [
    "## Transformations\n",
    "\n",
    "The relationship between two variables may not be linear. In these cases we can sometimes see strange and even inscrutable patterns in a scatterplot of the data. Sometimes there really is no meaningful relationship between the two variables. Other times, a careful transformation of one or both of the variables can reveal a clear relationship.\n",
    "\n",
    "Recall the bizarre pattern that you saw in the scatterplot between brain weight and body weight among mammals in a previous exercise. Can we use transformations to clarify this relationship?\n",
    "\n",
    "ggplot2 provides several different mechanisms for viewing transformed relationships. The `coord_trans()` function transforms the coordinates of the plot. Alternatively, the `scale_x_log10()` and `scale_y_log10()` functions perform a base-10 log transformation of each axis. Note the differences in the appearance of the axes."
   ]
  },
  {
   "cell_type": "code",
   "execution_count": 15,
   "metadata": {},
   "outputs": [
    {
     "data": {},
     "metadata": {},
     "output_type": "display_data"
    },
    {
     "data": {
      "image/png": "[encoded data removed]",
      "text/plain": [
       "plot without title"
      ]
     },
     "metadata": {},
     "output_type": "display_data"
    }
   ],
   "source": [
    "# Scatterplot with coord_trans()\n",
    "ggplot(data = mammals, aes(x = BodyWt, y = BrainWt)) +\n",
    "  geom_point() + \n",
    "  coord_trans(x = \"log10\", y = \"log10\")"
   ]
  },
  {
   "cell_type": "code",
   "execution_count": 16,
   "metadata": {},
   "outputs": [
    {
     "data": {},
     "metadata": {},
     "output_type": "display_data"
    },
    {
     "data": {
      "image/png": "[encoded data removed]",
      "text/plain": [
       "plot without title"
      ]
     },
     "metadata": {},
     "output_type": "display_data"
    }
   ],
   "source": [
    "# Scatterplot with scale_x_log10() and scale_y_log10()\n",
    "ggplot(data = mammals, aes(x = BodyWt, y = BrainWt)) +\n",
    "  geom_point() +\n",
    "  scale_x_log10() + scale_y_log10()"
   ]
  },
  {
   "cell_type": "code",
   "execution_count": 57,
   "metadata": {},
   "outputs": [
    {
     "data": {
      "text/html": [
       "<table>\n",
       "<thead><tr><th scope=col>N</th><th scope=col>r</th><th scope=col>r_log</th></tr></thead>\n",
       "<tbody>\n",
       "\t<tr><td>62       </td><td>0.9341638</td><td>0.9595748</td></tr>\n",
       "</tbody>\n",
       "</table>\n"
      ],
      "text/latex": [
       "\\begin{tabular}{r|lll}\n",
       " N & r & r\\_log\\\\\n",
       "\\hline\n",
       "\t 62        & 0.9341638 & 0.9595748\\\\\n",
       "\\end{tabular}\n"
      ],
      "text/markdown": [
       "\n",
       "N | r | r_log | \n",
       "|---|\n",
       "| 62        | 0.9341638 | 0.9595748 | \n",
       "\n",
       "\n"
      ],
      "text/plain": [
       "  N  r         r_log    \n",
       "1 62 0.9341638 0.9595748"
      ]
     },
     "metadata": {},
     "output_type": "display_data"
    }
   ],
   "source": [
    "# Correlation among mammals, with and without log\n",
    "mammals %>%\n",
    "  summarize(N = n(), \n",
    "            r = cor(BodyWt, BrainWt), \n",
    "            r_log = cor(log(BodyWt), log(BrainWt)))"
   ]
  },
  {
   "cell_type": "markdown",
   "metadata": {},
   "source": [
    "## Identifying outliers"
   ]
  },
  {
   "cell_type": "markdown",
   "metadata": {},
   "source": [
    "Using the mlbBat10 dataset, create a scatterplot illustrating how the slugging percentage (SLG) of a player varies as a function of his on-base percentage (OBP). "
   ]
  },
  {
   "cell_type": "code",
   "execution_count": 12,
   "metadata": {},
   "outputs": [
    {
     "data": {},
     "metadata": {},
     "output_type": "display_data"
    },
    {
     "data": {
      "image/png": "[encoded data removed]",
      "text/plain": [
       "plot without title"
      ]
     },
     "metadata": {},
     "output_type": "display_data"
    }
   ],
   "source": [
    "data(mlbBat10)\n",
    "# Baseball player scatterplot\n",
    "ggplot(mlbBat10, aes(x = OBP, y = SLG))+\n",
    "  geom_point()"
   ]
  },
  {
   "cell_type": "code",
   "execution_count": 20,
   "metadata": {},
   "outputs": [
    {
     "data": {},
     "metadata": {},
     "output_type": "display_data"
    },
    {
     "data": {
      "text/html": [
       "<table>\n",
       "<thead><tr><th scope=col>name</th><th scope=col>team</th><th scope=col>position</th><th scope=col>G</th><th scope=col>AB</th><th scope=col>R</th><th scope=col>H</th><th scope=col>2B</th><th scope=col>3B</th><th scope=col>HR</th><th scope=col>RBI</th><th scope=col>TB</th><th scope=col>BB</th><th scope=col>SO</th><th scope=col>SB</th><th scope=col>CS</th><th scope=col>OBP</th><th scope=col>SLG</th><th scope=col>AVG</th></tr></thead>\n",
       "<tbody>\n",
       "\t<tr><td>B Wood</td><td>LAA   </td><td>3B    </td><td>81    </td><td>226   </td><td>20    </td><td>33    </td><td>2     </td><td>0     </td><td>4     </td><td>14    </td><td>47    </td><td>6     </td><td>71    </td><td>1     </td><td>0     </td><td>0.174 </td><td>0.208 </td><td>0.146 </td></tr>\n",
       "</tbody>\n",
       "</table>\n"
      ],
      "text/latex": [
       "\\begin{tabular}{r|lllllllllllllllllll}\n",
       " name & team & position & G & AB & R & H & 2B & 3B & HR & RBI & TB & BB & SO & SB & CS & OBP & SLG & AVG\\\\\n",
       "\\hline\n",
       "\t B Wood & LAA    & 3B     & 81     & 226    & 20     & 33     & 2      & 0      & 4      & 14     & 47     & 6      & 71     & 1      & 0      & 0.174  & 0.208  & 0.146 \\\\\n",
       "\\end{tabular}\n"
      ],
      "text/markdown": [
       "\n",
       "name | team | position | G | AB | R | H | 2B | 3B | HR | RBI | TB | BB | SO | SB | CS | OBP | SLG | AVG | \n",
       "|---|\n",
       "| B Wood | LAA    | 3B     | 81     | 226    | 20     | 33     | 2      | 0      | 4      | 14     | 47     | 6      | 71     | 1      | 0      | 0.174  | 0.208  | 0.146  | \n",
       "\n",
       "\n"
      ],
      "text/plain": [
       "  name   team position G  AB  R  H  2B 3B HR RBI TB BB SO SB CS OBP   SLG  \n",
       "1 B Wood LAA  3B       81 226 20 33 2  0  4  14  47 6  71 1  0  0.174 0.208\n",
       "  AVG  \n",
       "1 0.146"
      ]
     },
     "metadata": {},
     "output_type": "display_data"
    },
    {
     "data": {
      "image/png": "[encoded data removed]",
      "text/plain": [
       "plot without title"
      ]
     },
     "metadata": {},
     "output_type": "display_data"
    }
   ],
   "source": [
    "# Scatterplot of SLG vs. OBP where the at bat is at least 200\n",
    "mlbBat10 %>%\n",
    "  filter(AB >= 200) %>%\n",
    "  ggplot(aes(x = OBP, y = SLG)) +\n",
    "  geom_point()\n",
    "\n",
    "# Identify the outlying player\n",
    "mlbBat10 %>%\n",
    "  filter(AB >= 200, OBP < 0.2)"
   ]
  },
  {
   "cell_type": "code",
   "execution_count": 58,
   "metadata": {},
   "outputs": [
    {
     "data": {
      "text/html": [
       "<table>\n",
       "<thead><tr><th scope=col>N</th><th scope=col>r</th></tr></thead>\n",
       "<tbody>\n",
       "\t<tr><td>1199     </td><td>0.8145628</td></tr>\n",
       "</tbody>\n",
       "</table>\n"
      ],
      "text/latex": [
       "\\begin{tabular}{r|ll}\n",
       " N & r\\\\\n",
       "\\hline\n",
       "\t 1199      & 0.8145628\\\\\n",
       "\\end{tabular}\n"
      ],
      "text/markdown": [
       "\n",
       "N | r | \n",
       "|---|\n",
       "| 1199      | 0.8145628 | \n",
       "\n",
       "\n"
      ],
      "text/plain": [
       "  N    r        \n",
       "1 1199 0.8145628"
      ]
     },
     "metadata": {},
     "output_type": "display_data"
    },
    {
     "data": {
      "text/html": [
       "<table>\n",
       "<thead><tr><th scope=col>N</th><th scope=col>r</th></tr></thead>\n",
       "<tbody>\n",
       "\t<tr><td>329      </td><td>0.6855364</td></tr>\n",
       "</tbody>\n",
       "</table>\n"
      ],
      "text/latex": [
       "\\begin{tabular}{r|ll}\n",
       " N & r\\\\\n",
       "\\hline\n",
       "\t 329       & 0.6855364\\\\\n",
       "\\end{tabular}\n"
      ],
      "text/markdown": [
       "\n",
       "N | r | \n",
       "|---|\n",
       "| 329       | 0.6855364 | \n",
       "\n",
       "\n"
      ],
      "text/plain": [
       "  N   r        \n",
       "1 329 0.6855364"
      ]
     },
     "metadata": {},
     "output_type": "display_data"
    }
   ],
   "source": [
    "# Correlation for all baseball players\n",
    "mlbBat10 %>%\n",
    "  summarize(N = n(), r = cor(OBP, SLG))\n",
    "\n",
    "# Correlation for all players with at least 200 ABs\n",
    "mlbBat10 %>%\n",
    "  filter(AB >= 200) %>%\n",
    "  summarize(N = n(), r = cor(OBP, SLG))"
   ]
  },
  {
   "cell_type": "markdown",
   "metadata": {},
   "source": [
    "## Correlation\n",
    "<b>Computing correlation</b>\n",
    "\n",
    "The `cor(x, y)` function will compute the <b>Pearson product-moment correlation</b> between variables, x and y. Since this quantity is symmetric with respect to x and y, it doesn't matter in which order you put the variables.\n",
    "\n",
    "At the same time, the `cor()` function is very conservative when it encounters missing data (e.g. NAs). The `use` argument allows you to override the default behavior of returning NA whenever any of the values encountered is NA. Setting the use argument to \"pairwise.complete.obs\" allows `cor()` to compute the correlation coefficient for those observations where the values of x and y are both not missing."
   ]
  },
  {
   "cell_type": "code",
   "execution_count": 22,
   "metadata": {},
   "outputs": [
    {
     "data": {
      "text/html": [
       "<table>\n",
       "<thead><tr><th scope=col>N</th><th scope=col>r</th></tr></thead>\n",
       "<tbody>\n",
       "\t<tr><td>1000      </td><td>0.05506589</td></tr>\n",
       "</tbody>\n",
       "</table>\n"
      ],
      "text/latex": [
       "\\begin{tabular}{r|ll}\n",
       " N & r\\\\\n",
       "\\hline\n",
       "\t 1000       & 0.05506589\\\\\n",
       "\\end{tabular}\n"
      ],
      "text/markdown": [
       "\n",
       "N | r | \n",
       "|---|\n",
       "| 1000       | 0.05506589 | \n",
       "\n",
       "\n"
      ],
      "text/plain": [
       "  N    r         \n",
       "1 1000 0.05506589"
      ]
     },
     "metadata": {},
     "output_type": "display_data"
    },
    {
     "data": {
      "text/html": [
       "<table>\n",
       "<thead><tr><th scope=col>N</th><th scope=col>r</th></tr></thead>\n",
       "<tbody>\n",
       "\t<tr><td>1000     </td><td>0.6701013</td></tr>\n",
       "</tbody>\n",
       "</table>\n"
      ],
      "text/latex": [
       "\\begin{tabular}{r|ll}\n",
       " N & r\\\\\n",
       "\\hline\n",
       "\t 1000      & 0.6701013\\\\\n",
       "\\end{tabular}\n"
      ],
      "text/markdown": [
       "\n",
       "N | r | \n",
       "|---|\n",
       "| 1000      | 0.6701013 | \n",
       "\n",
       "\n"
      ],
      "text/plain": [
       "  N    r        \n",
       "1 1000 0.6701013"
      ]
     },
     "metadata": {},
     "output_type": "display_data"
    }
   ],
   "source": [
    "data(ncbirths)\n",
    "# Compute correlation between mothers age and weight of the baby\n",
    "ncbirths %>%\n",
    "  summarize(N = n(), r = cor(mage, weight)) \n",
    "\n",
    "# Compute correlation for all non-missing pairs between weeks of pregnancy and weight of the baby\n",
    "ncbirths %>%\n",
    "  summarize(N = n(), r = cor(weeks, weight, use = \"pairwise.complete.obs\"))"
   ]
  },
  {
   "cell_type": "markdown",
   "metadata": {},
   "source": [
    "## Anscombe dataset\n",
    "In 1973, Francis Anscombe famously created four datasets with remarkably similar numerical properties, but obviously different graphic relationships. The Anscombe dataset contains the x and y coordinates for these four datasets, along with a grouping variable, set, that distinguishes the quartet."
   ]
  },
  {
   "cell_type": "code",
   "execution_count": 52,
   "metadata": {},
   "outputs": [
    {
     "data": {
      "text/html": [
       "<table>\n",
       "<thead><tr><th scope=col>x1</th><th scope=col>x2</th><th scope=col>x3</th><th scope=col>x4</th><th scope=col>y1</th><th scope=col>y2</th><th scope=col>y3</th><th scope=col>y4</th></tr></thead>\n",
       "<tbody>\n",
       "\t<tr><td>10  </td><td>10  </td><td>10  </td><td>8   </td><td>8.04</td><td>9.14</td><td>7.46</td><td>6.58</td></tr>\n",
       "\t<tr><td> 8  </td><td> 8  </td><td> 8  </td><td>8   </td><td>6.95</td><td>8.14</td><td>6.77</td><td>5.76</td></tr>\n",
       "</tbody>\n",
       "</table>\n"
      ],
      "text/latex": [
       "\\begin{tabular}{r|llllllll}\n",
       " x1 & x2 & x3 & x4 & y1 & y2 & y3 & y4\\\\\n",
       "\\hline\n",
       "\t 10   & 10   & 10   & 8    & 8.04 & 9.14 & 7.46 & 6.58\\\\\n",
       "\t  8   &  8   &  8   & 8    & 6.95 & 8.14 & 6.77 & 5.76\\\\\n",
       "\\end{tabular}\n"
      ],
      "text/markdown": [
       "\n",
       "x1 | x2 | x3 | x4 | y1 | y2 | y3 | y4 | \n",
       "|---|---|\n",
       "| 10   | 10   | 10   | 8    | 8.04 | 9.14 | 7.46 | 6.58 | \n",
       "|  8   |  8   |  8   | 8    | 6.95 | 8.14 | 6.77 | 5.76 | \n",
       "\n",
       "\n"
      ],
      "text/plain": [
       "  x1 x2 x3 x4 y1   y2   y3   y4  \n",
       "1 10 10 10 8  8.04 9.14 7.46 6.58\n",
       "2  8  8  8 8  6.95 8.14 6.77 5.76"
      ]
     },
     "metadata": {},
     "output_type": "display_data"
    },
    {
     "data": {
      "text/html": [
       "<table>\n",
       "<thead><tr><th scope=col>id</th><th scope=col>set</th><th scope=col>x</th><th scope=col>y</th></tr></thead>\n",
       "<tbody>\n",
       "\t<tr><td>1   </td><td>1   </td><td>10  </td><td>8.04</td></tr>\n",
       "\t<tr><td>1   </td><td>2   </td><td>10  </td><td>9.14</td></tr>\n",
       "</tbody>\n",
       "</table>\n"
      ],
      "text/latex": [
       "\\begin{tabular}{r|llll}\n",
       " id & set & x & y\\\\\n",
       "\\hline\n",
       "\t 1    & 1    & 10   & 8.04\\\\\n",
       "\t 1    & 2    & 10   & 9.14\\\\\n",
       "\\end{tabular}\n"
      ],
      "text/markdown": [
       "\n",
       "id | set | x | y | \n",
       "|---|---|\n",
       "| 1    | 1    | 10   | 8.04 | \n",
       "| 1    | 2    | 10   | 9.14 | \n",
       "\n",
       "\n"
      ],
      "text/plain": [
       "  id set x  y   \n",
       "1 1  1   10 8.04\n",
       "2 1  2   10 9.14"
      ]
     },
     "metadata": {},
     "output_type": "display_data"
    }
   ],
   "source": [
    "# changing the anscombe dataset to a long dataset\n",
    "Anscombe <- anscombe %>%\n",
    "    tibble::rowid_to_column(\"id\")%>%\n",
    "    gather(key = \"set\", value = \"value\", - id) %>%\n",
    "    separate(col = set, into = c(\"x.y\",\"set\"), sep =  \"(?<=[A-Za-z])(?=[0-9])\") %>%\n",
    "    spread(key = x.y, value = value)\n",
    "\n",
    "head(anscombe, 2)\n",
    "head(Anscombe, 2)"
   ]
  },
  {
   "cell_type": "code",
   "execution_count": 55,
   "metadata": {},
   "outputs": [
    {
     "data": {
      "text/html": [
       "<table>\n",
       "<thead><tr><th scope=col>set</th><th scope=col>N</th><th scope=col>mean(x)</th><th scope=col>sd(x)</th><th scope=col>mean(y)</th><th scope=col>sd(y)</th><th scope=col>cor(x, y)</th></tr></thead>\n",
       "<tbody>\n",
       "\t<tr><td>1        </td><td>11       </td><td>9        </td><td>3.316625 </td><td>7.500909 </td><td>2.031568 </td><td>0.8164205</td></tr>\n",
       "\t<tr><td>2        </td><td>11       </td><td>9        </td><td>3.316625 </td><td>7.500909 </td><td>2.031657 </td><td>0.8162365</td></tr>\n",
       "\t<tr><td>3        </td><td>11       </td><td>9        </td><td>3.316625 </td><td>7.500000 </td><td>2.030424 </td><td>0.8162867</td></tr>\n",
       "\t<tr><td>4        </td><td>11       </td><td>9        </td><td>3.316625 </td><td>7.500909 </td><td>2.030579 </td><td>0.8165214</td></tr>\n",
       "</tbody>\n",
       "</table>\n"
      ],
      "text/latex": [
       "\\begin{tabular}{r|lllllll}\n",
       " set & N & mean(x) & sd(x) & mean(y) & sd(y) & cor(x, y)\\\\\n",
       "\\hline\n",
       "\t 1         & 11        & 9         & 3.316625  & 7.500909  & 2.031568  & 0.8164205\\\\\n",
       "\t 2         & 11        & 9         & 3.316625  & 7.500909  & 2.031657  & 0.8162365\\\\\n",
       "\t 3         & 11        & 9         & 3.316625  & 7.500000  & 2.030424  & 0.8162867\\\\\n",
       "\t 4         & 11        & 9         & 3.316625  & 7.500909  & 2.030579  & 0.8165214\\\\\n",
       "\\end{tabular}\n"
      ],
      "text/markdown": [
       "\n",
       "set | N | mean(x) | sd(x) | mean(y) | sd(y) | cor(x, y) | \n",
       "|---|---|---|---|\n",
       "| 1         | 11        | 9         | 3.316625  | 7.500909  | 2.031568  | 0.8164205 | \n",
       "| 2         | 11        | 9         | 3.316625  | 7.500909  | 2.031657  | 0.8162365 | \n",
       "| 3         | 11        | 9         | 3.316625  | 7.500000  | 2.030424  | 0.8162867 | \n",
       "| 4         | 11        | 9         | 3.316625  | 7.500909  | 2.030579  | 0.8165214 | \n",
       "\n",
       "\n"
      ],
      "text/plain": [
       "  set N  mean(x) sd(x)    mean(y)  sd(y)    cor(x, y)\n",
       "1 1   11 9       3.316625 7.500909 2.031568 0.8164205\n",
       "2 2   11 9       3.316625 7.500909 2.031657 0.8162365\n",
       "3 3   11 9       3.316625 7.500000 2.030424 0.8162867\n",
       "4 4   11 9       3.316625 7.500909 2.030579 0.8165214"
      ]
     },
     "metadata": {},
     "output_type": "display_data"
    }
   ],
   "source": [
    "# Compute properties of Anscombe\n",
    "Anscombe %>%\n",
    "  group_by(set) %>%\n",
    "  summarize(N = n(), mean(x), sd(x), mean(y),sd(y), cor(x,y))"
   ]
  },
  {
   "cell_type": "code",
   "execution_count": 54,
   "metadata": {},
   "outputs": [
    {
     "data": {},
     "metadata": {},
     "output_type": "display_data"
    },
    {
     "data": {
      "image/png": "[encoded data removed]",
      "text/plain": [
       "plot without title"
      ]
     },
     "metadata": {},
     "output_type": "display_data"
    }
   ],
   "source": [
    "ggplot(data = Anscombe, aes(x = x, y = y)) +\n",
    "  geom_point() +\n",
    "  facet_wrap(~ set)"
   ]
  },
  {
   "cell_type": "markdown",
   "metadata": {},
   "source": [
    "## The \"best fit\" line\n",
    "\n",
    "The simple linear regression model for a numeric response as a function of a numeric explanatory variable can be visualized on the corresponding scatterplot by a straight line. This is a \"best fit\" line that cuts through the data in a way that minimizes the distance between the line and the data points. "
   ]
  },
  {
   "cell_type": "code",
   "execution_count": 59,
   "metadata": {},
   "outputs": [
    {
     "data": {},
     "metadata": {},
     "output_type": "display_data"
    },
    {
     "data": {
      "image/png": "[encoded data removed]",
      "text/plain": [
       "plot without title"
      ]
     },
     "metadata": {},
     "output_type": "display_data"
    }
   ],
   "source": [
    "# Scatterplot with regression line\n",
    "ggplot(data = bdims, aes(x = hgt, y = wgt)) + \n",
    "  geom_point() + \n",
    "  geom_smooth(method = \"lm\", se = FALSE)"
   ]
  },
  {
   "cell_type": "markdown",
   "metadata": {},
   "source": [
    "## Fitting a linear model \"by hand\"\n",
    "\n",
    "Recall the simple linear regression model:\n",
    "$$ Y=b_0+b_1\\times\\ X $$\n",
    "\n",
    "Two facts enable you to compute the slope $b_1$\n",
    "and intercept $b_0$\n",
    "\n",
    "of a simple linear regression model from some basic summary statistics.\n",
    "\n",
    "First, the slope can be defined as:\n",
    "\n",
    "$$ b_1=r_X,_Y \\times\\frac{s_Y}{s_X} $$\n",
    "\n",
    "where $r_X,_Y$\n",
    "represents the correlation (`cor()`) of $X$ and $Y$ and $s_X$ and $s_Y$ represent the standard deviation (`sd()`) of $X$ and $Y$, respectively.\n",
    "\n",
    "Second, the point $(\\overline{x},\\overline{y})$\n",
    "is always on the least squares regression line, where $\\overline{x}$ and $\\overline{y}$ denote the average of $x$ and $y$, respectively."
   ]
  },
  {
   "cell_type": "code",
   "execution_count": 65,
   "metadata": {},
   "outputs": [
    {
     "data": {
      "text/html": [
       "<table>\n",
       "<thead><tr><th scope=col>N</th><th scope=col>r</th><th scope=col>mean_hgt</th><th scope=col>sd_hgt</th><th scope=col>mean_wgt</th><th scope=col>sd_wgt</th></tr></thead>\n",
       "<tbody>\n",
       "\t<tr><td>507      </td><td>0.7173011</td><td>171.1438 </td><td>9.407205 </td><td>69.14753 </td><td>13.34576 </td></tr>\n",
       "</tbody>\n",
       "</table>\n"
      ],
      "text/latex": [
       "\\begin{tabular}{r|llllll}\n",
       " N & r & mean\\_hgt & sd\\_hgt & mean\\_wgt & sd\\_wgt\\\\\n",
       "\\hline\n",
       "\t 507       & 0.7173011 & 171.1438  & 9.407205  & 69.14753  & 13.34576 \\\\\n",
       "\\end{tabular}\n"
      ],
      "text/markdown": [
       "\n",
       "N | r | mean_hgt | sd_hgt | mean_wgt | sd_wgt | \n",
       "|---|\n",
       "| 507       | 0.7173011 | 171.1438  | 9.407205  | 69.14753  | 13.34576  | \n",
       "\n",
       "\n"
      ],
      "text/plain": [
       "  N   r         mean_hgt sd_hgt   mean_wgt sd_wgt  \n",
       "1 507 0.7173011 171.1438 9.407205 69.14753 13.34576"
      ]
     },
     "metadata": {},
     "output_type": "display_data"
    }
   ],
   "source": [
    "bdims_summary <- bdims %>% \n",
    "    summarise(N = n(),\n",
    "           r = cor(wgt, hgt),\n",
    "           mean_hgt = mean(hgt),\n",
    "           sd_hgt = sd(hgt),\n",
    "           mean_wgt = mean(wgt),\n",
    "           sd_wgt = sd(wgt))\n",
    "bdims_summary"
   ]
  },
  {
   "cell_type": "markdown",
   "metadata": {},
   "source": [
    "To get intercept, first calculate slope, then solve\n",
    "$$ Y=b_0+b_1\\times X $$\n",
    "for $b_0$. Finally, plug in mean_wgt for $Y$, mean_hgt for $X$, and slope for $b_1$.\n",
    "\n",
    "$$ b_0 = Y - b_1 \\times X $$"
   ]
  },
  {
   "cell_type": "code",
   "execution_count": 67,
   "metadata": {},
   "outputs": [
    {
     "data": {
      "text/html": [
       "<table>\n",
       "<thead><tr><th scope=col>N</th><th scope=col>r</th><th scope=col>mean_hgt</th><th scope=col>sd_hgt</th><th scope=col>mean_wgt</th><th scope=col>sd_wgt</th><th scope=col>slope</th><th scope=col>intercept</th></tr></thead>\n",
       "<tbody>\n",
       "\t<tr><td>507      </td><td>0.7173011</td><td>171.1438 </td><td>9.407205 </td><td>69.14753 </td><td>13.34576 </td><td>1.017617 </td><td>-105.0113</td></tr>\n",
       "</tbody>\n",
       "</table>\n"
      ],
      "text/latex": [
       "\\begin{tabular}{r|llllllll}\n",
       " N & r & mean\\_hgt & sd\\_hgt & mean\\_wgt & sd\\_wgt & slope & intercept\\\\\n",
       "\\hline\n",
       "\t 507       & 0.7173011 & 171.1438  & 9.407205  & 69.14753  & 13.34576  & 1.017617  & -105.0113\\\\\n",
       "\\end{tabular}\n"
      ],
      "text/markdown": [
       "\n",
       "N | r | mean_hgt | sd_hgt | mean_wgt | sd_wgt | slope | intercept | \n",
       "|---|\n",
       "| 507       | 0.7173011 | 171.1438  | 9.407205  | 69.14753  | 13.34576  | 1.017617  | -105.0113 | \n",
       "\n",
       "\n"
      ],
      "text/plain": [
       "  N   r         mean_hgt sd_hgt   mean_wgt sd_wgt   slope    intercept\n",
       "1 507 0.7173011 171.1438 9.407205 69.14753 13.34576 1.017617 -105.0113"
      ]
     },
     "metadata": {},
     "output_type": "display_data"
    }
   ],
   "source": [
    "# Add slope and intercept\n",
    "bdims_summary %>%\n",
    "  mutate(slope = r * sd_wgt / sd_hgt, \n",
    "         intercept = mean_wgt - slope * mean_hgt)"
   ]
  },
  {
   "cell_type": "markdown",
   "metadata": {},
   "source": [
    "## Regression to the mean\n",
    "\n",
    "Regression to the mean is a concept attributed to Sir Francis Galton. The basic idea is that extreme random observations will tend to be less extreme upon a second trial. This is simply due to chance alone. While \"regression to the mean\" and \"linear regression\" are not the same thing, we will examine them together in this exercise.\n",
    "\n",
    "One way to see the effects of regression to the mean is to compare the heights of parents to their children's heights. While it is true that tall mothers and fathers tend to have tall children, those children tend to be less tall than their parents, relative to average. That is, fathers who are 3 inches taller than the average father tend to have children who may be taller than average, but by less than 3 inches. "
   ]
  },
  {
   "cell_type": "markdown",
   "metadata": {},
   "source": [
    "Because the slope of the regression line is smaller than 1 (the slope of the diagonal line) for both males and females, we can verify Sir Francis Galton's regression to the mean concept! "
   ]
  },
  {
   "cell_type": "markdown",
   "metadata": {},
   "source": [
    "$$\\widehat{poverty}=64.594−0.591⋅hsgrad$$\n",
    "\n",
    "Which of the following is the correct interpretation of the slope coefficient?\n",
    "<br>Among U.S. counties, each additional percentage point increase in the high school graduation rate is associated with about a 0.591 percentage point decrease in the poverty rate."
   ]
  },
  {
   "cell_type": "code",
   "execution_count": 73,
   "metadata": {},
   "outputs": [
    {
     "data": {
      "text/plain": [
       "\n",
       "Call:\n",
       "lm(formula = wgt ~ hgt, data = bdims)\n",
       "\n",
       "Coefficients:\n",
       "(Intercept)          hgt  \n",
       "   -105.011        1.018  \n"
      ]
     },
     "metadata": {},
     "output_type": "display_data"
    },
    {
     "data": {
      "text/plain": [
       "\n",
       "Call:\n",
       "lm(formula = SLG ~ OBP, data = mlbBat10)\n",
       "\n",
       "Coefficients:\n",
       "(Intercept)          OBP  \n",
       "   0.009407     1.110323  \n"
      ]
     },
     "metadata": {},
     "output_type": "display_data"
    },
    {
     "data": {
      "text/plain": [
       "\n",
       "Call:\n",
       "lm(formula = log(BodyWt) ~ log(BrainWt), data = mammals)\n",
       "\n",
       "Coefficients:\n",
       " (Intercept)  log(BrainWt)  \n",
       "      -2.509         1.225  \n"
      ]
     },
     "metadata": {},
     "output_type": "display_data"
    }
   ],
   "source": [
    "# Linear model for weight as a function of height\n",
    "lm(wgt ~ hgt, data = bdims)\n",
    "\n",
    "# Linear model for SLG as a function of OBP\n",
    "lm(SLG ~ OBP, data = mlbBat10)\n",
    "\n",
    "# Log-linear model for body weight as a function of brain weight\n",
    "lm(log(BodyWt) ~ log(BrainWt), data = mammals)"
   ]
  },
  {
   "cell_type": "markdown",
   "metadata": {},
   "source": [
    "## The lm summary output\n",
    "The `coef()` function displays only the values of the coefficients. Conversely, the `summary()` function displays not only that information, but a bunch of other information, including the associated standard error and p-value for each coefficient, the $R^2$, adjusted $R^2$, and the residual standard error. The summary of an \"lm\" object in R is very similar to the output you would see in other statistical computing environments (e.g. Stata, SPSS, etc.)"
   ]
  },
  {
   "cell_type": "code",
   "execution_count": 76,
   "metadata": {},
   "outputs": [
    {
     "data": {
      "text/html": [
       "<dl class=dl-horizontal>\n",
       "\t<dt>(Intercept)</dt>\n",
       "\t\t<dd>-105.011254168143</dd>\n",
       "\t<dt>hgt</dt>\n",
       "\t\t<dd>1.01761677567046</dd>\n",
       "</dl>\n"
      ],
      "text/latex": [
       "\\begin{description*}\n",
       "\\item[(Intercept)] -105.011254168143\n",
       "\\item[hgt] 1.01761677567046\n",
       "\\end{description*}\n"
      ],
      "text/markdown": [
       "(Intercept)\n",
       ":   -105.011254168143hgt\n",
       ":   1.01761677567046\n",
       "\n"
      ],
      "text/plain": [
       "(Intercept)         hgt \n",
       "-105.011254    1.017617 "
      ]
     },
     "metadata": {},
     "output_type": "display_data"
    },
    {
     "data": {
      "text/plain": [
       "\n",
       "Call:\n",
       "lm(formula = wgt ~ hgt, data = bdims)\n",
       "\n",
       "Residuals:\n",
       "    Min      1Q  Median      3Q     Max \n",
       "-18.743  -6.402  -1.231   5.059  41.103 \n",
       "\n",
       "Coefficients:\n",
       "              Estimate Std. Error t value Pr(>|t|)    \n",
       "(Intercept) -105.01125    7.53941  -13.93   <2e-16 ***\n",
       "hgt            1.01762    0.04399   23.14   <2e-16 ***\n",
       "---\n",
       "Signif. codes:  0 '***' 0.001 '**' 0.01 '*' 0.05 '.' 0.1 ' ' 1\n",
       "\n",
       "Residual standard error: 9.308 on 505 degrees of freedom\n",
       "Multiple R-squared:  0.5145,\tAdjusted R-squared:  0.5136 \n",
       "F-statistic: 535.2 on 1 and 505 DF,  p-value: < 2.2e-16\n"
      ]
     },
     "metadata": {},
     "output_type": "display_data"
    }
   ],
   "source": [
    "mod <- lm(wgt ~ hgt, data = bdims)\n",
    "# Show the coefficients\n",
    "coef(mod)\n",
    "\n",
    "# Show the full output\n",
    "summary(mod)"
   ]
  },
  {
   "cell_type": "markdown",
   "metadata": {},
   "source": [
    "## Fitted values and residuals\n",
    "\n",
    "Once you have fit a regression model, you are often interested in the fitted values ($\\hat{y}_i$\n",
    ") and the residuals ($e_i$), where $i$\n",
    "\n",
    "indexes the observations. Recall that:\n",
    "\n",
    "$$e_i=y_i−\\hat{y}_i$$\n",
    "\n",
    "The least squares fitting procedure guarantees that the mean of the residuals is zero (n.b., numerical instability may result in the computed values not being exactly zero). At the same time, the mean of the fitted values must equal the mean of the response variable. "
   ]
  },
  {
   "cell_type": "code",
   "execution_count": 77,
   "metadata": {},
   "outputs": [
    {
     "data": {
      "text/html": [
       "TRUE"
      ],
      "text/latex": [
       "TRUE"
      ],
      "text/markdown": [
       "TRUE"
      ],
      "text/plain": [
       "[1] TRUE"
      ]
     },
     "metadata": {},
     "output_type": "display_data"
    },
    {
     "data": {
      "text/html": [
       "-1.26697085871086e-15"
      ],
      "text/latex": [
       "-1.26697085871086e-15"
      ],
      "text/markdown": [
       "-1.26697085871086e-15"
      ],
      "text/plain": [
       "[1] -1.266971e-15"
      ]
     },
     "metadata": {},
     "output_type": "display_data"
    }
   ],
   "source": [
    "# Mean of weights equal to mean of fitted values?\n",
    "mean(bdims$wgt) == mean(fitted.values(mod))\n",
    "\n",
    "# Mean of the residuals\n",
    "mean(residuals(mod))"
   ]
  },
  {
   "cell_type": "markdown",
   "metadata": {},
   "source": [
    "## Tidying your linear model\n",
    "\n",
    "As you fit a regression model, there are some quantities (e.g. $R^2$) that apply to the model as a whole, while others apply to each observation (e.g. $\\hat{y}_i$). If there are several of these per-observation quantities, it is sometimes convenient to attach them to the original data as new variables.\n",
    "\n",
    "The `augment()` function from the `broom` package does exactly this. It takes a model object as an argument and returns a data frame that contains the data on which the model was fit, along with several quantities specific to the regression model, including the fitted values, residuals, leverage scores, and standardized residuals."
   ]
  },
  {
   "cell_type": "code",
   "execution_count": 78,
   "metadata": {},
   "outputs": [
    {
     "name": "stdout",
     "output_type": "stream",
     "text": [
      "Observations: 507\n",
      "Variables: 9\n",
      "$ wgt        <dbl> 65.6, 71.8, 80.7, 72.6, 78.8, 74.8, 86.4, 78.4, 62.0, 81...\n",
      "$ hgt        <dbl> 174.0, 175.3, 193.5, 186.5, 187.2, 181.5, 184.0, 184.5, ...\n",
      "$ .fitted    <dbl> 72.05406, 73.37697, 91.89759, 84.77427, 85.48661, 79.686...\n",
      "$ .se.fit    <dbl> 0.4320546, 0.4520060, 1.0667332, 0.7919264, 0.8183471, 0...\n",
      "$ .resid     <dbl> -6.4540648, -1.5769666, -11.1975919, -12.1742745, -6.686...\n",
      "$ .hat       <dbl> 0.002154570, 0.002358152, 0.013133942, 0.007238576, 0.00...\n",
      "$ .sigma     <dbl> 9.312824, 9.317005, 9.303732, 9.301360, 9.312471, 9.3147...\n",
      "$ .cooksd    <dbl> 5.201807e-04, 3.400330e-05, 9.758463e-03, 6.282074e-03, ...\n",
      "$ .std.resid <dbl> -0.69413418, -0.16961994, -1.21098084, -1.31269063, -0.7...\n"
     ]
    }
   ],
   "source": [
    "# Load broom\n",
    "library(broom)\n",
    "\n",
    "# Create bdims_tidy\n",
    "bdims_tidy <- augment(mod)\n",
    "\n",
    "# Glimpse the resulting data frame\n",
    "glimpse(bdims_tidy)"
   ]
  },
  {
   "cell_type": "markdown",
   "metadata": {},
   "source": [
    "## Making predictions\n",
    "\n",
    "The `fitted.values()` function or the `augment()`-ed data frame provides us with the fitted values for the observations that were in the original data. However, once we have fit the model, we may want to compute expected values for observations that were not present in the data on which the model was fit. These types of predictions are called out-of-sample.\n",
    "\n",
    "The ben data frame contains a height and weight observation for one person. The mod object contains the fitted model for weight as a function of height for the observations in the bdims dataset. We can use the `predict()` function to generate expected values for the weight of new individuals. We must pass the data frame of new observations through the newdata argument."
   ]
  },
  {
   "cell_type": "code",
   "execution_count": 79,
   "metadata": {},
   "outputs": [],
   "source": [
    "ben <- data.frame(wgt = 74.8, hgt = 182.8)"
   ]
  },
  {
   "cell_type": "code",
   "execution_count": 81,
   "metadata": {},
   "outputs": [
    {
     "data": {
      "text/html": [
       "<table>\n",
       "<thead><tr><th scope=col>wgt</th><th scope=col>hgt</th></tr></thead>\n",
       "<tbody>\n",
       "\t<tr><td>74.8 </td><td>182.8</td></tr>\n",
       "</tbody>\n",
       "</table>\n"
      ],
      "text/latex": [
       "\\begin{tabular}{r|ll}\n",
       " wgt & hgt\\\\\n",
       "\\hline\n",
       "\t 74.8  & 182.8\\\\\n",
       "\\end{tabular}\n"
      ],
      "text/markdown": [
       "\n",
       "wgt | hgt | \n",
       "|---|\n",
       "| 74.8  | 182.8 | \n",
       "\n",
       "\n"
      ],
      "text/plain": [
       "  wgt  hgt  \n",
       "1 74.8 182.8"
      ]
     },
     "metadata": {},
     "output_type": "display_data"
    },
    {
     "data": {
      "text/html": [
       "<strong>1:</strong> 81.0090924244175"
      ],
      "text/latex": [
       "\\textbf{1:} 81.0090924244175"
      ],
      "text/markdown": [
       "**1:** 81.0090924244175"
      ],
      "text/plain": [
       "       1 \n",
       "81.00909 "
      ]
     },
     "metadata": {},
     "output_type": "display_data"
    }
   ],
   "source": [
    "# Print ben\n",
    "ben\n",
    "\n",
    "# Predict the weight of ben\n",
    "predict(mod, newdata = ben)"
   ]
  },
  {
   "cell_type": "markdown",
   "metadata": {},
   "source": [
    "## Adding a regression line to a plot manually\n",
    "\n",
    "The `geom_smooth()` function makes it easy to add a simple linear regression line to a scatterplot of the corresponding variables. And in fact, there are more complicated regression models that can be visualized in the data space with `geom_smooth()`. However, there may still be times when we will want to add regression lines to our scatterplot manually. To do this, we will use the `geom_abline()` function, which takes slope and intercept arguments. Naturally, we have to compute those values ahead of time, but we already saw how to do this (e.g. using `coef()`).\n",
    "\n",
    "The coefs data frame contains the model estimates retrieved from `coef()`. Passing this to `geom_abline()` as the data argument will enable you to draw a straight line on your scatterplot."
   ]
  },
  {
   "cell_type": "code",
   "execution_count": 107,
   "metadata": {},
   "outputs": [],
   "source": [
    "coefs <- as.data.frame(coef(lm(wgt ~ hgt, data = bdims)))\n",
    "coefs <- tibble::rownames_to_column(coefs, var = \"key\")\n",
    "coefs <- rename(coefs, value = \"coef(lm(wgt ~ hgt, data = bdims))\")\n",
    "coefs <- spread(coefs, key = key, value = value)\n"
   ]
  },
  {
   "cell_type": "code",
   "execution_count": 108,
   "metadata": {},
   "outputs": [
    {
     "data": {},
     "metadata": {},
     "output_type": "display_data"
    },
    {
     "data": {
      "image/png": "[encoded data removed]",
      "text/plain": [
       "plot without title"
      ]
     },
     "metadata": {},
     "output_type": "display_data"
    }
   ],
   "source": [
    "# Add the line to the scatterplot\n",
    "ggplot(data = bdims, aes(x = hgt, y = wgt)) + \n",
    "  geom_point() + \n",
    "  geom_abline(data = coefs , \n",
    "              aes(intercept = `(Intercept)`, slope = hgt),  \n",
    "              color = \"dodgerblue\")"
   ]
  },
  {
   "cell_type": "markdown",
   "metadata": {},
   "source": [
    "## Residuals\n",
    "### Standard error of residuals\n",
    "\n",
    "One way to assess strength of fit is to consider how far off the model is for a typical case. That is, for some observations, the fitted value will be very close to the actual value, while for others it will not. The magnitude of a typical residual can give us a sense of generally how close our estimates are.\n",
    "\n",
    "However, recall that some of the residuals are positive, while others are negative. In fact, it is guaranteed by the least squares fitting procedure that the mean of the residuals is zero. Thus, it makes more sense to compute the square root of the mean squared residual, or root mean squared error (RMSE). R calls this quantity the residual standard error.\n",
    "\n",
    "To make this estimate unbiased, you have to divide the sum of the squared residuals by the degrees of freedom in the model. Thus,\n",
    "\n",
    "$$ RMSE=\\sqrt{\\frac{∑_ie^2_i}{d.f.}}= \\sqrt{\\frac{SSE}{d.f.}}$$\n",
    "\n",
    "You can recover the residuals with `residuals()`, and the degrees of freedom with `df.residual()`.\n",
    "\n",
    "<b>RMSE</b>\n",
    "\n",
    "The residual standard error reported for the regression model for poverty rate of U.S. counties in terms of high school graduation rate is 4.67. What does this mean?\n",
    "\n",
    " * The typical difference between the observed poverty rate and the poverty rate predicted by the model is about 4.67 percentage points."
   ]
  },
  {
   "cell_type": "code",
   "execution_count": 109,
   "metadata": {},
   "outputs": [
    {
     "data": {
      "text/plain": [
       "\n",
       "Call:\n",
       "lm(formula = wgt ~ hgt, data = bdims)\n",
       "\n",
       "Residuals:\n",
       "    Min      1Q  Median      3Q     Max \n",
       "-18.743  -6.402  -1.231   5.059  41.103 \n",
       "\n",
       "Coefficients:\n",
       "              Estimate Std. Error t value Pr(>|t|)    \n",
       "(Intercept) -105.01125    7.53941  -13.93   <2e-16 ***\n",
       "hgt            1.01762    0.04399   23.14   <2e-16 ***\n",
       "---\n",
       "Signif. codes:  0 '***' 0.001 '**' 0.01 '*' 0.05 '.' 0.1 ' ' 1\n",
       "\n",
       "Residual standard error: 9.308 on 505 degrees of freedom\n",
       "Multiple R-squared:  0.5145,\tAdjusted R-squared:  0.5136 \n",
       "F-statistic: 535.2 on 1 and 505 DF,  p-value: < 2.2e-16\n"
      ]
     },
     "metadata": {},
     "output_type": "display_data"
    },
    {
     "data": {
      "text/html": [
       "-1.26697085871086e-15"
      ],
      "text/latex": [
       "-1.26697085871086e-15"
      ],
      "text/markdown": [
       "-1.26697085871086e-15"
      ],
      "text/plain": [
       "[1] -1.266971e-15"
      ]
     },
     "metadata": {},
     "output_type": "display_data"
    },
    {
     "data": {
      "text/html": [
       "9.30804036190487"
      ],
      "text/latex": [
       "9.30804036190487"
      ],
      "text/markdown": [
       "9.30804036190487"
      ],
      "text/plain": [
       "[1] 9.30804"
      ]
     },
     "metadata": {},
     "output_type": "display_data"
    }
   ],
   "source": [
    "# View summary of model\n",
    "summary(mod)\n",
    "\n",
    "# Compute the mean of the residuals\n",
    "mean(residuals(mod))\n",
    "\n",
    "# Compute RMSE\n",
    "sqrt(sum(residuals(mod)^2) / df.residual(mod))"
   ]
  },
  {
   "cell_type": "markdown",
   "metadata": {},
   "source": [
    "## Assessing simple linear model fit\n",
    "\n",
    "Recall that the coefficient of determination (R2\n",
    "), can be computed as\n",
    "$$ R^2=1−\\frac{SSE}{SST}=1−\\frac{Var(e)}{Var(y)} $$\n",
    "where $e$ is the vector of residuals and $y$ is the response variable. This gives us the interpretation of $R^2$ as the percentage of the variability in the response that is explained by the model, since the residuals are the part of that variability that remains unexplained by the model."
   ]
  },
  {
   "cell_type": "code",
   "execution_count": 110,
   "metadata": {},
   "outputs": [
    {
     "data": {
      "text/plain": [
       "\n",
       "Call:\n",
       "lm(formula = wgt ~ hgt, data = bdims)\n",
       "\n",
       "Residuals:\n",
       "    Min      1Q  Median      3Q     Max \n",
       "-18.743  -6.402  -1.231   5.059  41.103 \n",
       "\n",
       "Coefficients:\n",
       "              Estimate Std. Error t value Pr(>|t|)    \n",
       "(Intercept) -105.01125    7.53941  -13.93   <2e-16 ***\n",
       "hgt            1.01762    0.04399   23.14   <2e-16 ***\n",
       "---\n",
       "Signif. codes:  0 '***' 0.001 '**' 0.01 '*' 0.05 '.' 0.1 ' ' 1\n",
       "\n",
       "Residual standard error: 9.308 on 505 degrees of freedom\n",
       "Multiple R-squared:  0.5145,\tAdjusted R-squared:  0.5136 \n",
       "F-statistic: 535.2 on 1 and 505 DF,  p-value: < 2.2e-16\n"
      ]
     },
     "metadata": {},
     "output_type": "display_data"
    },
    {
     "data": {
      "text/html": [
       "<table>\n",
       "<thead><tr><th scope=col>var_y</th><th scope=col>var_e</th><th scope=col>R_squared</th></tr></thead>\n",
       "<tbody>\n",
       "\t<tr><td>178.1094 </td><td>86.46839 </td><td>0.5145208</td></tr>\n",
       "</tbody>\n",
       "</table>\n"
      ],
      "text/latex": [
       "\\begin{tabular}{r|lll}\n",
       " var\\_y & var\\_e & R\\_squared\\\\\n",
       "\\hline\n",
       "\t 178.1094  & 86.46839  & 0.5145208\\\\\n",
       "\\end{tabular}\n"
      ],
      "text/markdown": [
       "\n",
       "var_y | var_e | R_squared | \n",
       "|---|\n",
       "| 178.1094  | 86.46839  | 0.5145208 | \n",
       "\n",
       "\n"
      ],
      "text/plain": [
       "  var_y    var_e    R_squared\n",
       "1 178.1094 86.46839 0.5145208"
      ]
     },
     "metadata": {},
     "output_type": "display_data"
    }
   ],
   "source": [
    "# View model summary\n",
    "summary(mod)\n",
    "\n",
    "# Compute R-squared\n",
    "bdims_tidy %>%\n",
    "  summarize(var_y = var(wgt), var_e = var(.resid)) %>%\n",
    "  mutate(R_squared = 1 - var_e / var_y)"
   ]
  },
  {
   "cell_type": "markdown",
   "metadata": {},
   "source": [
    "<b>This means that 51.4% of the variability in weight is explained by height. </b>"
   ]
  },
  {
   "cell_type": "markdown",
   "metadata": {},
   "source": [
    "## Linear vs. average\n",
    "\n",
    "The $R^2$ gives us a numerical measurement of the strength of fit relative to a null model based on the average of the response variable:\n",
    "$$ \\hat{y}_{null}=\\overline{y} $$\n",
    "\n",
    "This model has an $R^2$ of zero because $SSE=SST$. That is, since the fitted values ($\\hat{y}_{null}$) are all equal to the average ($\\overline{y}$), the residual for each observation is the distance between that observation and the mean of the response. Since we can always fit the null model, it serves as a baseline against which all other models will be compared."
   ]
  },
  {
   "cell_type": "markdown",
   "metadata": {},
   "source": [
    "## Leverage\n",
    "\n",
    "The leverage of an observation in a regression model is defined entirely in terms of the distance of that observation from the mean of the explanatory variable. That is, observations close to the mean of the explanatory variable have low leverage, while observations far from the mean of the explanatory variable have high leverage. Points of high leverage may or may not be influential.\n",
    "$$ h_i = \\frac{1}{n} + \\frac{(x_i-\\overline{x})^2}{\\sum_{i=1}^{n}(x_i-\\overline{x})^2}$$\n",
    "\n",
    "The `augment()` function from the `broom` package will add the leverage scores (`.hat`) to a model data frame."
   ]
  },
  {
   "cell_type": "code",
   "execution_count": 111,
   "metadata": {},
   "outputs": [
    {
     "data": {
      "text/html": [
       "<table>\n",
       "<thead><tr><th scope=col>wgt</th><th scope=col>hgt</th><th scope=col>.fitted</th><th scope=col>.se.fit</th><th scope=col>.resid</th><th scope=col>.hat</th><th scope=col>.sigma</th><th scope=col>.cooksd</th><th scope=col>.std.resid</th></tr></thead>\n",
       "<tbody>\n",
       "\t<tr><td>85.5        </td><td>198.1       </td><td>96.57863    </td><td>1.255712    </td><td>-11.078629  </td><td>0.01819968  </td><td>9.303950    </td><td>0.0133734319</td><td>-1.2012024  </td></tr>\n",
       "\t<tr><td>90.9        </td><td>197.1       </td><td>95.56101    </td><td>1.214264    </td><td> -4.661012  </td><td>0.01701803  </td><td>9.314916    </td><td>0.0022081690</td><td>-0.5050673  </td></tr>\n",
       "\t<tr><td>49.8        </td><td>147.2       </td><td>44.78194    </td><td>1.131432    </td><td>  5.018065  </td><td>0.01477545  </td><td>9.314548    </td><td>0.0022120570</td><td> 0.5431383  </td></tr>\n",
       "\t<tr><td>80.7        </td><td>193.5       </td><td>91.89759    </td><td>1.066733    </td><td>-11.197592  </td><td>0.01313394  </td><td>9.303732    </td><td>0.0097584634</td><td>-1.2109808  </td></tr>\n",
       "\t<tr><td>95.9        </td><td>193.0       </td><td>91.38878    </td><td>1.046493    </td><td>  4.511216  </td><td>0.01264027  </td><td>9.315075    </td><td>0.0015228117</td><td> 0.4877505  </td></tr>\n",
       "\t<tr><td>44.8        </td><td>149.5       </td><td>47.12245    </td><td>1.037916    </td><td> -2.322454  </td><td>0.01243391  </td><td>9.316688    </td><td>0.0003968468</td><td>-0.2510763  </td></tr>\n",
       "</tbody>\n",
       "</table>\n"
      ],
      "text/latex": [
       "\\begin{tabular}{r|lllllllll}\n",
       " wgt & hgt & .fitted & .se.fit & .resid & .hat & .sigma & .cooksd & .std.resid\\\\\n",
       "\\hline\n",
       "\t 85.5         & 198.1        & 96.57863     & 1.255712     & -11.078629   & 0.01819968   & 9.303950     & 0.0133734319 & -1.2012024  \\\\\n",
       "\t 90.9         & 197.1        & 95.56101     & 1.214264     &  -4.661012   & 0.01701803   & 9.314916     & 0.0022081690 & -0.5050673  \\\\\n",
       "\t 49.8         & 147.2        & 44.78194     & 1.131432     &   5.018065   & 0.01477545   & 9.314548     & 0.0022120570 &  0.5431383  \\\\\n",
       "\t 80.7         & 193.5        & 91.89759     & 1.066733     & -11.197592   & 0.01313394   & 9.303732     & 0.0097584634 & -1.2109808  \\\\\n",
       "\t 95.9         & 193.0        & 91.38878     & 1.046493     &   4.511216   & 0.01264027   & 9.315075     & 0.0015228117 &  0.4877505  \\\\\n",
       "\t 44.8         & 149.5        & 47.12245     & 1.037916     &  -2.322454   & 0.01243391   & 9.316688     & 0.0003968468 & -0.2510763  \\\\\n",
       "\\end{tabular}\n"
      ],
      "text/markdown": [
       "\n",
       "wgt | hgt | .fitted | .se.fit | .resid | .hat | .sigma | .cooksd | .std.resid | \n",
       "|---|---|---|---|---|---|\n",
       "| 85.5         | 198.1        | 96.57863     | 1.255712     | -11.078629   | 0.01819968   | 9.303950     | 0.0133734319 | -1.2012024   | \n",
       "| 90.9         | 197.1        | 95.56101     | 1.214264     |  -4.661012   | 0.01701803   | 9.314916     | 0.0022081690 | -0.5050673   | \n",
       "| 49.8         | 147.2        | 44.78194     | 1.131432     |   5.018065   | 0.01477545   | 9.314548     | 0.0022120570 |  0.5431383   | \n",
       "| 80.7         | 193.5        | 91.89759     | 1.066733     | -11.197592   | 0.01313394   | 9.303732     | 0.0097584634 | -1.2109808   | \n",
       "| 95.9         | 193.0        | 91.38878     | 1.046493     |   4.511216   | 0.01264027   | 9.315075     | 0.0015228117 |  0.4877505   | \n",
       "| 44.8         | 149.5        | 47.12245     | 1.037916     |  -2.322454   | 0.01243391   | 9.316688     | 0.0003968468 | -0.2510763   | \n",
       "\n",
       "\n"
      ],
      "text/plain": [
       "  wgt  hgt   .fitted  .se.fit  .resid     .hat       .sigma   .cooksd     \n",
       "1 85.5 198.1 96.57863 1.255712 -11.078629 0.01819968 9.303950 0.0133734319\n",
       "2 90.9 197.1 95.56101 1.214264  -4.661012 0.01701803 9.314916 0.0022081690\n",
       "3 49.8 147.2 44.78194 1.131432   5.018065 0.01477545 9.314548 0.0022120570\n",
       "4 80.7 193.5 91.89759 1.066733 -11.197592 0.01313394 9.303732 0.0097584634\n",
       "5 95.9 193.0 91.38878 1.046493   4.511216 0.01264027 9.315075 0.0015228117\n",
       "6 44.8 149.5 47.12245 1.037916  -2.322454 0.01243391 9.316688 0.0003968468\n",
       "  .std.resid\n",
       "1 -1.2012024\n",
       "2 -0.5050673\n",
       "3  0.5431383\n",
       "4 -1.2109808\n",
       "5  0.4877505\n",
       "6 -0.2510763"
      ]
     },
     "metadata": {},
     "output_type": "display_data"
    }
   ],
   "source": [
    "# Rank points of high leverage\n",
    "mod %>%\n",
    "  augment() %>%\n",
    "  arrange(desc(.hat)) %>%\n",
    "  head()"
   ]
  },
  {
   "cell_type": "markdown",
   "metadata": {},
   "source": [
    "## Influence\n",
    "\n",
    "As noted previously, observations of high leverage may or may not be influential. The influence of an observation depends not only on its leverage, but also on the magnitude of its residual. Recall that while leverage only takes into account the explanatory variable ($x$), the residual depends on the response variable ($y$) and the fitted value ($\\hat{y}$).\n",
    "\n",
    "Influential points are likely to have high leverage and deviate from the general relationship between the two variables. We measure influence using <b>Cook's distance</b>, which incorporates both the leverage and residual of each observation."
   ]
  },
  {
   "cell_type": "code",
   "execution_count": 112,
   "metadata": {},
   "outputs": [
    {
     "data": {
      "text/html": [
       "<table>\n",
       "<thead><tr><th scope=col>wgt</th><th scope=col>hgt</th><th scope=col>.fitted</th><th scope=col>.se.fit</th><th scope=col>.resid</th><th scope=col>.hat</th><th scope=col>.sigma</th><th scope=col>.cooksd</th><th scope=col>.std.resid</th></tr></thead>\n",
       "<tbody>\n",
       "\t<tr><td> 73.2      </td><td>151.1      </td><td>48.75064   </td><td>0.9737632  </td><td>24.44936   </td><td>0.010944356</td><td>9.252694   </td><td>0.03859555 </td><td>2.641185   </td></tr>\n",
       "\t<tr><td>116.4      </td><td>177.8      </td><td>75.92101   </td><td>0.5065670  </td><td>40.47899   </td><td>0.002961811</td><td>9.140611   </td><td>0.02817388 </td><td>4.355274   </td></tr>\n",
       "\t<tr><td>104.1      </td><td>165.1      </td><td>62.99728   </td><td>0.4914889  </td><td>41.10272   </td><td>0.002788117</td><td>9.135102   </td><td>0.02733574 </td><td>4.421999   </td></tr>\n",
       "\t<tr><td>108.6      </td><td>190.5      </td><td>88.84474   </td><td>0.9464667  </td><td>19.75526   </td><td>0.010339372</td><td>9.275186   </td><td>0.02377609 </td><td>2.133444   </td></tr>\n",
       "\t<tr><td> 67.3      </td><td>152.4      </td><td>50.07354   </td><td>0.9223084  </td><td>17.22646   </td><td>0.009818289</td><td>9.285305   </td><td>0.01714950 </td><td>1.859860   </td></tr>\n",
       "\t<tr><td> 76.8      </td><td>157.5      </td><td>55.26339   </td><td>0.7287405  </td><td>21.53661   </td><td>0.006129560</td><td>9.267446   </td><td>0.01661032 </td><td>2.320888   </td></tr>\n",
       "</tbody>\n",
       "</table>\n"
      ],
      "text/latex": [
       "\\begin{tabular}{r|lllllllll}\n",
       " wgt & hgt & .fitted & .se.fit & .resid & .hat & .sigma & .cooksd & .std.resid\\\\\n",
       "\\hline\n",
       "\t  73.2       & 151.1       & 48.75064    & 0.9737632   & 24.44936    & 0.010944356 & 9.252694    & 0.03859555  & 2.641185   \\\\\n",
       "\t 116.4       & 177.8       & 75.92101    & 0.5065670   & 40.47899    & 0.002961811 & 9.140611    & 0.02817388  & 4.355274   \\\\\n",
       "\t 104.1       & 165.1       & 62.99728    & 0.4914889   & 41.10272    & 0.002788117 & 9.135102    & 0.02733574  & 4.421999   \\\\\n",
       "\t 108.6       & 190.5       & 88.84474    & 0.9464667   & 19.75526    & 0.010339372 & 9.275186    & 0.02377609  & 2.133444   \\\\\n",
       "\t  67.3       & 152.4       & 50.07354    & 0.9223084   & 17.22646    & 0.009818289 & 9.285305    & 0.01714950  & 1.859860   \\\\\n",
       "\t  76.8       & 157.5       & 55.26339    & 0.7287405   & 21.53661    & 0.006129560 & 9.267446    & 0.01661032  & 2.320888   \\\\\n",
       "\\end{tabular}\n"
      ],
      "text/markdown": [
       "\n",
       "wgt | hgt | .fitted | .se.fit | .resid | .hat | .sigma | .cooksd | .std.resid | \n",
       "|---|---|---|---|---|---|\n",
       "|  73.2       | 151.1       | 48.75064    | 0.9737632   | 24.44936    | 0.010944356 | 9.252694    | 0.03859555  | 2.641185    | \n",
       "| 116.4       | 177.8       | 75.92101    | 0.5065670   | 40.47899    | 0.002961811 | 9.140611    | 0.02817388  | 4.355274    | \n",
       "| 104.1       | 165.1       | 62.99728    | 0.4914889   | 41.10272    | 0.002788117 | 9.135102    | 0.02733574  | 4.421999    | \n",
       "| 108.6       | 190.5       | 88.84474    | 0.9464667   | 19.75526    | 0.010339372 | 9.275186    | 0.02377609  | 2.133444    | \n",
       "|  67.3       | 152.4       | 50.07354    | 0.9223084   | 17.22646    | 0.009818289 | 9.285305    | 0.01714950  | 1.859860    | \n",
       "|  76.8       | 157.5       | 55.26339    | 0.7287405   | 21.53661    | 0.006129560 | 9.267446    | 0.01661032  | 2.320888    | \n",
       "\n",
       "\n"
      ],
      "text/plain": [
       "  wgt   hgt   .fitted  .se.fit   .resid   .hat        .sigma   .cooksd   \n",
       "1  73.2 151.1 48.75064 0.9737632 24.44936 0.010944356 9.252694 0.03859555\n",
       "2 116.4 177.8 75.92101 0.5065670 40.47899 0.002961811 9.140611 0.02817388\n",
       "3 104.1 165.1 62.99728 0.4914889 41.10272 0.002788117 9.135102 0.02733574\n",
       "4 108.6 190.5 88.84474 0.9464667 19.75526 0.010339372 9.275186 0.02377609\n",
       "5  67.3 152.4 50.07354 0.9223084 17.22646 0.009818289 9.285305 0.01714950\n",
       "6  76.8 157.5 55.26339 0.7287405 21.53661 0.006129560 9.267446 0.01661032\n",
       "  .std.resid\n",
       "1 2.641185  \n",
       "2 4.355274  \n",
       "3 4.421999  \n",
       "4 2.133444  \n",
       "5 1.859860  \n",
       "6 2.320888  "
      ]
     },
     "metadata": {},
     "output_type": "display_data"
    }
   ],
   "source": [
    "# Rank influential points\n",
    "mod %>%\n",
    "  augment() %>%\n",
    "  arrange(desc(.cooksd))%>%\n",
    "  head()"
   ]
  },
  {
   "cell_type": "markdown",
   "metadata": {},
   "source": [
    "## Removing outliers\n",
    "\n",
    "Observations can be outliers for a number of different reasons. Statisticians must always be careful—and more importantly, transparent—when dealing with outliers. Sometimes, a better model fit can be achieved by simply removing outliers and re-fitting the model. However, one must have strong justification for doing this. A desire to have a higher $R^2$ is not a good enough reason!\n",
    "\n",
    "In the `mlbBat10` data, the outlier with an OBP of 0.550 is Bobby Scales, an infielder who had four hits in 13 at-bats for the Chicago Cubs. Scales also walked seven times, resulting in his unusually high OBP. The justification for removing Scales here is weak. While his performance was unusual, there is nothing to suggest that it is not a valid data point, nor is there a good reason to think that somehow we will learn more about Major League Baseball players by excluding him.\n",
    "\n",
    "Nevertheless, we can demonstrate how removing him will affect our model."
   ]
  },
  {
   "cell_type": "code",
   "execution_count": 113,
   "metadata": {},
   "outputs": [
    {
     "data": {
      "text/plain": [
       "\n",
       "Call:\n",
       "lm(formula = SLG ~ OBP, data = nontrivial_players)\n",
       "\n",
       "Residuals:\n",
       "     Min       1Q   Median       3Q      Max \n",
       "-0.31383 -0.04165 -0.00261  0.03992  0.35819 \n",
       "\n",
       "Coefficients:\n",
       "             Estimate Std. Error t value Pr(>|t|)    \n",
       "(Intercept) -0.043326   0.009823  -4.411 1.18e-05 ***\n",
       "OBP          1.345816   0.033012  40.768  < 2e-16 ***\n",
       "---\n",
       "Signif. codes:  0 '***' 0.001 '**' 0.01 '*' 0.05 '.' 0.1 ' ' 1\n",
       "\n",
       "Residual standard error: 0.07011 on 734 degrees of freedom\n",
       "Multiple R-squared:  0.6937,\tAdjusted R-squared:  0.6932 \n",
       "F-statistic:  1662 on 1 and 734 DF,  p-value: < 2.2e-16\n"
      ]
     },
     "metadata": {},
     "output_type": "display_data"
    },
    {
     "data": {
      "text/plain": [
       "\n",
       "Call:\n",
       "lm(formula = wgt ~ hgt, data = bdims)\n",
       "\n",
       "Residuals:\n",
       "    Min      1Q  Median      3Q     Max \n",
       "-18.743  -6.402  -1.231   5.059  41.103 \n",
       "\n",
       "Coefficients:\n",
       "              Estimate Std. Error t value Pr(>|t|)    \n",
       "(Intercept) -105.01125    7.53941  -13.93   <2e-16 ***\n",
       "hgt            1.01762    0.04399   23.14   <2e-16 ***\n",
       "---\n",
       "Signif. codes:  0 '***' 0.001 '**' 0.01 '*' 0.05 '.' 0.1 ' ' 1\n",
       "\n",
       "Residual standard error: 9.308 on 505 degrees of freedom\n",
       "Multiple R-squared:  0.5145,\tAdjusted R-squared:  0.5136 \n",
       "F-statistic: 535.2 on 1 and 505 DF,  p-value: < 2.2e-16\n"
      ]
     },
     "metadata": {},
     "output_type": "display_data"
    },
    {
     "data": {},
     "metadata": {},
     "output_type": "display_data"
    },
    {
     "data": {
      "image/png": "[encoded data removed]",
      "text/plain": [
       "plot without title"
      ]
     },
     "metadata": {},
     "output_type": "display_data"
    }
   ],
   "source": [
    "# Create nontrivial_players\n",
    "nontrivial_players <- mlbBat10 %>%\n",
    "  filter(AB >= 10 & OBP < 0.5)\n",
    "\n",
    "\n",
    "# Fit model to new data\n",
    "mod_cleaner <-  lm(SLG ~ OBP, data = nontrivial_players)\n",
    "\n",
    "# View model summary\n",
    "summary(mod_cleaner)\n",
    "summary(mod)\n",
    "# Visualize new model\n",
    "ggplot(nontrivial_players, aes(x = OBP, y = SLG)) +\n",
    "  geom_point() +\n",
    "  geom_smooth(method = \"lm\")"
   ]
  },
  {
   "cell_type": "markdown",
   "metadata": {},
   "source": [
    "### High leverage points\n",
    "\n",
    "Not all points of high leverage are influential. While the high leverage observation corresponding to Bobby Scales in the previous exercise is influential, the three observations for players with OBP and SLG values of 0 are not influential.\n",
    "\n",
    "This is because they happen to lie right near the regression anyway. Thus, while their extremely low OBP gives them the power to exert influence over the slope of the regression line, their low SLG prevents them from using it."
   ]
  },
  {
   "cell_type": "code",
   "execution_count": 114,
   "metadata": {},
   "outputs": [
    {
     "data": {
      "text/html": [
       "<table>\n",
       "<thead><tr><th scope=col>wgt</th><th scope=col>hgt</th><th scope=col>.fitted</th><th scope=col>.se.fit</th><th scope=col>.resid</th><th scope=col>.hat</th><th scope=col>.sigma</th><th scope=col>.cooksd</th><th scope=col>.std.resid</th></tr></thead>\n",
       "<tbody>\n",
       "\t<tr><td>85.5        </td><td>198.1       </td><td>96.57863    </td><td>1.255712    </td><td>-11.078629  </td><td>0.01819968  </td><td>9.303950    </td><td>0.0133734319</td><td>-1.2012024  </td></tr>\n",
       "\t<tr><td>90.9        </td><td>197.1       </td><td>95.56101    </td><td>1.214264    </td><td> -4.661012  </td><td>0.01701803  </td><td>9.314916    </td><td>0.0022081690</td><td>-0.5050673  </td></tr>\n",
       "\t<tr><td>49.8        </td><td>147.2       </td><td>44.78194    </td><td>1.131432    </td><td>  5.018065  </td><td>0.01477545  </td><td>9.314548    </td><td>0.0022120570</td><td> 0.5431383  </td></tr>\n",
       "\t<tr><td>80.7        </td><td>193.5       </td><td>91.89759    </td><td>1.066733    </td><td>-11.197592  </td><td>0.01313394  </td><td>9.303732    </td><td>0.0097584634</td><td>-1.2109808  </td></tr>\n",
       "\t<tr><td>95.9        </td><td>193.0       </td><td>91.38878    </td><td>1.046493    </td><td>  4.511216  </td><td>0.01264027  </td><td>9.315075    </td><td>0.0015228117</td><td> 0.4877505  </td></tr>\n",
       "\t<tr><td>44.8        </td><td>149.5       </td><td>47.12245    </td><td>1.037916    </td><td> -2.322454  </td><td>0.01243391  </td><td>9.316688    </td><td>0.0003968468</td><td>-0.2510763  </td></tr>\n",
       "</tbody>\n",
       "</table>\n"
      ],
      "text/latex": [
       "\\begin{tabular}{r|lllllllll}\n",
       " wgt & hgt & .fitted & .se.fit & .resid & .hat & .sigma & .cooksd & .std.resid\\\\\n",
       "\\hline\n",
       "\t 85.5         & 198.1        & 96.57863     & 1.255712     & -11.078629   & 0.01819968   & 9.303950     & 0.0133734319 & -1.2012024  \\\\\n",
       "\t 90.9         & 197.1        & 95.56101     & 1.214264     &  -4.661012   & 0.01701803   & 9.314916     & 0.0022081690 & -0.5050673  \\\\\n",
       "\t 49.8         & 147.2        & 44.78194     & 1.131432     &   5.018065   & 0.01477545   & 9.314548     & 0.0022120570 &  0.5431383  \\\\\n",
       "\t 80.7         & 193.5        & 91.89759     & 1.066733     & -11.197592   & 0.01313394   & 9.303732     & 0.0097584634 & -1.2109808  \\\\\n",
       "\t 95.9         & 193.0        & 91.38878     & 1.046493     &   4.511216   & 0.01264027   & 9.315075     & 0.0015228117 &  0.4877505  \\\\\n",
       "\t 44.8         & 149.5        & 47.12245     & 1.037916     &  -2.322454   & 0.01243391   & 9.316688     & 0.0003968468 & -0.2510763  \\\\\n",
       "\\end{tabular}\n"
      ],
      "text/markdown": [
       "\n",
       "wgt | hgt | .fitted | .se.fit | .resid | .hat | .sigma | .cooksd | .std.resid | \n",
       "|---|---|---|---|---|---|\n",
       "| 85.5         | 198.1        | 96.57863     | 1.255712     | -11.078629   | 0.01819968   | 9.303950     | 0.0133734319 | -1.2012024   | \n",
       "| 90.9         | 197.1        | 95.56101     | 1.214264     |  -4.661012   | 0.01701803   | 9.314916     | 0.0022081690 | -0.5050673   | \n",
       "| 49.8         | 147.2        | 44.78194     | 1.131432     |   5.018065   | 0.01477545   | 9.314548     | 0.0022120570 |  0.5431383   | \n",
       "| 80.7         | 193.5        | 91.89759     | 1.066733     | -11.197592   | 0.01313394   | 9.303732     | 0.0097584634 | -1.2109808   | \n",
       "| 95.9         | 193.0        | 91.38878     | 1.046493     |   4.511216   | 0.01264027   | 9.315075     | 0.0015228117 |  0.4877505   | \n",
       "| 44.8         | 149.5        | 47.12245     | 1.037916     |  -2.322454   | 0.01243391   | 9.316688     | 0.0003968468 | -0.2510763   | \n",
       "\n",
       "\n"
      ],
      "text/plain": [
       "  wgt  hgt   .fitted  .se.fit  .resid     .hat       .sigma   .cooksd     \n",
       "1 85.5 198.1 96.57863 1.255712 -11.078629 0.01819968 9.303950 0.0133734319\n",
       "2 90.9 197.1 95.56101 1.214264  -4.661012 0.01701803 9.314916 0.0022081690\n",
       "3 49.8 147.2 44.78194 1.131432   5.018065 0.01477545 9.314548 0.0022120570\n",
       "4 80.7 193.5 91.89759 1.066733 -11.197592 0.01313394 9.303732 0.0097584634\n",
       "5 95.9 193.0 91.38878 1.046493   4.511216 0.01264027 9.315075 0.0015228117\n",
       "6 44.8 149.5 47.12245 1.037916  -2.322454 0.01243391 9.316688 0.0003968468\n",
       "  .std.resid\n",
       "1 -1.2012024\n",
       "2 -0.5050673\n",
       "3  0.5431383\n",
       "4 -1.2109808\n",
       "5  0.4877505\n",
       "6 -0.2510763"
      ]
     },
     "metadata": {},
     "output_type": "display_data"
    }
   ],
   "source": [
    "# Rank high leverage points\n",
    "mod %>%\n",
    "  augment() %>%\n",
    "  arrange(desc(.hat), .cooksd) %>%\n",
    "  head()"
   ]
  }
 ],
 "metadata": {
  "kernelspec": {
   "display_name": "R",
   "language": "R",
   "name": "ir"
  },
  "language_info": {
   "codemirror_mode": "r",
   "file_extension": ".r",
   "mimetype": "text/x-r-source",
   "name": "R",
   "pygments_lexer": "r",
   "version": "3.5.1"
  }
 },
 "nbformat": 4,
 "nbformat_minor": 2
}

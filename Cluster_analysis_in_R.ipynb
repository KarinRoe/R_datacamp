{
 "cells": [
  {
   "cell_type": "code",
   "execution_count": 34,
   "metadata": {},
   "outputs": [],
   "source": [
    "library(ggplot2)\n",
    "library(readr)\n",
    "library(dplyr)\n",
    "library(openintro)\n",
    "library(dummies)\n",
    "library(dendextend)\n",
    "library(repr)\n",
    "options(repr.plot.width=6, repr.plot.height=4)"
   ]
  },
  {
   "cell_type": "markdown",
   "metadata": {},
   "source": [
    "# Measuring distance between continious data\n",
    "## Calculate & plot the distance between two players\n",
    "\n",
    "You've obtained the coordinates relative to the center of the field for two players in a soccer match and would like to calculate the distance between them.\n",
    "\n",
    "In this exercise you will plot the positions of the 2 players and manually calculate the distance between them by using the Euclidean distance formula.\n",
    "\n",
    "$$\\sqrt{(x_1−x_2)^2+(y_1−y_2)^2}$$"
   ]
  },
  {
   "cell_type": "code",
   "execution_count": 1,
   "metadata": {},
   "outputs": [],
   "source": [
    "two_players <- data.frame(x = c(5,15), y = c(4,10))"
   ]
  },
  {
   "cell_type": "code",
   "execution_count": 7,
   "metadata": {},
   "outputs": [
    {
     "data": {},
     "metadata": {},
     "output_type": "display_data"
    },
    {
     "data": {
      "image/png": "[encoded data removed]",
      "text/plain": [
       "plot without title"
      ]
     },
     "metadata": {},
     "output_type": "display_data"
    }
   ],
   "source": [
    "# Plot the positions of the players\n",
    "ggplot(two_players, aes(x = x, y = y)) + \n",
    "  geom_point() +\n",
    "  # Assuming a 40x60 field\n",
    "  lims(x = c(-30,30), y = c(-20, 20))"
   ]
  },
  {
   "cell_type": "code",
   "execution_count": 8,
   "metadata": {},
   "outputs": [
    {
     "data": {
      "text/html": [
       "11.6619037896906"
      ],
      "text/latex": [
       "11.6619037896906"
      ],
      "text/markdown": [
       "11.6619037896906"
      ],
      "text/plain": [
       "[1] 11.6619"
      ]
     },
     "metadata": {},
     "output_type": "display_data"
    }
   ],
   "source": [
    "# Split the players data frame into two observations\n",
    "player1 <- two_players[1, ]\n",
    "player2 <- two_players[2, ]\n",
    "\n",
    "# Calculate and print their distance using the Euclidean Distance formula\n",
    "player_distance <- sqrt( (player1$x - player2$x)^2 + (player1$y - player2$y)^2 )\n",
    "player_distance"
   ]
  },
  {
   "cell_type": "markdown",
   "metadata": {},
   "source": [
    "## Using the dist() function\n",
    "\n",
    "Using the Euclidean formula manually may be practical for 2 observations but can get more complicated rather quickly when measuring the distance between many observations.\n",
    "\n",
    "The `dist()` function simplifies this process by calculating distances between our observations (rows) using their features (columns). In this case the observations are the player positions and the dimensions are their x and y coordinates.\n",
    "\n",
    "Note: The default distance calculation for the `dist()` function is Euclidean distance"
   ]
  },
  {
   "cell_type": "code",
   "execution_count": 12,
   "metadata": {},
   "outputs": [],
   "source": [
    "three_players <- two_players %>% add_row(x = 0, y = 20)"
   ]
  },
  {
   "cell_type": "code",
   "execution_count": 17,
   "metadata": {},
   "outputs": [
    {
     "data": {
      "text/plain": [
       "        1\n",
       "2 11.6619"
      ]
     },
     "metadata": {},
     "output_type": "display_data"
    },
    {
     "data": {
      "text/plain": [
       "         1        2\n",
       "2 11.66190         \n",
       "3 16.76305 18.02776"
      ]
     },
     "metadata": {},
     "output_type": "display_data"
    }
   ],
   "source": [
    "# Calculate the Distance Between two_players\n",
    "dist_two_players <- dist(two_players)\n",
    "dist_two_players\n",
    "\n",
    "# Calculate the Distance Between three_players\n",
    "dist_three_players <- dist(three_players)\n",
    "dist_three_players"
   ]
  },
  {
   "cell_type": "code",
   "execution_count": 20,
   "metadata": {},
   "outputs": [],
   "source": [
    "data(trees)"
   ]
  },
  {
   "cell_type": "markdown",
   "metadata": {},
   "source": [
    "## Effects of scale\n",
    "\n",
    "You have learned that when a variable is on a larger scale than other variables in your data it may disproportionately influence the resulting distance calculated between your observations. Lets see this in action by observing a sample of data from the trees data set.\n",
    "\n",
    "You will leverage the `scale()` function which by default centers & scales our column features.\n",
    "\n",
    "Our variables are the following:\n",
    " * Girth - tree diameter in inches\n",
    " * Height - tree height in inches\n"
   ]
  },
  {
   "cell_type": "code",
   "execution_count": 24,
   "metadata": {},
   "outputs": [
    {
     "name": "stdout",
     "output_type": "stream",
     "text": [
      "[1] \"Without Scaling\"\n"
     ]
    },
    {
     "data": {
      "text/plain": [
       "         1        2\n",
       "2 5.008992         \n",
       "3 7.017834 2.009975"
      ]
     },
     "metadata": {},
     "output_type": "display_data"
    },
    {
     "name": "stdout",
     "output_type": "stream",
     "text": [
      "[1] \"With Scaling\"\n"
     ]
    },
    {
     "data": {
      "text/plain": [
       "          1         2\n",
       "2 1.8286961          \n",
       "3 2.7778767 0.9691601"
      ]
     },
     "metadata": {},
     "output_type": "display_data"
    }
   ],
   "source": [
    "# Calculate distance for three_trees \n",
    "dist_trees <- dist(trees[1:3,1:2])\n",
    "\n",
    "# Scale three trees & calculate the distance  \n",
    "scaled_three_trees <- scale(trees[1:3,1:2])\n",
    "dist_scaled_trees <- dist(scaled_three_trees)\n",
    "\n",
    "# Output the results of both Matrices\n",
    "print('Without Scaling')\n",
    "dist_trees\n",
    "\n",
    "print('With Scaling')\n",
    "dist_scaled_trees"
   ]
  },
  {
   "cell_type": "markdown",
   "metadata": {},
   "source": [
    "# Measuring distance for categorical data\n",
    "## Calculating distance between categorical variables\n",
    "\n",
    "In this exercise you will explore how to calculate binary (Jaccard) distances. In order to calculate distances we will first have to dummify our categories using the `dummy.data.frame()` from the library dummies\n",
    "\n",
    "$$J(1, 2) = \\frac{1\\cap2}{1\\cup2}= \\frac{1}{4} = 0.25 $$\n",
    "$$ distance(1, 2) = 1 − J(1, 2) = 0.75 $$\n",
    "\n",
    "You will use a small collection of survey observations stored in the data frame job_survey with the following columns:\n",
    "\n",
    "    job_satisfaction Possible options: \"Hi\", \"Mid\", \"Low\"\n",
    "    is_happy Possible options: \"Yes\", \"No\"\n"
   ]
  },
  {
   "cell_type": "code",
   "execution_count": 28,
   "metadata": {},
   "outputs": [
    {
     "data": {
      "text/html": [
       "<table>\n",
       "<thead><tr><th scope=col>job_satisfaction</th><th scope=col>is_happy</th></tr></thead>\n",
       "<tbody>\n",
       "\t<tr><td>Low</td><td>No </td></tr>\n",
       "\t<tr><td>Low</td><td>No </td></tr>\n",
       "\t<tr><td>Hi </td><td>Yes</td></tr>\n",
       "\t<tr><td>Low</td><td>No </td></tr>\n",
       "\t<tr><td>Mid</td><td>No </td></tr>\n",
       "</tbody>\n",
       "</table>\n"
      ],
      "text/latex": [
       "\\begin{tabular}{r|ll}\n",
       " job\\_satisfaction & is\\_happy\\\\\n",
       "\\hline\n",
       "\t Low & No \\\\\n",
       "\t Low & No \\\\\n",
       "\t Hi  & Yes\\\\\n",
       "\t Low & No \\\\\n",
       "\t Mid & No \\\\\n",
       "\\end{tabular}\n"
      ],
      "text/markdown": [
       "\n",
       "job_satisfaction | is_happy | \n",
       "|---|---|---|---|---|\n",
       "| Low | No  | \n",
       "| Low | No  | \n",
       "| Hi  | Yes | \n",
       "| Low | No  | \n",
       "| Mid | No  | \n",
       "\n",
       "\n"
      ],
      "text/plain": [
       "  job_satisfaction is_happy\n",
       "1 Low              No      \n",
       "2 Low              No      \n",
       "3 Hi               Yes     \n",
       "4 Low              No      \n",
       "5 Mid              No      "
      ]
     },
     "metadata": {},
     "output_type": "display_data"
    },
    {
     "data": {
      "text/plain": [
       "          1         2         3         4\n",
       "2 0.0000000                              \n",
       "3 1.0000000 1.0000000                    \n",
       "4 0.0000000 0.0000000 1.0000000          \n",
       "5 0.6666667 0.6666667 1.0000000 0.6666667"
      ]
     },
     "metadata": {},
     "output_type": "display_data"
    }
   ],
   "source": [
    "job_survey <- data.frame(job_satisfaction = c(\"Low\", \"Low\", \"Hi\", \"Low\", \"Mid\"), is_happy = c(\"No\", \"No\", \"Yes\", \"No\", \"No\"))\n",
    "\n",
    "# Dummify the Survey Data\n",
    "dummy_survey <- dummy.data.frame(job_survey)\n",
    "\n",
    "# Calculate the Distance\n",
    "dist_survey <- dist(dummy_survey, method = \"binary\")\n",
    "\n",
    "# Print the Original Data\n",
    "job_survey\n",
    "\n",
    "# Print the Distance Matrix\n",
    "dist_survey"
   ]
  },
  {
   "cell_type": "markdown",
   "metadata": {},
   "source": [
    "# Comparing more than two observation\n",
    "## Calculating linkage\n",
    "\n",
    "Let us revisit the example with three players on a field. The distance matrix between these three players is shown below and is available as the variable dist_players.\n",
    "\n",
    "From this we can tell that the first group that forms is between players 1 & 2, since they are the closest to one another with a Euclidean distance value of 11.\n",
    "\n",
    "Now you want to apply the three linkage methods you have learned to determine what the distance of this group is to player 3.\n",
    "\n",
    "<b>Linkage Criteria</b>\n",
    " * Complete Linkage: maximum distance between two sets\n",
    " * Single Linkage: minimum distance between two sets\n",
    " * Average Linkage: average distance between two sets"
   ]
  },
  {
   "cell_type": "code",
   "execution_count": 31,
   "metadata": {},
   "outputs": [
    {
     "data": {
      "text/plain": [
       "         1        2\n",
       "2 11.66190         \n",
       "3 16.76305 18.02776"
      ]
     },
     "metadata": {},
     "output_type": "display_data"
    }
   ],
   "source": [
    "dist_three_players"
   ]
  },
  {
   "cell_type": "code",
   "execution_count": 33,
   "metadata": {},
   "outputs": [
    {
     "data": {
      "text/html": [
       "18.0277563773199"
      ],
      "text/latex": [
       "18.0277563773199"
      ],
      "text/markdown": [
       "18.0277563773199"
      ],
      "text/plain": [
       "[1] 18.02776"
      ]
     },
     "metadata": {},
     "output_type": "display_data"
    },
    {
     "data": {
      "text/html": [
       "16.7630546142402"
      ],
      "text/latex": [
       "16.7630546142402"
      ],
      "text/markdown": [
       "16.7630546142402"
      ],
      "text/plain": [
       "[1] 16.76305"
      ]
     },
     "metadata": {},
     "output_type": "display_data"
    },
    {
     "data": {
      "text/html": [
       "17.3954054957801"
      ],
      "text/latex": [
       "17.3954054957801"
      ],
      "text/markdown": [
       "17.3954054957801"
      ],
      "text/plain": [
       "[1] 17.39541"
      ]
     },
     "metadata": {},
     "output_type": "display_data"
    }
   ],
   "source": [
    "# Extract the pair distances\n",
    "distance_1_2 <- dist_three_players[1]\n",
    "distance_1_3 <- dist_three_players[2]\n",
    "distance_2_3 <- dist_three_players[3]\n",
    "\n",
    "# Calculate the complete distance between group 1-2 and 3\n",
    "complete <- max(c(distance_1_3, distance_2_3 ))\n",
    "complete\n",
    "\n",
    "# Calculate the single distance between group 1-2 and 3\n",
    "single <- min(c(distance_1_3, distance_2_3))\n",
    "single\n",
    "\n",
    "# Calculate the average distance between group 1-2 and 3\n",
    "average <- mean(c(distance_1_3, distance_2_3))\n",
    "average\n"
   ]
  },
  {
   "cell_type": "markdown",
   "metadata": {},
   "source": [
    "# Capturing K clusters\n",
    "## Assign cluster membership\n",
    "\n",
    "In this exercise you will leverage the `hclust()` function to calculate the iterative linkage steps and you will use the `cutree()` function to extract the cluster assignments for the desired number (`k`) of clusters.\n",
    "\n",
    "You are given the positions of 12 players at the start of a 6v6 soccer match. This is stored in the `lineup` dataframe.\n",
    "\n",
    "You know that this match has two teams (k = 2), let's use the clustering methods you learned to assign which team each player belongs in based on their position.\n",
    "\n",
    "Notes:\n",
    "\n",
    " * The linkage method can be passed via the method parameter: `hclust(distance_matrix, method = \"complete\")`\n",
    " * Remember that in soccer opposing teams start on their half of the field.\n",
    " * Because these positions are measured using the same scale we do not need to re-scale our data.\n"
   ]
  },
  {
   "cell_type": "code",
   "execution_count": 35,
   "metadata": {},
   "outputs": [],
   "source": [
    "lineup <- readRDS(\"lineup.rds\")"
   ]
  },
  {
   "cell_type": "code",
   "execution_count": 37,
   "metadata": {},
   "outputs": [],
   "source": [
    "# Calculate the Distance\n",
    "dist_players <- dist(lineup)\n",
    "\n",
    "# Perform the hierarchical clustering using the complete linkage\n",
    "hc_players <- hclust(dist_players)\n",
    "\n",
    "# Calculate the assignment vector with a k of 2\n",
    "clusters_k2 <- cutree(hc_players, k = 2)\n",
    "\n",
    "# Create a new dataframe storing these results\n",
    "lineup_k2_complete <- mutate(lineup, cluster = clusters_k2)"
   ]
  },
  {
   "cell_type": "markdown",
   "metadata": {},
   "source": [
    "## Exploring the clusters\n",
    "\n",
    "Because clustering analysis is always in part qualitative, it is incredibly important to have the necessary tools to explore the results of the clustering.\n",
    "\n",
    "In this exercise you will explore that data frame you created in the previous exercise lineup_k2_complete.\n",
    "\n",
    "Reminder: The lineup_k2_complete dataframe contains the x & y positions of 12 players at the start of a 6v6 soccer game to which you have added clustering assignments based on the following parameters:\n",
    "\n",
    " * Distance: Euclidean\n",
    " * Number of Clusters (k): 2\n",
    " * Linkage Method: Complete\n"
   ]
  },
  {
   "cell_type": "code",
   "execution_count": 38,
   "metadata": {},
   "outputs": [
    {
     "data": {
      "text/html": [
       "<table>\n",
       "<thead><tr><th scope=col>cluster</th><th scope=col>n</th></tr></thead>\n",
       "<tbody>\n",
       "\t<tr><td>1</td><td>6</td></tr>\n",
       "\t<tr><td>2</td><td>6</td></tr>\n",
       "</tbody>\n",
       "</table>\n"
      ],
      "text/latex": [
       "\\begin{tabular}{r|ll}\n",
       " cluster & n\\\\\n",
       "\\hline\n",
       "\t 1 & 6\\\\\n",
       "\t 2 & 6\\\\\n",
       "\\end{tabular}\n"
      ],
      "text/markdown": [
       "\n",
       "cluster | n | \n",
       "|---|---|\n",
       "| 1 | 6 | \n",
       "| 2 | 6 | \n",
       "\n",
       "\n"
      ],
      "text/plain": [
       "  cluster n\n",
       "1 1       6\n",
       "2 2       6"
      ]
     },
     "metadata": {},
     "output_type": "display_data"
    },
    {
     "data": {},
     "metadata": {},
     "output_type": "display_data"
    },
    {
     "data": {
      "image/png": "[encoded data removed]",
      "text/plain": [
       "plot without title"
      ]
     },
     "metadata": {},
     "output_type": "display_data"
    }
   ],
   "source": [
    "# Count the cluster assignments\n",
    "count(lineup_k2_complete, cluster)\n",
    "\n",
    "# Plot the positions of the players and color them using their cluster\n",
    "ggplot(lineup_k2_complete, aes(x = x, y = y, color = factor(cluster))) +\n",
    "  geom_point()"
   ]
  },
  {
   "cell_type": "markdown",
   "metadata": {},
   "source": [
    "# Visualisation \n",
    "## Comparing average, single & complete linkage\n",
    "\n",
    "You are now ready to analyze the clustering results of the lineup dataset using the dendrogram plot. This will give you a new perspective on the effect the decision of the linkage method has on your resulting cluster analysis."
   ]
  },
  {
   "cell_type": "code",
   "execution_count": 39,
   "metadata": {},
   "outputs": [
    {
     "data": {
      "image/png": "[encoded data removed]",
      "text/plain": [
       "Plot with title \"Average Linkage\""
      ]
     },
     "metadata": {},
     "output_type": "display_data"
    }
   ],
   "source": [
    "# Prepare the Distance Matrix\n",
    "dist_players <- dist(lineup)\n",
    "\n",
    "# Generate hclust for complete, single & average linkage methods\n",
    "hc_complete <- hclust(dist_players, method = \"complete\")\n",
    "hc_single <- hclust(dist_players, method = \"single\")\n",
    "hc_average <- hclust(dist_players, method = \"average\")\n",
    "\n",
    "# Plot & Label the 3 Dendrograms Side-by-Side\n",
    "# Hint: To see these Side-by-Side run the 4 lines together as one command\n",
    "par(mfrow = c(1,3))\n",
    "plot(hc_complete, main = 'Complete Linkage')\n",
    "plot(hc_single, main = 'Single Linkage')\n",
    "plot(hc_average, main = 'Average Linkage')"
   ]
  },
  {
   "cell_type": "markdown",
   "metadata": {},
   "source": [
    "<b>Height of the tree</b>\n",
    "\n",
    "An advantage of working with a clustering method like hierarchical clustering is that you can describe the relationships between your observations based on both the distance metric and the linkage metric selected (the combination of which defines the height of the tree).\n",
    "\n",
    "For the middle tree:we can concretely say that for the branch on a tree all members that are a part of that branch must have a minimum Euclidean distance amongst one another equal to or less than the height of that branch."
   ]
  },
  {
   "cell_type": "markdown",
   "metadata": {},
   "source": [
    "## Clusters based on height\n",
    "\n",
    "In previous exercises you have grouped your observations into clusters using a pre-defined number of clusters (k). In this exercise you will leverage the visual representation of the dendrogram in order to group your observations into clusters using a maximum height (h), below which clusters form.\n",
    "\n",
    "You will work the `color_branches()` function from the dendextend library in order to visually inspect the clusters that form at any height along the dendrogram.\n",
    "\n",
    "The hc_players has been carried over from your previous work with the soccer line-up data."
   ]
  },
  {
   "cell_type": "code",
   "execution_count": 42,
   "metadata": {},
   "outputs": [
    {
     "data": {
      "image/png": "[encoded data removed]",
      "text/plain": [
       "plot without title"
      ]
     },
     "metadata": {},
     "output_type": "display_data"
    },
    {
     "data": {
      "image/png": "[encoded data removed]",
      "text/plain": [
       "plot without title"
      ]
     },
     "metadata": {},
     "output_type": "display_data"
    },
    {
     "data": {
      "image/png": "[encoded data removed]",
      "text/plain": [
       "plot without title"
      ]
     },
     "metadata": {},
     "output_type": "display_data"
    }
   ],
   "source": [
    "dist_players <- dist(lineup, method = 'euclidean')\n",
    "hc_players <- hclust(dist_players, method = \"complete\")\n",
    "\n",
    "# Create a dendrogram object from the hclust variable\n",
    "dend_players <- as.dendrogram(hc_players)\n",
    "\n",
    "# Plot the dendrogram\n",
    "plot(dend_players)\n",
    "\n",
    "# Color branches by cluster formed from the cut at a height of 20 & plot\n",
    "dend_20 <- color_branches(dend_players, h = 20)\n",
    "\n",
    "# Plot the dendrogram with clusters colored below height 20\n",
    "plot(dend_20)\n",
    "\n",
    "# Color branches by cluster formed from the cut at a height of 40 & plot\n",
    "dend_40 <- color_branches(dend_players, h = 40)\n",
    "\n",
    "# Plot the dendrogram with clusters colored below height 40\n",
    "plot(dend_40)\n"
   ]
  },
  {
   "cell_type": "markdown",
   "metadata": {},
   "source": [
    "## Exploring the branches cut from the tree\n",
    "\n",
    "The cutree() function you used in exercises 5 & 6 can also be used to cut a tree at a given height by using the h parameter. Take a moment to explore the clusters you have generated from the previous exercises based on the heights 20 & 40."
   ]
  },
  {
   "cell_type": "code",
   "execution_count": 43,
   "metadata": {},
   "outputs": [
    {
     "data": {},
     "metadata": {},
     "output_type": "display_data"
    },
    {
     "data": {},
     "metadata": {},
     "output_type": "display_data"
    },
    {
     "data": {
      "image/png": "[encoded data removed]",
      "text/plain": [
       "plot without title"
      ]
     },
     "metadata": {},
     "output_type": "display_data"
    },
    {
     "data": {
      "image/png": "[encoded data removed]",
      "text/plain": [
       "plot without title"
      ]
     },
     "metadata": {},
     "output_type": "display_data"
    }
   ],
   "source": [
    "dist_players <- dist(lineup, method = 'euclidean')\n",
    "hc_players <- hclust(dist_players, method = \"complete\")\n",
    "\n",
    "# Calculate the assignment vector with a h of 20\n",
    "clusters_h20 <- cutree(hc_players, h = 20)\n",
    "\n",
    "# Create a new dataframe storing these results\n",
    "lineup_h20_complete <- mutate(lineup, cluster = clusters_h20)\n",
    "\n",
    "# Calculate the assignment vector with a h of 40\n",
    "clusters_h40 <- cutree(hc_players, h = 40)\n",
    "\n",
    "# Create a new dataframe storing these results\n",
    "lineup_h40_complete <- mutate(lineup, cluster = clusters_h40)\n",
    "\n",
    "# Plot the positions of the players and color them using their cluster for height = 20\n",
    "ggplot(lineup_h20_complete, aes(x = x, y = y, color = factor(cluster))) +\n",
    "  geom_point()\n",
    "\n",
    "# Plot the positions of the players and color them using their cluster for height = 40\n",
    "ggplot(lineup_h40_complete, aes(x = x, y = y, color = factor(cluster))) +\n",
    "  geom_point()\n"
   ]
  },
  {
   "cell_type": "markdown",
   "metadata": {},
   "source": [
    "The height of any branch is determined by the linkage and distance decisions (in this case complete linkage and Euclidean distance). While the members of the clusters that form below a desired height have a maximum linkage+distance amongst themselves that - han the desired height."
   ]
  },
  {
   "cell_type": "markdown",
   "metadata": {},
   "source": [
    "### Segment wholesale customers\n",
    "\n",
    "You're now ready to use hierarchical clustering to perform market segmentation (i.e. use consumer characteristics to group them into subgroups).\n",
    "\n",
    "In this exercise you are provided with the amount spent by 45 different clients of a wholesale distributor for the food categories of Milk, Grocery & Frozen. This is stored in the dataframe customers_spend. Assign these clients into meaningful clusters.\n",
    "\n",
    "Note: For this exercise you can assume that because the data is all of the same type (amount spent) and you will not need to scale it."
   ]
  },
  {
   "cell_type": "code",
   "execution_count": 49,
   "metadata": {},
   "outputs": [],
   "source": [
    "customers_spend <- readRDS(\"ws_customers.rds\")"
   ]
  },
  {
   "cell_type": "code",
   "execution_count": 50,
   "metadata": {},
   "outputs": [
    {
     "data": {
      "image/png": "[encoded data removed]",
      "text/plain": [
       "Plot with title \"Cluster Dendrogram\""
      ]
     },
     "metadata": {},
     "output_type": "display_data"
    }
   ],
   "source": [
    "# Calculate Euclidean distance between customers\n",
    "dist_customers <- dist(customers_spend, method = \"euclidean\")\n",
    "\n",
    "# Generate a complete linkage analysis \n",
    "hc_customers <- hclust(dist_customers, method = \"complete\")\n",
    "\n",
    "# Plot the dendrogram\n",
    "plot(hc_customers)\n",
    "\n",
    "# Create a cluster assignment vector at h = 15000\n",
    "clust_customers <- cutree(hc_customers, h = 15000)\n",
    "\n",
    "# Generate the segmented customers dataframe\n",
    "segment_customers <- mutate(customers_spend, cluster = clust_customers)"
   ]
  },
  {
   "cell_type": "code",
   "execution_count": null,
   "metadata": {},
   "outputs": [],
   "source": []
  }
 ],
 "metadata": {
  "kernelspec": {
   "display_name": "R",
   "language": "R",
   "name": "ir"
  },
  "language_info": {
   "codemirror_mode": "r",
   "file_extension": ".r",
   "mimetype": "text/x-r-source",
   "name": "R",
   "pygments_lexer": "r",
   "version": "3.5.1"
  }
 },
 "nbformat": 4,
 "nbformat_minor": 2
}

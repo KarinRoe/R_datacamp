{
 "cells": [
  {
   "cell_type": "code",
   "execution_count": 28,
   "metadata": {},
   "outputs": [],
   "source": [
    "library(ggplot2)\n",
    "library(readr)\n",
    "library(dplyr)\n",
    "library(openintro)\n",
    "library(dummies)\n",
    "library(dendextend)\n",
    "library(repr)\n",
    "library(purrr)\n",
    "options(repr.plot.width=6, repr.plot.height=4)"
   ]
  },
  {
   "cell_type": "markdown",
   "metadata": {},
   "source": [
    "# Measuring distance between continious data\n",
    "## Calculate & plot the distance between two players\n",
    "\n",
    "You've obtained the coordinates relative to the center of the field for two players in a soccer match and would like to calculate the distance between them.\n",
    "\n",
    "In this exercise you will plot the positions of the 2 players and manually calculate the distance between them by using the Euclidean distance formula.\n",
    "\n",
    "$$\\sqrt{(x_1−x_2)^2+(y_1−y_2)^2}$$"
   ]
  },
  {
   "cell_type": "code",
   "execution_count": 4,
   "metadata": {},
   "outputs": [],
   "source": [
    "two_players <- data.frame(x = c(5,15), y = c(4,10))"
   ]
  },
  {
   "cell_type": "code",
   "execution_count": 5,
   "metadata": {},
   "outputs": [
    {
     "data": {},
     "metadata": {},
     "output_type": "display_data"
    },
    {
     "data": {
      "image/png": "[encoded data removed]",
      "text/plain": [
       "plot without title"
      ]
     },
     "metadata": {},
     "output_type": "display_data"
    }
   ],
   "source": [
    "# Plot the positions of the players\n",
    "ggplot(two_players, aes(x = x, y = y)) + \n",
    "  geom_point() +\n",
    "  # Assuming a 40x60 field\n",
    "  lims(x = c(-30,30), y = c(-20, 20))"
   ]
  },
  {
   "cell_type": "code",
   "execution_count": 6,
   "metadata": {},
   "outputs": [
    {
     "data": {
      "text/html": [
       "11.6619037896906"
      ],
      "text/latex": [
       "11.6619037896906"
      ],
      "text/markdown": [
       "11.6619037896906"
      ],
      "text/plain": [
       "[1] 11.6619"
      ]
     },
     "metadata": {},
     "output_type": "display_data"
    }
   ],
   "source": [
    "# Split the players data frame into two observations\n",
    "player1 <- two_players[1, ]\n",
    "player2 <- two_players[2, ]\n",
    "\n",
    "# Calculate and print their distance using the Euclidean Distance formula\n",
    "player_distance <- sqrt( (player1$x - player2$x)^2 + (player1$y - player2$y)^2 )\n",
    "player_distance"
   ]
  },
  {
   "cell_type": "markdown",
   "metadata": {},
   "source": [
    "## Using the dist() function\n",
    "\n",
    "Using the Euclidean formula manually may be practical for 2 observations but can get more complicated rather quickly when measuring the distance between many observations.\n",
    "\n",
    "The `dist()` function simplifies this process by calculating distances between our observations (rows) using their features (columns). In this case the observations are the player positions and the dimensions are their x and y coordinates.\n",
    "\n",
    "Note: The default distance calculation for the `dist()` function is Euclidean distance"
   ]
  },
  {
   "cell_type": "code",
   "execution_count": 7,
   "metadata": {},
   "outputs": [],
   "source": [
    "three_players <- two_players %>% add_row(x = 0, y = 20)"
   ]
  },
  {
   "cell_type": "code",
   "execution_count": 8,
   "metadata": {},
   "outputs": [
    {
     "data": {
      "text/plain": [
       "        1\n",
       "2 11.6619"
      ]
     },
     "metadata": {},
     "output_type": "display_data"
    },
    {
     "data": {
      "text/plain": [
       "         1        2\n",
       "2 11.66190         \n",
       "3 16.76305 18.02776"
      ]
     },
     "metadata": {},
     "output_type": "display_data"
    }
   ],
   "source": [
    "# Calculate the Distance Between two_players\n",
    "dist_two_players <- dist(two_players)\n",
    "dist_two_players\n",
    "\n",
    "# Calculate the Distance Between three_players\n",
    "dist_three_players <- dist(three_players)\n",
    "dist_three_players"
   ]
  },
  {
   "cell_type": "code",
   "execution_count": 9,
   "metadata": {},
   "outputs": [],
   "source": [
    "data(trees)"
   ]
  },
  {
   "cell_type": "markdown",
   "metadata": {},
   "source": [
    "## Effects of scale\n",
    "\n",
    "You have learned that when a variable is on a larger scale than other variables in your data it may disproportionately influence the resulting distance calculated between your observations. Lets see this in action by observing a sample of data from the trees data set.\n",
    "\n",
    "You will leverage the `scale()` function which by default centers & scales our column features.\n",
    "\n",
    "Our variables are the following:\n",
    " * Girth - tree diameter in inches\n",
    " * Height - tree height in inches\n"
   ]
  },
  {
   "cell_type": "code",
   "execution_count": 10,
   "metadata": {},
   "outputs": [
    {
     "name": "stdout",
     "output_type": "stream",
     "text": [
      "[1] \"Without Scaling\"\n"
     ]
    },
    {
     "data": {
      "text/plain": [
       "         1        2\n",
       "2 5.008992         \n",
       "3 7.017834 2.009975"
      ]
     },
     "metadata": {},
     "output_type": "display_data"
    },
    {
     "name": "stdout",
     "output_type": "stream",
     "text": [
      "[1] \"With Scaling\"\n"
     ]
    },
    {
     "data": {
      "text/plain": [
       "          1         2\n",
       "2 1.8286961          \n",
       "3 2.7778767 0.9691601"
      ]
     },
     "metadata": {},
     "output_type": "display_data"
    }
   ],
   "source": [
    "# Calculate distance for three_trees \n",
    "dist_trees <- dist(trees[1:3,1:2])\n",
    "\n",
    "# Scale three trees & calculate the distance  \n",
    "scaled_three_trees <- scale(trees[1:3,1:2])\n",
    "dist_scaled_trees <- dist(scaled_three_trees)\n",
    "\n",
    "# Output the results of both Matrices\n",
    "print('Without Scaling')\n",
    "dist_trees\n",
    "\n",
    "print('With Scaling')\n",
    "dist_scaled_trees"
   ]
  },
  {
   "cell_type": "markdown",
   "metadata": {},
   "source": [
    "# Measuring distance for categorical data\n",
    "## Calculating distance between categorical variables\n",
    "\n",
    "In this exercise you will explore how to calculate binary (Jaccard) distances. In order to calculate distances we will first have to dummify our categories using the `dummy.data.frame()` from the library dummies\n",
    "\n",
    "$$J(1, 2) = \\frac{1\\cap2}{1\\cup2}= \\frac{1}{4} = 0.25 $$\n",
    "$$ distance(1, 2) = 1 − J(1, 2) = 0.75 $$\n",
    "\n",
    "You will use a small collection of survey observations stored in the data frame job_survey with the following columns:\n",
    "\n",
    "    job_satisfaction Possible options: \"Hi\", \"Mid\", \"Low\"\n",
    "    is_happy Possible options: \"Yes\", \"No\"\n"
   ]
  },
  {
   "cell_type": "code",
   "execution_count": 11,
   "metadata": {},
   "outputs": [
    {
     "data": {
      "text/html": [
       "<table>\n",
       "<thead><tr><th scope=col>job_satisfaction</th><th scope=col>is_happy</th></tr></thead>\n",
       "<tbody>\n",
       "\t<tr><td>Low</td><td>No </td></tr>\n",
       "\t<tr><td>Low</td><td>No </td></tr>\n",
       "\t<tr><td>Hi </td><td>Yes</td></tr>\n",
       "\t<tr><td>Low</td><td>No </td></tr>\n",
       "\t<tr><td>Mid</td><td>No </td></tr>\n",
       "</tbody>\n",
       "</table>\n"
      ],
      "text/latex": [
       "\\begin{tabular}{r|ll}\n",
       " job\\_satisfaction & is\\_happy\\\\\n",
       "\\hline\n",
       "\t Low & No \\\\\n",
       "\t Low & No \\\\\n",
       "\t Hi  & Yes\\\\\n",
       "\t Low & No \\\\\n",
       "\t Mid & No \\\\\n",
       "\\end{tabular}\n"
      ],
      "text/markdown": [
       "\n",
       "job_satisfaction | is_happy | \n",
       "|---|---|---|---|---|\n",
       "| Low | No  | \n",
       "| Low | No  | \n",
       "| Hi  | Yes | \n",
       "| Low | No  | \n",
       "| Mid | No  | \n",
       "\n",
       "\n"
      ],
      "text/plain": [
       "  job_satisfaction is_happy\n",
       "1 Low              No      \n",
       "2 Low              No      \n",
       "3 Hi               Yes     \n",
       "4 Low              No      \n",
       "5 Mid              No      "
      ]
     },
     "metadata": {},
     "output_type": "display_data"
    },
    {
     "data": {
      "text/plain": [
       "          1         2         3         4\n",
       "2 0.0000000                              \n",
       "3 1.0000000 1.0000000                    \n",
       "4 0.0000000 0.0000000 1.0000000          \n",
       "5 0.6666667 0.6666667 1.0000000 0.6666667"
      ]
     },
     "metadata": {},
     "output_type": "display_data"
    }
   ],
   "source": [
    "job_survey <- data.frame(job_satisfaction = c(\"Low\", \"Low\", \"Hi\", \"Low\", \"Mid\"), is_happy = c(\"No\", \"No\", \"Yes\", \"No\", \"No\"))\n",
    "\n",
    "# Dummify the Survey Data\n",
    "dummy_survey <- dummy.data.frame(job_survey)\n",
    "\n",
    "# Calculate the Distance\n",
    "dist_survey <- dist(dummy_survey, method = \"binary\")\n",
    "\n",
    "# Print the Original Data\n",
    "job_survey\n",
    "\n",
    "# Print the Distance Matrix\n",
    "dist_survey"
   ]
  },
  {
   "cell_type": "markdown",
   "metadata": {},
   "source": [
    "# Comparing more than two observation\n",
    "## Calculating linkage\n",
    "\n",
    "Let us revisit the example with three players on a field. The distance matrix between these three players is shown below and is available as the variable dist_players.\n",
    "\n",
    "From this we can tell that the first group that forms is between players 1 & 2, since they are the closest to one another with a Euclidean distance value of 11.\n",
    "\n",
    "Now you want to apply the three linkage methods you have learned to determine what the distance of this group is to player 3.\n",
    "\n",
    "<b>Linkage Criteria</b>\n",
    " * Complete Linkage: maximum distance between two sets\n",
    " * Single Linkage: minimum distance between two sets\n",
    " * Average Linkage: average distance between two sets"
   ]
  },
  {
   "cell_type": "code",
   "execution_count": 12,
   "metadata": {},
   "outputs": [
    {
     "data": {
      "text/plain": [
       "         1        2\n",
       "2 11.66190         \n",
       "3 16.76305 18.02776"
      ]
     },
     "metadata": {},
     "output_type": "display_data"
    }
   ],
   "source": [
    "dist_three_players"
   ]
  },
  {
   "cell_type": "code",
   "execution_count": 13,
   "metadata": {},
   "outputs": [
    {
     "data": {
      "text/html": [
       "18.0277563773199"
      ],
      "text/latex": [
       "18.0277563773199"
      ],
      "text/markdown": [
       "18.0277563773199"
      ],
      "text/plain": [
       "[1] 18.02776"
      ]
     },
     "metadata": {},
     "output_type": "display_data"
    },
    {
     "data": {
      "text/html": [
       "16.7630546142402"
      ],
      "text/latex": [
       "16.7630546142402"
      ],
      "text/markdown": [
       "16.7630546142402"
      ],
      "text/plain": [
       "[1] 16.76305"
      ]
     },
     "metadata": {},
     "output_type": "display_data"
    },
    {
     "data": {
      "text/html": [
       "17.3954054957801"
      ],
      "text/latex": [
       "17.3954054957801"
      ],
      "text/markdown": [
       "17.3954054957801"
      ],
      "text/plain": [
       "[1] 17.39541"
      ]
     },
     "metadata": {},
     "output_type": "display_data"
    }
   ],
   "source": [
    "# Extract the pair distances\n",
    "distance_1_2 <- dist_three_players[1]\n",
    "distance_1_3 <- dist_three_players[2]\n",
    "distance_2_3 <- dist_three_players[3]\n",
    "\n",
    "# Calculate the complete distance between group 1-2 and 3\n",
    "complete <- max(c(distance_1_3, distance_2_3 ))\n",
    "complete\n",
    "\n",
    "# Calculate the single distance between group 1-2 and 3\n",
    "single <- min(c(distance_1_3, distance_2_3))\n",
    "single\n",
    "\n",
    "# Calculate the average distance between group 1-2 and 3\n",
    "average <- mean(c(distance_1_3, distance_2_3))\n",
    "average\n"
   ]
  },
  {
   "cell_type": "markdown",
   "metadata": {},
   "source": [
    "# Capturing K clusters\n",
    "## Assign cluster membership\n",
    "\n",
    "In this exercise you will leverage the `hclust()` function to calculate the iterative linkage steps and you will use the `cutree()` function to extract the cluster assignments for the desired number (`k`) of clusters.\n",
    "\n",
    "You are given the positions of 12 players at the start of a 6v6 soccer match. This is stored in the `lineup` dataframe.\n",
    "\n",
    "You know that this match has two teams (k = 2), let's use the clustering methods you learned to assign which team each player belongs in based on their position.\n",
    "\n",
    "Notes:\n",
    "\n",
    " * The linkage method can be passed via the method parameter: `hclust(distance_matrix, method = \"complete\")`\n",
    " * Remember that in soccer opposing teams start on their half of the field.\n",
    " * Because these positions are measured using the same scale we do not need to re-scale our data.\n"
   ]
  },
  {
   "cell_type": "code",
   "execution_count": 14,
   "metadata": {},
   "outputs": [],
   "source": [
    "lineup <- readRDS(\"lineup.rds\")"
   ]
  },
  {
   "cell_type": "code",
   "execution_count": 15,
   "metadata": {},
   "outputs": [],
   "source": [
    "# Calculate the Distance\n",
    "dist_players <- dist(lineup)\n",
    "\n",
    "# Perform the hierarchical clustering using the complete linkage\n",
    "hc_players <- hclust(dist_players)\n",
    "\n",
    "# Calculate the assignment vector with a k of 2\n",
    "clusters_k2 <- cutree(hc_players, k = 2)\n",
    "\n",
    "# Create a new dataframe storing these results\n",
    "lineup_k2_complete <- mutate(lineup, cluster = clusters_k2)"
   ]
  },
  {
   "cell_type": "markdown",
   "metadata": {},
   "source": [
    "## Exploring the clusters\n",
    "\n",
    "Because clustering analysis is always in part qualitative, it is incredibly important to have the necessary tools to explore the results of the clustering.\n",
    "\n",
    "In this exercise you will explore that data frame you created in the previous exercise lineup_k2_complete.\n",
    "\n",
    "Reminder: The lineup_k2_complete dataframe contains the x & y positions of 12 players at the start of a 6v6 soccer game to which you have added clustering assignments based on the following parameters:\n",
    "\n",
    " * Distance: Euclidean\n",
    " * Number of Clusters (k): 2\n",
    " * Linkage Method: Complete\n"
   ]
  },
  {
   "cell_type": "code",
   "execution_count": 16,
   "metadata": {},
   "outputs": [
    {
     "data": {
      "text/html": [
       "<table>\n",
       "<thead><tr><th scope=col>cluster</th><th scope=col>n</th></tr></thead>\n",
       "<tbody>\n",
       "\t<tr><td>1</td><td>6</td></tr>\n",
       "\t<tr><td>2</td><td>6</td></tr>\n",
       "</tbody>\n",
       "</table>\n"
      ],
      "text/latex": [
       "\\begin{tabular}{r|ll}\n",
       " cluster & n\\\\\n",
       "\\hline\n",
       "\t 1 & 6\\\\\n",
       "\t 2 & 6\\\\\n",
       "\\end{tabular}\n"
      ],
      "text/markdown": [
       "\n",
       "cluster | n | \n",
       "|---|---|\n",
       "| 1 | 6 | \n",
       "| 2 | 6 | \n",
       "\n",
       "\n"
      ],
      "text/plain": [
       "  cluster n\n",
       "1 1       6\n",
       "2 2       6"
      ]
     },
     "metadata": {},
     "output_type": "display_data"
    },
    {
     "data": {},
     "metadata": {},
     "output_type": "display_data"
    },
    {
     "data": {
      "image/png": "[encoded data removed]",
      "text/plain": [
       "plot without title"
      ]
     },
     "metadata": {},
     "output_type": "display_data"
    }
   ],
   "source": [
    "# Count the cluster assignments\n",
    "count(lineup_k2_complete, cluster)\n",
    "\n",
    "# Plot the positions of the players and color them using their cluster\n",
    "ggplot(lineup_k2_complete, aes(x = x, y = y, color = factor(cluster))) +\n",
    "  geom_point()"
   ]
  },
  {
   "cell_type": "markdown",
   "metadata": {},
   "source": [
    "# Visualisation \n",
    "## Comparing average, single & complete linkage\n",
    "\n",
    "You are now ready to analyze the clustering results of the lineup dataset using the dendrogram plot. This will give you a new perspective on the effect the decision of the linkage method has on your resulting cluster analysis."
   ]
  },
  {
   "cell_type": "code",
   "execution_count": 17,
   "metadata": {},
   "outputs": [
    {
     "data": {
      "image/png": "[encoded data removed]",
      "text/plain": [
       "Plot with title \"Average Linkage\""
      ]
     },
     "metadata": {},
     "output_type": "display_data"
    }
   ],
   "source": [
    "# Prepare the Distance Matrix\n",
    "dist_players <- dist(lineup)\n",
    "\n",
    "# Generate hclust for complete, single & average linkage methods\n",
    "hc_complete <- hclust(dist_players, method = \"complete\")\n",
    "hc_single <- hclust(dist_players, method = \"single\")\n",
    "hc_average <- hclust(dist_players, method = \"average\")\n",
    "\n",
    "# Plot & Label the 3 Dendrograms Side-by-Side\n",
    "# Hint: To see these Side-by-Side run the 4 lines together as one command\n",
    "par(mfrow = c(1,3))\n",
    "plot(hc_complete, main = 'Complete Linkage')\n",
    "plot(hc_single, main = 'Single Linkage')\n",
    "plot(hc_average, main = 'Average Linkage')"
   ]
  },
  {
   "cell_type": "markdown",
   "metadata": {},
   "source": [
    "<b>Height of the tree</b>\n",
    "\n",
    "An advantage of working with a clustering method like hierarchical clustering is that you can describe the relationships between your observations based on both the distance metric and the linkage metric selected (the combination of which defines the height of the tree).\n",
    "\n",
    "For the middle tree:we can concretely say that for the branch on a tree all members that are a part of that branch must have a minimum Euclidean distance amongst one another equal to or less than the height of that branch."
   ]
  },
  {
   "cell_type": "markdown",
   "metadata": {},
   "source": [
    "## Clusters based on height\n",
    "\n",
    "In previous exercises you have grouped your observations into clusters using a pre-defined number of clusters (k). In this exercise you will leverage the visual representation of the dendrogram in order to group your observations into clusters using a maximum height (h), below which clusters form.\n",
    "\n",
    "You will work the `color_branches()` function from the dendextend library in order to visually inspect the clusters that form at any height along the dendrogram.\n",
    "\n",
    "The hc_players has been carried over from your previous work with the soccer line-up data."
   ]
  },
  {
   "cell_type": "code",
   "execution_count": 18,
   "metadata": {},
   "outputs": [
    {
     "data": {
      "image/png": "[encoded data removed]",
      "text/plain": [
       "plot without title"
      ]
     },
     "metadata": {},
     "output_type": "display_data"
    },
    {
     "data": {
      "image/png": "[encoded data removed]",
      "text/plain": [
       "plot without title"
      ]
     },
     "metadata": {},
     "output_type": "display_data"
    },
    {
     "data": {
      "image/png": "[encoded data removed]",
      "text/plain": [
       "plot without title"
      ]
     },
     "metadata": {},
     "output_type": "display_data"
    }
   ],
   "source": [
    "dist_players <- dist(lineup, method = 'euclidean')\n",
    "hc_players <- hclust(dist_players, method = \"complete\")\n",
    "\n",
    "# Create a dendrogram object from the hclust variable\n",
    "dend_players <- as.dendrogram(hc_players)\n",
    "\n",
    "# Plot the dendrogram\n",
    "plot(dend_players)\n",
    "\n",
    "# Color branches by cluster formed from the cut at a height of 20 & plot\n",
    "dend_20 <- color_branches(dend_players, h = 20)\n",
    "\n",
    "# Plot the dendrogram with clusters colored below height 20\n",
    "plot(dend_20)\n",
    "\n",
    "# Color branches by cluster formed from the cut at a height of 40 & plot\n",
    "dend_40 <- color_branches(dend_players, h = 40)\n",
    "\n",
    "# Plot the dendrogram with clusters colored below height 40\n",
    "plot(dend_40)\n"
   ]
  },
  {
   "cell_type": "markdown",
   "metadata": {},
   "source": [
    "## Exploring the branches cut from the tree\n",
    "\n",
    "The cutree() function you used in exercises 5 & 6 can also be used to cut a tree at a given height by using the h parameter. Take a moment to explore the clusters you have generated from the previous exercises based on the heights 20 & 40."
   ]
  },
  {
   "cell_type": "code",
   "execution_count": 19,
   "metadata": {},
   "outputs": [
    {
     "data": {},
     "metadata": {},
     "output_type": "display_data"
    },
    {
     "data": {},
     "metadata": {},
     "output_type": "display_data"
    },
    {
     "data": {
      "image/png": "[encoded data removed]",
      "text/plain": [
       "plot without title"
      ]
     },
     "metadata": {},
     "output_type": "display_data"
    },
    {
     "data": {
      "image/png": "[encoded data removed]",
      "text/plain": [
       "plot without title"
      ]
     },
     "metadata": {},
     "output_type": "display_data"
    }
   ],
   "source": [
    "dist_players <- dist(lineup, method = 'euclidean')\n",
    "hc_players <- hclust(dist_players, method = \"complete\")\n",
    "\n",
    "# Calculate the assignment vector with a h of 20\n",
    "clusters_h20 <- cutree(hc_players, h = 20)\n",
    "\n",
    "# Create a new dataframe storing these results\n",
    "lineup_h20_complete <- mutate(lineup, cluster = clusters_h20)\n",
    "\n",
    "# Calculate the assignment vector with a h of 40\n",
    "clusters_h40 <- cutree(hc_players, h = 40)\n",
    "\n",
    "# Create a new dataframe storing these results\n",
    "lineup_h40_complete <- mutate(lineup, cluster = clusters_h40)\n",
    "\n",
    "# Plot the positions of the players and color them using their cluster for height = 20\n",
    "ggplot(lineup_h20_complete, aes(x = x, y = y, color = factor(cluster))) +\n",
    "  geom_point()\n",
    "\n",
    "# Plot the positions of the players and color them using their cluster for height = 40\n",
    "ggplot(lineup_h40_complete, aes(x = x, y = y, color = factor(cluster))) +\n",
    "  geom_point()\n"
   ]
  },
  {
   "cell_type": "markdown",
   "metadata": {},
   "source": [
    "The height of any branch is determined by the linkage and distance decisions (in this case complete linkage and Euclidean distance). While the members of the clusters that form below a desired height have a maximum linkage+distance amongst themselves that - han the desired height."
   ]
  },
  {
   "cell_type": "markdown",
   "metadata": {},
   "source": [
    "### Segment wholesale customers\n",
    "\n",
    "You're now ready to use hierarchical clustering to perform market segmentation (i.e. use consumer characteristics to group them into subgroups).\n",
    "\n",
    "In this exercise you are provided with the amount spent by 45 different clients of a wholesale distributor for the food categories of Milk, Grocery & Frozen. This is stored in the dataframe customers_spend. Assign these clients into meaningful clusters.\n",
    "\n",
    "Note: For this exercise you can assume that because the data is all of the same type (amount spent) and you will not need to scale it."
   ]
  },
  {
   "cell_type": "code",
   "execution_count": 20,
   "metadata": {},
   "outputs": [],
   "source": [
    "customers_spend <- readRDS(\"ws_customers.rds\")"
   ]
  },
  {
   "cell_type": "code",
   "execution_count": 21,
   "metadata": {},
   "outputs": [
    {
     "data": {
      "image/png": "[encoded data removed]",
      "text/plain": [
       "Plot with title \"Cluster Dendrogram\""
      ]
     },
     "metadata": {},
     "output_type": "display_data"
    }
   ],
   "source": [
    "# Calculate Euclidean distance between customers\n",
    "dist_customers <- dist(customers_spend, method = \"euclidean\")\n",
    "\n",
    "# Generate a complete linkage analysis \n",
    "hc_customers <- hclust(dist_customers, method = \"complete\")\n",
    "\n",
    "# Plot the dendrogram\n",
    "plot(hc_customers)\n",
    "\n",
    "# Create a cluster assignment vector at h = 15000\n",
    "clust_customers <- cutree(hc_customers, h = 15000)\n",
    "\n",
    "# Generate the segmented customers dataframe\n",
    "segment_customers <- mutate(customers_spend, cluster = clust_customers)"
   ]
  },
  {
   "cell_type": "code",
   "execution_count": 22,
   "metadata": {},
   "outputs": [
    {
     "data": {
      "text/html": [
       "<table>\n",
       "<thead><tr><th scope=col>cluster</th><th scope=col>n</th></tr></thead>\n",
       "<tbody>\n",
       "\t<tr><td>1 </td><td> 5</td></tr>\n",
       "\t<tr><td>2 </td><td>29</td></tr>\n",
       "\t<tr><td>3 </td><td> 5</td></tr>\n",
       "\t<tr><td>4 </td><td> 6</td></tr>\n",
       "</tbody>\n",
       "</table>\n"
      ],
      "text/latex": [
       "\\begin{tabular}{r|ll}\n",
       " cluster & n\\\\\n",
       "\\hline\n",
       "\t 1  &  5\\\\\n",
       "\t 2  & 29\\\\\n",
       "\t 3  &  5\\\\\n",
       "\t 4  &  6\\\\\n",
       "\\end{tabular}\n"
      ],
      "text/markdown": [
       "\n",
       "cluster | n | \n",
       "|---|---|---|---|\n",
       "| 1  |  5 | \n",
       "| 2  | 29 | \n",
       "| 3  |  5 | \n",
       "| 4  |  6 | \n",
       "\n",
       "\n"
      ],
      "text/plain": [
       "  cluster n \n",
       "1 1        5\n",
       "2 2       29\n",
       "3 3        5\n",
       "4 4        6"
      ]
     },
     "metadata": {},
     "output_type": "display_data"
    }
   ],
   "source": [
    "# Count the number of customers that fall into each cluster\n",
    "count(segment_customers, cluster)"
   ]
  },
  {
   "cell_type": "code",
   "execution_count": 23,
   "metadata": {},
   "outputs": [
    {
     "data": {
      "image/png": "[encoded data removed]",
      "text/plain": [
       "plot without title"
      ]
     },
     "metadata": {},
     "output_type": "display_data"
    }
   ],
   "source": [
    "# Color the dendrogram based on the height cutoff\n",
    "dend_customers <- as.dendrogram(hc_customers)\n",
    "dend_colored <- color_branches(dend_customers, h = 15000)\n",
    "\n",
    "# Plot the colored dendrogram\n",
    "plot(dend_colored)"
   ]
  },
  {
   "cell_type": "code",
   "execution_count": 24,
   "metadata": {},
   "outputs": [
    {
     "data": {
      "text/html": [
       "<table>\n",
       "<thead><tr><th scope=col>cluster</th><th scope=col>Milk</th><th scope=col>Grocery</th><th scope=col>Frozen</th></tr></thead>\n",
       "<tbody>\n",
       "\t<tr><td>1        </td><td>16950.000</td><td>12891.400</td><td>  991.200</td></tr>\n",
       "\t<tr><td>2        </td><td> 2512.828</td><td> 5228.931</td><td> 1795.517</td></tr>\n",
       "\t<tr><td>3        </td><td>10452.200</td><td>22550.600</td><td> 1354.800</td></tr>\n",
       "\t<tr><td>4        </td><td> 1249.500</td><td> 3916.833</td><td>10888.667</td></tr>\n",
       "</tbody>\n",
       "</table>\n"
      ],
      "text/latex": [
       "\\begin{tabular}{r|llll}\n",
       " cluster & Milk & Grocery & Frozen\\\\\n",
       "\\hline\n",
       "\t 1         & 16950.000 & 12891.400 &   991.200\\\\\n",
       "\t 2         &  2512.828 &  5228.931 &  1795.517\\\\\n",
       "\t 3         & 10452.200 & 22550.600 &  1354.800\\\\\n",
       "\t 4         &  1249.500 &  3916.833 & 10888.667\\\\\n",
       "\\end{tabular}\n"
      ],
      "text/markdown": [
       "\n",
       "cluster | Milk | Grocery | Frozen | \n",
       "|---|---|---|---|\n",
       "| 1         | 16950.000 | 12891.400 |   991.200 | \n",
       "| 2         |  2512.828 |  5228.931 |  1795.517 | \n",
       "| 3         | 10452.200 | 22550.600 |  1354.800 | \n",
       "| 4         |  1249.500 |  3916.833 | 10888.667 | \n",
       "\n",
       "\n"
      ],
      "text/plain": [
       "  cluster Milk      Grocery   Frozen   \n",
       "1 1       16950.000 12891.400   991.200\n",
       "2 2        2512.828  5228.931  1795.517\n",
       "3 3       10452.200 22550.600  1354.800\n",
       "4 4        1249.500  3916.833 10888.667"
      ]
     },
     "metadata": {},
     "output_type": "display_data"
    }
   ],
   "source": [
    "# Calculate the mean for each category\n",
    "segment_customers %>% \n",
    "  group_by(cluster) %>% \n",
    "  summarise_all(funs(mean(.)))"
   ]
  },
  {
   "cell_type": "markdown",
   "metadata": {},
   "source": [
    "# Introduction to k-means\n",
    "### K-means on a soccer field\n",
    "\n",
    "In the previous chapter you used the lineup dataset to learn about hierarchical clustering, in this chapter you will use the same data to learn about k-means clustering. As a reminder, the lineup dataframe contains the positions of 12 players at the start of a 6v6 soccer match.\n",
    "\n",
    "Just like before, you know that this match has two teams on the field so you can perform a k-means analysis using `k = 2` in order to determine which player belongs to which team.\n",
    "\n",
    "Note that in the `kmeans()` function `k` is specified using the `centers` parameter."
   ]
  },
  {
   "cell_type": "code",
   "execution_count": 26,
   "metadata": {},
   "outputs": [
    {
     "data": {},
     "metadata": {},
     "output_type": "display_data"
    },
    {
     "data": {
      "image/png": "[encoded data removed]",
      "text/plain": [
       "plot without title"
      ]
     },
     "metadata": {},
     "output_type": "display_data"
    }
   ],
   "source": [
    "# Build a kmeans model\n",
    "model_km2 <- kmeans(lineup, centers = 2)\n",
    "\n",
    "# Extract the cluster assignment vector from the kmeans model\n",
    "clust_km2 <- model_km2$cluster\n",
    "\n",
    "# Create a new dataframe appending the cluster assignment\n",
    "lineup_km2 <- mutate(lineup, cluster = clust_km2)\n",
    "\n",
    "# Plot the positions of the players and color them using their cluster\n",
    "ggplot(lineup_km2, aes(x = x, y = y, color = factor(cluster))) +\n",
    "  geom_point()"
   ]
  },
  {
   "cell_type": "markdown",
   "metadata": {},
   "source": [
    "### K-means on a soccer field (part 2)\n",
    "\n",
    "In the previous exercise you successfully used the k-means algorithm to cluster the two teams from the lineup data frame. This time, let's explore what happens when you use a k of 3.\n",
    "\n",
    "You will see that the algorithm will still run, but does it actually make sense in this context..."
   ]
  },
  {
   "cell_type": "code",
   "execution_count": 27,
   "metadata": {},
   "outputs": [
    {
     "data": {},
     "metadata": {},
     "output_type": "display_data"
    },
    {
     "data": {
      "image/png": "[encoded data removed]",
      "text/plain": [
       "plot without title"
      ]
     },
     "metadata": {},
     "output_type": "display_data"
    }
   ],
   "source": [
    "# Build a kmeans model\n",
    "model_km3 <- kmeans(lineup, centers = 3)\n",
    "\n",
    "# Extract the cluster assignment vector from the kmeans model\n",
    "clust_km3 <- model_km3$cluster\n",
    "\n",
    "# Create a new dataframe appending the cluster assignment\n",
    "lineup_km3 <- mutate(lineup, cluster = clust_km3)\n",
    "\n",
    "# Plot the positions of the players and color them using their cluster\n",
    "ggplot(lineup_km3, aes(x = x, y = y, color = factor(cluster))) +\n",
    "  geom_point()"
   ]
  },
  {
   "cell_type": "markdown",
   "metadata": {},
   "source": [
    "Remember we only have 2 teams on the field. It's very important to remember that k-means will run with any k that is more than 2 and less than your total observations, but it doesn't always mean the results will be meaningful. "
   ]
  },
  {
   "cell_type": "markdown",
   "metadata": {},
   "source": [
    "### Many K's many models\n",
    "\n",
    "While the lineup dataset clearly has a known value of k, often times the optimal number of clusters isn't known and must be estimated.\n",
    "\n",
    "In this exercise you will leverage `map_dbl()` from the `purrr` library to run k-means using values of k ranging from 1 to 10 and extract the <b>total within-cluster sum of squares metric</b> from each one. This will be the first step towards visualizing the elbow plot."
   ]
  },
  {
   "cell_type": "code",
   "execution_count": 29,
   "metadata": {},
   "outputs": [],
   "source": [
    "# Use map_dbl to run many models with varying value of k (centers)\n",
    "tot_withinss <- map_dbl(1:10,  function(k){\n",
    "  model <- kmeans(x = lineup, centers = k)\n",
    "  model$tot.withinss\n",
    "})\n",
    "\n",
    "# Generate a data frame containing both k and tot_withinss\n",
    "elbow_df <- data.frame(\n",
    "  k = 1:10 ,\n",
    "  tot_withinss = tot_withinss\n",
    ")"
   ]
  },
  {
   "cell_type": "markdown",
   "metadata": {},
   "source": [
    "### Elbow (Scree) plot\n",
    "\n",
    "In the previous exercises you have calculated the total within-cluster sum of squares for values of k ranging from 1 to 10. You can visualize this relationship using a line plot to create what is known as an elbow plot (or scree plot).\n",
    "\n",
    "When looking at an elbow plot you want to see a sharp decline from one k to another followed by a more gradual decrease in slope. The last value of k before the slope of the plot levels off suggests a \"good\" value of k."
   ]
  },
  {
   "cell_type": "code",
   "execution_count": 31,
   "metadata": {},
   "outputs": [
    {
     "data": {},
     "metadata": {},
     "output_type": "display_data"
    },
    {
     "data": {
      "image/png": "[encoded data removed]",
      "text/plain": [
       "plot without title"
      ]
     },
     "metadata": {},
     "output_type": "display_data"
    }
   ],
   "source": [
    "# Plot the elbow plot\n",
    "ggplot(elbow_df, aes(x = k, y = tot_withinss)) +\n",
    "  geom_line() +\n",
    "  scale_x_continuous(breaks = 1:10)"
   ]
  },
  {
   "cell_type": "markdown",
   "metadata": {},
   "source": [
    "That is correct, you can see that there is a sharp change in the slope of this line that makes an \\\"elbow\\\" shape. Furthermore, this is supported by the prior knowledge that there are two teams in this data and a k of 2 is desired."
   ]
  },
  {
   "cell_type": "markdown",
   "metadata": {},
   "source": [
    "# Silhouette analysis\n",
    "\n",
    "Silhouette analysis allows you to calculate how similar each observations is with the cluster it is assigned relative to other clusters. This metric (silhouette width) ranges from -1 to 1 for each observation in your data and can be interpreted as follows:\n",
    "\n",
    " * Values close to 1 suggest that the observation is well matched to the assigned cluster\n",
    " * Values close to 0 suggest that the observation is borderline matched between two clusters\n",
    " * Values close to -1 suggest that the observations may be assigned to the wrong cluster\n",
    "\n",
    "In this exercise you will leverage the `pam()` and the `silhouette()` functions from the cluster library to perform silhouette analysis to compare the results of models with a k of 2 and a k of 3. You'll continue working with the lineup dataset."
   ]
  },
  {
   "cell_type": "code",
   "execution_count": 32,
   "metadata": {},
   "outputs": [
    {
     "data": {
      "image/png": "[encoded data removed]",
      "text/plain": [
       "Plot with title \"Silhouette plot of pam(x = lineup, k = 2)\""
      ]
     },
     "metadata": {},
     "output_type": "display_data"
    },
    {
     "data": {
      "image/png": "[encoded data removed]",
      "text/plain": [
       "Plot with title \"Silhouette plot of pam(x = lineup, k = 3)\""
      ]
     },
     "metadata": {},
     "output_type": "display_data"
    }
   ],
   "source": [
    "library(cluster)\n",
    "\n",
    "# Generate a k-means model using the pam() function with a k = 2\n",
    "pam_k2 <- pam(lineup, k = 2)\n",
    "\n",
    "# Plot the silhouette visual for the pam_k2 model\n",
    "plot(silhouette(pam_k2))\n",
    "\n",
    "# Generate a k-means model using the pam() function with a k = 3\n",
    "pam_k3 <- pam(lineup, k = 3)\n",
    "\n",
    "# Plot the silhouette visual for the pam_k3 model\n",
    "plot(silhouette(pam_k3))\n"
   ]
  },
  {
   "cell_type": "markdown",
   "metadata": {},
   "source": [
    "Did you notice that for k = 2, no observation has a silhouette width close to 0? What about the fact that for k = 3, observation 3 is close to 0 and is negative? This suggests that k = 3 is not the right number of clusters. "
   ]
  },
  {
   "cell_type": "markdown",
   "metadata": {},
   "source": [
    "## Revisiting wholesale data: \"Best\" k\n",
    "\n",
    "At the end of Chapter 2 you explored wholesale distributor data customers_spend using hierarchical clustering. This time you will analyze this data using the k-means clustering tools covered in this chapter.\n",
    "\n",
    "The first step will be to determine the \"best\" value of k using average silhouette width.\n",
    "\n",
    "A refresher about the data: it contains records of the amount spent by 45 different clients of a wholesale distributor for the food categories of Milk, Grocery & Frozen. This is stored in the dataframe customers_spend. For this exercise you can assume that because the data is all of the same type (amount spent) and you will not need to scale it."
   ]
  },
  {
   "cell_type": "code",
   "execution_count": 33,
   "metadata": {},
   "outputs": [
    {
     "data": {},
     "metadata": {},
     "output_type": "display_data"
    },
    {
     "data": {
      "image/png": "[encoded data removed]",
      "text/plain": [
       "plot without title"
      ]
     },
     "metadata": {},
     "output_type": "display_data"
    }
   ],
   "source": [
    "# Use map_dbl to run many models with varying value of k\n",
    "sil_width <- map_dbl(2:10,  function(k){\n",
    "  model <- pam(x = customers_spend, k = k)\n",
    "  model$silinfo$avg.width\n",
    "})\n",
    "\n",
    "# Generate a data frame containing both k and sil_width\n",
    "sil_df <- data.frame(\n",
    "  k = 2:10,\n",
    "  sil_width = sil_width\n",
    ")\n",
    "\n",
    "# Plot the relationship between k and sil_width\n",
    "ggplot(sil_df, aes(x = k, y = sil_width)) +\n",
    "  geom_line() +\n",
    "  scale_x_continuous(breaks = 2:10)"
   ]
  },
  {
   "cell_type": "markdown",
   "metadata": {},
   "source": [
    " From the plot I hope you noticed that k = 2 has the highest average sillhouette width and is the “best” value of k we will move forward with. "
   ]
  },
  {
   "cell_type": "markdown",
   "metadata": {},
   "source": [
    "## Revisiting wholesale data: Exploration\n",
    "\n",
    "From the previous analysis you have found that k = 2 has the highest average silhouette width. In this exercise you will continue to analyze the wholesale customer data by building and exploring a kmeans model with 2 clusters."
   ]
  },
  {
   "cell_type": "code",
   "execution_count": 34,
   "metadata": {},
   "outputs": [
    {
     "data": {
      "text/html": [
       "<table>\n",
       "<thead><tr><th scope=col>cluster</th><th scope=col>n</th></tr></thead>\n",
       "<tbody>\n",
       "\t<tr><td>1 </td><td>35</td></tr>\n",
       "\t<tr><td>2 </td><td>10</td></tr>\n",
       "</tbody>\n",
       "</table>\n"
      ],
      "text/latex": [
       "\\begin{tabular}{r|ll}\n",
       " cluster & n\\\\\n",
       "\\hline\n",
       "\t 1  & 35\\\\\n",
       "\t 2  & 10\\\\\n",
       "\\end{tabular}\n"
      ],
      "text/markdown": [
       "\n",
       "cluster | n | \n",
       "|---|---|\n",
       "| 1  | 35 | \n",
       "| 2  | 10 | \n",
       "\n",
       "\n"
      ],
      "text/plain": [
       "  cluster n \n",
       "1 1       35\n",
       "2 2       10"
      ]
     },
     "metadata": {},
     "output_type": "display_data"
    },
    {
     "data": {
      "text/html": [
       "<table>\n",
       "<thead><tr><th scope=col>cluster</th><th scope=col>Milk</th><th scope=col>Grocery</th><th scope=col>Frozen</th></tr></thead>\n",
       "<tbody>\n",
       "\t<tr><td>1        </td><td> 2296.257</td><td> 5004    </td><td>3354.343 </td></tr>\n",
       "\t<tr><td>2        </td><td>13701.100</td><td>17721    </td><td>1173.000 </td></tr>\n",
       "</tbody>\n",
       "</table>\n"
      ],
      "text/latex": [
       "\\begin{tabular}{r|llll}\n",
       " cluster & Milk & Grocery & Frozen\\\\\n",
       "\\hline\n",
       "\t 1         &  2296.257 &  5004     & 3354.343 \\\\\n",
       "\t 2         & 13701.100 & 17721     & 1173.000 \\\\\n",
       "\\end{tabular}\n"
      ],
      "text/markdown": [
       "\n",
       "cluster | Milk | Grocery | Frozen | \n",
       "|---|---|\n",
       "| 1         |  2296.257 |  5004     | 3354.343  | \n",
       "| 2         | 13701.100 | 17721     | 1173.000  | \n",
       "\n",
       "\n"
      ],
      "text/plain": [
       "  cluster Milk      Grocery Frozen  \n",
       "1 1        2296.257  5004   3354.343\n",
       "2 2       13701.100 17721   1173.000"
      ]
     },
     "metadata": {},
     "output_type": "display_data"
    }
   ],
   "source": [
    "set.seed(42)\n",
    "\n",
    "# Build a k-means model for the customers_spend with a k of 2\n",
    "model_customers <- kmeans(x = customers_spend, centers = 2)\n",
    "\n",
    "# Extract the vector of cluster assignments from the model\n",
    "clust_customers <- model_customers$cluster\n",
    "\n",
    "# Build the segment_customers dataframe\n",
    "segment_customers <- mutate(customers_spend, cluster = clust_customers)\n",
    "\n",
    "# Calculate the size of each cluster\n",
    "count(segment_customers, cluster)\n",
    "\n",
    "# Calculate the mean for each category\n",
    "segment_customers %>% \n",
    "  group_by(cluster) %>% \n",
    "  summarise_all(funs(mean(.)))"
   ]
  },
  {
   "cell_type": "markdown",
   "metadata": {},
   "source": [
    " It seems that in this case cluster 1 consists of individuals who proportionally spend more on Frozen food while cluster 2 customers spend more on Milk and Grocery. Did you notice that when you explored this data using hierarchical clustering, the method resulted in 4 clusters while using k-means got you 2? Both of these results are valid, but which one is appropriate for this would require more subject matter expertise. Before you proceed with the next chapter, remember that: Generating clusters is a science, but interpreting them is an art. "
   ]
  },
  {
   "cell_type": "markdown",
   "metadata": {},
   "source": [
    "# Occupational wage data\n",
    "### Hierarchical clustering: Occupation trees\n",
    "\n",
    "In the previous exercise you have learned that the oes data is ready for hierarchical clustering without any preprocessing steps necessary. In this exercise you will take the necessary steps to build a dendrogram of occupations based on their yearly average salaries and propose clusters using a height of 100,000."
   ]
  },
  {
   "cell_type": "code",
   "execution_count": 35,
   "metadata": {},
   "outputs": [],
   "source": [
    "oes <- readRDS(\"oes.rds\")"
   ]
  },
  {
   "cell_type": "code",
   "execution_count": 36,
   "metadata": {},
   "outputs": [
    {
     "data": {
      "text/html": [
       "<table>\n",
       "<thead><tr><th></th><th scope=col>2001</th><th scope=col>2002</th><th scope=col>2003</th><th scope=col>2004</th><th scope=col>2005</th><th scope=col>2006</th><th scope=col>2007</th><th scope=col>2008</th><th scope=col>2010</th><th scope=col>2011</th><th scope=col>2012</th><th scope=col>2013</th><th scope=col>2014</th><th scope=col>2015</th><th scope=col>2016</th></tr></thead>\n",
       "<tbody>\n",
       "\t<tr><th scope=row>Management</th><td>70800 </td><td>78870 </td><td>83400 </td><td>87090 </td><td>88450 </td><td>91930 </td><td>96150 </td><td>100310</td><td>105440</td><td>107410</td><td>108570</td><td>110550</td><td>112490</td><td>115020</td><td>118020</td></tr>\n",
       "\t<tr><th scope=row>Business Operations</th><td>50580 </td><td>53350 </td><td>56000 </td><td>57120 </td><td>57930 </td><td>60000 </td><td>62410 </td><td> 64720</td><td> 67690</td><td> 68740</td><td> 69550</td><td> 71020</td><td> 72410</td><td> 73800</td><td> 75070</td></tr>\n",
       "\t<tr><th scope=row>Computer Science</th><td>60350 </td><td>61630 </td><td>64150 </td><td>66370 </td><td>67100 </td><td>69240 </td><td>72190 </td><td> 74500</td><td> 77230</td><td> 78730</td><td> 80180</td><td> 82010</td><td> 83970</td><td> 86170</td><td> 87880</td></tr>\n",
       "\t<tr><th scope=row>Architecture/Engineering</th><td>56330 </td><td>58020 </td><td>60390 </td><td>63060 </td><td>63910 </td><td>66190 </td><td>68880 </td><td> 71430</td><td> 75550</td><td> 77120</td><td> 79000</td><td> 80100</td><td> 81520</td><td> 82980</td><td> 84300</td></tr>\n",
       "\t<tr><th scope=row>Life/Physical/Social Sci.</th><td>49710 </td><td>52380 </td><td>54930 </td><td>57550 </td><td>58030 </td><td>59660 </td><td>62020 </td><td> 64280</td><td> 66390</td><td> 67470</td><td> 68360</td><td> 69400</td><td> 70070</td><td> 71220</td><td> 72930</td></tr>\n",
       "\t<tr><th scope=row>Community Services</th><td>34190 </td><td>34630 </td><td>35800 </td><td>37050 </td><td>37530 </td><td>39000 </td><td>40540 </td><td> 41790</td><td> 43180</td><td> 43830</td><td> 44240</td><td> 44710</td><td> 45310</td><td> 46160</td><td> 47200</td></tr>\n",
       "</tbody>\n",
       "</table>\n"
      ],
      "text/latex": [
       "\\begin{tabular}{r|lllllllllllllll}\n",
       "  & 2001 & 2002 & 2003 & 2004 & 2005 & 2006 & 2007 & 2008 & 2010 & 2011 & 2012 & 2013 & 2014 & 2015 & 2016\\\\\n",
       "\\hline\n",
       "\tManagement & 70800  & 78870  & 83400  & 87090  & 88450  & 91930  & 96150  & 100310 & 105440 & 107410 & 108570 & 110550 & 112490 & 115020 & 118020\\\\\n",
       "\tBusiness Operations & 50580  & 53350  & 56000  & 57120  & 57930  & 60000  & 62410  &  64720 &  67690 &  68740 &  69550 &  71020 &  72410 &  73800 &  75070\\\\\n",
       "\tComputer Science & 60350  & 61630  & 64150  & 66370  & 67100  & 69240  & 72190  &  74500 &  77230 &  78730 &  80180 &  82010 &  83970 &  86170 &  87880\\\\\n",
       "\tArchitecture/Engineering & 56330  & 58020  & 60390  & 63060  & 63910  & 66190  & 68880  &  71430 &  75550 &  77120 &  79000 &  80100 &  81520 &  82980 &  84300\\\\\n",
       "\tLife/Physical/Social Sci. & 49710  & 52380  & 54930  & 57550  & 58030  & 59660  & 62020  &  64280 &  66390 &  67470 &  68360 &  69400 &  70070 &  71220 &  72930\\\\\n",
       "\tCommunity Services & 34190  & 34630  & 35800  & 37050  & 37530  & 39000  & 40540  &  41790 &  43180 &  43830 &  44240 &  44710 &  45310 &  46160 &  47200\\\\\n",
       "\\end{tabular}\n"
      ],
      "text/markdown": [
       "\n",
       "| <!--/--> | 2001 | 2002 | 2003 | 2004 | 2005 | 2006 | 2007 | 2008 | 2010 | 2011 | 2012 | 2013 | 2014 | 2015 | 2016 | \n",
       "|---|---|---|---|---|---|\n",
       "| Management | 70800  | 78870  | 83400  | 87090  | 88450  | 91930  | 96150  | 100310 | 105440 | 107410 | 108570 | 110550 | 112490 | 115020 | 118020 | \n",
       "| Business Operations | 50580  | 53350  | 56000  | 57120  | 57930  | 60000  | 62410  |  64720 |  67690 |  68740 |  69550 |  71020 |  72410 |  73800 |  75070 | \n",
       "| Computer Science | 60350  | 61630  | 64150  | 66370  | 67100  | 69240  | 72190  |  74500 |  77230 |  78730 |  80180 |  82010 |  83970 |  86170 |  87880 | \n",
       "| Architecture/Engineering | 56330  | 58020  | 60390  | 63060  | 63910  | 66190  | 68880  |  71430 |  75550 |  77120 |  79000 |  80100 |  81520 |  82980 |  84300 | \n",
       "| Life/Physical/Social Sci. | 49710  | 52380  | 54930  | 57550  | 58030  | 59660  | 62020  |  64280 |  66390 |  67470 |  68360 |  69400 |  70070 |  71220 |  72930 | \n",
       "| Community Services | 34190  | 34630  | 35800  | 37050  | 37530  | 39000  | 40540  |  41790 |  43180 |  43830 |  44240 |  44710 |  45310 |  46160 |  47200 | \n",
       "\n",
       "\n"
      ],
      "text/plain": [
       "                          2001  2002  2003  2004  2005  2006  2007  2008  \n",
       "Management                70800 78870 83400 87090 88450 91930 96150 100310\n",
       "Business Operations       50580 53350 56000 57120 57930 60000 62410  64720\n",
       "Computer Science          60350 61630 64150 66370 67100 69240 72190  74500\n",
       "Architecture/Engineering  56330 58020 60390 63060 63910 66190 68880  71430\n",
       "Life/Physical/Social Sci. 49710 52380 54930 57550 58030 59660 62020  64280\n",
       "Community Services        34190 34630 35800 37050 37530 39000 40540  41790\n",
       "                          2010   2011   2012   2013   2014   2015   2016  \n",
       "Management                105440 107410 108570 110550 112490 115020 118020\n",
       "Business Operations        67690  68740  69550  71020  72410  73800  75070\n",
       "Computer Science           77230  78730  80180  82010  83970  86170  87880\n",
       "Architecture/Engineering   75550  77120  79000  80100  81520  82980  84300\n",
       "Life/Physical/Social Sci.  66390  67470  68360  69400  70070  71220  72930\n",
       "Community Services         43180  43830  44240  44710  45310  46160  47200"
      ]
     },
     "metadata": {},
     "output_type": "display_data"
    }
   ],
   "source": [
    "head(oes)"
   ]
  },
  {
   "cell_type": "code",
   "execution_count": 37,
   "metadata": {},
   "outputs": [
    {
     "data": {
      "text/plain": [
       "      2001            2002            2003            2004      \n",
       " Min.   :16720   Min.   :17180   Min.   :17400   Min.   :17620  \n",
       " 1st Qu.:26728   1st Qu.:27393   1st Qu.:27858   1st Qu.:28535  \n",
       " Median :34575   Median :35205   Median :36180   Median :37335  \n",
       " Mean   :37850   Mean   :39701   Mean   :41018   Mean   :42275  \n",
       " 3rd Qu.:49875   3rd Qu.:53108   3rd Qu.:55733   3rd Qu.:57443  \n",
       " Max.   :70800   Max.   :78870   Max.   :83400   Max.   :87090  \n",
       "      2005            2006            2007            2008       \n",
       " Min.   :17840   Min.   :18430   Min.   :19440   Min.   : 20220  \n",
       " 1st Qu.:29043   1st Qu.:29688   1st Qu.:30810   1st Qu.: 31643  \n",
       " Median :37790   Median :39030   Median :40235   Median : 41510  \n",
       " Mean   :42775   Mean   :44329   Mean   :46074   Mean   : 47763  \n",
       " 3rd Qu.:58005   3rd Qu.:59915   3rd Qu.:62313   3rd Qu.: 64610  \n",
       " Max.   :88450   Max.   :91930   Max.   :96150   Max.   :100310  \n",
       "      2010             2011             2012             2013       \n",
       " Min.   : 21240   Min.   : 21430   Min.   : 21380   Min.   : 21580  \n",
       " 1st Qu.: 32863   1st Qu.: 33430   1st Qu.: 33795   1st Qu.: 34120  \n",
       " Median : 42995   Median : 43610   Median : 44055   Median : 44565  \n",
       " Mean   : 49758   Mean   : 50555   Mean   : 51077   Mean   : 51800  \n",
       " 3rd Qu.: 67365   3rd Qu.: 68423   3rd Qu.: 69253   3rd Qu.: 70615  \n",
       " Max.   :105440   Max.   :107410   Max.   :108570   Max.   :110550  \n",
       "      2014             2015             2016       \n",
       " Min.   : 21980   Min.   : 22850   Min.   : 23850  \n",
       " 1st Qu.: 34718   1st Qu.: 35425   1st Qu.: 36350  \n",
       " Median : 45265   Median : 46075   Median : 46945  \n",
       " Mean   : 52643   Mean   : 53785   Mean   : 55117  \n",
       " 3rd Qu.: 71825   3rd Qu.: 73155   3rd Qu.: 74535  \n",
       " Max.   :112490   Max.   :115020   Max.   :118020  "
      ]
     },
     "metadata": {},
     "output_type": "display_data"
    }
   ],
   "source": [
    "summary(oes)"
   ]
  },
  {
   "cell_type": "code",
   "execution_count": 38,
   "metadata": {},
   "outputs": [
    {
     "data": {
      "image/png": "[encoded data removed]",
      "text/plain": [
       "plot without title"
      ]
     },
     "metadata": {},
     "output_type": "display_data"
    },
    {
     "data": {
      "image/png": "[encoded data removed]",
      "text/plain": [
       "plot without title"
      ]
     },
     "metadata": {},
     "output_type": "display_data"
    }
   ],
   "source": [
    "# Calculate Euclidean distance between the occupations\n",
    "dist_oes <- dist(oes, method = \"euclidean\")\n",
    "\n",
    "# Generate an average linkage analysis \n",
    "hc_oes <- hclust(dist_oes, method = \"average\")\n",
    "\n",
    "# Create a dendrogram object from the hclust variable\n",
    "dend_oes <- as.dendrogram(hc_oes)\n",
    "\n",
    "# Plot the dendrogram\n",
    "plot(dend_oes)\n",
    "\n",
    "# Color branches by cluster formed from the cut at a height of 100000\n",
    "dend_colored <- color_branches(dend_oes, h = 100000)\n",
    "\n",
    "# Plot the colored dendrogram\n",
    "plot(dend_colored)"
   ]
  },
  {
   "cell_type": "markdown",
   "metadata": {},
   "source": [
    "Based on the dendrogram it may be reasonable to start with the three clusters formed at a height of 100,000. The members of these clusters appear to be tightly grouped but different from one another. Let's continue this exploration. "
   ]
  },
  {
   "cell_type": "markdown",
   "metadata": {},
   "source": [
    "## Hierarchical clustering: Preparing for exploration\n",
    "\n",
    "You have now created a potential clustering for the oes data, before you can explore these clusters with ggplot2 you will need to process the oes data matrix into a tidy data frame with each occupation assigned its cluster."
   ]
  },
  {
   "cell_type": "code",
   "execution_count": 39,
   "metadata": {},
   "outputs": [
    {
     "data": {
      "text/html": [
       "<table>\n",
       "<thead><tr><th scope=col>occupation</th><th scope=col>2001</th><th scope=col>2002</th><th scope=col>2003</th><th scope=col>2004</th><th scope=col>2005</th><th scope=col>2006</th><th scope=col>2007</th><th scope=col>2008</th><th scope=col>2010</th><th scope=col>2011</th><th scope=col>2012</th><th scope=col>2013</th><th scope=col>2014</th><th scope=col>2015</th><th scope=col>2016</th><th scope=col>cluster</th></tr></thead>\n",
       "<tbody>\n",
       "\t<tr><td>Management               </td><td>70800                    </td><td>78870                    </td><td>83400                    </td><td>87090                    </td><td>88450                    </td><td>91930                    </td><td>96150                    </td><td>100310                   </td><td>105440                   </td><td>107410                   </td><td>108570                   </td><td>110550                   </td><td>112490                   </td><td>115020                   </td><td>118020                   </td><td>1                        </td></tr>\n",
       "\t<tr><td>Business Operations      </td><td>50580                    </td><td>53350                    </td><td>56000                    </td><td>57120                    </td><td>57930                    </td><td>60000                    </td><td>62410                    </td><td> 64720                   </td><td> 67690                   </td><td> 68740                   </td><td> 69550                   </td><td> 71020                   </td><td> 72410                   </td><td> 73800                   </td><td> 75070                   </td><td>2                        </td></tr>\n",
       "\t<tr><td>Computer Science         </td><td>60350                    </td><td>61630                    </td><td>64150                    </td><td>66370                    </td><td>67100                    </td><td>69240                    </td><td>72190                    </td><td> 74500                   </td><td> 77230                   </td><td> 78730                   </td><td> 80180                   </td><td> 82010                   </td><td> 83970                   </td><td> 86170                   </td><td> 87880                   </td><td>2                        </td></tr>\n",
       "\t<tr><td>Architecture/Engineering </td><td>56330                    </td><td>58020                    </td><td>60390                    </td><td>63060                    </td><td>63910                    </td><td>66190                    </td><td>68880                    </td><td> 71430                   </td><td> 75550                   </td><td> 77120                   </td><td> 79000                   </td><td> 80100                   </td><td> 81520                   </td><td> 82980                   </td><td> 84300                   </td><td>2                        </td></tr>\n",
       "\t<tr><td>Life/Physical/Social Sci.</td><td>49710                    </td><td>52380                    </td><td>54930                    </td><td>57550                    </td><td>58030                    </td><td>59660                    </td><td>62020                    </td><td> 64280                   </td><td> 66390                   </td><td> 67470                   </td><td> 68360                   </td><td> 69400                   </td><td> 70070                   </td><td> 71220                   </td><td> 72930                   </td><td>2                        </td></tr>\n",
       "\t<tr><td>Community Services       </td><td>34190                    </td><td>34630                    </td><td>35800                    </td><td>37050                    </td><td>37530                    </td><td>39000                    </td><td>40540                    </td><td> 41790                   </td><td> 43180                   </td><td> 43830                   </td><td> 44240                   </td><td> 44710                   </td><td> 45310                   </td><td> 46160                   </td><td> 47200                   </td><td>3                        </td></tr>\n",
       "</tbody>\n",
       "</table>\n"
      ],
      "text/latex": [
       "\\begin{tabular}{r|lllllllllllllllll}\n",
       " occupation & 2001 & 2002 & 2003 & 2004 & 2005 & 2006 & 2007 & 2008 & 2010 & 2011 & 2012 & 2013 & 2014 & 2015 & 2016 & cluster\\\\\n",
       "\\hline\n",
       "\t Management                & 70800                     & 78870                     & 83400                     & 87090                     & 88450                     & 91930                     & 96150                     & 100310                    & 105440                    & 107410                    & 108570                    & 110550                    & 112490                    & 115020                    & 118020                    & 1                        \\\\\n",
       "\t Business Operations       & 50580                     & 53350                     & 56000                     & 57120                     & 57930                     & 60000                     & 62410                     &  64720                    &  67690                    &  68740                    &  69550                    &  71020                    &  72410                    &  73800                    &  75070                    & 2                        \\\\\n",
       "\t Computer Science          & 60350                     & 61630                     & 64150                     & 66370                     & 67100                     & 69240                     & 72190                     &  74500                    &  77230                    &  78730                    &  80180                    &  82010                    &  83970                    &  86170                    &  87880                    & 2                        \\\\\n",
       "\t Architecture/Engineering  & 56330                     & 58020                     & 60390                     & 63060                     & 63910                     & 66190                     & 68880                     &  71430                    &  75550                    &  77120                    &  79000                    &  80100                    &  81520                    &  82980                    &  84300                    & 2                        \\\\\n",
       "\t Life/Physical/Social Sci. & 49710                     & 52380                     & 54930                     & 57550                     & 58030                     & 59660                     & 62020                     &  64280                    &  66390                    &  67470                    &  68360                    &  69400                    &  70070                    &  71220                    &  72930                    & 2                        \\\\\n",
       "\t Community Services        & 34190                     & 34630                     & 35800                     & 37050                     & 37530                     & 39000                     & 40540                     &  41790                    &  43180                    &  43830                    &  44240                    &  44710                    &  45310                    &  46160                    &  47200                    & 3                        \\\\\n",
       "\\end{tabular}\n"
      ],
      "text/markdown": [
       "\n",
       "occupation | 2001 | 2002 | 2003 | 2004 | 2005 | 2006 | 2007 | 2008 | 2010 | 2011 | 2012 | 2013 | 2014 | 2015 | 2016 | cluster | \n",
       "|---|---|---|---|---|---|\n",
       "| Management                | 70800                     | 78870                     | 83400                     | 87090                     | 88450                     | 91930                     | 96150                     | 100310                    | 105440                    | 107410                    | 108570                    | 110550                    | 112490                    | 115020                    | 118020                    | 1                         | \n",
       "| Business Operations       | 50580                     | 53350                     | 56000                     | 57120                     | 57930                     | 60000                     | 62410                     |  64720                    |  67690                    |  68740                    |  69550                    |  71020                    |  72410                    |  73800                    |  75070                    | 2                         | \n",
       "| Computer Science          | 60350                     | 61630                     | 64150                     | 66370                     | 67100                     | 69240                     | 72190                     |  74500                    |  77230                    |  78730                    |  80180                    |  82010                    |  83970                    |  86170                    |  87880                    | 2                         | \n",
       "| Architecture/Engineering  | 56330                     | 58020                     | 60390                     | 63060                     | 63910                     | 66190                     | 68880                     |  71430                    |  75550                    |  77120                    |  79000                    |  80100                    |  81520                    |  82980                    |  84300                    | 2                         | \n",
       "| Life/Physical/Social Sci. | 49710                     | 52380                     | 54930                     | 57550                     | 58030                     | 59660                     | 62020                     |  64280                    |  66390                    |  67470                    |  68360                    |  69400                    |  70070                    |  71220                    |  72930                    | 2                         | \n",
       "| Community Services        | 34190                     | 34630                     | 35800                     | 37050                     | 37530                     | 39000                     | 40540                     |  41790                    |  43180                    |  43830                    |  44240                    |  44710                    |  45310                    |  46160                    |  47200                    | 3                         | \n",
       "\n",
       "\n"
      ],
      "text/plain": [
       "  occupation                2001  2002  2003  2004  2005  2006  2007  2008  \n",
       "1 Management                70800 78870 83400 87090 88450 91930 96150 100310\n",
       "2 Business Operations       50580 53350 56000 57120 57930 60000 62410  64720\n",
       "3 Computer Science          60350 61630 64150 66370 67100 69240 72190  74500\n",
       "4 Architecture/Engineering  56330 58020 60390 63060 63910 66190 68880  71430\n",
       "5 Life/Physical/Social Sci. 49710 52380 54930 57550 58030 59660 62020  64280\n",
       "6 Community Services        34190 34630 35800 37050 37530 39000 40540  41790\n",
       "  2010   2011   2012   2013   2014   2015   2016   cluster\n",
       "1 105440 107410 108570 110550 112490 115020 118020 1      \n",
       "2  67690  68740  69550  71020  72410  73800  75070 2      \n",
       "3  77230  78730  80180  82010  83970  86170  87880 2      \n",
       "4  75550  77120  79000  80100  81520  82980  84300 2      \n",
       "5  66390  67470  68360  69400  70070  71220  72930 2      \n",
       "6  43180  43830  44240  44710  45310  46160  47200 3      "
      ]
     },
     "metadata": {},
     "output_type": "display_data"
    }
   ],
   "source": [
    "library(tibble)\n",
    "library(tidyr)\n",
    "\n",
    "# Use rownames_to_column to move the rownames into a column of the data frame\n",
    "df_oes <- rownames_to_column(as.data.frame(oes), var = 'occupation')\n",
    "\n",
    "# Create a cluster assignment vector at h = 100,000\n",
    "cut_oes <- cutree(hc_oes, h = 100000)\n",
    "\n",
    "# Generate the segmented the oes dataframe\n",
    "clust_oes <- mutate(df_oes, cluster = cut_oes)\n",
    "head(clust_oes)"
   ]
  },
  {
   "cell_type": "code",
   "execution_count": 42,
   "metadata": {},
   "outputs": [
    {
     "data": {
      "text/html": [
       "<table>\n",
       "<thead><tr><th scope=col>occupation</th><th scope=col>cluster</th><th scope=col>year</th><th scope=col>mean_salary</th></tr></thead>\n",
       "<tbody>\n",
       "\t<tr><td>Management               </td><td>1                        </td><td>2001                     </td><td>70800                    </td></tr>\n",
       "\t<tr><td>Business Operations      </td><td>2                        </td><td>2001                     </td><td>50580                    </td></tr>\n",
       "\t<tr><td>Computer Science         </td><td>2                        </td><td>2001                     </td><td>60350                    </td></tr>\n",
       "\t<tr><td>Architecture/Engineering </td><td>2                        </td><td>2001                     </td><td>56330                    </td></tr>\n",
       "\t<tr><td>Life/Physical/Social Sci.</td><td>2                        </td><td>2001                     </td><td>49710                    </td></tr>\n",
       "\t<tr><td>Community Services       </td><td>3                        </td><td>2001                     </td><td>34190                    </td></tr>\n",
       "</tbody>\n",
       "</table>\n"
      ],
      "text/latex": [
       "\\begin{tabular}{r|llll}\n",
       " occupation & cluster & year & mean\\_salary\\\\\n",
       "\\hline\n",
       "\t Management                & 1                         & 2001                      & 70800                    \\\\\n",
       "\t Business Operations       & 2                         & 2001                      & 50580                    \\\\\n",
       "\t Computer Science          & 2                         & 2001                      & 60350                    \\\\\n",
       "\t Architecture/Engineering  & 2                         & 2001                      & 56330                    \\\\\n",
       "\t Life/Physical/Social Sci. & 2                         & 2001                      & 49710                    \\\\\n",
       "\t Community Services        & 3                         & 2001                      & 34190                    \\\\\n",
       "\\end{tabular}\n"
      ],
      "text/markdown": [
       "\n",
       "occupation | cluster | year | mean_salary | \n",
       "|---|---|---|---|---|---|\n",
       "| Management                | 1                         | 2001                      | 70800                     | \n",
       "| Business Operations       | 2                         | 2001                      | 50580                     | \n",
       "| Computer Science          | 2                         | 2001                      | 60350                     | \n",
       "| Architecture/Engineering  | 2                         | 2001                      | 56330                     | \n",
       "| Life/Physical/Social Sci. | 2                         | 2001                      | 49710                     | \n",
       "| Community Services        | 3                         | 2001                      | 34190                     | \n",
       "\n",
       "\n"
      ],
      "text/plain": [
       "  occupation                cluster year mean_salary\n",
       "1 Management                1       2001 70800      \n",
       "2 Business Operations       2       2001 50580      \n",
       "3 Computer Science          2       2001 60350      \n",
       "4 Architecture/Engineering  2       2001 56330      \n",
       "5 Life/Physical/Social Sci. 2       2001 49710      \n",
       "6 Community Services        3       2001 34190      "
      ]
     },
     "metadata": {},
     "output_type": "display_data"
    }
   ],
   "source": [
    "# Create a tidy data frame by gathering the year and values into two columns\n",
    "gathered_oes <- gather(data = clust_oes, \n",
    "                       key = year, \n",
    "                       value = mean_salary, \n",
    "                       -occupation, -cluster)\n",
    "head(gathered_oes)"
   ]
  },
  {
   "cell_type": "markdown",
   "metadata": {},
   "source": [
    "### Hierarchical clustering: Plotting occupational clusters\n",
    "\n",
    "You have succesfully created all the parts necessary to explore the results of this hierarchical clustering work. In this exercise you will leverage the named assignment vector cut_oes and the tidy data frame gathered_oes to analyze the resulting clusters."
   ]
  },
  {
   "cell_type": "code",
   "execution_count": 46,
   "metadata": {},
   "outputs": [
    {
     "data": {
      "text/html": [
       "<dl class=dl-horizontal>\n",
       "\t<dt>Management</dt>\n",
       "\t\t<dd>1</dd>\n",
       "\t<dt>Legal</dt>\n",
       "\t\t<dd>1</dd>\n",
       "\t<dt>Business Operations</dt>\n",
       "\t\t<dd>2</dd>\n",
       "\t<dt>Computer Science</dt>\n",
       "\t\t<dd>2</dd>\n",
       "\t<dt>Architecture/Engineering</dt>\n",
       "\t\t<dd>2</dd>\n",
       "\t<dt>Life/Physical/Social Sci.</dt>\n",
       "\t\t<dd>2</dd>\n",
       "\t<dt>Healthcare Practitioners</dt>\n",
       "\t\t<dd>2</dd>\n",
       "\t<dt>Community Services</dt>\n",
       "\t\t<dd>3</dd>\n",
       "\t<dt>Education/Training/Library</dt>\n",
       "\t\t<dd>3</dd>\n",
       "\t<dt>Arts/Design/Entertainment</dt>\n",
       "\t\t<dd>3</dd>\n",
       "\t<dt>Healthcare Support</dt>\n",
       "\t\t<dd>3</dd>\n",
       "\t<dt>Protective Service</dt>\n",
       "\t\t<dd>3</dd>\n",
       "\t<dt>Food Preparation</dt>\n",
       "\t\t<dd>3</dd>\n",
       "\t<dt>Grounds Cleaning &amp; Maint.</dt>\n",
       "\t\t<dd>3</dd>\n",
       "\t<dt>Personal Care</dt>\n",
       "\t\t<dd>3</dd>\n",
       "\t<dt>Sales</dt>\n",
       "\t\t<dd>3</dd>\n",
       "\t<dt>Office Administrative</dt>\n",
       "\t\t<dd>3</dd>\n",
       "\t<dt>Farming/Fishing/Forestry</dt>\n",
       "\t\t<dd>3</dd>\n",
       "\t<dt>Construction</dt>\n",
       "\t\t<dd>3</dd>\n",
       "\t<dt>Installation/Repair/Maint.</dt>\n",
       "\t\t<dd>3</dd>\n",
       "\t<dt>Production</dt>\n",
       "\t\t<dd>3</dd>\n",
       "\t<dt>Transportation/Moving</dt>\n",
       "\t\t<dd>3</dd>\n",
       "</dl>\n"
      ],
      "text/latex": [
       "\\begin{description*}\n",
       "\\item[Management] 1\n",
       "\\item[Legal] 1\n",
       "\\item[Business Operations] 2\n",
       "\\item[Computer Science] 2\n",
       "\\item[Architecture/Engineering] 2\n",
       "\\item[Life/Physical/Social Sci.] 2\n",
       "\\item[Healthcare Practitioners] 2\n",
       "\\item[Community Services] 3\n",
       "\\item[Education/Training/Library] 3\n",
       "\\item[Arts/Design/Entertainment] 3\n",
       "\\item[Healthcare Support] 3\n",
       "\\item[Protective Service] 3\n",
       "\\item[Food Preparation] 3\n",
       "\\item[Grounds Cleaning \\textbackslash{}\\& Maint.] 3\n",
       "\\item[Personal Care] 3\n",
       "\\item[Sales] 3\n",
       "\\item[Office Administrative] 3\n",
       "\\item[Farming/Fishing/Forestry] 3\n",
       "\\item[Construction] 3\n",
       "\\item[Installation/Repair/Maint.] 3\n",
       "\\item[Production] 3\n",
       "\\item[Transportation/Moving] 3\n",
       "\\end{description*}\n"
      ],
      "text/markdown": [
       "Management\n",
       ":   1Legal\n",
       ":   1Business Operations\n",
       ":   2Computer Science\n",
       ":   2Architecture/Engineering\n",
       ":   2Life/Physical/Social Sci.\n",
       ":   2Healthcare Practitioners\n",
       ":   2Community Services\n",
       ":   3Education/Training/Library\n",
       ":   3Arts/Design/Entertainment\n",
       ":   3Healthcare Support\n",
       ":   3Protective Service\n",
       ":   3Food Preparation\n",
       ":   3Grounds Cleaning &amp;amp; Maint.\n",
       ":   3Personal Care\n",
       ":   3Sales\n",
       ":   3Office Administrative\n",
       ":   3Farming/Fishing/Forestry\n",
       ":   3Construction\n",
       ":   3Installation/Repair/Maint.\n",
       ":   3Production\n",
       ":   3Transportation/Moving\n",
       ":   3\n",
       "\n"
      ],
      "text/plain": [
       "                Management                      Legal \n",
       "                         1                          1 \n",
       "       Business Operations           Computer Science \n",
       "                         2                          2 \n",
       "  Architecture/Engineering  Life/Physical/Social Sci. \n",
       "                         2                          2 \n",
       "  Healthcare Practitioners         Community Services \n",
       "                         2                          3 \n",
       "Education/Training/Library  Arts/Design/Entertainment \n",
       "                         3                          3 \n",
       "        Healthcare Support         Protective Service \n",
       "                         3                          3 \n",
       "          Food Preparation  Grounds Cleaning & Maint. \n",
       "                         3                          3 \n",
       "             Personal Care                      Sales \n",
       "                         3                          3 \n",
       "     Office Administrative   Farming/Fishing/Forestry \n",
       "                         3                          3 \n",
       "              Construction Installation/Repair/Maint. \n",
       "                         3                          3 \n",
       "                Production      Transportation/Moving \n",
       "                         3                          3 "
      ]
     },
     "metadata": {},
     "output_type": "display_data"
    },
    {
     "data": {},
     "metadata": {},
     "output_type": "display_data"
    },
    {
     "data": {
      "image/png": "[encoded data removed]",
      "text/plain": [
       "plot without title"
      ]
     },
     "metadata": {},
     "output_type": "display_data"
    }
   ],
   "source": [
    "# View the clustering assignments by sorting the cluster assignment vector\n",
    "sort(cut_oes)\n",
    "\n",
    "# Plot the relationship between mean_salary and year and color the lines by the assigned cluster\n",
    "ggplot(gathered_oes, aes(x = year, y = mean_salary, color = factor(cluster))) + \n",
    "    geom_line(aes(group = occupation))\n"
   ]
  },
  {
   "cell_type": "markdown",
   "metadata": {},
   "source": [
    "From this work it looks like both Management & Legal professions (cluster 1) experienced the most rapid growth in these 15 years. Let's see what we can get by exploring this data using k-means. "
   ]
  },
  {
   "cell_type": "markdown",
   "metadata": {},
   "source": [
    "### K-means: Elbow analysis\n",
    "\n",
    "In the previous exercises you used the dendrogram to propose a clustering that generated 3 trees. In this exercise you will leverage the k-means elbow plot to propose the \"best\" number of clusters."
   ]
  },
  {
   "cell_type": "code",
   "execution_count": 48,
   "metadata": {},
   "outputs": [
    {
     "data": {},
     "metadata": {},
     "output_type": "display_data"
    },
    {
     "data": {
      "image/png": "[encoded data removed]",
      "text/plain": [
       "plot without title"
      ]
     },
     "metadata": {},
     "output_type": "display_data"
    }
   ],
   "source": [
    "# Use map_dbl to run many models with varying value of k (centers)\n",
    "tot_withinss <- map_dbl(1:10,  function(k){\n",
    "  model <- kmeans(x = oes , centers = k)\n",
    "  model$tot.withinss\n",
    "})\n",
    "\n",
    "# Generate a data frame containing both k and tot_withinss\n",
    "elbow_df <- data.frame(\n",
    "  k = 1:10,\n",
    "  tot_withinss = tot_withinss\n",
    ")\n",
    "\n",
    "# Plot the elbow plot\n",
    "ggplot(elbow_df, aes(x = k, y = tot_withinss))+\n",
    "  geom_line() +\n",
    "  scale_x_continuous(breaks = 1:10)"
   ]
  },
  {
   "cell_type": "markdown",
   "metadata": {},
   "source": [
    "So the elbow analysis proposes a different value of k, in the next section let's see what we can learn from Silhouette Width Analysis. "
   ]
  },
  {
   "cell_type": "markdown",
   "metadata": {},
   "source": [
    "### K-means: Average Silhouette Widths\n",
    "\n",
    "So hierarchical clustering resulting in 3 clusters and the elbow method suggests 2. In this exercise use average silhouette widths to explore what the \"best\" value of k should be."
   ]
  },
  {
   "cell_type": "code",
   "execution_count": 49,
   "metadata": {},
   "outputs": [
    {
     "data": {},
     "metadata": {},
     "output_type": "display_data"
    },
    {
     "data": {
      "image/png": "[encoded data removed]",
      "text/plain": [
       "plot without title"
      ]
     },
     "metadata": {},
     "output_type": "display_data"
    }
   ],
   "source": [
    "# Use map_dbl to run many models with varying value of k\n",
    "sil_width <- map_dbl(2:10,  function(k){\n",
    "  model <- pam(oes, k = k)\n",
    "  model$silinfo$avg.width\n",
    "})\n",
    "\n",
    "# Generate a data frame containing both k and sil_width\n",
    "sil_df <- data.frame(\n",
    "  k = 2:10,\n",
    "  sil_width = sil_width\n",
    ")\n",
    "\n",
    "# Plot the relationship between k and sil_width\n",
    "ggplot(sil_df, aes(x = k, y = sil_width)) +\n",
    "  geom_line() +\n",
    "  scale_x_continuous(breaks = 2:10)"
   ]
  },
  {
   "cell_type": "markdown",
   "metadata": {},
   "source": [
    "It seems that this analysis results in another value of k, this time 7 is the top contender (although 2 comes very close). "
   ]
  },
  {
   "cell_type": "code",
   "execution_count": 57,
   "metadata": {},
   "outputs": [
    {
     "data": {
      "text/html": [
       "<dl class=dl-horizontal>\n",
       "\t<dt>Management</dt>\n",
       "\t\t<dd>1</dd>\n",
       "\t<dt>Business Operations</dt>\n",
       "\t\t<dd>2</dd>\n",
       "\t<dt>Computer Science</dt>\n",
       "\t\t<dd>3</dd>\n",
       "\t<dt>Architecture/Engineering</dt>\n",
       "\t\t<dd>3</dd>\n",
       "\t<dt>Life/Physical/Social Sci.</dt>\n",
       "\t\t<dd>2</dd>\n",
       "\t<dt>Community Services</dt>\n",
       "\t\t<dd>4</dd>\n",
       "\t<dt>Legal</dt>\n",
       "\t\t<dd>1</dd>\n",
       "\t<dt>Education/Training/Library</dt>\n",
       "\t\t<dd>5</dd>\n",
       "\t<dt>Arts/Design/Entertainment</dt>\n",
       "\t\t<dd>5</dd>\n",
       "\t<dt>Healthcare Practitioners</dt>\n",
       "\t\t<dd>2</dd>\n",
       "\t<dt>Healthcare Support</dt>\n",
       "\t\t<dd>6</dd>\n",
       "\t<dt>Protective Service</dt>\n",
       "\t\t<dd>4</dd>\n",
       "\t<dt>Food Preparation</dt>\n",
       "\t\t<dd>6</dd>\n",
       "\t<dt>Grounds Cleaning &amp; Maint.</dt>\n",
       "\t\t<dd>6</dd>\n",
       "\t<dt>Personal Care</dt>\n",
       "\t\t<dd>6</dd>\n",
       "\t<dt>Sales</dt>\n",
       "\t\t<dd>7</dd>\n",
       "\t<dt>Office Administrative</dt>\n",
       "\t\t<dd>7</dd>\n",
       "\t<dt>Farming/Fishing/Forestry</dt>\n",
       "\t\t<dd>6</dd>\n",
       "\t<dt>Construction</dt>\n",
       "\t\t<dd>4</dd>\n",
       "\t<dt>Installation/Repair/Maint.</dt>\n",
       "\t\t<dd>4</dd>\n",
       "\t<dt>Production</dt>\n",
       "\t\t<dd>7</dd>\n",
       "\t<dt>Transportation/Moving</dt>\n",
       "\t\t<dd>7</dd>\n",
       "</dl>\n"
      ],
      "text/latex": [
       "\\begin{description*}\n",
       "\\item[Management] 1\n",
       "\\item[Business Operations] 2\n",
       "\\item[Computer Science] 3\n",
       "\\item[Architecture/Engineering] 3\n",
       "\\item[Life/Physical/Social Sci.] 2\n",
       "\\item[Community Services] 4\n",
       "\\item[Legal] 1\n",
       "\\item[Education/Training/Library] 5\n",
       "\\item[Arts/Design/Entertainment] 5\n",
       "\\item[Healthcare Practitioners] 2\n",
       "\\item[Healthcare Support] 6\n",
       "\\item[Protective Service] 4\n",
       "\\item[Food Preparation] 6\n",
       "\\item[Grounds Cleaning \\textbackslash{}\\& Maint.] 6\n",
       "\\item[Personal Care] 6\n",
       "\\item[Sales] 7\n",
       "\\item[Office Administrative] 7\n",
       "\\item[Farming/Fishing/Forestry] 6\n",
       "\\item[Construction] 4\n",
       "\\item[Installation/Repair/Maint.] 4\n",
       "\\item[Production] 7\n",
       "\\item[Transportation/Moving] 7\n",
       "\\end{description*}\n"
      ],
      "text/markdown": [
       "Management\n",
       ":   1Business Operations\n",
       ":   2Computer Science\n",
       ":   3Architecture/Engineering\n",
       ":   3Life/Physical/Social Sci.\n",
       ":   2Community Services\n",
       ":   4Legal\n",
       ":   1Education/Training/Library\n",
       ":   5Arts/Design/Entertainment\n",
       ":   5Healthcare Practitioners\n",
       ":   2Healthcare Support\n",
       ":   6Protective Service\n",
       ":   4Food Preparation\n",
       ":   6Grounds Cleaning &amp;amp; Maint.\n",
       ":   6Personal Care\n",
       ":   6Sales\n",
       ":   7Office Administrative\n",
       ":   7Farming/Fishing/Forestry\n",
       ":   6Construction\n",
       ":   4Installation/Repair/Maint.\n",
       ":   4Production\n",
       ":   7Transportation/Moving\n",
       ":   7\n",
       "\n"
      ],
      "text/plain": [
       "                Management        Business Operations \n",
       "                         1                          2 \n",
       "          Computer Science   Architecture/Engineering \n",
       "                         3                          3 \n",
       " Life/Physical/Social Sci.         Community Services \n",
       "                         2                          4 \n",
       "                     Legal Education/Training/Library \n",
       "                         1                          5 \n",
       " Arts/Design/Entertainment   Healthcare Practitioners \n",
       "                         5                          2 \n",
       "        Healthcare Support         Protective Service \n",
       "                         6                          4 \n",
       "          Food Preparation  Grounds Cleaning & Maint. \n",
       "                         6                          6 \n",
       "             Personal Care                      Sales \n",
       "                         6                          7 \n",
       "     Office Administrative   Farming/Fishing/Forestry \n",
       "                         7                          6 \n",
       "              Construction Installation/Repair/Maint. \n",
       "                         4                          4 \n",
       "                Production      Transportation/Moving \n",
       "                         7                          7 "
      ]
     },
     "metadata": {},
     "output_type": "display_data"
    },
    {
     "data": {
      "text/html": [
       "<dl class=dl-horizontal>\n",
       "\t<dt>Management</dt>\n",
       "\t\t<dd>2</dd>\n",
       "\t<dt>Business Operations</dt>\n",
       "\t\t<dd>2</dd>\n",
       "\t<dt>Computer Science</dt>\n",
       "\t\t<dd>2</dd>\n",
       "\t<dt>Architecture/Engineering</dt>\n",
       "\t\t<dd>2</dd>\n",
       "\t<dt>Life/Physical/Social Sci.</dt>\n",
       "\t\t<dd>2</dd>\n",
       "\t<dt>Community Services</dt>\n",
       "\t\t<dd>1</dd>\n",
       "\t<dt>Legal</dt>\n",
       "\t\t<dd>2</dd>\n",
       "\t<dt>Education/Training/Library</dt>\n",
       "\t\t<dd>1</dd>\n",
       "\t<dt>Arts/Design/Entertainment</dt>\n",
       "\t\t<dd>1</dd>\n",
       "\t<dt>Healthcare Practitioners</dt>\n",
       "\t\t<dd>2</dd>\n",
       "\t<dt>Healthcare Support</dt>\n",
       "\t\t<dd>1</dd>\n",
       "\t<dt>Protective Service</dt>\n",
       "\t\t<dd>1</dd>\n",
       "\t<dt>Food Preparation</dt>\n",
       "\t\t<dd>1</dd>\n",
       "\t<dt>Grounds Cleaning &amp; Maint.</dt>\n",
       "\t\t<dd>1</dd>\n",
       "\t<dt>Personal Care</dt>\n",
       "\t\t<dd>1</dd>\n",
       "\t<dt>Sales</dt>\n",
       "\t\t<dd>1</dd>\n",
       "\t<dt>Office Administrative</dt>\n",
       "\t\t<dd>1</dd>\n",
       "\t<dt>Farming/Fishing/Forestry</dt>\n",
       "\t\t<dd>1</dd>\n",
       "\t<dt>Construction</dt>\n",
       "\t\t<dd>1</dd>\n",
       "\t<dt>Installation/Repair/Maint.</dt>\n",
       "\t\t<dd>1</dd>\n",
       "\t<dt>Production</dt>\n",
       "\t\t<dd>1</dd>\n",
       "\t<dt>Transportation/Moving</dt>\n",
       "\t\t<dd>1</dd>\n",
       "</dl>\n"
      ],
      "text/latex": [
       "\\begin{description*}\n",
       "\\item[Management] 2\n",
       "\\item[Business Operations] 2\n",
       "\\item[Computer Science] 2\n",
       "\\item[Architecture/Engineering] 2\n",
       "\\item[Life/Physical/Social Sci.] 2\n",
       "\\item[Community Services] 1\n",
       "\\item[Legal] 2\n",
       "\\item[Education/Training/Library] 1\n",
       "\\item[Arts/Design/Entertainment] 1\n",
       "\\item[Healthcare Practitioners] 2\n",
       "\\item[Healthcare Support] 1\n",
       "\\item[Protective Service] 1\n",
       "\\item[Food Preparation] 1\n",
       "\\item[Grounds Cleaning \\textbackslash{}\\& Maint.] 1\n",
       "\\item[Personal Care] 1\n",
       "\\item[Sales] 1\n",
       "\\item[Office Administrative] 1\n",
       "\\item[Farming/Fishing/Forestry] 1\n",
       "\\item[Construction] 1\n",
       "\\item[Installation/Repair/Maint.] 1\n",
       "\\item[Production] 1\n",
       "\\item[Transportation/Moving] 1\n",
       "\\end{description*}\n"
      ],
      "text/markdown": [
       "Management\n",
       ":   2Business Operations\n",
       ":   2Computer Science\n",
       ":   2Architecture/Engineering\n",
       ":   2Life/Physical/Social Sci.\n",
       ":   2Community Services\n",
       ":   1Legal\n",
       ":   2Education/Training/Library\n",
       ":   1Arts/Design/Entertainment\n",
       ":   1Healthcare Practitioners\n",
       ":   2Healthcare Support\n",
       ":   1Protective Service\n",
       ":   1Food Preparation\n",
       ":   1Grounds Cleaning &amp;amp; Maint.\n",
       ":   1Personal Care\n",
       ":   1Sales\n",
       ":   1Office Administrative\n",
       ":   1Farming/Fishing/Forestry\n",
       ":   1Construction\n",
       ":   1Installation/Repair/Maint.\n",
       ":   1Production\n",
       ":   1Transportation/Moving\n",
       ":   1\n",
       "\n"
      ],
      "text/plain": [
       "                Management        Business Operations \n",
       "                         2                          2 \n",
       "          Computer Science   Architecture/Engineering \n",
       "                         2                          2 \n",
       " Life/Physical/Social Sci.         Community Services \n",
       "                         2                          1 \n",
       "                     Legal Education/Training/Library \n",
       "                         2                          1 \n",
       " Arts/Design/Entertainment   Healthcare Practitioners \n",
       "                         1                          2 \n",
       "        Healthcare Support         Protective Service \n",
       "                         1                          1 \n",
       "          Food Preparation  Grounds Cleaning & Maint. \n",
       "                         1                          1 \n",
       "             Personal Care                      Sales \n",
       "                         1                          1 \n",
       "     Office Administrative   Farming/Fishing/Forestry \n",
       "                         1                          1 \n",
       "              Construction Installation/Repair/Maint. \n",
       "                         1                          1 \n",
       "                Production      Transportation/Moving \n",
       "                         1                          1 "
      ]
     },
     "metadata": {},
     "output_type": "display_data"
    }
   ],
   "source": [
    "set.seed(42)\n",
    "\n",
    "# model for k2 and k7\n",
    "model_k2 <- kmeans(x = oes, centers = 2)\n",
    "model_k7 <- pam(oes, k = 7)"
   ]
  },
  {
   "cell_type": "code",
   "execution_count": 60,
   "metadata": {},
   "outputs": [
    {
     "data": {
      "text/html": [
       "<table>\n",
       "<thead><tr><th scope=col>occupation</th><th scope=col>2001</th><th scope=col>2002</th><th scope=col>2003</th><th scope=col>2004</th><th scope=col>2005</th><th scope=col>2006</th><th scope=col>2007</th><th scope=col>2008</th><th scope=col>2010</th><th scope=col>2011</th><th scope=col>2012</th><th scope=col>2013</th><th scope=col>2014</th><th scope=col>2015</th><th scope=col>2016</th><th scope=col>cluster</th></tr></thead>\n",
       "<tbody>\n",
       "\t<tr><td>Management               </td><td>70800                    </td><td>78870                    </td><td>83400                    </td><td>87090                    </td><td>88450                    </td><td>91930                    </td><td>96150                    </td><td>100310                   </td><td>105440                   </td><td>107410                   </td><td>108570                   </td><td>110550                   </td><td>112490                   </td><td>115020                   </td><td>118020                   </td><td>1                        </td></tr>\n",
       "\t<tr><td>Business Operations      </td><td>50580                    </td><td>53350                    </td><td>56000                    </td><td>57120                    </td><td>57930                    </td><td>60000                    </td><td>62410                    </td><td> 64720                   </td><td> 67690                   </td><td> 68740                   </td><td> 69550                   </td><td> 71020                   </td><td> 72410                   </td><td> 73800                   </td><td> 75070                   </td><td>2                        </td></tr>\n",
       "\t<tr><td>Computer Science         </td><td>60350                    </td><td>61630                    </td><td>64150                    </td><td>66370                    </td><td>67100                    </td><td>69240                    </td><td>72190                    </td><td> 74500                   </td><td> 77230                   </td><td> 78730                   </td><td> 80180                   </td><td> 82010                   </td><td> 83970                   </td><td> 86170                   </td><td> 87880                   </td><td>2                        </td></tr>\n",
       "\t<tr><td>Architecture/Engineering </td><td>56330                    </td><td>58020                    </td><td>60390                    </td><td>63060                    </td><td>63910                    </td><td>66190                    </td><td>68880                    </td><td> 71430                   </td><td> 75550                   </td><td> 77120                   </td><td> 79000                   </td><td> 80100                   </td><td> 81520                   </td><td> 82980                   </td><td> 84300                   </td><td>2                        </td></tr>\n",
       "\t<tr><td>Life/Physical/Social Sci.</td><td>49710                    </td><td>52380                    </td><td>54930                    </td><td>57550                    </td><td>58030                    </td><td>59660                    </td><td>62020                    </td><td> 64280                   </td><td> 66390                   </td><td> 67470                   </td><td> 68360                   </td><td> 69400                   </td><td> 70070                   </td><td> 71220                   </td><td> 72930                   </td><td>2                        </td></tr>\n",
       "\t<tr><td>Community Services       </td><td>34190                    </td><td>34630                    </td><td>35800                    </td><td>37050                    </td><td>37530                    </td><td>39000                    </td><td>40540                    </td><td> 41790                   </td><td> 43180                   </td><td> 43830                   </td><td> 44240                   </td><td> 44710                   </td><td> 45310                   </td><td> 46160                   </td><td> 47200                   </td><td>3                        </td></tr>\n",
       "</tbody>\n",
       "</table>\n"
      ],
      "text/latex": [
       "\\begin{tabular}{r|lllllllllllllllll}\n",
       " occupation & 2001 & 2002 & 2003 & 2004 & 2005 & 2006 & 2007 & 2008 & 2010 & 2011 & 2012 & 2013 & 2014 & 2015 & 2016 & cluster\\\\\n",
       "\\hline\n",
       "\t Management                & 70800                     & 78870                     & 83400                     & 87090                     & 88450                     & 91930                     & 96150                     & 100310                    & 105440                    & 107410                    & 108570                    & 110550                    & 112490                    & 115020                    & 118020                    & 1                        \\\\\n",
       "\t Business Operations       & 50580                     & 53350                     & 56000                     & 57120                     & 57930                     & 60000                     & 62410                     &  64720                    &  67690                    &  68740                    &  69550                    &  71020                    &  72410                    &  73800                    &  75070                    & 2                        \\\\\n",
       "\t Computer Science          & 60350                     & 61630                     & 64150                     & 66370                     & 67100                     & 69240                     & 72190                     &  74500                    &  77230                    &  78730                    &  80180                    &  82010                    &  83970                    &  86170                    &  87880                    & 2                        \\\\\n",
       "\t Architecture/Engineering  & 56330                     & 58020                     & 60390                     & 63060                     & 63910                     & 66190                     & 68880                     &  71430                    &  75550                    &  77120                    &  79000                    &  80100                    &  81520                    &  82980                    &  84300                    & 2                        \\\\\n",
       "\t Life/Physical/Social Sci. & 49710                     & 52380                     & 54930                     & 57550                     & 58030                     & 59660                     & 62020                     &  64280                    &  66390                    &  67470                    &  68360                    &  69400                    &  70070                    &  71220                    &  72930                    & 2                        \\\\\n",
       "\t Community Services        & 34190                     & 34630                     & 35800                     & 37050                     & 37530                     & 39000                     & 40540                     &  41790                    &  43180                    &  43830                    &  44240                    &  44710                    &  45310                    &  46160                    &  47200                    & 3                        \\\\\n",
       "\\end{tabular}\n"
      ],
      "text/markdown": [
       "\n",
       "occupation | 2001 | 2002 | 2003 | 2004 | 2005 | 2006 | 2007 | 2008 | 2010 | 2011 | 2012 | 2013 | 2014 | 2015 | 2016 | cluster | \n",
       "|---|---|---|---|---|---|\n",
       "| Management                | 70800                     | 78870                     | 83400                     | 87090                     | 88450                     | 91930                     | 96150                     | 100310                    | 105440                    | 107410                    | 108570                    | 110550                    | 112490                    | 115020                    | 118020                    | 1                         | \n",
       "| Business Operations       | 50580                     | 53350                     | 56000                     | 57120                     | 57930                     | 60000                     | 62410                     |  64720                    |  67690                    |  68740                    |  69550                    |  71020                    |  72410                    |  73800                    |  75070                    | 2                         | \n",
       "| Computer Science          | 60350                     | 61630                     | 64150                     | 66370                     | 67100                     | 69240                     | 72190                     |  74500                    |  77230                    |  78730                    |  80180                    |  82010                    |  83970                    |  86170                    |  87880                    | 2                         | \n",
       "| Architecture/Engineering  | 56330                     | 58020                     | 60390                     | 63060                     | 63910                     | 66190                     | 68880                     |  71430                    |  75550                    |  77120                    |  79000                    |  80100                    |  81520                    |  82980                    |  84300                    | 2                         | \n",
       "| Life/Physical/Social Sci. | 49710                     | 52380                     | 54930                     | 57550                     | 58030                     | 59660                     | 62020                     |  64280                    |  66390                    |  67470                    |  68360                    |  69400                    |  70070                    |  71220                    |  72930                    | 2                         | \n",
       "| Community Services        | 34190                     | 34630                     | 35800                     | 37050                     | 37530                     | 39000                     | 40540                     |  41790                    |  43180                    |  43830                    |  44240                    |  44710                    |  45310                    |  46160                    |  47200                    | 3                         | \n",
       "\n",
       "\n"
      ],
      "text/plain": [
       "  occupation                2001  2002  2003  2004  2005  2006  2007  2008  \n",
       "1 Management                70800 78870 83400 87090 88450 91930 96150 100310\n",
       "2 Business Operations       50580 53350 56000 57120 57930 60000 62410  64720\n",
       "3 Computer Science          60350 61630 64150 66370 67100 69240 72190  74500\n",
       "4 Architecture/Engineering  56330 58020 60390 63060 63910 66190 68880  71430\n",
       "5 Life/Physical/Social Sci. 49710 52380 54930 57550 58030 59660 62020  64280\n",
       "6 Community Services        34190 34630 35800 37050 37530 39000 40540  41790\n",
       "  2010   2011   2012   2013   2014   2015   2016   cluster\n",
       "1 105440 107410 108570 110550 112490 115020 118020 1      \n",
       "2  67690  68740  69550  71020  72410  73800  75070 2      \n",
       "3  77230  78730  80180  82010  83970  86170  87880 2      \n",
       "4  75550  77120  79000  80100  81520  82980  84300 2      \n",
       "5  66390  67470  68360  69400  70070  71220  72930 2      \n",
       "6  43180  43830  44240  44710  45310  46160  47200 3      "
      ]
     },
     "metadata": {},
     "output_type": "display_data"
    }
   ],
   "source": [
    "# Extract the vector of cluster assignments from the model\n",
    "oes_k2 <- model_k2$cluster\n",
    "oes_k7 <- model_k7$clustering\n",
    "\n",
    "head(clust_oes)\n"
   ]
  },
  {
   "cell_type": "code",
   "execution_count": 61,
   "metadata": {},
   "outputs": [
    {
     "data": {
      "text/html": [
       "<table>\n",
       "<thead><tr><th scope=col>occupation</th><th scope=col>2001</th><th scope=col>2002</th><th scope=col>2003</th><th scope=col>2004</th><th scope=col>2005</th><th scope=col>2006</th><th scope=col>2007</th><th scope=col>2008</th><th scope=col>2010</th><th scope=col>2011</th><th scope=col>2012</th><th scope=col>2013</th><th scope=col>2014</th><th scope=col>2015</th><th scope=col>2016</th><th scope=col>cluster</th><th scope=col>cluster_k2</th><th scope=col>cluster_k7</th></tr></thead>\n",
       "<tbody>\n",
       "\t<tr><td>Management               </td><td>70800                    </td><td>78870                    </td><td>83400                    </td><td>87090                    </td><td>88450                    </td><td>91930                    </td><td>96150                    </td><td>100310                   </td><td>105440                   </td><td>107410                   </td><td>108570                   </td><td>110550                   </td><td>112490                   </td><td>115020                   </td><td>118020                   </td><td>1                        </td><td>2                        </td><td>1                        </td></tr>\n",
       "\t<tr><td>Business Operations      </td><td>50580                    </td><td>53350                    </td><td>56000                    </td><td>57120                    </td><td>57930                    </td><td>60000                    </td><td>62410                    </td><td> 64720                   </td><td> 67690                   </td><td> 68740                   </td><td> 69550                   </td><td> 71020                   </td><td> 72410                   </td><td> 73800                   </td><td> 75070                   </td><td>2                        </td><td>2                        </td><td>2                        </td></tr>\n",
       "\t<tr><td>Computer Science         </td><td>60350                    </td><td>61630                    </td><td>64150                    </td><td>66370                    </td><td>67100                    </td><td>69240                    </td><td>72190                    </td><td> 74500                   </td><td> 77230                   </td><td> 78730                   </td><td> 80180                   </td><td> 82010                   </td><td> 83970                   </td><td> 86170                   </td><td> 87880                   </td><td>2                        </td><td>2                        </td><td>3                        </td></tr>\n",
       "\t<tr><td>Architecture/Engineering </td><td>56330                    </td><td>58020                    </td><td>60390                    </td><td>63060                    </td><td>63910                    </td><td>66190                    </td><td>68880                    </td><td> 71430                   </td><td> 75550                   </td><td> 77120                   </td><td> 79000                   </td><td> 80100                   </td><td> 81520                   </td><td> 82980                   </td><td> 84300                   </td><td>2                        </td><td>2                        </td><td>3                        </td></tr>\n",
       "\t<tr><td>Life/Physical/Social Sci.</td><td>49710                    </td><td>52380                    </td><td>54930                    </td><td>57550                    </td><td>58030                    </td><td>59660                    </td><td>62020                    </td><td> 64280                   </td><td> 66390                   </td><td> 67470                   </td><td> 68360                   </td><td> 69400                   </td><td> 70070                   </td><td> 71220                   </td><td> 72930                   </td><td>2                        </td><td>2                        </td><td>2                        </td></tr>\n",
       "\t<tr><td>Community Services       </td><td>34190                    </td><td>34630                    </td><td>35800                    </td><td>37050                    </td><td>37530                    </td><td>39000                    </td><td>40540                    </td><td> 41790                   </td><td> 43180                   </td><td> 43830                   </td><td> 44240                   </td><td> 44710                   </td><td> 45310                   </td><td> 46160                   </td><td> 47200                   </td><td>3                        </td><td>1                        </td><td>4                        </td></tr>\n",
       "</tbody>\n",
       "</table>\n"
      ],
      "text/latex": [
       "\\begin{tabular}{r|lllllllllllllllllll}\n",
       " occupation & 2001 & 2002 & 2003 & 2004 & 2005 & 2006 & 2007 & 2008 & 2010 & 2011 & 2012 & 2013 & 2014 & 2015 & 2016 & cluster & cluster\\_k2 & cluster\\_k7\\\\\n",
       "\\hline\n",
       "\t Management                & 70800                     & 78870                     & 83400                     & 87090                     & 88450                     & 91930                     & 96150                     & 100310                    & 105440                    & 107410                    & 108570                    & 110550                    & 112490                    & 115020                    & 118020                    & 1                         & 2                         & 1                        \\\\\n",
       "\t Business Operations       & 50580                     & 53350                     & 56000                     & 57120                     & 57930                     & 60000                     & 62410                     &  64720                    &  67690                    &  68740                    &  69550                    &  71020                    &  72410                    &  73800                    &  75070                    & 2                         & 2                         & 2                        \\\\\n",
       "\t Computer Science          & 60350                     & 61630                     & 64150                     & 66370                     & 67100                     & 69240                     & 72190                     &  74500                    &  77230                    &  78730                    &  80180                    &  82010                    &  83970                    &  86170                    &  87880                    & 2                         & 2                         & 3                        \\\\\n",
       "\t Architecture/Engineering  & 56330                     & 58020                     & 60390                     & 63060                     & 63910                     & 66190                     & 68880                     &  71430                    &  75550                    &  77120                    &  79000                    &  80100                    &  81520                    &  82980                    &  84300                    & 2                         & 2                         & 3                        \\\\\n",
       "\t Life/Physical/Social Sci. & 49710                     & 52380                     & 54930                     & 57550                     & 58030                     & 59660                     & 62020                     &  64280                    &  66390                    &  67470                    &  68360                    &  69400                    &  70070                    &  71220                    &  72930                    & 2                         & 2                         & 2                        \\\\\n",
       "\t Community Services        & 34190                     & 34630                     & 35800                     & 37050                     & 37530                     & 39000                     & 40540                     &  41790                    &  43180                    &  43830                    &  44240                    &  44710                    &  45310                    &  46160                    &  47200                    & 3                         & 1                         & 4                        \\\\\n",
       "\\end{tabular}\n"
      ],
      "text/markdown": [
       "\n",
       "occupation | 2001 | 2002 | 2003 | 2004 | 2005 | 2006 | 2007 | 2008 | 2010 | 2011 | 2012 | 2013 | 2014 | 2015 | 2016 | cluster | cluster_k2 | cluster_k7 | \n",
       "|---|---|---|---|---|---|\n",
       "| Management                | 70800                     | 78870                     | 83400                     | 87090                     | 88450                     | 91930                     | 96150                     | 100310                    | 105440                    | 107410                    | 108570                    | 110550                    | 112490                    | 115020                    | 118020                    | 1                         | 2                         | 1                         | \n",
       "| Business Operations       | 50580                     | 53350                     | 56000                     | 57120                     | 57930                     | 60000                     | 62410                     |  64720                    |  67690                    |  68740                    |  69550                    |  71020                    |  72410                    |  73800                    |  75070                    | 2                         | 2                         | 2                         | \n",
       "| Computer Science          | 60350                     | 61630                     | 64150                     | 66370                     | 67100                     | 69240                     | 72190                     |  74500                    |  77230                    |  78730                    |  80180                    |  82010                    |  83970                    |  86170                    |  87880                    | 2                         | 2                         | 3                         | \n",
       "| Architecture/Engineering  | 56330                     | 58020                     | 60390                     | 63060                     | 63910                     | 66190                     | 68880                     |  71430                    |  75550                    |  77120                    |  79000                    |  80100                    |  81520                    |  82980                    |  84300                    | 2                         | 2                         | 3                         | \n",
       "| Life/Physical/Social Sci. | 49710                     | 52380                     | 54930                     | 57550                     | 58030                     | 59660                     | 62020                     |  64280                    |  66390                    |  67470                    |  68360                    |  69400                    |  70070                    |  71220                    |  72930                    | 2                         | 2                         | 2                         | \n",
       "| Community Services        | 34190                     | 34630                     | 35800                     | 37050                     | 37530                     | 39000                     | 40540                     |  41790                    |  43180                    |  43830                    |  44240                    |  44710                    |  45310                    |  46160                    |  47200                    | 3                         | 1                         | 4                         | \n",
       "\n",
       "\n"
      ],
      "text/plain": [
       "  occupation                2001  2002  2003  2004  2005  2006  2007  2008  \n",
       "1 Management                70800 78870 83400 87090 88450 91930 96150 100310\n",
       "2 Business Operations       50580 53350 56000 57120 57930 60000 62410  64720\n",
       "3 Computer Science          60350 61630 64150 66370 67100 69240 72190  74500\n",
       "4 Architecture/Engineering  56330 58020 60390 63060 63910 66190 68880  71430\n",
       "5 Life/Physical/Social Sci. 49710 52380 54930 57550 58030 59660 62020  64280\n",
       "6 Community Services        34190 34630 35800 37050 37530 39000 40540  41790\n",
       "  2010   2011   2012   2013   2014   2015   2016   cluster cluster_k2\n",
       "1 105440 107410 108570 110550 112490 115020 118020 1       2         \n",
       "2  67690  68740  69550  71020  72410  73800  75070 2       2         \n",
       "3  77230  78730  80180  82010  83970  86170  87880 2       2         \n",
       "4  75550  77120  79000  80100  81520  82980  84300 2       2         \n",
       "5  66390  67470  68360  69400  70070  71220  72930 2       2         \n",
       "6  43180  43830  44240  44710  45310  46160  47200 3       1         \n",
       "  cluster_k7\n",
       "1 1         \n",
       "2 2         \n",
       "3 3         \n",
       "4 3         \n",
       "5 2         \n",
       "6 4         "
      ]
     },
     "metadata": {},
     "output_type": "display_data"
    }
   ],
   "source": [
    "# Build the segment_customers dataframe\n",
    "oes_cluster <- mutate(clust_oes, cluster_k2 = oes_k2, cluster_k7 = oes_k7)\n",
    "\n",
    "head(oes_cluster)"
   ]
  },
  {
   "cell_type": "code",
   "execution_count": 63,
   "metadata": {},
   "outputs": [
    {
     "data": {
      "text/html": [
       "<table>\n",
       "<thead><tr><th scope=col>occupation</th><th scope=col>cluster</th><th scope=col>cluster_k2</th><th scope=col>cluster_k7</th><th scope=col>year</th><th scope=col>mean_salary</th></tr></thead>\n",
       "<tbody>\n",
       "\t<tr><td>Management               </td><td>1                        </td><td>2                        </td><td>1                        </td><td>2001                     </td><td>70800                    </td></tr>\n",
       "\t<tr><td>Business Operations      </td><td>2                        </td><td>2                        </td><td>2                        </td><td>2001                     </td><td>50580                    </td></tr>\n",
       "\t<tr><td>Computer Science         </td><td>2                        </td><td>2                        </td><td>3                        </td><td>2001                     </td><td>60350                    </td></tr>\n",
       "\t<tr><td>Architecture/Engineering </td><td>2                        </td><td>2                        </td><td>3                        </td><td>2001                     </td><td>56330                    </td></tr>\n",
       "\t<tr><td>Life/Physical/Social Sci.</td><td>2                        </td><td>2                        </td><td>2                        </td><td>2001                     </td><td>49710                    </td></tr>\n",
       "\t<tr><td>Community Services       </td><td>3                        </td><td>1                        </td><td>4                        </td><td>2001                     </td><td>34190                    </td></tr>\n",
       "</tbody>\n",
       "</table>\n"
      ],
      "text/latex": [
       "\\begin{tabular}{r|llllll}\n",
       " occupation & cluster & cluster\\_k2 & cluster\\_k7 & year & mean\\_salary\\\\\n",
       "\\hline\n",
       "\t Management                & 1                         & 2                         & 1                         & 2001                      & 70800                    \\\\\n",
       "\t Business Operations       & 2                         & 2                         & 2                         & 2001                      & 50580                    \\\\\n",
       "\t Computer Science          & 2                         & 2                         & 3                         & 2001                      & 60350                    \\\\\n",
       "\t Architecture/Engineering  & 2                         & 2                         & 3                         & 2001                      & 56330                    \\\\\n",
       "\t Life/Physical/Social Sci. & 2                         & 2                         & 2                         & 2001                      & 49710                    \\\\\n",
       "\t Community Services        & 3                         & 1                         & 4                         & 2001                      & 34190                    \\\\\n",
       "\\end{tabular}\n"
      ],
      "text/markdown": [
       "\n",
       "occupation | cluster | cluster_k2 | cluster_k7 | year | mean_salary | \n",
       "|---|---|---|---|---|---|\n",
       "| Management                | 1                         | 2                         | 1                         | 2001                      | 70800                     | \n",
       "| Business Operations       | 2                         | 2                         | 2                         | 2001                      | 50580                     | \n",
       "| Computer Science          | 2                         | 2                         | 3                         | 2001                      | 60350                     | \n",
       "| Architecture/Engineering  | 2                         | 2                         | 3                         | 2001                      | 56330                     | \n",
       "| Life/Physical/Social Sci. | 2                         | 2                         | 2                         | 2001                      | 49710                     | \n",
       "| Community Services        | 3                         | 1                         | 4                         | 2001                      | 34190                     | \n",
       "\n",
       "\n"
      ],
      "text/plain": [
       "  occupation                cluster cluster_k2 cluster_k7 year mean_salary\n",
       "1 Management                1       2          1          2001 70800      \n",
       "2 Business Operations       2       2          2          2001 50580      \n",
       "3 Computer Science          2       2          3          2001 60350      \n",
       "4 Architecture/Engineering  2       2          3          2001 56330      \n",
       "5 Life/Physical/Social Sci. 2       2          2          2001 49710      \n",
       "6 Community Services        3       1          4          2001 34190      "
      ]
     },
     "metadata": {},
     "output_type": "display_data"
    }
   ],
   "source": [
    "gathered_oes <- gather(data = oes_cluster, key = \"year\", value = \"mean_salary\", -occupation, -cluster, -cluster_k2, -cluster_k7)\n",
    "head(gathered_oes)"
   ]
  },
  {
   "cell_type": "code",
   "execution_count": 78,
   "metadata": {},
   "outputs": [
    {
     "data": {
      "image/png": "[encoded data removed]",
      "text/plain": [
       "plot without title"
      ]
     },
     "metadata": {},
     "output_type": "display_data"
    }
   ],
   "source": [
    "library(gridExtra)\n",
    "\n",
    "plot1 <- ggplot(gathered_oes, aes(x = year, y = mean_salary, color = factor(cluster))) + \n",
    "    geom_line(aes(group = occupation))+\n",
    "    scale_color_discrete(guide=FALSE)+\n",
    "    theme(text = element_text(size=5))+\n",
    "    ggtitle(expression(atop(\"Hierachical Clustering\", atop(italic(\"Based on Dendogram with Euclidean Distance and Average Linkage\"), \"\"))))\n",
    "    \n",
    "plot2 <- ggplot(gathered_oes, aes(x = year, y = mean_salary, color = factor(cluster_k2))) +\n",
    "    geom_line(aes(group = occupation))+\n",
    "    scale_color_discrete(guide=FALSE)+\n",
    "    theme(text = element_text(size=5))+\n",
    "    ggtitle(expression(atop(\"K-means Clustering k = 2\", atop(italic(\"Based on Elbow Plot\"), \"\"))))\n",
    "plot3 <- ggplot(gathered_oes, aes(x = year, y = mean_salary, color = factor(cluster_k7))) +\n",
    "    geom_line(aes(group = occupation))+\n",
    "    scale_color_discrete(guide=FALSE) +\n",
    "    theme(text = element_text(size=5)) +\n",
    "    ggtitle(expression(atop(\"K-means Clustering k = 7\", atop(italic(\"Based on Silhouette Plot\"), \"\"))))\n",
    "\n",
    "grid.arrange(plot1, plot2, plot3, ncol = 2)"
   ]
  }
 ],
 "metadata": {
  "kernelspec": {
   "display_name": "R",
   "language": "R",
   "name": "ir"
  },
  "language_info": {
   "codemirror_mode": "r",
   "file_extension": ".r",
   "mimetype": "text/x-r-source",
   "name": "R",
   "pygments_lexer": "r",
   "version": "3.5.1"
  }
 },
 "nbformat": 4,
 "nbformat_minor": 2
}

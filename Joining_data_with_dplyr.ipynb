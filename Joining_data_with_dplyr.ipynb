{
 "cells": [
  {
   "cell_type": "markdown",
   "metadata": {},
   "source": [
    "## Keys\n",
    "There are primary keys and secondary keys. Primary keys are variables that uniquely identify each row in a dataset. The secondary key is the key which you use to combine datasets. They need to have the same information than the primary keys.\n",
    "<br>Sometimes there is not just one variable, than you use multi-variable keys."
   ]
  },
  {
   "cell_type": "markdown",
   "metadata": {},
   "source": [
    "## Joins\n"
   ]
  },
  {
   "cell_type": "markdown",
   "metadata": {},
   "source": [
    "<b>mutating joins</b>\n",
    " * left_join \n",
    " * right_join\n",
    " * inner_join \n",
    " * full_join\n",
    " \n",
    "<b>filtering joins</b>\n",
    " * semi-join - filter data from one data set based on another dataset\n",
    " * anti- join - show which row in the primary have no match in your secondary "
   ]
  },
  {
   "cell_type": "markdown",
   "metadata": {},
   "source": [
    "### set operation\n",
    "`union()` function provides an easy way to combine two datasets without duplicating any values. \n",
    "<br>`intersect()` You can think of it as the set operator equivalent of a semi-join. It is what you would use if your datasets contain the exact same variables. "
   ]
  },
  {
   "cell_type": "code",
   "execution_count": 10,
   "metadata": {},
   "outputs": [
    {
     "name": "stderr",
     "output_type": "stream",
     "text": [
      "Joining, by = c(\"song\", \"album\")\n"
     ]
    },
    {
     "data": {
      "text/html": [
       "<table>\n",
       "<thead><tr><th scope=col>song</th><th scope=col>album</th></tr></thead>\n",
       "<tbody>\n",
       "\t<tr><td>Rock and Roll              </td><td>The Song Remains the Same  </td></tr>\n",
       "\t<tr><td>Celebration Day            </td><td>The Song Remains the Same  </td></tr>\n",
       "\t<tr><td>Black Dog                  </td><td>The Song Remains the Same  </td></tr>\n",
       "\t<tr><td>Over the Hills and Far Away</td><td>The Song Remains the Same  </td></tr>\n",
       "\t<tr><td>Misty Mountain Hop         </td><td>The Song Remains the Same  </td></tr>\n",
       "\t<tr><td>Since I've Been Loving You </td><td>The Song Remains the Same  </td></tr>\n",
       "\t<tr><td>No Quarter                 </td><td>The Song Remains the Same  </td></tr>\n",
       "\t<tr><td>The Song Remains the Same  </td><td>The Song Remains the Same  </td></tr>\n",
       "\t<tr><td>The Rain Song              </td><td>The Song Remains the Same  </td></tr>\n",
       "\t<tr><td>The Ocean                  </td><td>The Song Remains the Same  </td></tr>\n",
       "\t<tr><td>Dazed and Confused         </td><td>The Song Remains the Same  </td></tr>\n",
       "\t<tr><td>Stairway to Heaven         </td><td>The Song Remains the Same  </td></tr>\n",
       "\t<tr><td>Moby Dick                  </td><td>The Song Remains the Same  </td></tr>\n",
       "\t<tr><td>Heartbreaker               </td><td>The Song Remains the Same  </td></tr>\n",
       "\t<tr><td>Whole Lotta Love           </td><td>The Song Remains the Same  </td></tr>\n",
       "</tbody>\n",
       "</table>\n"
      ],
      "text/latex": [
       "\\begin{tabular}{r|ll}\n",
       " song & album\\\\\n",
       "\\hline\n",
       "\t Rock and Roll               & The Song Remains the Same  \\\\\n",
       "\t Celebration Day             & The Song Remains the Same  \\\\\n",
       "\t Black Dog                   & The Song Remains the Same  \\\\\n",
       "\t Over the Hills and Far Away & The Song Remains the Same  \\\\\n",
       "\t Misty Mountain Hop          & The Song Remains the Same  \\\\\n",
       "\t Since I've Been Loving You  & The Song Remains the Same  \\\\\n",
       "\t No Quarter                  & The Song Remains the Same  \\\\\n",
       "\t The Song Remains the Same   & The Song Remains the Same  \\\\\n",
       "\t The Rain Song               & The Song Remains the Same  \\\\\n",
       "\t The Ocean                   & The Song Remains the Same  \\\\\n",
       "\t Dazed and Confused          & The Song Remains the Same  \\\\\n",
       "\t Stairway to Heaven          & The Song Remains the Same  \\\\\n",
       "\t Moby Dick                   & The Song Remains the Same  \\\\\n",
       "\t Heartbreaker                & The Song Remains the Same  \\\\\n",
       "\t Whole Lotta Love            & The Song Remains the Same  \\\\\n",
       "\\end{tabular}\n"
      ],
      "text/markdown": [
       "\n",
       "song | album | \n",
       "|---|---|---|---|---|---|---|---|---|---|---|---|---|---|---|\n",
       "| Rock and Roll               | The Song Remains the Same   | \n",
       "| Celebration Day             | The Song Remains the Same   | \n",
       "| Black Dog                   | The Song Remains the Same   | \n",
       "| Over the Hills and Far Away | The Song Remains the Same   | \n",
       "| Misty Mountain Hop          | The Song Remains the Same   | \n",
       "| Since I've Been Loving You  | The Song Remains the Same   | \n",
       "| No Quarter                  | The Song Remains the Same   | \n",
       "| The Song Remains the Same   | The Song Remains the Same   | \n",
       "| The Rain Song               | The Song Remains the Same   | \n",
       "| The Ocean                   | The Song Remains the Same   | \n",
       "| Dazed and Confused          | The Song Remains the Same   | \n",
       "| Stairway to Heaven          | The Song Remains the Same   | \n",
       "| Moby Dick                   | The Song Remains the Same   | \n",
       "| Heartbreaker                | The Song Remains the Same   | \n",
       "| Whole Lotta Love            | The Song Remains the Same   | \n",
       "\n",
       "\n"
      ],
      "text/plain": [
       "   song                        album                    \n",
       "1  Rock and Roll               The Song Remains the Same\n",
       "2  Celebration Day             The Song Remains the Same\n",
       "3  Black Dog                   The Song Remains the Same\n",
       "4  Over the Hills and Far Away The Song Remains the Same\n",
       "5  Misty Mountain Hop          The Song Remains the Same\n",
       "6  Since I've Been Loving You  The Song Remains the Same\n",
       "7  No Quarter                  The Song Remains the Same\n",
       "8  The Song Remains the Same   The Song Remains the Same\n",
       "9  The Rain Song               The Song Remains the Same\n",
       "10 The Ocean                   The Song Remains the Same\n",
       "11 Dazed and Confused          The Song Remains the Same\n",
       "12 Stairway to Heaven          The Song Remains the Same\n",
       "13 Moby Dick                   The Song Remains the Same\n",
       "14 Heartbreaker                The Song Remains the Same\n",
       "15 Whole Lotta Love            The Song Remains the Same"
      ]
     },
     "metadata": {},
     "output_type": "display_data"
    }
   ],
   "source": [
    "# Return songs in definitive that are not in complete\n",
    "definitive %>% \n",
    "  anti_join(complete)"
   ]
  },
  {
   "cell_type": "code",
   "execution_count": 11,
   "metadata": {},
   "outputs": [
    {
     "name": "stderr",
     "output_type": "stream",
     "text": [
      "Joining, by = c(\"song\", \"album\")\n"
     ]
    },
    {
     "data": {
      "text/html": [
       "<table>\n",
       "<thead><tr><th scope=col>song</th><th scope=col>album</th></tr></thead>\n",
       "<tbody>\n",
       "</tbody>\n",
       "</table>\n"
      ],
      "text/latex": [
       "\\begin{tabular}{r|ll}\n",
       " song & album\\\\\n",
       "\\hline\n",
       "\\end{tabular}\n"
      ],
      "text/markdown": [
       "\n",
       "song | album | \n",
       "||\n",
       "\n",
       "\n"
      ],
      "text/plain": [
       "     song album"
      ]
     },
     "metadata": {},
     "output_type": "display_data"
    }
   ],
   "source": [
    "# Return songs in complete that are not in definitive\n",
    "complete %>% \n",
    "  anti_join(definitive)"
   ]
  },
  {
   "cell_type": "code",
   "execution_count": 2,
   "metadata": {},
   "outputs": [
    {
     "ename": "ERROR",
     "evalue": "Error in parse(text = x, srcfile = src): <text>:1:12: unerwartetes Symbol\n1: comparison of\n               ^\n",
     "output_type": "error",
     "traceback": [
      "Error in parse(text = x, srcfile = src): <text>:1:12: unerwartetes Symbol\n1: comparison of\n               ^\nTraceback:\n"
     ]
    }
   ],
   "source": [
    "comparison of two dataset \n",
    "setequal()\n",
    "identical()"
   ]
  },
  {
   "cell_type": "markdown",
   "metadata": {},
   "source": [
    "`definitive` and `complete` contain the songs that appear in competing Led Zeppelin anthologies: *The Definitive Collection* and *The Complete Studio Recordings*, respectively.\n",
    "\n",
    "Both anthologies claim to contain the complete studio recordings of Led Zeppelin, but do the anthologies contain the same exact songs?"
   ]
  },
  {
   "cell_type": "code",
   "execution_count": 3,
   "metadata": {},
   "outputs": [
    {
     "name": "stderr",
     "output_type": "stream",
     "text": [
      "\n",
      "Attaching package: 'dplyr'\n",
      "\n",
      "The following objects are masked from 'package:stats':\n",
      "\n",
      "    filter, lag\n",
      "\n",
      "The following objects are masked from 'package:base':\n",
      "\n",
      "    intersect, setdiff, setequal, union\n",
      "\n"
     ]
    }
   ],
   "source": [
    "library(dplyr)\n",
    "library(readr)"
   ]
  },
  {
   "cell_type": "code",
   "execution_count": 5,
   "metadata": {},
   "outputs": [
    {
     "name": "stderr",
     "output_type": "stream",
     "text": [
      "Parsed with column specification:\n",
      "cols(\n",
      "  song = col_character(),\n",
      "  album = col_character()\n",
      ")\n",
      "Parsed with column specification:\n",
      "cols(\n",
      "  song = col_character(),\n",
      "  album = col_character()\n",
      ")\n"
     ]
    }
   ],
   "source": [
    "definitive <- read_csv(\"definitive.csv\")\n",
    "complete <- read_csv(\"complete.csv\")"
   ]
  },
  {
   "cell_type": "code",
   "execution_count": 6,
   "metadata": {},
   "outputs": [
    {
     "data": {
      "text/html": [
       "FALSE"
      ],
      "text/latex": [
       "FALSE"
      ],
      "text/markdown": [
       "FALSE"
      ],
      "text/plain": [
       "[1] FALSE"
      ]
     },
     "metadata": {},
     "output_type": "display_data"
    }
   ],
   "source": [
    "# Check if same order: definitive and complete\n",
    "identical(definitive, complete)"
   ]
  },
  {
   "cell_type": "code",
   "execution_count": 7,
   "metadata": {},
   "outputs": [
    {
     "data": {
      "text/plain": [
       "FALSE: Different number of rows"
      ]
     },
     "metadata": {},
     "output_type": "display_data"
    }
   ],
   "source": [
    "# Check if any order: definitive and complete\n",
    "setequal(definitive, complete)"
   ]
  },
  {
   "cell_type": "code",
   "execution_count": 8,
   "metadata": {},
   "outputs": [
    {
     "data": {
      "text/html": [
       "<table>\n",
       "<thead><tr><th scope=col>song</th><th scope=col>album</th></tr></thead>\n",
       "<tbody>\n",
       "\t<tr><td>Rock and Roll              </td><td>The Song Remains the Same  </td></tr>\n",
       "\t<tr><td>Celebration Day            </td><td>The Song Remains the Same  </td></tr>\n",
       "\t<tr><td>Black Dog                  </td><td>The Song Remains the Same  </td></tr>\n",
       "\t<tr><td>Over the Hills and Far Away</td><td>The Song Remains the Same  </td></tr>\n",
       "\t<tr><td>Misty Mountain Hop         </td><td>The Song Remains the Same  </td></tr>\n",
       "\t<tr><td>Since I've Been Loving You </td><td>The Song Remains the Same  </td></tr>\n",
       "\t<tr><td>No Quarter                 </td><td>The Song Remains the Same  </td></tr>\n",
       "\t<tr><td>The Song Remains the Same  </td><td>The Song Remains the Same  </td></tr>\n",
       "\t<tr><td>The Rain Song              </td><td>The Song Remains the Same  </td></tr>\n",
       "\t<tr><td>The Ocean                  </td><td>The Song Remains the Same  </td></tr>\n",
       "\t<tr><td>Dazed and Confused         </td><td>The Song Remains the Same  </td></tr>\n",
       "\t<tr><td>Stairway to Heaven         </td><td>The Song Remains the Same  </td></tr>\n",
       "\t<tr><td>Moby Dick                  </td><td>The Song Remains the Same  </td></tr>\n",
       "\t<tr><td>Heartbreaker               </td><td>The Song Remains the Same  </td></tr>\n",
       "\t<tr><td>Whole Lotta Love           </td><td>The Song Remains the Same  </td></tr>\n",
       "</tbody>\n",
       "</table>\n"
      ],
      "text/latex": [
       "\\begin{tabular}{r|ll}\n",
       " song & album\\\\\n",
       "\\hline\n",
       "\t Rock and Roll               & The Song Remains the Same  \\\\\n",
       "\t Celebration Day             & The Song Remains the Same  \\\\\n",
       "\t Black Dog                   & The Song Remains the Same  \\\\\n",
       "\t Over the Hills and Far Away & The Song Remains the Same  \\\\\n",
       "\t Misty Mountain Hop          & The Song Remains the Same  \\\\\n",
       "\t Since I've Been Loving You  & The Song Remains the Same  \\\\\n",
       "\t No Quarter                  & The Song Remains the Same  \\\\\n",
       "\t The Song Remains the Same   & The Song Remains the Same  \\\\\n",
       "\t The Rain Song               & The Song Remains the Same  \\\\\n",
       "\t The Ocean                   & The Song Remains the Same  \\\\\n",
       "\t Dazed and Confused          & The Song Remains the Same  \\\\\n",
       "\t Stairway to Heaven          & The Song Remains the Same  \\\\\n",
       "\t Moby Dick                   & The Song Remains the Same  \\\\\n",
       "\t Heartbreaker                & The Song Remains the Same  \\\\\n",
       "\t Whole Lotta Love            & The Song Remains the Same  \\\\\n",
       "\\end{tabular}\n"
      ],
      "text/markdown": [
       "\n",
       "song | album | \n",
       "|---|---|---|---|---|---|---|---|---|---|---|---|---|---|---|\n",
       "| Rock and Roll               | The Song Remains the Same   | \n",
       "| Celebration Day             | The Song Remains the Same   | \n",
       "| Black Dog                   | The Song Remains the Same   | \n",
       "| Over the Hills and Far Away | The Song Remains the Same   | \n",
       "| Misty Mountain Hop          | The Song Remains the Same   | \n",
       "| Since I've Been Loving You  | The Song Remains the Same   | \n",
       "| No Quarter                  | The Song Remains the Same   | \n",
       "| The Song Remains the Same   | The Song Remains the Same   | \n",
       "| The Rain Song               | The Song Remains the Same   | \n",
       "| The Ocean                   | The Song Remains the Same   | \n",
       "| Dazed and Confused          | The Song Remains the Same   | \n",
       "| Stairway to Heaven          | The Song Remains the Same   | \n",
       "| Moby Dick                   | The Song Remains the Same   | \n",
       "| Heartbreaker                | The Song Remains the Same   | \n",
       "| Whole Lotta Love            | The Song Remains the Same   | \n",
       "\n",
       "\n"
      ],
      "text/plain": [
       "   song                        album                    \n",
       "1  Rock and Roll               The Song Remains the Same\n",
       "2  Celebration Day             The Song Remains the Same\n",
       "3  Black Dog                   The Song Remains the Same\n",
       "4  Over the Hills and Far Away The Song Remains the Same\n",
       "5  Misty Mountain Hop          The Song Remains the Same\n",
       "6  Since I've Been Loving You  The Song Remains the Same\n",
       "7  No Quarter                  The Song Remains the Same\n",
       "8  The Song Remains the Same   The Song Remains the Same\n",
       "9  The Rain Song               The Song Remains the Same\n",
       "10 The Ocean                   The Song Remains the Same\n",
       "11 Dazed and Confused          The Song Remains the Same\n",
       "12 Stairway to Heaven          The Song Remains the Same\n",
       "13 Moby Dick                   The Song Remains the Same\n",
       "14 Heartbreaker                The Song Remains the Same\n",
       "15 Whole Lotta Love            The Song Remains the Same"
      ]
     },
     "metadata": {},
     "output_type": "display_data"
    }
   ],
   "source": [
    "# Songs in definitive but not complete\n",
    "setdiff(definitive, complete)"
   ]
  },
  {
   "cell_type": "code",
   "execution_count": 9,
   "metadata": {},
   "outputs": [
    {
     "data": {
      "text/html": [
       "<table>\n",
       "<thead><tr><th scope=col>song</th><th scope=col>album</th></tr></thead>\n",
       "<tbody>\n",
       "</tbody>\n",
       "</table>\n"
      ],
      "text/latex": [
       "\\begin{tabular}{r|ll}\n",
       " song & album\\\\\n",
       "\\hline\n",
       "\\end{tabular}\n"
      ],
      "text/markdown": [
       "\n",
       "song | album | \n",
       "||\n",
       "\n",
       "\n"
      ],
      "text/plain": [
       "     song album"
      ]
     },
     "metadata": {},
     "output_type": "display_data"
    }
   ],
   "source": [
    "# Songs in complete but not definitive\n",
    "setdiff(complete, definitive)"
   ]
  },
  {
   "cell_type": "markdown",
   "metadata": {},
   "source": [
    "# Binds\n",
    " * `bind_rows()`\n",
    " * `bind_cols()`\n",
    " \n",
    "<br>faster than the base\n",
    "<br>can handle lists of dataframe\n",
    "<br>return tibble"
   ]
  },
  {
   "cell_type": "code",
   "execution_count": 63,
   "metadata": {},
   "outputs": [
    {
     "name": "stderr",
     "output_type": "stream",
     "text": [
      "Warning message:\n",
      "\"5 parsing failures.\n",
      "row # A tibble: 5 x 4 col     row   col expected       actual expected   <int> <int> <chr>          <chr>  actual 1     1    NA date like M:%S 1:30   row 2     2    NA date like M:%S 2:43   col 3     3    NA date like M:%S 3:30   expected 4     4    NA date like M:%S 6:53   actual 5     5    NA date like M:%S 4:15  \n",
      "\""
     ]
    }
   ],
   "source": [
    "library(lubridate)\n",
    "side_one <- read_csv(\"side_one.csv\", col_types = list(col_character(),\n",
    "                                                      col_character()))\n",
    "side_two <- read_csv(\"side_two.csv\", col_types = list(col_character(),\n",
    "                                                      col_character()))\n",
    "side_one <- side_one %>% \n",
    "    mutate(length = parse_datetime(length, format = \"M:%S\"))"
   ]
  },
  {
   "cell_type": "code",
   "execution_count": 62,
   "metadata": {},
   "outputs": [
    {
     "data": {
      "text/html": [
       "<pre class=language-r><code>function (x, format = \"\", na = c(\"\", \"NA\"), locale = default_locale()) \n",
       "{\n",
       "<span style=white-space:pre-wrap>    parse_vector(x, col_datetime(format), na = na, locale = locale)</span>\n",
       "}</code></pre>"
      ],
      "text/latex": [
       "\\begin{minted}{r}\n",
       "function (x, format = \"\", na = c(\"\", \"NA\"), locale = default\\_locale()) \n",
       "\\{\n",
       "    parse\\_vector(x, col\\_datetime(format), na = na, locale = locale)\n",
       "\\}\n",
       "\\end{minted}"
      ],
      "text/markdown": [
       "```r\n",
       "function (x, format = \"\", na = c(\"\", \"NA\"), locale = default_locale()) \n",
       "{\n",
       "    parse_vector(x, col_datetime(format), na = na, locale = locale)\n",
       "}\n",
       "```"
      ],
      "text/plain": [
       "function (x, format = \"\", na = c(\"\", \"NA\"), locale = default_locale()) \n",
       "{\n",
       "    parse_vector(x, col_datetime(format), na = na, locale = locale)\n",
       "}\n",
       "<bytecode: 0x0000000010a01b90>\n",
       "<environment: namespace:readr>"
      ]
     },
     "metadata": {},
     "output_type": "display_data"
    }
   ],
   "source": [
    "parse_datetime"
   ]
  },
  {
   "cell_type": "code",
   "execution_count": 53,
   "metadata": {},
   "outputs": [
    {
     "name": "stdout",
     "output_type": "stream",
     "text": [
      "Observations: 5\n",
      "Variables: 2\n",
      "$ song   <chr> \"Speak to Me\", \"Breathe\", \"On the Run\", \"Time\", \"The Great G...\n",
      "$ length <S4: Period> 1M 30S, 2M 43S, 3M 30S, 6M 53S, 4M 15S\n"
     ]
    }
   ],
   "source": [
    "glimpse(side_one)# Bind side_one and side_two into a single dataset"
   ]
  },
  {
   "cell_type": "code",
   "execution_count": 26,
   "metadata": {},
   "outputs": [
    {
     "data": {
      "text/html": [
       "<table>\n",
       "<thead><tr><th scope=col>song</th><th scope=col>length</th></tr></thead>\n",
       "<tbody>\n",
       "\t<tr><td>Speak to Me             </td><td>01:30:00                </td></tr>\n",
       "\t<tr><td>Breathe                 </td><td>02:43:00                </td></tr>\n",
       "\t<tr><td>On the Run              </td><td>03:30:00                </td></tr>\n",
       "\t<tr><td>Time                    </td><td>06:53:00                </td></tr>\n",
       "\t<tr><td>The Great Gig in the Sky</td><td>04:15:00                </td></tr>\n",
       "\t<tr><td>Money                   </td><td>06:30:00                </td></tr>\n",
       "\t<tr><td>Us and Them             </td><td>07:51:00                </td></tr>\n",
       "\t<tr><td>Any Colour You Like     </td><td>03:24:00                </td></tr>\n",
       "\t<tr><td>Brain Damage            </td><td>03:50:00                </td></tr>\n",
       "\t<tr><td>Eclipse                 </td><td>02:03:00                </td></tr>\n",
       "</tbody>\n",
       "</table>\n"
      ],
      "text/latex": [
       "\\begin{tabular}{r|ll}\n",
       " song & length\\\\\n",
       "\\hline\n",
       "\t Speak to Me              & 01:30:00                \\\\\n",
       "\t Breathe                  & 02:43:00                \\\\\n",
       "\t On the Run               & 03:30:00                \\\\\n",
       "\t Time                     & 06:53:00                \\\\\n",
       "\t The Great Gig in the Sky & 04:15:00                \\\\\n",
       "\t Money                    & 06:30:00                \\\\\n",
       "\t Us and Them              & 07:51:00                \\\\\n",
       "\t Any Colour You Like      & 03:24:00                \\\\\n",
       "\t Brain Damage             & 03:50:00                \\\\\n",
       "\t Eclipse                  & 02:03:00                \\\\\n",
       "\\end{tabular}\n"
      ],
      "text/markdown": [
       "\n",
       "song | length | \n",
       "|---|---|---|---|---|---|---|---|---|---|\n",
       "| Speak to Me              | 01:30:00                 | \n",
       "| Breathe                  | 02:43:00                 | \n",
       "| On the Run               | 03:30:00                 | \n",
       "| Time                     | 06:53:00                 | \n",
       "| The Great Gig in the Sky | 04:15:00                 | \n",
       "| Money                    | 06:30:00                 | \n",
       "| Us and Them              | 07:51:00                 | \n",
       "| Any Colour You Like      | 03:24:00                 | \n",
       "| Brain Damage             | 03:50:00                 | \n",
       "| Eclipse                  | 02:03:00                 | \n",
       "\n",
       "\n"
      ],
      "text/plain": [
       "   song                     length  \n",
       "1  Speak to Me              01:30:00\n",
       "2  Breathe                  02:43:00\n",
       "3  On the Run               03:30:00\n",
       "4  Time                     06:53:00\n",
       "5  The Great Gig in the Sky 04:15:00\n",
       "6  Money                    06:30:00\n",
       "7  Us and Them              07:51:00\n",
       "8  Any Colour You Like      03:24:00\n",
       "9  Brain Damage             03:50:00\n",
       "10 Eclipse                  02:03:00"
      ]
     },
     "metadata": {},
     "output_type": "display_data"
    }
   ],
   "source": [
    "# Bind side_one and side_two into a single dataset\n",
    "side_one %>% \n",
    "  bind_rows(side_two)"
   ]
  },
  {
   "cell_type": "code",
   "execution_count": 18,
   "metadata": {},
   "outputs": [],
   "source": []
  },
  {
   "cell_type": "code",
   "execution_count": null,
   "metadata": {},
   "outputs": [],
   "source": []
  }
 ],
 "metadata": {
  "kernelspec": {
   "display_name": "R",
   "language": "R",
   "name": "ir"
  },
  "language_info": {
   "codemirror_mode": "r",
   "file_extension": ".r",
   "mimetype": "text/x-r-source",
   "name": "R",
   "pygments_lexer": "r",
   "version": "3.5.1"
  }
 },
 "nbformat": 4,
 "nbformat_minor": 2
}

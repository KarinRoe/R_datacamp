{
 "cells": [
  {
   "cell_type": "markdown",
   "metadata": {},
   "source": [
    "## read.csv\n",
    "\n",
    "To list the files in the working directory type dir().\n",
    "read.csv to read csv files into R"
   ]
  },
  {
   "cell_type": "code",
   "execution_count": 1,
   "metadata": {},
   "outputs": [
    {
     "name": "stdout",
     "output_type": "stream",
     "text": [
      "'data.frame':\t1086597 obs. of  10 variables:\n",
      " $ Id             : num  1 2 3 4 5 6 7 8 9 10 ...\n",
      " $ job            : Factor w/ 3461 levels \"\",\"1CFO  PM\",..: 2397 2795 4 2287 101 2793 2 1252 1310 2793 ...\n",
      " $ sector         : Factor w/ 91 levels \"\",\" PROJETOS E OBRAS\",..: 29 66 66 83 50 66 66 83 66 66 ...\n",
      " $ Month_salary   : Factor w/ 292270 levels \"\",\"0.000\",\"0.010\",..: 88432 126947 282478 28059 182370 189232 88176 51200 162889 165402 ...\n",
      " $ X13_salary     : num  0 0 0 0 0 ...\n",
      " $ eventual_salary: num  0 0 0 0 0 0 0 0 0 0 ...\n",
      " $ indemnity      : num  0 0 0 0 0 0 0 0 0 0 ...\n",
      " $ extra_salary   : num  73.8 651.8 626.8 0 0 ...\n",
      " $ discount_salary: num  0 0 0 0 0 0 0 0 0 0 ...\n",
      " $ total_salary   : num  1929 2266 6933 10568 3562 ...\n"
     ]
    }
   ],
   "source": [
    "salary <- read.csv(\"monthly_salary_brazil.csv\")\n",
    "str(salary)"
   ]
  },
  {
   "cell_type": "code",
   "execution_count": 2,
   "metadata": {},
   "outputs": [
    {
     "name": "stdout",
     "output_type": "stream",
     "text": [
      "'data.frame':\t1086597 obs. of  10 variables:\n",
      " $ Id             : num  1 2 3 4 5 6 7 8 9 10 ...\n",
      " $ job            : chr  \"OFICIAL ADMINISTRATIVO\" \"SD 2C PM\" \"1TEN  PM\" \"MAJ   PM\" ...\n",
      " $ sector         : chr  \"DETRAN\" \"PM\" \"PM\" \"SPPREV\" ...\n",
      " $ Month_salary   : chr  \"2315.810\" \"3034.050\" \"8990.980\" \"13591.020\" ...\n",
      " $ X13_salary     : num  0 0 0 0 0 ...\n",
      " $ eventual_salary: num  0 0 0 0 0 0 0 0 0 0 ...\n",
      " $ indemnity      : num  0 0 0 0 0 0 0 0 0 0 ...\n",
      " $ extra_salary   : num  73.8 651.8 626.8 0 0 ...\n",
      " $ discount_salary: num  0 0 0 0 0 0 0 0 0 0 ...\n",
      " $ total_salary   : num  1929 2266 6933 10568 3562 ...\n"
     ]
    }
   ],
   "source": [
    "salary2 <- read.csv(\"monthly_salary_brazil.csv\", stringsAsFactors = FALSE)\n",
    "str(salary2)"
   ]
  },
  {
   "cell_type": "markdown",
   "metadata": {},
   "source": [
    "## read.delim\n",
    "\n",
    "Aside from .csv files, there are also the .txt files which are basically text files. You can import these functions with read.delim(). By default, it sets the sep argument to \"\\t\" (fields in a record are delimited by tabs) and the header argument to TRUE (the first row contains the field names). \n",
    "\n",
    "## read.table\n",
    "\n",
    "If you're dealing with more exotic flat file formats, you'll want to use read.table(). It's the most basic importing function; you can specify tons of different arguments in this function. Unlike read.csv() and read.delim(), the header argument defaults to FALSE and the sep argument is \"\" by default.\n",
    "\n",
    "If the file is in a folder in your working directory use file.path(\"data\", \"hotdogs.txt\")\n",
    "\n",
    "which.min(), returns the index the smallest value in a vector.\n",
    "which.max(), returns the index the highest value in a vector.\n",
    "\n",
    "## Column classes\n",
    "\n",
    "sets the classes when loading in: \n",
    "colClasses = c(\"character\", \"numeric\", \"logical\")\n",
    "\n",
    "If a column is set to \"NULL\" in the colClasses vector, this column will be skipped and will not be loaded into the data frame.\n",
    "\n",
    "## read.csv2 and read.delim2\n",
    "\n",
    "are for files form countries who use \",\" to seperate numbers instead of \".\"\n",
    "\n",
    "# readr package\n",
    "\n",
    "Files loaded with readr package are in tibbel format\n",
    "\n",
    "read_tsv() to easily read in TSV files. TSV is short for tab-separated values."
   ]
  },
  {
   "cell_type": "code",
   "execution_count": 4,
   "metadata": {},
   "outputs": [
    {
     "name": "stderr",
     "output_type": "stream",
     "text": [
      "Parsed with column specification:\n",
      "cols(\n",
      "  Id = col_integer(),\n",
      "  job = col_character(),\n",
      "  sector = col_character(),\n",
      "  Month_salary = col_character(),\n",
      "  `13_salary` = col_double(),\n",
      "  eventual_salary = col_double(),\n",
      "  indemnity = col_double(),\n",
      "  extra_salary = col_double(),\n",
      "  discount_salary = col_double(),\n",
      "  total_salary = col_double()\n",
      ")\n",
      "Warning message in rbind(names(probs), probs_f):\n",
      "\"number of columns of result is not a multiple of vector length (arg 1)\"Warning message:\n",
      "\"919 parsing failures.\n",
      "row # A tibble: 5 x 5 col     row col   expected   actual     file                        expected   <int> <chr> <chr>      <chr>      <chr>                       actual 1   845 <NA>  10 columns 11 columns 'monthly_salary_brazil.csv' file 2   847 <NA>  10 columns 11 columns 'monthly_salary_brazil.csv' row 3  1688 <NA>  10 columns 11 columns 'monthly_salary_brazil.csv' col 4  2311 <NA>  10 columns 11 columns 'monthly_salary_brazil.csv' expected 5  3668 <NA>  10 columns 11 columns 'monthly_salary_brazil.csv'\n",
      "... ................. ... ............................................................... ........ ............................................................... ...... ............................................................... .... ............................................................... ... ............................................................... ... ............................................................... ........ ...............................................................\n",
      "See problems(...) for more details.\n",
      "\""
     ]
    },
    {
     "data": {
      "text/html": [
       "<table>\n",
       "<thead><tr><th scope=col>Id</th><th scope=col>job</th><th scope=col>sector</th><th scope=col>Month_salary</th><th scope=col>13_salary</th><th scope=col>eventual_salary</th><th scope=col>indemnity</th><th scope=col>extra_salary</th><th scope=col>discount_salary</th><th scope=col>total_salary</th></tr></thead>\n",
       "<tbody>\n",
       "\t<tr><td>1                        </td><td>OFICIAL ADMINISTRATIVO   </td><td>DETRAN                   </td><td>2315.810                 </td><td>0                        </td><td>0                        </td><td>0                        </td><td> 73.85                   </td><td>0                        </td><td> 1929.34                 </td></tr>\n",
       "\t<tr><td>2                        </td><td>SD 2C PM                 </td><td>PM                       </td><td>3034.050                 </td><td>0                        </td><td>0                        </td><td>0                        </td><td>651.82                   </td><td>0                        </td><td> 2265.96                 </td></tr>\n",
       "\t<tr><td>3                        </td><td>1TEN  PM                 </td><td>PM                       </td><td>8990.980                 </td><td>0                        </td><td>0                        </td><td>0                        </td><td>626.75                   </td><td>0                        </td><td> 6933.04                 </td></tr>\n",
       "\t<tr><td>4                        </td><td>MAJ   PM                 </td><td>SPPREV                   </td><td>13591.020                </td><td>0                        </td><td>0                        </td><td>0                        </td><td>  0.00                   </td><td>0                        </td><td>10568.36                 </td></tr>\n",
       "\t<tr><td>5                        </td><td>AG.TEC. DE ASSIT. A SAUDE</td><td>HCFMUSP                  </td><td>4203.670                 </td><td>0                        </td><td>0                        </td><td>0                        </td><td>  0.00                   </td><td>0                        </td><td> 3561.88                 </td></tr>\n",
       "\t<tr><td>6                        </td><td>SD 1C PM                 </td><td>PM                       </td><td>4373.690                 </td><td>0                        </td><td>0                        </td><td>0                        </td><td>451.26                   </td><td>0                        </td><td> 4152.98                 </td></tr>\n",
       "</tbody>\n",
       "</table>\n"
      ],
      "text/latex": [
       "\\begin{tabular}{r|llllllllll}\n",
       " Id & job & sector & Month\\_salary & 13\\_salary & eventual\\_salary & indemnity & extra\\_salary & discount\\_salary & total\\_salary\\\\\n",
       "\\hline\n",
       "\t 1                         & OFICIAL ADMINISTRATIVO    & DETRAN                    & 2315.810                  & 0                         & 0                         & 0                         &  73.85                    & 0                         &  1929.34                 \\\\\n",
       "\t 2                         & SD 2C PM                  & PM                        & 3034.050                  & 0                         & 0                         & 0                         & 651.82                    & 0                         &  2265.96                 \\\\\n",
       "\t 3                         & 1TEN  PM                  & PM                        & 8990.980                  & 0                         & 0                         & 0                         & 626.75                    & 0                         &  6933.04                 \\\\\n",
       "\t 4                         & MAJ   PM                  & SPPREV                    & 13591.020                 & 0                         & 0                         & 0                         &   0.00                    & 0                         & 10568.36                 \\\\\n",
       "\t 5                         & AG.TEC. DE ASSIT. A SAUDE & HCFMUSP                   & 4203.670                  & 0                         & 0                         & 0                         &   0.00                    & 0                         &  3561.88                 \\\\\n",
       "\t 6                         & SD 1C PM                  & PM                        & 4373.690                  & 0                         & 0                         & 0                         & 451.26                    & 0                         &  4152.98                 \\\\\n",
       "\\end{tabular}\n"
      ],
      "text/markdown": [
       "\n",
       "Id | job | sector | Month_salary | 13_salary | eventual_salary | indemnity | extra_salary | discount_salary | total_salary | \n",
       "|---|---|---|---|---|---|\n",
       "| 1                         | OFICIAL ADMINISTRATIVO    | DETRAN                    | 2315.810                  | 0                         | 0                         | 0                         |  73.85                    | 0                         |  1929.34                  | \n",
       "| 2                         | SD 2C PM                  | PM                        | 3034.050                  | 0                         | 0                         | 0                         | 651.82                    | 0                         |  2265.96                  | \n",
       "| 3                         | 1TEN  PM                  | PM                        | 8990.980                  | 0                         | 0                         | 0                         | 626.75                    | 0                         |  6933.04                  | \n",
       "| 4                         | MAJ   PM                  | SPPREV                    | 13591.020                 | 0                         | 0                         | 0                         |   0.00                    | 0                         | 10568.36                  | \n",
       "| 5                         | AG.TEC. DE ASSIT. A SAUDE | HCFMUSP                   | 4203.670                  | 0                         | 0                         | 0                         |   0.00                    | 0                         |  3561.88                  | \n",
       "| 6                         | SD 1C PM                  | PM                        | 4373.690                  | 0                         | 0                         | 0                         | 451.26                    | 0                         |  4152.98                  | \n",
       "\n",
       "\n"
      ],
      "text/plain": [
       "  Id job                       sector  Month_salary 13_salary eventual_salary\n",
       "1 1  OFICIAL ADMINISTRATIVO    DETRAN  2315.810     0         0              \n",
       "2 2  SD 2C PM                  PM      3034.050     0         0              \n",
       "3 3  1TEN  PM                  PM      8990.980     0         0              \n",
       "4 4  MAJ   PM                  SPPREV  13591.020    0         0              \n",
       "5 5  AG.TEC. DE ASSIT. A SAUDE HCFMUSP 4203.670     0         0              \n",
       "6 6  SD 1C PM                  PM      4373.690     0         0              \n",
       "  indemnity extra_salary discount_salary total_salary\n",
       "1 0          73.85       0                1929.34    \n",
       "2 0         651.82       0                2265.96    \n",
       "3 0         626.75       0                6933.04    \n",
       "4 0           0.00       0               10568.36    \n",
       "5 0           0.00       0                3561.88    \n",
       "6 0         451.26       0                4152.98    "
      ]
     },
     "metadata": {},
     "output_type": "display_data"
    }
   ],
   "source": [
    "library(readr)\n",
    "head(read_csv(\"monthly_salary_brazil.csv\"))"
   ]
  },
  {
   "cell_type": "markdown",
   "metadata": {},
   "source": [
    "## read_delim\n",
    "\n",
    "read_delim() takes two mandatory arguments:\n",
    "\n",
    "    file: the file that contains the data\n",
    "    delim: the character that separates the values in the data file\n",
    "\n",
    "\n",
    "## skip and n_max\n",
    "\n",
    "Through skip and n_max you can control which part of your flat file you're actually importing into R.\n",
    "\n",
    "    skip specifies the number of lines you're ignoring in the flat file before actually starting to import data.\n",
    "    n_max specifies the number of lines you're actually importing.\n",
    "\n",
    "Say for example you have a CSV file with 20 lines, and set skip = 2 and n_max = 3, you're only reading in lines 3, 4 and 5 of the file.\n",
    "Watch out: Once you skip some lines, you also skip the first line that can contain column names!\n",
    "\n",
    "## col_types\n",
    "\n",
    "You can also specify which types the columns in your imported data frame should have. You can do this with col_types. If set to NULL, the default, functions from the readr package will try to find the correct types themselves. You can manually set the types with a string, where each character denotes the class of the column: character, double, integer and logical. _ skips the column as a whole.\n",
    "\n",
    "## col_types with collectors\n",
    "\n",
    "Another way of setting the types of the imported columns is using collectors. Collector functions can be passed in a list() to the col_types argument of read_ functions to tell them how to interpret values in a column.\n",
    "\n",
    "For a complete list of collector functions, you can take a look at the collector documentation. For this exercise you will need two collector functions:\n",
    "\n",
    "    col_integer(): the column should be interpreted as an integer.\n",
    "    col_factor(levels, ordered = FALSE): the column should be interpreted as a factor with levels.\n",
    "\n",
    "hotdogs_factor <- read_tsv(\"hotdogs.txt\",\n",
    "                           col_names = c(\"type\", \"calories\", \"sodium\"),\n",
    "                           col_types = list(fac, int, int))\n",
    "                           \n",
    "# data.table\n",
    "\n",
    "## fread()\n",
    "fread is similar than read.table, but much faster.\n",
    "\n",
    "\n",
    "drop and select, to drop or select variables of interest.\n",
    "\n",
    "Suppose you have a dataset that contains 5 variables and you want to keep the first and fifth variable, named \"a\" and \"e\". \n",
    "\n",
    "  fread(\"path/to/file.txt\", drop = 2:4)\n",
    "  fread(\"path/to/file.txt\", select = c(1, 5))\n",
    "  fread(\"path/to/file.txt\", drop = c(\"b\", \"c\", \"d\"))\n",
    "  fread(\"path/to/file.txt\", select = c(\"a\", \"e\"))\n",
    "\n",
    "# readxl package\n",
    "\n",
    "Before you can start importing from Excel, you should find out which sheets are available in the workbook. You can use the excel_sheets() function for this.\n",
    "\n",
    "Now that you know the names of the sheets in the Excel file you want to import, it is time to import those sheets into R. You can do this with the read_excel() function. Have a look at this recipe:\n",
    "\n",
    "  data <- read_excel(\"data.xlsx\", sheet = \"my_sheet\")\n",
    "\n",
    "This call simply imports the sheet with the name \"my_sheet\" from the \"data.xlsx\" file. You can also pass a number to the sheet argument; this will cause read_excel() to import the sheet with the given sheet number. sheet = 1 will import the first sheet, sheet = 2 will import the second sheet, and so on.\n",
    "\n",
    "## Reading a workbook\n",
    "\n",
    "Loading in every sheet manually and then merging them in a list can be quite tedius but it can be automated with lapply().\n",
    "\n",
    "Other packages working with gdata and xlconnect"
   ]
  }
 ],
 "metadata": {
  "kernelspec": {
   "display_name": "R",
   "language": "R",
   "name": "ir"
  },
  "language_info": {
   "codemirror_mode": "r",
   "file_extension": ".r",
   "mimetype": "text/x-r-source",
   "name": "R",
   "pygments_lexer": "r",
   "version": "3.5.1"
  }
 },
 "nbformat": 4,
 "nbformat_minor": 2
}

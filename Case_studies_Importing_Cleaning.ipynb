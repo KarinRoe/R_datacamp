{
 "cells": [
  {
   "cell_type": "markdown",
   "metadata": {},
   "source": [
    "# Case studies Sales"
   ]
  },
  {
   "cell_type": "code",
   "execution_count": 32,
   "metadata": {},
   "outputs": [],
   "source": [
    "# Import sales.csv: sales\n",
    "sales <- read.csv(\"sales.csv\", stringsAsFactors = FALSE)\n",
    "\n",
    "# import library\n",
    "library(dplyr)\n",
    "library(tidyr)\n",
    "library(ggplot2)\n",
    "\n",
    "# setting the graphic width and height for ggplot\n",
    "library(repr)\n",
    "options(repr.plot.width=6, repr.plot.height=4)"
   ]
  },
  {
   "cell_type": "markdown",
   "metadata": {},
   "source": [
    "Examining the data"
   ]
  },
  {
   "cell_type": "code",
   "execution_count": 33,
   "metadata": {},
   "outputs": [
    {
     "data": {
      "text/html": [
       "<ol class=list-inline>\n",
       "\t<li>5000</li>\n",
       "\t<li>46</li>\n",
       "</ol>\n"
      ],
      "text/latex": [
       "\\begin{enumerate*}\n",
       "\\item 5000\n",
       "\\item 46\n",
       "\\end{enumerate*}\n"
      ],
      "text/markdown": [
       "1. 5000\n",
       "2. 46\n",
       "\n",
       "\n"
      ],
      "text/plain": [
       "[1] 5000   46"
      ]
     },
     "metadata": {},
     "output_type": "display_data"
    }
   ],
   "source": [
    "dim(sales)"
   ]
  },
  {
   "cell_type": "code",
   "execution_count": 34,
   "metadata": {},
   "outputs": [
    {
     "data": {
      "text/html": [
       "<table>\n",
       "<thead><tr><th scope=col>X</th><th scope=col>event_id</th><th scope=col>primary_act_id</th><th scope=col>secondary_act_id</th><th scope=col>purch_party_lkup_id</th><th scope=col>event_name</th><th scope=col>primary_act_name</th><th scope=col>secondary_act_name</th><th scope=col>major_cat_name</th><th scope=col>minor_cat_name</th><th scope=col>...</th><th scope=col>edu_1st_indv_val</th><th scope=col>edu_2nd_indv_val</th><th scope=col>adults_in_hh_num</th><th scope=col>married_ind</th><th scope=col>child_present_ind</th><th scope=col>home_owner_ind</th><th scope=col>occpn_val</th><th scope=col>occpn_1st_val</th><th scope=col>occpn_2nd_val</th><th scope=col>dist_to_ven</th></tr></thead>\n",
       "<tbody>\n",
       "\t<tr><td>1                                                             </td><td>abcaf1adb99a935fc661                                          </td><td>43f0436b905bfa7c2eec                                          </td><td>b85143bf51323b72e53c                                          </td><td>7dfa56dd7d5956b17587                                          </td><td>Xfinity Center Mansfield Premier Parking: Florida Georgia Line</td><td>XFINITY Center Mansfield Premier Parking                      </td><td>NULL                                                          </td><td>MISC                                                          </td><td>PARKING                                                       </td><td>...                                                           </td><td>NA                                                            </td><td>NA                                                            </td><td>NA                                                            </td><td>NA                                                            </td><td>NA                                                            </td><td>NA                                                            </td><td>NA                                                            </td><td>NA                                                            </td><td>NA                                                            </td><td>NA                                                            </td></tr>\n",
       "\t<tr><td>2                                                             </td><td>6c56d7f08c95f2aa453c                                          </td><td>1a3e9aecd0617706a794                                          </td><td>f53529c5679ea6ca5a48                                          </td><td>4f9e6fc637eaf7b736c2                                          </td><td>Gorge Camping - dave matthews band - sept 3-7                 </td><td>Gorge Camping                                                 </td><td>Dave Matthews Band                                            </td><td>MISC                                                          </td><td>CAMPING                                                       </td><td>...                                                           </td><td>NA                                                            </td><td>NA                                                            </td><td>NA                                                            </td><td>NA                                                            </td><td>NA                                                            </td><td>NA                                                            </td><td>NA                                                            </td><td>NA                                                            </td><td>NA                                                            </td><td>59                                                            </td></tr>\n",
       "\t<tr><td>3                                                             </td><td>c7ab4524a121f9d687d2                                          </td><td>4b677c3f5bec71eec8d1                                          </td><td>b85143bf51323b72e53c                                          </td><td>6c2545703bd527a7144d                                          </td><td>Dodge Theatre Adams Street Parking - benise                   </td><td>Parking Event                                                 </td><td>NULL                                                          </td><td>MISC                                                          </td><td>PARKING                                                       </td><td>...                                                           </td><td>NA                                                            </td><td>NA                                                            </td><td>NA                                                            </td><td>NA                                                            </td><td>NA                                                            </td><td>NA                                                            </td><td>NA                                                            </td><td>NA                                                            </td><td>NA                                                            </td><td>NA                                                            </td></tr>\n",
       "\t<tr><td>4                                                             </td><td>394cb493f893be9b9ed1                                          </td><td>b1ccea01ad6ef8522796                                          </td><td>b85143bf51323b72e53c                                          </td><td>527d6b1eaffc69ddd882                                          </td><td>Gexa Energy Pavilion Vip Parking : kid rock with sheryl crow  </td><td>Gexa Energy Pavilion VIP Parking                              </td><td>NULL                                                          </td><td>MISC                                                          </td><td>PARKING                                                       </td><td>...                                                           </td><td>NA                                                            </td><td>NA                                                            </td><td>NA                                                            </td><td>NA                                                            </td><td>NA                                                            </td><td>NA                                                            </td><td>NA                                                            </td><td>NA                                                            </td><td>NA                                                            </td><td>NA                                                            </td></tr>\n",
       "\t<tr><td>5                                                             </td><td>55b5f67e618557929f48                                          </td><td>91c03a34b562436efa3c                                          </td><td>b85143bf51323b72e53c                                          </td><td>8bd62c394a35213bdf52                                          </td><td>Premier Parking - motley crue                                 </td><td>White River Amphitheatre Premier Parking                      </td><td>NULL                                                          </td><td>MISC                                                          </td><td>PARKING                                                       </td><td>...                                                           </td><td>NA                                                            </td><td>NA                                                            </td><td>NA                                                            </td><td>NA                                                            </td><td>NA                                                            </td><td>NA                                                            </td><td>NA                                                            </td><td>NA                                                            </td><td>NA                                                            </td><td>NA                                                            </td></tr>\n",
       "\t<tr><td>6                                                             </td><td>4f10fd8b9f550352bd56                                          </td><td>ac4b847b3fde66f2117e                                          </td><td>63814f3d63317f1b56c4                                          </td><td>3b3a628f83135acd0676                                          </td><td>Fast Lane Access: Journey                                     </td><td>Fast Lane Access                                              </td><td>Journey                                                       </td><td>MISC                                                          </td><td>SPECIAL ENTRY (UPSELL)                                        </td><td>...                                                           </td><td>NA                                                            </td><td>NA                                                            </td><td>NA                                                            </td><td>NA                                                            </td><td>NA                                                            </td><td>NA                                                            </td><td>NA                                                            </td><td>NA                                                            </td><td>NA                                                            </td><td>NA                                                            </td></tr>\n",
       "</tbody>\n",
       "</table>\n"
      ],
      "text/latex": [
       "\\begin{tabular}{r|llllllllllllllllllllllllllllllllllllllllllllll}\n",
       " X & event\\_id & primary\\_act\\_id & secondary\\_act\\_id & purch\\_party\\_lkup\\_id & event\\_name & primary\\_act\\_name & secondary\\_act\\_name & major\\_cat\\_name & minor\\_cat\\_name & ... & edu\\_1st\\_indv\\_val & edu\\_2nd\\_indv\\_val & adults\\_in\\_hh\\_num & married\\_ind & child\\_present\\_ind & home\\_owner\\_ind & occpn\\_val & occpn\\_1st\\_val & occpn\\_2nd\\_val & dist\\_to\\_ven\\\\\n",
       "\\hline\n",
       "\t 1                                                              & abcaf1adb99a935fc661                                           & 43f0436b905bfa7c2eec                                           & b85143bf51323b72e53c                                           & 7dfa56dd7d5956b17587                                           & Xfinity Center Mansfield Premier Parking: Florida Georgia Line & XFINITY Center Mansfield Premier Parking                       & NULL                                                           & MISC                                                           & PARKING                                                        & ...                                                            & NA                                                             & NA                                                             & NA                                                             & NA                                                             & NA                                                             & NA                                                             & NA                                                             & NA                                                             & NA                                                             & NA                                                            \\\\\n",
       "\t 2                                                              & 6c56d7f08c95f2aa453c                                           & 1a3e9aecd0617706a794                                           & f53529c5679ea6ca5a48                                           & 4f9e6fc637eaf7b736c2                                           & Gorge Camping - dave matthews band - sept 3-7                  & Gorge Camping                                                  & Dave Matthews Band                                             & MISC                                                           & CAMPING                                                        & ...                                                            & NA                                                             & NA                                                             & NA                                                             & NA                                                             & NA                                                             & NA                                                             & NA                                                             & NA                                                             & NA                                                             & 59                                                            \\\\\n",
       "\t 3                                                              & c7ab4524a121f9d687d2                                           & 4b677c3f5bec71eec8d1                                           & b85143bf51323b72e53c                                           & 6c2545703bd527a7144d                                           & Dodge Theatre Adams Street Parking - benise                    & Parking Event                                                  & NULL                                                           & MISC                                                           & PARKING                                                        & ...                                                            & NA                                                             & NA                                                             & NA                                                             & NA                                                             & NA                                                             & NA                                                             & NA                                                             & NA                                                             & NA                                                             & NA                                                            \\\\\n",
       "\t 4                                                              & 394cb493f893be9b9ed1                                           & b1ccea01ad6ef8522796                                           & b85143bf51323b72e53c                                           & 527d6b1eaffc69ddd882                                           & Gexa Energy Pavilion Vip Parking : kid rock with sheryl crow   & Gexa Energy Pavilion VIP Parking                               & NULL                                                           & MISC                                                           & PARKING                                                        & ...                                                            & NA                                                             & NA                                                             & NA                                                             & NA                                                             & NA                                                             & NA                                                             & NA                                                             & NA                                                             & NA                                                             & NA                                                            \\\\\n",
       "\t 5                                                              & 55b5f67e618557929f48                                           & 91c03a34b562436efa3c                                           & b85143bf51323b72e53c                                           & 8bd62c394a35213bdf52                                           & Premier Parking - motley crue                                  & White River Amphitheatre Premier Parking                       & NULL                                                           & MISC                                                           & PARKING                                                        & ...                                                            & NA                                                             & NA                                                             & NA                                                             & NA                                                             & NA                                                             & NA                                                             & NA                                                             & NA                                                             & NA                                                             & NA                                                            \\\\\n",
       "\t 6                                                              & 4f10fd8b9f550352bd56                                           & ac4b847b3fde66f2117e                                           & 63814f3d63317f1b56c4                                           & 3b3a628f83135acd0676                                           & Fast Lane Access: Journey                                      & Fast Lane Access                                               & Journey                                                        & MISC                                                           & SPECIAL ENTRY (UPSELL)                                         & ...                                                            & NA                                                             & NA                                                             & NA                                                             & NA                                                             & NA                                                             & NA                                                             & NA                                                             & NA                                                             & NA                                                             & NA                                                            \\\\\n",
       "\\end{tabular}\n"
      ],
      "text/markdown": [
       "\n",
       "X | event_id | primary_act_id | secondary_act_id | purch_party_lkup_id | event_name | primary_act_name | secondary_act_name | major_cat_name | minor_cat_name | ... | edu_1st_indv_val | edu_2nd_indv_val | adults_in_hh_num | married_ind | child_present_ind | home_owner_ind | occpn_val | occpn_1st_val | occpn_2nd_val | dist_to_ven | \n",
       "|---|---|---|---|---|---|\n",
       "| 1                                                              | abcaf1adb99a935fc661                                           | 43f0436b905bfa7c2eec                                           | b85143bf51323b72e53c                                           | 7dfa56dd7d5956b17587                                           | Xfinity Center Mansfield Premier Parking: Florida Georgia Line | XFINITY Center Mansfield Premier Parking                       | NULL                                                           | MISC                                                           | PARKING                                                        | ...                                                            | NA                                                             | NA                                                             | NA                                                             | NA                                                             | NA                                                             | NA                                                             | NA                                                             | NA                                                             | NA                                                             | NA                                                             | \n",
       "| 2                                                              | 6c56d7f08c95f2aa453c                                           | 1a3e9aecd0617706a794                                           | f53529c5679ea6ca5a48                                           | 4f9e6fc637eaf7b736c2                                           | Gorge Camping - dave matthews band - sept 3-7                  | Gorge Camping                                                  | Dave Matthews Band                                             | MISC                                                           | CAMPING                                                        | ...                                                            | NA                                                             | NA                                                             | NA                                                             | NA                                                             | NA                                                             | NA                                                             | NA                                                             | NA                                                             | NA                                                             | 59                                                             | \n",
       "| 3                                                              | c7ab4524a121f9d687d2                                           | 4b677c3f5bec71eec8d1                                           | b85143bf51323b72e53c                                           | 6c2545703bd527a7144d                                           | Dodge Theatre Adams Street Parking - benise                    | Parking Event                                                  | NULL                                                           | MISC                                                           | PARKING                                                        | ...                                                            | NA                                                             | NA                                                             | NA                                                             | NA                                                             | NA                                                             | NA                                                             | NA                                                             | NA                                                             | NA                                                             | NA                                                             | \n",
       "| 4                                                              | 394cb493f893be9b9ed1                                           | b1ccea01ad6ef8522796                                           | b85143bf51323b72e53c                                           | 527d6b1eaffc69ddd882                                           | Gexa Energy Pavilion Vip Parking : kid rock with sheryl crow   | Gexa Energy Pavilion VIP Parking                               | NULL                                                           | MISC                                                           | PARKING                                                        | ...                                                            | NA                                                             | NA                                                             | NA                                                             | NA                                                             | NA                                                             | NA                                                             | NA                                                             | NA                                                             | NA                                                             | NA                                                             | \n",
       "| 5                                                              | 55b5f67e618557929f48                                           | 91c03a34b562436efa3c                                           | b85143bf51323b72e53c                                           | 8bd62c394a35213bdf52                                           | Premier Parking - motley crue                                  | White River Amphitheatre Premier Parking                       | NULL                                                           | MISC                                                           | PARKING                                                        | ...                                                            | NA                                                             | NA                                                             | NA                                                             | NA                                                             | NA                                                             | NA                                                             | NA                                                             | NA                                                             | NA                                                             | NA                                                             | \n",
       "| 6                                                              | 4f10fd8b9f550352bd56                                           | ac4b847b3fde66f2117e                                           | 63814f3d63317f1b56c4                                           | 3b3a628f83135acd0676                                           | Fast Lane Access: Journey                                      | Fast Lane Access                                               | Journey                                                        | MISC                                                           | SPECIAL ENTRY (UPSELL)                                         | ...                                                            | NA                                                             | NA                                                             | NA                                                             | NA                                                             | NA                                                             | NA                                                             | NA                                                             | NA                                                             | NA                                                             | NA                                                             | \n",
       "\n",
       "\n"
      ],
      "text/plain": [
       "  X event_id             primary_act_id       secondary_act_id    \n",
       "1 1 abcaf1adb99a935fc661 43f0436b905bfa7c2eec b85143bf51323b72e53c\n",
       "2 2 6c56d7f08c95f2aa453c 1a3e9aecd0617706a794 f53529c5679ea6ca5a48\n",
       "3 3 c7ab4524a121f9d687d2 4b677c3f5bec71eec8d1 b85143bf51323b72e53c\n",
       "4 4 394cb493f893be9b9ed1 b1ccea01ad6ef8522796 b85143bf51323b72e53c\n",
       "5 5 55b5f67e618557929f48 91c03a34b562436efa3c b85143bf51323b72e53c\n",
       "6 6 4f10fd8b9f550352bd56 ac4b847b3fde66f2117e 63814f3d63317f1b56c4\n",
       "  purch_party_lkup_id \n",
       "1 7dfa56dd7d5956b17587\n",
       "2 4f9e6fc637eaf7b736c2\n",
       "3 6c2545703bd527a7144d\n",
       "4 527d6b1eaffc69ddd882\n",
       "5 8bd62c394a35213bdf52\n",
       "6 3b3a628f83135acd0676\n",
       "  event_name                                                    \n",
       "1 Xfinity Center Mansfield Premier Parking: Florida Georgia Line\n",
       "2 Gorge Camping - dave matthews band - sept 3-7                 \n",
       "3 Dodge Theatre Adams Street Parking - benise                   \n",
       "4 Gexa Energy Pavilion Vip Parking : kid rock with sheryl crow  \n",
       "5 Premier Parking - motley crue                                 \n",
       "6 Fast Lane Access: Journey                                     \n",
       "  primary_act_name                         secondary_act_name major_cat_name\n",
       "1 XFINITY Center Mansfield Premier Parking NULL               MISC          \n",
       "2 Gorge Camping                            Dave Matthews Band MISC          \n",
       "3 Parking Event                            NULL               MISC          \n",
       "4 Gexa Energy Pavilion VIP Parking         NULL               MISC          \n",
       "5 White River Amphitheatre Premier Parking NULL               MISC          \n",
       "6 Fast Lane Access                         Journey            MISC          \n",
       "  minor_cat_name         ... edu_1st_indv_val edu_2nd_indv_val adults_in_hh_num\n",
       "1 PARKING                ... NA               NA               NA              \n",
       "2 CAMPING                ... NA               NA               NA              \n",
       "3 PARKING                ... NA               NA               NA              \n",
       "4 PARKING                ... NA               NA               NA              \n",
       "5 PARKING                ... NA               NA               NA              \n",
       "6 SPECIAL ENTRY (UPSELL) ... NA               NA               NA              \n",
       "  married_ind child_present_ind home_owner_ind occpn_val occpn_1st_val\n",
       "1 NA          NA                NA             NA        NA           \n",
       "2 NA          NA                NA             NA        NA           \n",
       "3 NA          NA                NA             NA        NA           \n",
       "4 NA          NA                NA             NA        NA           \n",
       "5 NA          NA                NA             NA        NA           \n",
       "6 NA          NA                NA             NA        NA           \n",
       "  occpn_2nd_val dist_to_ven\n",
       "1 NA            NA         \n",
       "2 NA            59         \n",
       "3 NA            NA         \n",
       "4 NA            NA         \n",
       "5 NA            NA         \n",
       "6 NA            NA         "
      ]
     },
     "metadata": {},
     "output_type": "display_data"
    }
   ],
   "source": [
    "head(sales)"
   ]
  },
  {
   "cell_type": "code",
   "execution_count": 35,
   "metadata": {},
   "outputs": [
    {
     "data": {
      "text/html": [
       "<ol class=list-inline>\n",
       "\t<li>'X'</li>\n",
       "\t<li>'event_id'</li>\n",
       "\t<li>'primary_act_id'</li>\n",
       "\t<li>'secondary_act_id'</li>\n",
       "\t<li>'purch_party_lkup_id'</li>\n",
       "\t<li>'event_name'</li>\n",
       "\t<li>'primary_act_name'</li>\n",
       "\t<li>'secondary_act_name'</li>\n",
       "\t<li>'major_cat_name'</li>\n",
       "\t<li>'minor_cat_name'</li>\n",
       "\t<li>'la_event_type_cat'</li>\n",
       "\t<li>'event_disp_name'</li>\n",
       "\t<li>'ticket_text'</li>\n",
       "\t<li>'tickets_purchased_qty'</li>\n",
       "\t<li>'trans_face_val_amt'</li>\n",
       "\t<li>'delivery_type_cd'</li>\n",
       "\t<li>'event_date_time'</li>\n",
       "\t<li>'event_dt'</li>\n",
       "\t<li>'presale_dt'</li>\n",
       "\t<li>'onsale_dt'</li>\n",
       "\t<li>'sales_ord_create_dttm'</li>\n",
       "\t<li>'sales_ord_tran_dt'</li>\n",
       "\t<li>'print_dt'</li>\n",
       "\t<li>'timezn_nm'</li>\n",
       "\t<li>'venue_city'</li>\n",
       "\t<li>'venue_state'</li>\n",
       "\t<li>'venue_postal_cd_sgmt_1'</li>\n",
       "\t<li>'sales_platform_cd'</li>\n",
       "\t<li>'print_flg'</li>\n",
       "\t<li>'la_valid_tkt_event_flg'</li>\n",
       "\t<li>'fin_mkt_nm'</li>\n",
       "\t<li>'web_session_cookie_val'</li>\n",
       "\t<li>'gndr_cd'</li>\n",
       "\t<li>'age_yr'</li>\n",
       "\t<li>'income_amt'</li>\n",
       "\t<li>'edu_val'</li>\n",
       "\t<li>'edu_1st_indv_val'</li>\n",
       "\t<li>'edu_2nd_indv_val'</li>\n",
       "\t<li>'adults_in_hh_num'</li>\n",
       "\t<li>'married_ind'</li>\n",
       "\t<li>'child_present_ind'</li>\n",
       "\t<li>'home_owner_ind'</li>\n",
       "\t<li>'occpn_val'</li>\n",
       "\t<li>'occpn_1st_val'</li>\n",
       "\t<li>'occpn_2nd_val'</li>\n",
       "\t<li>'dist_to_ven'</li>\n",
       "</ol>\n"
      ],
      "text/latex": [
       "\\begin{enumerate*}\n",
       "\\item 'X'\n",
       "\\item 'event\\_id'\n",
       "\\item 'primary\\_act\\_id'\n",
       "\\item 'secondary\\_act\\_id'\n",
       "\\item 'purch\\_party\\_lkup\\_id'\n",
       "\\item 'event\\_name'\n",
       "\\item 'primary\\_act\\_name'\n",
       "\\item 'secondary\\_act\\_name'\n",
       "\\item 'major\\_cat\\_name'\n",
       "\\item 'minor\\_cat\\_name'\n",
       "\\item 'la\\_event\\_type\\_cat'\n",
       "\\item 'event\\_disp\\_name'\n",
       "\\item 'ticket\\_text'\n",
       "\\item 'tickets\\_purchased\\_qty'\n",
       "\\item 'trans\\_face\\_val\\_amt'\n",
       "\\item 'delivery\\_type\\_cd'\n",
       "\\item 'event\\_date\\_time'\n",
       "\\item 'event\\_dt'\n",
       "\\item 'presale\\_dt'\n",
       "\\item 'onsale\\_dt'\n",
       "\\item 'sales\\_ord\\_create\\_dttm'\n",
       "\\item 'sales\\_ord\\_tran\\_dt'\n",
       "\\item 'print\\_dt'\n",
       "\\item 'timezn\\_nm'\n",
       "\\item 'venue\\_city'\n",
       "\\item 'venue\\_state'\n",
       "\\item 'venue\\_postal\\_cd\\_sgmt\\_1'\n",
       "\\item 'sales\\_platform\\_cd'\n",
       "\\item 'print\\_flg'\n",
       "\\item 'la\\_valid\\_tkt\\_event\\_flg'\n",
       "\\item 'fin\\_mkt\\_nm'\n",
       "\\item 'web\\_session\\_cookie\\_val'\n",
       "\\item 'gndr\\_cd'\n",
       "\\item 'age\\_yr'\n",
       "\\item 'income\\_amt'\n",
       "\\item 'edu\\_val'\n",
       "\\item 'edu\\_1st\\_indv\\_val'\n",
       "\\item 'edu\\_2nd\\_indv\\_val'\n",
       "\\item 'adults\\_in\\_hh\\_num'\n",
       "\\item 'married\\_ind'\n",
       "\\item 'child\\_present\\_ind'\n",
       "\\item 'home\\_owner\\_ind'\n",
       "\\item 'occpn\\_val'\n",
       "\\item 'occpn\\_1st\\_val'\n",
       "\\item 'occpn\\_2nd\\_val'\n",
       "\\item 'dist\\_to\\_ven'\n",
       "\\end{enumerate*}\n"
      ],
      "text/markdown": [
       "1. 'X'\n",
       "2. 'event_id'\n",
       "3. 'primary_act_id'\n",
       "4. 'secondary_act_id'\n",
       "5. 'purch_party_lkup_id'\n",
       "6. 'event_name'\n",
       "7. 'primary_act_name'\n",
       "8. 'secondary_act_name'\n",
       "9. 'major_cat_name'\n",
       "10. 'minor_cat_name'\n",
       "11. 'la_event_type_cat'\n",
       "12. 'event_disp_name'\n",
       "13. 'ticket_text'\n",
       "14. 'tickets_purchased_qty'\n",
       "15. 'trans_face_val_amt'\n",
       "16. 'delivery_type_cd'\n",
       "17. 'event_date_time'\n",
       "18. 'event_dt'\n",
       "19. 'presale_dt'\n",
       "20. 'onsale_dt'\n",
       "21. 'sales_ord_create_dttm'\n",
       "22. 'sales_ord_tran_dt'\n",
       "23. 'print_dt'\n",
       "24. 'timezn_nm'\n",
       "25. 'venue_city'\n",
       "26. 'venue_state'\n",
       "27. 'venue_postal_cd_sgmt_1'\n",
       "28. 'sales_platform_cd'\n",
       "29. 'print_flg'\n",
       "30. 'la_valid_tkt_event_flg'\n",
       "31. 'fin_mkt_nm'\n",
       "32. 'web_session_cookie_val'\n",
       "33. 'gndr_cd'\n",
       "34. 'age_yr'\n",
       "35. 'income_amt'\n",
       "36. 'edu_val'\n",
       "37. 'edu_1st_indv_val'\n",
       "38. 'edu_2nd_indv_val'\n",
       "39. 'adults_in_hh_num'\n",
       "40. 'married_ind'\n",
       "41. 'child_present_ind'\n",
       "42. 'home_owner_ind'\n",
       "43. 'occpn_val'\n",
       "44. 'occpn_1st_val'\n",
       "45. 'occpn_2nd_val'\n",
       "46. 'dist_to_ven'\n",
       "\n",
       "\n"
      ],
      "text/plain": [
       " [1] \"X\"                      \"event_id\"               \"primary_act_id\"        \n",
       " [4] \"secondary_act_id\"       \"purch_party_lkup_id\"    \"event_name\"            \n",
       " [7] \"primary_act_name\"       \"secondary_act_name\"     \"major_cat_name\"        \n",
       "[10] \"minor_cat_name\"         \"la_event_type_cat\"      \"event_disp_name\"       \n",
       "[13] \"ticket_text\"            \"tickets_purchased_qty\"  \"trans_face_val_amt\"    \n",
       "[16] \"delivery_type_cd\"       \"event_date_time\"        \"event_dt\"              \n",
       "[19] \"presale_dt\"             \"onsale_dt\"              \"sales_ord_create_dttm\" \n",
       "[22] \"sales_ord_tran_dt\"      \"print_dt\"               \"timezn_nm\"             \n",
       "[25] \"venue_city\"             \"venue_state\"            \"venue_postal_cd_sgmt_1\"\n",
       "[28] \"sales_platform_cd\"      \"print_flg\"              \"la_valid_tkt_event_flg\"\n",
       "[31] \"fin_mkt_nm\"             \"web_session_cookie_val\" \"gndr_cd\"               \n",
       "[34] \"age_yr\"                 \"income_amt\"             \"edu_val\"               \n",
       "[37] \"edu_1st_indv_val\"       \"edu_2nd_indv_val\"       \"adults_in_hh_num\"      \n",
       "[40] \"married_ind\"            \"child_present_ind\"      \"home_owner_ind\"        \n",
       "[43] \"occpn_val\"              \"occpn_1st_val\"          \"occpn_2nd_val\"         \n",
       "[46] \"dist_to_ven\"           "
      ]
     },
     "metadata": {},
     "output_type": "display_data"
    }
   ],
   "source": [
    "names(sales)"
   ]
  },
  {
   "cell_type": "markdown",
   "metadata": {},
   "source": [
    "Summarise the data"
   ]
  },
  {
   "cell_type": "code",
   "execution_count": 36,
   "metadata": {},
   "outputs": [
    {
     "name": "stdout",
     "output_type": "stream",
     "text": [
      "'data.frame':\t5000 obs. of  46 variables:\n",
      " $ X                     : int  1 2 3 4 5 6 7 8 9 10 ...\n",
      " $ event_id              : chr  \"abcaf1adb99a935fc661\" \"6c56d7f08c95f2aa453c\" \"c7ab4524a121f9d687d2\" \"394cb493f893be9b9ed1\" ...\n",
      " $ primary_act_id        : chr  \"43f0436b905bfa7c2eec\" \"1a3e9aecd0617706a794\" \"4b677c3f5bec71eec8d1\" \"b1ccea01ad6ef8522796\" ...\n",
      " $ secondary_act_id      : chr  \"b85143bf51323b72e53c\" \"f53529c5679ea6ca5a48\" \"b85143bf51323b72e53c\" \"b85143bf51323b72e53c\" ...\n",
      " $ purch_party_lkup_id   : chr  \"7dfa56dd7d5956b17587\" \"4f9e6fc637eaf7b736c2\" \"6c2545703bd527a7144d\" \"527d6b1eaffc69ddd882\" ...\n",
      " $ event_name            : chr  \"Xfinity Center Mansfield Premier Parking: Florida Georgia Line\" \"Gorge Camping - dave matthews band - sept 3-7\" \"Dodge Theatre Adams Street Parking - benise\" \"Gexa Energy Pavilion Vip Parking : kid rock with sheryl crow\" ...\n",
      " $ primary_act_name      : chr  \"XFINITY Center Mansfield Premier Parking\" \"Gorge Camping\" \"Parking Event\" \"Gexa Energy Pavilion VIP Parking\" ...\n",
      " $ secondary_act_name    : chr  \"NULL\" \"Dave Matthews Band\" \"NULL\" \"NULL\" ...\n",
      " $ major_cat_name        : chr  \"MISC\" \"MISC\" \"MISC\" \"MISC\" ...\n",
      " $ minor_cat_name        : chr  \"PARKING\" \"CAMPING\" \"PARKING\" \"PARKING\" ...\n",
      " $ la_event_type_cat     : chr  \"PARKING\" \"INVALID\" \"PARKING\" \"PARKING\" ...\n",
      " $ event_disp_name       : chr  \"Xfinity Center Mansfield Premier Parking: Florida Georgia Line\" \"Gorge Camping - dave matthews band - sept 3-7\" \"Dodge Theatre Adams Street Parking - benise\" \"Gexa Energy Pavilion Vip Parking : kid rock with sheryl crow\" ...\n",
      " $ ticket_text           : chr  \"   THIS TICKET IS VALID        FOR PARKING ONLY         GOOD THIS DAY ONLY       PREMIER PARKING PASS    XFINIT\"| __truncated__ \"%OVERNIGHT C A M P I N G%* * * * * *%GORGE CAMPGROUND%* GOOD THIS DATE ONLY *%SEP 3 - 6, 2009\" \"ADAMS STREET GARAGE%PARKING FOR 4/21/06 ONLY%DODGE THEATRE PARKING PASS%ENTRANCE ON ADAMS STREET%BENISE%GARAGE OPENS AT 6:00PM\" \"   THIS TICKET IS VALID        FOR PARKING ONLY      GOOD FOR THIS DATE ONLY       VIP PARKING PASS        GEXA\"| __truncated__ ...\n",
      " $ tickets_purchased_qty : int  1 1 1 1 1 2 1 1 1 1 ...\n",
      " $ trans_face_val_amt    : num  45 75 5 20 20 10 30 28 20 25 ...\n",
      " $ delivery_type_cd      : chr  \"eTicket\" \"TicketFast\" \"TicketFast\" \"Mail\" ...\n",
      " $ event_date_time       : chr  \"2015-09-12 23:30:00\" \"2009-09-05 01:00:00\" \"2006-04-22 01:30:00\" \"2011-09-03 00:00:00\" ...\n",
      " $ event_dt              : chr  \"2015-09-12\" \"2009-09-04\" \"2006-04-21\" \"2011-09-02\" ...\n",
      " $ presale_dt            : chr  \"NULL\" \"NULL\" \"NULL\" \"NULL\" ...\n",
      " $ onsale_dt             : chr  \"2015-05-15\" \"2009-03-13\" \"2006-02-25\" \"2011-04-22\" ...\n",
      " $ sales_ord_create_dttm : chr  \"2015-09-11 18:17:45\" \"2009-07-06 00:00:00\" \"2006-04-05 00:00:00\" \"2011-07-01 17:38:50\" ...\n",
      " $ sales_ord_tran_dt     : chr  \"2015-09-11\" \"2009-07-05\" \"2006-04-05\" \"2011-07-01\" ...\n",
      " $ print_dt              : chr  \"2015-09-12\" \"2009-09-01\" \"2006-04-05\" \"2011-07-06\" ...\n",
      " $ timezn_nm             : chr  \"EST\" \"PST\" \"MST\" \"CST\" ...\n",
      " $ venue_city            : chr  \"MANSFIELD\" \"QUINCY\" \"PHOENIX\" \"DALLAS\" ...\n",
      " $ venue_state           : chr  \"MASSACHUSETTS\" \"WASHINGTON\" \"ARIZONA\" \"TEXAS\" ...\n",
      " $ venue_postal_cd_sgmt_1: chr  \"02048\" \"98848\" \"85003\" \"75210\" ...\n",
      " $ sales_platform_cd     : chr  \"www.concerts.livenation.com\" \"NULL\" \"NULL\" \"NULL\" ...\n",
      " $ print_flg             : chr  \"T \" \"T \" \"T \" \"T \" ...\n",
      " $ la_valid_tkt_event_flg: chr  \"N \" \"N \" \"N \" \"N \" ...\n",
      " $ fin_mkt_nm            : chr  \"Boston\" \"Seattle\" \"Arizona\" \"Dallas\" ...\n",
      " $ web_session_cookie_val: chr  \"7dfa56dd7d5956b17587\" \"4f9e6fc637eaf7b736c2\" \"6c2545703bd527a7144d\" \"527d6b1eaffc69ddd882\" ...\n",
      " $ gndr_cd               : chr  NA NA NA NA ...\n",
      " $ age_yr                : chr  NA NA NA NA ...\n",
      " $ income_amt            : chr  NA NA NA NA ...\n",
      " $ edu_val               : chr  NA NA NA NA ...\n",
      " $ edu_1st_indv_val      : chr  NA NA NA NA ...\n",
      " $ edu_2nd_indv_val      : chr  NA NA NA NA ...\n",
      " $ adults_in_hh_num      : chr  NA NA NA NA ...\n",
      " $ married_ind           : chr  NA NA NA NA ...\n",
      " $ child_present_ind     : chr  NA NA NA NA ...\n",
      " $ home_owner_ind        : chr  NA NA NA NA ...\n",
      " $ occpn_val             : chr  NA NA NA NA ...\n",
      " $ occpn_1st_val         : chr  NA NA NA NA ...\n",
      " $ occpn_2nd_val         : chr  NA NA NA NA ...\n",
      " $ dist_to_ven           : int  NA 59 NA NA NA NA NA NA NA NA ...\n"
     ]
    }
   ],
   "source": [
    "str(sales)"
   ]
  },
  {
   "cell_type": "code",
   "execution_count": 37,
   "metadata": {},
   "outputs": [
    {
     "name": "stdout",
     "output_type": "stream",
     "text": [
      "Observations: 5,000\n",
      "Variables: 46\n",
      "$ X                      <int> 1, 2, 3, 4, 5, 6, 7, 8, 9, 10, 11, 12, 13, 1...\n",
      "$ event_id               <chr> \"abcaf1adb99a935fc661\", \"6c56d7f08c95f2aa453...\n",
      "$ primary_act_id         <chr> \"43f0436b905bfa7c2eec\", \"1a3e9aecd0617706a79...\n",
      "$ secondary_act_id       <chr> \"b85143bf51323b72e53c\", \"f53529c5679ea6ca5a4...\n",
      "$ purch_party_lkup_id    <chr> \"7dfa56dd7d5956b17587\", \"4f9e6fc637eaf7b736c...\n",
      "$ event_name             <chr> \"Xfinity Center Mansfield Premier Parking: F...\n",
      "$ primary_act_name       <chr> \"XFINITY Center Mansfield Premier Parking\", ...\n",
      "$ secondary_act_name     <chr> \"NULL\", \"Dave Matthews Band\", \"NULL\", \"NULL\"...\n",
      "$ major_cat_name         <chr> \"MISC\", \"MISC\", \"MISC\", \"MISC\", \"MISC\", \"MIS...\n",
      "$ minor_cat_name         <chr> \"PARKING\", \"CAMPING\", \"PARKING\", \"PARKING\", ...\n",
      "$ la_event_type_cat      <chr> \"PARKING\", \"INVALID\", \"PARKING\", \"PARKING\", ...\n",
      "$ event_disp_name        <chr> \"Xfinity Center Mansfield Premier Parking: F...\n",
      "$ ticket_text            <chr> \"   THIS TICKET IS VALID        FOR PARKING ...\n",
      "$ tickets_purchased_qty  <int> 1, 1, 1, 1, 1, 2, 1, 1, 1, 1, 1, 2, 4, 1, 1,...\n",
      "$ trans_face_val_amt     <dbl> 45, 75, 5, 20, 20, 10, 30, 28, 20, 25, 20, 9...\n",
      "$ delivery_type_cd       <chr> \"eTicket\", \"TicketFast\", \"TicketFast\", \"Mail...\n",
      "$ event_date_time        <chr> \"2015-09-12 23:30:00\", \"2009-09-05 01:00:00\"...\n",
      "$ event_dt               <chr> \"2015-09-12\", \"2009-09-04\", \"2006-04-21\", \"2...\n",
      "$ presale_dt             <chr> \"NULL\", \"NULL\", \"NULL\", \"NULL\", \"2005-03-02\"...\n",
      "$ onsale_dt              <chr> \"2015-05-15\", \"2009-03-13\", \"2006-02-25\", \"2...\n",
      "$ sales_ord_create_dttm  <chr> \"2015-09-11 18:17:45\", \"2009-07-06 00:00:00\"...\n",
      "$ sales_ord_tran_dt      <chr> \"2015-09-11\", \"2009-07-05\", \"2006-04-05\", \"2...\n",
      "$ print_dt               <chr> \"2015-09-12\", \"2009-09-01\", \"2006-04-05\", \"2...\n",
      "$ timezn_nm              <chr> \"EST\", \"PST\", \"MST\", \"CST\", \"PST\", \"PST\", \"E...\n",
      "$ venue_city             <chr> \"MANSFIELD\", \"QUINCY\", \"PHOENIX\", \"DALLAS\", ...\n",
      "$ venue_state            <chr> \"MASSACHUSETTS\", \"WASHINGTON\", \"ARIZONA\", \"T...\n",
      "$ venue_postal_cd_sgmt_1 <chr> \"02048\", \"98848\", \"85003\", \"75210\", \"98092\",...\n",
      "$ sales_platform_cd      <chr> \"www.concerts.livenation.com\", \"NULL\", \"NULL...\n",
      "$ print_flg              <chr> \"T \", \"T \", \"T \", \"T \", \"T \", \"T \", \"T \", \"T...\n",
      "$ la_valid_tkt_event_flg <chr> \"N \", \"N \", \"N \", \"N \", \"N \", \"N \", \"N \", \"N...\n",
      "$ fin_mkt_nm             <chr> \"Boston\", \"Seattle\", \"Arizona\", \"Dallas\", \"S...\n",
      "$ web_session_cookie_val <chr> \"7dfa56dd7d5956b17587\", \"4f9e6fc637eaf7b736c...\n",
      "$ gndr_cd                <chr> NA, NA, NA, NA, NA, NA, \"M\", NA, NA, NA, \"M\"...\n",
      "$ age_yr                 <chr> NA, NA, NA, NA, NA, NA, \"28\", NA, NA, NA, \"8...\n",
      "$ income_amt             <chr> NA, NA, NA, NA, NA, NA, \"112500\", NA, NA, NA...\n",
      "$ edu_val                <chr> NA, NA, NA, NA, NA, NA, \"High School\", NA, N...\n",
      "$ edu_1st_indv_val       <chr> NA, NA, NA, NA, NA, NA, \"High School\", NA, N...\n",
      "$ edu_2nd_indv_val       <chr> NA, NA, NA, NA, NA, NA, \"NULL\", NA, NA, NA, ...\n",
      "$ adults_in_hh_num       <chr> NA, NA, NA, NA, NA, NA, \"4\", NA, NA, NA, \"2\"...\n",
      "$ married_ind            <chr> NA, NA, NA, NA, NA, NA, \"0\", NA, NA, NA, \"1\"...\n",
      "$ child_present_ind      <chr> NA, NA, NA, NA, NA, NA, \"1\", NA, NA, NA, \"NU...\n",
      "$ home_owner_ind         <chr> NA, NA, NA, NA, NA, NA, \"0\", NA, NA, NA, \"1\"...\n",
      "$ occpn_val              <chr> NA, NA, NA, NA, NA, NA, \"NULL\", NA, NA, NA, ...\n",
      "$ occpn_1st_val          <chr> NA, NA, NA, NA, NA, NA, \"Craftsman Blue Coll...\n",
      "$ occpn_2nd_val          <chr> NA, NA, NA, NA, NA, NA, \"NULL\", NA, NA, NA, ...\n",
      "$ dist_to_ven            <int> NA, 59, NA, NA, NA, NA, NA, NA, NA, NA, NA, ...\n"
     ]
    }
   ],
   "source": [
    "glimpse(sales)"
   ]
  },
  {
   "cell_type": "code",
   "execution_count": 38,
   "metadata": {},
   "outputs": [
    {
     "data": {
      "text/plain": [
       "       X          event_id         primary_act_id     secondary_act_id  \n",
       " Min.   :   1   Length:5000        Length:5000        Length:5000       \n",
       " 1st Qu.:1251   Class :character   Class :character   Class :character  \n",
       " Median :2500   Mode  :character   Mode  :character   Mode  :character  \n",
       " Mean   :2500                                                           \n",
       " 3rd Qu.:3750                                                           \n",
       " Max.   :5000                                                           \n",
       "                                                                        \n",
       " purch_party_lkup_id  event_name        primary_act_name   secondary_act_name\n",
       " Length:5000         Length:5000        Length:5000        Length:5000       \n",
       " Class :character    Class :character   Class :character   Class :character  \n",
       " Mode  :character    Mode  :character   Mode  :character   Mode  :character  \n",
       "                                                                             \n",
       "                                                                             \n",
       "                                                                             \n",
       "                                                                             \n",
       " major_cat_name     minor_cat_name     la_event_type_cat  event_disp_name   \n",
       " Length:5000        Length:5000        Length:5000        Length:5000       \n",
       " Class :character   Class :character   Class :character   Class :character  \n",
       " Mode  :character   Mode  :character   Mode  :character   Mode  :character  \n",
       "                                                                            \n",
       "                                                                            \n",
       "                                                                            \n",
       "                                                                            \n",
       " ticket_text        tickets_purchased_qty trans_face_val_amt delivery_type_cd  \n",
       " Length:5000        Min.   :1.000         Min.   :   1.00    Length:5000       \n",
       " Class :character   1st Qu.:1.000         1st Qu.:  20.00    Class :character  \n",
       " Mode  :character   Median :1.000         Median :  30.00    Mode  :character  \n",
       "                    Mean   :1.639         Mean   :  77.08                      \n",
       "                    3rd Qu.:2.000         3rd Qu.:  85.00                      \n",
       "                    Max.   :8.000         Max.   :1520.88                      \n",
       "                                                                               \n",
       " event_date_time      event_dt          presale_dt         onsale_dt        \n",
       " Length:5000        Length:5000        Length:5000        Length:5000       \n",
       " Class :character   Class :character   Class :character   Class :character  \n",
       " Mode  :character   Mode  :character   Mode  :character   Mode  :character  \n",
       "                                                                            \n",
       "                                                                            \n",
       "                                                                            \n",
       "                                                                            \n",
       " sales_ord_create_dttm sales_ord_tran_dt    print_dt          timezn_nm        \n",
       " Length:5000           Length:5000        Length:5000        Length:5000       \n",
       " Class :character      Class :character   Class :character   Class :character  \n",
       " Mode  :character      Mode  :character   Mode  :character   Mode  :character  \n",
       "                                                                               \n",
       "                                                                               \n",
       "                                                                               \n",
       "                                                                               \n",
       "  venue_city        venue_state        venue_postal_cd_sgmt_1\n",
       " Length:5000        Length:5000        Length:5000           \n",
       " Class :character   Class :character   Class :character      \n",
       " Mode  :character   Mode  :character   Mode  :character      \n",
       "                                                             \n",
       "                                                             \n",
       "                                                             \n",
       "                                                             \n",
       " sales_platform_cd   print_flg         la_valid_tkt_event_flg\n",
       " Length:5000        Length:5000        Length:5000           \n",
       " Class :character   Class :character   Class :character      \n",
       " Mode  :character   Mode  :character   Mode  :character      \n",
       "                                                             \n",
       "                                                             \n",
       "                                                             \n",
       "                                                             \n",
       "  fin_mkt_nm        web_session_cookie_val   gndr_cd         \n",
       " Length:5000        Length:5000            Length:5000       \n",
       " Class :character   Class :character       Class :character  \n",
       " Mode  :character   Mode  :character       Mode  :character  \n",
       "                                                             \n",
       "                                                             \n",
       "                                                             \n",
       "                                                             \n",
       "    age_yr           income_amt          edu_val          edu_1st_indv_val  \n",
       " Length:5000        Length:5000        Length:5000        Length:5000       \n",
       " Class :character   Class :character   Class :character   Class :character  \n",
       " Mode  :character   Mode  :character   Mode  :character   Mode  :character  \n",
       "                                                                            \n",
       "                                                                            \n",
       "                                                                            \n",
       "                                                                            \n",
       " edu_2nd_indv_val   adults_in_hh_num   married_ind        child_present_ind \n",
       " Length:5000        Length:5000        Length:5000        Length:5000       \n",
       " Class :character   Class :character   Class :character   Class :character  \n",
       " Mode  :character   Mode  :character   Mode  :character   Mode  :character  \n",
       "                                                                            \n",
       "                                                                            \n",
       "                                                                            \n",
       "                                                                            \n",
       " home_owner_ind      occpn_val         occpn_1st_val      occpn_2nd_val     \n",
       " Length:5000        Length:5000        Length:5000        Length:5000       \n",
       " Class :character   Class :character   Class :character   Class :character  \n",
       " Mode  :character   Mode  :character   Mode  :character   Mode  :character  \n",
       "                                                                            \n",
       "                                                                            \n",
       "                                                                            \n",
       "                                                                            \n",
       "  dist_to_ven    \n",
       " Min.   :   0.0  \n",
       " 1st Qu.:  12.0  \n",
       " Median :  26.0  \n",
       " Mean   : 158.2  \n",
       " 3rd Qu.:  77.5  \n",
       " Max.   :2548.0  \n",
       " NA's   :4677    "
      ]
     },
     "metadata": {},
     "output_type": "display_data"
    }
   ],
   "source": [
    "summary(sales)"
   ]
  },
  {
   "cell_type": "markdown",
   "metadata": {},
   "source": [
    "Removing reduntant info \n",
    "<br>The first column X is not needed. "
   ]
  },
  {
   "cell_type": "code",
   "execution_count": 39,
   "metadata": {},
   "outputs": [],
   "source": [
    "sales2 <- sales[, -1]"
   ]
  },
  {
   "cell_type": "markdown",
   "metadata": {},
   "source": [
    "The first 4 columns internal id which gives us no information and the last 15 variables have mostly NA and therefore not useful"
   ]
  },
  {
   "cell_type": "code",
   "execution_count": 40,
   "metadata": {},
   "outputs": [],
   "source": [
    "# Define a vector of column indices: keep\n",
    "keep <- c(5:30)\n",
    "\n",
    "# Subset sales2 using keep: sales3\n",
    "sales3 <- sales2[, keep]"
   ]
  },
  {
   "cell_type": "markdown",
   "metadata": {},
   "source": [
    "Separating columns"
   ]
  },
  {
   "cell_type": "code",
   "execution_count": 41,
   "metadata": {},
   "outputs": [
    {
     "name": "stderr",
     "output_type": "stream",
     "text": [
      "Warning message:\n",
      "\"Expected 2 pieces. Missing pieces filled with `NA` in 4 rows [2516, 3863, 4082, 4183].\""
     ]
    }
   ],
   "source": [
    "# Split event_date_time: sales4\n",
    "sales4 <- separate(sales3, event_date_time,\n",
    "                   c(\"event_dt\", \"event_time\"), sep = \" \")\n",
    "\n",
    "# Split sales_ord_create_dttm: sales5\n",
    "sales5 <- separate(sales4, sales_ord_create_dttm,\n",
    "                  c(\"ord_create_dt\", \"ord_create_time\"), sep = \" \")"
   ]
  },
  {
   "cell_type": "markdown",
   "metadata": {},
   "source": [
    "Dealing with warnings"
   ]
  },
  {
   "cell_type": "code",
   "execution_count": 42,
   "metadata": {},
   "outputs": [
    {
     "data": {
      "text/html": [
       "<ol class=list-inline>\n",
       "\t<li>'NULL'</li>\n",
       "\t<li>'NULL'</li>\n",
       "\t<li>'NULL'</li>\n",
       "\t<li>'NULL'</li>\n",
       "</ol>\n"
      ],
      "text/latex": [
       "\\begin{enumerate*}\n",
       "\\item 'NULL'\n",
       "\\item 'NULL'\n",
       "\\item 'NULL'\n",
       "\\item 'NULL'\n",
       "\\end{enumerate*}\n"
      ],
      "text/markdown": [
       "1. 'NULL'\n",
       "2. 'NULL'\n",
       "3. 'NULL'\n",
       "4. 'NULL'\n",
       "\n",
       "\n"
      ],
      "text/plain": [
       "[1] \"NULL\" \"NULL\" \"NULL\" \"NULL\""
      ]
     },
     "metadata": {},
     "output_type": "display_data"
    },
    {
     "data": {
      "text/html": [
       "'2013-08-04 23:07:19'"
      ],
      "text/latex": [
       "'2013-08-04 23:07:19'"
      ],
      "text/markdown": [
       "'2013-08-04 23:07:19'"
      ],
      "text/plain": [
       "[1] \"2013-08-04 23:07:19\""
      ]
     },
     "metadata": {},
     "output_type": "display_data"
    }
   ],
   "source": [
    "# Define an issues vector\n",
    "issues <- c(2516, 3863, 4082, 4183)\n",
    "\n",
    "# Print values of sales_ord_create_dttm at these indices\n",
    "sales3$sales_ord_create_dttm[issues]\n",
    "\n",
    "# Print a well-behaved value of sales_ord_create_dttm\n",
    "sales3$sales_ord_create_dttm[2517]"
   ]
  },
  {
   "cell_type": "markdown",
   "metadata": {},
   "source": [
    "Identifying dates"
   ]
  },
  {
   "cell_type": "code",
   "execution_count": 43,
   "metadata": {},
   "outputs": [
    {
     "data": {
      "text/html": [
       "<table>\n",
       "<thead><tr><th scope=col>event_dt</th><th scope=col>presale_dt</th><th scope=col>onsale_dt</th><th scope=col>ord_create_dt</th><th scope=col>sales_ord_tran_dt</th><th scope=col>print_dt</th></tr></thead>\n",
       "<tbody>\n",
       "\t<tr><td>2015-09-12</td><td>NULL      </td><td>2015-05-15</td><td>2015-09-11</td><td>2015-09-11</td><td>2015-09-12</td></tr>\n",
       "\t<tr><td>2009-09-05</td><td>NULL      </td><td>2009-03-13</td><td>2009-07-06</td><td>2009-07-05</td><td>2009-09-01</td></tr>\n",
       "\t<tr><td>2006-04-22</td><td>NULL      </td><td>2006-02-25</td><td>2006-04-05</td><td>2006-04-05</td><td>2006-04-05</td></tr>\n",
       "\t<tr><td>2011-09-03</td><td>NULL      </td><td>2011-04-22</td><td>2011-07-01</td><td>2011-07-01</td><td>2011-07-06</td></tr>\n",
       "\t<tr><td>2005-07-31</td><td>2005-03-02</td><td>2005-03-04</td><td>2005-06-18</td><td>2005-06-18</td><td>2005-06-28</td></tr>\n",
       "\t<tr><td>2012-07-22</td><td>NULL      </td><td>2012-04-11</td><td>2012-07-21</td><td>2012-07-21</td><td>2012-07-21</td></tr>\n",
       "</tbody>\n",
       "</table>\n"
      ],
      "text/latex": [
       "\\begin{tabular}{r|llllll}\n",
       " event\\_dt & presale\\_dt & onsale\\_dt & ord\\_create\\_dt & sales\\_ord\\_tran\\_dt & print\\_dt\\\\\n",
       "\\hline\n",
       "\t 2015-09-12 & NULL       & 2015-05-15 & 2015-09-11 & 2015-09-11 & 2015-09-12\\\\\n",
       "\t 2009-09-05 & NULL       & 2009-03-13 & 2009-07-06 & 2009-07-05 & 2009-09-01\\\\\n",
       "\t 2006-04-22 & NULL       & 2006-02-25 & 2006-04-05 & 2006-04-05 & 2006-04-05\\\\\n",
       "\t 2011-09-03 & NULL       & 2011-04-22 & 2011-07-01 & 2011-07-01 & 2011-07-06\\\\\n",
       "\t 2005-07-31 & 2005-03-02 & 2005-03-04 & 2005-06-18 & 2005-06-18 & 2005-06-28\\\\\n",
       "\t 2012-07-22 & NULL       & 2012-04-11 & 2012-07-21 & 2012-07-21 & 2012-07-21\\\\\n",
       "\\end{tabular}\n"
      ],
      "text/markdown": [
       "\n",
       "event_dt | presale_dt | onsale_dt | ord_create_dt | sales_ord_tran_dt | print_dt | \n",
       "|---|---|---|---|---|---|\n",
       "| 2015-09-12 | NULL       | 2015-05-15 | 2015-09-11 | 2015-09-11 | 2015-09-12 | \n",
       "| 2009-09-05 | NULL       | 2009-03-13 | 2009-07-06 | 2009-07-05 | 2009-09-01 | \n",
       "| 2006-04-22 | NULL       | 2006-02-25 | 2006-04-05 | 2006-04-05 | 2006-04-05 | \n",
       "| 2011-09-03 | NULL       | 2011-04-22 | 2011-07-01 | 2011-07-01 | 2011-07-06 | \n",
       "| 2005-07-31 | 2005-03-02 | 2005-03-04 | 2005-06-18 | 2005-06-18 | 2005-06-28 | \n",
       "| 2012-07-22 | NULL       | 2012-04-11 | 2012-07-21 | 2012-07-21 | 2012-07-21 | \n",
       "\n",
       "\n"
      ],
      "text/plain": [
       "  event_dt   presale_dt onsale_dt  ord_create_dt sales_ord_tran_dt print_dt  \n",
       "1 2015-09-12 NULL       2015-05-15 2015-09-11    2015-09-11        2015-09-12\n",
       "2 2009-09-05 NULL       2009-03-13 2009-07-06    2009-07-05        2009-09-01\n",
       "3 2006-04-22 NULL       2006-02-25 2006-04-05    2006-04-05        2006-04-05\n",
       "4 2011-09-03 NULL       2011-04-22 2011-07-01    2011-07-01        2011-07-06\n",
       "5 2005-07-31 2005-03-02 2005-03-04 2005-06-18    2005-06-18        2005-06-28\n",
       "6 2012-07-22 NULL       2012-04-11 2012-07-21    2012-07-21        2012-07-21"
      ]
     },
     "metadata": {},
     "output_type": "display_data"
    },
    {
     "name": "stderr",
     "output_type": "stream",
     "text": [
      "Warning message:\n",
      "\" 2892 failed to parse.\"Warning message:\n",
      "\" 101 failed to parse.\"Warning message:\n",
      "\" 4 failed to parse.\"Warning message:\n",
      "\" 424 failed to parse.\""
     ]
    }
   ],
   "source": [
    "# Load stringr\n",
    "library(stringr)\n",
    "\n",
    "# Find columns of sales5 containing \"dt\": date_cols\n",
    "date_cols <- str_detect(names(sales5), \"dt\")\n",
    "\n",
    "head(sales5[, date_cols])\n",
    "# Load lubridate\n",
    "library(lubridate)\n",
    "\n",
    "# Coerce date columns into Date objects\n",
    "sales5[, date_cols] <- lapply(sales5[, date_cols], ymd )"
   ]
  },
  {
   "cell_type": "markdown",
   "metadata": {},
   "source": [
    "Dealing with warnings\n",
    "<br> some more warnings, it is probably due to NA but better check"
   ]
  },
  {
   "cell_type": "code",
   "execution_count": 44,
   "metadata": {},
   "outputs": [
    {
     "data": {
      "text/html": [
       "<dl class=dl-horizontal>\n",
       "\t<dt>event_dt</dt>\n",
       "\t\t<dd>0</dd>\n",
       "\t<dt>presale_dt</dt>\n",
       "\t\t<dd>2892</dd>\n",
       "\t<dt>onsale_dt</dt>\n",
       "\t\t<dd>101</dd>\n",
       "\t<dt>ord_create_dt</dt>\n",
       "\t\t<dd>4</dd>\n",
       "\t<dt>sales_ord_tran_dt</dt>\n",
       "\t\t<dd>0</dd>\n",
       "\t<dt>print_dt</dt>\n",
       "\t\t<dd>424</dd>\n",
       "</dl>\n"
      ],
      "text/latex": [
       "\\begin{description*}\n",
       "\\item[event\\textbackslash{}\\_dt] 0\n",
       "\\item[presale\\textbackslash{}\\_dt] 2892\n",
       "\\item[onsale\\textbackslash{}\\_dt] 101\n",
       "\\item[ord\\textbackslash{}\\_create\\textbackslash{}\\_dt] 4\n",
       "\\item[sales\\textbackslash{}\\_ord\\textbackslash{}\\_tran\\textbackslash{}\\_dt] 0\n",
       "\\item[print\\textbackslash{}\\_dt] 424\n",
       "\\end{description*}\n"
      ],
      "text/markdown": [
       "event_dt\n",
       ":   0presale_dt\n",
       ":   2892onsale_dt\n",
       ":   101ord_create_dt\n",
       ":   4sales_ord_tran_dt\n",
       ":   0print_dt\n",
       ":   424\n",
       "\n"
      ],
      "text/plain": [
       "         event_dt        presale_dt         onsale_dt     ord_create_dt \n",
       "                0              2892               101                 4 \n",
       "sales_ord_tran_dt          print_dt \n",
       "                0               424 "
      ]
     },
     "metadata": {},
     "output_type": "display_data"
    }
   ],
   "source": [
    "# Find date columns (\n",
    "date_cols <- str_detect(names(sales5), \"dt\")\n",
    "\n",
    "# Create logical vectors indicating missing values \n",
    "missing <- lapply(sales5[, date_cols], is.na)\n",
    "\n",
    "# Create a numerical vector that counts missing values: num_missing\n",
    "num_missing <- sapply(missing, sum)\n",
    "\n",
    "# Print num_missing\n",
    "num_missing"
   ]
  },
  {
   "cell_type": "code",
   "execution_count": 45,
   "metadata": {},
   "outputs": [
    {
     "name": "stdout",
     "output_type": "stream",
     "text": [
      "Observations: 5,000\n",
      "Variables: 27\n",
      "$ event_name             <chr> \"Xfinity Center Mansfield Premier Parking: F...\n",
      "$ primary_act_name       <chr> \"XFINITY Center Mansfield Premier Parking\", ...\n",
      "$ secondary_act_name     <chr> \"NULL\", \"Dave Matthews Band\", \"NULL\", \"NULL\"...\n",
      "$ major_cat_name         <chr> \"MISC\", \"MISC\", \"MISC\", \"MISC\", \"MISC\", \"MIS...\n",
      "$ minor_cat_name         <chr> \"PARKING\", \"CAMPING\", \"PARKING\", \"PARKING\", ...\n",
      "$ la_event_type_cat      <chr> \"PARKING\", \"INVALID\", \"PARKING\", \"PARKING\", ...\n",
      "$ event_disp_name        <chr> \"Xfinity Center Mansfield Premier Parking: F...\n",
      "$ ticket_text            <chr> \"   THIS TICKET IS VALID        FOR PARKING ...\n",
      "$ tickets_purchased_qty  <int> 1, 1, 1, 1, 1, 2, 1, 1, 1, 1, 1, 2, 4, 1, 1,...\n",
      "$ trans_face_val_amt     <dbl> 45, 75, 5, 20, 20, 10, 30, 28, 20, 25, 20, 9...\n",
      "$ delivery_type_cd       <chr> \"eTicket\", \"TicketFast\", \"TicketFast\", \"Mail...\n",
      "$ event_dt               <date> 2015-09-12, 2009-09-05, 2006-04-22, 2011-09...\n",
      "$ event_time             <chr> \"23:30:00\", \"01:00:00\", \"01:30:00\", \"00:00:0...\n",
      "$ presale_dt             <date> NA, NA, NA, NA, 2005-03-02, NA, NA, NA, NA,...\n",
      "$ onsale_dt              <date> 2015-05-15, 2009-03-13, 2006-02-25, 2011-04...\n",
      "$ ord_create_dt          <date> 2015-09-11, 2009-07-06, 2006-04-05, 2011-07...\n",
      "$ ord_create_time        <chr> \"18:17:45\", \"00:00:00\", \"00:00:00\", \"17:38:5...\n",
      "$ sales_ord_tran_dt      <date> 2015-09-11, 2009-07-05, 2006-04-05, 2011-07...\n",
      "$ print_dt               <date> 2015-09-12, 2009-09-01, 2006-04-05, 2011-07...\n",
      "$ timezn_nm              <chr> \"EST\", \"PST\", \"MST\", \"CST\", \"PST\", \"PST\", \"E...\n",
      "$ venue_city             <chr> \"MANSFIELD\", \"QUINCY\", \"PHOENIX\", \"DALLAS\", ...\n",
      "$ venue_state            <chr> \"MASSACHUSETTS\", \"WASHINGTON\", \"ARIZONA\", \"T...\n",
      "$ venue_postal_cd_sgmt_1 <chr> \"02048\", \"98848\", \"85003\", \"75210\", \"98092\",...\n",
      "$ sales_platform_cd      <chr> \"www.concerts.livenation.com\", \"NULL\", \"NULL...\n",
      "$ print_flg              <chr> \"T \", \"T \", \"T \", \"T \", \"T \", \"T \", \"T \", \"T...\n",
      "$ la_valid_tkt_event_flg <chr> \"N \", \"N \", \"N \", \"N \", \"N \", \"N \", \"N \", \"N...\n",
      "$ fin_mkt_nm             <chr> \"Boston\", \"Seattle\", \"Arizona\", \"Dallas\", \"S...\n"
     ]
    }
   ],
   "source": [
    "glimpse(sales5)"
   ]
  },
  {
   "cell_type": "markdown",
   "metadata": {},
   "source": [
    "Combining columns"
   ]
  },
  {
   "cell_type": "code",
   "execution_count": 46,
   "metadata": {},
   "outputs": [
    {
     "data": {
      "text/html": [
       "<table>\n",
       "<thead><tr><th scope=col>event_name</th><th scope=col>primary_act_name</th><th scope=col>secondary_act_name</th><th scope=col>major_cat_name</th><th scope=col>minor_cat_name</th><th scope=col>la_event_type_cat</th><th scope=col>event_disp_name</th><th scope=col>ticket_text</th><th scope=col>tickets_purchased_qty</th><th scope=col>trans_face_val_amt</th><th scope=col>...</th><th scope=col>ord_create_time</th><th scope=col>sales_ord_tran_dt</th><th scope=col>print_dt</th><th scope=col>timezn_nm</th><th scope=col>venue_city_state</th><th scope=col>venue_postal_cd_sgmt_1</th><th scope=col>sales_platform_cd</th><th scope=col>print_flg</th><th scope=col>la_valid_tkt_event_flg</th><th scope=col>fin_mkt_nm</th></tr></thead>\n",
       "<tbody>\n",
       "\t<tr><td>Xfinity Center Mansfield Premier Parking: Florida Georgia Line                                                                                              </td><td>XFINITY Center Mansfield Premier Parking                                                                                                                    </td><td>NULL                                                                                                                                                        </td><td>MISC                                                                                                                                                        </td><td>PARKING                                                                                                                                                     </td><td>PARKING                                                                                                                                                     </td><td>Xfinity Center Mansfield Premier Parking: Florida Georgia Line                                                                                              </td><td>   THIS TICKET IS VALID        FOR PARKING ONLY         GOOD THIS DAY ONLY       PREMIER PARKING PASS    XFINITY CENTER,LOTS 4 PM  SAT SEP 12 2015 7:30 PM  </td><td>1                                                                                                                                                           </td><td>45                                                                                                                                                          </td><td>...                                                                                                                                                         </td><td>18:17:45                                                                                                                                                    </td><td>2015-09-11                                                                                                                                                  </td><td>2015-09-12                                                                                                                                                  </td><td>EST                                                                                                                                                         </td><td>MANSFIELD, MASSACHUSETTS                                                                                                                                    </td><td>02048                                                                                                                                                       </td><td>www.concerts.livenation.com                                                                                                                                 </td><td>T                                                                                                                                                           </td><td>N                                                                                                                                                           </td><td>Boston                                                                                                                                                      </td></tr>\n",
       "\t<tr><td>Gorge Camping - dave matthews band - sept 3-7                                                                                                               </td><td>Gorge Camping                                                                                                                                               </td><td>Dave Matthews Band                                                                                                                                          </td><td>MISC                                                                                                                                                        </td><td>CAMPING                                                                                                                                                     </td><td>INVALID                                                                                                                                                     </td><td>Gorge Camping - dave matthews band - sept 3-7                                                                                                               </td><td>%OVERNIGHT C A M P I N G%* * * * * *%GORGE CAMPGROUND%* GOOD THIS DATE ONLY *%SEP 3 - 6, 2009                                                               </td><td>1                                                                                                                                                           </td><td>75                                                                                                                                                          </td><td>...                                                                                                                                                         </td><td>00:00:00                                                                                                                                                    </td><td>2009-07-05                                                                                                                                                  </td><td>2009-09-01                                                                                                                                                  </td><td>PST                                                                                                                                                         </td><td>QUINCY, WASHINGTON                                                                                                                                          </td><td>98848                                                                                                                                                       </td><td>NULL                                                                                                                                                        </td><td>T                                                                                                                                                           </td><td>N                                                                                                                                                           </td><td>Seattle                                                                                                                                                     </td></tr>\n",
       "\t<tr><td>Dodge Theatre Adams Street Parking - benise                                                                                                                 </td><td>Parking Event                                                                                                                                               </td><td>NULL                                                                                                                                                        </td><td>MISC                                                                                                                                                        </td><td>PARKING                                                                                                                                                     </td><td>PARKING                                                                                                                                                     </td><td>Dodge Theatre Adams Street Parking - benise                                                                                                                 </td><td>ADAMS STREET GARAGE%PARKING FOR 4/21/06 ONLY%DODGE THEATRE PARKING PASS%ENTRANCE ON ADAMS STREET%BENISE%GARAGE OPENS AT 6:00PM                              </td><td>1                                                                                                                                                           </td><td> 5                                                                                                                                                          </td><td>...                                                                                                                                                         </td><td>00:00:00                                                                                                                                                    </td><td>2006-04-05                                                                                                                                                  </td><td>2006-04-05                                                                                                                                                  </td><td>MST                                                                                                                                                         </td><td>PHOENIX, ARIZONA                                                                                                                                            </td><td>85003                                                                                                                                                       </td><td>NULL                                                                                                                                                        </td><td>T                                                                                                                                                           </td><td>N                                                                                                                                                           </td><td>Arizona                                                                                                                                                     </td></tr>\n",
       "\t<tr><td>Gexa Energy Pavilion Vip Parking : kid rock with sheryl crow                                                                                                </td><td>Gexa Energy Pavilion VIP Parking                                                                                                                            </td><td>NULL                                                                                                                                                        </td><td>MISC                                                                                                                                                        </td><td>PARKING                                                                                                                                                     </td><td>PARKING                                                                                                                                                     </td><td>Gexa Energy Pavilion Vip Parking : kid rock with sheryl crow                                                                                                </td><td>   THIS TICKET IS VALID        FOR PARKING ONLY      GOOD FOR THIS DATE ONLY       VIP PARKING PASS        GEXA ENERGY PAVILION    FRI SEP 02 2011 7:00 PM  </td><td>1                                                                                                                                                           </td><td>20                                                                                                                                                          </td><td>...                                                                                                                                                         </td><td>17:38:50                                                                                                                                                    </td><td>2011-07-01                                                                                                                                                  </td><td>2011-07-06                                                                                                                                                  </td><td>CST                                                                                                                                                         </td><td>DALLAS, TEXAS                                                                                                                                               </td><td>75210                                                                                                                                                       </td><td>NULL                                                                                                                                                        </td><td>T                                                                                                                                                           </td><td>N                                                                                                                                                           </td><td>Dallas                                                                                                                                                      </td></tr>\n",
       "\t<tr><td>Premier Parking - motley crue                                                                                                                               </td><td>White River Amphitheatre Premier Parking                                                                                                                    </td><td>NULL                                                                                                                                                        </td><td>MISC                                                                                                                                                        </td><td>PARKING                                                                                                                                                     </td><td>PARKING                                                                                                                                                     </td><td>Premier Parking - motley crue                                                                                                                               </td><td>THIS TICKET IS VALID%FOR PARKING ONLY%GOOD THIS DATE ONLY%PREMIER PARKING PASS%WHITE RIVER AMPHITHEATRE%SAT JUL 30, 2005 6:00PM                             </td><td>1                                                                                                                                                           </td><td>20                                                                                                                                                          </td><td>...                                                                                                                                                         </td><td>00:00:00                                                                                                                                                    </td><td>2005-06-18                                                                                                                                                  </td><td>2005-06-28                                                                                                                                                  </td><td>PST                                                                                                                                                         </td><td>AUBURN, WASHINGTON                                                                                                                                          </td><td>98092                                                                                                                                                       </td><td>NULL                                                                                                                                                        </td><td>T                                                                                                                                                           </td><td>N                                                                                                                                                           </td><td>Seattle                                                                                                                                                     </td></tr>\n",
       "\t<tr><td>Fast Lane Access: Journey                                                                                                                                   </td><td>Fast Lane Access                                                                                                                                            </td><td>Journey                                                                                                                                                     </td><td>MISC                                                                                                                                                        </td><td>SPECIAL ENTRY (UPSELL)                                                                                                                                      </td><td>UPSELL                                                                                                                                                      </td><td>Fast Lane Access: Journey                                                                                                                                   </td><td>        FAST LANE                  JOURNEY               FAST LANE EVENT         THIS IS NOT A TICKET    SAN MANUEL AMPHITHEATER   SAT JUL 21 2012 7:00 PM  </td><td>2                                                                                                                                                           </td><td>10                                                                                                                                                          </td><td>...                                                                                                                                                         </td><td>17:20:18                                                                                                                                                    </td><td>2012-07-21                                                                                                                                                  </td><td>2012-07-21                                                                                                                                                  </td><td>PST                                                                                                                                                         </td><td>SAN BERNARDINO, CALIFORNIA                                                                                                                                  </td><td>92407                                                                                                                                                       </td><td>www.livenation.com                                                                                                                                          </td><td>T                                                                                                                                                           </td><td>N                                                                                                                                                           </td><td>Los Angeles                                                                                                                                                 </td></tr>\n",
       "</tbody>\n",
       "</table>\n"
      ],
      "text/latex": [
       "\\begin{tabular}{r|llllllllllllllllllllllllll}\n",
       " event\\_name & primary\\_act\\_name & secondary\\_act\\_name & major\\_cat\\_name & minor\\_cat\\_name & la\\_event\\_type\\_cat & event\\_disp\\_name & ticket\\_text & tickets\\_purchased\\_qty & trans\\_face\\_val\\_amt & ... & ord\\_create\\_time & sales\\_ord\\_tran\\_dt & print\\_dt & timezn\\_nm & venue\\_city\\_state & venue\\_postal\\_cd\\_sgmt\\_1 & sales\\_platform\\_cd & print\\_flg & la\\_valid\\_tkt\\_event\\_flg & fin\\_mkt\\_nm\\\\\n",
       "\\hline\n",
       "\t Xfinity Center Mansfield Premier Parking: Florida Georgia Line                                                                                               & XFINITY Center Mansfield Premier Parking                                                                                                                     & NULL                                                                                                                                                         & MISC                                                                                                                                                         & PARKING                                                                                                                                                      & PARKING                                                                                                                                                      & Xfinity Center Mansfield Premier Parking: Florida Georgia Line                                                                                               &    THIS TICKET IS VALID        FOR PARKING ONLY         GOOD THIS DAY ONLY       PREMIER PARKING PASS    XFINITY CENTER,LOTS 4 PM  SAT SEP 12 2015 7:30 PM   & 1                                                                                                                                                            & 45                                                                                                                                                           & ...                                                                                                                                                          & 18:17:45                                                                                                                                                     & 2015-09-11                                                                                                                                                   & 2015-09-12                                                                                                                                                   & EST                                                                                                                                                          & MANSFIELD, MASSACHUSETTS                                                                                                                                     & 02048                                                                                                                                                        & www.concerts.livenation.com                                                                                                                                  & T                                                                                                                                                            & N                                                                                                                                                            & Boston                                                                                                                                                      \\\\\n",
       "\t Gorge Camping - dave matthews band - sept 3-7                                                                                                                          & Gorge Camping                                                                                                                                                          & Dave Matthews Band                                                                                                                                                     & MISC                                                                                                                                                                   & CAMPING                                                                                                                                                                & INVALID                                                                                                                                                                & Gorge Camping - dave matthews band - sept 3-7                                                                                                                          & \\%OVERNIGHT C A M P I N G\\%* * * * * *\\%GORGE CAMPGROUND\\%* GOOD THIS DATE ONLY *\\%SEP 3 - 6, 2009                                                                & 1                                                                                                                                                                      & 75                                                                                                                                                                     & ...                                                                                                                                                                    & 00:00:00                                                                                                                                                               & 2009-07-05                                                                                                                                                             & 2009-09-01                                                                                                                                                             & PST                                                                                                                                                                    & QUINCY, WASHINGTON                                                                                                                                                     & 98848                                                                                                                                                                  & NULL                                                                                                                                                                   & T                                                                                                                                                                      & N                                                                                                                                                                      & Seattle                                                                                                                                                               \\\\\n",
       "\t Dodge Theatre Adams Street Parking - benise                                                                                                                            & Parking Event                                                                                                                                                          & NULL                                                                                                                                                                   & MISC                                                                                                                                                                   & PARKING                                                                                                                                                                & PARKING                                                                                                                                                                & Dodge Theatre Adams Street Parking - benise                                                                                                                            & ADAMS STREET GARAGE\\%PARKING FOR 4/21/06 ONLY\\%DODGE THEATRE PARKING PASS\\%ENTRANCE ON ADAMS STREET\\%BENISE\\%GARAGE OPENS AT 6:00PM                               & 1                                                                                                                                                                      &  5                                                                                                                                                                     & ...                                                                                                                                                                    & 00:00:00                                                                                                                                                               & 2006-04-05                                                                                                                                                             & 2006-04-05                                                                                                                                                             & MST                                                                                                                                                                    & PHOENIX, ARIZONA                                                                                                                                                       & 85003                                                                                                                                                                  & NULL                                                                                                                                                                   & T                                                                                                                                                                      & N                                                                                                                                                                      & Arizona                                                                                                                                                               \\\\\n",
       "\t Gexa Energy Pavilion Vip Parking : kid rock with sheryl crow                                                                                                 & Gexa Energy Pavilion VIP Parking                                                                                                                             & NULL                                                                                                                                                         & MISC                                                                                                                                                         & PARKING                                                                                                                                                      & PARKING                                                                                                                                                      & Gexa Energy Pavilion Vip Parking : kid rock with sheryl crow                                                                                                 &    THIS TICKET IS VALID        FOR PARKING ONLY      GOOD FOR THIS DATE ONLY       VIP PARKING PASS        GEXA ENERGY PAVILION    FRI SEP 02 2011 7:00 PM   & 1                                                                                                                                                            & 20                                                                                                                                                           & ...                                                                                                                                                          & 17:38:50                                                                                                                                                     & 2011-07-01                                                                                                                                                   & 2011-07-06                                                                                                                                                   & CST                                                                                                                                                          & DALLAS, TEXAS                                                                                                                                                & 75210                                                                                                                                                        & NULL                                                                                                                                                         & T                                                                                                                                                            & N                                                                                                                                                            & Dallas                                                                                                                                                      \\\\\n",
       "\t Premier Parking - motley crue                                                                                                                                          & White River Amphitheatre Premier Parking                                                                                                                               & NULL                                                                                                                                                                   & MISC                                                                                                                                                                   & PARKING                                                                                                                                                                & PARKING                                                                                                                                                                & Premier Parking - motley crue                                                                                                                                          & THIS TICKET IS VALID\\%FOR PARKING ONLY\\%GOOD THIS DATE ONLY\\%PREMIER PARKING PASS\\%WHITE RIVER AMPHITHEATRE\\%SAT JUL 30, 2005 6:00PM                              & 1                                                                                                                                                                      & 20                                                                                                                                                                     & ...                                                                                                                                                                    & 00:00:00                                                                                                                                                               & 2005-06-18                                                                                                                                                             & 2005-06-28                                                                                                                                                             & PST                                                                                                                                                                    & AUBURN, WASHINGTON                                                                                                                                                     & 98092                                                                                                                                                                  & NULL                                                                                                                                                                   & T                                                                                                                                                                      & N                                                                                                                                                                      & Seattle                                                                                                                                                               \\\\\n",
       "\t Fast Lane Access: Journey                                                                                                                                    & Fast Lane Access                                                                                                                                             & Journey                                                                                                                                                      & MISC                                                                                                                                                         & SPECIAL ENTRY (UPSELL)                                                                                                                                       & UPSELL                                                                                                                                                       & Fast Lane Access: Journey                                                                                                                                    &         FAST LANE                  JOURNEY               FAST LANE EVENT         THIS IS NOT A TICKET    SAN MANUEL AMPHITHEATER   SAT JUL 21 2012 7:00 PM   & 2                                                                                                                                                            & 10                                                                                                                                                           & ...                                                                                                                                                          & 17:20:18                                                                                                                                                     & 2012-07-21                                                                                                                                                   & 2012-07-21                                                                                                                                                   & PST                                                                                                                                                          & SAN BERNARDINO, CALIFORNIA                                                                                                                                   & 92407                                                                                                                                                        & www.livenation.com                                                                                                                                           & T                                                                                                                                                            & N                                                                                                                                                            & Los Angeles                                                                                                                                                 \\\\\n",
       "\\end{tabular}\n"
      ],
      "text/markdown": [
       "\n",
       "event_name | primary_act_name | secondary_act_name | major_cat_name | minor_cat_name | la_event_type_cat | event_disp_name | ticket_text | tickets_purchased_qty | trans_face_val_amt | ... | ord_create_time | sales_ord_tran_dt | print_dt | timezn_nm | venue_city_state | venue_postal_cd_sgmt_1 | sales_platform_cd | print_flg | la_valid_tkt_event_flg | fin_mkt_nm | \n",
       "|---|---|---|---|---|---|\n",
       "| Xfinity Center Mansfield Premier Parking: Florida Georgia Line                                                                                               | XFINITY Center Mansfield Premier Parking                                                                                                                     | NULL                                                                                                                                                         | MISC                                                                                                                                                         | PARKING                                                                                                                                                      | PARKING                                                                                                                                                      | Xfinity Center Mansfield Premier Parking: Florida Georgia Line                                                                                               |    THIS TICKET IS VALID        FOR PARKING ONLY         GOOD THIS DAY ONLY       PREMIER PARKING PASS    XFINITY CENTER,LOTS 4 PM  SAT SEP 12 2015 7:30 PM   | 1                                                                                                                                                            | 45                                                                                                                                                           | ...                                                                                                                                                          | 18:17:45                                                                                                                                                     | 2015-09-11                                                                                                                                                   | 2015-09-12                                                                                                                                                   | EST                                                                                                                                                          | MANSFIELD, MASSACHUSETTS                                                                                                                                     | 02048                                                                                                                                                        | www.concerts.livenation.com                                                                                                                                  | T                                                                                                                                                            | N                                                                                                                                                            | Boston                                                                                                                                                       | \n",
       "| Gorge Camping - dave matthews band - sept 3-7                                                                                                                | Gorge Camping                                                                                                                                                | Dave Matthews Band                                                                                                                                           | MISC                                                                                                                                                         | CAMPING                                                                                                                                                      | INVALID                                                                                                                                                      | Gorge Camping - dave matthews band - sept 3-7                                                                                                                | %OVERNIGHT C A M P I N G%* * * * * *%GORGE CAMPGROUND%* GOOD THIS DATE ONLY *%SEP 3 - 6, 2009                                                                | 1                                                                                                                                                            | 75                                                                                                                                                           | ...                                                                                                                                                          | 00:00:00                                                                                                                                                     | 2009-07-05                                                                                                                                                   | 2009-09-01                                                                                                                                                   | PST                                                                                                                                                          | QUINCY, WASHINGTON                                                                                                                                           | 98848                                                                                                                                                        | NULL                                                                                                                                                         | T                                                                                                                                                            | N                                                                                                                                                            | Seattle                                                                                                                                                      | \n",
       "| Dodge Theatre Adams Street Parking - benise                                                                                                                  | Parking Event                                                                                                                                                | NULL                                                                                                                                                         | MISC                                                                                                                                                         | PARKING                                                                                                                                                      | PARKING                                                                                                                                                      | Dodge Theatre Adams Street Parking - benise                                                                                                                  | ADAMS STREET GARAGE%PARKING FOR 4/21/06 ONLY%DODGE THEATRE PARKING PASS%ENTRANCE ON ADAMS STREET%BENISE%GARAGE OPENS AT 6:00PM                               | 1                                                                                                                                                            |  5                                                                                                                                                           | ...                                                                                                                                                          | 00:00:00                                                                                                                                                     | 2006-04-05                                                                                                                                                   | 2006-04-05                                                                                                                                                   | MST                                                                                                                                                          | PHOENIX, ARIZONA                                                                                                                                             | 85003                                                                                                                                                        | NULL                                                                                                                                                         | T                                                                                                                                                            | N                                                                                                                                                            | Arizona                                                                                                                                                      | \n",
       "| Gexa Energy Pavilion Vip Parking : kid rock with sheryl crow                                                                                                 | Gexa Energy Pavilion VIP Parking                                                                                                                             | NULL                                                                                                                                                         | MISC                                                                                                                                                         | PARKING                                                                                                                                                      | PARKING                                                                                                                                                      | Gexa Energy Pavilion Vip Parking : kid rock with sheryl crow                                                                                                 |    THIS TICKET IS VALID        FOR PARKING ONLY      GOOD FOR THIS DATE ONLY       VIP PARKING PASS        GEXA ENERGY PAVILION    FRI SEP 02 2011 7:00 PM   | 1                                                                                                                                                            | 20                                                                                                                                                           | ...                                                                                                                                                          | 17:38:50                                                                                                                                                     | 2011-07-01                                                                                                                                                   | 2011-07-06                                                                                                                                                   | CST                                                                                                                                                          | DALLAS, TEXAS                                                                                                                                                | 75210                                                                                                                                                        | NULL                                                                                                                                                         | T                                                                                                                                                            | N                                                                                                                                                            | Dallas                                                                                                                                                       | \n",
       "| Premier Parking - motley crue                                                                                                                                | White River Amphitheatre Premier Parking                                                                                                                     | NULL                                                                                                                                                         | MISC                                                                                                                                                         | PARKING                                                                                                                                                      | PARKING                                                                                                                                                      | Premier Parking - motley crue                                                                                                                                | THIS TICKET IS VALID%FOR PARKING ONLY%GOOD THIS DATE ONLY%PREMIER PARKING PASS%WHITE RIVER AMPHITHEATRE%SAT JUL 30, 2005 6:00PM                              | 1                                                                                                                                                            | 20                                                                                                                                                           | ...                                                                                                                                                          | 00:00:00                                                                                                                                                     | 2005-06-18                                                                                                                                                   | 2005-06-28                                                                                                                                                   | PST                                                                                                                                                          | AUBURN, WASHINGTON                                                                                                                                           | 98092                                                                                                                                                        | NULL                                                                                                                                                         | T                                                                                                                                                            | N                                                                                                                                                            | Seattle                                                                                                                                                      | \n",
       "| Fast Lane Access: Journey                                                                                                                                    | Fast Lane Access                                                                                                                                             | Journey                                                                                                                                                      | MISC                                                                                                                                                         | SPECIAL ENTRY (UPSELL)                                                                                                                                       | UPSELL                                                                                                                                                       | Fast Lane Access: Journey                                                                                                                                    |         FAST LANE                  JOURNEY               FAST LANE EVENT         THIS IS NOT A TICKET    SAN MANUEL AMPHITHEATER   SAT JUL 21 2012 7:00 PM   | 2                                                                                                                                                            | 10                                                                                                                                                           | ...                                                                                                                                                          | 17:20:18                                                                                                                                                     | 2012-07-21                                                                                                                                                   | 2012-07-21                                                                                                                                                   | PST                                                                                                                                                          | SAN BERNARDINO, CALIFORNIA                                                                                                                                   | 92407                                                                                                                                                        | www.livenation.com                                                                                                                                           | T                                                                                                                                                            | N                                                                                                                                                            | Los Angeles                                                                                                                                                  | \n",
       "\n",
       "\n"
      ],
      "text/plain": [
       "  event_name                                                    \n",
       "1 Xfinity Center Mansfield Premier Parking: Florida Georgia Line\n",
       "2 Gorge Camping - dave matthews band - sept 3-7                 \n",
       "3 Dodge Theatre Adams Street Parking - benise                   \n",
       "4 Gexa Energy Pavilion Vip Parking : kid rock with sheryl crow  \n",
       "5 Premier Parking - motley crue                                 \n",
       "6 Fast Lane Access: Journey                                     \n",
       "  primary_act_name                         secondary_act_name major_cat_name\n",
       "1 XFINITY Center Mansfield Premier Parking NULL               MISC          \n",
       "2 Gorge Camping                            Dave Matthews Band MISC          \n",
       "3 Parking Event                            NULL               MISC          \n",
       "4 Gexa Energy Pavilion VIP Parking         NULL               MISC          \n",
       "5 White River Amphitheatre Premier Parking NULL               MISC          \n",
       "6 Fast Lane Access                         Journey            MISC          \n",
       "  minor_cat_name         la_event_type_cat\n",
       "1 PARKING                PARKING          \n",
       "2 CAMPING                INVALID          \n",
       "3 PARKING                PARKING          \n",
       "4 PARKING                PARKING          \n",
       "5 PARKING                PARKING          \n",
       "6 SPECIAL ENTRY (UPSELL) UPSELL           \n",
       "  event_disp_name                                               \n",
       "1 Xfinity Center Mansfield Premier Parking: Florida Georgia Line\n",
       "2 Gorge Camping - dave matthews band - sept 3-7                 \n",
       "3 Dodge Theatre Adams Street Parking - benise                   \n",
       "4 Gexa Energy Pavilion Vip Parking : kid rock with sheryl crow  \n",
       "5 Premier Parking - motley crue                                 \n",
       "6 Fast Lane Access: Journey                                     \n",
       "  ticket_text                                                                                                                                                 \n",
       "1    THIS TICKET IS VALID        FOR PARKING ONLY         GOOD THIS DAY ONLY       PREMIER PARKING PASS    XFINITY CENTER,LOTS 4 PM  SAT SEP 12 2015 7:30 PM  \n",
       "2 %OVERNIGHT C A M P I N G%* * * * * *%GORGE CAMPGROUND%* GOOD THIS DATE ONLY *%SEP 3 - 6, 2009                                                               \n",
       "3 ADAMS STREET GARAGE%PARKING FOR 4/21/06 ONLY%DODGE THEATRE PARKING PASS%ENTRANCE ON ADAMS STREET%BENISE%GARAGE OPENS AT 6:00PM                              \n",
       "4    THIS TICKET IS VALID        FOR PARKING ONLY      GOOD FOR THIS DATE ONLY       VIP PARKING PASS        GEXA ENERGY PAVILION    FRI SEP 02 2011 7:00 PM  \n",
       "5 THIS TICKET IS VALID%FOR PARKING ONLY%GOOD THIS DATE ONLY%PREMIER PARKING PASS%WHITE RIVER AMPHITHEATRE%SAT JUL 30, 2005 6:00PM                             \n",
       "6         FAST LANE                  JOURNEY               FAST LANE EVENT         THIS IS NOT A TICKET    SAN MANUEL AMPHITHEATER   SAT JUL 21 2012 7:00 PM  \n",
       "  tickets_purchased_qty trans_face_val_amt ... ord_create_time\n",
       "1 1                     45                 ... 18:17:45       \n",
       "2 1                     75                 ... 00:00:00       \n",
       "3 1                      5                 ... 00:00:00       \n",
       "4 1                     20                 ... 17:38:50       \n",
       "5 1                     20                 ... 00:00:00       \n",
       "6 2                     10                 ... 17:20:18       \n",
       "  sales_ord_tran_dt print_dt   timezn_nm venue_city_state          \n",
       "1 2015-09-11        2015-09-12 EST       MANSFIELD, MASSACHUSETTS  \n",
       "2 2009-07-05        2009-09-01 PST       QUINCY, WASHINGTON        \n",
       "3 2006-04-05        2006-04-05 MST       PHOENIX, ARIZONA          \n",
       "4 2011-07-01        2011-07-06 CST       DALLAS, TEXAS             \n",
       "5 2005-06-18        2005-06-28 PST       AUBURN, WASHINGTON        \n",
       "6 2012-07-21        2012-07-21 PST       SAN BERNARDINO, CALIFORNIA\n",
       "  venue_postal_cd_sgmt_1 sales_platform_cd           print_flg\n",
       "1 02048                  www.concerts.livenation.com T        \n",
       "2 98848                  NULL                        T        \n",
       "3 85003                  NULL                        T        \n",
       "4 75210                  NULL                        T        \n",
       "5 98092                  NULL                        T        \n",
       "6 92407                  www.livenation.com          T        \n",
       "  la_valid_tkt_event_flg fin_mkt_nm \n",
       "1 N                      Boston     \n",
       "2 N                      Seattle    \n",
       "3 N                      Arizona    \n",
       "4 N                      Dallas     \n",
       "5 N                      Seattle    \n",
       "6 N                      Los Angeles"
      ]
     },
     "metadata": {},
     "output_type": "display_data"
    }
   ],
   "source": [
    "# Combine the venue_city and venue_state columns\n",
    "sales6 <- unite(sales5, venue_city_state, venue_city, venue_state, sep = \", \")\n",
    "\n",
    "\n",
    "# View the head of sales6\n",
    "head(sales6)"
   ]
  },
  {
   "cell_type": "markdown",
   "metadata": {},
   "source": [
    "# Case study MBTA Ridership Data\n",
    "The Massachusetts Bay Transportation Authority (\"MBTA\" or just \"the T\" for short) manages America's oldest subway, as well as Greater Boston's commuter rail, ferry, and bus systems.\n",
    "\n",
    "It's your first day on the job as the T's data analyst and you've been tasked with analyzing average ridership through time."
   ]
  },
  {
   "cell_type": "code",
   "execution_count": 47,
   "metadata": {},
   "outputs": [],
   "source": [
    "# Load readxl\n",
    "library(readxl)\n",
    "\n",
    "# Import mbta.xlsx and skip first row: mbta\n",
    "mbta <- read_excel(\"mbta.xlsx\", skip = 1)"
   ]
  },
  {
   "cell_type": "markdown",
   "metadata": {},
   "source": [
    "Examine the data"
   ]
  },
  {
   "cell_type": "code",
   "execution_count": 48,
   "metadata": {},
   "outputs": [
    {
     "name": "stdout",
     "output_type": "stream",
     "text": [
      "Observations: 11\n",
      "Variables: 60\n",
      "$ X__1      <dbl> 1, 2, 3, 4, 5, 6, 7, 8, 9, 10, 11\n",
      "$ mode      <chr> \"All Modes by Qtr\", \"Boat\", \"Bus\", \"Commuter Rail\", \"Heav...\n",
      "$ `2007-01` <chr> \"NA\", \"4\", \"335.819\", \"142.2\", \"435.294\", \"227.231\", \"0.0...\n",
      "$ `2007-02` <chr> \"NA\", \"3.6\", \"338.675\", \"138.5\", \"448.271\", \"240.262\", \"-...\n",
      "$ `2007-03` <dbl> 1187.653, 40.000, 339.867, 137.700, 458.583, 241.444, 0.1...\n",
      "$ `2007-04` <chr> \"NA\", \"4.3\", \"352.162\", \"139.5\", \"472.201\", \"255.557\", \"-...\n",
      "$ `2007-05` <chr> \"NA\", \"4.9\", \"354.367\", \"139\", \"474.579\", \"248.262\", \"0.0...\n",
      "$ `2007-06` <dbl> 1245.959, 5.800, 350.543, 143.000, 477.032, 246.108, 0.09...\n",
      "$ `2007-07` <chr> \"NA\", \"6.521\", \"357.519\", \"142.391\", \"471.735\", \"243.286\"...\n",
      "$ `2007-08` <chr> \"NA\", \"6.572\", \"355.479\", \"142.364\", \"461.605\", \"234.907\"...\n",
      "$ `2007-09` <dbl> 1256.571, 5.469, 372.598, 143.051, 499.566, 265.748, -0.0...\n",
      "$ `2007-10` <chr> \"NA\", \"5.145\", \"368.847\", \"146.542\", \"457.741\", \"241.434\"...\n",
      "$ `2007-11` <chr> \"NA\", \"3.763\", \"330.826\", \"145.089\", \"488.348\", \"250.497\"...\n",
      "$ `2007-12` <dbl> 1216.890, 2.985, 312.920, 141.585, 448.268, 233.379, -0.0...\n",
      "$ `2008-01` <chr> \"NA\", \"3.175\", \"340.324\", \"142.145\", \"472.624\", \"241.223\"...\n",
      "$ `2008-02` <chr> \"NA\", \"3.111\", \"352.905\", \"142.607\", \"492.1\", \"249.306\", ...\n",
      "$ `2008-03` <dbl> 1253.522, 3.512, 361.155, 137.453, 494.046, 253.132, 0.05...\n",
      "$ `2008-04` <chr> \"NA\", \"4.164\", \"368.189\", \"140.389\", \"513.204\", \"271.07\",...\n",
      "$ `2008-05` <chr> \"NA\", \"4.015\", \"363.903\", \"142.585\", \"507.952\", \"258.351\"...\n",
      "$ `2008-06` <dbl> 1314.821, 5.189, 362.962, 142.057, 518.349, 266.961, 0.06...\n",
      "$ `2008-07` <chr> \"NA\", \"6.016\", \"370.921\", \"145.731\", \"512.309\", \"270.158\"...\n",
      "$ `2008-08` <chr> \"NA\", \"5.8\", \"361.057\", \"144.565\", \"476.99\", \"239.344\", \"...\n",
      "$ `2008-09` <dbl> 1307.041, 4.587, 389.537, 141.907, 517.324, 258.171, 0.02...\n",
      "$ `2008-10` <chr> \"NA\", \"4.285\", \"357.974\", \"151.957\", \"523.644\", \"250.063\"...\n",
      "$ `2008-11` <chr> \"NA\", \"3.488\", \"345.423\", \"152.952\", \"487.115\", \"232.068\"...\n",
      "$ `2008-12` <dbl> 1232.655, 3.007, 325.767, 140.810, 446.743, 205.420, -0.0...\n",
      "$ `2009-01` <chr> \"NA\", \"3.014\", \"338.532\", \"141.448\", \"461.004\", \"215.66\",...\n",
      "$ `2009-02` <chr> \"NA\", \"3.196\", \"360.412\", \"143.529\", \"482.407\", \"228.737\"...\n",
      "$ `2009-03` <dbl> 1209.792, 3.330, 353.686, 142.893, 467.224, 222.844, -0.0...\n",
      "$ `2009-04` <chr> \"NA\", \"4.049\", \"359.38\", \"142.34\", \"493.152\", \"238.232\", ...\n",
      "$ `2009-05` <chr> \"NA\", \"4.119\", \"354.75\", \"144.225\", \"475.634\", \"224.962\",...\n",
      "$ `2009-06` <dbl> 1233.085, 4.900, 347.865, 142.006, 473.099, 226.259, -0.0...\n",
      "$ `2009-07` <chr> \"NA\", \"6.444\", \"339.477\", \"137.691\", \"470.828\", \"230.308\"...\n",
      "$ `2009-08` <chr> \"NA\", \"5.903\", \"332.661\", \"139.158\", \"466.676\", \"231.783\"...\n",
      "$ `2009-09` <dbl> 1230.461, 4.696, 374.260, 139.087, 500.403, 250.922, -0.0...\n",
      "$ `2009-10` <chr> \"NA\", \"4.212\", \"385.868\", \"137.104\", \"513.406\", \"230.739\"...\n",
      "$ `2009-11` <chr> \"NA\", \"3.576\", \"366.98\", \"129.343\", \"480.278\", \"214.711\",...\n",
      "$ `2009-12` <dbl> 1207.845, 3.113, 332.394, 126.066, 440.925, 194.446, -0.0...\n",
      "$ `2010-01` <chr> \"NA\", \"3.207\", \"362.226\", \"130.91\", \"464.069\", \"204.396\",...\n",
      "$ `2010-02` <chr> \"NA\", \"3.195\", \"361.138\", \"131.918\", \"480.121\", \"213.136\"...\n",
      "$ `2010-03` <dbl> 1208.857, 3.481, 373.443, 131.252, 483.397, 211.693, 0.01...\n",
      "$ `2010-04` <chr> \"NA\", \"4.452\", \"378.611\", \"131.722\", \"502.374\", \"227.246\"...\n",
      "$ `2010-05` <chr> \"NA\", \"4.415\", \"380.171\", \"128.8\", \"487.4\", \"217.805\", \"0...\n",
      "$ `2010-06` <dbl> 1244.409, 5.411, 363.275, 129.144, 490.263, 215.922, 0.00...\n",
      "$ `2010-07` <chr> \"NA\", \"6.513\", \"353.04\", \"122.935\", \"488.587\", \"218.729\",...\n",
      "$ `2010-08` <chr> \"NA\", \"6.269\", \"343.688\", \"129.732\", \"473.731\", \"210.53\",...\n",
      "$ `2010-09` <dbl> 1225.527, 4.699, 381.622, 132.892, 521.099, 236.368, 0.00...\n",
      "$ `2010-10` <chr> \"NA\", \"4.402\", \"384.987\", \"131.033\", \"532.403\", \"236.366\"...\n",
      "$ `2010-11` <chr> \"NA\", \"3.731\", \"367.955\", \"130.889\", \"502.887\", \"221.881\"...\n",
      "$ `2010-12` <dbl> 1216.262, 3.156, 326.338, 121.422, 450.433, 196.211, -0.0...\n",
      "$ `2011-01` <chr> \"NA\", \"3.14\", \"334.958\", \"128.396\", \"468.418\", \"198.45\", ...\n",
      "$ `2011-02` <chr> \"NA\", \"3.284\", \"346.234\", \"125.463\", \"504.068\", \"219.886\"...\n",
      "$ `2011-03` <dbl> 1223.452, 3.674, 380.399, 134.374, 516.730, 227.935, 0.05...\n",
      "$ `2011-04` <chr> \"NA\", \"4.251\", \"380.446\", \"134.169\", \"528.631\", \"242.28\",...\n",
      "$ `2011-05` <chr> \"NA\", \"4.431\", \"385.289\", \"136.14\", \"528.122\", \"225.776\",...\n",
      "$ `2011-06` <dbl> 1302.414, 5.474, 376.317, 135.581, 529.528, 221.865, 0.05...\n",
      "$ `2011-07` <chr> \"NA\", \"6.581\", \"361.585\", \"132.41\", \"532.888\", \"231.01\", ...\n",
      "$ `2011-08` <chr> \"NA\", \"6.733\", \"353.793\", \"130.616\", \"508.145\", \"220.164\"...\n",
      "$ `2011-09` <dbl> 1290.549, 5.003, 388.271, 136.901, 550.137, 244.949, 0.04...\n",
      "$ `2011-10` <chr> \"NA\", \"4.484\", \"398.456\", \"128.72\", \"554.932\", \"237.768\",...\n"
     ]
    },
    {
     "data": {
      "text/html": [
       "<table>\n",
       "<thead><tr><th scope=col>X__1</th><th scope=col>mode</th><th scope=col>2007-01</th><th scope=col>2007-02</th><th scope=col>2007-03</th><th scope=col>2007-04</th><th scope=col>2007-05</th><th scope=col>2007-06</th><th scope=col>2007-07</th><th scope=col>2007-08</th><th scope=col>...</th><th scope=col>2011-01</th><th scope=col>2011-02</th><th scope=col>2011-03</th><th scope=col>2011-04</th><th scope=col>2011-05</th><th scope=col>2011-06</th><th scope=col>2011-07</th><th scope=col>2011-08</th><th scope=col>2011-09</th><th scope=col>2011-10</th></tr></thead>\n",
       "<tbody>\n",
       "\t<tr><td>1               </td><td>All Modes by Qtr</td><td>NA              </td><td>NA              </td><td>1187.653        </td><td>NA              </td><td>NA              </td><td>1245.959        </td><td>NA              </td><td>NA              </td><td>...             </td><td>NA              </td><td>NA              </td><td>1223.452        </td><td>NA              </td><td>NA              </td><td>1302.414        </td><td>NA              </td><td>NA              </td><td>1290.549        </td><td>NA              </td></tr>\n",
       "\t<tr><td>2               </td><td>Boat            </td><td>4               </td><td>3.6             </td><td>  40.000        </td><td>4.3             </td><td>4.9             </td><td>   5.800        </td><td>6.521           </td><td>6.572           </td><td>...             </td><td>3.14            </td><td>3.284           </td><td>   3.674        </td><td>4.251           </td><td>4.431           </td><td>   5.474        </td><td>6.581           </td><td>6.733           </td><td>   5.003        </td><td>4.484           </td></tr>\n",
       "\t<tr><td>3               </td><td>Bus             </td><td>335.819         </td><td>338.675         </td><td> 339.867        </td><td>352.162         </td><td>354.367         </td><td> 350.543        </td><td>357.519         </td><td>355.479         </td><td>...             </td><td>334.958         </td><td>346.234         </td><td> 380.399        </td><td>380.446         </td><td>385.289         </td><td> 376.317        </td><td>361.585         </td><td>353.793         </td><td> 388.271        </td><td>398.456         </td></tr>\n",
       "\t<tr><td>4               </td><td>Commuter Rail   </td><td>142.2           </td><td>138.5           </td><td> 137.700        </td><td>139.5           </td><td>139             </td><td> 143.000        </td><td>142.391         </td><td>142.364         </td><td>...             </td><td>128.396         </td><td>125.463         </td><td> 134.374        </td><td>134.169         </td><td>136.14          </td><td> 135.581        </td><td>132.41          </td><td>130.616         </td><td> 136.901        </td><td>128.72          </td></tr>\n",
       "\t<tr><td>5               </td><td>Heavy Rail      </td><td>435.294         </td><td>448.271         </td><td> 458.583        </td><td>472.201         </td><td>474.579         </td><td> 477.032        </td><td>471.735         </td><td>461.605         </td><td>...             </td><td>468.418         </td><td>504.068         </td><td> 516.730        </td><td>528.631         </td><td>528.122         </td><td> 529.528        </td><td>532.888         </td><td>508.145         </td><td> 550.137        </td><td>554.932         </td></tr>\n",
       "\t<tr><td>6               </td><td>Light Rail      </td><td>227.231         </td><td>240.262         </td><td> 241.444        </td><td>255.557         </td><td>248.262         </td><td> 246.108        </td><td>243.286         </td><td>234.907         </td><td>...             </td><td>198.45          </td><td>219.886         </td><td> 227.935        </td><td>242.28          </td><td>225.776         </td><td> 221.865        </td><td>231.01          </td><td>220.164         </td><td> 244.949        </td><td>237.768         </td></tr>\n",
       "</tbody>\n",
       "</table>\n"
      ],
      "text/latex": [
       "\\begin{tabular}{r|llllllllllllllllllllllllllllllllllllllllllllllllllllllllllll}\n",
       " X\\_\\_1 & mode & 2007-01 & 2007-02 & 2007-03 & 2007-04 & 2007-05 & 2007-06 & 2007-07 & 2007-08 & ... & 2011-01 & 2011-02 & 2011-03 & 2011-04 & 2011-05 & 2011-06 & 2011-07 & 2011-08 & 2011-09 & 2011-10\\\\\n",
       "\\hline\n",
       "\t 1                & All Modes by Qtr & NA               & NA               & 1187.653         & NA               & NA               & 1245.959         & NA               & NA               & ...              & NA               & NA               & 1223.452         & NA               & NA               & 1302.414         & NA               & NA               & 1290.549         & NA              \\\\\n",
       "\t 2                & Boat             & 4                & 3.6              &   40.000         & 4.3              & 4.9              &    5.800         & 6.521            & 6.572            & ...              & 3.14             & 3.284            &    3.674         & 4.251            & 4.431            &    5.474         & 6.581            & 6.733            &    5.003         & 4.484           \\\\\n",
       "\t 3                & Bus              & 335.819          & 338.675          &  339.867         & 352.162          & 354.367          &  350.543         & 357.519          & 355.479          & ...              & 334.958          & 346.234          &  380.399         & 380.446          & 385.289          &  376.317         & 361.585          & 353.793          &  388.271         & 398.456         \\\\\n",
       "\t 4                & Commuter Rail    & 142.2            & 138.5            &  137.700         & 139.5            & 139              &  143.000         & 142.391          & 142.364          & ...              & 128.396          & 125.463          &  134.374         & 134.169          & 136.14           &  135.581         & 132.41           & 130.616          &  136.901         & 128.72          \\\\\n",
       "\t 5                & Heavy Rail       & 435.294          & 448.271          &  458.583         & 472.201          & 474.579          &  477.032         & 471.735          & 461.605          & ...              & 468.418          & 504.068          &  516.730         & 528.631          & 528.122          &  529.528         & 532.888          & 508.145          &  550.137         & 554.932         \\\\\n",
       "\t 6                & Light Rail       & 227.231          & 240.262          &  241.444         & 255.557          & 248.262          &  246.108         & 243.286          & 234.907          & ...              & 198.45           & 219.886          &  227.935         & 242.28           & 225.776          &  221.865         & 231.01           & 220.164          &  244.949         & 237.768         \\\\\n",
       "\\end{tabular}\n"
      ],
      "text/markdown": [
       "\n",
       "X__1 | mode | 2007-01 | 2007-02 | 2007-03 | 2007-04 | 2007-05 | 2007-06 | 2007-07 | 2007-08 | ... | 2011-01 | 2011-02 | 2011-03 | 2011-04 | 2011-05 | 2011-06 | 2011-07 | 2011-08 | 2011-09 | 2011-10 | \n",
       "|---|---|---|---|---|---|\n",
       "| 1                | All Modes by Qtr | NA               | NA               | 1187.653         | NA               | NA               | 1245.959         | NA               | NA               | ...              | NA               | NA               | 1223.452         | NA               | NA               | 1302.414         | NA               | NA               | 1290.549         | NA               | \n",
       "| 2                | Boat             | 4                | 3.6              |   40.000         | 4.3              | 4.9              |    5.800         | 6.521            | 6.572            | ...              | 3.14             | 3.284            |    3.674         | 4.251            | 4.431            |    5.474         | 6.581            | 6.733            |    5.003         | 4.484            | \n",
       "| 3                | Bus              | 335.819          | 338.675          |  339.867         | 352.162          | 354.367          |  350.543         | 357.519          | 355.479          | ...              | 334.958          | 346.234          |  380.399         | 380.446          | 385.289          |  376.317         | 361.585          | 353.793          |  388.271         | 398.456          | \n",
       "| 4                | Commuter Rail    | 142.2            | 138.5            |  137.700         | 139.5            | 139              |  143.000         | 142.391          | 142.364          | ...              | 128.396          | 125.463          |  134.374         | 134.169          | 136.14           |  135.581         | 132.41           | 130.616          |  136.901         | 128.72           | \n",
       "| 5                | Heavy Rail       | 435.294          | 448.271          |  458.583         | 472.201          | 474.579          |  477.032         | 471.735          | 461.605          | ...              | 468.418          | 504.068          |  516.730         | 528.631          | 528.122          |  529.528         | 532.888          | 508.145          |  550.137         | 554.932          | \n",
       "| 6                | Light Rail       | 227.231          | 240.262          |  241.444         | 255.557          | 248.262          |  246.108         | 243.286          | 234.907          | ...              | 198.45           | 219.886          |  227.935         | 242.28           | 225.776          |  221.865         | 231.01           | 220.164          |  244.949         | 237.768          | \n",
       "\n",
       "\n"
      ],
      "text/plain": [
       "  X__1 mode             2007-01 2007-02 2007-03  2007-04 2007-05 2007-06 \n",
       "1 1    All Modes by Qtr NA      NA      1187.653 NA      NA      1245.959\n",
       "2 2    Boat             4       3.6       40.000 4.3     4.9        5.800\n",
       "3 3    Bus              335.819 338.675  339.867 352.162 354.367  350.543\n",
       "4 4    Commuter Rail    142.2   138.5    137.700 139.5   139      143.000\n",
       "5 5    Heavy Rail       435.294 448.271  458.583 472.201 474.579  477.032\n",
       "6 6    Light Rail       227.231 240.262  241.444 255.557 248.262  246.108\n",
       "  2007-07 2007-08 ... 2011-01 2011-02 2011-03  2011-04 2011-05 2011-06  2011-07\n",
       "1 NA      NA      ... NA      NA      1223.452 NA      NA      1302.414 NA     \n",
       "2 6.521   6.572   ... 3.14    3.284      3.674 4.251   4.431      5.474 6.581  \n",
       "3 357.519 355.479 ... 334.958 346.234  380.399 380.446 385.289  376.317 361.585\n",
       "4 142.391 142.364 ... 128.396 125.463  134.374 134.169 136.14   135.581 132.41 \n",
       "5 471.735 461.605 ... 468.418 504.068  516.730 528.631 528.122  529.528 532.888\n",
       "6 243.286 234.907 ... 198.45  219.886  227.935 242.28  225.776  221.865 231.01 \n",
       "  2011-08 2011-09  2011-10\n",
       "1 NA      1290.549 NA     \n",
       "2 6.733      5.003 4.484  \n",
       "3 353.793  388.271 398.456\n",
       "4 130.616  136.901 128.72 \n",
       "5 508.145  550.137 554.932\n",
       "6 220.164  244.949 237.768"
      ]
     },
     "metadata": {},
     "output_type": "display_data"
    },
    {
     "data": {
      "text/plain": [
       "      X__1          mode             2007-01            2007-02         \n",
       " Min.   : 1.0   Length:11          Length:11          Length:11         \n",
       " 1st Qu.: 3.5   Class :character   Class :character   Class :character  \n",
       " Median : 6.0   Mode  :character   Mode  :character   Mode  :character  \n",
       " Mean   : 6.0                                                           \n",
       " 3rd Qu.: 8.5                                                           \n",
       " Max.   :11.0                                                           \n",
       "    2007-03           2007-04            2007-05             2007-06        \n",
       " Min.   :   0.114   Length:11          Length:11          Min.   :   0.096  \n",
       " 1st Qu.:   9.278   Class :character   Class :character   1st Qu.:   5.700  \n",
       " Median : 137.700   Mode  :character   Mode  :character   Median : 143.000  \n",
       " Mean   : 330.293                                         Mean   : 339.846  \n",
       " 3rd Qu.: 399.225                                         3rd Qu.: 413.788  \n",
       " Max.   :1204.725                                         Max.   :1246.129  \n",
       "   2007-07            2007-08             2007-09           2007-10         \n",
       " Length:11          Length:11          Min.   :  -0.007   Length:11         \n",
       " Class :character   Class :character   1st Qu.:   5.539   Class :character  \n",
       " Mode  :character   Mode  :character   Median : 143.051   Mode  :character  \n",
       "                                       Mean   : 352.554                     \n",
       "                                       3rd Qu.: 436.082                     \n",
       "                                       Max.   :1310.764                     \n",
       "   2007-11             2007-12           2008-01            2008-02         \n",
       " Length:11          Min.   :  -0.060   Length:11          Length:11         \n",
       " Class :character   1st Qu.:   4.385   Class :character   Class :character  \n",
       " Mode  :character   Median : 141.585   Mode  :character   Mode  :character  \n",
       "                    Mean   : 321.588                                        \n",
       "                    3rd Qu.: 380.594                                        \n",
       "                    Max.   :1216.890                                        \n",
       "    2008-03           2008-04            2008-05             2008-06        \n",
       " Min.   :   0.058   Length:11          Length:11          Min.   :   0.060  \n",
       " 1st Qu.:   5.170   Class :character   Class :character   1st Qu.:   5.742  \n",
       " Median : 137.453   Mode  :character   Mode  :character   Median : 142.057  \n",
       " Mean   : 345.604                                         Mean   : 359.667  \n",
       " 3rd Qu.: 427.601                                         3rd Qu.: 440.656  \n",
       " Max.   :1274.031                                         Max.   :1320.728  \n",
       "   2008-07            2008-08             2008-09           2008-10         \n",
       " Length:11          Length:11          Min.   :   0.021   Length:11         \n",
       " Class :character   Class :character   1st Qu.:   5.691   Class :character  \n",
       " Mode  :character   Mode  :character   Median : 141.907   Mode  :character  \n",
       "                                       Mean   : 362.099                     \n",
       "                                       3rd Qu.: 453.430                     \n",
       "                                       Max.   :1338.015                     \n",
       "   2008-11             2008-12           2009-01            2009-02         \n",
       " Length:11          Min.   :  -0.015   Length:11          Length:11         \n",
       " Class :character   1st Qu.:   4.689   Class :character   Class :character  \n",
       " Mode  :character   Median : 140.810   Mode  :character   Mode  :character  \n",
       "                    Mean   : 319.882                                        \n",
       "                    3rd Qu.: 386.255                                        \n",
       "                    Max.   :1232.655                                        \n",
       "    2009-03           2009-04            2009-05             2009-06        \n",
       " Min.   :  -0.050   Length:11          Length:11          Min.   :  -0.079  \n",
       " 1st Qu.:   5.003   Class :character   Class :character   1st Qu.:   5.845  \n",
       " Median : 142.893   Mode  :character   Mode  :character   Median : 142.006  \n",
       " Mean   : 330.142                                         Mean   : 333.194  \n",
       " 3rd Qu.: 410.455                                         3rd Qu.: 410.482  \n",
       " Max.   :1210.912                                         Max.   :1233.085  \n",
       "   2009-07            2009-08             2009-09           2009-10         \n",
       " Length:11          Length:11          Min.   :  -0.035   Length:11         \n",
       " Class :character   Class :character   1st Qu.:   5.693   Class :character  \n",
       " Mode  :character   Mode  :character   Median : 139.087   Mode  :character  \n",
       "                                       Mean   : 346.687                     \n",
       "                                       3rd Qu.: 437.332                     \n",
       "                                       Max.   :1291.564                     \n",
       "   2009-11             2009-12           2010-01            2010-02         \n",
       " Length:11          Min.   :  -0.022   Length:11          Length:11         \n",
       " Class :character   1st Qu.:   4.784   Class :character   Class :character  \n",
       " Mode  :character   Median : 126.066   Mode  :character   Mode  :character  \n",
       "                    Mean   : 312.962                                        \n",
       "                    3rd Qu.: 386.659                                        \n",
       "                    Max.   :1207.845                                        \n",
       "    2010-03           2010-04            2010-05             2010-06        \n",
       " Min.   :   0.012   Length:11          Length:11          Min.   :   0.008  \n",
       " 1st Qu.:   5.274   Class :character   Class :character   1st Qu.:   6.436  \n",
       " Median : 131.252   Mode  :character   Mode  :character   Median : 129.144  \n",
       " Mean   : 332.726                                         Mean   : 335.964  \n",
       " 3rd Qu.: 428.420                                         3rd Qu.: 426.769  \n",
       " Max.   :1225.556                                         Max.   :1244.409  \n",
       "   2010-07            2010-08             2010-09           2010-10         \n",
       " Length:11          Length:11          Min.   :   0.001   Length:11         \n",
       " Class :character   Class :character   1st Qu.:   5.567   Class :character  \n",
       " Mode  :character   Mode  :character   Median : 132.892   Mode  :character  \n",
       "                                       Mean   : 346.524                     \n",
       "                                       3rd Qu.: 451.361                     \n",
       "                                       Max.   :1293.117                     \n",
       "   2010-11             2010-12           2011-01            2011-02         \n",
       " Length:11          Min.   :  -0.004   Length:11          Length:11         \n",
       " Class :character   1st Qu.:   4.466   Class :character   Class :character  \n",
       " Mode  :character   Median : 121.422   Mode  :character   Mode  :character  \n",
       "                    Mean   : 312.917                                        \n",
       "                    3rd Qu.: 388.385                                        \n",
       "                    Max.   :1216.262                                        \n",
       "    2011-03          2011-04            2011-05             2011-06        \n",
       " Min.   :   0.05   Length:11          Length:11          Min.   :   0.054  \n",
       " 1st Qu.:   6.03   Class :character   Class :character   1st Qu.:   6.926  \n",
       " Median : 134.37   Mode  :character   Mode  :character   Median : 135.581  \n",
       " Mean   : 345.17                                         Mean   : 353.331  \n",
       " 3rd Qu.: 448.56                                         3rd Qu.: 452.923  \n",
       " Max.   :1286.66                                         Max.   :1302.414  \n",
       "   2011-07            2011-08             2011-09           2011-10         \n",
       " Length:11          Length:11          Min.   :   0.043   Length:11         \n",
       " Class :character   Class :character   1st Qu.:   6.660   Class :character  \n",
       " Mode  :character   Mode  :character   Median : 136.901   Mode  :character  \n",
       "                                       Mean   : 362.555                     \n",
       "                                       3rd Qu.: 469.204                     \n",
       "                                       Max.   :1348.754                     "
      ]
     },
     "metadata": {},
     "output_type": "display_data"
    }
   ],
   "source": [
    "# View the structure of mbta\n",
    "glimpse(mbta)\n",
    "\n",
    "# View the first 6 rows of mbta\n",
    "head(mbta)\n",
    "\n",
    "# View a summary of mbta\n",
    "summary(mbta)"
   ]
  },
  {
   "cell_type": "markdown",
   "metadata": {},
   "source": [
    "Removing unnecessary rows and columns\n",
    "\n",
    "It appears that the data are organized with observations stored as columns rather than as rows. "
   ]
  },
  {
   "cell_type": "code",
   "execution_count": 49,
   "metadata": {},
   "outputs": [],
   "source": [
    "# Remove the first column of mbta\n",
    "mbta1 <- mbta[, -1]"
   ]
  },
  {
   "cell_type": "markdown",
   "metadata": {},
   "source": [
    "All of the NA values are stored in the All Modes by Qtr row. This row really belongs in a different data frame; it is a quarterly average of weekday MBTA ridership. Since this dataset tracks monthly average ridership, you'll remove that row.\n",
    "Similarly, the 7th row (Pct Chg / Yr) and the 11th row (TOTAL) are not really observations as much as they are analysis. Go ahead and remove the 7th and 11th rows as well."
   ]
  },
  {
   "cell_type": "code",
   "execution_count": 50,
   "metadata": {},
   "outputs": [],
   "source": [
    "mbta2 <- mbta1[-c(1, 7, 11),]"
   ]
  },
  {
   "cell_type": "markdown",
   "metadata": {},
   "source": [
    "The different modes of transportation (commuter rail, bus, subway, ferry, ...) are variables, providing information about each month's average ridership. The months themselves are observations. You can tell which is which because as you go through time, the month changes, but the modes of transport offered by the T do not."
   ]
  },
  {
   "cell_type": "code",
   "execution_count": 51,
   "metadata": {},
   "outputs": [
    {
     "data": {
      "text/html": [
       "<table>\n",
       "<thead><tr><th scope=col>mode</th><th scope=col>month</th><th scope=col>thou_riders</th></tr></thead>\n",
       "<tbody>\n",
       "\t<tr><td>Boat         </td><td>2007-01      </td><td>4            </td></tr>\n",
       "\t<tr><td>Bus          </td><td>2007-01      </td><td>335.819      </td></tr>\n",
       "\t<tr><td>Commuter Rail</td><td>2007-01      </td><td>142.2        </td></tr>\n",
       "\t<tr><td>Heavy Rail   </td><td>2007-01      </td><td>435.294      </td></tr>\n",
       "\t<tr><td>Light Rail   </td><td>2007-01      </td><td>227.231      </td></tr>\n",
       "\t<tr><td>Private Bus  </td><td>2007-01      </td><td>4.772        </td></tr>\n",
       "</tbody>\n",
       "</table>\n"
      ],
      "text/latex": [
       "\\begin{tabular}{r|lll}\n",
       " mode & month & thou\\_riders\\\\\n",
       "\\hline\n",
       "\t Boat          & 2007-01       & 4            \\\\\n",
       "\t Bus           & 2007-01       & 335.819      \\\\\n",
       "\t Commuter Rail & 2007-01       & 142.2        \\\\\n",
       "\t Heavy Rail    & 2007-01       & 435.294      \\\\\n",
       "\t Light Rail    & 2007-01       & 227.231      \\\\\n",
       "\t Private Bus   & 2007-01       & 4.772        \\\\\n",
       "\\end{tabular}\n"
      ],
      "text/markdown": [
       "\n",
       "mode | month | thou_riders | \n",
       "|---|---|---|---|---|---|\n",
       "| Boat          | 2007-01       | 4             | \n",
       "| Bus           | 2007-01       | 335.819       | \n",
       "| Commuter Rail | 2007-01       | 142.2         | \n",
       "| Heavy Rail    | 2007-01       | 435.294       | \n",
       "| Light Rail    | 2007-01       | 227.231       | \n",
       "| Private Bus   | 2007-01       | 4.772         | \n",
       "\n",
       "\n"
      ],
      "text/plain": [
       "  mode          month   thou_riders\n",
       "1 Boat          2007-01 4          \n",
       "2 Bus           2007-01 335.819    \n",
       "3 Commuter Rail 2007-01 142.2      \n",
       "4 Heavy Rail    2007-01 435.294    \n",
       "5 Light Rail    2007-01 227.231    \n",
       "6 Private Bus   2007-01 4.772      "
      ]
     },
     "metadata": {},
     "output_type": "display_data"
    }
   ],
   "source": [
    "# Gather columns of mbta3: mbta4\n",
    "mbta3 <- gather(mbta2, key = \"month\", value = \"thou_riders\", - mode)\n",
    "\n",
    "# View the head of mbta4\n",
    "head(mbta3)"
   ]
  },
  {
   "cell_type": "code",
   "execution_count": 52,
   "metadata": {},
   "outputs": [
    {
     "name": "stdout",
     "output_type": "stream",
     "text": [
      "Classes 'tbl_df', 'tbl' and 'data.frame':\t464 obs. of  3 variables:\n",
      " $ mode       : chr  \"Boat\" \"Bus\" \"Commuter Rail\" \"Heavy Rail\" ...\n",
      " $ month      : chr  \"2007-01\" \"2007-01\" \"2007-01\" \"2007-01\" ...\n",
      " $ thou_riders: chr  \"4\" \"335.819\" \"142.2\" \"435.294\" ...\n"
     ]
    }
   ],
   "source": [
    "str(mbta3)"
   ]
  },
  {
   "cell_type": "code",
   "execution_count": 53,
   "metadata": {},
   "outputs": [],
   "source": [
    "# Coerce thou_riders to numeric\n",
    "mbta3$thou_riders <- as.numeric(mbta3$thou_riders)"
   ]
  },
  {
   "cell_type": "code",
   "execution_count": 54,
   "metadata": {},
   "outputs": [
    {
     "data": {
      "text/html": [
       "<table>\n",
       "<thead><tr><th scope=col>mode</th><th scope=col>month</th><th scope=col>thou_riders</th></tr></thead>\n",
       "<tbody>\n",
       "\t<tr><td>Boat         </td><td>2007-01      </td><td>  4.000      </td></tr>\n",
       "\t<tr><td>Bus          </td><td>2007-01      </td><td>335.819      </td></tr>\n",
       "\t<tr><td>Commuter Rail</td><td>2007-01      </td><td>142.200      </td></tr>\n",
       "\t<tr><td>Heavy Rail   </td><td>2007-01      </td><td>435.294      </td></tr>\n",
       "\t<tr><td>Light Rail   </td><td>2007-01      </td><td>227.231      </td></tr>\n",
       "\t<tr><td>Private Bus  </td><td>2007-01      </td><td>  4.772      </td></tr>\n",
       "</tbody>\n",
       "</table>\n"
      ],
      "text/latex": [
       "\\begin{tabular}{r|lll}\n",
       " mode & month & thou\\_riders\\\\\n",
       "\\hline\n",
       "\t Boat          & 2007-01       &   4.000      \\\\\n",
       "\t Bus           & 2007-01       & 335.819      \\\\\n",
       "\t Commuter Rail & 2007-01       & 142.200      \\\\\n",
       "\t Heavy Rail    & 2007-01       & 435.294      \\\\\n",
       "\t Light Rail    & 2007-01       & 227.231      \\\\\n",
       "\t Private Bus   & 2007-01       &   4.772      \\\\\n",
       "\\end{tabular}\n"
      ],
      "text/markdown": [
       "\n",
       "mode | month | thou_riders | \n",
       "|---|---|---|---|---|---|\n",
       "| Boat          | 2007-01       |   4.000       | \n",
       "| Bus           | 2007-01       | 335.819       | \n",
       "| Commuter Rail | 2007-01       | 142.200       | \n",
       "| Heavy Rail    | 2007-01       | 435.294       | \n",
       "| Light Rail    | 2007-01       | 227.231       | \n",
       "| Private Bus   | 2007-01       |   4.772       | \n",
       "\n",
       "\n"
      ],
      "text/plain": [
       "  mode          month   thou_riders\n",
       "1 Boat          2007-01   4.000    \n",
       "2 Bus           2007-01 335.819    \n",
       "3 Commuter Rail 2007-01 142.200    \n",
       "4 Heavy Rail    2007-01 435.294    \n",
       "5 Light Rail    2007-01 227.231    \n",
       "6 Private Bus   2007-01   4.772    "
      ]
     },
     "metadata": {},
     "output_type": "display_data"
    }
   ],
   "source": [
    "head(mbta3)"
   ]
  },
  {
   "cell_type": "code",
   "execution_count": 55,
   "metadata": {},
   "outputs": [
    {
     "data": {
      "text/html": [
       "<table>\n",
       "<thead><tr><th scope=col>month</th><th scope=col>Boat</th><th scope=col>Bus</th><th scope=col>Commuter Rail</th><th scope=col>Heavy Rail</th><th scope=col>Light Rail</th><th scope=col>Private Bus</th><th scope=col>RIDE</th><th scope=col>Trackless Trolley</th></tr></thead>\n",
       "<tbody>\n",
       "\t<tr><td>2007-01</td><td> 4.0   </td><td>335.819</td><td>142.2  </td><td>435.294</td><td>227.231</td><td>4.772  </td><td>4.9    </td><td>12.757 </td></tr>\n",
       "\t<tr><td>2007-02</td><td> 3.6   </td><td>338.675</td><td>138.5  </td><td>448.271</td><td>240.262</td><td>4.417  </td><td>5.0    </td><td>12.913 </td></tr>\n",
       "\t<tr><td>2007-03</td><td>40.0   </td><td>339.867</td><td>137.7  </td><td>458.583</td><td>241.444</td><td>4.574  </td><td>5.5    </td><td>13.057 </td></tr>\n",
       "\t<tr><td>2007-04</td><td> 4.3   </td><td>352.162</td><td>139.5  </td><td>472.201</td><td>255.557</td><td>4.542  </td><td>5.4    </td><td>13.444 </td></tr>\n",
       "\t<tr><td>2007-05</td><td> 4.9   </td><td>354.367</td><td>139.0  </td><td>474.579</td><td>248.262</td><td>4.768  </td><td>5.4    </td><td>13.479 </td></tr>\n",
       "\t<tr><td>2007-06</td><td> 5.8   </td><td>350.543</td><td>143.0  </td><td>477.032</td><td>246.108</td><td>4.722  </td><td>5.6    </td><td>13.323 </td></tr>\n",
       "</tbody>\n",
       "</table>\n"
      ],
      "text/latex": [
       "\\begin{tabular}{r|lllllllll}\n",
       " month & Boat & Bus & Commuter Rail & Heavy Rail & Light Rail & Private Bus & RIDE & Trackless Trolley\\\\\n",
       "\\hline\n",
       "\t 2007-01 &  4.0    & 335.819 & 142.2   & 435.294 & 227.231 & 4.772   & 4.9     & 12.757 \\\\\n",
       "\t 2007-02 &  3.6    & 338.675 & 138.5   & 448.271 & 240.262 & 4.417   & 5.0     & 12.913 \\\\\n",
       "\t 2007-03 & 40.0    & 339.867 & 137.7   & 458.583 & 241.444 & 4.574   & 5.5     & 13.057 \\\\\n",
       "\t 2007-04 &  4.3    & 352.162 & 139.5   & 472.201 & 255.557 & 4.542   & 5.4     & 13.444 \\\\\n",
       "\t 2007-05 &  4.9    & 354.367 & 139.0   & 474.579 & 248.262 & 4.768   & 5.4     & 13.479 \\\\\n",
       "\t 2007-06 &  5.8    & 350.543 & 143.0   & 477.032 & 246.108 & 4.722   & 5.6     & 13.323 \\\\\n",
       "\\end{tabular}\n"
      ],
      "text/markdown": [
       "\n",
       "month | Boat | Bus | Commuter Rail | Heavy Rail | Light Rail | Private Bus | RIDE | Trackless Trolley | \n",
       "|---|---|---|---|---|---|\n",
       "| 2007-01 |  4.0    | 335.819 | 142.2   | 435.294 | 227.231 | 4.772   | 4.9     | 12.757  | \n",
       "| 2007-02 |  3.6    | 338.675 | 138.5   | 448.271 | 240.262 | 4.417   | 5.0     | 12.913  | \n",
       "| 2007-03 | 40.0    | 339.867 | 137.7   | 458.583 | 241.444 | 4.574   | 5.5     | 13.057  | \n",
       "| 2007-04 |  4.3    | 352.162 | 139.5   | 472.201 | 255.557 | 4.542   | 5.4     | 13.444  | \n",
       "| 2007-05 |  4.9    | 354.367 | 139.0   | 474.579 | 248.262 | 4.768   | 5.4     | 13.479  | \n",
       "| 2007-06 |  5.8    | 350.543 | 143.0   | 477.032 | 246.108 | 4.722   | 5.6     | 13.323  | \n",
       "\n",
       "\n"
      ],
      "text/plain": [
       "  month   Boat Bus     Commuter Rail Heavy Rail Light Rail Private Bus RIDE\n",
       "1 2007-01  4.0 335.819 142.2         435.294    227.231    4.772       4.9 \n",
       "2 2007-02  3.6 338.675 138.5         448.271    240.262    4.417       5.0 \n",
       "3 2007-03 40.0 339.867 137.7         458.583    241.444    4.574       5.5 \n",
       "4 2007-04  4.3 352.162 139.5         472.201    255.557    4.542       5.4 \n",
       "5 2007-05  4.9 354.367 139.0         474.579    248.262    4.768       5.4 \n",
       "6 2007-06  5.8 350.543 143.0         477.032    246.108    4.722       5.6 \n",
       "  Trackless Trolley\n",
       "1 12.757           \n",
       "2 12.913           \n",
       "3 13.057           \n",
       "4 13.444           \n",
       "5 13.479           \n",
       "6 13.323           "
      ]
     },
     "metadata": {},
     "output_type": "display_data"
    }
   ],
   "source": [
    "# Spread the contents by mode\n",
    "mbta4 <- spread(mbta3, key = mode, value = thou_riders)\n",
    "\n",
    "# View the head of mbta5\n",
    "head(mbta4)"
   ]
  },
  {
   "cell_type": "markdown",
   "metadata": {},
   "source": [
    "Separating columns"
   ]
  },
  {
   "cell_type": "code",
   "execution_count": 56,
   "metadata": {},
   "outputs": [
    {
     "data": {
      "text/html": [
       "<table>\n",
       "<thead><tr><th scope=col>year</th><th scope=col>month</th><th scope=col>Boat</th><th scope=col>Bus</th><th scope=col>Commuter Rail</th><th scope=col>Heavy Rail</th><th scope=col>Light Rail</th><th scope=col>Private Bus</th><th scope=col>RIDE</th><th scope=col>Trackless Trolley</th></tr></thead>\n",
       "<tbody>\n",
       "\t<tr><td>2007   </td><td>01     </td><td> 4.0   </td><td>335.819</td><td>142.2  </td><td>435.294</td><td>227.231</td><td>4.772  </td><td>4.9    </td><td>12.757 </td></tr>\n",
       "\t<tr><td>2007   </td><td>02     </td><td> 3.6   </td><td>338.675</td><td>138.5  </td><td>448.271</td><td>240.262</td><td>4.417  </td><td>5.0    </td><td>12.913 </td></tr>\n",
       "\t<tr><td>2007   </td><td>03     </td><td>40.0   </td><td>339.867</td><td>137.7  </td><td>458.583</td><td>241.444</td><td>4.574  </td><td>5.5    </td><td>13.057 </td></tr>\n",
       "\t<tr><td>2007   </td><td>04     </td><td> 4.3   </td><td>352.162</td><td>139.5  </td><td>472.201</td><td>255.557</td><td>4.542  </td><td>5.4    </td><td>13.444 </td></tr>\n",
       "\t<tr><td>2007   </td><td>05     </td><td> 4.9   </td><td>354.367</td><td>139.0  </td><td>474.579</td><td>248.262</td><td>4.768  </td><td>5.4    </td><td>13.479 </td></tr>\n",
       "\t<tr><td>2007   </td><td>06     </td><td> 5.8   </td><td>350.543</td><td>143.0  </td><td>477.032</td><td>246.108</td><td>4.722  </td><td>5.6    </td><td>13.323 </td></tr>\n",
       "</tbody>\n",
       "</table>\n"
      ],
      "text/latex": [
       "\\begin{tabular}{r|llllllllll}\n",
       " year & month & Boat & Bus & Commuter Rail & Heavy Rail & Light Rail & Private Bus & RIDE & Trackless Trolley\\\\\n",
       "\\hline\n",
       "\t 2007    & 01      &  4.0    & 335.819 & 142.2   & 435.294 & 227.231 & 4.772   & 4.9     & 12.757 \\\\\n",
       "\t 2007    & 02      &  3.6    & 338.675 & 138.5   & 448.271 & 240.262 & 4.417   & 5.0     & 12.913 \\\\\n",
       "\t 2007    & 03      & 40.0    & 339.867 & 137.7   & 458.583 & 241.444 & 4.574   & 5.5     & 13.057 \\\\\n",
       "\t 2007    & 04      &  4.3    & 352.162 & 139.5   & 472.201 & 255.557 & 4.542   & 5.4     & 13.444 \\\\\n",
       "\t 2007    & 05      &  4.9    & 354.367 & 139.0   & 474.579 & 248.262 & 4.768   & 5.4     & 13.479 \\\\\n",
       "\t 2007    & 06      &  5.8    & 350.543 & 143.0   & 477.032 & 246.108 & 4.722   & 5.6     & 13.323 \\\\\n",
       "\\end{tabular}\n"
      ],
      "text/markdown": [
       "\n",
       "year | month | Boat | Bus | Commuter Rail | Heavy Rail | Light Rail | Private Bus | RIDE | Trackless Trolley | \n",
       "|---|---|---|---|---|---|\n",
       "| 2007    | 01      |  4.0    | 335.819 | 142.2   | 435.294 | 227.231 | 4.772   | 4.9     | 12.757  | \n",
       "| 2007    | 02      |  3.6    | 338.675 | 138.5   | 448.271 | 240.262 | 4.417   | 5.0     | 12.913  | \n",
       "| 2007    | 03      | 40.0    | 339.867 | 137.7   | 458.583 | 241.444 | 4.574   | 5.5     | 13.057  | \n",
       "| 2007    | 04      |  4.3    | 352.162 | 139.5   | 472.201 | 255.557 | 4.542   | 5.4     | 13.444  | \n",
       "| 2007    | 05      |  4.9    | 354.367 | 139.0   | 474.579 | 248.262 | 4.768   | 5.4     | 13.479  | \n",
       "| 2007    | 06      |  5.8    | 350.543 | 143.0   | 477.032 | 246.108 | 4.722   | 5.6     | 13.323  | \n",
       "\n",
       "\n"
      ],
      "text/plain": [
       "  year month Boat Bus     Commuter Rail Heavy Rail Light Rail Private Bus RIDE\n",
       "1 2007 01     4.0 335.819 142.2         435.294    227.231    4.772       4.9 \n",
       "2 2007 02     3.6 338.675 138.5         448.271    240.262    4.417       5.0 \n",
       "3 2007 03    40.0 339.867 137.7         458.583    241.444    4.574       5.5 \n",
       "4 2007 04     4.3 352.162 139.5         472.201    255.557    4.542       5.4 \n",
       "5 2007 05     4.9 354.367 139.0         474.579    248.262    4.768       5.4 \n",
       "6 2007 06     5.8 350.543 143.0         477.032    246.108    4.722       5.6 \n",
       "  Trackless Trolley\n",
       "1 12.757           \n",
       "2 12.913           \n",
       "3 13.057           \n",
       "4 13.444           \n",
       "5 13.479           \n",
       "6 13.323           "
      ]
     },
     "metadata": {},
     "output_type": "display_data"
    }
   ],
   "source": [
    "# Split month column into month and year\n",
    "mbta5 <- separate(mbta4, month, c(\"year\", \"month\"), sep = \"-\")\n",
    "\n",
    "# View the head of mbta6\n",
    "head(mbta5)"
   ]
  },
  {
   "cell_type": "code",
   "execution_count": 57,
   "metadata": {},
   "outputs": [
    {
     "data": {
      "text/plain": [
       "     year              month                Boat             Bus       \n",
       " Length:58          Length:58          Min.   : 2.985   Min.   :312.9  \n",
       " Class :character   Class :character   1st Qu.: 3.494   1st Qu.:345.6  \n",
       " Mode  :character   Mode  :character   Median : 4.293   Median :359.9  \n",
       "                                       Mean   : 5.068   Mean   :358.6  \n",
       "                                       3rd Qu.: 5.356   3rd Qu.:372.2  \n",
       "                                       Max.   :40.000   Max.   :398.5  \n",
       " Commuter Rail     Heavy Rail      Light Rail     Private Bus   \n",
       " Min.   :121.4   Min.   :435.3   Min.   :194.4   Min.   :2.213  \n",
       " 1st Qu.:131.4   1st Qu.:471.1   1st Qu.:220.6   1st Qu.:2.641  \n",
       " Median :138.8   Median :487.3   Median :231.9   Median :2.820  \n",
       " Mean   :137.4   Mean   :489.3   Mean   :233.0   Mean   :3.352  \n",
       " 3rd Qu.:142.4   3rd Qu.:511.3   3rd Qu.:244.5   3rd Qu.:4.167  \n",
       " Max.   :153.0   Max.   :554.9   Max.   :271.1   Max.   :4.878  \n",
       "      RIDE       Trackless Trolley\n",
       " Min.   :4.900   Min.   : 5.777   \n",
       " 1st Qu.:5.965   1st Qu.:11.679   \n",
       " Median :6.615   Median :12.598   \n",
       " Mean   :6.604   Mean   :12.125   \n",
       " 3rd Qu.:7.149   3rd Qu.:13.320   \n",
       " Max.   :8.598   Max.   :15.109   "
      ]
     },
     "metadata": {},
     "output_type": "display_data"
    },
    {
     "data": {
      "image/png": "[encoded data removed]",
      "text/plain": [
       "Plot with title \"Histogram of mbta5$Boat\""
      ]
     },
     "metadata": {},
     "output_type": "display_data"
    }
   ],
   "source": [
    "# View a summary of mbta6\n",
    "summary(mbta5)\n",
    "\n",
    "# Generate a histogram of Boat column\n",
    "hist(mbta5$Boat)"
   ]
  },
  {
   "cell_type": "markdown",
   "metadata": {},
   "source": [
    "we assume that it is an entry error and that it meant to ne 4 instead of 40."
   ]
  },
  {
   "cell_type": "code",
   "execution_count": 58,
   "metadata": {},
   "outputs": [
    {
     "data": {
      "image/png": "[encoded data removed]",
      "text/plain": [
       "Plot with title \"Histogram of mbta5$Boat\""
      ]
     },
     "metadata": {},
     "output_type": "display_data"
    }
   ],
   "source": [
    "# Find the row number of the incorrect value: i\n",
    "i <- which(mbta5$Boat >= 40)\n",
    "\n",
    "# Replace the incorrect value with 4\n",
    "mbta5$Boat[i] <- 4\n",
    "\n",
    "# Generate a histogram of Boat column\n",
    "hist(mbta5$Boat)"
   ]
  },
  {
   "cell_type": "code",
   "execution_count": 59,
   "metadata": {},
   "outputs": [
    {
     "data": {
      "text/html": [
       "<ol class=list-inline>\n",
       "\t<li>'year'</li>\n",
       "\t<li>'month'</li>\n",
       "\t<li>'Boat'</li>\n",
       "\t<li>'Bus'</li>\n",
       "\t<li>'Commuter Rail'</li>\n",
       "\t<li>'Heavy Rail'</li>\n",
       "\t<li>'Light Rail'</li>\n",
       "\t<li>'Private Bus'</li>\n",
       "\t<li>'RIDE'</li>\n",
       "\t<li>'Trackless Trolley'</li>\n",
       "</ol>\n"
      ],
      "text/latex": [
       "\\begin{enumerate*}\n",
       "\\item 'year'\n",
       "\\item 'month'\n",
       "\\item 'Boat'\n",
       "\\item 'Bus'\n",
       "\\item 'Commuter Rail'\n",
       "\\item 'Heavy Rail'\n",
       "\\item 'Light Rail'\n",
       "\\item 'Private Bus'\n",
       "\\item 'RIDE'\n",
       "\\item 'Trackless Trolley'\n",
       "\\end{enumerate*}\n"
      ],
      "text/markdown": [
       "1. 'year'\n",
       "2. 'month'\n",
       "3. 'Boat'\n",
       "4. 'Bus'\n",
       "5. 'Commuter Rail'\n",
       "6. 'Heavy Rail'\n",
       "7. 'Light Rail'\n",
       "8. 'Private Bus'\n",
       "9. 'RIDE'\n",
       "10. 'Trackless Trolley'\n",
       "\n",
       "\n"
      ],
      "text/plain": [
       " [1] \"year\"              \"month\"             \"Boat\"             \n",
       " [4] \"Bus\"               \"Commuter Rail\"     \"Heavy Rail\"       \n",
       " [7] \"Light Rail\"        \"Private Bus\"       \"RIDE\"             \n",
       "[10] \"Trackless Trolley\""
      ]
     },
     "metadata": {},
     "output_type": "display_data"
    },
    {
     "data": {
      "text/html": [
       "<ol class=list-inline>\n",
       "\t<li>'year'</li>\n",
       "\t<li>'month'</li>\n",
       "\t<li>'mode'</li>\n",
       "\t<li>'thou_riders'</li>\n",
       "</ol>\n"
      ],
      "text/latex": [
       "\\begin{enumerate*}\n",
       "\\item 'year'\n",
       "\\item 'month'\n",
       "\\item 'mode'\n",
       "\\item 'thou\\_riders'\n",
       "\\end{enumerate*}\n"
      ],
      "text/markdown": [
       "1. 'year'\n",
       "2. 'month'\n",
       "3. 'mode'\n",
       "4. 'thou_riders'\n",
       "\n",
       "\n"
      ],
      "text/plain": [
       "[1] \"year\"        \"month\"       \"mode\"        \"thou_riders\""
      ]
     },
     "metadata": {},
     "output_type": "display_data"
    }
   ],
   "source": [
    "names(mbta5)\n",
    "mbta_long <- gather(mbta5, key = \"mode\", value = \"thou_riders\", -year, -month)\n",
    "names(mbta_long)"
   ]
  },
  {
   "cell_type": "code",
   "execution_count": 60,
   "metadata": {},
   "outputs": [
    {
     "data": {},
     "metadata": {},
     "output_type": "display_data"
    },
    {
     "data": {
      "image/png": "[encoded data removed]",
      "text/plain": [
       "plot without title"
      ]
     },
     "metadata": {},
     "output_type": "display_data"
    }
   ],
   "source": [
    "# Look at all T ridership over time (don't change)\n",
    "ggplot(mbta_long, aes(x = month, y = thou_riders, col = mode)) + \n",
    "    geom_point() + \n",
    "    scale_x_discrete(name = \"Month\", breaks = c(200701, 200801, 200901, 201001, 201101)) +  \n",
    "    scale_y_continuous(name = \"Avg Weekday Ridership (thousands)\")"
   ]
  },
  {
   "cell_type": "code",
   "execution_count": 61,
   "metadata": {},
   "outputs": [],
   "source": [
    "mbta_boat <- mbta_long %>%\n",
    "                filter(mode == \"Boat\" | mode == \"Trackless Trolley\")"
   ]
  },
  {
   "cell_type": "code",
   "execution_count": 62,
   "metadata": {},
   "outputs": [
    {
     "data": {},
     "metadata": {},
     "output_type": "display_data"
    },
    {
     "data": {
      "image/png": "[encoded data removed]",
      "text/plain": [
       "plot without title"
      ]
     },
     "metadata": {},
     "output_type": "display_data"
    }
   ],
   "source": [
    "# Look at Boat and Trackless Trolley ridership over time (don't change)\n",
    "ggplot(mbta_boat, aes(x = month, y = thou_riders, col = mode)) +  \n",
    "    geom_point() + \n",
    "    scale_x_discrete(name = \"Month\", breaks = c(200701, 200801, 200901, 201001, 201101)) + \n",
    "    scale_y_continuous(name = \"Avg Weekday Ridership (thousands)\")"
   ]
  },
  {
   "cell_type": "code",
   "execution_count": null,
   "metadata": {},
   "outputs": [],
   "source": []
  }
 ],
 "metadata": {
  "kernelspec": {
   "display_name": "R",
   "language": "R",
   "name": "ir"
  },
  "language_info": {
   "codemirror_mode": "r",
   "file_extension": ".r",
   "mimetype": "text/x-r-source",
   "name": "R",
   "pygments_lexer": "r",
   "version": "3.5.1"
  }
 },
 "nbformat": 4,
 "nbformat_minor": 2
}

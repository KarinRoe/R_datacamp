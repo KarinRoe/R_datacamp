{
 "cells": [
  {
   "cell_type": "markdown",
   "metadata": {},
   "source": [
    "# Anatomy of a function\n",
    "There are three parts of a function :\n",
    "<br> Arguments\n",
    "<br> Body\n",
    "<br> Environment\n",
    "\n",
    "Return value is the last executed expression, or the first executed return() statement"
   ]
  },
  {
   "cell_type": "code",
   "execution_count": 12,
   "metadata": {},
   "outputs": [],
   "source": [
    "# Define ratio() function\n",
    "ratio <- function(x, y = 1) {\n",
    "  return(x/y) # body\n",
    "}"
   ]
  },
  {
   "cell_type": "code",
   "execution_count": 13,
   "metadata": {},
   "outputs": [
    {
     "data": {
      "text/html": [
       "0.75"
      ],
      "text/latex": [
       "0.75"
      ],
      "text/markdown": [
       "0.75"
      ],
      "text/plain": [
       "[1] 0.75"
      ]
     },
     "metadata": {},
     "output_type": "display_data"
    }
   ],
   "source": [
    "# Call ratio() with arguments 3 and 4\n",
    "ratio(3, 4)"
   ]
  },
  {
   "cell_type": "code",
   "execution_count": 14,
   "metadata": {},
   "outputs": [
    {
     "data": {
      "text/plain": [
       "$x\n",
       "\n",
       "\n",
       "$y\n",
       "[1] 1\n"
      ]
     },
     "metadata": {},
     "output_type": "display_data"
    },
    {
     "data": {
      "text/plain": [
       "{\n",
       "    return(x/y)\n",
       "}"
      ]
     },
     "metadata": {},
     "output_type": "display_data"
    },
    {
     "data": {
      "text/plain": [
       "<environment: R_GlobalEnv>"
      ]
     },
     "metadata": {},
     "output_type": "display_data"
    }
   ],
   "source": [
    "formals(ratio)\n",
    "body(ratio)\n",
    "environment(ratio)"
   ]
  },
  {
   "cell_type": "markdown",
   "metadata": {},
   "source": [
    "**If you use return(value) - it forces the function to stop the execution and return the value**"
   ]
  },
  {
   "cell_type": "code",
   "execution_count": 7,
   "metadata": {},
   "outputs": [
    {
     "data": {
      "text/html": [
       "3"
      ],
      "text/latex": [
       "3"
      ],
      "text/markdown": [
       "3"
      ],
      "text/plain": [
       "[1] 3"
      ]
     },
     "metadata": {},
     "output_type": "display_data"
    }
   ],
   "source": [
    "# This is a non defined function\n",
    "(function(x){ x +1 })(2)"
   ]
  },
  {
   "cell_type": "code",
   "execution_count": 9,
   "metadata": {},
   "outputs": [],
   "source": [
    "f <- function(x) {\n",
    "  if (TRUE) {\n",
    "    return(x + 1)\n",
    "  }\n",
    "  x\n",
    "}"
   ]
  },
  {
   "cell_type": "code",
   "execution_count": 11,
   "metadata": {},
   "outputs": [
    {
     "data": {
      "text/html": [
       "3"
      ],
      "text/latex": [
       "3"
      ],
      "text/markdown": [
       "3"
      ],
      "text/plain": [
       "[1] 3"
      ]
     },
     "metadata": {},
     "output_type": "display_data"
    }
   ],
   "source": [
    "f(2)"
   ]
  },
  {
   "cell_type": "markdown",
   "metadata": {},
   "source": [
    "## For loops"
   ]
  },
  {
   "cell_type": "markdown",
   "metadata": {},
   "source": [
    "A general way of creating an empty vector of given length is the vector() function. It has two arguments: the type of the vector (\"logical\", \"integer\", \"double\", \"character\", etc.) and the length of the vector."
   ]
  },
  {
   "cell_type": "code",
   "execution_count": 17,
   "metadata": {},
   "outputs": [
    {
     "data": {
      "text/html": [
       "<ol class=list-inline>\n",
       "\t<li>0</li>\n",
       "\t<li>0</li>\n",
       "\t<li>0</li>\n",
       "\t<li>0</li>\n",
       "</ol>\n"
      ],
      "text/latex": [
       "\\begin{enumerate*}\n",
       "\\item 0\n",
       "\\item 0\n",
       "\\item 0\n",
       "\\item 0\n",
       "\\end{enumerate*}\n"
      ],
      "text/markdown": [
       "1. 0\n",
       "2. 0\n",
       "3. 0\n",
       "4. 0\n",
       "\n",
       "\n"
      ],
      "text/plain": [
       "[1] 0 0 0 0"
      ]
     },
     "metadata": {},
     "output_type": "display_data"
    }
   ],
   "source": [
    "a <- c(-0.2088114, 1.3014716, 1.3341206, -1.2580159, -1.0351962, 0.5480946, 0.7272566, 0.1163666, -0.9354584,\n",
    "       -0.3030596)\n",
    "b <- c(1.2869938, -0.8413037, -0.3034274, -0.3142811, 1.4168326, 2.1183197, 0.8453433, -0.6631015, 0.1074147,\n",
    "       -0.1308820)\n",
    "c <- c(1.1649836, 0.3881801, 0.2665318, 0.0724377, -2.2043632, 0.1702974, -0.5606962, 1.1636975, -1.2927012, \n",
    "       -1.0202577)\n",
    "d <- c(0.7202029, -0.3845877, 0.2545252, -1.3385454, 1.1951161, 1.3390840, 1.2070076, -1.3177884, 0.3234719,\n",
    "       -0.1027652)\n",
    "df <- data.frame(a, b, c, d)\n",
    "# Create new double vector: output which has the length of the dataframe \n",
    "output <- vector(\"double\", length = ncol(df))\n",
    "output"
   ]
  },
  {
   "cell_type": "code",
   "execution_count": 19,
   "metadata": {},
   "outputs": [
    {
     "data": {
      "text/html": [
       "<ol class=list-inline>\n",
       "\t<li>1</li>\n",
       "\t<li>2</li>\n",
       "\t<li>3</li>\n",
       "\t<li>4</li>\n",
       "</ol>\n"
      ],
      "text/latex": [
       "\\begin{enumerate*}\n",
       "\\item 1\n",
       "\\item 2\n",
       "\\item 3\n",
       "\\item 4\n",
       "\\end{enumerate*}\n"
      ],
      "text/markdown": [
       "1. 1\n",
       "2. 2\n",
       "3. 3\n",
       "4. 4\n",
       "\n",
       "\n"
      ],
      "text/plain": [
       "[1] 1 2 3 4"
      ]
     },
     "metadata": {},
     "output_type": "display_data"
    }
   ],
   "source": [
    "seq_along(df)"
   ]
  },
  {
   "cell_type": "code",
   "execution_count": 18,
   "metadata": {},
   "outputs": [],
   "source": [
    "# A for loop which alters\n",
    "for (i in seq_along(df)) {\n",
    "  # Change code to store result in output\n",
    "  output[[i]] <- median(df[[i]])\n",
    "}"
   ]
  },
  {
   "cell_type": "code",
   "execution_count": 21,
   "metadata": {},
   "outputs": [
    {
     "name": "stdout",
     "output_type": "stream",
     "text": [
      "[1] -0.04622240 -0.01173365  0.12136755  0.28899855\n"
     ]
    },
    {
     "data": {
      "text/html": [
       "-0.0462224"
      ],
      "text/latex": [
       "-0.0462224"
      ],
      "text/markdown": [
       "-0.0462224"
      ],
      "text/plain": [
       "[1] -0.0462224"
      ]
     },
     "metadata": {},
     "output_type": "display_data"
    }
   ],
   "source": [
    "# Print output\n",
    "print(output)\n",
    "median(df$a)"
   ]
  },
  {
   "cell_type": "code",
   "execution_count": 24,
   "metadata": {},
   "outputs": [
    {
     "data": {
      "text/html": [
       "<ol class=list-inline>\n",
       "\t<li>-0.2088114</li>\n",
       "\t<li>1.3014716</li>\n",
       "\t<li>1.3341206</li>\n",
       "\t<li>-1.2580159</li>\n",
       "\t<li>-1.0351962</li>\n",
       "\t<li>0.5480946</li>\n",
       "\t<li>0.7272566</li>\n",
       "\t<li>0.1163666</li>\n",
       "\t<li>-0.9354584</li>\n",
       "\t<li>-0.3030596</li>\n",
       "</ol>\n"
      ],
      "text/latex": [
       "\\begin{enumerate*}\n",
       "\\item -0.2088114\n",
       "\\item 1.3014716\n",
       "\\item 1.3341206\n",
       "\\item -1.2580159\n",
       "\\item -1.0351962\n",
       "\\item 0.5480946\n",
       "\\item 0.7272566\n",
       "\\item 0.1163666\n",
       "\\item -0.9354584\n",
       "\\item -0.3030596\n",
       "\\end{enumerate*}\n"
      ],
      "text/markdown": [
       "1. -0.2088114\n",
       "2. 1.3014716\n",
       "3. 1.3341206\n",
       "4. -1.2580159\n",
       "5. -1.0351962\n",
       "6. 0.5480946\n",
       "7. 0.7272566\n",
       "8. 0.1163666\n",
       "9. -0.9354584\n",
       "10. -0.3030596\n",
       "\n",
       "\n"
      ],
      "text/plain": [
       " [1] -0.2088114  1.3014716  1.3341206 -1.2580159 -1.0351962  0.5480946\n",
       " [7]  0.7272566  0.1163666 -0.9354584 -0.3030596"
      ]
     },
     "metadata": {},
     "output_type": "display_data"
    }
   ],
   "source": [
    "df[[1]]"
   ]
  },
  {
   "cell_type": "code",
   "execution_count": 26,
   "metadata": {},
   "outputs": [
    {
     "data": {
      "text/html": [
       "<ol class=list-inline>\n",
       "\t<li>0</li>\n",
       "\t<li>0.111111111111111</li>\n",
       "\t<li>0.222222222222222</li>\n",
       "\t<li>0.333333333333333</li>\n",
       "\t<li>0.444444444444444</li>\n",
       "\t<li>0.555555555555556</li>\n",
       "\t<li>0.666666666666667</li>\n",
       "\t<li>0.777777777777778</li>\n",
       "\t<li>0.888888888888889</li>\n",
       "\t<li>1</li>\n",
       "</ol>\n"
      ],
      "text/latex": [
       "\\begin{enumerate*}\n",
       "\\item 0\n",
       "\\item 0.111111111111111\n",
       "\\item 0.222222222222222\n",
       "\\item 0.333333333333333\n",
       "\\item 0.444444444444444\n",
       "\\item 0.555555555555556\n",
       "\\item 0.666666666666667\n",
       "\\item 0.777777777777778\n",
       "\\item 0.888888888888889\n",
       "\\item 1\n",
       "\\end{enumerate*}\n"
      ],
      "text/markdown": [
       "1. 0\n",
       "2. 0.111111111111111\n",
       "3. 0.222222222222222\n",
       "4. 0.333333333333333\n",
       "5. 0.444444444444444\n",
       "6. 0.555555555555556\n",
       "7. 0.666666666666667\n",
       "8. 0.777777777777778\n",
       "9. 0.888888888888889\n",
       "10. 1\n",
       "\n",
       "\n"
      ],
      "text/plain": [
       " [1] 0.0000000 0.1111111 0.2222222 0.3333333 0.4444444 0.5555556 0.6666667\n",
       " [8] 0.7777778 0.8888889 1.0000000"
      ]
     },
     "metadata": {},
     "output_type": "display_data"
    }
   ],
   "source": [
    "# Define example vector x\n",
    "x <- 1:10 \n",
    "\n",
    "# Use the function template to create the rescale01 function\n",
    "rescale01 <- function(x) {\n",
    "  # body\n",
    "  rng <- range(x, na.rm = TRUE)\n",
    "  (x - rng[1]) / (rng[2] - rng[1])\n",
    "}\n",
    "\n",
    "# Test your function, call rescale01 using the vector x as the argument\n",
    "rescale01(x)"
   ]
  },
  {
   "cell_type": "markdown",
   "metadata": {},
   "source": [
    "## How to write a function\n",
    "### Start with a simple problem\n",
    "We want to write a function, both_na() that counts at how many positions two vectors, x and y, both have a missing value."
   ]
  },
  {
   "cell_type": "code",
   "execution_count": 28,
   "metadata": {},
   "outputs": [
    {
     "data": {
      "text/html": [
       "1"
      ],
      "text/latex": [
       "1"
      ],
      "text/markdown": [
       "1"
      ],
      "text/plain": [
       "[1] 1"
      ]
     },
     "metadata": {},
     "output_type": "display_data"
    }
   ],
   "source": [
    "# Define example vectors x and y\n",
    "x <- c( 1, 2, NA, 3, NA)\n",
    "y <- c(NA, 3, NA, 3,  4)\n",
    "\n",
    "# Count how many elements are missing in both x and y\n",
    "sum(is.na(x) & is.na(y))"
   ]
  },
  {
   "cell_type": "code",
   "execution_count": 29,
   "metadata": {},
   "outputs": [],
   "source": [
    "# Turn this snippet into a function: both_na()\n",
    "both_na <- function(x, y) {\n",
    "  sum(is.na(x) & is.na(y))\n",
    "}"
   ]
  },
  {
   "cell_type": "markdown",
   "metadata": {},
   "source": [
    "**Test the function**"
   ]
  },
  {
   "cell_type": "code",
   "execution_count": 32,
   "metadata": {},
   "outputs": [
    {
     "data": {
      "text/html": [
       "2"
      ],
      "text/latex": [
       "2"
      ],
      "text/markdown": [
       "2"
      ],
      "text/plain": [
       "[1] 2"
      ]
     },
     "metadata": {},
     "output_type": "display_data"
    },
    {
     "name": "stderr",
     "output_type": "stream",
     "text": [
      "Warning message in is.na(x) & is.na(y):\n",
      "\"Länge des längeren Objektes\n",
      " \t ist kein Vielfaches der Länge des kürzeren Objektes\""
     ]
    },
    {
     "data": {
      "text/html": [
       "3"
      ],
      "text/latex": [
       "3"
      ],
      "text/markdown": [
       "3"
      ],
      "text/plain": [
       "[1] 3"
      ]
     },
     "metadata": {},
     "output_type": "display_data"
    }
   ],
   "source": [
    "# Define more test vectors x, y1 and y2\n",
    "x <-  c(NA, NA, NA)\n",
    "y1 <- c( 1, NA, NA)\n",
    "y2 <- c( 1, NA, NA, NA)\n",
    "\n",
    "# Call both_na on x, y1\n",
    "both_na(x, y1)\n",
    "\n",
    "# Call both_na on x, y2\n",
    "both_na(x, y2)"
   ]
  },
  {
   "cell_type": "markdown",
   "metadata": {},
   "source": [
    "## How to write a good function\n",
    "Functions name should be a verb and describe what they do\n",
    "<br>Arguments name should be nouns and not common as c (already a function in R), also for data entry typical x, y, z\n",
    "\n",
    "Arguments are often one of two types:\n",
    "\n",
    "    Data arguments supply the data to compute on.\n",
    "    Detail arguments control the details of how the computation is done.\n",
    "Generally, data arguments should come first. Detail arguments should go on the end, and usually should have default values. "
   ]
  },
  {
   "cell_type": "markdown",
   "metadata": {},
   "source": [
    "### Return statements\n",
    "This is a case where an early return() makes sense. If x is empty, the function should immediately return c(-Inf, Inf)."
   ]
  },
  {
   "cell_type": "code",
   "execution_count": 33,
   "metadata": {},
   "outputs": [],
   "source": [
    "mean_ci <- function(x, level = 0.95) {\n",
    "  if (length(x) == 0) {\n",
    "    warning(\"`x` was empty\", call. = FALSE)\n",
    "    return(c(-Inf, Inf))\n",
    "  }\n",
    "  se <- sd(x) / sqrt(length(x))\n",
    "  alpha <- 1 - level\n",
    "  mean(x) + se * qnorm(c(alpha / 2, 1 - alpha / 2))\n",
    "}"
   ]
  },
  {
   "cell_type": "code",
   "execution_count": 34,
   "metadata": {},
   "outputs": [
    {
     "name": "stderr",
     "output_type": "stream",
     "text": [
      "Warning message:\n",
      "\"`x` was empty\""
     ]
    },
    {
     "data": {
      "text/html": [
       "<ol class=list-inline>\n",
       "\t<li>-Inf</li>\n",
       "\t<li>Inf</li>\n",
       "</ol>\n"
      ],
      "text/latex": [
       "\\begin{enumerate*}\n",
       "\\item -Inf\n",
       "\\item Inf\n",
       "\\end{enumerate*}\n"
      ],
      "text/markdown": [
       "1. -Inf\n",
       "2. Inf\n",
       "\n",
       "\n"
      ],
      "text/plain": [
       "[1] -Inf  Inf"
      ]
     },
     "metadata": {},
     "output_type": "display_data"
    }
   ],
   "source": [
    "mean_ci(numeric(0))"
   ]
  },
  {
   "cell_type": "code",
   "execution_count": 35,
   "metadata": {},
   "outputs": [],
   "source": [
    "col_summary <- function(df, fun) {\n",
    "  output <- vector(\"numeric\", length(df))\n",
    "  for (i in seq_along(df)) {\n",
    "    output[[i]] <- fun(df[[i]])\n",
    "  }\n",
    "  output\n",
    "}"
   ]
  },
  {
   "cell_type": "code",
   "execution_count": 36,
   "metadata": {},
   "outputs": [
    {
     "data": {
      "text/html": [
       "<ol class=list-inline>\n",
       "\t<li>-0.0462224</li>\n",
       "\t<li>-0.01173365</li>\n",
       "\t<li>0.12136755</li>\n",
       "\t<li>0.28899855</li>\n",
       "</ol>\n"
      ],
      "text/latex": [
       "\\begin{enumerate*}\n",
       "\\item -0.0462224\n",
       "\\item -0.01173365\n",
       "\\item 0.12136755\n",
       "\\item 0.28899855\n",
       "\\end{enumerate*}\n"
      ],
      "text/markdown": [
       "1. -0.0462224\n",
       "2. -0.01173365\n",
       "3. 0.12136755\n",
       "4. 0.28899855\n",
       "\n",
       "\n"
      ],
      "text/plain": [
       "[1] -0.04622240 -0.01173365  0.12136755  0.28899855"
      ]
     },
     "metadata": {},
     "output_type": "display_data"
    }
   ],
   "source": [
    "col_summary(df, fun = median)"
   ]
  },
  {
   "cell_type": "markdown",
   "metadata": {},
   "source": [
    "# Purrr"
   ]
  },
  {
   "cell_type": "markdown",
   "metadata": {},
   "source": [
    "The map functions\n",
    "\n",
    "All the map functions in purrr take a vector, .x, as the first argument, then return .f applied to each element of .x. The type of object that is returned is determined by function suffix (the part after _):\n",
    "\n",
    "    map() returns a list or data frame\n",
    "    map_lgl() returns a logical vector\n",
    "    map_int() returns a integer vector\n",
    "    map_dbl() returns a double vector\n",
    "    map_chr() returns a character vector\n"
   ]
  },
  {
   "cell_type": "code",
   "execution_count": 39,
   "metadata": {},
   "outputs": [
    {
     "data": {
      "text/html": [
       "<dl class=dl-horizontal>\n",
       "\t<dt>a</dt>\n",
       "\t\t<dd>0.02867685</dd>\n",
       "\t<dt>b</dt>\n",
       "\t\t<dd>0.35219084</dd>\n",
       "\t<dt>c</dt>\n",
       "\t\t<dd>-0.18518902</dd>\n",
       "\t<dt>d</dt>\n",
       "\t\t<dd>0.1895721</dd>\n",
       "</dl>\n"
      ],
      "text/latex": [
       "\\begin{description*}\n",
       "\\item[a] 0.02867685\n",
       "\\item[b] 0.35219084\n",
       "\\item[c] -0.18518902\n",
       "\\item[d] 0.1895721\n",
       "\\end{description*}\n"
      ],
      "text/markdown": [
       "a\n",
       ":   0.02867685b\n",
       ":   0.35219084c\n",
       ":   -0.18518902d\n",
       ":   0.1895721\n",
       "\n"
      ],
      "text/plain": [
       "          a           b           c           d \n",
       " 0.02867685  0.35219084 -0.18518902  0.18957210 "
      ]
     },
     "metadata": {},
     "output_type": "display_data"
    },
    {
     "data": {
      "text/html": [
       "<dl class=dl-horizontal>\n",
       "\t<dt>a</dt>\n",
       "\t\t<dd>-0.0462224</dd>\n",
       "\t<dt>b</dt>\n",
       "\t\t<dd>-0.01173365</dd>\n",
       "\t<dt>c</dt>\n",
       "\t\t<dd>0.12136755</dd>\n",
       "\t<dt>d</dt>\n",
       "\t\t<dd>0.28899855</dd>\n",
       "</dl>\n"
      ],
      "text/latex": [
       "\\begin{description*}\n",
       "\\item[a] -0.0462224\n",
       "\\item[b] -0.01173365\n",
       "\\item[c] 0.12136755\n",
       "\\item[d] 0.28899855\n",
       "\\end{description*}\n"
      ],
      "text/markdown": [
       "a\n",
       ":   -0.0462224b\n",
       ":   -0.01173365c\n",
       ":   0.12136755d\n",
       ":   0.28899855\n",
       "\n"
      ],
      "text/plain": [
       "          a           b           c           d \n",
       "-0.04622240 -0.01173365  0.12136755  0.28899855 "
      ]
     },
     "metadata": {},
     "output_type": "display_data"
    },
    {
     "data": {
      "text/html": [
       "<dl class=dl-horizontal>\n",
       "\t<dt>a</dt>\n",
       "\t\t<dd>0.941222517041882</dd>\n",
       "\t<dt>b</dt>\n",
       "\t\t<dd>0.999570560771481</dd>\n",
       "\t<dt>c</dt>\n",
       "\t\t<dd>1.08063766447122</dd>\n",
       "\t<dt>d</dt>\n",
       "\t\t<dd>0.982840994942721</dd>\n",
       "</dl>\n"
      ],
      "text/latex": [
       "\\begin{description*}\n",
       "\\item[a] 0.941222517041882\n",
       "\\item[b] 0.999570560771481\n",
       "\\item[c] 1.08063766447122\n",
       "\\item[d] 0.982840994942721\n",
       "\\end{description*}\n"
      ],
      "text/markdown": [
       "a\n",
       ":   0.941222517041882b\n",
       ":   0.999570560771481c\n",
       ":   1.08063766447122d\n",
       ":   0.982840994942721\n",
       "\n"
      ],
      "text/plain": [
       "        a         b         c         d \n",
       "0.9412225 0.9995706 1.0806377 0.9828410 "
      ]
     },
     "metadata": {},
     "output_type": "display_data"
    }
   ],
   "source": [
    "# Load the purrr package\n",
    "library(purrr)\n",
    "\n",
    "# Use map_dbl() to find column means\n",
    "map_dbl(df, mean)\n",
    "\n",
    "# Use map_dbl() to column medians\n",
    "map_dbl(df, median)\n",
    "\n",
    "# Use map_dbl() to find column standard deviations\n",
    "map_dbl(df, sd)"
   ]
  },
  {
   "cell_type": "code",
   "execution_count": 45,
   "metadata": {},
   "outputs": [
    {
     "data": {
      "text/html": [
       "<dl class=dl-horizontal>\n",
       "\t<dt>a</dt>\n",
       "\t\t<dd>TRUE</dd>\n",
       "\t<dt>b</dt>\n",
       "\t\t<dd>TRUE</dd>\n",
       "\t<dt>c</dt>\n",
       "\t\t<dd>TRUE</dd>\n",
       "\t<dt>d</dt>\n",
       "\t\t<dd>TRUE</dd>\n",
       "</dl>\n"
      ],
      "text/latex": [
       "\\begin{description*}\n",
       "\\item[a] TRUE\n",
       "\\item[b] TRUE\n",
       "\\item[c] TRUE\n",
       "\\item[d] TRUE\n",
       "\\end{description*}\n"
      ],
      "text/markdown": [
       "a\n",
       ":   TRUEb\n",
       ":   TRUEc\n",
       ":   TRUEd\n",
       ":   TRUE\n",
       "\n"
      ],
      "text/plain": [
       "   a    b    c    d \n",
       "TRUE TRUE TRUE TRUE "
      ]
     },
     "metadata": {},
     "output_type": "display_data"
    },
    {
     "data": {
      "text/html": [
       "<dl class=dl-horizontal>\n",
       "\t<dt>a</dt>\n",
       "\t\t<dd>'double'</dd>\n",
       "\t<dt>b</dt>\n",
       "\t\t<dd>'double'</dd>\n",
       "\t<dt>c</dt>\n",
       "\t\t<dd>'double'</dd>\n",
       "\t<dt>d</dt>\n",
       "\t\t<dd>'double'</dd>\n",
       "</dl>\n"
      ],
      "text/latex": [
       "\\begin{description*}\n",
       "\\item[a] 'double'\n",
       "\\item[b] 'double'\n",
       "\\item[c] 'double'\n",
       "\\item[d] 'double'\n",
       "\\end{description*}\n"
      ],
      "text/markdown": [
       "a\n",
       ":   'double'b\n",
       ":   'double'c\n",
       ":   'double'd\n",
       ":   'double'\n",
       "\n"
      ],
      "text/plain": [
       "       a        b        c        d \n",
       "\"double\" \"double\" \"double\" \"double\" "
      ]
     },
     "metadata": {},
     "output_type": "display_data"
    },
    {
     "data": {
      "text/plain": [
       "$a\n",
       "    Min.  1st Qu.   Median     Mean  3rd Qu.     Max. \n",
       "-1.25802 -0.77736 -0.04622  0.02868  0.68247  1.33412 \n",
       "\n",
       "$b\n",
       "    Min.  1st Qu.   Median     Mean  3rd Qu.     Max. \n",
       "-0.84130 -0.31157 -0.01173  0.35219  1.17658  2.11832 \n",
       "\n",
       "$c\n",
       "   Min. 1st Qu.  Median    Mean 3rd Qu.    Max. \n",
       "-2.2044 -0.9054  0.1214 -0.1852  0.3578  1.1650 \n",
       "\n",
       "$d\n",
       "   Min. 1st Qu.  Median    Mean 3rd Qu.    Max. \n",
       "-1.3385 -0.3141  0.2890  0.1896  1.0764  1.3391 \n"
      ]
     },
     "metadata": {},
     "output_type": "display_data"
    }
   ],
   "source": [
    "# Find the columns that are numeric\n",
    "map_lgl(df, is.numeric)\n",
    "\n",
    "# Find the type of each column\n",
    "map_chr(df, typeof)\n",
    "\n",
    "# Find a summary of each column\n",
    "map(df, summary)"
   ]
  },
  {
   "cell_type": "markdown",
   "metadata": {},
   "source": [
    "n R, a one-sided formula starts with a ~, followed by an R expression. In purrr's map functions, the R expression can refer to an element of the .x argument using the . character."
   ]
  },
  {
   "cell_type": "code",
   "execution_count": 57,
   "metadata": {},
   "outputs": [
    {
     "data": {
      "text/html": [
       "<dl class=dl-horizontal>\n",
       "\t<dt>a</dt>\n",
       "\t\t<dd>0.02867685</dd>\n",
       "\t<dt>b</dt>\n",
       "\t\t<dd>0.35219084</dd>\n",
       "\t<dt>c</dt>\n",
       "\t\t<dd>-0.18518902</dd>\n",
       "\t<dt>d</dt>\n",
       "\t\t<dd>0.1895721</dd>\n",
       "</dl>\n"
      ],
      "text/latex": [
       "\\begin{description*}\n",
       "\\item[a] 0.02867685\n",
       "\\item[b] 0.35219084\n",
       "\\item[c] -0.18518902\n",
       "\\item[d] 0.1895721\n",
       "\\end{description*}\n"
      ],
      "text/markdown": [
       "a\n",
       ":   0.02867685b\n",
       ":   0.35219084c\n",
       ":   -0.18518902d\n",
       ":   0.1895721\n",
       "\n"
      ],
      "text/plain": [
       "          a           b           c           d \n",
       " 0.02867685  0.35219084 -0.18518902  0.18957210 "
      ]
     },
     "metadata": {},
     "output_type": "display_data"
    }
   ],
   "source": [
    "# Formulars inside the map function\n",
    "map_dbl(df, function(x) mean(x))"
   ]
  },
  {
   "cell_type": "code",
   "execution_count": 59,
   "metadata": {},
   "outputs": [
    {
     "data": {
      "text/html": [
       "<dl class=dl-horizontal>\n",
       "\t<dt>a</dt>\n",
       "\t\t<dd>0.02867685</dd>\n",
       "\t<dt>b</dt>\n",
       "\t\t<dd>0.35219084</dd>\n",
       "\t<dt>c</dt>\n",
       "\t\t<dd>-0.18518902</dd>\n",
       "\t<dt>d</dt>\n",
       "\t\t<dd>0.1895721</dd>\n",
       "</dl>\n"
      ],
      "text/latex": [
       "\\begin{description*}\n",
       "\\item[a] 0.02867685\n",
       "\\item[b] 0.35219084\n",
       "\\item[c] -0.18518902\n",
       "\\item[d] 0.1895721\n",
       "\\end{description*}\n"
      ],
      "text/markdown": [
       "a\n",
       ":   0.02867685b\n",
       ":   0.35219084c\n",
       ":   -0.18518902d\n",
       ":   0.1895721\n",
       "\n"
      ],
      "text/plain": [
       "          a           b           c           d \n",
       " 0.02867685  0.35219084 -0.18518902  0.18957210 "
      ]
     },
     "metadata": {},
     "output_type": "display_data"
    }
   ],
   "source": [
    "# Formulars can be shortened in this way:\n",
    "map_dbl(df, ~ mean(.))"
   ]
  },
  {
   "cell_type": "markdown",
   "metadata": {},
   "source": [
    "Using a string\n",
    "\n",
    "There are also some useful shortcuts that come in handy when you want to subset each element of the .x argument. If the .f argument to a map function is set equal to a string, let's say \"name\", then purrr extracts the \"name\" element from every element of .x."
   ]
  },
  {
   "cell_type": "code",
   "execution_count": 61,
   "metadata": {},
   "outputs": [],
   "source": [
    "list_of_results <- list(\n",
    "  list(a = 1, b = \"A\"), \n",
    "  list(a = 2, b = \"C\"), \n",
    "  list(a = 3, b = \"D\")\n",
    ")"
   ]
  },
  {
   "cell_type": "code",
   "execution_count": 62,
   "metadata": {},
   "outputs": [
    {
     "data": {
      "text/html": [
       "<ol>\n",
       "\t<li>1</li>\n",
       "\t<li>2</li>\n",
       "\t<li>3</li>\n",
       "</ol>\n"
      ],
      "text/latex": [
       "\\begin{enumerate}\n",
       "\\item 1\n",
       "\\item 2\n",
       "\\item 3\n",
       "\\end{enumerate}\n"
      ],
      "text/markdown": [
       "1. 1\n",
       "2. 2\n",
       "3. 3\n",
       "\n",
       "\n"
      ],
      "text/plain": [
       "[[1]]\n",
       "[1] 1\n",
       "\n",
       "[[2]]\n",
       "[1] 2\n",
       "\n",
       "[[3]]\n",
       "[1] 3\n"
      ]
     },
     "metadata": {},
     "output_type": "display_data"
    }
   ],
   "source": [
    "map(list_of_results, \"a\")"
   ]
  },
  {
   "cell_type": "markdown",
   "metadata": {},
   "source": [
    "Using a numeric vector\n",
    "\n",
    "Another useful shortcut for subsetting is to pass a numeric vector as the .f argument. This works just like passing a string but subsets by index rather than name"
   ]
  },
  {
   "cell_type": "code",
   "execution_count": 63,
   "metadata": {},
   "outputs": [
    {
     "data": {
      "text/html": [
       "<ol>\n",
       "\t<li>1</li>\n",
       "\t<li>2</li>\n",
       "\t<li>3</li>\n",
       "</ol>\n"
      ],
      "text/latex": [
       "\\begin{enumerate}\n",
       "\\item 1\n",
       "\\item 2\n",
       "\\item 3\n",
       "\\end{enumerate}\n"
      ],
      "text/markdown": [
       "1. 1\n",
       "2. 2\n",
       "3. 3\n",
       "\n",
       "\n"
      ],
      "text/plain": [
       "[[1]]\n",
       "[1] 1\n",
       "\n",
       "[[2]]\n",
       "[1] 2\n",
       "\n",
       "[[3]]\n",
       "[1] 3\n"
      ]
     },
     "metadata": {},
     "output_type": "display_data"
    }
   ],
   "source": [
    "map(list_of_results, 1)"
   ]
  },
  {
   "cell_type": "markdown",
   "metadata": {},
   "source": [
    "Putting it together with pipes\n",
    "\n",
    "purrr also includes a pipe operator: %>%. The pipe operator is another shortcut that saves typing, but also increases readability. The explanation of the pipe operator is quite simple: x %>% f(y) is another way of writing f(x, y). That is, the left hand side of the pipe, x, becomes the first argument to the function, f(), on the right hand side of the pipe."
   ]
  },
  {
   "cell_type": "markdown",
   "metadata": {},
   "source": [
    "Creating a safe function\n",
    "\n",
    "safely() is an adverb; it takes a verb and modifies it. That is, it takes a function as an argument and it returns a function as its output. The function that is returned is modified so it never throws an error (and never stops the rest of your computation!).\n",
    "\n",
    "Instead, it always returns a list with two elements:\n",
    "\n",
    "    result is the original result. If there was an error, this will be NULL.\n",
    "    error is an error object. If the operation was successful this will be NULL."
   ]
  },
  {
   "cell_type": "code",
   "execution_count": 65,
   "metadata": {},
   "outputs": [
    {
     "data": {
      "text/html": [
       "<dl>\n",
       "\t<dt>$result</dt>\n",
       "\t\t<dd><ol class=list-inline>\n",
       "\t<li>'&lt;!doctype html&gt;'</li>\n",
       "\t<li>'&lt;html&gt;'</li>\n",
       "\t<li>'&lt;head&gt;'</li>\n",
       "\t<li><span style=white-space:pre-wrap>'    &lt;title&gt;Example Domain&lt;/title&gt;'</span></li>\n",
       "\t<li>''</li>\n",
       "\t<li><span style=white-space:pre-wrap>'    &lt;meta charset=\"utf-8\" /&gt;'</span></li>\n",
       "\t<li><span style=white-space:pre-wrap>'    &lt;meta http-equiv=\"Content-type\" content=\"text/html; charset=utf-8\" /&gt;'</span></li>\n",
       "\t<li><span style=white-space:pre-wrap>'    &lt;meta name=\"viewport\" content=\"width=device-width, initial-scale=1\" /&gt;'</span></li>\n",
       "\t<li><span style=white-space:pre-wrap>'    &lt;style type=\"text/css\"&gt;'</span></li>\n",
       "\t<li><span style=white-space:pre-wrap>'    body {'</span></li>\n",
       "\t<li><span style=white-space:pre-wrap>'        background-color: #f0f0f2;'</span></li>\n",
       "\t<li><span style=white-space:pre-wrap>'        margin: 0;'</span></li>\n",
       "\t<li><span style=white-space:pre-wrap>'        padding: 0;'</span></li>\n",
       "\t<li><span style=white-space:pre-wrap>'        font-family: \"Open Sans\", \"Helvetica Neue\", Helvetica, Arial, sans-serif;'</span></li>\n",
       "\t<li><span style=white-space:pre-wrap>'        '</span></li>\n",
       "\t<li><span style=white-space:pre-wrap>'    }'</span></li>\n",
       "\t<li><span style=white-space:pre-wrap>'    div {'</span></li>\n",
       "\t<li><span style=white-space:pre-wrap>'        width: 600px;'</span></li>\n",
       "\t<li><span style=white-space:pre-wrap>'        margin: 5em auto;'</span></li>\n",
       "\t<li><span style=white-space:pre-wrap>'        padding: 50px;'</span></li>\n",
       "\t<li><span style=white-space:pre-wrap>'        background-color: #fff;'</span></li>\n",
       "\t<li><span style=white-space:pre-wrap>'        border-radius: 1em;'</span></li>\n",
       "\t<li><span style=white-space:pre-wrap>'    }'</span></li>\n",
       "\t<li><span style=white-space:pre-wrap>'    a:link, a:visited {'</span></li>\n",
       "\t<li><span style=white-space:pre-wrap>'        color: #38488f;'</span></li>\n",
       "\t<li><span style=white-space:pre-wrap>'        text-decoration: none;'</span></li>\n",
       "\t<li><span style=white-space:pre-wrap>'    }'</span></li>\n",
       "\t<li><span style=white-space:pre-wrap>'    @media (max-width: 700px) {'</span></li>\n",
       "\t<li><span style=white-space:pre-wrap>'        body {'</span></li>\n",
       "\t<li><span style=white-space:pre-wrap>'            background-color: #fff;'</span></li>\n",
       "\t<li><span style=white-space:pre-wrap>'        }'</span></li>\n",
       "\t<li><span style=white-space:pre-wrap>'        div {'</span></li>\n",
       "\t<li><span style=white-space:pre-wrap>'            width: auto;'</span></li>\n",
       "\t<li><span style=white-space:pre-wrap>'            margin: 0 auto;'</span></li>\n",
       "\t<li><span style=white-space:pre-wrap>'            border-radius: 0;'</span></li>\n",
       "\t<li><span style=white-space:pre-wrap>'            padding: 1em;'</span></li>\n",
       "\t<li><span style=white-space:pre-wrap>'        }'</span></li>\n",
       "\t<li><span style=white-space:pre-wrap>'    }'</span></li>\n",
       "\t<li><span style=white-space:pre-wrap>'    &lt;/style&gt;    '</span></li>\n",
       "\t<li>'&lt;/head&gt;'</li>\n",
       "\t<li>''</li>\n",
       "\t<li>'&lt;body&gt;'</li>\n",
       "\t<li>'&lt;div&gt;'</li>\n",
       "\t<li><span style=white-space:pre-wrap>'    &lt;h1&gt;Example Domain&lt;/h1&gt;'</span></li>\n",
       "\t<li><span style=white-space:pre-wrap>'    &lt;p&gt;This domain is established to be used for illustrative examples in documents. You may use this'</span></li>\n",
       "\t<li><span style=white-space:pre-wrap>'    domain in examples without prior coordination or asking for permission.&lt;/p&gt;'</span></li>\n",
       "\t<li><span style=white-space:pre-wrap>'    &lt;p&gt;&lt;a href=\"http://www.iana.org/domains/example\"&gt;More information...&lt;/a&gt;&lt;/p&gt;'</span></li>\n",
       "\t<li>'&lt;/div&gt;'</li>\n",
       "\t<li>'&lt;/body&gt;'</li>\n",
       "\t<li>'&lt;/html&gt;'</li>\n",
       "</ol>\n",
       "</dd>\n",
       "\t<dt>$error</dt>\n",
       "\t\t<dd>NULL</dd>\n",
       "</dl>\n"
      ],
      "text/latex": [
       "\\begin{description}\n",
       "\\item[\\$result] \\begin{enumerate*}\n",
       "\\item '<!doctype html>'\n",
       "\\item '<html>'\n",
       "\\item '<head>'\n",
       "\\item '    <title>Example Domain</title>'\n",
       "\\item ''\n",
       "\\item '    <meta charset=\"utf-8\" />'\n",
       "\\item '    <meta http-equiv=\"Content-type\" content=\"text/html; charset=utf-8\" />'\n",
       "\\item '    <meta name=\"viewport\" content=\"width=device-width, initial-scale=1\" />'\n",
       "\\item '    <style type=\"text/css\">'\n",
       "\\item '    body \\{'\n",
       "\\item '        background-color: \\#f0f0f2;'\n",
       "\\item '        margin: 0;'\n",
       "\\item '        padding: 0;'\n",
       "\\item '        font-family: \"Open Sans\", \"Helvetica Neue\", Helvetica, Arial, sans-serif;'\n",
       "\\item '        '\n",
       "\\item '    \\}'\n",
       "\\item '    div \\{'\n",
       "\\item '        width: 600px;'\n",
       "\\item '        margin: 5em auto;'\n",
       "\\item '        padding: 50px;'\n",
       "\\item '        background-color: \\#fff;'\n",
       "\\item '        border-radius: 1em;'\n",
       "\\item '    \\}'\n",
       "\\item '    a:link, a:visited \\{'\n",
       "\\item '        color: \\#38488f;'\n",
       "\\item '        text-decoration: none;'\n",
       "\\item '    \\}'\n",
       "\\item '    @media (max-width: 700px) \\{'\n",
       "\\item '        body \\{'\n",
       "\\item '            background-color: \\#fff;'\n",
       "\\item '        \\}'\n",
       "\\item '        div \\{'\n",
       "\\item '            width: auto;'\n",
       "\\item '            margin: 0 auto;'\n",
       "\\item '            border-radius: 0;'\n",
       "\\item '            padding: 1em;'\n",
       "\\item '        \\}'\n",
       "\\item '    \\}'\n",
       "\\item '    </style>    '\n",
       "\\item '</head>'\n",
       "\\item ''\n",
       "\\item '<body>'\n",
       "\\item '<div>'\n",
       "\\item '    <h1>Example Domain</h1>'\n",
       "\\item '    <p>This domain is established to be used for illustrative examples in documents. You may use this'\n",
       "\\item '    domain in examples without prior coordination or asking for permission.</p>'\n",
       "\\item '    <p><a href=\"http://www.iana.org/domains/example\">More information...</a></p>'\n",
       "\\item '</div>'\n",
       "\\item '</body>'\n",
       "\\item '</html>'\n",
       "\\end{enumerate*}\n",
       "\n",
       "\\item[\\$error] NULL\n",
       "\\end{description}\n"
      ],
      "text/markdown": [
       "$result\n",
       ":   1. '&lt;!doctype html&gt;'\n",
       "2. '&lt;html&gt;'\n",
       "3. '&lt;head&gt;'\n",
       "4. <span style=white-space:pre-wrap>'    &lt;title&gt;Example Domain&lt;/title&gt;'</span>\n",
       "5. ''\n",
       "6. <span style=white-space:pre-wrap>'    &lt;meta charset=\"utf-8\" /&gt;'</span>\n",
       "7. <span style=white-space:pre-wrap>'    &lt;meta http-equiv=\"Content-type\" content=\"text/html; charset=utf-8\" /&gt;'</span>\n",
       "8. <span style=white-space:pre-wrap>'    &lt;meta name=\"viewport\" content=\"width=device-width, initial-scale=1\" /&gt;'</span>\n",
       "9. <span style=white-space:pre-wrap>'    &lt;style type=\"text/css\"&gt;'</span>\n",
       "10. <span style=white-space:pre-wrap>'    body {'</span>\n",
       "11. <span style=white-space:pre-wrap>'        background-color: #f0f0f2;'</span>\n",
       "12. <span style=white-space:pre-wrap>'        margin: 0;'</span>\n",
       "13. <span style=white-space:pre-wrap>'        padding: 0;'</span>\n",
       "14. <span style=white-space:pre-wrap>'        font-family: \"Open Sans\", \"Helvetica Neue\", Helvetica, Arial, sans-serif;'</span>\n",
       "15. <span style=white-space:pre-wrap>'        '</span>\n",
       "16. <span style=white-space:pre-wrap>'    }'</span>\n",
       "17. <span style=white-space:pre-wrap>'    div {'</span>\n",
       "18. <span style=white-space:pre-wrap>'        width: 600px;'</span>\n",
       "19. <span style=white-space:pre-wrap>'        margin: 5em auto;'</span>\n",
       "20. <span style=white-space:pre-wrap>'        padding: 50px;'</span>\n",
       "21. <span style=white-space:pre-wrap>'        background-color: #fff;'</span>\n",
       "22. <span style=white-space:pre-wrap>'        border-radius: 1em;'</span>\n",
       "23. <span style=white-space:pre-wrap>'    }'</span>\n",
       "24. <span style=white-space:pre-wrap>'    a:link, a:visited {'</span>\n",
       "25. <span style=white-space:pre-wrap>'        color: #38488f;'</span>\n",
       "26. <span style=white-space:pre-wrap>'        text-decoration: none;'</span>\n",
       "27. <span style=white-space:pre-wrap>'    }'</span>\n",
       "28. <span style=white-space:pre-wrap>'    @media (max-width: 700px) {'</span>\n",
       "29. <span style=white-space:pre-wrap>'        body {'</span>\n",
       "30. <span style=white-space:pre-wrap>'            background-color: #fff;'</span>\n",
       "31. <span style=white-space:pre-wrap>'        }'</span>\n",
       "32. <span style=white-space:pre-wrap>'        div {'</span>\n",
       "33. <span style=white-space:pre-wrap>'            width: auto;'</span>\n",
       "34. <span style=white-space:pre-wrap>'            margin: 0 auto;'</span>\n",
       "35. <span style=white-space:pre-wrap>'            border-radius: 0;'</span>\n",
       "36. <span style=white-space:pre-wrap>'            padding: 1em;'</span>\n",
       "37. <span style=white-space:pre-wrap>'        }'</span>\n",
       "38. <span style=white-space:pre-wrap>'    }'</span>\n",
       "39. <span style=white-space:pre-wrap>'    &lt;/style&gt;    '</span>\n",
       "40. '&lt;/head&gt;'\n",
       "41. ''\n",
       "42. '&lt;body&gt;'\n",
       "43. '&lt;div&gt;'\n",
       "44. <span style=white-space:pre-wrap>'    &lt;h1&gt;Example Domain&lt;/h1&gt;'</span>\n",
       "45. <span style=white-space:pre-wrap>'    &lt;p&gt;This domain is established to be used for illustrative examples in documents. You may use this'</span>\n",
       "46. <span style=white-space:pre-wrap>'    domain in examples without prior coordination or asking for permission.&lt;/p&gt;'</span>\n",
       "47. <span style=white-space:pre-wrap>'    &lt;p&gt;&lt;a href=\"http://www.iana.org/domains/example\"&gt;More information...&lt;/a&gt;&lt;/p&gt;'</span>\n",
       "48. '&lt;/div&gt;'\n",
       "49. '&lt;/body&gt;'\n",
       "50. '&lt;/html&gt;'\n",
       "\n",
       "\n",
       "\n",
       "$error\n",
       ":   NULL\n",
       "\n",
       "\n"
      ],
      "text/plain": [
       "$result\n",
       " [1] \"<!doctype html>\"                                                                                      \n",
       " [2] \"<html>\"                                                                                               \n",
       " [3] \"<head>\"                                                                                               \n",
       " [4] \"    <title>Example Domain</title>\"                                                                    \n",
       " [5] \"\"                                                                                                     \n",
       " [6] \"    <meta charset=\\\"utf-8\\\" />\"                                                                       \n",
       " [7] \"    <meta http-equiv=\\\"Content-type\\\" content=\\\"text/html; charset=utf-8\\\" />\"                        \n",
       " [8] \"    <meta name=\\\"viewport\\\" content=\\\"width=device-width, initial-scale=1\\\" />\"                       \n",
       " [9] \"    <style type=\\\"text/css\\\">\"                                                                        \n",
       "[10] \"    body {\"                                                                                           \n",
       "[11] \"        background-color: #f0f0f2;\"                                                                   \n",
       "[12] \"        margin: 0;\"                                                                                   \n",
       "[13] \"        padding: 0;\"                                                                                  \n",
       "[14] \"        font-family: \\\"Open Sans\\\", \\\"Helvetica Neue\\\", Helvetica, Arial, sans-serif;\"                \n",
       "[15] \"        \"                                                                                             \n",
       "[16] \"    }\"                                                                                                \n",
       "[17] \"    div {\"                                                                                            \n",
       "[18] \"        width: 600px;\"                                                                                \n",
       "[19] \"        margin: 5em auto;\"                                                                            \n",
       "[20] \"        padding: 50px;\"                                                                               \n",
       "[21] \"        background-color: #fff;\"                                                                      \n",
       "[22] \"        border-radius: 1em;\"                                                                          \n",
       "[23] \"    }\"                                                                                                \n",
       "[24] \"    a:link, a:visited {\"                                                                              \n",
       "[25] \"        color: #38488f;\"                                                                              \n",
       "[26] \"        text-decoration: none;\"                                                                       \n",
       "[27] \"    }\"                                                                                                \n",
       "[28] \"    @media (max-width: 700px) {\"                                                                      \n",
       "[29] \"        body {\"                                                                                       \n",
       "[30] \"            background-color: #fff;\"                                                                  \n",
       "[31] \"        }\"                                                                                            \n",
       "[32] \"        div {\"                                                                                        \n",
       "[33] \"            width: auto;\"                                                                             \n",
       "[34] \"            margin: 0 auto;\"                                                                          \n",
       "[35] \"            border-radius: 0;\"                                                                        \n",
       "[36] \"            padding: 1em;\"                                                                            \n",
       "[37] \"        }\"                                                                                            \n",
       "[38] \"    }\"                                                                                                \n",
       "[39] \"    </style>    \"                                                                                     \n",
       "[40] \"</head>\"                                                                                              \n",
       "[41] \"\"                                                                                                     \n",
       "[42] \"<body>\"                                                                                               \n",
       "[43] \"<div>\"                                                                                                \n",
       "[44] \"    <h1>Example Domain</h1>\"                                                                          \n",
       "[45] \"    <p>This domain is established to be used for illustrative examples in documents. You may use this\"\n",
       "[46] \"    domain in examples without prior coordination or asking for permission.</p>\"                      \n",
       "[47] \"    <p><a href=\\\"http://www.iana.org/domains/example\\\">More information...</a></p>\"                   \n",
       "[48] \"</div>\"                                                                                               \n",
       "[49] \"</body>\"                                                                                              \n",
       "[50] \"</html>\"                                                                                              \n",
       "\n",
       "$error\n",
       "NULL\n"
      ]
     },
     "metadata": {},
     "output_type": "display_data"
    },
    {
     "name": "stderr",
     "output_type": "stream",
     "text": [
      "Warning message in file(con, \"r\"):\n",
      "\"InternetOpenUrl fehlgeschlagen: 'The server name or address could not be resolved'\""
     ]
    },
    {
     "data": {
      "text/plain": [
       "$result\n",
       "NULL\n",
       "\n",
       "$error\n",
       "<simpleError in file(con, \"r\"): kann Verbindung nicht öffnen>\n"
      ]
     },
     "metadata": {},
     "output_type": "display_data"
    }
   ],
   "source": [
    "# Create safe_readLines() by passing readLines() to safely()\n",
    "safe_readLines <- safely(readLines)\n",
    "\n",
    "# Call safe_readLines() on \"http://example.org\"\n",
    "safe_readLines(\"http://example.org\")\n",
    "\n",
    "# Call safe_readLines() on \"http://asdfasdasdkfjlda\"\n",
    "safe_readLines(\"http://asdfasdasdkfjlda\")"
   ]
  },
  {
   "cell_type": "code",
   "execution_count": 66,
   "metadata": {},
   "outputs": [
    {
     "name": "stderr",
     "output_type": "stream",
     "text": [
      "Warning message in file(con, \"r\"):\n",
      "\"InternetOpenUrl fehlgeschlagen: 'The server name or address could not be resolved'\""
     ]
    },
    {
     "ename": "ERROR",
     "evalue": "Error in file(con, \"r\"): kann Verbindung nicht öffnen\n",
     "output_type": "error",
     "traceback": [
      "Error in file(con, \"r\"): kann Verbindung nicht öffnen\nTraceback:\n",
      "1. map(urls, readLines)",
      "2. .f(.x[[i]], ...)",
      "3. file(con, \"r\")"
     ]
    }
   ],
   "source": [
    "# We are interested in quickly downloading the HTML files at each URL\n",
    "urls <- list(\n",
    "  example = \"http://example.org\",\n",
    "  rproj = \"http://www.r-project.org\",\n",
    "  asdf = \"http://asdfasdasdkfjlda\"\n",
    ")\n",
    "map(urls, readLines)"
   ]
  },
  {
   "cell_type": "code",
   "execution_count": 67,
   "metadata": {},
   "outputs": [
    {
     "name": "stderr",
     "output_type": "stream",
     "text": [
      "Warning message in file(con, \"r\"):\n",
      "\"InternetOpenUrl fehlgeschlagen: 'The server name or address could not be resolved'\""
     ]
    },
    {
     "name": "stdout",
     "output_type": "stream",
     "text": [
      "List of 3\n",
      " $ example:List of 2\n",
      "  ..$ result: chr [1:50] \"<!doctype html>\" \"<html>\" \"<head>\" \"    <title>Example Domain</title>\" ...\n",
      "  ..$ error : NULL\n",
      " $ rproj  :List of 2\n",
      "  ..$ result: chr [1:122] \"<!DOCTYPE html>\" \"<html lang=\\\"en\\\">\" \"  <head>\" \"    <meta charset=\\\"utf-8\\\">\" ...\n",
      "  ..$ error : NULL\n",
      " $ asdf   :List of 2\n",
      "  ..$ result: NULL\n",
      "  ..$ error :List of 2\n",
      "  .. ..$ message: chr \"kann Verbindung nicht öffnen\"\n",
      "  .. ..$ call   : language file(con, \"r\")\n",
      "  .. ..- attr(*, \"class\")= chr [1:3] \"simpleError\" \"error\" \"condition\"\n"
     ]
    },
    {
     "data": {
      "text/html": [
       "<dl>\n",
       "\t<dt>$example</dt>\n",
       "\t\t<dd><ol class=list-inline>\n",
       "\t<li>'&lt;!doctype html&gt;'</li>\n",
       "\t<li>'&lt;html&gt;'</li>\n",
       "\t<li>'&lt;head&gt;'</li>\n",
       "\t<li><span style=white-space:pre-wrap>'    &lt;title&gt;Example Domain&lt;/title&gt;'</span></li>\n",
       "\t<li>''</li>\n",
       "\t<li><span style=white-space:pre-wrap>'    &lt;meta charset=\"utf-8\" /&gt;'</span></li>\n",
       "\t<li><span style=white-space:pre-wrap>'    &lt;meta http-equiv=\"Content-type\" content=\"text/html; charset=utf-8\" /&gt;'</span></li>\n",
       "\t<li><span style=white-space:pre-wrap>'    &lt;meta name=\"viewport\" content=\"width=device-width, initial-scale=1\" /&gt;'</span></li>\n",
       "\t<li><span style=white-space:pre-wrap>'    &lt;style type=\"text/css\"&gt;'</span></li>\n",
       "\t<li><span style=white-space:pre-wrap>'    body {'</span></li>\n",
       "\t<li><span style=white-space:pre-wrap>'        background-color: #f0f0f2;'</span></li>\n",
       "\t<li><span style=white-space:pre-wrap>'        margin: 0;'</span></li>\n",
       "\t<li><span style=white-space:pre-wrap>'        padding: 0;'</span></li>\n",
       "\t<li><span style=white-space:pre-wrap>'        font-family: \"Open Sans\", \"Helvetica Neue\", Helvetica, Arial, sans-serif;'</span></li>\n",
       "\t<li><span style=white-space:pre-wrap>'        '</span></li>\n",
       "\t<li><span style=white-space:pre-wrap>'    }'</span></li>\n",
       "\t<li><span style=white-space:pre-wrap>'    div {'</span></li>\n",
       "\t<li><span style=white-space:pre-wrap>'        width: 600px;'</span></li>\n",
       "\t<li><span style=white-space:pre-wrap>'        margin: 5em auto;'</span></li>\n",
       "\t<li><span style=white-space:pre-wrap>'        padding: 50px;'</span></li>\n",
       "\t<li><span style=white-space:pre-wrap>'        background-color: #fff;'</span></li>\n",
       "\t<li><span style=white-space:pre-wrap>'        border-radius: 1em;'</span></li>\n",
       "\t<li><span style=white-space:pre-wrap>'    }'</span></li>\n",
       "\t<li><span style=white-space:pre-wrap>'    a:link, a:visited {'</span></li>\n",
       "\t<li><span style=white-space:pre-wrap>'        color: #38488f;'</span></li>\n",
       "\t<li><span style=white-space:pre-wrap>'        text-decoration: none;'</span></li>\n",
       "\t<li><span style=white-space:pre-wrap>'    }'</span></li>\n",
       "\t<li><span style=white-space:pre-wrap>'    @media (max-width: 700px) {'</span></li>\n",
       "\t<li><span style=white-space:pre-wrap>'        body {'</span></li>\n",
       "\t<li><span style=white-space:pre-wrap>'            background-color: #fff;'</span></li>\n",
       "\t<li><span style=white-space:pre-wrap>'        }'</span></li>\n",
       "\t<li><span style=white-space:pre-wrap>'        div {'</span></li>\n",
       "\t<li><span style=white-space:pre-wrap>'            width: auto;'</span></li>\n",
       "\t<li><span style=white-space:pre-wrap>'            margin: 0 auto;'</span></li>\n",
       "\t<li><span style=white-space:pre-wrap>'            border-radius: 0;'</span></li>\n",
       "\t<li><span style=white-space:pre-wrap>'            padding: 1em;'</span></li>\n",
       "\t<li><span style=white-space:pre-wrap>'        }'</span></li>\n",
       "\t<li><span style=white-space:pre-wrap>'    }'</span></li>\n",
       "\t<li><span style=white-space:pre-wrap>'    &lt;/style&gt;    '</span></li>\n",
       "\t<li>'&lt;/head&gt;'</li>\n",
       "\t<li>''</li>\n",
       "\t<li>'&lt;body&gt;'</li>\n",
       "\t<li>'&lt;div&gt;'</li>\n",
       "\t<li><span style=white-space:pre-wrap>'    &lt;h1&gt;Example Domain&lt;/h1&gt;'</span></li>\n",
       "\t<li><span style=white-space:pre-wrap>'    &lt;p&gt;This domain is established to be used for illustrative examples in documents. You may use this'</span></li>\n",
       "\t<li><span style=white-space:pre-wrap>'    domain in examples without prior coordination or asking for permission.&lt;/p&gt;'</span></li>\n",
       "\t<li><span style=white-space:pre-wrap>'    &lt;p&gt;&lt;a href=\"http://www.iana.org/domains/example\"&gt;More information...&lt;/a&gt;&lt;/p&gt;'</span></li>\n",
       "\t<li>'&lt;/div&gt;'</li>\n",
       "\t<li>'&lt;/body&gt;'</li>\n",
       "\t<li>'&lt;/html&gt;'</li>\n",
       "</ol>\n",
       "</dd>\n",
       "\t<dt>$rproj</dt>\n",
       "\t\t<dd><ol class=list-inline>\n",
       "\t<li>'&lt;!DOCTYPE html&gt;'</li>\n",
       "\t<li>'&lt;html lang=\"en\"&gt;'</li>\n",
       "\t<li><span style=white-space:pre-wrap>'  &lt;head&gt;'</span></li>\n",
       "\t<li><span style=white-space:pre-wrap>'    &lt;meta charset=\"utf-8\"&gt;'</span></li>\n",
       "\t<li><span style=white-space:pre-wrap>'    &lt;meta http-equiv=\"X-UA-Compatible\" content=\"IE=edge\"&gt;'</span></li>\n",
       "\t<li><span style=white-space:pre-wrap>'    &lt;meta name=\"viewport\" content=\"width=device-width, initial-scale=1\"&gt;'</span></li>\n",
       "\t<li><span style=white-space:pre-wrap>'    &lt;title&gt;R: The R Project for Statistical Computing&lt;/title&gt;'</span></li>\n",
       "\t<li>''</li>\n",
       "\t<li><span style=white-space:pre-wrap>'    &lt;link rel=\"icon\" type=\"image/png\" href=\"/favicon-32x32.png\" sizes=\"32x32\" /&gt;'</span></li>\n",
       "\t<li><span style=white-space:pre-wrap>'    &lt;link rel=\"icon\" type=\"image/png\" href=\"/favicon-16x16.png\" sizes=\"16x16\" /&gt;'</span></li>\n",
       "\t<li>''</li>\n",
       "\t<li><span style=white-space:pre-wrap>'    &lt;!-- Bootstrap --&gt;'</span></li>\n",
       "\t<li><span style=white-space:pre-wrap>'    &lt;link href=\"/css/bootstrap.min.css\" rel=\"stylesheet\"&gt;'</span></li>\n",
       "\t<li><span style=white-space:pre-wrap>'    &lt;link href=\"/css/R.css\" rel=\"stylesheet\"&gt;'</span></li>\n",
       "\t<li>''</li>\n",
       "\t<li><span style=white-space:pre-wrap>'    &lt;!-- HTML5 shim and Respond.js for IE8 support of HTML5 elements and media queries --&gt;'</span></li>\n",
       "\t<li><span style=white-space:pre-wrap>'    &lt;!-- WARNING: Respond.js doesn\\'t work if you view the page via file:// --&gt;'</span></li>\n",
       "\t<li><span style=white-space:pre-wrap>'    &lt;!--[if lt IE 9]&gt;'</span></li>\n",
       "\t<li><span style=white-space:pre-wrap>'      &lt;script src=\"https://oss.maxcdn.com/html5shiv/3.7.2/html5shiv.min.js\"&gt;&lt;/script&gt;'</span></li>\n",
       "\t<li><span style=white-space:pre-wrap>'      &lt;script src=\"https://oss.maxcdn.com/respond/1.4.2/respond.min.js\"&gt;&lt;/script&gt;'</span></li>\n",
       "\t<li><span style=white-space:pre-wrap>'    &lt;![endif]--&gt;'</span></li>\n",
       "\t<li><span style=white-space:pre-wrap>'  &lt;/head&gt;'</span></li>\n",
       "\t<li><span style=white-space:pre-wrap>'  &lt;body&gt;'</span></li>\n",
       "\t<li><span style=white-space:pre-wrap>'    &lt;div class=\"container page\"&gt;'</span></li>\n",
       "\t<li><span style=white-space:pre-wrap>'      &lt;div class=\"row\"&gt;'</span></li>\n",
       "\t<li><span style=white-space:pre-wrap>'        &lt;div class=\"col-xs-12 col-sm-offset-1 col-sm-2 sidebar\" role=\"navigation\"&gt;'</span></li>\n",
       "\t<li>'&lt;div class=\"row\"&gt;'</li>\n",
       "\t<li>'&lt;div class=\"col-xs-6 col-sm-12\"&gt;'</li>\n",
       "\t<li>'&lt;p&gt;&lt;a href=\"/\"&gt;&lt;img src=\"/Rlogo.png\" width=\"100\" height=\"78\" alt = \"R\" /&gt;&lt;/a&gt;&lt;/p&gt;'</li>\n",
       "\t<li>'&lt;p&gt;&lt;small&gt;&lt;a href=\"/\"&gt;[Home]&lt;/a&gt;&lt;/small&gt;&lt;/p&gt;'</li>\n",
       "\t<li>'&lt;h2 id=\"download\"&gt;Download&lt;/h2&gt;'</li>\n",
       "\t<li>'&lt;p&gt;&lt;a href=\"http://cran.r-project.org/mirrors.html\"&gt;CRAN&lt;/a&gt;&lt;/p&gt;'</li>\n",
       "\t<li>'&lt;h2 id=\"r-project\"&gt;R Project&lt;/h2&gt;'</li>\n",
       "\t<li>'&lt;ul&gt;'</li>\n",
       "\t<li>'&lt;li&gt;&lt;a href=\"/about.html\"&gt;About R&lt;/a&gt;&lt;/li&gt;'</li>\n",
       "\t<li>'&lt;li&gt;&lt;a href=\"/logo/\"&gt;Logo&lt;/a&gt;&lt;/li&gt;'</li>\n",
       "\t<li>'&lt;li&gt;&lt;a href=\"/contributors.html\"&gt;Contributors&lt;/a&gt;&lt;/li&gt;'</li>\n",
       "\t<li>'&lt;li&gt;&lt;a href=\"/news.html\"&gt;Whatâ\\200\\231s New?&lt;/a&gt;&lt;/li&gt;'</li>\n",
       "\t<li>'&lt;li&gt;&lt;a href=\"/bugs.html\"&gt;Reporting Bugs&lt;/a&gt;&lt;/li&gt;'</li>\n",
       "\t<li>'&lt;li&gt;&lt;a href=\"/conferences.html\"&gt;Conferences&lt;/a&gt;&lt;/li&gt;'</li>\n",
       "\t<li>'&lt;li&gt;&lt;a href=\"/search.html\"&gt;Search&lt;/a&gt;&lt;/li&gt;'</li>\n",
       "\t<li>'&lt;li&gt;&lt;a href=\"/mail.html\"&gt;Get Involved: Mailing Lists&lt;/a&gt;&lt;/li&gt;'</li>\n",
       "\t<li>'&lt;li&gt;&lt;a href=\"http://developer.R-project.org\"&gt;Developer Pages&lt;/a&gt;&lt;/li&gt;'</li>\n",
       "\t<li>'&lt;li&gt;&lt;a href=\"https://developer.r-project.org/Blog/public/\"&gt;R Blog&lt;/a&gt;&lt;/li&gt;'</li>\n",
       "\t<li>'&lt;/ul&gt;'</li>\n",
       "\t<li>'&lt;/div&gt;'</li>\n",
       "\t<li>'&lt;div class=\"col-xs-6 col-sm-12\"&gt;'</li>\n",
       "\t<li>'&lt;h2 id=\"r-foundation\"&gt;R Foundation&lt;/h2&gt;'</li>\n",
       "\t<li>'&lt;ul&gt;'</li>\n",
       "\t<li>'&lt;li&gt;&lt;a href=\"/foundation/\"&gt;Foundation&lt;/a&gt;&lt;/li&gt;'</li>\n",
       "\t<li>'&lt;li&gt;&lt;a href=\"/foundation/board.html\"&gt;Board&lt;/a&gt;&lt;/li&gt;'</li>\n",
       "\t<li>'&lt;li&gt;&lt;a href=\"/foundation/members.html\"&gt;Members&lt;/a&gt;&lt;/li&gt;'</li>\n",
       "\t<li>'&lt;li&gt;&lt;a href=\"/foundation/donors.html\"&gt;Donors&lt;/a&gt;&lt;/li&gt;'</li>\n",
       "\t<li>'&lt;li&gt;&lt;a href=\"/foundation/donations.html\"&gt;Donate&lt;/a&gt;&lt;/li&gt;'</li>\n",
       "\t<li>'&lt;/ul&gt;'</li>\n",
       "\t<li>'&lt;h2 id=\"help-with-r\"&gt;Help With R&lt;/h2&gt;'</li>\n",
       "\t<li>'&lt;ul&gt;'</li>\n",
       "\t<li>'&lt;li&gt;&lt;a href=\"/help.html\"&gt;Getting Help&lt;/a&gt;&lt;/li&gt;'</li>\n",
       "\t<li>'&lt;/ul&gt;'</li>\n",
       "\t<li>'&lt;h2 id=\"documentation\"&gt;Documentation&lt;/h2&gt;'</li>\n",
       "\t<li>'&lt;ul&gt;'</li>\n",
       "\t<li>'&lt;li&gt;&lt;a href=\"http://cran.r-project.org/manuals.html\"&gt;Manuals&lt;/a&gt;&lt;/li&gt;'</li>\n",
       "\t<li>'&lt;li&gt;&lt;a href=\"http://cran.r-project.org/faqs.html\"&gt;FAQs&lt;/a&gt;&lt;/li&gt;'</li>\n",
       "\t<li>'&lt;li&gt;&lt;a href=\"http://journal.r-project.org\"&gt;The R Journal&lt;/a&gt;&lt;/li&gt;'</li>\n",
       "\t<li>'&lt;li&gt;&lt;a href=\"/doc/bib/R-books.html\"&gt;Books&lt;/a&gt;&lt;/li&gt;'</li>\n",
       "\t<li>'&lt;li&gt;&lt;a href=\"/certification.html\"&gt;Certification&lt;/a&gt;&lt;/li&gt;'</li>\n",
       "\t<li>'&lt;li&gt;&lt;a href=\"/other-docs.html\"&gt;Other&lt;/a&gt;&lt;/li&gt;'</li>\n",
       "\t<li>'&lt;/ul&gt;'</li>\n",
       "\t<li>'&lt;h2 id=\"links\"&gt;Links&lt;/h2&gt;'</li>\n",
       "\t<li>'&lt;ul&gt;'</li>\n",
       "\t<li>'&lt;li&gt;&lt;a href=\"http://www.bioconductor.org\"&gt;Bioconductor&lt;/a&gt;&lt;/li&gt;'</li>\n",
       "\t<li>'&lt;li&gt;&lt;a href=\"/other-projects.html\"&gt;Related Projects&lt;/a&gt;&lt;/li&gt;'</li>\n",
       "\t<li>'&lt;li&gt;&lt;a href=\"/gsoc.html\"&gt;GSoC&lt;/a&gt;&lt;/li&gt;'</li>\n",
       "\t<li>'&lt;/ul&gt;'</li>\n",
       "\t<li>'&lt;/div&gt;'</li>\n",
       "\t<li>'&lt;/div&gt;'</li>\n",
       "\t<li><span style=white-space:pre-wrap>'        &lt;/div&gt;'</span></li>\n",
       "\t<li><span style=white-space:pre-wrap>'        &lt;div class=\"col-xs-12 col-sm-7\"&gt;'</span></li>\n",
       "\t<li><span style=white-space:pre-wrap>'        &lt;h1&gt;The R Project for Statistical Computing&lt;/h1&gt;'</span></li>\n",
       "\t<li>'&lt;h2 id=\"getting-started\"&gt;Getting Started&lt;/h2&gt;'</li>\n",
       "\t<li>'&lt;p&gt;R is a free software environment for statistical computing and graphics. It compiles and runs on a wide variety of UNIX platforms, Windows and MacOS. To &lt;strong&gt;&lt;a href=\"http://cran.r-project.org/mirrors.html\"&gt;download R&lt;/a&gt;&lt;/strong&gt;, please choose your preferred &lt;a href=\"http://cran.r-project.org/mirrors.html\"&gt;CRAN mirror&lt;/a&gt;.&lt;/p&gt;'</li>\n",
       "\t<li>'&lt;p&gt;If you have questions about R like how to download and install the software, or what the license terms are, please read our &lt;a href=\"http://cran.R-project.org/faqs.html\"&gt;answers to frequently asked questions&lt;/a&gt; before you send an email.&lt;/p&gt;'</li>\n",
       "\t<li>'&lt;h2 id=\"news\"&gt;News&lt;/h2&gt;'</li>\n",
       "\t<li>'&lt;ul&gt;'</li>\n",
       "\t<li>'&lt;li&gt;&lt;p&gt;The R Foundation Conference Committee has released a [call for proposals] (https://www.r-project.org/useR-2020_call.html) to host useR! 2020 in North America.&lt;/p&gt;&lt;/li&gt;'</li>\n",
       "\t<li>'&lt;li&gt;&lt;p&gt;You can now support the R Foundation with a renewable subscription as a &lt;a href=\"https://www.r-project.org/foundation/donations.html\"&gt;supporting member&lt;/a&gt;&lt;/p&gt;&lt;/li&gt;'</li>\n",
       "\t<li>'&lt;li&gt;&lt;p&gt;&lt;a href=\"https://cran.r-project.org/src/base/R-3\"&gt;&lt;strong&gt;R version 3.5.1 (Feather Spray)&lt;/strong&gt;&lt;/a&gt; has been released on 2018-07-02.&lt;/p&gt;&lt;/li&gt;'</li>\n",
       "\t<li>'&lt;li&gt;&lt;p&gt;The R Foundation has been awarded the Personality/Organization of the year 2018 award by the professional association of German market and social researchers.&lt;/p&gt;&lt;/li&gt;'</li>\n",
       "\t<li>'&lt;/ul&gt;'</li>\n",
       "\t<li>'&lt;h2 id=\"news-via-twitter\"&gt;News via Twitter&lt;/h2&gt;'</li>\n",
       "\t<li>'&lt;a class=\"twitter-timeline\"'</li>\n",
       "\t<li>' href=\"https://twitter.com/_R_Foundation?ref_src=twsrc%5Etfw\"'</li>\n",
       "\t<li>' data-width=\"400\"'</li>\n",
       "\t<li>' data-show-replies=\"false\"'</li>\n",
       "\t<li>' data-chrome=\"noheader,nofooter,noborders\"'</li>\n",
       "\t<li>' data-dnt=\"true\"'</li>\n",
       "\t<li>' data-tweet-limit=\"3\"&gt;News from the R Foundation&lt;/a&gt;'</li>\n",
       "\t<li>'&lt;script async'</li>\n",
       "\t<li>' src=\"https://platform.twitter.com/widgets.js\"'</li>\n",
       "\t<li>' charset=\"utf-8\"&gt;&lt;/script&gt;'</li>\n",
       "\t<li>'&lt;!--- (Boilerplate for release run-in)'</li>\n",
       "\t<li><span style=white-space:pre-wrap>'-   [**R version 3.1.3 (Smooth Sidewalk) prerelease versions**](http://cran.r-project.org/src/base-prerelease) will appear starting February 28. Final release is scheduled for 2015-03-09.'</span></li>\n",
       "\t<li>'--&gt;'</li>\n",
       "\t<li><span style=white-space:pre-wrap>'        &lt;/div&gt;'</span></li>\n",
       "\t<li><span style=white-space:pre-wrap>'      &lt;/div&gt;'</span></li>\n",
       "\t<li><span style=white-space:pre-wrap>'      &lt;div class=\"raw footer\"&gt;'</span></li>\n",
       "\t<li><span style=white-space:pre-wrap>'        &amp;copy; The R Foundation. For queries about this web site, please contact'</span></li>\n",
       "\t<li>'\\t&lt;script type=\\'text/javascript\\'&gt;'</li>\n",
       "\t<li>'&lt;!--'</li>\n",
       "\t<li>'var s=\"=b!isfg&gt;#nbjmup;xfcnbtufsAs.qspkfdu/psh#?uif!xfcnbtufs=0b?\";'</li>\n",
       "\t<li>'m=\"\"; for (i=0; i&lt;s.length; i++) {if(s.charCodeAt(i) == 28){m+= \\'&amp;\\';} else if (s.charCodeAt(i) == 23) {m+= \\'!\\';} else {m+=String.fromCharCode(s.charCodeAt(i)-1);}}document.write(m);//--&gt;'</li>\n",
       "\t<li>'\\t&lt;/script&gt;;'</li>\n",
       "\t<li><span style=white-space:pre-wrap>'        for queries about R itself, please consult the '</span></li>\n",
       "\t<li><span style=white-space:pre-wrap>'        &lt;a href=\"help.html\"&gt;Getting Help&lt;/a&gt; section.'</span></li>\n",
       "\t<li><span style=white-space:pre-wrap>'      &lt;/div&gt;'</span></li>\n",
       "\t<li><span style=white-space:pre-wrap>'    &lt;/div&gt;'</span></li>\n",
       "\t<li><span style=white-space:pre-wrap>'    &lt;!-- jQuery (necessary for Bootstrap\\'s JavaScript plugins) --&gt;'</span></li>\n",
       "\t<li><span style=white-space:pre-wrap>'    &lt;script src=\"https://ajax.googleapis.com/ajax/libs/jquery/1.11.1/jquery.min.js\"&gt;&lt;/script&gt;'</span></li>\n",
       "\t<li><span style=white-space:pre-wrap>'    &lt;!-- Include all compiled plugins (below), or include individual files as needed --&gt;'</span></li>\n",
       "\t<li><span style=white-space:pre-wrap>'    &lt;script src=\"/js/bootstrap.min.js\"&gt;&lt;/script&gt;'</span></li>\n",
       "\t<li><span style=white-space:pre-wrap>'  &lt;/body&gt;'</span></li>\n",
       "\t<li>'&lt;/html&gt;'</li>\n",
       "</ol>\n",
       "</dd>\n",
       "\t<dt>$asdf</dt>\n",
       "\t\t<dd>NULL</dd>\n",
       "</dl>\n"
      ],
      "text/latex": [
       "\\begin{description}\n",
       "\\item[\\$example] \\begin{enumerate*}\n",
       "\\item '<!doctype html>'\n",
       "\\item '<html>'\n",
       "\\item '<head>'\n",
       "\\item '    <title>Example Domain</title>'\n",
       "\\item ''\n",
       "\\item '    <meta charset=\"utf-8\" />'\n",
       "\\item '    <meta http-equiv=\"Content-type\" content=\"text/html; charset=utf-8\" />'\n",
       "\\item '    <meta name=\"viewport\" content=\"width=device-width, initial-scale=1\" />'\n",
       "\\item '    <style type=\"text/css\">'\n",
       "\\item '    body \\{'\n",
       "\\item '        background-color: \\#f0f0f2;'\n",
       "\\item '        margin: 0;'\n",
       "\\item '        padding: 0;'\n",
       "\\item '        font-family: \"Open Sans\", \"Helvetica Neue\", Helvetica, Arial, sans-serif;'\n",
       "\\item '        '\n",
       "\\item '    \\}'\n",
       "\\item '    div \\{'\n",
       "\\item '        width: 600px;'\n",
       "\\item '        margin: 5em auto;'\n",
       "\\item '        padding: 50px;'\n",
       "\\item '        background-color: \\#fff;'\n",
       "\\item '        border-radius: 1em;'\n",
       "\\item '    \\}'\n",
       "\\item '    a:link, a:visited \\{'\n",
       "\\item '        color: \\#38488f;'\n",
       "\\item '        text-decoration: none;'\n",
       "\\item '    \\}'\n",
       "\\item '    @media (max-width: 700px) \\{'\n",
       "\\item '        body \\{'\n",
       "\\item '            background-color: \\#fff;'\n",
       "\\item '        \\}'\n",
       "\\item '        div \\{'\n",
       "\\item '            width: auto;'\n",
       "\\item '            margin: 0 auto;'\n",
       "\\item '            border-radius: 0;'\n",
       "\\item '            padding: 1em;'\n",
       "\\item '        \\}'\n",
       "\\item '    \\}'\n",
       "\\item '    </style>    '\n",
       "\\item '</head>'\n",
       "\\item ''\n",
       "\\item '<body>'\n",
       "\\item '<div>'\n",
       "\\item '    <h1>Example Domain</h1>'\n",
       "\\item '    <p>This domain is established to be used for illustrative examples in documents. You may use this'\n",
       "\\item '    domain in examples without prior coordination or asking for permission.</p>'\n",
       "\\item '    <p><a href=\"http://www.iana.org/domains/example\">More information...</a></p>'\n",
       "\\item '</div>'\n",
       "\\item '</body>'\n",
       "\\item '</html>'\n",
       "\\end{enumerate*}\n",
       "\n",
       "\\item[\\$rproj] \\begin{enumerate*}\n",
       "\\item '<!DOCTYPE html>'\n",
       "\\item '<html lang=\"en\">'\n",
       "\\item '  <head>'\n",
       "\\item '    <meta charset=\"utf-8\">'\n",
       "\\item '    <meta http-equiv=\"X-UA-Compatible\" content=\"IE=edge\">'\n",
       "\\item '    <meta name=\"viewport\" content=\"width=device-width, initial-scale=1\">'\n",
       "\\item '    <title>R: The R Project for Statistical Computing</title>'\n",
       "\\item ''\n",
       "\\item '    <link rel=\"icon\" type=\"image/png\" href=\"/favicon-32x32.png\" sizes=\"32x32\" />'\n",
       "\\item '    <link rel=\"icon\" type=\"image/png\" href=\"/favicon-16x16.png\" sizes=\"16x16\" />'\n",
       "\\item ''\n",
       "\\item '    <!-- Bootstrap -->'\n",
       "\\item '    <link href=\"/css/bootstrap.min.css\" rel=\"stylesheet\">'\n",
       "\\item '    <link href=\"/css/R.css\" rel=\"stylesheet\">'\n",
       "\\item ''\n",
       "\\item '    <!-- HTML5 shim and Respond.js for IE8 support of HTML5 elements and media queries -->'\n",
       "\\item '    <!-- WARNING: Respond.js doesn\\textbackslash{}'t work if you view the page via file:// -->'\n",
       "\\item '    <!--{[}if lt IE 9{]}>'\n",
       "\\item '      <script src=\"https://oss.maxcdn.com/html5shiv/3.7.2/html5shiv.min.js\"></script>'\n",
       "\\item '      <script src=\"https://oss.maxcdn.com/respond/1.4.2/respond.min.js\"></script>'\n",
       "\\item '    <!{[}endif{]}-->'\n",
       "\\item '  </head>'\n",
       "\\item '  <body>'\n",
       "\\item '    <div class=\"container page\">'\n",
       "\\item '      <div class=\"row\">'\n",
       "\\item '        <div class=\"col-xs-12 col-sm-offset-1 col-sm-2 sidebar\" role=\"navigation\">'\n",
       "\\item '<div class=\"row\">'\n",
       "\\item '<div class=\"col-xs-6 col-sm-12\">'\n",
       "\\item '<p><a href=\"/\"><img src=\"/Rlogo.png\" width=\"100\" height=\"78\" alt = \"R\" /></a></p>'\n",
       "\\item '<p><small><a href=\"/\">{[}Home{]}</a></small></p>'\n",
       "\\item '<h2 id=\"download\">Download</h2>'\n",
       "\\item '<p><a href=\"http://cran.r-project.org/mirrors.html\">CRAN</a></p>'\n",
       "\\item '<h2 id=\"r-project\">R Project</h2>'\n",
       "\\item '<ul>'\n",
       "\\item '<li><a href=\"/about.html\">About R</a></li>'\n",
       "\\item '<li><a href=\"/logo/\">Logo</a></li>'\n",
       "\\item '<li><a href=\"/contributors.html\">Contributors</a></li>'\n",
       "\\item '<li><a href=\"/news.html\">Whatâ\\textbackslash{}200\\textbackslash{}231s New?</a></li>'\n",
       "\\item '<li><a href=\"/bugs.html\">Reporting Bugs</a></li>'\n",
       "\\item '<li><a href=\"/conferences.html\">Conferences</a></li>'\n",
       "\\item '<li><a href=\"/search.html\">Search</a></li>'\n",
       "\\item '<li><a href=\"/mail.html\">Get Involved: Mailing Lists</a></li>'\n",
       "\\item '<li><a href=\"http://developer.R-project.org\">Developer Pages</a></li>'\n",
       "\\item '<li><a href=\"https://developer.r-project.org/Blog/public/\">R Blog</a></li>'\n",
       "\\item '</ul>'\n",
       "\\item '</div>'\n",
       "\\item '<div class=\"col-xs-6 col-sm-12\">'\n",
       "\\item '<h2 id=\"r-foundation\">R Foundation</h2>'\n",
       "\\item '<ul>'\n",
       "\\item '<li><a href=\"/foundation/\">Foundation</a></li>'\n",
       "\\item '<li><a href=\"/foundation/board.html\">Board</a></li>'\n",
       "\\item '<li><a href=\"/foundation/members.html\">Members</a></li>'\n",
       "\\item '<li><a href=\"/foundation/donors.html\">Donors</a></li>'\n",
       "\\item '<li><a href=\"/foundation/donations.html\">Donate</a></li>'\n",
       "\\item '</ul>'\n",
       "\\item '<h2 id=\"help-with-r\">Help With R</h2>'\n",
       "\\item '<ul>'\n",
       "\\item '<li><a href=\"/help.html\">Getting Help</a></li>'\n",
       "\\item '</ul>'\n",
       "\\item '<h2 id=\"documentation\">Documentation</h2>'\n",
       "\\item '<ul>'\n",
       "\\item '<li><a href=\"http://cran.r-project.org/manuals.html\">Manuals</a></li>'\n",
       "\\item '<li><a href=\"http://cran.r-project.org/faqs.html\">FAQs</a></li>'\n",
       "\\item '<li><a href=\"http://journal.r-project.org\">The R Journal</a></li>'\n",
       "\\item '<li><a href=\"/doc/bib/R-books.html\">Books</a></li>'\n",
       "\\item '<li><a href=\"/certification.html\">Certification</a></li>'\n",
       "\\item '<li><a href=\"/other-docs.html\">Other</a></li>'\n",
       "\\item '</ul>'\n",
       "\\item '<h2 id=\"links\">Links</h2>'\n",
       "\\item '<ul>'\n",
       "\\item '<li><a href=\"http://www.bioconductor.org\">Bioconductor</a></li>'\n",
       "\\item '<li><a href=\"/other-projects.html\">Related Projects</a></li>'\n",
       "\\item '<li><a href=\"/gsoc.html\">GSoC</a></li>'\n",
       "\\item '</ul>'\n",
       "\\item '</div>'\n",
       "\\item '</div>'\n",
       "\\item '        </div>'\n",
       "\\item '        <div class=\"col-xs-12 col-sm-7\">'\n",
       "\\item '        <h1>The R Project for Statistical Computing</h1>'\n",
       "\\item '<h2 id=\"getting-started\">Getting Started</h2>'\n",
       "\\item '<p>R is a free software environment for statistical computing and graphics. It compiles and runs on a wide variety of UNIX platforms, Windows and MacOS. To <strong><a href=\"http://cran.r-project.org/mirrors.html\">download R</a></strong>, please choose your preferred <a href=\"http://cran.r-project.org/mirrors.html\">CRAN mirror</a>.</p>'\n",
       "\\item '<p>If you have questions about R like how to download and install the software, or what the license terms are, please read our <a href=\"http://cran.R-project.org/faqs.html\">answers to frequently asked questions</a> before you send an email.</p>'\n",
       "\\item '<h2 id=\"news\">News</h2>'\n",
       "\\item '<ul>'\n",
       "\\item '<li><p>The R Foundation Conference Committee has released a {[}call for proposals{]} (https://www.r-project.org/useR-2020\\_call.html) to host useR! 2020 in North America.</p></li>'\n",
       "\\item '<li><p>You can now support the R Foundation with a renewable subscription as a <a href=\"https://www.r-project.org/foundation/donations.html\">supporting member</a></p></li>'\n",
       "\\item '<li><p><a href=\"https://cran.r-project.org/src/base/R-3\"><strong>R version 3.5.1 (Feather Spray)</strong></a> has been released on 2018-07-02.</p></li>'\n",
       "\\item '<li><p>The R Foundation has been awarded the Personality/Organization of the year 2018 award by the professional association of German market and social researchers.</p></li>'\n",
       "\\item '</ul>'\n",
       "\\item '<h2 id=\"news-via-twitter\">News via Twitter</h2>'\n",
       "\\item '<a class=\"twitter-timeline\"'\n",
       "\\item ' href=\"https://twitter.com/\\_R\\_Foundation?ref\\_src=twsrc\\%5Etfw\"'\n",
       "\\item ' data-width=\"400\"'\n",
       "\\item ' data-show-replies=\"false\"'\n",
       "\\item ' data-chrome=\"noheader,nofooter,noborders\"'\n",
       "\\item ' data-dnt=\"true\"'\n",
       "\\item ' data-tweet-limit=\"3\">News from the R Foundation</a>'\n",
       "\\item '<script async'\n",
       "\\item ' src=\"https://platform.twitter.com/widgets.js\"'\n",
       "\\item ' charset=\"utf-8\"></script>'\n",
       "\\item '<!--- (Boilerplate for release run-in)'\n",
       "\\item '-   {[}**R version 3.1.3 (Smooth Sidewalk) prerelease versions**{]}(http://cran.r-project.org/src/base-prerelease) will appear starting February 28. Final release is scheduled for 2015-03-09.'\n",
       "\\item '-->'\n",
       "\\item '        </div>'\n",
       "\\item '      </div>'\n",
       "\\item '      <div class=\"raw footer\">'\n",
       "\\item '        \\&copy; The R Foundation. For queries about this web site, please contact'\n",
       "\\item '\\textbackslash{}t<script type=\\textbackslash{}'text/javascript\\textbackslash{}'>'\n",
       "\\item '<!--'\n",
       "\\item 'var s=\"=b!isfg>\\#nbjmup;xfcnbtufsAs.qspkfdu/psh\\#?uif!xfcnbtufs=0b?\";'\n",
       "\\item 'm=\"\"; for (i=0; i<s.length; i++) \\{if(s.charCodeAt(i) == 28)\\{m+= \\textbackslash{}'\\&\\textbackslash{}';\\} else if (s.charCodeAt(i) == 23) \\{m+= \\textbackslash{}'!\\textbackslash{}';\\} else \\{m+=String.fromCharCode(s.charCodeAt(i)-1);\\}\\}document.write(m);//-->'\n",
       "\\item '\\textbackslash{}t</script>;'\n",
       "\\item '        for queries about R itself, please consult the '\n",
       "\\item '        <a href=\"help.html\">Getting Help</a> section.'\n",
       "\\item '      </div>'\n",
       "\\item '    </div>'\n",
       "\\item '    <!-- jQuery (necessary for Bootstrap\\textbackslash{}'s JavaScript plugins) -->'\n",
       "\\item '    <script src=\"https://ajax.googleapis.com/ajax/libs/jquery/1.11.1/jquery.min.js\"></script>'\n",
       "\\item '    <!-- Include all compiled plugins (below), or include individual files as needed -->'\n",
       "\\item '    <script src=\"/js/bootstrap.min.js\"></script>'\n",
       "\\item '  </body>'\n",
       "\\item '</html>'\n",
       "\\end{enumerate*}\n",
       "\n",
       "\\item[\\$asdf] NULL\n",
       "\\end{description}\n"
      ],
      "text/markdown": [
       "$example\n",
       ":   1. '&lt;!doctype html&gt;'\n",
       "2. '&lt;html&gt;'\n",
       "3. '&lt;head&gt;'\n",
       "4. <span style=white-space:pre-wrap>'    &lt;title&gt;Example Domain&lt;/title&gt;'</span>\n",
       "5. ''\n",
       "6. <span style=white-space:pre-wrap>'    &lt;meta charset=\"utf-8\" /&gt;'</span>\n",
       "7. <span style=white-space:pre-wrap>'    &lt;meta http-equiv=\"Content-type\" content=\"text/html; charset=utf-8\" /&gt;'</span>\n",
       "8. <span style=white-space:pre-wrap>'    &lt;meta name=\"viewport\" content=\"width=device-width, initial-scale=1\" /&gt;'</span>\n",
       "9. <span style=white-space:pre-wrap>'    &lt;style type=\"text/css\"&gt;'</span>\n",
       "10. <span style=white-space:pre-wrap>'    body {'</span>\n",
       "11. <span style=white-space:pre-wrap>'        background-color: #f0f0f2;'</span>\n",
       "12. <span style=white-space:pre-wrap>'        margin: 0;'</span>\n",
       "13. <span style=white-space:pre-wrap>'        padding: 0;'</span>\n",
       "14. <span style=white-space:pre-wrap>'        font-family: \"Open Sans\", \"Helvetica Neue\", Helvetica, Arial, sans-serif;'</span>\n",
       "15. <span style=white-space:pre-wrap>'        '</span>\n",
       "16. <span style=white-space:pre-wrap>'    }'</span>\n",
       "17. <span style=white-space:pre-wrap>'    div {'</span>\n",
       "18. <span style=white-space:pre-wrap>'        width: 600px;'</span>\n",
       "19. <span style=white-space:pre-wrap>'        margin: 5em auto;'</span>\n",
       "20. <span style=white-space:pre-wrap>'        padding: 50px;'</span>\n",
       "21. <span style=white-space:pre-wrap>'        background-color: #fff;'</span>\n",
       "22. <span style=white-space:pre-wrap>'        border-radius: 1em;'</span>\n",
       "23. <span style=white-space:pre-wrap>'    }'</span>\n",
       "24. <span style=white-space:pre-wrap>'    a:link, a:visited {'</span>\n",
       "25. <span style=white-space:pre-wrap>'        color: #38488f;'</span>\n",
       "26. <span style=white-space:pre-wrap>'        text-decoration: none;'</span>\n",
       "27. <span style=white-space:pre-wrap>'    }'</span>\n",
       "28. <span style=white-space:pre-wrap>'    @media (max-width: 700px) {'</span>\n",
       "29. <span style=white-space:pre-wrap>'        body {'</span>\n",
       "30. <span style=white-space:pre-wrap>'            background-color: #fff;'</span>\n",
       "31. <span style=white-space:pre-wrap>'        }'</span>\n",
       "32. <span style=white-space:pre-wrap>'        div {'</span>\n",
       "33. <span style=white-space:pre-wrap>'            width: auto;'</span>\n",
       "34. <span style=white-space:pre-wrap>'            margin: 0 auto;'</span>\n",
       "35. <span style=white-space:pre-wrap>'            border-radius: 0;'</span>\n",
       "36. <span style=white-space:pre-wrap>'            padding: 1em;'</span>\n",
       "37. <span style=white-space:pre-wrap>'        }'</span>\n",
       "38. <span style=white-space:pre-wrap>'    }'</span>\n",
       "39. <span style=white-space:pre-wrap>'    &lt;/style&gt;    '</span>\n",
       "40. '&lt;/head&gt;'\n",
       "41. ''\n",
       "42. '&lt;body&gt;'\n",
       "43. '&lt;div&gt;'\n",
       "44. <span style=white-space:pre-wrap>'    &lt;h1&gt;Example Domain&lt;/h1&gt;'</span>\n",
       "45. <span style=white-space:pre-wrap>'    &lt;p&gt;This domain is established to be used for illustrative examples in documents. You may use this'</span>\n",
       "46. <span style=white-space:pre-wrap>'    domain in examples without prior coordination or asking for permission.&lt;/p&gt;'</span>\n",
       "47. <span style=white-space:pre-wrap>'    &lt;p&gt;&lt;a href=\"http://www.iana.org/domains/example\"&gt;More information...&lt;/a&gt;&lt;/p&gt;'</span>\n",
       "48. '&lt;/div&gt;'\n",
       "49. '&lt;/body&gt;'\n",
       "50. '&lt;/html&gt;'\n",
       "\n",
       "\n",
       "\n",
       "$rproj\n",
       ":   1. '&lt;!DOCTYPE html&gt;'\n",
       "2. '&lt;html lang=\"en\"&gt;'\n",
       "3. <span style=white-space:pre-wrap>'  &lt;head&gt;'</span>\n",
       "4. <span style=white-space:pre-wrap>'    &lt;meta charset=\"utf-8\"&gt;'</span>\n",
       "5. <span style=white-space:pre-wrap>'    &lt;meta http-equiv=\"X-UA-Compatible\" content=\"IE=edge\"&gt;'</span>\n",
       "6. <span style=white-space:pre-wrap>'    &lt;meta name=\"viewport\" content=\"width=device-width, initial-scale=1\"&gt;'</span>\n",
       "7. <span style=white-space:pre-wrap>'    &lt;title&gt;R: The R Project for Statistical Computing&lt;/title&gt;'</span>\n",
       "8. ''\n",
       "9. <span style=white-space:pre-wrap>'    &lt;link rel=\"icon\" type=\"image/png\" href=\"/favicon-32x32.png\" sizes=\"32x32\" /&gt;'</span>\n",
       "10. <span style=white-space:pre-wrap>'    &lt;link rel=\"icon\" type=\"image/png\" href=\"/favicon-16x16.png\" sizes=\"16x16\" /&gt;'</span>\n",
       "11. ''\n",
       "12. <span style=white-space:pre-wrap>'    &lt;!-- Bootstrap --&gt;'</span>\n",
       "13. <span style=white-space:pre-wrap>'    &lt;link href=\"/css/bootstrap.min.css\" rel=\"stylesheet\"&gt;'</span>\n",
       "14. <span style=white-space:pre-wrap>'    &lt;link href=\"/css/R.css\" rel=\"stylesheet\"&gt;'</span>\n",
       "15. ''\n",
       "16. <span style=white-space:pre-wrap>'    &lt;!-- HTML5 shim and Respond.js for IE8 support of HTML5 elements and media queries --&gt;'</span>\n",
       "17. <span style=white-space:pre-wrap>'    &lt;!-- WARNING: Respond.js doesn\\'t work if you view the page via file:// --&gt;'</span>\n",
       "18. <span style=white-space:pre-wrap>'    &lt;!--[if lt IE 9]&gt;'</span>\n",
       "19. <span style=white-space:pre-wrap>'      &lt;script src=\"https://oss.maxcdn.com/html5shiv/3.7.2/html5shiv.min.js\"&gt;&lt;/script&gt;'</span>\n",
       "20. <span style=white-space:pre-wrap>'      &lt;script src=\"https://oss.maxcdn.com/respond/1.4.2/respond.min.js\"&gt;&lt;/script&gt;'</span>\n",
       "21. <span style=white-space:pre-wrap>'    &lt;![endif]--&gt;'</span>\n",
       "22. <span style=white-space:pre-wrap>'  &lt;/head&gt;'</span>\n",
       "23. <span style=white-space:pre-wrap>'  &lt;body&gt;'</span>\n",
       "24. <span style=white-space:pre-wrap>'    &lt;div class=\"container page\"&gt;'</span>\n",
       "25. <span style=white-space:pre-wrap>'      &lt;div class=\"row\"&gt;'</span>\n",
       "26. <span style=white-space:pre-wrap>'        &lt;div class=\"col-xs-12 col-sm-offset-1 col-sm-2 sidebar\" role=\"navigation\"&gt;'</span>\n",
       "27. '&lt;div class=\"row\"&gt;'\n",
       "28. '&lt;div class=\"col-xs-6 col-sm-12\"&gt;'\n",
       "29. '&lt;p&gt;&lt;a href=\"/\"&gt;&lt;img src=\"/Rlogo.png\" width=\"100\" height=\"78\" alt = \"R\" /&gt;&lt;/a&gt;&lt;/p&gt;'\n",
       "30. '&lt;p&gt;&lt;small&gt;&lt;a href=\"/\"&gt;[Home]&lt;/a&gt;&lt;/small&gt;&lt;/p&gt;'\n",
       "31. '&lt;h2 id=\"download\"&gt;Download&lt;/h2&gt;'\n",
       "32. '&lt;p&gt;&lt;a href=\"http://cran.r-project.org/mirrors.html\"&gt;CRAN&lt;/a&gt;&lt;/p&gt;'\n",
       "33. '&lt;h2 id=\"r-project\"&gt;R Project&lt;/h2&gt;'\n",
       "34. '&lt;ul&gt;'\n",
       "35. '&lt;li&gt;&lt;a href=\"/about.html\"&gt;About R&lt;/a&gt;&lt;/li&gt;'\n",
       "36. '&lt;li&gt;&lt;a href=\"/logo/\"&gt;Logo&lt;/a&gt;&lt;/li&gt;'\n",
       "37. '&lt;li&gt;&lt;a href=\"/contributors.html\"&gt;Contributors&lt;/a&gt;&lt;/li&gt;'\n",
       "38. '&lt;li&gt;&lt;a href=\"/news.html\"&gt;Whatâ\\200\\231s New?&lt;/a&gt;&lt;/li&gt;'\n",
       "39. '&lt;li&gt;&lt;a href=\"/bugs.html\"&gt;Reporting Bugs&lt;/a&gt;&lt;/li&gt;'\n",
       "40. '&lt;li&gt;&lt;a href=\"/conferences.html\"&gt;Conferences&lt;/a&gt;&lt;/li&gt;'\n",
       "41. '&lt;li&gt;&lt;a href=\"/search.html\"&gt;Search&lt;/a&gt;&lt;/li&gt;'\n",
       "42. '&lt;li&gt;&lt;a href=\"/mail.html\"&gt;Get Involved: Mailing Lists&lt;/a&gt;&lt;/li&gt;'\n",
       "43. '&lt;li&gt;&lt;a href=\"http://developer.R-project.org\"&gt;Developer Pages&lt;/a&gt;&lt;/li&gt;'\n",
       "44. '&lt;li&gt;&lt;a href=\"https://developer.r-project.org/Blog/public/\"&gt;R Blog&lt;/a&gt;&lt;/li&gt;'\n",
       "45. '&lt;/ul&gt;'\n",
       "46. '&lt;/div&gt;'\n",
       "47. '&lt;div class=\"col-xs-6 col-sm-12\"&gt;'\n",
       "48. '&lt;h2 id=\"r-foundation\"&gt;R Foundation&lt;/h2&gt;'\n",
       "49. '&lt;ul&gt;'\n",
       "50. '&lt;li&gt;&lt;a href=\"/foundation/\"&gt;Foundation&lt;/a&gt;&lt;/li&gt;'\n",
       "51. '&lt;li&gt;&lt;a href=\"/foundation/board.html\"&gt;Board&lt;/a&gt;&lt;/li&gt;'\n",
       "52. '&lt;li&gt;&lt;a href=\"/foundation/members.html\"&gt;Members&lt;/a&gt;&lt;/li&gt;'\n",
       "53. '&lt;li&gt;&lt;a href=\"/foundation/donors.html\"&gt;Donors&lt;/a&gt;&lt;/li&gt;'\n",
       "54. '&lt;li&gt;&lt;a href=\"/foundation/donations.html\"&gt;Donate&lt;/a&gt;&lt;/li&gt;'\n",
       "55. '&lt;/ul&gt;'\n",
       "56. '&lt;h2 id=\"help-with-r\"&gt;Help With R&lt;/h2&gt;'\n",
       "57. '&lt;ul&gt;'\n",
       "58. '&lt;li&gt;&lt;a href=\"/help.html\"&gt;Getting Help&lt;/a&gt;&lt;/li&gt;'\n",
       "59. '&lt;/ul&gt;'\n",
       "60. '&lt;h2 id=\"documentation\"&gt;Documentation&lt;/h2&gt;'\n",
       "61. '&lt;ul&gt;'\n",
       "62. '&lt;li&gt;&lt;a href=\"http://cran.r-project.org/manuals.html\"&gt;Manuals&lt;/a&gt;&lt;/li&gt;'\n",
       "63. '&lt;li&gt;&lt;a href=\"http://cran.r-project.org/faqs.html\"&gt;FAQs&lt;/a&gt;&lt;/li&gt;'\n",
       "64. '&lt;li&gt;&lt;a href=\"http://journal.r-project.org\"&gt;The R Journal&lt;/a&gt;&lt;/li&gt;'\n",
       "65. '&lt;li&gt;&lt;a href=\"/doc/bib/R-books.html\"&gt;Books&lt;/a&gt;&lt;/li&gt;'\n",
       "66. '&lt;li&gt;&lt;a href=\"/certification.html\"&gt;Certification&lt;/a&gt;&lt;/li&gt;'\n",
       "67. '&lt;li&gt;&lt;a href=\"/other-docs.html\"&gt;Other&lt;/a&gt;&lt;/li&gt;'\n",
       "68. '&lt;/ul&gt;'\n",
       "69. '&lt;h2 id=\"links\"&gt;Links&lt;/h2&gt;'\n",
       "70. '&lt;ul&gt;'\n",
       "71. '&lt;li&gt;&lt;a href=\"http://www.bioconductor.org\"&gt;Bioconductor&lt;/a&gt;&lt;/li&gt;'\n",
       "72. '&lt;li&gt;&lt;a href=\"/other-projects.html\"&gt;Related Projects&lt;/a&gt;&lt;/li&gt;'\n",
       "73. '&lt;li&gt;&lt;a href=\"/gsoc.html\"&gt;GSoC&lt;/a&gt;&lt;/li&gt;'\n",
       "74. '&lt;/ul&gt;'\n",
       "75. '&lt;/div&gt;'\n",
       "76. '&lt;/div&gt;'\n",
       "77. <span style=white-space:pre-wrap>'        &lt;/div&gt;'</span>\n",
       "78. <span style=white-space:pre-wrap>'        &lt;div class=\"col-xs-12 col-sm-7\"&gt;'</span>\n",
       "79. <span style=white-space:pre-wrap>'        &lt;h1&gt;The R Project for Statistical Computing&lt;/h1&gt;'</span>\n",
       "80. '&lt;h2 id=\"getting-started\"&gt;Getting Started&lt;/h2&gt;'\n",
       "81. '&lt;p&gt;R is a free software environment for statistical computing and graphics. It compiles and runs on a wide variety of UNIX platforms, Windows and MacOS. To &lt;strong&gt;&lt;a href=\"http://cran.r-project.org/mirrors.html\"&gt;download R&lt;/a&gt;&lt;/strong&gt;, please choose your preferred &lt;a href=\"http://cran.r-project.org/mirrors.html\"&gt;CRAN mirror&lt;/a&gt;.&lt;/p&gt;'\n",
       "82. '&lt;p&gt;If you have questions about R like how to download and install the software, or what the license terms are, please read our &lt;a href=\"http://cran.R-project.org/faqs.html\"&gt;answers to frequently asked questions&lt;/a&gt; before you send an email.&lt;/p&gt;'\n",
       "83. '&lt;h2 id=\"news\"&gt;News&lt;/h2&gt;'\n",
       "84. '&lt;ul&gt;'\n",
       "85. '&lt;li&gt;&lt;p&gt;The R Foundation Conference Committee has released a [call for proposals] (https://www.r-project.org/useR-2020_call.html) to host useR! 2020 in North America.&lt;/p&gt;&lt;/li&gt;'\n",
       "86. '&lt;li&gt;&lt;p&gt;You can now support the R Foundation with a renewable subscription as a &lt;a href=\"https://www.r-project.org/foundation/donations.html\"&gt;supporting member&lt;/a&gt;&lt;/p&gt;&lt;/li&gt;'\n",
       "87. '&lt;li&gt;&lt;p&gt;&lt;a href=\"https://cran.r-project.org/src/base/R-3\"&gt;&lt;strong&gt;R version 3.5.1 (Feather Spray)&lt;/strong&gt;&lt;/a&gt; has been released on 2018-07-02.&lt;/p&gt;&lt;/li&gt;'\n",
       "88. '&lt;li&gt;&lt;p&gt;The R Foundation has been awarded the Personality/Organization of the year 2018 award by the professional association of German market and social researchers.&lt;/p&gt;&lt;/li&gt;'\n",
       "89. '&lt;/ul&gt;'\n",
       "90. '&lt;h2 id=\"news-via-twitter\"&gt;News via Twitter&lt;/h2&gt;'\n",
       "91. '&lt;a class=\"twitter-timeline\"'\n",
       "92. ' href=\"https://twitter.com/_R_Foundation?ref_src=twsrc%5Etfw\"'\n",
       "93. ' data-width=\"400\"'\n",
       "94. ' data-show-replies=\"false\"'\n",
       "95. ' data-chrome=\"noheader,nofooter,noborders\"'\n",
       "96. ' data-dnt=\"true\"'\n",
       "97. ' data-tweet-limit=\"3\"&gt;News from the R Foundation&lt;/a&gt;'\n",
       "98. '&lt;script async'\n",
       "99. ' src=\"https://platform.twitter.com/widgets.js\"'\n",
       "100. ' charset=\"utf-8\"&gt;&lt;/script&gt;'\n",
       "101. '&lt;!--- (Boilerplate for release run-in)'\n",
       "102. <span style=white-space:pre-wrap>'-   [**R version 3.1.3 (Smooth Sidewalk) prerelease versions**](http://cran.r-project.org/src/base-prerelease) will appear starting February 28. Final release is scheduled for 2015-03-09.'</span>\n",
       "103. '--&gt;'\n",
       "104. <span style=white-space:pre-wrap>'        &lt;/div&gt;'</span>\n",
       "105. <span style=white-space:pre-wrap>'      &lt;/div&gt;'</span>\n",
       "106. <span style=white-space:pre-wrap>'      &lt;div class=\"raw footer\"&gt;'</span>\n",
       "107. <span style=white-space:pre-wrap>'        &amp;copy; The R Foundation. For queries about this web site, please contact'</span>\n",
       "108. '\\t&lt;script type=\\'text/javascript\\'&gt;'\n",
       "109. '&lt;!--'\n",
       "110. 'var s=\"=b!isfg&gt;#nbjmup;xfcnbtufsAs.qspkfdu/psh#?uif!xfcnbtufs=0b?\";'\n",
       "111. 'm=\"\"; for (i=0; i&lt;s.length; i++) {if(s.charCodeAt(i) == 28){m+= \\'&amp;\\';} else if (s.charCodeAt(i) == 23) {m+= \\'!\\';} else {m+=String.fromCharCode(s.charCodeAt(i)-1);}}document.write(m);//--&gt;'\n",
       "112. '\\t&lt;/script&gt;;'\n",
       "113. <span style=white-space:pre-wrap>'        for queries about R itself, please consult the '</span>\n",
       "114. <span style=white-space:pre-wrap>'        &lt;a href=\"help.html\"&gt;Getting Help&lt;/a&gt; section.'</span>\n",
       "115. <span style=white-space:pre-wrap>'      &lt;/div&gt;'</span>\n",
       "116. <span style=white-space:pre-wrap>'    &lt;/div&gt;'</span>\n",
       "117. <span style=white-space:pre-wrap>'    &lt;!-- jQuery (necessary for Bootstrap\\'s JavaScript plugins) --&gt;'</span>\n",
       "118. <span style=white-space:pre-wrap>'    &lt;script src=\"https://ajax.googleapis.com/ajax/libs/jquery/1.11.1/jquery.min.js\"&gt;&lt;/script&gt;'</span>\n",
       "119. <span style=white-space:pre-wrap>'    &lt;!-- Include all compiled plugins (below), or include individual files as needed --&gt;'</span>\n",
       "120. <span style=white-space:pre-wrap>'    &lt;script src=\"/js/bootstrap.min.js\"&gt;&lt;/script&gt;'</span>\n",
       "121. <span style=white-space:pre-wrap>'  &lt;/body&gt;'</span>\n",
       "122. '&lt;/html&gt;'\n",
       "\n",
       "\n",
       "\n",
       "$asdf\n",
       ":   NULL\n",
       "\n",
       "\n"
      ],
      "text/plain": [
       "$example\n",
       " [1] \"<!doctype html>\"                                                                                      \n",
       " [2] \"<html>\"                                                                                               \n",
       " [3] \"<head>\"                                                                                               \n",
       " [4] \"    <title>Example Domain</title>\"                                                                    \n",
       " [5] \"\"                                                                                                     \n",
       " [6] \"    <meta charset=\\\"utf-8\\\" />\"                                                                       \n",
       " [7] \"    <meta http-equiv=\\\"Content-type\\\" content=\\\"text/html; charset=utf-8\\\" />\"                        \n",
       " [8] \"    <meta name=\\\"viewport\\\" content=\\\"width=device-width, initial-scale=1\\\" />\"                       \n",
       " [9] \"    <style type=\\\"text/css\\\">\"                                                                        \n",
       "[10] \"    body {\"                                                                                           \n",
       "[11] \"        background-color: #f0f0f2;\"                                                                   \n",
       "[12] \"        margin: 0;\"                                                                                   \n",
       "[13] \"        padding: 0;\"                                                                                  \n",
       "[14] \"        font-family: \\\"Open Sans\\\", \\\"Helvetica Neue\\\", Helvetica, Arial, sans-serif;\"                \n",
       "[15] \"        \"                                                                                             \n",
       "[16] \"    }\"                                                                                                \n",
       "[17] \"    div {\"                                                                                            \n",
       "[18] \"        width: 600px;\"                                                                                \n",
       "[19] \"        margin: 5em auto;\"                                                                            \n",
       "[20] \"        padding: 50px;\"                                                                               \n",
       "[21] \"        background-color: #fff;\"                                                                      \n",
       "[22] \"        border-radius: 1em;\"                                                                          \n",
       "[23] \"    }\"                                                                                                \n",
       "[24] \"    a:link, a:visited {\"                                                                              \n",
       "[25] \"        color: #38488f;\"                                                                              \n",
       "[26] \"        text-decoration: none;\"                                                                       \n",
       "[27] \"    }\"                                                                                                \n",
       "[28] \"    @media (max-width: 700px) {\"                                                                      \n",
       "[29] \"        body {\"                                                                                       \n",
       "[30] \"            background-color: #fff;\"                                                                  \n",
       "[31] \"        }\"                                                                                            \n",
       "[32] \"        div {\"                                                                                        \n",
       "[33] \"            width: auto;\"                                                                             \n",
       "[34] \"            margin: 0 auto;\"                                                                          \n",
       "[35] \"            border-radius: 0;\"                                                                        \n",
       "[36] \"            padding: 1em;\"                                                                            \n",
       "[37] \"        }\"                                                                                            \n",
       "[38] \"    }\"                                                                                                \n",
       "[39] \"    </style>    \"                                                                                     \n",
       "[40] \"</head>\"                                                                                              \n",
       "[41] \"\"                                                                                                     \n",
       "[42] \"<body>\"                                                                                               \n",
       "[43] \"<div>\"                                                                                                \n",
       "[44] \"    <h1>Example Domain</h1>\"                                                                          \n",
       "[45] \"    <p>This domain is established to be used for illustrative examples in documents. You may use this\"\n",
       "[46] \"    domain in examples without prior coordination or asking for permission.</p>\"                      \n",
       "[47] \"    <p><a href=\\\"http://www.iana.org/domains/example\\\">More information...</a></p>\"                   \n",
       "[48] \"</div>\"                                                                                               \n",
       "[49] \"</body>\"                                                                                              \n",
       "[50] \"</html>\"                                                                                              \n",
       "\n",
       "$rproj\n",
       "  [1] \"<!DOCTYPE html>\"                                                                                                                                                                                                                                                                                                                                     \n",
       "  [2] \"<html lang=\\\"en\\\">\"                                                                                                                                                                                                                                                                                                                                  \n",
       "  [3] \"  <head>\"                                                                                                                                                                                                                                                                                                                                            \n",
       "  [4] \"    <meta charset=\\\"utf-8\\\">\"                                                                                                                                                                                                                                                                                                                        \n",
       "  [5] \"    <meta http-equiv=\\\"X-UA-Compatible\\\" content=\\\"IE=edge\\\">\"                                                                                                                                                                                                                                                                                       \n",
       "  [6] \"    <meta name=\\\"viewport\\\" content=\\\"width=device-width, initial-scale=1\\\">\"                                                                                                                                                                                                                                                                        \n",
       "  [7] \"    <title>R: The R Project for Statistical Computing</title>\"                                                                                                                                                                                                                                                                                       \n",
       "  [8] \"\"                                                                                                                                                                                                                                                                                                                                                    \n",
       "  [9] \"    <link rel=\\\"icon\\\" type=\\\"image/png\\\" href=\\\"/favicon-32x32.png\\\" sizes=\\\"32x32\\\" />\"                                                                                                                                                                                                                                                            \n",
       " [10] \"    <link rel=\\\"icon\\\" type=\\\"image/png\\\" href=\\\"/favicon-16x16.png\\\" sizes=\\\"16x16\\\" />\"                                                                                                                                                                                                                                                            \n",
       " [11] \"\"                                                                                                                                                                                                                                                                                                                                                    \n",
       " [12] \"    <!-- Bootstrap -->\"                                                                                                                                                                                                                                                                                                                              \n",
       " [13] \"    <link href=\\\"/css/bootstrap.min.css\\\" rel=\\\"stylesheet\\\">\"                                                                                                                                                                                                                                                                                       \n",
       " [14] \"    <link href=\\\"/css/R.css\\\" rel=\\\"stylesheet\\\">\"                                                                                                                                                                                                                                                                                                   \n",
       " [15] \"\"                                                                                                                                                                                                                                                                                                                                                    \n",
       " [16] \"    <!-- HTML5 shim and Respond.js for IE8 support of HTML5 elements and media queries -->\"                                                                                                                                                                                                                                                          \n",
       " [17] \"    <!-- WARNING: Respond.js doesn't work if you view the page via file:// -->\"                                                                                                                                                                                                                                                                      \n",
       " [18] \"    <!--[if lt IE 9]>\"                                                                                                                                                                                                                                                                                                                               \n",
       " [19] \"      <script src=\\\"https://oss.maxcdn.com/html5shiv/3.7.2/html5shiv.min.js\\\"></script>\"                                                                                                                                                                                                                                                             \n",
       " [20] \"      <script src=\\\"https://oss.maxcdn.com/respond/1.4.2/respond.min.js\\\"></script>\"                                                                                                                                                                                                                                                                 \n",
       " [21] \"    <![endif]-->\"                                                                                                                                                                                                                                                                                                                                    \n",
       " [22] \"  </head>\"                                                                                                                                                                                                                                                                                                                                           \n",
       " [23] \"  <body>\"                                                                                                                                                                                                                                                                                                                                            \n",
       " [24] \"    <div class=\\\"container page\\\">\"                                                                                                                                                                                                                                                                                                                  \n",
       " [25] \"      <div class=\\\"row\\\">\"                                                                                                                                                                                                                                                                                                                           \n",
       " [26] \"        <div class=\\\"col-xs-12 col-sm-offset-1 col-sm-2 sidebar\\\" role=\\\"navigation\\\">\"                                                                                                                                                                                                                                                              \n",
       " [27] \"<div class=\\\"row\\\">\"                                                                                                                                                                                                                                                                                                                                 \n",
       " [28] \"<div class=\\\"col-xs-6 col-sm-12\\\">\"                                                                                                                                                                                                                                                                                                                  \n",
       " [29] \"<p><a href=\\\"/\\\"><img src=\\\"/Rlogo.png\\\" width=\\\"100\\\" height=\\\"78\\\" alt = \\\"R\\\" /></a></p>\"                                                                                                                                                                                                                                                         \n",
       " [30] \"<p><small><a href=\\\"/\\\">[Home]</a></small></p>\"                                                                                                                                                                                                                                                                                                      \n",
       " [31] \"<h2 id=\\\"download\\\">Download</h2>\"                                                                                                                                                                                                                                                                                                                   \n",
       " [32] \"<p><a href=\\\"http://cran.r-project.org/mirrors.html\\\">CRAN</a></p>\"                                                                                                                                                                                                                                                                                  \n",
       " [33] \"<h2 id=\\\"r-project\\\">R Project</h2>\"                                                                                                                                                                                                                                                                                                                 \n",
       " [34] \"<ul>\"                                                                                                                                                                                                                                                                                                                                                \n",
       " [35] \"<li><a href=\\\"/about.html\\\">About R</a></li>\"                                                                                                                                                                                                                                                                                                        \n",
       " [36] \"<li><a href=\\\"/logo/\\\">Logo</a></li>\"                                                                                                                                                                                                                                                                                                                \n",
       " [37] \"<li><a href=\\\"/contributors.html\\\">Contributors</a></li>\"                                                                                                                                                                                                                                                                                            \n",
       " [38] \"<li><a href=\\\"/news.html\\\">Whatâ\\200\\231s New?</a></li>\"                                                                                                                                                                                                                                                                                                   \n",
       " [39] \"<li><a href=\\\"/bugs.html\\\">Reporting Bugs</a></li>\"                                                                                                                                                                                                                                                                                                  \n",
       " [40] \"<li><a href=\\\"/conferences.html\\\">Conferences</a></li>\"                                                                                                                                                                                                                                                                                              \n",
       " [41] \"<li><a href=\\\"/search.html\\\">Search</a></li>\"                                                                                                                                                                                                                                                                                                        \n",
       " [42] \"<li><a href=\\\"/mail.html\\\">Get Involved: Mailing Lists</a></li>\"                                                                                                                                                                                                                                                                                     \n",
       " [43] \"<li><a href=\\\"http://developer.R-project.org\\\">Developer Pages</a></li>\"                                                                                                                                                                                                                                                                             \n",
       " [44] \"<li><a href=\\\"https://developer.r-project.org/Blog/public/\\\">R Blog</a></li>\"                                                                                                                                                                                                                                                                        \n",
       " [45] \"</ul>\"                                                                                                                                                                                                                                                                                                                                               \n",
       " [46] \"</div>\"                                                                                                                                                                                                                                                                                                                                              \n",
       " [47] \"<div class=\\\"col-xs-6 col-sm-12\\\">\"                                                                                                                                                                                                                                                                                                                  \n",
       " [48] \"<h2 id=\\\"r-foundation\\\">R Foundation</h2>\"                                                                                                                                                                                                                                                                                                           \n",
       " [49] \"<ul>\"                                                                                                                                                                                                                                                                                                                                                \n",
       " [50] \"<li><a href=\\\"/foundation/\\\">Foundation</a></li>\"                                                                                                                                                                                                                                                                                                    \n",
       " [51] \"<li><a href=\\\"/foundation/board.html\\\">Board</a></li>\"                                                                                                                                                                                                                                                                                               \n",
       " [52] \"<li><a href=\\\"/foundation/members.html\\\">Members</a></li>\"                                                                                                                                                                                                                                                                                           \n",
       " [53] \"<li><a href=\\\"/foundation/donors.html\\\">Donors</a></li>\"                                                                                                                                                                                                                                                                                             \n",
       " [54] \"<li><a href=\\\"/foundation/donations.html\\\">Donate</a></li>\"                                                                                                                                                                                                                                                                                          \n",
       " [55] \"</ul>\"                                                                                                                                                                                                                                                                                                                                               \n",
       " [56] \"<h2 id=\\\"help-with-r\\\">Help With R</h2>\"                                                                                                                                                                                                                                                                                                             \n",
       " [57] \"<ul>\"                                                                                                                                                                                                                                                                                                                                                \n",
       " [58] \"<li><a href=\\\"/help.html\\\">Getting Help</a></li>\"                                                                                                                                                                                                                                                                                                    \n",
       " [59] \"</ul>\"                                                                                                                                                                                                                                                                                                                                               \n",
       " [60] \"<h2 id=\\\"documentation\\\">Documentation</h2>\"                                                                                                                                                                                                                                                                                                         \n",
       " [61] \"<ul>\"                                                                                                                                                                                                                                                                                                                                                \n",
       " [62] \"<li><a href=\\\"http://cran.r-project.org/manuals.html\\\">Manuals</a></li>\"                                                                                                                                                                                                                                                                             \n",
       " [63] \"<li><a href=\\\"http://cran.r-project.org/faqs.html\\\">FAQs</a></li>\"                                                                                                                                                                                                                                                                                   \n",
       " [64] \"<li><a href=\\\"http://journal.r-project.org\\\">The R Journal</a></li>\"                                                                                                                                                                                                                                                                                 \n",
       " [65] \"<li><a href=\\\"/doc/bib/R-books.html\\\">Books</a></li>\"                                                                                                                                                                                                                                                                                                \n",
       " [66] \"<li><a href=\\\"/certification.html\\\">Certification</a></li>\"                                                                                                                                                                                                                                                                                          \n",
       " [67] \"<li><a href=\\\"/other-docs.html\\\">Other</a></li>\"                                                                                                                                                                                                                                                                                                     \n",
       " [68] \"</ul>\"                                                                                                                                                                                                                                                                                                                                               \n",
       " [69] \"<h2 id=\\\"links\\\">Links</h2>\"                                                                                                                                                                                                                                                                                                                         \n",
       " [70] \"<ul>\"                                                                                                                                                                                                                                                                                                                                                \n",
       " [71] \"<li><a href=\\\"http://www.bioconductor.org\\\">Bioconductor</a></li>\"                                                                                                                                                                                                                                                                                   \n",
       " [72] \"<li><a href=\\\"/other-projects.html\\\">Related Projects</a></li>\"                                                                                                                                                                                                                                                                                      \n",
       " [73] \"<li><a href=\\\"/gsoc.html\\\">GSoC</a></li>\"                                                                                                                                                                                                                                                                                                            \n",
       " [74] \"</ul>\"                                                                                                                                                                                                                                                                                                                                               \n",
       " [75] \"</div>\"                                                                                                                                                                                                                                                                                                                                              \n",
       " [76] \"</div>\"                                                                                                                                                                                                                                                                                                                                              \n",
       " [77] \"        </div>\"                                                                                                                                                                                                                                                                                                                                      \n",
       " [78] \"        <div class=\\\"col-xs-12 col-sm-7\\\">\"                                                                                                                                                                                                                                                                                                          \n",
       " [79] \"        <h1>The R Project for Statistical Computing</h1>\"                                                                                                                                                                                                                                                                                            \n",
       " [80] \"<h2 id=\\\"getting-started\\\">Getting Started</h2>\"                                                                                                                                                                                                                                                                                                     \n",
       " [81] \"<p>R is a free software environment for statistical computing and graphics. It compiles and runs on a wide variety of UNIX platforms, Windows and MacOS. To <strong><a href=\\\"http://cran.r-project.org/mirrors.html\\\">download R</a></strong>, please choose your preferred <a href=\\\"http://cran.r-project.org/mirrors.html\\\">CRAN mirror</a>.</p>\"\n",
       " [82] \"<p>If you have questions about R like how to download and install the software, or what the license terms are, please read our <a href=\\\"http://cran.R-project.org/faqs.html\\\">answers to frequently asked questions</a> before you send an email.</p>\"                                                                                              \n",
       " [83] \"<h2 id=\\\"news\\\">News</h2>\"                                                                                                                                                                                                                                                                                                                           \n",
       " [84] \"<ul>\"                                                                                                                                                                                                                                                                                                                                                \n",
       " [85] \"<li><p>The R Foundation Conference Committee has released a [call for proposals] (https://www.r-project.org/useR-2020_call.html) to host useR! 2020 in North America.</p></li>\"                                                                                                                                                                      \n",
       " [86] \"<li><p>You can now support the R Foundation with a renewable subscription as a <a href=\\\"https://www.r-project.org/foundation/donations.html\\\">supporting member</a></p></li>\"                                                                                                                                                                       \n",
       " [87] \"<li><p><a href=\\\"https://cran.r-project.org/src/base/R-3\\\"><strong>R version 3.5.1 (Feather Spray)</strong></a> has been released on 2018-07-02.</p></li>\"                                                                                                                                                                                           \n",
       " [88] \"<li><p>The R Foundation has been awarded the Personality/Organization of the year 2018 award by the professional association of German market and social researchers.</p></li>\"                                                                                                                                                                      \n",
       " [89] \"</ul>\"                                                                                                                                                                                                                                                                                                                                               \n",
       " [90] \"<h2 id=\\\"news-via-twitter\\\">News via Twitter</h2>\"                                                                                                                                                                                                                                                                                                   \n",
       " [91] \"<a class=\\\"twitter-timeline\\\"\"                                                                                                                                                                                                                                                                                                                       \n",
       " [92] \" href=\\\"https://twitter.com/_R_Foundation?ref_src=twsrc%5Etfw\\\"\"                                                                                                                                                                                                                                                                                     \n",
       " [93] \" data-width=\\\"400\\\"\"                                                                                                                                                                                                                                                                                                                                 \n",
       " [94] \" data-show-replies=\\\"false\\\"\"                                                                                                                                                                                                                                                                                                                        \n",
       " [95] \" data-chrome=\\\"noheader,nofooter,noborders\\\"\"                                                                                                                                                                                                                                                                                                        \n",
       " [96] \" data-dnt=\\\"true\\\"\"                                                                                                                                                                                                                                                                                                                                  \n",
       " [97] \" data-tweet-limit=\\\"3\\\">News from the R Foundation</a>\"                                                                                                                                                                                                                                                                                              \n",
       " [98] \"<script async\"                                                                                                                                                                                                                                                                                                                                       \n",
       " [99] \" src=\\\"https://platform.twitter.com/widgets.js\\\"\"                                                                                                                                                                                                                                                                                                    \n",
       "[100] \" charset=\\\"utf-8\\\"></script>\"                                                                                                                                                                                                                                                                                                                        \n",
       "[101] \"<!--- (Boilerplate for release run-in)\"                                                                                                                                                                                                                                                                                                              \n",
       "[102] \"-   [**R version 3.1.3 (Smooth Sidewalk) prerelease versions**](http://cran.r-project.org/src/base-prerelease) will appear starting February 28. Final release is scheduled for 2015-03-09.\"                                                                                                                                                         \n",
       "[103] \"-->\"                                                                                                                                                                                                                                                                                                                                                 \n",
       "[104] \"        </div>\"                                                                                                                                                                                                                                                                                                                                      \n",
       "[105] \"      </div>\"                                                                                                                                                                                                                                                                                                                                        \n",
       "[106] \"      <div class=\\\"raw footer\\\">\"                                                                                                                                                                                                                                                                                                                    \n",
       "[107] \"        &copy; The R Foundation. For queries about this web site, please contact\"                                                                                                                                                                                                                                                                    \n",
       "[108] \"\\t<script type='text/javascript'>\"                                                                                                                                                                                                                                                                                                                    \n",
       "[109] \"<!--\"                                                                                                                                                                                                                                                                                                                                                \n",
       "[110] \"var s=\\\"=b!isfg>#nbjmup;xfcnbtufsAs.qspkfdu/psh#?uif!xfcnbtufs=0b?\\\";\"                                                                                                                                                                                                                                                                               \n",
       "[111] \"m=\\\"\\\"; for (i=0; i<s.length; i++) {if(s.charCodeAt(i) == 28){m+= '&';} else if (s.charCodeAt(i) == 23) {m+= '!';} else {m+=String.fromCharCode(s.charCodeAt(i)-1);}}document.write(m);//-->\"                                                                                                                                                        \n",
       "[112] \"\\t</script>;\"                                                                                                                                                                                                                                                                                                                                         \n",
       "[113] \"        for queries about R itself, please consult the \"                                                                                                                                                                                                                                                                                             \n",
       "[114] \"        <a href=\\\"help.html\\\">Getting Help</a> section.\"                                                                                                                                                                                                                                                                                             \n",
       "[115] \"      </div>\"                                                                                                                                                                                                                                                                                                                                        \n",
       "[116] \"    </div>\"                                                                                                                                                                                                                                                                                                                                          \n",
       "[117] \"    <!-- jQuery (necessary for Bootstrap's JavaScript plugins) -->\"                                                                                                                                                                                                                                                                                  \n",
       "[118] \"    <script src=\\\"https://ajax.googleapis.com/ajax/libs/jquery/1.11.1/jquery.min.js\\\"></script>\"                                                                                                                                                                                                                                                     \n",
       "[119] \"    <!-- Include all compiled plugins (below), or include individual files as needed -->\"                                                                                                                                                                                                                                                            \n",
       "[120] \"    <script src=\\\"/js/bootstrap.min.js\\\"></script>\"                                                                                                                                                                                                                                                                                                  \n",
       "[121] \"  </body>\"                                                                                                                                                                                                                                                                                                                                           \n",
       "[122] \"</html>\"                                                                                                                                                                                                                                                                                                                                             \n",
       "\n",
       "$asdf\n",
       "NULL\n"
      ]
     },
     "metadata": {},
     "output_type": "display_data"
    },
    {
     "data": {
      "text/plain": [
       "$example\n",
       "NULL\n",
       "\n",
       "$rproj\n",
       "NULL\n",
       "\n",
       "$asdf\n",
       "<simpleError in file(con, \"r\"): kann Verbindung nicht öffnen>\n"
      ]
     },
     "metadata": {},
     "output_type": "display_data"
    }
   ],
   "source": [
    "# Use the safe_readLines() function with map(): html\n",
    "html <- map(urls, safe_readLines) \n",
    "\n",
    "# Call str() on html\n",
    "str(html)\n",
    "\n",
    "# Extract the result from one of the successful elements\n",
    "map(html, \"result\")\n",
    "\n",
    "# Extract the error from the element that was unsuccessful\n",
    "map(html, \"error\")"
   ]
  },
  {
   "cell_type": "markdown",
   "metadata": {},
   "source": [
    "purrr provides a function transpose() that reshapes a list so the inner-most level becomes the outer-most level. In otherwords, it turns a list-of-lists \"inside-out\"."
   ]
  },
  {
   "cell_type": "code",
   "execution_count": 68,
   "metadata": {},
   "outputs": [],
   "source": [
    "nested_list <- list(\n",
    "   x1 = list(a = 1, b = 2),\n",
    "   x2 = list(a = 3, b = 4)\n",
    ")"
   ]
  },
  {
   "cell_type": "markdown",
   "metadata": {},
   "source": [
    "To extract the a element in x1, you could do:"
   ]
  },
  {
   "cell_type": "code",
   "execution_count": 70,
   "metadata": {},
   "outputs": [
    {
     "data": {
      "text/html": [
       "1"
      ],
      "text/latex": [
       "1"
      ],
      "text/markdown": [
       "1"
      ],
      "text/plain": [
       "[1] 1"
      ]
     },
     "metadata": {},
     "output_type": "display_data"
    }
   ],
   "source": [
    "nested_list[[\"x1\"]][[\"a\"]]"
   ]
  },
  {
   "cell_type": "markdown",
   "metadata": {},
   "source": [
    "However, if you transpose the list first, the order of subsetting reverses. That is, to extract the same element I could also do ."
   ]
  },
  {
   "cell_type": "code",
   "execution_count": 72,
   "metadata": {},
   "outputs": [
    {
     "data": {
      "text/html": [
       "1"
      ],
      "text/latex": [
       "1"
      ],
      "text/markdown": [
       "1"
      ],
      "text/plain": [
       "[1] 1"
      ]
     },
     "metadata": {},
     "output_type": "display_data"
    }
   ],
   "source": [
    "transpose(nested_list)[[\"a\"]][[\"x1\"]]"
   ]
  },
  {
   "cell_type": "code",
   "execution_count": 74,
   "metadata": {},
   "outputs": [
    {
     "name": "stderr",
     "output_type": "stream",
     "text": [
      "Warning message in file(con, \"r\"):\n",
      "\"InternetOpenUrl fehlgeschlagen: 'The server name or address could not be resolved'\""
     ]
    }
   ],
   "source": [
    "safe_readLines <- safely(readLines)\n",
    "html <- map(urls, safe_readLines)\n",
    "res <- transpose(html)[[\"result\"]]\n",
    "errs <- transpose(html)[[\"error\"]]"
   ]
  },
  {
   "cell_type": "code",
   "execution_count": 77,
   "metadata": {},
   "outputs": [
    {
     "data": {
      "text/plain": [
       "$example\n",
       "NULL\n",
       "\n",
       "$rproj\n",
       "NULL\n",
       "\n",
       "$asdf\n",
       "<simpleError in file(con, \"r\"): kann Verbindung nicht öffnen>\n"
      ]
     },
     "metadata": {},
     "output_type": "display_data"
    }
   ],
   "source": [
    "errs"
   ]
  },
  {
   "cell_type": "markdown",
   "metadata": {},
   "source": [
    "***Mapping over one variable***"
   ]
  },
  {
   "cell_type": "code",
   "execution_count": 78,
   "metadata": {},
   "outputs": [
    {
     "data": {
      "text/html": [
       "<ol>\n",
       "\t<li><ol class=list-inline>\n",
       "\t<li>0.36931684582105</li>\n",
       "\t<li>-0.385099832538721</li>\n",
       "\t<li>-0.975307585053963</li>\n",
       "\t<li>-0.625570493505691</li>\n",
       "\t<li>0.584009121411168</li>\n",
       "</ol>\n",
       "</li>\n",
       "\t<li><ol class=list-inline>\n",
       "\t<li>0.112059124857284</li>\n",
       "\t<li>0.254040005299555</li>\n",
       "\t<li>-0.754015895644737</li>\n",
       "\t<li>-1.30910026049778</li>\n",
       "\t<li>-1.51623977514411</li>\n",
       "\t<li>-1.28166442072114</li>\n",
       "\t<li>1.09364015243863</li>\n",
       "\t<li>-0.617478794151267</li>\n",
       "\t<li>1.02015832924232</li>\n",
       "\t<li>-0.564277288001173</li>\n",
       "</ol>\n",
       "</li>\n",
       "\t<li><ol class=list-inline>\n",
       "\t<li>0.46988880702539</li>\n",
       "\t<li>1.49063116292723</li>\n",
       "\t<li>0.0854075279638677</li>\n",
       "\t<li>-1.42033766829615</li>\n",
       "\t<li>-0.379475963752179</li>\n",
       "\t<li>0.958874486240203</li>\n",
       "\t<li>0.240611624399495</li>\n",
       "\t<li>-0.627477703992039</li>\n",
       "\t<li>-0.15877092637323</li>\n",
       "\t<li>-1.37648809431276</li>\n",
       "\t<li>-1.35151534471297</li>\n",
       "\t<li>1.06367333707893</li>\n",
       "\t<li>1.01658180145248</li>\n",
       "\t<li>0.665781807859222</li>\n",
       "\t<li>1.56429835987777</li>\n",
       "\t<li>-1.21125234400212</li>\n",
       "\t<li>2.45671515072428</li>\n",
       "\t<li>-1.46895367584351</li>\n",
       "\t<li>-0.440579722171512</li>\n",
       "\t<li>0.669632751030623</li>\n",
       "</ol>\n",
       "</li>\n",
       "</ol>\n"
      ],
      "text/latex": [
       "\\begin{enumerate}\n",
       "\\item \\begin{enumerate*}\n",
       "\\item 0.36931684582105\n",
       "\\item -0.385099832538721\n",
       "\\item -0.975307585053963\n",
       "\\item -0.625570493505691\n",
       "\\item 0.584009121411168\n",
       "\\end{enumerate*}\n",
       "\n",
       "\\item \\begin{enumerate*}\n",
       "\\item 0.112059124857284\n",
       "\\item 0.254040005299555\n",
       "\\item -0.754015895644737\n",
       "\\item -1.30910026049778\n",
       "\\item -1.51623977514411\n",
       "\\item -1.28166442072114\n",
       "\\item 1.09364015243863\n",
       "\\item -0.617478794151267\n",
       "\\item 1.02015832924232\n",
       "\\item -0.564277288001173\n",
       "\\end{enumerate*}\n",
       "\n",
       "\\item \\begin{enumerate*}\n",
       "\\item 0.46988880702539\n",
       "\\item 1.49063116292723\n",
       "\\item 0.0854075279638677\n",
       "\\item -1.42033766829615\n",
       "\\item -0.379475963752179\n",
       "\\item 0.958874486240203\n",
       "\\item 0.240611624399495\n",
       "\\item -0.627477703992039\n",
       "\\item -0.15877092637323\n",
       "\\item -1.37648809431276\n",
       "\\item -1.35151534471297\n",
       "\\item 1.06367333707893\n",
       "\\item 1.01658180145248\n",
       "\\item 0.665781807859222\n",
       "\\item 1.56429835987777\n",
       "\\item -1.21125234400212\n",
       "\\item 2.45671515072428\n",
       "\\item -1.46895367584351\n",
       "\\item -0.440579722171512\n",
       "\\item 0.669632751030623\n",
       "\\end{enumerate*}\n",
       "\n",
       "\\end{enumerate}\n"
      ],
      "text/markdown": [
       "1. 1. 0.36931684582105\n",
       "2. -0.385099832538721\n",
       "3. -0.975307585053963\n",
       "4. -0.625570493505691\n",
       "5. 0.584009121411168\n",
       "\n",
       "\n",
       "\n",
       "2. 1. 0.112059124857284\n",
       "2. 0.254040005299555\n",
       "3. -0.754015895644737\n",
       "4. -1.30910026049778\n",
       "5. -1.51623977514411\n",
       "6. -1.28166442072114\n",
       "7. 1.09364015243863\n",
       "8. -0.617478794151267\n",
       "9. 1.02015832924232\n",
       "10. -0.564277288001173\n",
       "\n",
       "\n",
       "\n",
       "3. 1. 0.46988880702539\n",
       "2. 1.49063116292723\n",
       "3. 0.0854075279638677\n",
       "4. -1.42033766829615\n",
       "5. -0.379475963752179\n",
       "6. 0.958874486240203\n",
       "7. 0.240611624399495\n",
       "8. -0.627477703992039\n",
       "9. -0.15877092637323\n",
       "10. -1.37648809431276\n",
       "11. -1.35151534471297\n",
       "12. 1.06367333707893\n",
       "13. 1.01658180145248\n",
       "14. 0.665781807859222\n",
       "15. 1.56429835987777\n",
       "16. -1.21125234400212\n",
       "17. 2.45671515072428\n",
       "18. -1.46895367584351\n",
       "19. -0.440579722171512\n",
       "20. 0.669632751030623\n",
       "\n",
       "\n",
       "\n",
       "\n",
       "\n"
      ],
      "text/plain": [
       "[[1]]\n",
       "[1]  0.3693168 -0.3850998 -0.9753076 -0.6255705  0.5840091\n",
       "\n",
       "[[2]]\n",
       " [1]  0.1120591  0.2540400 -0.7540159 -1.3091003 -1.5162398 -1.2816644\n",
       " [7]  1.0936402 -0.6174788  1.0201583 -0.5642773\n",
       "\n",
       "[[3]]\n",
       " [1]  0.46988881  1.49063116  0.08540753 -1.42033767 -0.37947596  0.95887449\n",
       " [7]  0.24061162 -0.62747770 -0.15877093 -1.37648809 -1.35151534  1.06367334\n",
       "[13]  1.01658180  0.66578181  1.56429836 -1.21125234  2.45671515 -1.46895368\n",
       "[19] -0.44057972  0.66963275\n"
      ]
     },
     "metadata": {},
     "output_type": "display_data"
    }
   ],
   "source": [
    "# Create a list n containing the values: 5, 10, and 20\n",
    "n <- list(5, 10, 20)\n",
    "\n",
    "# Call map() on n with rnorm() to simulate three samples\n",
    "map(n , rnorm)"
   ]
  },
  {
   "cell_type": "markdown",
   "metadata": {},
   "source": [
    "***Mapping over 2 variable***"
   ]
  },
  {
   "cell_type": "code",
   "execution_count": 80,
   "metadata": {},
   "outputs": [
    {
     "data": {
      "text/html": [
       "<ol>\n",
       "\t<li><ol class=list-inline>\n",
       "\t<li>0.143731854538223</li>\n",
       "\t<li>0.9950760080224</li>\n",
       "\t<li>-0.144339301057706</li>\n",
       "\t<li>1.55275207439313</li>\n",
       "\t<li>2.05292710135133</li>\n",
       "</ol>\n",
       "</li>\n",
       "\t<li><ol class=list-inline>\n",
       "\t<li>4.854197530285</li>\n",
       "\t<li>6.15719496836395</li>\n",
       "\t<li>5.13124488218981</li>\n",
       "\t<li>6.52703080333205</li>\n",
       "\t<li>5.07504093060958</li>\n",
       "\t<li>4.88054097011562</li>\n",
       "\t<li>5.5899146288338</li>\n",
       "\t<li>6.14895117404163</li>\n",
       "\t<li>7.30640843123955</li>\n",
       "\t<li>4.88800311096245</li>\n",
       "</ol>\n",
       "</li>\n",
       "\t<li><ol class=list-inline>\n",
       "\t<li>9.61481582866887</li>\n",
       "\t<li>11.1877142664204</li>\n",
       "\t<li>8.03341315857097</li>\n",
       "\t<li>10.0738700057083</li>\n",
       "\t<li>9.98295371377709</li>\n",
       "\t<li>7.98502175898067</li>\n",
       "\t<li>9.58931672775247</li>\n",
       "\t<li>9.44615468018144</li>\n",
       "\t<li>8.59614565193135</li>\n",
       "\t<li>9.12304811694402</li>\n",
       "\t<li>10.6557158558248</li>\n",
       "\t<li>9.39776311228814</li>\n",
       "\t<li>10.1178449503491</li>\n",
       "\t<li>11.6598459618566</li>\n",
       "\t<li>10.0213808284089</li>\n",
       "\t<li>9.41466787878426</li>\n",
       "\t<li>8.55060881414203</li>\n",
       "\t<li>9.39652364144355</li>\n",
       "\t<li>10.1475364914117</li>\n",
       "\t<li>10.1323754896088</li>\n",
       "</ol>\n",
       "</li>\n",
       "</ol>\n"
      ],
      "text/latex": [
       "\\begin{enumerate}\n",
       "\\item \\begin{enumerate*}\n",
       "\\item 0.143731854538223\n",
       "\\item 0.9950760080224\n",
       "\\item -0.144339301057706\n",
       "\\item 1.55275207439313\n",
       "\\item 2.05292710135133\n",
       "\\end{enumerate*}\n",
       "\n",
       "\\item \\begin{enumerate*}\n",
       "\\item 4.854197530285\n",
       "\\item 6.15719496836395\n",
       "\\item 5.13124488218981\n",
       "\\item 6.52703080333205\n",
       "\\item 5.07504093060958\n",
       "\\item 4.88054097011562\n",
       "\\item 5.5899146288338\n",
       "\\item 6.14895117404163\n",
       "\\item 7.30640843123955\n",
       "\\item 4.88800311096245\n",
       "\\end{enumerate*}\n",
       "\n",
       "\\item \\begin{enumerate*}\n",
       "\\item 9.61481582866887\n",
       "\\item 11.1877142664204\n",
       "\\item 8.03341315857097\n",
       "\\item 10.0738700057083\n",
       "\\item 9.98295371377709\n",
       "\\item 7.98502175898067\n",
       "\\item 9.58931672775247\n",
       "\\item 9.44615468018144\n",
       "\\item 8.59614565193135\n",
       "\\item 9.12304811694402\n",
       "\\item 10.6557158558248\n",
       "\\item 9.39776311228814\n",
       "\\item 10.1178449503491\n",
       "\\item 11.6598459618566\n",
       "\\item 10.0213808284089\n",
       "\\item 9.41466787878426\n",
       "\\item 8.55060881414203\n",
       "\\item 9.39652364144355\n",
       "\\item 10.1475364914117\n",
       "\\item 10.1323754896088\n",
       "\\end{enumerate*}\n",
       "\n",
       "\\end{enumerate}\n"
      ],
      "text/markdown": [
       "1. 1. 0.143731854538223\n",
       "2. 0.9950760080224\n",
       "3. -0.144339301057706\n",
       "4. 1.55275207439313\n",
       "5. 2.05292710135133\n",
       "\n",
       "\n",
       "\n",
       "2. 1. 4.854197530285\n",
       "2. 6.15719496836395\n",
       "3. 5.13124488218981\n",
       "4. 6.52703080333205\n",
       "5. 5.07504093060958\n",
       "6. 4.88054097011562\n",
       "7. 5.5899146288338\n",
       "8. 6.14895117404163\n",
       "9. 7.30640843123955\n",
       "10. 4.88800311096245\n",
       "\n",
       "\n",
       "\n",
       "3. 1. 9.61481582866887\n",
       "2. 11.1877142664204\n",
       "3. 8.03341315857097\n",
       "4. 10.0738700057083\n",
       "5. 9.98295371377709\n",
       "6. 7.98502175898067\n",
       "7. 9.58931672775247\n",
       "8. 9.44615468018144\n",
       "9. 8.59614565193135\n",
       "10. 9.12304811694402\n",
       "11. 10.6557158558248\n",
       "12. 9.39776311228814\n",
       "13. 10.1178449503491\n",
       "14. 11.6598459618566\n",
       "15. 10.0213808284089\n",
       "16. 9.41466787878426\n",
       "17. 8.55060881414203\n",
       "18. 9.39652364144355\n",
       "19. 10.1475364914117\n",
       "20. 10.1323754896088\n",
       "\n",
       "\n",
       "\n",
       "\n",
       "\n"
      ],
      "text/plain": [
       "[[1]]\n",
       "[1]  0.1437319  0.9950760 -0.1443393  1.5527521  2.0529271\n",
       "\n",
       "[[2]]\n",
       " [1] 4.854198 6.157195 5.131245 6.527031 5.075041 4.880541 5.589915 6.148951\n",
       " [9] 7.306408 4.888003\n",
       "\n",
       "[[3]]\n",
       " [1]  9.614816 11.187714  8.033413 10.073870  9.982954  7.985022  9.589317\n",
       " [8]  9.446155  8.596146  9.123048 10.655716  9.397763 10.117845 11.659846\n",
       "[15] 10.021381  9.414668  8.550609  9.396524 10.147536 10.132375\n"
      ]
     },
     "metadata": {},
     "output_type": "display_data"
    }
   ],
   "source": [
    "# Create a list mu containing the values: 1, 5, and 10\n",
    "mu <- list(1, 5, 10)\n",
    "\n",
    "# Edit to call map2() on n and mu with rnorm() to simulate three samples\n",
    "map2(n, mu, rnorm)"
   ]
  },
  {
   "cell_type": "markdown",
   "metadata": {},
   "source": [
    "***Mapping over more than two arguments***"
   ]
  },
  {
   "cell_type": "code",
   "execution_count": 82,
   "metadata": {},
   "outputs": [
    {
     "data": {
      "text/html": [
       "<ol>\n",
       "\t<li><ol class=list-inline>\n",
       "\t<li>0.971807078564104</li>\n",
       "\t<li>1.05106861122475</li>\n",
       "\t<li>1.00330673555504</li>\n",
       "\t<li>0.942550686876091</li>\n",
       "\t<li>1.15596306989873</li>\n",
       "</ol>\n",
       "</li>\n",
       "\t<li><ol class=list-inline>\n",
       "\t<li>5.16114826165154</li>\n",
       "\t<li>4.93294703053596</li>\n",
       "\t<li>3.08609352838817</li>\n",
       "\t<li>5.86062131018476</li>\n",
       "\t<li>5.338535223194</li>\n",
       "\t<li>4.76632724253246</li>\n",
       "\t<li>3.36353080897331</li>\n",
       "\t<li>4.67764718934065</li>\n",
       "\t<li>5.3990735853682</li>\n",
       "\t<li>3.96627889222784</li>\n",
       "</ol>\n",
       "</li>\n",
       "\t<li><ol class=list-inline>\n",
       "\t<li>10.0759680189538</li>\n",
       "\t<li>9.93221205240315</li>\n",
       "\t<li>9.9023987618292</li>\n",
       "\t<li>9.97711472273695</li>\n",
       "\t<li>10.0944395339904</li>\n",
       "\t<li>9.75284181986987</li>\n",
       "\t<li>9.83850285864491</li>\n",
       "\t<li>10.1709710978892</li>\n",
       "\t<li>10.0860876601764</li>\n",
       "\t<li>10.0777083162494</li>\n",
       "\t<li>9.79626945486807</li>\n",
       "\t<li>9.92445222918093</li>\n",
       "\t<li>10.0849254993396</li>\n",
       "\t<li>10.0052539300192</li>\n",
       "\t<li>10.0319204855015</li>\n",
       "\t<li>9.97627429183604</li>\n",
       "\t<li>9.99978701585582</li>\n",
       "\t<li>9.9469779544602</li>\n",
       "\t<li>9.74595313075892</li>\n",
       "\t<li>10.1310275476829</li>\n",
       "</ol>\n",
       "</li>\n",
       "</ol>\n"
      ],
      "text/latex": [
       "\\begin{enumerate}\n",
       "\\item \\begin{enumerate*}\n",
       "\\item 0.971807078564104\n",
       "\\item 1.05106861122475\n",
       "\\item 1.00330673555504\n",
       "\\item 0.942550686876091\n",
       "\\item 1.15596306989873\n",
       "\\end{enumerate*}\n",
       "\n",
       "\\item \\begin{enumerate*}\n",
       "\\item 5.16114826165154\n",
       "\\item 4.93294703053596\n",
       "\\item 3.08609352838817\n",
       "\\item 5.86062131018476\n",
       "\\item 5.338535223194\n",
       "\\item 4.76632724253246\n",
       "\\item 3.36353080897331\n",
       "\\item 4.67764718934065\n",
       "\\item 5.3990735853682\n",
       "\\item 3.96627889222784\n",
       "\\end{enumerate*}\n",
       "\n",
       "\\item \\begin{enumerate*}\n",
       "\\item 10.0759680189538\n",
       "\\item 9.93221205240315\n",
       "\\item 9.9023987618292\n",
       "\\item 9.97711472273695\n",
       "\\item 10.0944395339904\n",
       "\\item 9.75284181986987\n",
       "\\item 9.83850285864491\n",
       "\\item 10.1709710978892\n",
       "\\item 10.0860876601764\n",
       "\\item 10.0777083162494\n",
       "\\item 9.79626945486807\n",
       "\\item 9.92445222918093\n",
       "\\item 10.0849254993396\n",
       "\\item 10.0052539300192\n",
       "\\item 10.0319204855015\n",
       "\\item 9.97627429183604\n",
       "\\item 9.99978701585582\n",
       "\\item 9.9469779544602\n",
       "\\item 9.74595313075892\n",
       "\\item 10.1310275476829\n",
       "\\end{enumerate*}\n",
       "\n",
       "\\end{enumerate}\n"
      ],
      "text/markdown": [
       "1. 1. 0.971807078564104\n",
       "2. 1.05106861122475\n",
       "3. 1.00330673555504\n",
       "4. 0.942550686876091\n",
       "5. 1.15596306989873\n",
       "\n",
       "\n",
       "\n",
       "2. 1. 5.16114826165154\n",
       "2. 4.93294703053596\n",
       "3. 3.08609352838817\n",
       "4. 5.86062131018476\n",
       "5. 5.338535223194\n",
       "6. 4.76632724253246\n",
       "7. 3.36353080897331\n",
       "8. 4.67764718934065\n",
       "9. 5.3990735853682\n",
       "10. 3.96627889222784\n",
       "\n",
       "\n",
       "\n",
       "3. 1. 10.0759680189538\n",
       "2. 9.93221205240315\n",
       "3. 9.9023987618292\n",
       "4. 9.97711472273695\n",
       "5. 10.0944395339904\n",
       "6. 9.75284181986987\n",
       "7. 9.83850285864491\n",
       "8. 10.1709710978892\n",
       "9. 10.0860876601764\n",
       "10. 10.0777083162494\n",
       "11. 9.79626945486807\n",
       "12. 9.92445222918093\n",
       "13. 10.0849254993396\n",
       "14. 10.0052539300192\n",
       "15. 10.0319204855015\n",
       "16. 9.97627429183604\n",
       "17. 9.99978701585582\n",
       "18. 9.9469779544602\n",
       "19. 9.74595313075892\n",
       "20. 10.1310275476829\n",
       "\n",
       "\n",
       "\n",
       "\n",
       "\n"
      ],
      "text/plain": [
       "[[1]]\n",
       "[1] 0.9718071 1.0510686 1.0033067 0.9425507 1.1559631\n",
       "\n",
       "[[2]]\n",
       " [1] 5.161148 4.932947 3.086094 5.860621 5.338535 4.766327 3.363531 4.677647\n",
       " [9] 5.399074 3.966279\n",
       "\n",
       "[[3]]\n",
       " [1] 10.075968  9.932212  9.902399  9.977115 10.094440  9.752842  9.838503\n",
       " [8] 10.170971 10.086088 10.077708  9.796269  9.924452 10.084925 10.005254\n",
       "[15] 10.031920  9.976274  9.999787  9.946978  9.745953 10.131028\n"
      ]
     },
     "metadata": {},
     "output_type": "display_data"
    }
   ],
   "source": [
    "# Create a sd list with the values: 0.1, 1 and 0.1\n",
    "sd <- list(0.1, 1, 0.1)\n",
    "\n",
    "# Edit this call to pmap() to iterate over the sd list as well\n",
    "pmap(list(n, mu, sd), rnorm)"
   ]
  },
  {
   "cell_type": "code",
   "execution_count": 83,
   "metadata": {},
   "outputs": [
    {
     "data": {
      "text/html": [
       "<ol>\n",
       "\t<li><ol class=list-inline>\n",
       "\t<li>0.976933550071374</li>\n",
       "\t<li>0.989065179307881</li>\n",
       "\t<li>1.03147286384766</li>\n",
       "\t<li>1.19454218105337</li>\n",
       "\t<li>1.11731838390467</li>\n",
       "</ol>\n",
       "</li>\n",
       "\t<li><ol class=list-inline>\n",
       "\t<li>3.32554400740207</li>\n",
       "\t<li>5.53374126409047</li>\n",
       "\t<li>4.43280293384698</li>\n",
       "\t<li>5.58343512681025</li>\n",
       "\t<li>4.30009548205055</li>\n",
       "\t<li>4.99205808266078</li>\n",
       "\t<li>3.53784996088653</li>\n",
       "\t<li>4.63257371737505</li>\n",
       "\t<li>4.63895204041704</li>\n",
       "\t<li>4.53941461001798</li>\n",
       "</ol>\n",
       "</li>\n",
       "\t<li><ol class=list-inline>\n",
       "\t<li>9.90776830721635</li>\n",
       "\t<li>9.95273549367377</li>\n",
       "\t<li>9.80055277569505</li>\n",
       "\t<li>10.1327835857605</li>\n",
       "\t<li>10.100703861465</li>\n",
       "\t<li>9.92973940170137</li>\n",
       "\t<li>10.003436958269</li>\n",
       "\t<li>9.96066946594667</li>\n",
       "\t<li>9.94387151523668</li>\n",
       "\t<li>10.0052590256319</li>\n",
       "\t<li>10.0750006976937</li>\n",
       "\t<li>9.9943429980917</li>\n",
       "\t<li>9.95831453518553</li>\n",
       "\t<li>10.072784259295</li>\n",
       "\t<li>10.0311542569854</li>\n",
       "\t<li>10.0474403273691</li>\n",
       "\t<li>10.1278694542308</li>\n",
       "\t<li>9.74635068134488</li>\n",
       "\t<li>10.0171242531275</li>\n",
       "\t<li>9.87529138771483</li>\n",
       "</ol>\n",
       "</li>\n",
       "</ol>\n"
      ],
      "text/latex": [
       "\\begin{enumerate}\n",
       "\\item \\begin{enumerate*}\n",
       "\\item 0.976933550071374\n",
       "\\item 0.989065179307881\n",
       "\\item 1.03147286384766\n",
       "\\item 1.19454218105337\n",
       "\\item 1.11731838390467\n",
       "\\end{enumerate*}\n",
       "\n",
       "\\item \\begin{enumerate*}\n",
       "\\item 3.32554400740207\n",
       "\\item 5.53374126409047\n",
       "\\item 4.43280293384698\n",
       "\\item 5.58343512681025\n",
       "\\item 4.30009548205055\n",
       "\\item 4.99205808266078\n",
       "\\item 3.53784996088653\n",
       "\\item 4.63257371737505\n",
       "\\item 4.63895204041704\n",
       "\\item 4.53941461001798\n",
       "\\end{enumerate*}\n",
       "\n",
       "\\item \\begin{enumerate*}\n",
       "\\item 9.90776830721635\n",
       "\\item 9.95273549367377\n",
       "\\item 9.80055277569505\n",
       "\\item 10.1327835857605\n",
       "\\item 10.100703861465\n",
       "\\item 9.92973940170137\n",
       "\\item 10.003436958269\n",
       "\\item 9.96066946594667\n",
       "\\item 9.94387151523668\n",
       "\\item 10.0052590256319\n",
       "\\item 10.0750006976937\n",
       "\\item 9.9943429980917\n",
       "\\item 9.95831453518553\n",
       "\\item 10.072784259295\n",
       "\\item 10.0311542569854\n",
       "\\item 10.0474403273691\n",
       "\\item 10.1278694542308\n",
       "\\item 9.74635068134488\n",
       "\\item 10.0171242531275\n",
       "\\item 9.87529138771483\n",
       "\\end{enumerate*}\n",
       "\n",
       "\\end{enumerate}\n"
      ],
      "text/markdown": [
       "1. 1. 0.976933550071374\n",
       "2. 0.989065179307881\n",
       "3. 1.03147286384766\n",
       "4. 1.19454218105337\n",
       "5. 1.11731838390467\n",
       "\n",
       "\n",
       "\n",
       "2. 1. 3.32554400740207\n",
       "2. 5.53374126409047\n",
       "3. 4.43280293384698\n",
       "4. 5.58343512681025\n",
       "5. 4.30009548205055\n",
       "6. 4.99205808266078\n",
       "7. 3.53784996088653\n",
       "8. 4.63257371737505\n",
       "9. 4.63895204041704\n",
       "10. 4.53941461001798\n",
       "\n",
       "\n",
       "\n",
       "3. 1. 9.90776830721635\n",
       "2. 9.95273549367377\n",
       "3. 9.80055277569505\n",
       "4. 10.1327835857605\n",
       "5. 10.100703861465\n",
       "6. 9.92973940170137\n",
       "7. 10.003436958269\n",
       "8. 9.96066946594667\n",
       "9. 9.94387151523668\n",
       "10. 10.0052590256319\n",
       "11. 10.0750006976937\n",
       "12. 9.9943429980917\n",
       "13. 9.95831453518553\n",
       "14. 10.072784259295\n",
       "15. 10.0311542569854\n",
       "16. 10.0474403273691\n",
       "17. 10.1278694542308\n",
       "18. 9.74635068134488\n",
       "19. 10.0171242531275\n",
       "20. 9.87529138771483\n",
       "\n",
       "\n",
       "\n",
       "\n",
       "\n"
      ],
      "text/plain": [
       "[[1]]\n",
       "[1] 0.9769336 0.9890652 1.0314729 1.1945422 1.1173184\n",
       "\n",
       "[[2]]\n",
       " [1] 3.325544 5.533741 4.432803 5.583435 4.300095 4.992058 3.537850 4.632574\n",
       " [9] 4.638952 4.539415\n",
       "\n",
       "[[3]]\n",
       " [1]  9.907768  9.952735  9.800553 10.132784 10.100704  9.929739 10.003437\n",
       " [8]  9.960669  9.943872 10.005259 10.075001  9.994343  9.958315 10.072784\n",
       "[15] 10.031154 10.047440 10.127869  9.746351 10.017124  9.875291\n"
      ]
     },
     "metadata": {},
     "output_type": "display_data"
    }
   ],
   "source": [
    "# Name the elements of the argument list\n",
    "pmap(list(mean = mu,n = n, sd = sd), rnorm)"
   ]
  },
  {
   "cell_type": "markdown",
   "metadata": {},
   "source": [
    "***Mapping over functions and their arguments***"
   ]
  },
  {
   "cell_type": "code",
   "execution_count": 85,
   "metadata": {},
   "outputs": [
    {
     "data": {
      "text/html": [
       "<ol>\n",
       "\t<li><ol class=list-inline>\n",
       "\t<li>10.7954643936234</li>\n",
       "\t<li>9.5928800124431</li>\n",
       "\t<li>9.19691044360344</li>\n",
       "\t<li>9.47277868164755</li>\n",
       "\t<li>9.56127036946104</li>\n",
       "</ol>\n",
       "</li>\n",
       "\t<li><ol class=list-inline>\n",
       "\t<li>4.49164034100249</li>\n",
       "\t<li>1.14859651541337</li>\n",
       "\t<li>0.000112104462459683</li>\n",
       "\t<li>4.97960656066425</li>\n",
       "\t<li>0.19036159501411</li>\n",
       "</ol>\n",
       "</li>\n",
       "\t<li><ol class=list-inline>\n",
       "\t<li>0.0526753177710969</li>\n",
       "\t<li>0.0298949876830893</li>\n",
       "\t<li>0.0494544289074838</li>\n",
       "\t<li>0.231954818955603</li>\n",
       "\t<li>0.00037904126329409</li>\n",
       "</ol>\n",
       "</li>\n",
       "</ol>\n"
      ],
      "text/latex": [
       "\\begin{enumerate}\n",
       "\\item \\begin{enumerate*}\n",
       "\\item 10.7954643936234\n",
       "\\item 9.5928800124431\n",
       "\\item 9.19691044360344\n",
       "\\item 9.47277868164755\n",
       "\\item 9.56127036946104\n",
       "\\end{enumerate*}\n",
       "\n",
       "\\item \\begin{enumerate*}\n",
       "\\item 4.49164034100249\n",
       "\\item 1.14859651541337\n",
       "\\item 0.000112104462459683\n",
       "\\item 4.97960656066425\n",
       "\\item 0.19036159501411\n",
       "\\end{enumerate*}\n",
       "\n",
       "\\item \\begin{enumerate*}\n",
       "\\item 0.0526753177710969\n",
       "\\item 0.0298949876830893\n",
       "\\item 0.0494544289074838\n",
       "\\item 0.231954818955603\n",
       "\\item 0.00037904126329409\n",
       "\\end{enumerate*}\n",
       "\n",
       "\\end{enumerate}\n"
      ],
      "text/markdown": [
       "1. 1. 10.7954643936234\n",
       "2. 9.5928800124431\n",
       "3. 9.19691044360344\n",
       "4. 9.47277868164755\n",
       "5. 9.56127036946104\n",
       "\n",
       "\n",
       "\n",
       "2. 1. 4.49164034100249\n",
       "2. 1.14859651541337\n",
       "3. 0.000112104462459683\n",
       "4. 4.97960656066425\n",
       "5. 0.19036159501411\n",
       "\n",
       "\n",
       "\n",
       "3. 1. 0.0526753177710969\n",
       "2. 0.0298949876830893\n",
       "3. 0.0494544289074838\n",
       "4. 0.231954818955603\n",
       "5. 0.00037904126329409\n",
       "\n",
       "\n",
       "\n",
       "\n",
       "\n"
      ],
      "text/plain": [
       "[[1]]\n",
       "[1] 10.795464  9.592880  9.196910  9.472779  9.561270\n",
       "\n",
       "[[2]]\n",
       "[1] 4.4916403410 1.1485965154 0.0001121045 4.9796065607 0.1903615950\n",
       "\n",
       "[[3]]\n",
       "[1] 0.0526753178 0.0298949877 0.0494544289 0.2319548190 0.0003790413\n"
      ]
     },
     "metadata": {},
     "output_type": "display_data"
    }
   ],
   "source": [
    "# Define list of functions\n",
    "f <- list(\"rnorm\", \"runif\", \"rexp\")\n",
    "\n",
    "# Parameter list for rnorm()\n",
    "rnorm_params <- list(mean = 10)\n",
    "\n",
    "# Add a min element with value 0 and max element with value 5\n",
    "runif_params <- list(min = 0, max = 5)\n",
    "\n",
    "# Add a rate element with value 5\n",
    "rexp_params <- list(rate = 5)\n",
    "\n",
    "# Define params for each function\n",
    "params <- list(\n",
    "  rnorm_params,\n",
    "  runif_params,\n",
    "  rexp_params\n",
    ")\n",
    "\n",
    "# Call invoke_map() on f supplying params as the second argument\n",
    "invoke_map(f, params, n = 5)"
   ]
  },
  {
   "cell_type": "markdown",
   "metadata": {},
   "source": [
    "***walk***\n",
    "<br>walk() operates just like map() except it's designed for functions that don't return anything. You use walk() for functions with side effects like printing, plotting or saving."
   ]
  },
  {
   "cell_type": "code",
   "execution_count": 86,
   "metadata": {},
   "outputs": [
    {
     "data": {
      "image/png": "[encoded data removed]",
      "text/plain": [
       "Plot with title \"Histogram of .x[[i]]\""
      ]
     },
     "metadata": {},
     "output_type": "display_data"
    },
    {
     "data": {
      "image/png": "[encoded data removed]",
      "text/plain": [
       "Plot with title \"Histogram of .x[[i]]\""
      ]
     },
     "metadata": {},
     "output_type": "display_data"
    },
    {
     "data": {
      "image/png": "[encoded data removed]",
      "text/plain": [
       "Plot with title \"Histogram of .x[[i]]\""
      ]
     },
     "metadata": {},
     "output_type": "display_data"
    }
   ],
   "source": [
    "# Define list of functions\n",
    "f <- list(Normal = \"rnorm\", Uniform = \"runif\", Exp = \"rexp\")\n",
    "\n",
    "# Define params\n",
    "params <- list(\n",
    "  Normal = list(mean = 10),\n",
    "  Uniform = list(min = 0, max = 5),\n",
    "  Exp = list(rate = 5)\n",
    ")\n",
    "\n",
    "# Assign the simulated samples to sims\n",
    "sims <- invoke_map(f, params, n = 50)\n",
    "\n",
    "# Use walk() to make a histogram of each element in sims\n",
    "walk(sims, hist)\n"
   ]
  },
  {
   "cell_type": "markdown",
   "metadata": {},
   "source": [
    "Walking over two or more arguments\n",
    "\n",
    "Those histograms were pretty good, but they really needed better breaks for the bins on the x-axis. That means we need to vary two arguments to hist(): x and breaks"
   ]
  },
  {
   "cell_type": "code",
   "execution_count": 88,
   "metadata": {},
   "outputs": [
    {
     "data": {
      "image/png": "[encoded data removed]",
      "text/plain": [
       "Plot with title \"Normal(10, 1)\""
      ]
     },
     "metadata": {},
     "output_type": "display_data"
    },
    {
     "data": {
      "image/png": "[encoded data removed]",
      "text/plain": [
       "Plot with title \"Uniform(0, 5)\""
      ]
     },
     "metadata": {},
     "output_type": "display_data"
    },
    {
     "data": {
      "image/png": "[encoded data removed]",
      "text/plain": [
       "Plot with title \"Exp(5)\""
      ]
     },
     "metadata": {},
     "output_type": "display_data"
    }
   ],
   "source": [
    "# Turn this snippet into find_breaks()\n",
    "find_breaks <- function(x) {\n",
    "  rng <- range(x, na.rm = TRUE)\n",
    "  seq(rng[1], rng[2], length.out = 30)\n",
    "}\n",
    "\n",
    "# Increase sample size to 1000\n",
    "sims <- invoke_map(f, params, n = 1000)\n",
    "\n",
    "# Compute nice_breaks (don't change this)\n",
    "nice_breaks <- map(sims, find_breaks)\n",
    "\n",
    "# Create a vector nice_titles\n",
    "nice_titles <- c(\"Normal(10, 1)\", \"Uniform(0, 5)\", \"Exp(5)\")\n",
    "\n",
    "# Use pwalk() instead of walk2()\n",
    "pwalk(list(x = sims, breaks = nice_breaks, main = nice_titles), hist, xlab = \"\")"
   ]
  }
 ],
 "metadata": {
  "kernelspec": {
   "display_name": "R",
   "language": "R",
   "name": "ir"
  },
  "language_info": {
   "codemirror_mode": "r",
   "file_extension": ".r",
   "mimetype": "text/x-r-source",
   "name": "R",
   "pygments_lexer": "r",
   "version": "3.5.1"
  }
 },
 "nbformat": 4,
 "nbformat_minor": 2
}

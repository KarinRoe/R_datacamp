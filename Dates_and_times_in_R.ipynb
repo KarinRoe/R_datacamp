{
 "cells": [
  {
   "cell_type": "code",
   "execution_count": 3,
   "metadata": {},
   "outputs": [],
   "source": [
    "# setting the graphic width and height for ggplot\n",
    "library(repr)\n",
    "options(repr.plot.width=6, repr.plot.height=4)\n",
    "\n",
    "library(dplyr)"
   ]
  },
  {
   "cell_type": "markdown",
   "metadata": {},
   "source": [
    "## as.Date()"
   ]
  },
  {
   "cell_type": "code",
   "execution_count": 1,
   "metadata": {},
   "outputs": [
    {
     "name": "stdout",
     "output_type": "stream",
     "text": [
      " chr \"2013-04-03\"\n",
      " Date[1:1], format: \"2013-04-03\"\n"
     ]
    }
   ],
   "source": [
    "# The date R 3.0.0 was released\n",
    "x <- \"2013-04-03\"\n",
    "\n",
    "# Examine structure of x\n",
    "str(x)\n",
    "\n",
    "# Use as.Date() to interpret x as a date\n",
    "x_date <- as.Date(x)\n",
    "\n",
    "# Examine structure of x_date\n",
    "str(x_date)\n",
    "\n",
    "# Store April 10 2014 as a Date\n",
    "april_10_2014 <- as.Date(\"2014-04-10\")"
   ]
  },
  {
   "cell_type": "markdown",
   "metadata": {},
   "source": [
    "## Automatic import\n",
    "\n",
    "Sometimes you'll need to input a couple of dates by hand using as.Date() but it's much more common to have a column of dates in a data file.\n",
    "\n",
    "Some functions that read in data will automatically recognize and parse dates in a variety of formats. In particular the import functions, like read_csv(), in the **readr** package will recognize dates in a few common formats.\n",
    "\n",
    "There is also the anytime() function in the **anytime** package whose sole goal is to automatically parse strings as dates regardless of the format."
   ]
  },
  {
   "cell_type": "code",
   "execution_count": 18,
   "metadata": {},
   "outputs": [
    {
     "name": "stderr",
     "output_type": "stream",
     "text": [
      "Parsed with column specification:\n",
      "cols(\n",
      "  major = col_integer(),\n",
      "  minor = col_integer(),\n",
      "  patch = col_integer(),\n",
      "  date = col_date(format = \"\"),\n",
      "  datetime = col_datetime(format = \"\"),\n",
      "  time = col_time(format = \"\"),\n",
      "  type = col_character()\n",
      ")\n"
     ]
    },
    {
     "name": "stdout",
     "output_type": "stream",
     "text": [
      " Date[1:105], format: \"1997-12-04\" \"1997-12-21\" \"1998-01-10\" \"1998-03-14\" \"1998-05-02\" ...\n"
     ]
    },
    {
     "data": {
      "text/plain": [
       "[1] \"2009-09-10 01:00:00 BST\" \"2009-09-10 01:00:00 BST\"\n",
       "[3] \"2009-09-10 01:00:00 BST\" \"2009-09-10 01:00:00 BST\""
      ]
     },
     "metadata": {},
     "output_type": "display_data"
    }
   ],
   "source": [
    "# Load the readr package\n",
    "library(readr)\n",
    "\n",
    "# Use read_csv() to import rversions.csv\n",
    "releases <- read_csv(\"rversions.csv\")\n",
    "\n",
    "# Examine the structure of the date column\n",
    "str(releases$date)\n",
    "\n",
    "# Load the anytime package\n",
    "library(anytime)\n",
    "\n",
    "# Various ways of writing Sep 10 2009\n",
    "sep_10_2009 <- c(\"September 10 2009\", \"2009-09-10\", \"10 Sep 2009\", \"09-10-2009\")\n",
    "\n",
    "# Use anytime() to parse sep_10_2009\n",
    "anytime(sep_10_2009)"
   ]
  },
  {
   "cell_type": "code",
   "execution_count": 10,
   "metadata": {},
   "outputs": [
    {
     "data": {},
     "metadata": {},
     "output_type": "display_data"
    },
    {
     "data": {
      "image/png": "[encoded data removed]",
      "text/plain": [
       "plot without title"
      ]
     },
     "metadata": {},
     "output_type": "display_data"
    }
   ],
   "source": [
    "library(ggplot2)\n",
    "\n",
    "# Set the x axis to the date column\n",
    "ggplot(releases, aes(x = date, y = type)) +\n",
    "  geom_line(aes(group = 1, color = factor(major)))"
   ]
  },
  {
   "cell_type": "code",
   "execution_count": 11,
   "metadata": {},
   "outputs": [
    {
     "name": "stderr",
     "output_type": "stream",
     "text": [
      "Warning message:\n",
      "\"Removed 87 rows containing missing values (geom_path).\""
     ]
    },
    {
     "data": {},
     "metadata": {},
     "output_type": "display_data"
    },
    {
     "data": {
      "image/png": "[encoded data removed]",
      "text/plain": [
       "plot without title"
      ]
     },
     "metadata": {},
     "output_type": "display_data"
    }
   ],
   "source": [
    "# Limit the axis to between 2010-01-01 and 2014-01-01\n",
    "ggplot(releases, aes(x = date, y = type)) +\n",
    "  geom_line(aes(group = 1, color = factor(major))) +\n",
    "  xlim(as.Date(\"2010-01-01\"), as.Date(\"2014-01-01\"))"
   ]
  },
  {
   "cell_type": "code",
   "execution_count": 12,
   "metadata": {},
   "outputs": [
    {
     "data": {},
     "metadata": {},
     "output_type": "display_data"
    },
    {
     "data": {
      "image/png": "[encoded data removed]",
      "text/plain": [
       "plot without title"
      ]
     },
     "metadata": {},
     "output_type": "display_data"
    }
   ],
   "source": [
    "# Specify breaks every ten years and labels with \"%Y\"\n",
    "ggplot(releases, aes(x = date, y = type)) +\n",
    "  geom_line(aes(group = 1, color = factor(major))) +\n",
    "  scale_x_date(date_breaks = \"10 years\", date_labels = \"%Y\")\n"
   ]
  },
  {
   "cell_type": "markdown",
   "metadata": {},
   "source": [
    "## Sys.Date()\n",
    "gives you the current date"
   ]
  },
  {
   "cell_type": "code",
   "execution_count": 19,
   "metadata": {},
   "outputs": [
    {
     "data": {
      "text/html": [
       "<table>\n",
       "<thead><tr><th scope=col>major</th><th scope=col>minor</th><th scope=col>patch</th><th scope=col>date</th><th scope=col>datetime</th><th scope=col>time</th><th scope=col>type</th></tr></thead>\n",
       "<tbody>\n",
       "\t<tr><td>3                  </td><td>4                  </td><td>1                  </td><td>2017-06-30         </td><td>2017-06-30 07:04:11</td><td>07:04:11           </td><td>patch              </td></tr>\n",
       "</tbody>\n",
       "</table>\n"
      ],
      "text/latex": [
       "\\begin{tabular}{r|lllllll}\n",
       " major & minor & patch & date & datetime & time & type\\\\\n",
       "\\hline\n",
       "\t 3                   & 4                   & 1                   & 2017-06-30          & 2017-06-30 07:04:11 & 07:04:11            & patch              \\\\\n",
       "\\end{tabular}\n"
      ],
      "text/markdown": [
       "\n",
       "major | minor | patch | date | datetime | time | type | \n",
       "|---|\n",
       "| 3                   | 4                   | 1                   | 2017-06-30          | 2017-06-30 07:04:11 | 07:04:11            | patch               | \n",
       "\n",
       "\n"
      ],
      "text/plain": [
       "  major minor patch date       datetime            time     type \n",
       "1 3     4     1     2017-06-30 2017-06-30 07:04:11 07:04:11 patch"
      ]
     },
     "metadata": {},
     "output_type": "display_data"
    },
    {
     "data": {
      "text/plain": [
       "Time difference of 480 days"
      ]
     },
     "metadata": {},
     "output_type": "display_data"
    }
   ],
   "source": [
    "# Find the largest date\n",
    "last_release_date <- max(releases$date)\n",
    "\n",
    "# Filter row for last release\n",
    "last_release <- filter(releases, date == last_release_date)\n",
    "\n",
    "# Print last_release\n",
    "last_release\n",
    "\n",
    "# How long since last release?\n",
    "Sys.Date() - last_release_date"
   ]
  },
  {
   "cell_type": "markdown",
   "metadata": {},
   "source": [
    "## Getting datetimes into R"
   ]
  },
  {
   "cell_type": "markdown",
   "metadata": {},
   "source": [
    "Finding out in which timezone you live:"
   ]
  },
  {
   "cell_type": "code",
   "execution_count": 21,
   "metadata": {},
   "outputs": [
    {
     "data": {
      "text/html": [
       "'Europe/London'"
      ],
      "text/latex": [
       "'Europe/London'"
      ],
      "text/markdown": [
       "'Europe/London'"
      ],
      "text/plain": [
       "[1] \"Europe/London\""
      ]
     },
     "metadata": {},
     "output_type": "display_data"
    }
   ],
   "source": [
    "Sys.timezone()"
   ]
  },
  {
   "cell_type": "code",
   "execution_count": 20,
   "metadata": {},
   "outputs": [
    {
     "data": {
      "text/plain": [
       "[1] \"2010-10-01 12:12:00 BST\""
      ]
     },
     "metadata": {},
     "output_type": "display_data"
    },
    {
     "data": {
      "text/plain": [
       "[1] \"2010-10-01 12:12:00 PDT\""
      ]
     },
     "metadata": {},
     "output_type": "display_data"
    },
    {
     "name": "stderr",
     "output_type": "stream",
     "text": [
      "Parsed with column specification:\n",
      "cols(\n",
      "  major = col_integer(),\n",
      "  minor = col_integer(),\n",
      "  patch = col_integer(),\n",
      "  date = col_date(format = \"\"),\n",
      "  datetime = col_datetime(format = \"\"),\n",
      "  time = col_time(format = \"\"),\n",
      "  type = col_character()\n",
      ")\n"
     ]
    },
    {
     "name": "stdout",
     "output_type": "stream",
     "text": [
      " POSIXct[1:105], format: \"1997-12-04 08:47:58\" \"1997-12-21 13:09:22\" \"1998-01-10 00:31:55\" ...\n"
     ]
    }
   ],
   "source": [
    "# Use as.POSIXct to enter the datetime \n",
    "as.POSIXct(\"2010-10-01 12:12:00\")\n",
    "\n",
    "# Use as.POSIXct again but set the timezone to `\"America/Los_Angeles\"`\n",
    "as.POSIXct(\"2010-10-01 12:12:00\", tz = \"America/Los_Angeles\")\n",
    "\n",
    "# Use read_csv to import rversions.csv\n",
    "releases <- read_csv(\"rversions.csv\")\n",
    "\n",
    "# Examine structure of datetime column\n",
    "str(releases$datetime)"
   ]
  },
  {
   "cell_type": "code",
   "execution_count": 30,
   "metadata": {},
   "outputs": [
    {
     "name": "stderr",
     "output_type": "stream",
     "text": [
      "Parsed with column specification:\n",
      "cols(\n",
      "  datetime = col_datetime(format = \"\"),\n",
      "  r_version = col_character(),\n",
      "  country = col_character()\n",
      ")\n"
     ]
    },
    {
     "data": {
      "text/html": [
       "<table>\n",
       "<thead><tr><th scope=col>datetime</th><th scope=col>r_version</th><th scope=col>country</th></tr></thead>\n",
       "<tbody>\n",
       "\t<tr><td>2015-04-16 22:40:19</td><td>3.1.3              </td><td>CO                 </td></tr>\n",
       "\t<tr><td>2015-04-16 09:11:04</td><td>3.1.3              </td><td>GB                 </td></tr>\n",
       "\t<tr><td>2015-04-16 17:12:37</td><td>3.1.3              </td><td>DE                 </td></tr>\n",
       "\t<tr><td>2015-04-18 12:34:43</td><td>3.2.0              </td><td>GB                 </td></tr>\n",
       "\t<tr><td>2015-04-16 04:49:18</td><td>3.1.3              </td><td>PE                 </td></tr>\n",
       "\t<tr><td>2015-04-16 06:40:44</td><td>3.1.3              </td><td>TW                 </td></tr>\n",
       "</tbody>\n",
       "</table>\n"
      ],
      "text/latex": [
       "\\begin{tabular}{r|lll}\n",
       " datetime & r\\_version & country\\\\\n",
       "\\hline\n",
       "\t 2015-04-16 22:40:19 & 3.1.3               & CO                 \\\\\n",
       "\t 2015-04-16 09:11:04 & 3.1.3               & GB                 \\\\\n",
       "\t 2015-04-16 17:12:37 & 3.1.3               & DE                 \\\\\n",
       "\t 2015-04-18 12:34:43 & 3.2.0               & GB                 \\\\\n",
       "\t 2015-04-16 04:49:18 & 3.1.3               & PE                 \\\\\n",
       "\t 2015-04-16 06:40:44 & 3.1.3               & TW                 \\\\\n",
       "\\end{tabular}\n"
      ],
      "text/markdown": [
       "\n",
       "datetime | r_version | country | \n",
       "|---|---|---|---|---|---|\n",
       "| 2015-04-16 22:40:19 | 3.1.3               | CO                  | \n",
       "| 2015-04-16 09:11:04 | 3.1.3               | GB                  | \n",
       "| 2015-04-16 17:12:37 | 3.1.3               | DE                  | \n",
       "| 2015-04-18 12:34:43 | 3.2.0               | GB                  | \n",
       "| 2015-04-16 04:49:18 | 3.1.3               | PE                  | \n",
       "| 2015-04-16 06:40:44 | 3.1.3               | TW                  | \n",
       "\n",
       "\n"
      ],
      "text/plain": [
       "  datetime            r_version country\n",
       "1 2015-04-16 22:40:19 3.1.3     CO     \n",
       "2 2015-04-16 09:11:04 3.1.3     GB     \n",
       "3 2015-04-16 17:12:37 3.1.3     DE     \n",
       "4 2015-04-18 12:34:43 3.2.0     GB     \n",
       "5 2015-04-16 04:49:18 3.1.3     PE     \n",
       "6 2015-04-16 06:40:44 3.1.3     TW     "
      ]
     },
     "metadata": {},
     "output_type": "display_data"
    },
    {
     "data": {
      "text/html": [
       "<table>\n",
       "<thead><tr><th scope=col>datetime</th><th scope=col>r_version</th><th scope=col>country</th></tr></thead>\n",
       "<tbody>\n",
       "\t<tr><td>2015-04-18 12:34:43</td><td>3.2.0              </td><td>GB                 </td></tr>\n",
       "</tbody>\n",
       "</table>\n"
      ],
      "text/latex": [
       "\\begin{tabular}{r|lll}\n",
       " datetime & r\\_version & country\\\\\n",
       "\\hline\n",
       "\t 2015-04-18 12:34:43 & 3.2.0               & GB                 \\\\\n",
       "\\end{tabular}\n"
      ],
      "text/markdown": [
       "\n",
       "datetime | r_version | country | \n",
       "|---|\n",
       "| 2015-04-18 12:34:43 | 3.2.0               | GB                  | \n",
       "\n",
       "\n"
      ],
      "text/plain": [
       "  datetime            r_version country\n",
       "1 2015-04-18 12:34:43 3.2.0     GB     "
      ]
     },
     "metadata": {},
     "output_type": "display_data"
    }
   ],
   "source": [
    "# Import \"cran-logs_2015-04-17.csv\" with read_csv()\n",
    "logs <- read_csv(\"cran-logs_2015-04-17.csv\")\n",
    "\n",
    "# Print logs\n",
    "head(logs)\n",
    "\n",
    "# Store the release time as a POSIXct object\n",
    "release_time <-as.POSIXct(\"2015-04-16 07:13:33\", tz = \"UTC\")\n",
    "\n",
    "# When is the first download of 3.2.0?\n",
    "head(logs %>% \n",
    "  filter(datetime > release_time,\n",
    "    r_version == \"3.2.0\"),1)"
   ]
  },
  {
   "cell_type": "code",
   "execution_count": 25,
   "metadata": {},
   "outputs": [
    {
     "name": "stderr",
     "output_type": "stream",
     "text": [
      "`stat_bin()` using `bins = 30`. Pick better value with `binwidth`.\n"
     ]
    },
    {
     "data": {},
     "metadata": {},
     "output_type": "display_data"
    },
    {
     "data": {
      "image/png": "[encoded data removed]",
      "text/plain": [
       "plot without title"
      ]
     },
     "metadata": {},
     "output_type": "display_data"
    }
   ],
   "source": [
    "# Examine histograms of downloads by version\n",
    "ggplot(logs, aes(x = datetime)) +\n",
    "  geom_histogram() +\n",
    "  geom_vline(aes(xintercept = as.numeric(release_time)))+\n",
    "  facet_wrap(~ r_version, ncol = 1)"
   ]
  },
  {
   "cell_type": "markdown",
   "metadata": {},
   "source": [
    "## lubridate"
   ]
  },
  {
   "cell_type": "code",
   "execution_count": 5,
   "metadata": {},
   "outputs": [
    {
     "data": {
      "text/html": [
       "<time datetime=\"2010-09-20\">2010-09-20</time>"
      ],
      "text/latex": [
       "2010-09-20"
      ],
      "text/markdown": [
       "2010-09-20"
      ],
      "text/plain": [
       "[1] \"2010-09-20\""
      ]
     },
     "metadata": {},
     "output_type": "display_data"
    },
    {
     "data": {
      "text/html": [
       "<time datetime=\"2010-01-02\">2010-01-02</time>"
      ],
      "text/latex": [
       "2010-01-02"
      ],
      "text/markdown": [
       "2010-01-02"
      ],
      "text/plain": [
       "[1] \"2010-01-02\""
      ]
     },
     "metadata": {},
     "output_type": "display_data"
    },
    {
     "data": {
      "text/plain": [
       "[1] \"2010-09-12 14:00:00 UTC\""
      ]
     },
     "metadata": {},
     "output_type": "display_data"
    }
   ],
   "source": [
    "library(lubridate)\n",
    "\n",
    "# Parse x \n",
    "x <- \"2010 September 20th\" # 2010-09-20\n",
    "ymd(x)\n",
    "\n",
    "# Parse y \n",
    "y <- \"02.01.2010\"  # 2010-01-02\n",
    "dmy(y)\n",
    "\n",
    "# Parse z \n",
    "z <- \"Sep, 12th 2010 14:00\"  # 2010-09-12T14:00\n",
    "mdy_hm(z)"
   ]
  },
  {
   "cell_type": "code",
   "execution_count": 36,
   "metadata": {},
   "outputs": [
    {
     "data": {
      "text/plain": [
       "[1] \"2001-10-07 UTC\" \"2002-10-13 UTC\" \"2003-04-13 UTC\" \"2005-04-17 UTC\"\n",
       "[5] \"2017-04-23 UTC\""
      ]
     },
     "metadata": {},
     "output_type": "display_data"
    },
    {
     "data": {
      "text/plain": [
       "[1] \"1282-12-11 UTC\" \"1372-05-01 UTC\" \"1253-01-01 UTC\""
      ]
     },
     "metadata": {},
     "output_type": "display_data"
    }
   ],
   "source": [
    "# Specify order to include both \"mdy\" and \"dmy\"\n",
    "two_orders <- c(\"October 7, 2001\", \"October 13, 2002\", \"April 13, 2003\", \n",
    "  \"17 April 2005\", \"23 April 2017\")\n",
    "parse_date_time(two_orders, orders = c(\"mdy\", \"dmy\"))\n",
    "\n",
    "# Specify order to include \"dOmY\", \"OmY\" and \"Y\"\n",
    "short_dates <- c(\"11 December 1282\", \"May 1372\", \"1253\")\n",
    "parse_date_time(short_dates, orders = c(\"dOmY\", \"OmY\", \"Y\"))\n"
   ]
  },
  {
   "cell_type": "code",
   "execution_count": 38,
   "metadata": {},
   "outputs": [
    {
     "name": "stderr",
     "output_type": "stream",
     "text": [
      "Parsed with column specification:\n",
      "cols(\n",
      "  date = col_character(),\n",
      "  max_temp = col_integer(),\n",
      "  min_temp = col_integer(),\n",
      "  mean_temp = col_integer(),\n",
      "  mean_rh = col_integer(),\n",
      "  events = col_character(),\n",
      "  cloud_cover = col_integer()\n",
      ")\n"
     ]
    },
    {
     "name": "stdout",
     "output_type": "stream",
     "text": [
      "Observations: 3,661\n",
      "Variables: 7\n",
      "$ date        <chr> \"2007-9-1\", \"2007-9-2\", \"2007-9-3\", \"2007-9-4\", \"2007-9...\n",
      "$ max_temp    <int> 60, 60, 57, 64, 53, 57, 59, 59, 55, 59, 57, 59, 62, 62,...\n",
      "$ min_temp    <int> 51, 53, 51, 50, 48, 42, 41, 46, 50, 50, 50, 42, 44, 51,...\n",
      "$ mean_temp   <int> 56, 56, 54, 57, 50, 50, 50, 52, 52, 54, 54, 50, 53, 56,...\n",
      "$ mean_rh     <int> 75, 82, 78, 80, 90, 69, 77, 80, 88, 82, 78, 78, 77, 78,...\n",
      "$ events      <chr> NA, \"Rain\", NA, \"Rain\", \"Rain\", NA, NA, NA, \"Rain\", \"Ra...\n",
      "$ cloud_cover <int> 4, 4, 6, 6, 7, 1, 4, 5, 7, 4, 3, 2, 4, 5, 4, 6, 4, 4, 4...\n",
      "Observations: 3,661\n",
      "Variables: 7\n",
      "$ date        <date> 2007-09-01, 2007-09-02, 2007-09-03, 2007-09-04, 2007-0...\n",
      "$ max_temp    <int> 60, 60, 57, 64, 53, 57, 59, 59, 55, 59, 57, 59, 62, 62,...\n",
      "$ min_temp    <int> 51, 53, 51, 50, 48, 42, 41, 46, 50, 50, 50, 42, 44, 51,...\n",
      "$ mean_temp   <int> 56, 56, 54, 57, 50, 50, 50, 52, 52, 54, 54, 50, 53, 56,...\n",
      "$ mean_rh     <int> 75, 82, 78, 80, 90, 69, 77, 80, 88, 82, 78, 78, 77, 78,...\n",
      "$ events      <chr> NA, \"Rain\", NA, \"Rain\", \"Rain\", NA, NA, NA, \"Rain\", \"Ra...\n",
      "$ cloud_cover <int> 4, 4, 6, 6, 7, 1, 4, 5, 7, 4, 3, 2, 4, 5, 4, 6, 4, 4, 4...\n"
     ]
    }
   ],
   "source": [
    "library(lubridate)\n",
    "library(readr)\n",
    "library(dplyr)\n",
    "library(ggplot2)\n",
    "\n",
    "# Import CSV with read_csv()\n",
    "akl_daily_raw <- read_csv(\"akl_weather_daily.csv\")\n",
    "\n",
    "# akl_daily_raw\n",
    "glimpse(akl_daily_raw)\n",
    "\n",
    "# Parse date \n",
    "akl_daily <- akl_daily_raw %>%\n",
    "  mutate(date = ymd(date))\n",
    "\n",
    "# akl_daily\n",
    "glimpse(akl_daily)"
   ]
  },
  {
   "cell_type": "code",
   "execution_count": 39,
   "metadata": {},
   "outputs": [
    {
     "name": "stderr",
     "output_type": "stream",
     "text": [
      "Warning message:\n",
      "\"Removed 1 rows containing missing values (geom_path).\""
     ]
    },
    {
     "data": {},
     "metadata": {},
     "output_type": "display_data"
    },
    {
     "data": {
      "image/png": "[encoded data removed]",
      "text/plain": [
       "plot without title"
      ]
     },
     "metadata": {},
     "output_type": "display_data"
    }
   ],
   "source": [
    "# Plot to check work\n",
    "ggplot(akl_daily, aes(x = date, y = max_temp)) +\n",
    "  geom_line() "
   ]
  },
  {
   "cell_type": "code",
   "execution_count": 5,
   "metadata": {},
   "outputs": [
    {
     "name": "stderr",
     "output_type": "stream",
     "text": [
      "Parsed with column specification:\n",
      "cols(\n",
      "  year = col_integer(),\n",
      "  month = col_integer(),\n",
      "  mday = col_integer(),\n",
      "  time = col_time(format = \"\"),\n",
      "  temperature = col_double(),\n",
      "  weather = col_character(),\n",
      "  conditions = col_character(),\n",
      "  events = col_character(),\n",
      "  humidity = col_integer(),\n",
      "  date_utc = col_datetime(format = \"\")\n",
      ")\n"
     ]
    },
    {
     "data": {
      "text/html": [
       "<table>\n",
       "<thead><tr><th scope=col>year</th><th scope=col>month</th><th scope=col>mday</th><th scope=col>time</th><th scope=col>temperature</th><th scope=col>weather</th><th scope=col>conditions</th><th scope=col>events</th><th scope=col>humidity</th><th scope=col>date_utc</th></tr></thead>\n",
       "<tbody>\n",
       "\t<tr><td>2016               </td><td>1                  </td><td>1                  </td><td>00:00:00           </td><td>68                 </td><td>Clear              </td><td>Clear              </td><td>NA                 </td><td>68                 </td><td>2015-12-31 11:00:00</td></tr>\n",
       "\t<tr><td>2016               </td><td>1                  </td><td>1                  </td><td>00:30:00           </td><td>68                 </td><td>Clear              </td><td>Clear              </td><td>NA                 </td><td>68                 </td><td>2015-12-31 11:30:00</td></tr>\n",
       "\t<tr><td>2016               </td><td>1                  </td><td>1                  </td><td>01:00:00           </td><td>68                 </td><td>Clear              </td><td>Clear              </td><td>NA                 </td><td>73                 </td><td>2015-12-31 12:00:00</td></tr>\n",
       "\t<tr><td>2016               </td><td>1                  </td><td>1                  </td><td>01:30:00           </td><td>68                 </td><td>Clear              </td><td>Clear              </td><td>NA                 </td><td>68                 </td><td>2015-12-31 12:30:00</td></tr>\n",
       "\t<tr><td>2016               </td><td>1                  </td><td>1                  </td><td>02:00:00           </td><td>68                 </td><td>Clear              </td><td>Clear              </td><td>NA                 </td><td>68                 </td><td>2015-12-31 13:00:00</td></tr>\n",
       "\t<tr><td>2016               </td><td>1                  </td><td>1                  </td><td>02:30:00           </td><td>68                 </td><td>Clear              </td><td>Clear              </td><td>NA                 </td><td>68                 </td><td>2015-12-31 13:30:00</td></tr>\n",
       "</tbody>\n",
       "</table>\n"
      ],
      "text/latex": [
       "\\begin{tabular}{r|llllllllll}\n",
       " year & month & mday & time & temperature & weather & conditions & events & humidity & date\\_utc\\\\\n",
       "\\hline\n",
       "\t 2016                & 1                   & 1                   & 00:00:00            & 68                  & Clear               & Clear               & NA                  & 68                  & 2015-12-31 11:00:00\\\\\n",
       "\t 2016                & 1                   & 1                   & 00:30:00            & 68                  & Clear               & Clear               & NA                  & 68                  & 2015-12-31 11:30:00\\\\\n",
       "\t 2016                & 1                   & 1                   & 01:00:00            & 68                  & Clear               & Clear               & NA                  & 73                  & 2015-12-31 12:00:00\\\\\n",
       "\t 2016                & 1                   & 1                   & 01:30:00            & 68                  & Clear               & Clear               & NA                  & 68                  & 2015-12-31 12:30:00\\\\\n",
       "\t 2016                & 1                   & 1                   & 02:00:00            & 68                  & Clear               & Clear               & NA                  & 68                  & 2015-12-31 13:00:00\\\\\n",
       "\t 2016                & 1                   & 1                   & 02:30:00            & 68                  & Clear               & Clear               & NA                  & 68                  & 2015-12-31 13:30:00\\\\\n",
       "\\end{tabular}\n"
      ],
      "text/markdown": [
       "\n",
       "year | month | mday | time | temperature | weather | conditions | events | humidity | date_utc | \n",
       "|---|---|---|---|---|---|\n",
       "| 2016                | 1                   | 1                   | 00:00:00            | 68                  | Clear               | Clear               | NA                  | 68                  | 2015-12-31 11:00:00 | \n",
       "| 2016                | 1                   | 1                   | 00:30:00            | 68                  | Clear               | Clear               | NA                  | 68                  | 2015-12-31 11:30:00 | \n",
       "| 2016                | 1                   | 1                   | 01:00:00            | 68                  | Clear               | Clear               | NA                  | 73                  | 2015-12-31 12:00:00 | \n",
       "| 2016                | 1                   | 1                   | 01:30:00            | 68                  | Clear               | Clear               | NA                  | 68                  | 2015-12-31 12:30:00 | \n",
       "| 2016                | 1                   | 1                   | 02:00:00            | 68                  | Clear               | Clear               | NA                  | 68                  | 2015-12-31 13:00:00 | \n",
       "| 2016                | 1                   | 1                   | 02:30:00            | 68                  | Clear               | Clear               | NA                  | 68                  | 2015-12-31 13:30:00 | \n",
       "\n",
       "\n"
      ],
      "text/plain": [
       "  year month mday time     temperature weather conditions events humidity\n",
       "1 2016 1     1    00:00:00 68          Clear   Clear      NA     68      \n",
       "2 2016 1     1    00:30:00 68          Clear   Clear      NA     68      \n",
       "3 2016 1     1    01:00:00 68          Clear   Clear      NA     73      \n",
       "4 2016 1     1    01:30:00 68          Clear   Clear      NA     68      \n",
       "5 2016 1     1    02:00:00 68          Clear   Clear      NA     68      \n",
       "6 2016 1     1    02:30:00 68          Clear   Clear      NA     68      \n",
       "  date_utc           \n",
       "1 2015-12-31 11:00:00\n",
       "2 2015-12-31 11:30:00\n",
       "3 2015-12-31 12:00:00\n",
       "4 2015-12-31 12:30:00\n",
       "5 2015-12-31 13:00:00\n",
       "6 2015-12-31 13:30:00"
      ]
     },
     "metadata": {},
     "output_type": "display_data"
    },
    {
     "data": {
      "text/html": [
       "<table>\n",
       "<thead><tr><th scope=col>date</th><th scope=col>time</th><th scope=col>datetime</th></tr></thead>\n",
       "<tbody>\n",
       "\t<tr><td>2016-01-01         </td><td>00:00:00           </td><td>2016-01-01 00:00:00</td></tr>\n",
       "\t<tr><td>2016-01-01         </td><td>00:30:00           </td><td>2016-01-01 00:30:00</td></tr>\n",
       "\t<tr><td>2016-01-01         </td><td>01:00:00           </td><td>2016-01-01 01:00:00</td></tr>\n",
       "\t<tr><td>2016-01-01         </td><td>01:30:00           </td><td>2016-01-01 01:30:00</td></tr>\n",
       "\t<tr><td>2016-01-01         </td><td>02:00:00           </td><td>2016-01-01 02:00:00</td></tr>\n",
       "\t<tr><td>2016-01-01         </td><td>02:30:00           </td><td>2016-01-01 02:30:00</td></tr>\n",
       "</tbody>\n",
       "</table>\n"
      ],
      "text/latex": [
       "\\begin{tabular}{r|lll}\n",
       " date & time & datetime\\\\\n",
       "\\hline\n",
       "\t 2016-01-01          & 00:00:00            & 2016-01-01 00:00:00\\\\\n",
       "\t 2016-01-01          & 00:30:00            & 2016-01-01 00:30:00\\\\\n",
       "\t 2016-01-01          & 01:00:00            & 2016-01-01 01:00:00\\\\\n",
       "\t 2016-01-01          & 01:30:00            & 2016-01-01 01:30:00\\\\\n",
       "\t 2016-01-01          & 02:00:00            & 2016-01-01 02:00:00\\\\\n",
       "\t 2016-01-01          & 02:30:00            & 2016-01-01 02:30:00\\\\\n",
       "\\end{tabular}\n"
      ],
      "text/markdown": [
       "\n",
       "date | time | datetime | \n",
       "|---|---|---|---|---|---|\n",
       "| 2016-01-01          | 00:00:00            | 2016-01-01 00:00:00 | \n",
       "| 2016-01-01          | 00:30:00            | 2016-01-01 00:30:00 | \n",
       "| 2016-01-01          | 01:00:00            | 2016-01-01 01:00:00 | \n",
       "| 2016-01-01          | 01:30:00            | 2016-01-01 01:30:00 | \n",
       "| 2016-01-01          | 02:00:00            | 2016-01-01 02:00:00 | \n",
       "| 2016-01-01          | 02:30:00            | 2016-01-01 02:30:00 | \n",
       "\n",
       "\n"
      ],
      "text/plain": [
       "  date       time     datetime           \n",
       "1 2016-01-01 00:00:00 2016-01-01 00:00:00\n",
       "2 2016-01-01 00:30:00 2016-01-01 00:30:00\n",
       "3 2016-01-01 01:00:00 2016-01-01 01:00:00\n",
       "4 2016-01-01 01:30:00 2016-01-01 01:30:00\n",
       "5 2016-01-01 02:00:00 2016-01-01 02:00:00\n",
       "6 2016-01-01 02:30:00 2016-01-01 02:30:00"
      ]
     },
     "metadata": {},
     "output_type": "display_data"
    }
   ],
   "source": [
    "# Import \"akl_weather_hourly_2016.csv\"\n",
    "akl_hourly_raw <- read_csv(\"akl_weather_hourly_2016.csv\")\n",
    "\n",
    "# Print akl_hourly_raw\n",
    "head(akl_hourly_raw)\n",
    "\n",
    "# Use make_date() to combine year, month and mday \n",
    "akl_hourly  <- akl_hourly_raw  %>% \n",
    "  mutate(date = make_date(year = year, month = month, day = mday))\n",
    "\n",
    "# Parse datetime_string \n",
    "akl_hourly <- akl_hourly  %>% \n",
    "  mutate(\n",
    "    datetime_string = paste(date, time, sep = \"T\"),\n",
    "    datetime = ymd_hms(datetime_string)\n",
    "  )\n",
    "\n",
    "# Print date, time and datetime columns of akl_hourly\n",
    "head(akl_hourly %>% select(date, time, datetime))\n"
   ]
  },
  {
   "cell_type": "code",
   "execution_count": 41,
   "metadata": {},
   "outputs": [
    {
     "data": {},
     "metadata": {},
     "output_type": "display_data"
    },
    {
     "data": {
      "image/png": "[encoded data removed]",
      "text/plain": [
       "plot without title"
      ]
     },
     "metadata": {},
     "output_type": "display_data"
    }
   ],
   "source": [
    "# Plot to check work\n",
    "ggplot(akl_hourly, aes(x = datetime, y = temperature)) +\n",
    "  geom_line()\n"
   ]
  },
  {
   "cell_type": "code",
   "execution_count": 45,
   "metadata": {},
   "outputs": [
    {
     "data": {
      "text/plain": [
       ".\n",
       " 1  2  3  4  5  6  7 \n",
       " 3 29  9 12 18 31  3 "
      ]
     },
     "metadata": {},
     "output_type": "display_data"
    },
    {
     "data": {
      "text/plain": [
       ".\n",
       "So Mo Di Mi Do Fr Sa \n",
       " 3 29  9 12 18 31  3 "
      ]
     },
     "metadata": {},
     "output_type": "display_data"
    }
   ],
   "source": [
    "library(ggplot2)\n",
    "\n",
    "# Use wday() to tabulate release by day of the week\n",
    "wday(releases$datetime) %>% table()\n",
    "\n",
    "# Add label = TRUE to make table more readable\n",
    "wday(releases$datetime, label = TRUE) %>% table()\n",
    "\n",
    "# Create column wday to hold labelled week days\n",
    "releases$wday <- wday(releases$datetime, label = TRUE)\n"
   ]
  },
  {
   "cell_type": "code",
   "execution_count": 46,
   "metadata": {},
   "outputs": [
    {
     "data": {},
     "metadata": {},
     "output_type": "display_data"
    },
    {
     "data": {
      "image/png": "[encoded data removed]",
      "text/plain": [
       "plot without title"
      ]
     },
     "metadata": {},
     "output_type": "display_data"
    }
   ],
   "source": [
    "# Plot barchart of weekday by type of release\n",
    "ggplot(releases, aes(x = wday)) +\n",
    "  geom_bar() +\n",
    "  facet_wrap(~ type, ncol = 1, scale = \"free_y\")"
   ]
  },
  {
   "cell_type": "code",
   "execution_count": 49,
   "metadata": {},
   "outputs": [
    {
     "name": "stderr",
     "output_type": "stream",
     "text": [
      "\n",
      "Attaching package: 'ggridges'\n",
      "\n",
      "The following object is masked from 'package:ggplot2':\n",
      "\n",
      "    scale_discrete_manual\n",
      "\n"
     ]
    }
   ],
   "source": [
    "library(ggplot2)\n",
    "library(dplyr)\n",
    "library(ggridges)\n",
    "\n",
    "# Add columns for year, yday and month\n",
    "akl_daily <- akl_daily %>%\n",
    "  mutate(\n",
    "    year = year(date),\n",
    "    yday = yday(date),\n",
    "    month = month(date, label = TRUE))"
   ]
  },
  {
   "cell_type": "code",
   "execution_count": 50,
   "metadata": {},
   "outputs": [
    {
     "name": "stderr",
     "output_type": "stream",
     "text": [
      "Warning message:\n",
      "\"Removed 1 rows containing missing values (geom_path).\""
     ]
    },
    {
     "data": {},
     "metadata": {},
     "output_type": "display_data"
    },
    {
     "data": {
      "image/png": "[encoded data removed]",
      "text/plain": [
       "plot without title"
      ]
     },
     "metadata": {},
     "output_type": "display_data"
    }
   ],
   "source": [
    "# Plot max_temp by yday for all years\n",
    "ggplot(akl_daily, aes(x = yday, y = max_temp)) +\n",
    "  geom_line(aes(group = year), alpha = 0.5)"
   ]
  },
  {
   "cell_type": "code",
   "execution_count": 51,
   "metadata": {},
   "outputs": [
    {
     "name": "stderr",
     "output_type": "stream",
     "text": [
      "Warning message:\n",
      "\"Removed 10 rows containing non-finite values (stat_density).\""
     ]
    },
    {
     "data": {},
     "metadata": {},
     "output_type": "display_data"
    },
    {
     "data": {
      "image/png": "[encoded data removed]",
      "text/plain": [
       "plot without title"
      ]
     },
     "metadata": {},
     "output_type": "display_data"
    }
   ],
   "source": [
    "# Examine distribtion of max_temp by month\n",
    "ggplot(akl_daily, aes(x = max_temp, y = month, height = ..density..)) +\n",
    "  geom_density_ridges(stat = \"density\")"
   ]
  },
  {
   "cell_type": "code",
   "execution_count": 53,
   "metadata": {},
   "outputs": [
    {
     "data": {
      "text/html": [
       "<table>\n",
       "<thead><tr><th scope=col>month</th><th scope=col>days_rainy</th></tr></thead>\n",
       "<tbody>\n",
       "\t<tr><td>Jan</td><td>15 </td></tr>\n",
       "\t<tr><td>Feb</td><td>13 </td></tr>\n",
       "\t<tr><td>Mrz</td><td>12 </td></tr>\n",
       "\t<tr><td>Apr</td><td>15 </td></tr>\n",
       "\t<tr><td>Mai</td><td>21 </td></tr>\n",
       "\t<tr><td>Jun</td><td>19 </td></tr>\n",
       "\t<tr><td>Jul</td><td>22 </td></tr>\n",
       "\t<tr><td>Aug</td><td>16 </td></tr>\n",
       "\t<tr><td>Sep</td><td>25 </td></tr>\n",
       "\t<tr><td>Okt</td><td>20 </td></tr>\n",
       "\t<tr><td>Nov</td><td>19 </td></tr>\n",
       "\t<tr><td>Dez</td><td>11 </td></tr>\n",
       "</tbody>\n",
       "</table>\n"
      ],
      "text/latex": [
       "\\begin{tabular}{r|ll}\n",
       " month & days\\_rainy\\\\\n",
       "\\hline\n",
       "\t Jan & 15 \\\\\n",
       "\t Feb & 13 \\\\\n",
       "\t Mrz & 12 \\\\\n",
       "\t Apr & 15 \\\\\n",
       "\t Mai & 21 \\\\\n",
       "\t Jun & 19 \\\\\n",
       "\t Jul & 22 \\\\\n",
       "\t Aug & 16 \\\\\n",
       "\t Sep & 25 \\\\\n",
       "\t Okt & 20 \\\\\n",
       "\t Nov & 19 \\\\\n",
       "\t Dez & 11 \\\\\n",
       "\\end{tabular}\n"
      ],
      "text/markdown": [
       "\n",
       "month | days_rainy | \n",
       "|---|---|---|---|---|---|---|---|---|---|---|---|\n",
       "| Jan | 15  | \n",
       "| Feb | 13  | \n",
       "| Mrz | 12  | \n",
       "| Apr | 15  | \n",
       "| Mai | 21  | \n",
       "| Jun | 19  | \n",
       "| Jul | 22  | \n",
       "| Aug | 16  | \n",
       "| Sep | 25  | \n",
       "| Okt | 20  | \n",
       "| Nov | 19  | \n",
       "| Dez | 11  | \n",
       "\n",
       "\n"
      ],
      "text/plain": [
       "   month days_rainy\n",
       "1  Jan   15        \n",
       "2  Feb   13        \n",
       "3  Mrz   12        \n",
       "4  Apr   15        \n",
       "5  Mai   21        \n",
       "6  Jun   19        \n",
       "7  Jul   22        \n",
       "8  Aug   16        \n",
       "9  Sep   25        \n",
       "10 Okt   20        \n",
       "11 Nov   19        \n",
       "12 Dez   11        "
      ]
     },
     "metadata": {},
     "output_type": "display_data"
    }
   ],
   "source": [
    "# Create new columns hour, month and rainy\n",
    "akl_hourly <- akl_hourly %>%\n",
    "  mutate(\n",
    "    hour = hour(datetime),\n",
    "    month = month(datetime, label = TRUE),\n",
    "    rainy = weather == \"Precipitation\"\n",
    "  )\n",
    "\n",
    "# Filter for hours between 8am and 10pm (inclusive)\n",
    "akl_day <- akl_hourly %>% \n",
    "  filter(hour >= 8, hour <= 22)\n",
    "\n",
    "# Summarise for each date if there is any rain\n",
    "rainy_days <- akl_day %>% \n",
    "  group_by(month, date) %>%\n",
    "  summarise(\n",
    "    any_rain = any(rainy)\n",
    "  )\n",
    "\n",
    "# Summarise for each month, the number of days with rain\n",
    "rainy_days %>% \n",
    "  summarise(\n",
    "    days_rainy = sum(any_rain)\n",
    "  )"
   ]
  },
  {
   "cell_type": "markdown",
   "metadata": {},
   "source": [
    "## Practice rounding\n",
    "\n",
    "As you saw in the video, round_date() rounds a date to the nearest value, floor_date() rounds down, and ceiling_date() rounds up.\n",
    "\n",
    "All three take a unit argument which specifies the resolution of rounding. You can specify \"second\", \"minute\", \"hour\", \"day\", \"week\", \"month\", \"bimonth\", \"quarter\", \"halfyear\", or \"year\". Or, you can specify any multiple of those units, e.g. \"5 years\", \"3 minutes\" etc."
   ]
  },
  {
   "cell_type": "code",
   "execution_count": 54,
   "metadata": {},
   "outputs": [
    {
     "data": {
      "text/plain": [
       "[1] \"2016-05-03 UTC\""
      ]
     },
     "metadata": {},
     "output_type": "display_data"
    },
    {
     "data": {
      "text/plain": [
       "[1] \"2016-05-03 07:15:00 UTC\""
      ]
     },
     "metadata": {},
     "output_type": "display_data"
    },
    {
     "data": {
      "text/plain": [
       "[1] \"2016-05-08 UTC\""
      ]
     },
     "metadata": {},
     "output_type": "display_data"
    },
    {
     "data": {
      "text/plain": [
       "Time difference of 7.224444 hours"
      ]
     },
     "metadata": {},
     "output_type": "display_data"
    }
   ],
   "source": [
    "r_3_4_1 <- ymd_hms(\"2016-05-03 07:13:28 UTC\")\n",
    "\n",
    "# Round down to day\n",
    "floor_date(r_3_4_1, unit = \"day\")\n",
    "\n",
    "# Round to nearest 5 minutes\n",
    "round_date(r_3_4_1, unit = \"5 minutes\")\n",
    "\n",
    "# Round up to week \n",
    "ceiling_date(r_3_4_1, unit = \"week\")\n",
    "\n",
    "# Subtract r_3_4_1 rounded down to day\n",
    "r_3_4_1 - floor_date(r_3_4_1, unit = \"day\")"
   ]
  },
  {
   "cell_type": "code",
   "execution_count": 56,
   "metadata": {},
   "outputs": [
    {
     "data": {
      "text/html": [
       "<table>\n",
       "<thead><tr><th scope=col>day_hour</th><th scope=col>n</th></tr></thead>\n",
       "<tbody>\n",
       "\t<tr><td>2016-01-01 00:00:00</td><td>2                  </td></tr>\n",
       "\t<tr><td>2016-01-01 01:00:00</td><td>2                  </td></tr>\n",
       "\t<tr><td>2016-01-01 02:00:00</td><td>2                  </td></tr>\n",
       "\t<tr><td>2016-01-01 03:00:00</td><td>2                  </td></tr>\n",
       "\t<tr><td>2016-01-01 04:00:00</td><td>2                  </td></tr>\n",
       "\t<tr><td>2016-01-01 05:00:00</td><td>2                  </td></tr>\n",
       "</tbody>\n",
       "</table>\n"
      ],
      "text/latex": [
       "\\begin{tabular}{r|ll}\n",
       " day\\_hour & n\\\\\n",
       "\\hline\n",
       "\t 2016-01-01 00:00:00 & 2                  \\\\\n",
       "\t 2016-01-01 01:00:00 & 2                  \\\\\n",
       "\t 2016-01-01 02:00:00 & 2                  \\\\\n",
       "\t 2016-01-01 03:00:00 & 2                  \\\\\n",
       "\t 2016-01-01 04:00:00 & 2                  \\\\\n",
       "\t 2016-01-01 05:00:00 & 2                  \\\\\n",
       "\\end{tabular}\n"
      ],
      "text/markdown": [
       "\n",
       "day_hour | n | \n",
       "|---|---|---|---|---|---|\n",
       "| 2016-01-01 00:00:00 | 2                   | \n",
       "| 2016-01-01 01:00:00 | 2                   | \n",
       "| 2016-01-01 02:00:00 | 2                   | \n",
       "| 2016-01-01 03:00:00 | 2                   | \n",
       "| 2016-01-01 04:00:00 | 2                   | \n",
       "| 2016-01-01 05:00:00 | 2                   | \n",
       "\n",
       "\n"
      ],
      "text/plain": [
       "  day_hour            n\n",
       "1 2016-01-01 00:00:00 2\n",
       "2 2016-01-01 01:00:00 2\n",
       "3 2016-01-01 02:00:00 2\n",
       "4 2016-01-01 03:00:00 2\n",
       "5 2016-01-01 04:00:00 2\n",
       "6 2016-01-01 05:00:00 2"
      ]
     },
     "metadata": {},
     "output_type": "display_data"
    },
    {
     "data": {
      "text/html": [
       "<table>\n",
       "<thead><tr><th scope=col>day_hour</th><th scope=col>n</th></tr></thead>\n",
       "<tbody>\n",
       "\t<tr><td>2016-04-03 02:00:00</td><td>4                  </td></tr>\n",
       "\t<tr><td>2016-09-25 00:00:00</td><td>4                  </td></tr>\n",
       "\t<tr><td>2016-06-26 09:00:00</td><td>1                  </td></tr>\n",
       "\t<tr><td>2016-09-01 23:00:00</td><td>1                  </td></tr>\n",
       "\t<tr><td>2016-09-02 01:00:00</td><td>1                  </td></tr>\n",
       "\t<tr><td>2016-09-04 11:00:00</td><td>1                  </td></tr>\n",
       "</tbody>\n",
       "</table>\n"
      ],
      "text/latex": [
       "\\begin{tabular}{r|ll}\n",
       " day\\_hour & n\\\\\n",
       "\\hline\n",
       "\t 2016-04-03 02:00:00 & 4                  \\\\\n",
       "\t 2016-09-25 00:00:00 & 4                  \\\\\n",
       "\t 2016-06-26 09:00:00 & 1                  \\\\\n",
       "\t 2016-09-01 23:00:00 & 1                  \\\\\n",
       "\t 2016-09-02 01:00:00 & 1                  \\\\\n",
       "\t 2016-09-04 11:00:00 & 1                  \\\\\n",
       "\\end{tabular}\n"
      ],
      "text/markdown": [
       "\n",
       "day_hour | n | \n",
       "|---|---|---|---|---|---|\n",
       "| 2016-04-03 02:00:00 | 4                   | \n",
       "| 2016-09-25 00:00:00 | 4                   | \n",
       "| 2016-06-26 09:00:00 | 1                   | \n",
       "| 2016-09-01 23:00:00 | 1                   | \n",
       "| 2016-09-02 01:00:00 | 1                   | \n",
       "| 2016-09-04 11:00:00 | 1                   | \n",
       "\n",
       "\n"
      ],
      "text/plain": [
       "  day_hour            n\n",
       "1 2016-04-03 02:00:00 4\n",
       "2 2016-09-25 00:00:00 4\n",
       "3 2016-06-26 09:00:00 1\n",
       "4 2016-09-01 23:00:00 1\n",
       "5 2016-09-02 01:00:00 1\n",
       "6 2016-09-04 11:00:00 1"
      ]
     },
     "metadata": {},
     "output_type": "display_data"
    }
   ],
   "source": [
    "# Create day_hour, datetime rounded down to hour\n",
    "akl_hourly <- akl_hourly %>%\n",
    "  mutate(\n",
    "    day_hour = floor_date(datetime, unit = \"hour\")\n",
    "  )\n",
    "\n",
    "# Count observations per hour  \n",
    "head(akl_hourly %>% \n",
    "  count(day_hour))\n",
    "\n",
    "# Find day_hours with n != 2 \n",
    "head(akl_hourly %>% \n",
    "  count(day_hour) %>%\n",
    "  filter(n != 2) %>% \n",
    "  arrange(desc(n)))"
   ]
  },
  {
   "cell_type": "markdown",
   "metadata": {},
   "source": [
    "## calculating with time\n",
    "To get finer control over a difference between datetimes use the base function difftime(). For example instead of time1 - time2, you use difftime(time1, time2). \n",
    "`difftime()` takes an argument units which specifies the units for the difference. Your options are \"secs\", \"mins\", \"hours\", \"days\", or \"weeks\".\n",
    "\n",
    "To practice you'll find the time since the first man stepped on the moon. You'll also see the lubridate functions today() and now() which when called with no arguments return the current date and time in your system's timezone."
   ]
  },
  {
   "cell_type": "code",
   "execution_count": 6,
   "metadata": {},
   "outputs": [
    {
     "data": {
      "text/plain": [
       "Time difference of 17994 days"
      ]
     },
     "metadata": {},
     "output_type": "display_data"
    },
    {
     "data": {
      "text/plain": [
       "Time difference of 1554746750 secs"
      ]
     },
     "metadata": {},
     "output_type": "display_data"
    }
   ],
   "source": [
    "# The date of landing and moment of step\n",
    "date_landing <- mdy(\"July 20, 1969\")\n",
    "moment_step <- mdy_hms(\"July 20, 1969, 02:56:15\", tz = \"UTC\")\n",
    "\n",
    "# How many days since the first man on the moon?\n",
    "difftime(today(), date_landing, units = \"days\")\n",
    "\n",
    "# How many seconds since the first man on the moon?\n",
    "difftime(now(), moment_step, units = \"secs\")"
   ]
  },
  {
   "cell_type": "markdown",
   "metadata": {},
   "source": [
    "Why would a day only have 82800 seconds? At 2am on Mar 12th 2017, Daylight Savings started in the Pacific timezone. That means a whole hour of seconds gets skipped between noon on the 11th and noon on the 12th. \n"
   ]
  },
  {
   "cell_type": "code",
   "execution_count": 7,
   "metadata": {},
   "outputs": [
    {
     "data": {
      "text/plain": [
       "Time difference of 86400 secs"
      ]
     },
     "metadata": {},
     "output_type": "display_data"
    },
    {
     "data": {
      "text/plain": [
       "Time difference of 82800 secs"
      ]
     },
     "metadata": {},
     "output_type": "display_data"
    }
   ],
   "source": [
    "# Three dates\n",
    "mar_11 <- ymd_hms(\"2017-03-11 12:00:00\", \n",
    "  tz = \"America/Los_Angeles\")\n",
    "mar_12 <- ymd_hms(\"2017-03-12 12:00:00\", \n",
    "  tz = \"America/Los_Angeles\")\n",
    "mar_13 <- ymd_hms(\"2017-03-13 12:00:00\", \n",
    "  tz = \"America/Los_Angeles\")\n",
    "\n",
    "# Difference between mar_13 and mar_12 in seconds\n",
    "difftime(mar_13, mar_12, units = \"secs\")\n",
    "\n",
    "# Difference between mar_12 and mar_11 in seconds\n",
    "difftime(mar_12, mar_11, units = \"secs\")"
   ]
  },
  {
   "cell_type": "markdown",
   "metadata": {},
   "source": [
    "## Adding or subtracting a time span to a datetime\n",
    "If you want to account for the fact that time units, in this case days, have different lengths (i.e. due to daylight savings), you want a period days(). If you want the time 86400 seconds in the future you use a duration ddays()."
   ]
  },
  {
   "cell_type": "code",
   "execution_count": 8,
   "metadata": {},
   "outputs": [
    {
     "data": {
      "text/plain": [
       "[1] \"2018-09-03 14:00:00 UTC\""
      ]
     },
     "metadata": {},
     "output_type": "display_data"
    },
    {
     "data": {
      "text/plain": [
       "[1] \"2018-08-31 18:00:00 UTC\""
      ]
     },
     "metadata": {},
     "output_type": "display_data"
    },
    {
     "data": {
      "text/html": [
       "<time datetime=\"2013-10-25\">2013-10-25</time>"
      ],
      "text/latex": [
       "2013-10-25"
      ],
      "text/markdown": [
       "2013-10-25"
      ],
      "text/plain": [
       "[1] \"2013-10-25\""
      ]
     },
     "metadata": {},
     "output_type": "display_data"
    },
    {
     "data": {
      "text/html": [
       "<time datetime=\"2013-10-26\">2013-10-26</time>"
      ],
      "text/latex": [
       "2013-10-26"
      ],
      "text/markdown": [
       "2013-10-26"
      ],
      "text/plain": [
       "[1] \"2013-10-26\""
      ]
     },
     "metadata": {},
     "output_type": "display_data"
    }
   ],
   "source": [
    "# Add a period of one week to mon_2pm\n",
    "mon_2pm <- dmy_hm(\"27 Aug 2018 14:00\")\n",
    "mon_2pm + weeks(1)\n",
    "\n",
    "# Add a duration of 81 hours to tue_9am\n",
    "tue_9am <- dmy_hm(\"28 Aug 2018 9:00\")\n",
    "tue_9am + dhours(81)\n",
    "\n",
    "# Subtract a period of five years from today()\n",
    "today() - years(5)\n",
    "\n",
    "# Subtract a duration of five years from today()\n",
    "today() - dyears(5)"
   ]
  },
  {
   "cell_type": "markdown",
   "metadata": {},
   "source": [
    "Periods know about leap years, and since five years ago includes at least one leap year the period of five years is longer than the duration of 365*5 days. "
   ]
  },
  {
   "cell_type": "markdown",
   "metadata": {},
   "source": [
    "There was an eclipse over North America on 2017-08-21 at 18:26:40. It's possible to predict the next eclipse with similar geometry by calculating the time and date one Saros in the future. A Saros is a length of time that corresponds to 223 Synodic months, a Synodic month being the period of the Moon's phases, a duration of 29 days, 12 hours, 44 minutes and 3 seconds."
   ]
  },
  {
   "cell_type": "code",
   "execution_count": 9,
   "metadata": {},
   "outputs": [
    {
     "data": {
      "text/plain": [
       "[1] \"2035-09-02 02:09:49 UTC\""
      ]
     },
     "metadata": {},
     "output_type": "display_data"
    }
   ],
   "source": [
    "# Time of North American Eclipse 2017\n",
    "eclipse_2017 <- ymd_hms(\"2017-08-21 18:26:40\")\n",
    "\n",
    "# Duration of 29 days, 12 hours, 44 mins and 3 secs\n",
    "synodic <- ddays(29) + dhours(12) + dminutes(44) + dseconds(3)\n",
    "\n",
    "# 223 synodic months\n",
    "saros <- 223 * synodic\n",
    "\n",
    "# Add saros to eclipse_2017\n",
    "eclipse_2017 + saros"
   ]
  },
  {
   "cell_type": "code",
   "execution_count": 10,
   "metadata": {},
   "outputs": [
    {
     "data": {
      "text/plain": [
       " [1] \"2018-11-08 08:00:00 UTC\" \"2018-11-22 08:00:00 UTC\"\n",
       " [3] \"2018-12-06 08:00:00 UTC\" \"2018-12-20 08:00:00 UTC\"\n",
       " [5] \"2019-01-03 08:00:00 UTC\" \"2019-01-17 08:00:00 UTC\"\n",
       " [7] \"2019-01-31 08:00:00 UTC\" \"2019-02-14 08:00:00 UTC\"\n",
       " [9] \"2019-02-28 08:00:00 UTC\" \"2019-03-14 08:00:00 UTC\"\n",
       "[11] \"2019-03-28 08:00:00 UTC\" \"2019-04-11 08:00:00 UTC\"\n",
       "[13] \"2019-04-25 08:00:00 UTC\" \"2019-05-09 08:00:00 UTC\"\n",
       "[15] \"2019-05-23 08:00:00 UTC\" \"2019-06-06 08:00:00 UTC\"\n",
       "[17] \"2019-06-20 08:00:00 UTC\" \"2019-07-04 08:00:00 UTC\"\n",
       "[19] \"2019-07-18 08:00:00 UTC\" \"2019-08-01 08:00:00 UTC\"\n",
       "[21] \"2019-08-15 08:00:00 UTC\" \"2019-08-29 08:00:00 UTC\"\n",
       "[23] \"2019-09-12 08:00:00 UTC\" \"2019-09-26 08:00:00 UTC\"\n",
       "[25] \"2019-10-10 08:00:00 UTC\" \"2019-10-24 08:00:00 UTC\""
      ]
     },
     "metadata": {},
     "output_type": "display_data"
    }
   ],
   "source": [
    "# Add a period of 8 hours to today\n",
    "today_8am <- today() + hours(8) \n",
    "\n",
    "# Sequence of two weeks from 1 to 26\n",
    "every_two_weeks <- 1:26 * weeks(2)\n",
    "\n",
    "# Create datetime for every two weeks for a year\n",
    "today_8am + every_two_weeks"
   ]
  },
  {
   "cell_type": "markdown",
   "metadata": {},
   "source": [
    "**The tricky thing about months**\n",
    "\n",
    "What should ymd(\"2018-01-31\") + months(1) return? Should it be 30, 31 or 28 days in the future? Try it. In general lubridate returns the same day of the month in the next month, but since the 31st of February doesn't exist lubridate returns a missing value, NA.\n",
    "\n",
    "There are alternative addition and subtraction operators: %m+% and %m-% that have different behavior. Rather than returning an NA for a non-existent date, they roll back to the last existing date.\n",
    "\n",
    "You'll explore their behavior by trying to generate a sequence for the last day in every month this year."
   ]
  },
  {
   "cell_type": "code",
   "execution_count": 107,
   "metadata": {},
   "outputs": [
    {
     "data": {
      "text/html": [
       "<ol class=list-inline>\n",
       "\t<li><time datetime=\"&lt;NA&gt;\">&lt;NA&gt;</time></li>\n",
       "\t<li><time datetime=\"2018-03-31\">2018-03-31</time></li>\n",
       "\t<li><time datetime=\"&lt;NA&gt;\">&lt;NA&gt;</time></li>\n",
       "\t<li><time datetime=\"2018-05-31\">2018-05-31</time></li>\n",
       "\t<li><time datetime=\"&lt;NA&gt;\">&lt;NA&gt;</time></li>\n",
       "\t<li><time datetime=\"2018-07-31\">2018-07-31</time></li>\n",
       "\t<li><time datetime=\"2018-08-31\">2018-08-31</time></li>\n",
       "\t<li><time datetime=\"&lt;NA&gt;\">&lt;NA&gt;</time></li>\n",
       "\t<li><time datetime=\"2018-10-31\">2018-10-31</time></li>\n",
       "\t<li><time datetime=\"&lt;NA&gt;\">&lt;NA&gt;</time></li>\n",
       "\t<li><time datetime=\"2018-12-31\">2018-12-31</time></li>\n",
       "\t<li><time datetime=\"2019-01-31\">2019-01-31</time></li>\n",
       "</ol>\n"
      ],
      "text/latex": [
       "\\begin{enumerate*}\n",
       "\\item <NA>\n",
       "\\item 2018-03-31\n",
       "\\item <NA>\n",
       "\\item 2018-05-31\n",
       "\\item <NA>\n",
       "\\item 2018-07-31\n",
       "\\item 2018-08-31\n",
       "\\item <NA>\n",
       "\\item 2018-10-31\n",
       "\\item <NA>\n",
       "\\item 2018-12-31\n",
       "\\item 2019-01-31\n",
       "\\end{enumerate*}\n"
      ],
      "text/markdown": [
       "1. &lt;NA&gt;\n",
       "2. 2018-03-31\n",
       "3. &lt;NA&gt;\n",
       "4. 2018-05-31\n",
       "5. &lt;NA&gt;\n",
       "6. 2018-07-31\n",
       "7. 2018-08-31\n",
       "8. &lt;NA&gt;\n",
       "9. 2018-10-31\n",
       "10. &lt;NA&gt;\n",
       "11. 2018-12-31\n",
       "12. 2019-01-31\n",
       "\n",
       "\n"
      ],
      "text/plain": [
       " [1] NA           \"2018-03-31\" NA           \"2018-05-31\" NA          \n",
       " [6] \"2018-07-31\" \"2018-08-31\" NA           \"2018-10-31\" NA          \n",
       "[11] \"2018-12-31\" \"2019-01-31\""
      ]
     },
     "metadata": {},
     "output_type": "display_data"
    },
    {
     "data": {
      "text/html": [
       "<ol class=list-inline>\n",
       "\t<li><time datetime=\"2018-02-28\">2018-02-28</time></li>\n",
       "\t<li><time datetime=\"2018-03-31\">2018-03-31</time></li>\n",
       "\t<li><time datetime=\"2018-04-30\">2018-04-30</time></li>\n",
       "\t<li><time datetime=\"2018-05-31\">2018-05-31</time></li>\n",
       "\t<li><time datetime=\"2018-06-30\">2018-06-30</time></li>\n",
       "\t<li><time datetime=\"2018-07-31\">2018-07-31</time></li>\n",
       "\t<li><time datetime=\"2018-08-31\">2018-08-31</time></li>\n",
       "\t<li><time datetime=\"2018-09-30\">2018-09-30</time></li>\n",
       "\t<li><time datetime=\"2018-10-31\">2018-10-31</time></li>\n",
       "\t<li><time datetime=\"2018-11-30\">2018-11-30</time></li>\n",
       "\t<li><time datetime=\"2018-12-31\">2018-12-31</time></li>\n",
       "\t<li><time datetime=\"2019-01-31\">2019-01-31</time></li>\n",
       "</ol>\n"
      ],
      "text/latex": [
       "\\begin{enumerate*}\n",
       "\\item 2018-02-28\n",
       "\\item 2018-03-31\n",
       "\\item 2018-04-30\n",
       "\\item 2018-05-31\n",
       "\\item 2018-06-30\n",
       "\\item 2018-07-31\n",
       "\\item 2018-08-31\n",
       "\\item 2018-09-30\n",
       "\\item 2018-10-31\n",
       "\\item 2018-11-30\n",
       "\\item 2018-12-31\n",
       "\\item 2019-01-31\n",
       "\\end{enumerate*}\n"
      ],
      "text/markdown": [
       "1. 2018-02-28\n",
       "2. 2018-03-31\n",
       "3. 2018-04-30\n",
       "4. 2018-05-31\n",
       "5. 2018-06-30\n",
       "6. 2018-07-31\n",
       "7. 2018-08-31\n",
       "8. 2018-09-30\n",
       "9. 2018-10-31\n",
       "10. 2018-11-30\n",
       "11. 2018-12-31\n",
       "12. 2019-01-31\n",
       "\n",
       "\n"
      ],
      "text/plain": [
       " [1] \"2018-02-28\" \"2018-03-31\" \"2018-04-30\" \"2018-05-31\" \"2018-06-30\"\n",
       " [6] \"2018-07-31\" \"2018-08-31\" \"2018-09-30\" \"2018-10-31\" \"2018-11-30\"\n",
       "[11] \"2018-12-31\" \"2019-01-31\""
      ]
     },
     "metadata": {},
     "output_type": "display_data"
    },
    {
     "data": {
      "text/html": [
       "<ol class=list-inline>\n",
       "\t<li><time datetime=\"2017-12-31\">2017-12-31</time></li>\n",
       "\t<li><time datetime=\"2017-11-30\">2017-11-30</time></li>\n",
       "\t<li><time datetime=\"2017-10-31\">2017-10-31</time></li>\n",
       "\t<li><time datetime=\"2017-09-30\">2017-09-30</time></li>\n",
       "\t<li><time datetime=\"2017-08-31\">2017-08-31</time></li>\n",
       "\t<li><time datetime=\"2017-07-31\">2017-07-31</time></li>\n",
       "\t<li><time datetime=\"2017-06-30\">2017-06-30</time></li>\n",
       "\t<li><time datetime=\"2017-05-31\">2017-05-31</time></li>\n",
       "\t<li><time datetime=\"2017-04-30\">2017-04-30</time></li>\n",
       "\t<li><time datetime=\"2017-03-31\">2017-03-31</time></li>\n",
       "\t<li><time datetime=\"2017-02-28\">2017-02-28</time></li>\n",
       "\t<li><time datetime=\"2017-01-31\">2017-01-31</time></li>\n",
       "</ol>\n"
      ],
      "text/latex": [
       "\\begin{enumerate*}\n",
       "\\item 2017-12-31\n",
       "\\item 2017-11-30\n",
       "\\item 2017-10-31\n",
       "\\item 2017-09-30\n",
       "\\item 2017-08-31\n",
       "\\item 2017-07-31\n",
       "\\item 2017-06-30\n",
       "\\item 2017-05-31\n",
       "\\item 2017-04-30\n",
       "\\item 2017-03-31\n",
       "\\item 2017-02-28\n",
       "\\item 2017-01-31\n",
       "\\end{enumerate*}\n"
      ],
      "text/markdown": [
       "1. 2017-12-31\n",
       "2. 2017-11-30\n",
       "3. 2017-10-31\n",
       "4. 2017-09-30\n",
       "5. 2017-08-31\n",
       "6. 2017-07-31\n",
       "7. 2017-06-30\n",
       "8. 2017-05-31\n",
       "9. 2017-04-30\n",
       "10. 2017-03-31\n",
       "11. 2017-02-28\n",
       "12. 2017-01-31\n",
       "\n",
       "\n"
      ],
      "text/plain": [
       " [1] \"2017-12-31\" \"2017-11-30\" \"2017-10-31\" \"2017-09-30\" \"2017-08-31\"\n",
       " [6] \"2017-07-31\" \"2017-06-30\" \"2017-05-31\" \"2017-04-30\" \"2017-03-31\"\n",
       "[11] \"2017-02-28\" \"2017-01-31\""
      ]
     },
     "metadata": {},
     "output_type": "display_data"
    }
   ],
   "source": [
    "library(lubridate)\n",
    "jan_31 <- ymd(\"2018-01-31\")\n",
    "# A sequence of 1 to 12 periods of 1 month\n",
    "month_seq <- 1:12 * months(1)\n",
    "\n",
    "# Add 1 to 12 months to jan_31\n",
    "month_seq + jan_31\n",
    "\n",
    "# Replace + with %m+%\n",
    "month_seq %m+% jan_31\n",
    "\n",
    "# Replace + with %m-%\n",
    "jan_31 %m-% month_seq\n"
   ]
  },
  {
   "cell_type": "markdown",
   "metadata": {},
   "source": [
    "# Intervals"
   ]
  },
  {
   "cell_type": "code",
   "execution_count": 87,
   "metadata": {},
   "outputs": [],
   "source": [
    "names <- c(\"Elizabeth II\", \"Victoria\", \"George V\", \"George III\", \"George VI\", \"George IV\", \"Edward VII\", \"William IV\", \"Edward VIII\", \"George III(also United Kingdom)\", \"George II\", \"George I\", \"Anne\", \"Henry III\", \"Edward III\", \"Elizabeth I\", \"Henry VI\", \"Henry VI\", \"Æthelred II\", \"Æthelred II\", \"Henry VIII\", \"Charles II\", \"Henry I\", \"Henry II(co-ruler with Henry the Young King)\", \"Edward I\", \"Alfred the Great\", \"Edward the Elder\", \"Charles I\", \"Henry VII\", \"Edward the Confessor\", \"Richard II\", \"James I\", \"Edward IV\", \"Edward IV\", \"William I\", \"Edward II\", \"Cnut\", \"Stephen\", \"Stephen\", \"John\", \"Edgar I\", \"Æthelstan\", \"Henry IV\", \"William III(co-ruler with Mary II)\", \"Henry the Young King(co-ruler with Henry II)\", \"William II\", \"Richard I\", \"Eadred\", \"Henry V\", \"Edmund I\", \"Edward VI\", \"Mary II(co-ruler with William III)\", \"Mary I\", \"Anne(also Kingdom of Great Britain)\", \"Eadwig\", \"James II\", \"Edward the Martyr\", \"Harold I\", \"Harthacnut\", \"Richard III\", \"Louis (disputed)\", \"Harold II\", \"Edmund II\", \"Matilda (disputed)\", \"Edward V\", \"Edgar II\", \"Sweyn Forkbeard\", \"Jane (disputed)\", \"James VI\", \"William I\", \"Constantine II\", \"David II\", \"Alexander III\", \"Malcolm III\", \"Alexander II\", \"James I\", \"Malcolm II\", \"James V\", \"David I\", \"James III\", \"Charles II\", \"Charles II\", \"James IV\", \"Mary I\", \"Charles I\", \"Kenneth II\", \"James II\", \"Robert I\", \"Robert II\", \"Alexander I\", \"Macbeth\", \"Robert III\", \"Constantine I\", \"Kenneth MacAlpin\", \"William II\", \"Malcolm IV\", \"Giric(co-ruler with Eochaid?)\", \"Donald II\", \"Malcolm I\", \"Edgar\", \"Kenneth III\", \"Indulf\", \"Duncan I\", \"Mary II\", \"Amlaíb\", \"Anne(also Kingdom of Great Britain)\", \"Dub\", \"Cuilén\", \"Domnall mac Ailpín\", \"James VII\", \"Margaret\", \"John Balliol\", \"Donald III\", \"Constantine III\", \"Áed mac Cináeda\", \"Lulach\", \"Duncan II\", \"Ruaidrí Ua Conchobair\", \"Edward Bruce (disputed)\", \"Brian Ua Néill (disputed)\", \"Gruffudd ap Cynan\", \"Llywelyn the Great\", \"Owain Gwynedd\", \"Dafydd ab Owain Gwynedd\", \"Hywel ab Owain Gwynedd\", \"Llywelyn ap Gruffudd\", \"Owain Glyndŵr (disputed)\", \"Owain Goch ap Gruffydd\", \"Owain Lawgoch (disputed)\", \"Dafydd ap Llywelyn\", \"Dafydd ap Gruffydd\")\n",
    "from <- c(\"1952-02-06 UTC\", \"1837-06-20 UTC\", \"1910-05-06 UTC\", \"1801-01-01 UTC\", \"1936-12-11 UTC\", \"1820-01-29 UTC\", \"1901-01-22 UTC\", \"1830-06-26 UTC\", \"1936-01-20 UTC\", \"1760-10-25 UTC\", \"1727-06-22 UTC\", \"1714-08-01 UTC\", \"1707-05-01 UTC\", NA, \"1327-01-25 UTC\", \"1558-11-17 UTC\", \"1422-08-31 UTC\", \"1470-10-31 UTC\", \"978-03-18 UTC\", \"1014-02-03 UTC\", \"1509-04-22 UTC\", \"1649-01-30 UTC\", \"1100-08-03 UTC\", \"1154-10-25 UTC\", \"1272-11-20 UTC\", \"871-04-24 UTC\", \"899-10-27 UTC\", \"1625-03-27 UTC\", \"1485-08-22 UTC\", \"1042-06-08 UTC\", \"1377-06-22 UTC\", \"1603-03-24 UTC\", \"1461-03-04 UTC\", \"1471-04-11 UTC\", \"1066-12-12 UTC\", \"1307-07-07 UTC\", \"1016-11-30 UTC\", \"1135-12-22 UTC\", \"1141-11-01 UTC\", \"1199-04-06 UTC\", \"959-10-01 UTC\", \"924-08-02 UTC\", \"1399-09-29 UTC\", \"1689-02-13 UTC\", \"1170-06-14 UTC\", \"1087-09-09 UTC\", \"1189-07-06 UTC\", \"946-05-26 UTC\", \"1413-03-21 UTC\", \"939-10-27 UTC\", \"1547-01-28 UTC\", \"1689-02-13 UTC\", \"1553-07-19 UTC\", \"1702-03-08 UTC\", \"955-11-23 UTC\", \"1685-02-06 UTC\", \"975-07-09 UTC\", \"1037-11-12 UTC\", \"1040-03-17 UTC\", \"1483-06-26 UTC\", \"1216-06-14 UTC\", \"1066-01-05 UTC\", \"1016-04-23 UTC\", \"1141-04-07 UTC\", \"1483-04-09 UTC\", \"1066-10-15 UTC\", \"1013-12-25 UTC\", \"1553-07-10 UTC\", \"1567-07-24 UTC\", \"1165-12-09 UTC\", \"900-01-01 UTC\", \"1329-06-07 UTC\", \"1249-07-06 UTC\", \"1058-03-17 UTC\", \"1214-12-04 UTC\", \"1406-04-04 UTC\", \"1005-03-25 UTC\", \"1513-09-09 UTC\", \"1124-04-23 UTC\", \"1460-08-03 UTC\", \"1649-01-30 UTC\", \"1660-05-29 UTC\", \"1488-06-11 UTC\", \"1542-12-14 UTC\", \"1625-03-27 UTC\", \"971-01-01 UTC\", \"1437-02-21 UTC\", \"1306-03-25 UTC\", \"1371-02-22 UTC\", \"1107-01-08 UTC\", \"1040-08-14 UTC\", \"1390-04-19 UTC\", \"862-01-01 UTC\", \"843-01-01 UTC\", \"1689-05-11 UTC\", \"1153-05-24 UTC\", \"878-01-01 UTC\", \"889-01-01 UTC\", \"943-01-01 UTC\", \"1097-01-01 UTC\", \"997-01-01 UTC\", \"954-01-01 UTC\", \"1034-11-25 UTC\", \"1689-04-11 UTC\", \"971-01-01 UTC\", \"1702-03-08 UTC\", \"962-01-01 UTC\", NA, \"858-01-01 UTC\", \"1685-02-06 UTC\", \"1286-11-25 UTC\", \"1292-11-17 UTC\", \"1093-11-13 UTC\", \"1095-01-01 UTC\", \"877-01-01 UTC\", \"1057-08-15 UTC\", \"1094-05-01 UTC\", \"1166-01-01 UTC\", \"1315-06-01 UTC\", \"1258-01-01 UTC\", \"1081-01-01 UTC\", \"1195-01-01 UTC\", \"1137-01-01 UTC\", \"1170-01-01 UTC\", \"1170-01-01 UTC\", \"1253-01-01 UTC\", \"1400-09-16 UTC\", \"1246-02-25 UTC\", \"1372-05-01 UTC\", \"1240-04-12 UTC\", \"1282-12-11 UTC\")\n",
    "to <- c(\"2018-10-25 UTC\", \"1901-01-22 UTC\", \"1936-01-20 UTC\", \"1820-01-29 UTC\", \"1952-02-06 UTC\", \"1830-06-26 UTC\", \"1910-05-06 UTC\", \"1837-06-20 UTC\", \"1936-12-11 UTC\", \"1801-01-01 UTC\", \"1760-10-25 UTC\", \"1727-06-11 UTC\", \"1714-08-01 UTC\", \"1272-11-16 UTC\", \"1377-06-21 UTC\", \"1603-03-24 UTC\", \"1461-03-04 UTC\", \"1471-04-11 UTC\", \"1013-12-25 UTC\", \"1016-04-23 UTC\", \"1547-01-28 UTC\", \"1685-02-06 UTC\", \"1135-12-01 UTC\", \"1189-07-06 UTC\", \"1307-07-07 UTC\", \"899-10-26 UTC\", \"924-07-17 UTC\", \"1649-01-30 UTC\", \"1509-04-21 UTC\", \"1066-01-05 UTC\", \"1399-09-29 UTC\", \"1625-03-27 UTC\", \"1470-10-03 UTC\", \"1483-04-09 UTC\", \"1087-09-09 UTC\", \"1327-01-20 UTC\", \"1035-11-12 UTC\", \"1141-04-07 UTC\", \"1154-10-25 UTC\", \"1216-10-19 UTC\", \"975-07-08 UTC\", \"939-10-27 UTC\", \"1413-03-20 UTC\", \"1702-03-08 UTC\", \"1183-06-11 UTC\", \"1100-08-02 UTC\", \"1199-04-06 UTC\", \"955-11-23 UTC\", \"1422-08-31 UTC\", \"946-05-26 UTC\", \"1553-07-06 UTC\", \"1694-12-28 UTC\", \"1558-11-17 UTC\", \"1707-04-30 UTC\", \"959-10-01 UTC\", \"1688-12-11 UTC\", \"978-03-18 UTC\", \"1040-03-17 UTC\", \"1042-06-08 UTC\", \"1485-08-22 UTC\", \"1217-09-22 UTC\", \"1066-10-14 UTC\", \"1016-11-30 UTC\", \"1141-11-01 UTC\", \"1483-06-26 UTC\", \"1066-12-17 UTC\", \"1014-02-03 UTC\", \"1553-07-19 UTC\", \"1625-03-27 UTC\", \"1214-12-04 UTC\", \"943-01-01 UTC\", \"1371-02-22 UTC\", \"1286-03-19 UTC\", \"1093-11-13 UTC\", \"1249-07-06 UTC\", \"1437-02-21 UTC\", \"1034-11-25 UTC\", \"1542-12-14 UTC\", \"1153-05-24 UTC\", \"1488-06-11 UTC\", \"1651-09-03 UTC\", \"1685-02-06 UTC\", \"1513-09-09 UTC\", \"1567-07-24 UTC\", \"1649-01-30 UTC\", \"995-01-01 UTC\", \"1460-08-03 UTC\", \"1329-06-07 UTC\", \"1390-04-19 UTC\", \"1124-04-23 UTC\", \"1057-08-15 UTC\", \"1406-04-04 UTC\", \"877-01-01 UTC\", \"858-02-13 UTC\", \"1702-03-08 UTC\", \"1165-12-09 UTC\", \"889-01-01 UTC\", \"900-01-01 UTC\", \"954-01-01 UTC\", \"1107-01-08 UTC\", \"1005-03-25 UTC\", \"962-01-01 UTC\", \"1040-08-14 UTC\", \"1694-12-28 UTC\", \"977-01-01 UTC\", \"1707-04-30 UTC\", NA, \"971-01-01 UTC\", \"862-04-13 UTC\", \"1688-12-11 UTC\", \"1290-09-26 UTC\", \"1296-07-10 UTC\", \"1097-01-01 UTC\", \"1097-01-01 UTC\", \"878-01-01 UTC\", \"1058-03-17 UTC\", \"1094-11-12 UTC\", \"1193-01-01 UTC\", \"1318-10-14 UTC\", \"1260-01-01 UTC\", \"1137-01-01 UTC\", \"1240-04-11 UTC\", \"1170-01-01 UTC\", \"1195-01-01 UTC\", \"1170-01-01 UTC\", \"1282-12-11 UTC\", \"1416-01-01 UTC\", \"1255-01-01 UTC\", \"1378-07-01 UTC\", \"1246-02-25 UTC\", \"1283-10-03 UTC\")\n",
    "dominion <- c(\"United Kingdom\", \"United Kingdom\", \"United Kingdom\", \"United Kingdom\",\"United Kingdom\", \"United Kingdom\", \"United Kingdom\", \"United Kingdom\",\"United Kingdom\", \"Great Britain\", \"Great Britain\", \"Great Britain\", \"Great Britain\", \"England\",\"England\",\"England\",\"England\",\"England\", \"England\", \"England\",\"England\",\"England\",\"England\",\"England\",\"England\",\"England\", \"England\", \"England\", \"England\",\"England\",\"England\", \"England\",\"England\",\"England\", \"England\",\"England\", \"England\",\"England\", \"England\",\"England\", \"England\",\"England\",\"England\",\"England\",\"England\", \"England\",\"England\",\"England\", \"England\",\"England\",\"England\",\"England\",\"England\", \"England\", \"England\", \"England\", \"England\",\"England\",\"England\",\"England\", \"England\",\"England\",\"England\",\"England\",\"England\",\"England\",\"England\",\"England\",\"Scotland\",\"Scotland\",\"Scotland\",\"Scotland\",\"Scotland\",\"Scotland\",\"Scotland\",\"Scotland\",\"Scotland\",\"Scotland\",\"Scotland\",\"Scotland\",\"Scotland\",\"Scotland\",\"Scotland\",\"Scotland\", \"Scotland\",\"Scotland\",\"Scotland\",\"Scotland\",\"Scotland\",\"Scotland\",\"Scotland\",\"Scotland\",\"Scotland\",\"Scotland\",\"Scotland\",\"Scotland\",\"Scotland\",\"Scotland\",\"Scotland\",\"Scotland\",\"Scotland\",\"Scotland\", \"Scotland\",\"Scotland\",\"Scotland\",\"Scotland\",\"Scotland\",\"Scotland\",\"Scotland\",\"Scotland\",\"Scotland\",\"Scotland\",\"Scotland\",\"Scotland\",\"Scotland\",\"Scotland\",\"Scotland\",\"Ireland\",\"Ireland\",\"Ireland\",\"Gwynedd\",\"Gwynedd\",\"Gwynedd\",\"Gwynedd\",\"Gwynedd\",\"Wales\",\"Wales\",\"Wales\",\"Wales\",\"Wales\",\"Wales\")\n",
    "monarchs <- data.frame(names, from, to, dominion, stringsAsFactors = FALSE)\n"
   ]
  },
  {
   "cell_type": "code",
   "execution_count": 88,
   "metadata": {},
   "outputs": [
    {
     "name": "stdout",
     "output_type": "stream",
     "text": [
      "'data.frame':\t131 obs. of  4 variables:\n",
      " $ names   : chr  \"Elizabeth II\" \"Victoria\" \"George V\" \"George III\" ...\n",
      " $ from    : Date, format: \"1952-02-06\" \"1837-06-20\" ...\n",
      " $ to      : Date, format: \"2018-10-25\" \"1901-01-22\" ...\n",
      " $ dominion: chr  \"United Kingdom\" \"United Kingdom\" \"United Kingdom\" \"United Kingdom\" ...\n"
     ]
    }
   ],
   "source": [
    "monarchs$from <- as.Date(monarchs$from)\n",
    "monarchs$to <- as.Date(monarchs$to)\n",
    "str(monarchs)"
   ]
  },
  {
   "cell_type": "code",
   "execution_count": 89,
   "metadata": {},
   "outputs": [],
   "source": [
    "# Create an interval for reign\n",
    "monarchs <- monarchs %>%\n",
    "  mutate(reign = from %--% to) "
   ]
  },
  {
   "cell_type": "code",
   "execution_count": 90,
   "metadata": {},
   "outputs": [
    {
     "ename": "ERROR",
     "evalue": "Error in arrange_impl(.data, dots): Column `reign` classes Period and Interval from lubridate are currently not supported.\n",
     "output_type": "error",
     "traceback": [
      "Error in arrange_impl(.data, dots): Column `reign` classes Period and Interval from lubridate are currently not supported.\nTraceback:\n",
      "1. monarchs %>% mutate(length = int_length(reign)) %>% arrange(desc(length)) %>% \n .     select(name, length, dominion)",
      "2. withVisible(eval(quote(`_fseq`(`_lhs`)), env, env))",
      "3. eval(quote(`_fseq`(`_lhs`)), env, env)",
      "4. eval(quote(`_fseq`(`_lhs`)), env, env)",
      "5. `_fseq`(`_lhs`)",
      "6. freduce(value, `_function_list`)",
      "7. function_list[[i]](value)",
      "8. arrange(., desc(length))",
      "9. arrange.data.frame(., desc(length))",
      "10. as.data.frame(arrange(tbl_df(.data), ...))",
      "11. arrange(tbl_df(.data), ...)",
      "12. arrange.tbl_df(tbl_df(.data), ...)",
      "13. arrange_impl(.data, dots)"
     ]
    }
   ],
   "source": [
    "# Find the length of reign, and arrange\n",
    "monarchs %>%\n",
    "  mutate(length = int_length(reign)) %>% \n",
    "  arrange(desc(length)) %>%\n",
    "  select(name, length, dominion)"
   ]
  },
  {
   "cell_type": "code",
   "execution_count": 102,
   "metadata": {},
   "outputs": [
    {
     "name": "stdout",
     "output_type": "stream",
     "text": [
      "'data.frame':\t27 obs. of  6 variables:\n",
      " $ designation    : chr  \"1P/66 B1, 66\" \"1P/141 F1, 141\" \"1P/218 H1, 218\" \"1P/295 J1, 295\" ...\n",
      " $ year           : num  66 141 218 295 374 451 530 607 684 760 ...\n",
      " $ perihelion_date: Date, format: \"0066-01-26\" \"0141-03-25\" ...\n",
      " $ start_date     : Date, format: \"0066-01-25\" \"0141-03-22\" ...\n",
      " $ end_date       : Date, format: \"0066-01-26\" \"0141-03-25\" ...\n",
      " $ distance       : chr  NA NA NA NA ...\n"
     ]
    }
   ],
   "source": [
    "designation <- c(\"1P/66 B1, 66\", \"1P/141 F1, 141\", \"1P/218 H1, 218\",\"1P/295 J1, 295\",\"1P/374 E1, 374\",\"1P/451 L1, 451\",\"1P/530 Q1, 530\", \"1P/607 H1, 607\",\"1P/684 R1, 684\",\"1P/760 K1, 760\", \"1P/837 F1, 837\", \"1P/912 J1, 912\",\"1P/989 N1, 989\",\"1P/1066 G1, 1066\",\"1P/1145 G1, 1145\", \"1P/1222 R1, 1222\", \"1P/1301 R1, 1301\", \"1P/1378 S1, 1378\",\"1P/1456 K1, 1456\", \"1P/1531 P1, 1531\",\"1P/1607 S1, 1607\",  \"1P/1682 Q1, 1682\",\"1P/1758 Y1, 1759 I\", \"1P/1835 P1, 1835 III\", \"1P/1909 R1, 1910 II, 1909c\", \"1P/1982 U1, 1986 III, 1982i\",NA)\n",
    "year <- c(66, 141, 218,295, 374, 451, 530,607, 684, 760,837,912, 989, 1066, 1145,1222, 1301, 1378, 1456, 1531, 1607, 1682, 1758, 1835, 1910, 1986, 2061)\n",
    "perihelion_date <- c(\"66-01-26\",\"141-03-25\", \"218-04-06\", \"295-04-07\", \"374-02-13\",\"451-07-03\", \"530-11-15\", \"607-03-26\", \"684-11-26\", \"760-06-10\", \"837-02-25\", \"912-07-27\", \"989-09-02\", \"1066-03-25\", \"1145-04-19\",\"1222-09-10\", \"1301-10-22\", \"1378-11-09\", \"1456-01-08\", \"1531-08-26\",\"1607-10-27\", \"1682-09-15\", \"1758-03-13\", \"1835-11-16\", \"1910-04-20\",\"1986-02-09\", \"2061-07-28\")\n",
    "start_date <- c(\"66-01-25\", \"141-03-22\", \"218-04-06\", \"295-04-07\", \"374-02-13\",\"451-06-28\", \"530-09-27\", \"607-03-15\", \"684-10-02\", \"760-05-20\", \"837-02-25\", \"912-07-18\", \"989-09-02\", \"1066-01-01\", \"1145-04-15\",\"1222-09-10\", \"1301-10-22\", \"1378-11-09\", \"1456-01-08\", \"1531-08-26\", \"1607-10-27\", \"1682-09-15\", \"1758-03-13\", \"1835-08-01\", \"1910-04-20\",\"1986-02-09\", \"2061-07-28\")\n",
    "end_date <- c(\"66-01-26\", \"141-03-25\", \"218-05-17\", \"295-04-20\", \"374-02-16\", \"451-07-03\", \"530-11-15\", \"607-03-26\", \"684-11-26\", \"760-06-10\", \"837-02-28\", \"912-07-27\", \"989-09-05\", \"1066-03-25\", \"1145-04-19\",\"1222-09-28\", \"1301-10-31\", \"1378-11-14\", \"1456-06-09\", \"1531-08-26\",\"1607-10-27\", \"1682-09-15\", \"1758-12-25\", \"1835-11-16\", \"1910-05-20\",\"1986-02-09\", \"2061-07-28\")\n",
    "distance <- c(NA, NA, NA, NA, \"0.09 AU\", NA, NA, \"0.09 AU\", NA, NA, \"0.03 AU\", NA, NA, \"0.10 AU\", NA, NA, NA, NA, NA, NA, NA, NA, NA, NA, NA, \"0.586 AU\", NA)\n",
    "halleys <- data.frame(designation, year , perihelion_date, start_date, end_date, distance, stringsAsFactors = FALSE)\n",
    "halleys$perihelion_date <- as.Date(halleys$perihelion_date)\n",
    "halleys$start_date <- as.Date(halleys$start_date)\n",
    "halleys$end_date <- as.Date(halleys$end_date)\n",
    "str(halleys)"
   ]
  },
  {
   "cell_type": "code",
   "execution_count": 104,
   "metadata": {},
   "outputs": [
    {
     "ename": "ERROR",
     "evalue": "Error in filter_impl(.data, quo): Column `reign` classes Period and Interval from lubridate are currently not supported.\n",
     "output_type": "error",
     "traceback": [
      "Error in filter_impl(.data, quo): Column `reign` classes Period and Interval from lubridate are currently not supported.\nTraceback:\n",
      "1. monarchs %>% filter(halleys_1066$perihelion_date %within% reign) %>% \n .     select(name, from, to, dominion)",
      "2. withVisible(eval(quote(`_fseq`(`_lhs`)), env, env))",
      "3. eval(quote(`_fseq`(`_lhs`)), env, env)",
      "4. eval(quote(`_fseq`(`_lhs`)), env, env)",
      "5. `_fseq`(`_lhs`)",
      "6. freduce(value, `_function_list`)",
      "7. function_list[[i]](value)",
      "8. filter(., halleys_1066$perihelion_date %within% reign)",
      "9. filter.data.frame(., halleys_1066$perihelion_date %within% reign)",
      "10. as.data.frame(filter(tbl_df(.data), ...))",
      "11. filter(tbl_df(.data), ...)",
      "12. filter.tbl_df(tbl_df(.data), ...)",
      "13. filter_impl(.data, quo)"
     ]
    }
   ],
   "source": [
    "# New column for interval from start to end date\n",
    "halleys <- halleys %>% \n",
    "  mutate(visible = start_date %--% end_date)\n",
    "\n",
    "# The visitation of 1066\n",
    "halleys_1066 <- halleys[14, ] \n",
    "\n",
    "# Monarchs in power on perihelion date\n",
    "monarchs %>% \n",
    "  filter(halleys_1066$perihelion_date %within% reign) %>%\n",
    "  select(name, from, to, dominion)\n",
    "\n",
    "# Monarchs whose reign overlaps visible time\n",
    "monarchs %>% \n",
    "  filter(int_overlaps(halleys_1066$visible, reign)) %>%\n",
    "  select(name, from, to, dominion)\n"
   ]
  },
  {
   "cell_type": "markdown",
   "metadata": {},
   "source": [
    "## Converting to durations and periods"
   ]
  },
  {
   "cell_type": "markdown",
   "metadata": {},
   "source": [
    "Intervals are the most specific way to represent a span of time since they retain information about the exact start and end moments. They can be converted to periods and durations exactly: it's possible to calculate both the exact number of seconds elapsed between the start and end date, as well as the perceived change in clock time.\n",
    "\n",
    "To do so you use the as.period(), and as.duration() functions, parsing in an interval as the only argument."
   ]
  },
  {
   "cell_type": "code",
   "execution_count": 105,
   "metadata": {},
   "outputs": [
    {
     "ename": "ERROR",
     "evalue": "Error in .f(.x[[i]], ...): Objekt 'name' nicht gefunden\n",
     "output_type": "error",
     "traceback": [
      "Error in .f(.x[[i]], ...): Objekt 'name' nicht gefunden\nTraceback:\n",
      "1. monarchs %>% select(name, duration, period)",
      "2. withVisible(eval(quote(`_fseq`(`_lhs`)), env, env))",
      "3. eval(quote(`_fseq`(`_lhs`)), env, env)",
      "4. eval(quote(`_fseq`(`_lhs`)), env, env)",
      "5. `_fseq`(`_lhs`)",
      "6. freduce(value, `_function_list`)",
      "7. withVisible(function_list[[k]](value))",
      "8. function_list[[k]](value)",
      "9. select(., name, duration, period)",
      "10. select.data.frame(., name, duration, period)",
      "11. tidyselect::vars_select(names(.data), !!!quos(...))",
      "12. vars_select_eval(.vars, quos)",
      "13. map_if(quos, !is_helper, overscope_eval_next, overscope = overscope)",
      "14. map(.x[sel], .f, ...)",
      "15. .f(.x[[i]], ...)"
     ]
    }
   ],
   "source": [
    "# New columns for duration and period\n",
    "monarchs <- monarchs %>%\n",
    "  mutate(\n",
    "    duration = as.duration(reign),\n",
    "    period = as.period(reign)) \n",
    "    \n",
    "# Examine results    \n",
    "monarchs %>%\n",
    "  select(name, duration, period)"
   ]
  },
  {
   "cell_type": "markdown",
   "metadata": {},
   "source": [
    "# Time zones\n",
    "### Setting the timezone\n",
    "\n",
    "If you import a datetime and it has the wrong timezone, you can set it with `force_tz()`. Pass in the datetime as the first argument and the appropriate timezone to the `tzone` argument. Remember the timezone needs to be one from `OlsonNames()`.\n",
    "\n",
    "I wanted to watch New Zealand in the Women's World Cup Soccer games in 2015, but the times listed on the FIFA website were all in times local to the venues. In this exercise you'll help me set the timezones, then in the next exercise you'll help me figure out what time I needed to tune in to watch them."
   ]
  },
  {
   "cell_type": "code",
   "execution_count": 2,
   "metadata": {},
   "outputs": [
    {
     "data": {
      "text/plain": [
       "[1] \"2015-06-11 19:00:00 MDT\""
      ]
     },
     "metadata": {},
     "output_type": "display_data"
    },
    {
     "data": {
      "text/plain": [
       "[1] \"2015-06-15 18:30:00 CDT\""
      ]
     },
     "metadata": {},
     "output_type": "display_data"
    },
    {
     "data": {
      "text/html": [
       "3d 22H 30M 0S"
      ],
      "text/latex": [
       "3d 22H 30M 0S"
      ],
      "text/markdown": [
       "3d 22H 30M 0S"
      ],
      "text/plain": [
       "[1] \"3d 22H 30M 0S\""
      ]
     },
     "metadata": {},
     "output_type": "display_data"
    }
   ],
   "source": [
    "# Game2: CAN vs NZL in Edmonton\n",
    "game2 <- mdy_hm(\"June 11 2015 19:00\")\n",
    "\n",
    "# Game3: CHN vs NZL in Winnipeg\n",
    "game3 <- mdy_hm(\"June 15 2015 18:30\")\n",
    "\n",
    "# Set the timezone to \"America/Edmonton\"\n",
    "game2_local <- force_tz(game2, tzone = \"America/Edmonton\")\n",
    "game2_local\n",
    "\n",
    "# Set the timezone to \"America/Winnipeg\"\n",
    "game3_local <- force_tz(game3, tzone = \"America/Winnipeg\")\n",
    "game3_local\n",
    "\n",
    "# How long does the team have to rest?\n",
    "as.period(game2_local %--% game3_local)\n"
   ]
  },
  {
   "cell_type": "markdown",
   "metadata": {},
   "source": [
    "### Viewing in a timezone\n",
    "\n",
    "To view a datetime in another timezone use `with_tz()`. The syntax of `with_tz()` is the same as `force_tz()`, passing a datetime and set the tzone argument to the desired timezone. Unlike `force_tz()`, `with_tz()` isn't changing the underlying moment of time, just how it is displayed.\n",
    "\n",
    "For example, the difference between `now()` displayed in the \"America/Los_Angeles\" timezone and and \"Pacific/Auckland\" timezone is 0:\n",
    "\n",
    "`now <- now()\n",
    "with_tz(now, \"America/Los_Angeles\") - \n",
    "  with_tz(now,  \"Pacific/Auckland\")`\n",
    "\n",
    "Help me figure out when to tune into the games from the previous exercise."
   ]
  },
  {
   "cell_type": "code",
   "execution_count": 3,
   "metadata": {},
   "outputs": [
    {
     "data": {
      "text/plain": [
       "[1] \"2015-06-12 13:00:00 NZST\""
      ]
     },
     "metadata": {},
     "output_type": "display_data"
    },
    {
     "data": {
      "text/plain": [
       "[1] \"2015-06-11 18:00:00 PDT\""
      ]
     },
     "metadata": {},
     "output_type": "display_data"
    },
    {
     "data": {
      "text/plain": [
       "[1] \"2015-06-16 11:30:00 NZST\""
      ]
     },
     "metadata": {},
     "output_type": "display_data"
    }
   ],
   "source": [
    "# What time is game2_local in NZ?\n",
    "with_tz(game2_local, tzone = \"Pacific/Auckland\")\n",
    "\n",
    "# What time is game2_local in Corvallis, Oregon?\n",
    "with_tz(game2_local, tzone = \"America/Los_Angeles\")\n",
    "\n",
    "# What time is game3_local in NZ?\n",
    "with_tz(game3_local, tzone = \"Pacific/Auckland\")"
   ]
  },
  {
   "cell_type": "markdown",
   "metadata": {},
   "source": [
    "### Timezones in the weather data\n",
    "\n",
    "Did you ever notice that in the hourly Auckland weather data there was another datetime column, date_utc? Take a look:\n",
    "\n",
    "tibble::glimpse(akl_hourly)\n",
    "\n",
    "The datetime column you created represented local time in Auckland, NZ. I suspect this additional column, date_utc represents the observation time in UTC (the name seems a big clue). But does it really?"
   ]
  },
  {
   "cell_type": "code",
   "execution_count": 7,
   "metadata": {},
   "outputs": [
    {
     "data": {
      "text/plain": [
       "[1] \"2016-01-01 00:00:00 UTC\" \"2016-01-01 00:30:00 UTC\"\n",
       "[3] \"2016-01-01 01:00:00 UTC\" \"2016-01-01 01:30:00 UTC\"\n",
       "[5] \"2016-01-01 02:00:00 UTC\" \"2016-01-01 02:30:00 UTC\""
      ]
     },
     "metadata": {},
     "output_type": "display_data"
    },
    {
     "data": {
      "text/plain": [
       "[1] \"2015-12-31 11:00:00 UTC\" \"2015-12-31 11:30:00 UTC\"\n",
       "[3] \"2015-12-31 12:00:00 UTC\" \"2015-12-31 12:30:00 UTC\"\n",
       "[5] \"2015-12-31 13:00:00 UTC\" \"2015-12-31 13:30:00 UTC\""
      ]
     },
     "metadata": {},
     "output_type": "display_data"
    },
    {
     "data": {
      "text/plain": [
       "[1] \"2016-01-01 00:00:00 NZDT\" \"2016-01-01 00:30:00 NZDT\"\n",
       "[3] \"2016-01-01 01:00:00 NZDT\" \"2016-01-01 01:30:00 NZDT\"\n",
       "[5] \"2016-01-01 02:00:00 NZDT\" \"2016-01-01 02:30:00 NZDT\""
      ]
     },
     "metadata": {},
     "output_type": "display_data"
    },
    {
     "data": {
      "text/plain": [
       "\n",
       "-82800      0   3600 \n",
       "     2  17450      2 "
      ]
     },
     "metadata": {},
     "output_type": "display_data"
    }
   ],
   "source": [
    "# Examine datetime and date_utc columns\n",
    "head(akl_hourly$datetime)\n",
    "head(akl_hourly$date_utc)\n",
    "  \n",
    "# Force datetime to Pacific/Auckland\n",
    "akl_hourly <- akl_hourly %>%\n",
    "  mutate(\n",
    "    datetime = force_tz(datetime, tzone = \"Pacific/Auckland\"))\n",
    "\n",
    "# Reexamine datetime\n",
    "head(akl_hourly$datetime)\n",
    "  \n",
    "# Are datetime and date_utc the same moments\n",
    "table(akl_hourly$datetime - akl_hourly$date_utc)\n",
    "  "
   ]
  },
  {
   "cell_type": "markdown",
   "metadata": {},
   "source": [
    "Looks like for 17,450 rows datetime and date_utc describe the same moment, but for 4 rows they are different. Can you guess which? Yup, the times where DST kicks in. "
   ]
  },
  {
   "cell_type": "markdown",
   "metadata": {},
   "source": [
    "### Times without dates\n",
    "\n",
    "For this entire course, if you've ever had a time, it's always had an accompanying date, i.e. a datetime. But sometimes you just have a time without a date.\n",
    "\n",
    "If you find yourself in this situation, the hms package provides an hms class of object for holding times without dates, and the best place to start would be with as.hms().\n",
    "\n",
    "In fact, you've already seen an object of the hms class, but I didn't point it out to you. Take a look in this exercise."
   ]
  },
  {
   "cell_type": "code",
   "execution_count": 9,
   "metadata": {},
   "outputs": [
    {
     "name": "stdout",
     "output_type": "stream",
     "text": [
      " 'hms' num [1:17454] 00:00:00 00:30:00 01:00:00 01:30:00 ...\n",
      " - attr(*, \"units\")= chr \"secs\"\n"
     ]
    },
    {
     "data": {
      "text/plain": [
       "00:00:00\n",
       "00:30:00\n",
       "01:00:00\n",
       "01:30:00\n",
       "02:00:00\n",
       "02:30:00"
      ]
     },
     "metadata": {},
     "output_type": "display_data"
    },
    {
     "data": {},
     "metadata": {},
     "output_type": "display_data"
    },
    {
     "data": {
      "image/png": "[encoded data removed]",
      "text/plain": [
       "plot without title"
      ]
     },
     "metadata": {},
     "output_type": "display_data"
    }
   ],
   "source": [
    "# Examine structure of time column\n",
    "str(akl_hourly$time)\n",
    "\n",
    "# Examine head of time column\n",
    "head(akl_hourly$time)\n",
    "\n",
    "# A plot using just time\n",
    "ggplot(akl_hourly, aes(x = time, y = temperature)) +\n",
    "  geom_line(aes(group = make_date(year, month, mday)), alpha = 0.2)\n"
   ]
  },
  {
   "cell_type": "code",
   "execution_count": 11,
   "metadata": {},
   "outputs": [],
   "source": [
    "library(microbenchmark)\n",
    "library(fasttime)"
   ]
  },
  {
   "cell_type": "markdown",
   "metadata": {},
   "source": [
    "### Fast parsing with `fasttime`\n",
    "\n",
    "The fasttime package provides a single function `fastPOSIXct()`, designed to read in datetimes formatted according to ISO 8601. Because it only reads in one format, and doesn't have to guess a format, it is really fast!\n",
    "\n",
    "You'll see how fast in this exercise by comparing how fast it reads in the dates from the Auckland hourly weather data (over 17,000 dates) to lubridates `ymd_hms()`.\n",
    "\n",
    "To compare run times you'll use the `microbenchmark()` function from the package of the same name. You pass in as many arguments as you want each being an expression to time."
   ]
  },
  {
   "cell_type": "code",
   "execution_count": 14,
   "metadata": {},
   "outputs": [],
   "source": [
    "dates <- akl_hourly$datetime_string"
   ]
  },
  {
   "cell_type": "code",
   "execution_count": 16,
   "metadata": {},
   "outputs": [
    {
     "name": "stdout",
     "output_type": "stream",
     "text": [
      " chr [1:17454] \"2016-01-01T00:00:00\" \"2016-01-01T00:30:00\" ...\n"
     ]
    },
    {
     "data": {
      "text/html": [
       "<ol class=list-inline>\n",
       "\t<li>'2016-01-01T00:00:00'</li>\n",
       "\t<li>'2016-01-01T00:30:00'</li>\n",
       "\t<li>'2016-01-01T01:00:00'</li>\n",
       "\t<li>'2016-01-01T01:30:00'</li>\n",
       "\t<li>'2016-01-01T02:00:00'</li>\n",
       "\t<li>'2016-01-01T02:30:00'</li>\n",
       "</ol>\n"
      ],
      "text/latex": [
       "\\begin{enumerate*}\n",
       "\\item '2016-01-01T00:00:00'\n",
       "\\item '2016-01-01T00:30:00'\n",
       "\\item '2016-01-01T01:00:00'\n",
       "\\item '2016-01-01T01:30:00'\n",
       "\\item '2016-01-01T02:00:00'\n",
       "\\item '2016-01-01T02:30:00'\n",
       "\\end{enumerate*}\n"
      ],
      "text/markdown": [
       "1. '2016-01-01T00:00:00'\n",
       "2. '2016-01-01T00:30:00'\n",
       "3. '2016-01-01T01:00:00'\n",
       "4. '2016-01-01T01:30:00'\n",
       "5. '2016-01-01T02:00:00'\n",
       "6. '2016-01-01T02:30:00'\n",
       "\n",
       "\n"
      ],
      "text/plain": [
       "[1] \"2016-01-01T00:00:00\" \"2016-01-01T00:30:00\" \"2016-01-01T01:00:00\"\n",
       "[4] \"2016-01-01T01:30:00\" \"2016-01-01T02:00:00\" \"2016-01-01T02:30:00\""
      ]
     },
     "metadata": {},
     "output_type": "display_data"
    },
    {
     "name": "stdout",
     "output_type": "stream",
     "text": [
      " POSIXct[1:17454], format: \"2016-01-01 00:00:00\" \"2016-01-01 00:30:00\" \"2016-01-01 01:00:00\" ...\n"
     ]
    }
   ],
   "source": [
    "# Examine structure of dates\n",
    "str(dates)\n",
    "head(dates)\n",
    "# Use fastPOSIXct() to parse dates\n",
    "fastPOSIXct(dates) %>% str()"
   ]
  },
  {
   "cell_type": "code",
   "execution_count": 18,
   "metadata": {},
   "outputs": [
    {
     "data": {
      "text/html": [
       "<table>\n",
       "<thead><tr><th scope=col>expr</th><th scope=col>min</th><th scope=col>lq</th><th scope=col>mean</th><th scope=col>median</th><th scope=col>uq</th><th scope=col>max</th><th scope=col>neval</th><th scope=col>cld</th></tr></thead>\n",
       "<tbody>\n",
       "\t<tr><td>ymd_hms  </td><td>16.41296 </td><td>16.611440</td><td>17.298847</td><td>16.893742</td><td>17.188166</td><td>21.157037</td><td>20       </td><td> b       </td></tr>\n",
       "\t<tr><td>fasttime </td><td> 1.61204 </td><td> 1.673678</td><td> 1.741808</td><td> 1.752985</td><td> 1.787092</td><td> 1.869687</td><td>20       </td><td>a        </td></tr>\n",
       "</tbody>\n",
       "</table>\n"
      ],
      "text/latex": [
       "\\begin{tabular}{r|lllllllll}\n",
       " expr & min & lq & mean & median & uq & max & neval & cld\\\\\n",
       "\\hline\n",
       "\t ymd\\_hms  & 16.41296   & 16.611440  & 17.298847  & 16.893742  & 17.188166  & 21.157037  & 20         &  b        \\\\\n",
       "\t fasttime  &  1.61204  &  1.673678 &  1.741808 &  1.752985 &  1.787092 &  1.869687 & 20        & a        \\\\\n",
       "\\end{tabular}\n"
      ],
      "text/markdown": [
       "\n",
       "expr | min | lq | mean | median | uq | max | neval | cld | \n",
       "|---|---|\n",
       "| ymd_hms   | 16.41296  | 16.611440 | 17.298847 | 16.893742 | 17.188166 | 21.157037 | 20        |  b        | \n",
       "| fasttime  |  1.61204  |  1.673678 |  1.741808 |  1.752985 |  1.787092 |  1.869687 | 20        | a         | \n",
       "\n",
       "\n"
      ],
      "text/plain": [
       "  expr     min      lq        mean      median    uq        max       neval cld\n",
       "1 ymd_hms  16.41296 16.611440 17.298847 16.893742 17.188166 21.157037 20     b \n",
       "2 fasttime  1.61204  1.673678  1.741808  1.752985  1.787092  1.869687 20    a  "
      ]
     },
     "metadata": {},
     "output_type": "display_data"
    }
   ],
   "source": [
    "# Compare speed of fastPOSIXct() to ymd_hms()\n",
    "summary(microbenchmark(\n",
    "  ymd_hms = ymd_hms(dates),\n",
    "  fasttime = fastPOSIXct(dates),\n",
    "  times = 20))"
   ]
  },
  {
   "cell_type": "markdown",
   "metadata": {},
   "source": [
    " To compare speed, you can compare the average run time in the mean column. You should see fasttime is about 20 times faster than ymd_hms()"
   ]
  },
  {
   "cell_type": "markdown",
   "metadata": {},
   "source": [
    "### Fast parsing with `lubridate::fast_strptime`\n",
    "\n",
    "lubridate provides its own fast datetime parser: `fast_strptime()`. Instead of taking an order argument like `parse_date_time()` it takes a format argument and the format must comply with the `strptime()` style.\n",
    "\n",
    "As you saw in the video that means any character that represents a datetime component must be prefixed with a % and any non-whitespace characters must be explicitly included.\n",
    "\n",
    "Try parsing dates with `fast_strptime()` and then compare its speed to the other methods you've seen."
   ]
  },
  {
   "cell_type": "code",
   "execution_count": 21,
   "metadata": {},
   "outputs": [
    {
     "data": {
      "text/html": [
       "<ol class=list-inline>\n",
       "\t<li>'2016-01-01T00:00:00'</li>\n",
       "\t<li>'2016-01-01T00:30:00'</li>\n",
       "\t<li>'2016-01-01T01:00:00'</li>\n",
       "\t<li>'2016-01-01T01:30:00'</li>\n",
       "\t<li>'2016-01-01T02:00:00'</li>\n",
       "\t<li>'2016-01-01T02:30:00'</li>\n",
       "</ol>\n"
      ],
      "text/latex": [
       "\\begin{enumerate*}\n",
       "\\item '2016-01-01T00:00:00'\n",
       "\\item '2016-01-01T00:30:00'\n",
       "\\item '2016-01-01T01:00:00'\n",
       "\\item '2016-01-01T01:30:00'\n",
       "\\item '2016-01-01T02:00:00'\n",
       "\\item '2016-01-01T02:30:00'\n",
       "\\end{enumerate*}\n"
      ],
      "text/markdown": [
       "1. '2016-01-01T00:00:00'\n",
       "2. '2016-01-01T00:30:00'\n",
       "3. '2016-01-01T01:00:00'\n",
       "4. '2016-01-01T01:30:00'\n",
       "5. '2016-01-01T02:00:00'\n",
       "6. '2016-01-01T02:30:00'\n",
       "\n",
       "\n"
      ],
      "text/plain": [
       "[1] \"2016-01-01T00:00:00\" \"2016-01-01T00:30:00\" \"2016-01-01T01:00:00\"\n",
       "[4] \"2016-01-01T01:30:00\" \"2016-01-01T02:00:00\" \"2016-01-01T02:30:00\""
      ]
     },
     "metadata": {},
     "output_type": "display_data"
    },
    {
     "name": "stdout",
     "output_type": "stream",
     "text": [
      " POSIXlt[1:17454], format: \"2016-01-01 00:00:00\" \"2016-01-01 00:30:00\" \"2016-01-01 01:00:00\" ...\n"
     ]
    }
   ],
   "source": [
    "# Head of dates\n",
    "head(dates)\n",
    "\n",
    "# Parse dates with fast_strptime\n",
    "fast_strptime(dates, \n",
    "    format = \"%Y-%m-%dT%H:%M:%S\") %>% str()\n"
   ]
  },
  {
   "cell_type": "code",
   "execution_count": 22,
   "metadata": {},
   "outputs": [
    {
     "data": {
      "text/html": [
       "<table>\n",
       "<thead><tr><th scope=col>expr</th><th scope=col>min</th><th scope=col>lq</th><th scope=col>mean</th><th scope=col>median</th><th scope=col>uq</th><th scope=col>max</th><th scope=col>neval</th><th scope=col>cld</th></tr></thead>\n",
       "<tbody>\n",
       "\t<tr><td>ymd_hms      </td><td>16.670202    </td><td>16.818955    </td><td>17.983255    </td><td>17.164333    </td><td>18.292925    </td><td>22.172831    </td><td>20           </td><td> b           </td></tr>\n",
       "\t<tr><td>fasttime     </td><td> 1.607109    </td><td> 1.656009    </td><td> 1.738439    </td><td> 1.708607    </td><td> 1.804556    </td><td> 2.095692    </td><td>20           </td><td>a            </td></tr>\n",
       "\t<tr><td>fast_strptime</td><td> 1.948994    </td><td> 2.036931    </td><td> 2.119382    </td><td> 2.120965    </td><td> 2.217942    </td><td> 2.261704    </td><td>20           </td><td>a            </td></tr>\n",
       "</tbody>\n",
       "</table>\n"
      ],
      "text/latex": [
       "\\begin{tabular}{r|lllllllll}\n",
       " expr & min & lq & mean & median & uq & max & neval & cld\\\\\n",
       "\\hline\n",
       "\t ymd\\_hms       & 16.670202       & 16.818955       & 17.983255       & 17.164333       & 18.292925       & 22.172831       & 20              &  b             \\\\\n",
       "\t fasttime      &  1.607109     &  1.656009     &  1.738439     &  1.708607     &  1.804556     &  2.095692     & 20            & a            \\\\\n",
       "\t fast\\_strptime &  1.948994       &  2.036931       &  2.119382       &  2.120965       &  2.217942       &  2.261704       & 20              & a              \\\\\n",
       "\\end{tabular}\n"
      ],
      "text/markdown": [
       "\n",
       "expr | min | lq | mean | median | uq | max | neval | cld | \n",
       "|---|---|---|\n",
       "| ymd_hms       | 16.670202     | 16.818955     | 17.983255     | 17.164333     | 18.292925     | 22.172831     | 20            |  b            | \n",
       "| fasttime      |  1.607109     |  1.656009     |  1.738439     |  1.708607     |  1.804556     |  2.095692     | 20            | a             | \n",
       "| fast_strptime |  1.948994     |  2.036931     |  2.119382     |  2.120965     |  2.217942     |  2.261704     | 20            | a             | \n",
       "\n",
       "\n"
      ],
      "text/plain": [
       "  expr          min       lq        mean      median    uq        max      \n",
       "1 ymd_hms       16.670202 16.818955 17.983255 17.164333 18.292925 22.172831\n",
       "2 fasttime       1.607109  1.656009  1.738439  1.708607  1.804556  2.095692\n",
       "3 fast_strptime  1.948994  2.036931  2.119382  2.120965  2.217942  2.261704\n",
       "  neval cld\n",
       "1 20     b \n",
       "2 20    a  \n",
       "3 20    a  "
      ]
     },
     "metadata": {},
     "output_type": "display_data"
    }
   ],
   "source": [
    "# Comparse speed to ymd_hms() and fasttime\n",
    "summary(microbenchmark(\n",
    "  ymd_hms = ymd_hms(dates),\n",
    "  fasttime = fastPOSIXct(dates),\n",
    "  fast_strptime = fast_strptime(dates, \n",
    "    format = \"%Y-%m-%dT%H:%M:%S\"),\n",
    "  times = 20))"
   ]
  },
  {
   "cell_type": "markdown",
   "metadata": {},
   "source": [
    "### Outputting pretty dates and times\n",
    "\n",
    "An easy way to output dates is to use the `stamp()` function in lubridate. `stamp()` takes a string which should be an example of how the date should be formatted, and returns a function that can be used to format dates.\n",
    "\n",
    "In this exercise you'll practice outputting today() in a nice way."
   ]
  },
  {
   "cell_type": "code",
   "execution_count": 23,
   "metadata": {},
   "outputs": [
    {
     "name": "stderr",
     "output_type": "stream",
     "text": [
      "Multiple formats matched: \"%Om %d %y%H\"(1), \"%Om %y %d%H\"(1), \"%Om %d %Y\"(1), \"%b %d %y%H\"(1), \"%b %y %d%H\"(1), \"%b %d %Y\"(1), \"Sep %H %M%S\"(1)\n",
      "Using: \"%b %y %d%H\"\n"
     ]
    },
    {
     "data": {
      "text/html": [
       "<pre class=language-r><code>function (x, locale = \"German_Germany.1252\") \n",
       "{\n",
       "<span style=white-space:pre-wrap>    {</span>\n",
       "<span style=white-space:pre-wrap>        old_lc_time &lt;- Sys.getlocale(\"LC_TIME\")</span>\n",
       "<span style=white-space:pre-wrap>        if (old_lc_time != locale) {</span>\n",
       "<span style=white-space:pre-wrap>            on.exit(Sys.setlocale(\"LC_TIME\", old_lc_time))</span>\n",
       "<span style=white-space:pre-wrap>            Sys.setlocale(\"LC_TIME\", locale)</span>\n",
       "<span style=white-space:pre-wrap>        }</span>\n",
       "<span style=white-space:pre-wrap>    }</span>\n",
       "<span style=white-space:pre-wrap>    format(x, format = \"%b %y %d%H\")</span>\n",
       "}</code></pre>"
      ],
      "text/latex": [
       "\\begin{minted}{r}\n",
       "function (x, locale = \"German\\_Germany.1252\") \n",
       "\\{\n",
       "    \\{\n",
       "        old\\_lc\\_time <- Sys.getlocale(\"LC\\_TIME\")\n",
       "        if (old\\_lc\\_time != locale) \\{\n",
       "            on.exit(Sys.setlocale(\"LC\\_TIME\", old\\_lc\\_time))\n",
       "            Sys.setlocale(\"LC\\_TIME\", locale)\n",
       "        \\}\n",
       "    \\}\n",
       "    format(x, format = \"\\%b \\%y \\%d\\%H\")\n",
       "\\}\n",
       "\\end{minted}"
      ],
      "text/markdown": [
       "```r\n",
       "function (x, locale = \"German_Germany.1252\") \n",
       "{\n",
       "    {\n",
       "        old_lc_time <- Sys.getlocale(\"LC_TIME\")\n",
       "        if (old_lc_time != locale) {\n",
       "            on.exit(Sys.setlocale(\"LC_TIME\", old_lc_time))\n",
       "            Sys.setlocale(\"LC_TIME\", locale)\n",
       "        }\n",
       "    }\n",
       "    format(x, format = \"%b %y %d%H\")\n",
       "}\n",
       "```"
      ],
      "text/plain": [
       "function (x, locale = \"German_Germany.1252\") \n",
       "{\n",
       "    {\n",
       "        old_lc_time <- Sys.getlocale(\"LC_TIME\")\n",
       "        if (old_lc_time != locale) {\n",
       "            on.exit(Sys.setlocale(\"LC_TIME\", old_lc_time))\n",
       "            Sys.setlocale(\"LC_TIME\", locale)\n",
       "        }\n",
       "    }\n",
       "    format(x, format = \"%b %y %d%H\")\n",
       "}\n",
       "<environment: 0x000000000fea1da8>"
      ]
     },
     "metadata": {},
     "output_type": "display_data"
    },
    {
     "data": {
      "text/html": [
       "'Nov 18 2500'"
      ],
      "text/latex": [
       "'Nov 18 2500'"
      ],
      "text/markdown": [
       "'Nov 18 2500'"
      ],
      "text/plain": [
       "[1] \"Nov 18 2500\""
      ]
     },
     "metadata": {},
     "output_type": "display_data"
    },
    {
     "name": "stderr",
     "output_type": "stream",
     "text": [
      "Multiple formats matched: \"%Om/%d/%y%H\"(1), \"%Om/%y/%d%H\"(1), \"%Om/%d/%Y\"(1), \"%m/%d/%y%H\"(1), \"%m/%y/%d%H\"(1), \"%m/%d/%Y\"(1)\n",
      "Using: \"%Om/%y/%d%H\"\n"
     ]
    },
    {
     "data": {
      "text/html": [
       "'11/18/2500'"
      ],
      "text/latex": [
       "'11/18/2500'"
      ],
      "text/markdown": [
       "'11/18/2500'"
      ],
      "text/plain": [
       "[1] \"11/18/2500\""
      ]
     },
     "metadata": {},
     "output_type": "display_data"
    }
   ],
   "source": [
    "# Create a stamp based on \"Sep 20 2017\"\n",
    "date_stamp <- stamp(\"Sep 20 2017\")\n",
    "\n",
    "# Print date_stamp\n",
    "date_stamp\n",
    "\n",
    "# Call date_stamp on today()\n",
    "date_stamp(today())\n",
    "\n",
    "# Create and call a stamp based on \"09/20/2017\"\n",
    "stamp(\"09/20/2017\")(today())\n"
   ]
  }
 ],
 "metadata": {
  "kernelspec": {
   "display_name": "R",
   "language": "R",
   "name": "ir"
  },
  "language_info": {
   "codemirror_mode": "r",
   "file_extension": ".r",
   "mimetype": "text/x-r-source",
   "name": "R",
   "pygments_lexer": "r",
   "version": "3.5.1"
  }
 },
 "nbformat": 4,
 "nbformat_minor": 2
}

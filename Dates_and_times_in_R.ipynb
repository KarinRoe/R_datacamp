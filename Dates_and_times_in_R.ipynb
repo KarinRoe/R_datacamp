{
 "cells": [
  {
   "cell_type": "code",
   "execution_count": 17,
   "metadata": {},
   "outputs": [
    {
     "name": "stderr",
     "output_type": "stream",
     "text": [
      "\n",
      "Attaching package: 'dplyr'\n",
      "\n",
      "The following objects are masked from 'package:stats':\n",
      "\n",
      "    filter, lag\n",
      "\n",
      "The following objects are masked from 'package:base':\n",
      "\n",
      "    intersect, setdiff, setequal, union\n",
      "\n"
     ]
    }
   ],
   "source": [
    "# setting the graphic width and height for ggplot\n",
    "library(repr)\n",
    "options(repr.plot.width=6, repr.plot.height=4)\n",
    "\n",
    "library(dplyr)"
   ]
  },
  {
   "cell_type": "markdown",
   "metadata": {},
   "source": [
    "## as.Date()"
   ]
  },
  {
   "cell_type": "code",
   "execution_count": 1,
   "metadata": {},
   "outputs": [
    {
     "name": "stdout",
     "output_type": "stream",
     "text": [
      " chr \"2013-04-03\"\n",
      " Date[1:1], format: \"2013-04-03\"\n"
     ]
    }
   ],
   "source": [
    "# The date R 3.0.0 was released\n",
    "x <- \"2013-04-03\"\n",
    "\n",
    "# Examine structure of x\n",
    "str(x)\n",
    "\n",
    "# Use as.Date() to interpret x as a date\n",
    "x_date <- as.Date(x)\n",
    "\n",
    "# Examine structure of x_date\n",
    "str(x_date)\n",
    "\n",
    "# Store April 10 2014 as a Date\n",
    "april_10_2014 <- as.Date(\"2014-04-10\")"
   ]
  },
  {
   "cell_type": "markdown",
   "metadata": {},
   "source": [
    "## Automatic import\n",
    "\n",
    "Sometimes you'll need to input a couple of dates by hand using as.Date() but it's much more common to have a column of dates in a data file.\n",
    "\n",
    "Some functions that read in data will automatically recognize and parse dates in a variety of formats. In particular the import functions, like read_csv(), in the **readr** package will recognize dates in a few common formats.\n",
    "\n",
    "There is also the anytime() function in the **anytime** package whose sole goal is to automatically parse strings as dates regardless of the format."
   ]
  },
  {
   "cell_type": "code",
   "execution_count": 18,
   "metadata": {},
   "outputs": [
    {
     "name": "stderr",
     "output_type": "stream",
     "text": [
      "Parsed with column specification:\n",
      "cols(\n",
      "  major = col_integer(),\n",
      "  minor = col_integer(),\n",
      "  patch = col_integer(),\n",
      "  date = col_date(format = \"\"),\n",
      "  datetime = col_datetime(format = \"\"),\n",
      "  time = col_time(format = \"\"),\n",
      "  type = col_character()\n",
      ")\n"
     ]
    },
    {
     "name": "stdout",
     "output_type": "stream",
     "text": [
      " Date[1:105], format: \"1997-12-04\" \"1997-12-21\" \"1998-01-10\" \"1998-03-14\" \"1998-05-02\" ...\n"
     ]
    },
    {
     "data": {
      "text/plain": [
       "[1] \"2009-09-10 01:00:00 BST\" \"2009-09-10 01:00:00 BST\"\n",
       "[3] \"2009-09-10 01:00:00 BST\" \"2009-09-10 01:00:00 BST\""
      ]
     },
     "metadata": {},
     "output_type": "display_data"
    }
   ],
   "source": [
    "# Load the readr package\n",
    "library(readr)\n",
    "\n",
    "# Use read_csv() to import rversions.csv\n",
    "releases <- read_csv(\"rversions.csv\")\n",
    "\n",
    "# Examine the structure of the date column\n",
    "str(releases$date)\n",
    "\n",
    "# Load the anytime package\n",
    "library(anytime)\n",
    "\n",
    "# Various ways of writing Sep 10 2009\n",
    "sep_10_2009 <- c(\"September 10 2009\", \"2009-09-10\", \"10 Sep 2009\", \"09-10-2009\")\n",
    "\n",
    "# Use anytime() to parse sep_10_2009\n",
    "anytime(sep_10_2009)"
   ]
  },
  {
   "cell_type": "code",
   "execution_count": 10,
   "metadata": {},
   "outputs": [
    {
     "data": {},
     "metadata": {},
     "output_type": "display_data"
    },
    {
     "data": {
      "image/png": "[encoded data removed]",
      "text/plain": [
       "plot without title"
      ]
     },
     "metadata": {},
     "output_type": "display_data"
    }
   ],
   "source": [
    "library(ggplot2)\n",
    "\n",
    "# Set the x axis to the date column\n",
    "ggplot(releases, aes(x = date, y = type)) +\n",
    "  geom_line(aes(group = 1, color = factor(major)))"
   ]
  },
  {
   "cell_type": "code",
   "execution_count": 11,
   "metadata": {},
   "outputs": [
    {
     "name": "stderr",
     "output_type": "stream",
     "text": [
      "Warning message:\n",
      "\"Removed 87 rows containing missing values (geom_path).\""
     ]
    },
    {
     "data": {},
     "metadata": {},
     "output_type": "display_data"
    },
    {
     "data": {
      "image/png": "[encoded data removed]",
      "text/plain": [
       "plot without title"
      ]
     },
     "metadata": {},
     "output_type": "display_data"
    }
   ],
   "source": [
    "# Limit the axis to between 2010-01-01 and 2014-01-01\n",
    "ggplot(releases, aes(x = date, y = type)) +\n",
    "  geom_line(aes(group = 1, color = factor(major))) +\n",
    "  xlim(as.Date(\"2010-01-01\"), as.Date(\"2014-01-01\"))"
   ]
  },
  {
   "cell_type": "code",
   "execution_count": 12,
   "metadata": {},
   "outputs": [
    {
     "data": {},
     "metadata": {},
     "output_type": "display_data"
    },
    {
     "data": {
      "image/png": "[encoded data removed]",
      "text/plain": [
       "plot without title"
      ]
     },
     "metadata": {},
     "output_type": "display_data"
    }
   ],
   "source": [
    "# Specify breaks every ten years and labels with \"%Y\"\n",
    "ggplot(releases, aes(x = date, y = type)) +\n",
    "  geom_line(aes(group = 1, color = factor(major))) +\n",
    "  scale_x_date(date_breaks = \"10 years\", date_labels = \"%Y\")\n"
   ]
  },
  {
   "cell_type": "markdown",
   "metadata": {},
   "source": [
    "## Sys.Date()\n",
    "gives you the current date"
   ]
  },
  {
   "cell_type": "code",
   "execution_count": 19,
   "metadata": {},
   "outputs": [
    {
     "data": {
      "text/html": [
       "<table>\n",
       "<thead><tr><th scope=col>major</th><th scope=col>minor</th><th scope=col>patch</th><th scope=col>date</th><th scope=col>datetime</th><th scope=col>time</th><th scope=col>type</th></tr></thead>\n",
       "<tbody>\n",
       "\t<tr><td>3                  </td><td>4                  </td><td>1                  </td><td>2017-06-30         </td><td>2017-06-30 07:04:11</td><td>07:04:11           </td><td>patch              </td></tr>\n",
       "</tbody>\n",
       "</table>\n"
      ],
      "text/latex": [
       "\\begin{tabular}{r|lllllll}\n",
       " major & minor & patch & date & datetime & time & type\\\\\n",
       "\\hline\n",
       "\t 3                   & 4                   & 1                   & 2017-06-30          & 2017-06-30 07:04:11 & 07:04:11            & patch              \\\\\n",
       "\\end{tabular}\n"
      ],
      "text/markdown": [
       "\n",
       "major | minor | patch | date | datetime | time | type | \n",
       "|---|\n",
       "| 3                   | 4                   | 1                   | 2017-06-30          | 2017-06-30 07:04:11 | 07:04:11            | patch               | \n",
       "\n",
       "\n"
      ],
      "text/plain": [
       "  major minor patch date       datetime            time     type \n",
       "1 3     4     1     2017-06-30 2017-06-30 07:04:11 07:04:11 patch"
      ]
     },
     "metadata": {},
     "output_type": "display_data"
    },
    {
     "data": {
      "text/plain": [
       "Time difference of 480 days"
      ]
     },
     "metadata": {},
     "output_type": "display_data"
    }
   ],
   "source": [
    "# Find the largest date\n",
    "last_release_date <- max(releases$date)\n",
    "\n",
    "# Filter row for last release\n",
    "last_release <- filter(releases, date == last_release_date)\n",
    "\n",
    "# Print last_release\n",
    "last_release\n",
    "\n",
    "# How long since last release?\n",
    "Sys.Date() - last_release_date"
   ]
  },
  {
   "cell_type": "markdown",
   "metadata": {},
   "source": [
    "## Getting datetimes into R"
   ]
  },
  {
   "cell_type": "markdown",
   "metadata": {},
   "source": [
    "Finding out in which timezone you live:"
   ]
  },
  {
   "cell_type": "code",
   "execution_count": 21,
   "metadata": {},
   "outputs": [
    {
     "data": {
      "text/html": [
       "'Europe/London'"
      ],
      "text/latex": [
       "'Europe/London'"
      ],
      "text/markdown": [
       "'Europe/London'"
      ],
      "text/plain": [
       "[1] \"Europe/London\""
      ]
     },
     "metadata": {},
     "output_type": "display_data"
    }
   ],
   "source": [
    "Sys.timezone()"
   ]
  },
  {
   "cell_type": "code",
   "execution_count": 20,
   "metadata": {},
   "outputs": [
    {
     "data": {
      "text/plain": [
       "[1] \"2010-10-01 12:12:00 BST\""
      ]
     },
     "metadata": {},
     "output_type": "display_data"
    },
    {
     "data": {
      "text/plain": [
       "[1] \"2010-10-01 12:12:00 PDT\""
      ]
     },
     "metadata": {},
     "output_type": "display_data"
    },
    {
     "name": "stderr",
     "output_type": "stream",
     "text": [
      "Parsed with column specification:\n",
      "cols(\n",
      "  major = col_integer(),\n",
      "  minor = col_integer(),\n",
      "  patch = col_integer(),\n",
      "  date = col_date(format = \"\"),\n",
      "  datetime = col_datetime(format = \"\"),\n",
      "  time = col_time(format = \"\"),\n",
      "  type = col_character()\n",
      ")\n"
     ]
    },
    {
     "name": "stdout",
     "output_type": "stream",
     "text": [
      " POSIXct[1:105], format: \"1997-12-04 08:47:58\" \"1997-12-21 13:09:22\" \"1998-01-10 00:31:55\" ...\n"
     ]
    }
   ],
   "source": [
    "# Use as.POSIXct to enter the datetime \n",
    "as.POSIXct(\"2010-10-01 12:12:00\")\n",
    "\n",
    "# Use as.POSIXct again but set the timezone to `\"America/Los_Angeles\"`\n",
    "as.POSIXct(\"2010-10-01 12:12:00\", tz = \"America/Los_Angeles\")\n",
    "\n",
    "# Use read_csv to import rversions.csv\n",
    "releases <- read_csv(\"rversions.csv\")\n",
    "\n",
    "# Examine structure of datetime column\n",
    "str(releases$datetime)"
   ]
  },
  {
   "cell_type": "code",
   "execution_count": 30,
   "metadata": {},
   "outputs": [
    {
     "name": "stderr",
     "output_type": "stream",
     "text": [
      "Parsed with column specification:\n",
      "cols(\n",
      "  datetime = col_datetime(format = \"\"),\n",
      "  r_version = col_character(),\n",
      "  country = col_character()\n",
      ")\n"
     ]
    },
    {
     "data": {
      "text/html": [
       "<table>\n",
       "<thead><tr><th scope=col>datetime</th><th scope=col>r_version</th><th scope=col>country</th></tr></thead>\n",
       "<tbody>\n",
       "\t<tr><td>2015-04-16 22:40:19</td><td>3.1.3              </td><td>CO                 </td></tr>\n",
       "\t<tr><td>2015-04-16 09:11:04</td><td>3.1.3              </td><td>GB                 </td></tr>\n",
       "\t<tr><td>2015-04-16 17:12:37</td><td>3.1.3              </td><td>DE                 </td></tr>\n",
       "\t<tr><td>2015-04-18 12:34:43</td><td>3.2.0              </td><td>GB                 </td></tr>\n",
       "\t<tr><td>2015-04-16 04:49:18</td><td>3.1.3              </td><td>PE                 </td></tr>\n",
       "\t<tr><td>2015-04-16 06:40:44</td><td>3.1.3              </td><td>TW                 </td></tr>\n",
       "</tbody>\n",
       "</table>\n"
      ],
      "text/latex": [
       "\\begin{tabular}{r|lll}\n",
       " datetime & r\\_version & country\\\\\n",
       "\\hline\n",
       "\t 2015-04-16 22:40:19 & 3.1.3               & CO                 \\\\\n",
       "\t 2015-04-16 09:11:04 & 3.1.3               & GB                 \\\\\n",
       "\t 2015-04-16 17:12:37 & 3.1.3               & DE                 \\\\\n",
       "\t 2015-04-18 12:34:43 & 3.2.0               & GB                 \\\\\n",
       "\t 2015-04-16 04:49:18 & 3.1.3               & PE                 \\\\\n",
       "\t 2015-04-16 06:40:44 & 3.1.3               & TW                 \\\\\n",
       "\\end{tabular}\n"
      ],
      "text/markdown": [
       "\n",
       "datetime | r_version | country | \n",
       "|---|---|---|---|---|---|\n",
       "| 2015-04-16 22:40:19 | 3.1.3               | CO                  | \n",
       "| 2015-04-16 09:11:04 | 3.1.3               | GB                  | \n",
       "| 2015-04-16 17:12:37 | 3.1.3               | DE                  | \n",
       "| 2015-04-18 12:34:43 | 3.2.0               | GB                  | \n",
       "| 2015-04-16 04:49:18 | 3.1.3               | PE                  | \n",
       "| 2015-04-16 06:40:44 | 3.1.3               | TW                  | \n",
       "\n",
       "\n"
      ],
      "text/plain": [
       "  datetime            r_version country\n",
       "1 2015-04-16 22:40:19 3.1.3     CO     \n",
       "2 2015-04-16 09:11:04 3.1.3     GB     \n",
       "3 2015-04-16 17:12:37 3.1.3     DE     \n",
       "4 2015-04-18 12:34:43 3.2.0     GB     \n",
       "5 2015-04-16 04:49:18 3.1.3     PE     \n",
       "6 2015-04-16 06:40:44 3.1.3     TW     "
      ]
     },
     "metadata": {},
     "output_type": "display_data"
    },
    {
     "data": {
      "text/html": [
       "<table>\n",
       "<thead><tr><th scope=col>datetime</th><th scope=col>r_version</th><th scope=col>country</th></tr></thead>\n",
       "<tbody>\n",
       "\t<tr><td>2015-04-18 12:34:43</td><td>3.2.0              </td><td>GB                 </td></tr>\n",
       "</tbody>\n",
       "</table>\n"
      ],
      "text/latex": [
       "\\begin{tabular}{r|lll}\n",
       " datetime & r\\_version & country\\\\\n",
       "\\hline\n",
       "\t 2015-04-18 12:34:43 & 3.2.0               & GB                 \\\\\n",
       "\\end{tabular}\n"
      ],
      "text/markdown": [
       "\n",
       "datetime | r_version | country | \n",
       "|---|\n",
       "| 2015-04-18 12:34:43 | 3.2.0               | GB                  | \n",
       "\n",
       "\n"
      ],
      "text/plain": [
       "  datetime            r_version country\n",
       "1 2015-04-18 12:34:43 3.2.0     GB     "
      ]
     },
     "metadata": {},
     "output_type": "display_data"
    }
   ],
   "source": [
    "# Import \"cran-logs_2015-04-17.csv\" with read_csv()\n",
    "logs <- read_csv(\"cran-logs_2015-04-17.csv\")\n",
    "\n",
    "# Print logs\n",
    "head(logs)\n",
    "\n",
    "# Store the release time as a POSIXct object\n",
    "release_time <-as.POSIXct(\"2015-04-16 07:13:33\", tz = \"UTC\")\n",
    "\n",
    "# When is the first download of 3.2.0?\n",
    "head(logs %>% \n",
    "  filter(datetime > release_time,\n",
    "    r_version == \"3.2.0\"),1)"
   ]
  },
  {
   "cell_type": "code",
   "execution_count": 25,
   "metadata": {},
   "outputs": [
    {
     "name": "stderr",
     "output_type": "stream",
     "text": [
      "`stat_bin()` using `bins = 30`. Pick better value with `binwidth`.\n"
     ]
    },
    {
     "data": {},
     "metadata": {},
     "output_type": "display_data"
    },
    {
     "data": {
      "image/png": "[encoded data removed]",
      "text/plain": [
       "plot without title"
      ]
     },
     "metadata": {},
     "output_type": "display_data"
    }
   ],
   "source": [
    "# Examine histograms of downloads by version\n",
    "ggplot(logs, aes(x = datetime)) +\n",
    "  geom_histogram() +\n",
    "  geom_vline(aes(xintercept = as.numeric(release_time)))+\n",
    "  facet_wrap(~ r_version, ncol = 1)"
   ]
  },
  {
   "cell_type": "markdown",
   "metadata": {},
   "source": [
    "## lubridate"
   ]
  },
  {
   "cell_type": "code",
   "execution_count": 33,
   "metadata": {},
   "outputs": [
    {
     "data": {
      "text/html": [
       "<time datetime=\"2010-09-20\">2010-09-20</time>"
      ],
      "text/latex": [
       "2010-09-20"
      ],
      "text/markdown": [
       "2010-09-20"
      ],
      "text/plain": [
       "[1] \"2010-09-20\""
      ]
     },
     "metadata": {},
     "output_type": "display_data"
    },
    {
     "data": {
      "text/html": [
       "<time datetime=\"2010-01-02\">2010-01-02</time>"
      ],
      "text/latex": [
       "2010-01-02"
      ],
      "text/markdown": [
       "2010-01-02"
      ],
      "text/plain": [
       "[1] \"2010-01-02\""
      ]
     },
     "metadata": {},
     "output_type": "display_data"
    },
    {
     "data": {
      "text/plain": [
       "[1] \"2010-09-12 14:00:00 UTC\""
      ]
     },
     "metadata": {},
     "output_type": "display_data"
    }
   ],
   "source": [
    "library(lubridate)\n",
    "\n",
    "# Parse x \n",
    "x <- \"2010 September 20th\" # 2010-09-20\n",
    "ymd(x)\n",
    "\n",
    "# Parse y \n",
    "y <- \"02.01.2010\"  # 2010-01-02\n",
    "dmy(y)\n",
    "\n",
    "# Parse z \n",
    "z <- \"Sep, 12th 2010 14:00\"  # 2010-09-12T14:00\n",
    "mdy_hm(z)"
   ]
  },
  {
   "cell_type": "code",
   "execution_count": 36,
   "metadata": {},
   "outputs": [
    {
     "data": {
      "text/plain": [
       "[1] \"2001-10-07 UTC\" \"2002-10-13 UTC\" \"2003-04-13 UTC\" \"2005-04-17 UTC\"\n",
       "[5] \"2017-04-23 UTC\""
      ]
     },
     "metadata": {},
     "output_type": "display_data"
    },
    {
     "data": {
      "text/plain": [
       "[1] \"1282-12-11 UTC\" \"1372-05-01 UTC\" \"1253-01-01 UTC\""
      ]
     },
     "metadata": {},
     "output_type": "display_data"
    }
   ],
   "source": [
    "# Specify order to include both \"mdy\" and \"dmy\"\n",
    "two_orders <- c(\"October 7, 2001\", \"October 13, 2002\", \"April 13, 2003\", \n",
    "  \"17 April 2005\", \"23 April 2017\")\n",
    "parse_date_time(two_orders, orders = c(\"mdy\", \"dmy\"))\n",
    "\n",
    "# Specify order to include \"dOmY\", \"OmY\" and \"Y\"\n",
    "short_dates <- c(\"11 December 1282\", \"May 1372\", \"1253\")\n",
    "parse_date_time(short_dates, orders = c(\"dOmY\", \"OmY\", \"Y\"))\n"
   ]
  },
  {
   "cell_type": "code",
   "execution_count": 38,
   "metadata": {},
   "outputs": [
    {
     "name": "stderr",
     "output_type": "stream",
     "text": [
      "Parsed with column specification:\n",
      "cols(\n",
      "  date = col_character(),\n",
      "  max_temp = col_integer(),\n",
      "  min_temp = col_integer(),\n",
      "  mean_temp = col_integer(),\n",
      "  mean_rh = col_integer(),\n",
      "  events = col_character(),\n",
      "  cloud_cover = col_integer()\n",
      ")\n"
     ]
    },
    {
     "name": "stdout",
     "output_type": "stream",
     "text": [
      "Observations: 3,661\n",
      "Variables: 7\n",
      "$ date        <chr> \"2007-9-1\", \"2007-9-2\", \"2007-9-3\", \"2007-9-4\", \"2007-9...\n",
      "$ max_temp    <int> 60, 60, 57, 64, 53, 57, 59, 59, 55, 59, 57, 59, 62, 62,...\n",
      "$ min_temp    <int> 51, 53, 51, 50, 48, 42, 41, 46, 50, 50, 50, 42, 44, 51,...\n",
      "$ mean_temp   <int> 56, 56, 54, 57, 50, 50, 50, 52, 52, 54, 54, 50, 53, 56,...\n",
      "$ mean_rh     <int> 75, 82, 78, 80, 90, 69, 77, 80, 88, 82, 78, 78, 77, 78,...\n",
      "$ events      <chr> NA, \"Rain\", NA, \"Rain\", \"Rain\", NA, NA, NA, \"Rain\", \"Ra...\n",
      "$ cloud_cover <int> 4, 4, 6, 6, 7, 1, 4, 5, 7, 4, 3, 2, 4, 5, 4, 6, 4, 4, 4...\n",
      "Observations: 3,661\n",
      "Variables: 7\n",
      "$ date        <date> 2007-09-01, 2007-09-02, 2007-09-03, 2007-09-04, 2007-0...\n",
      "$ max_temp    <int> 60, 60, 57, 64, 53, 57, 59, 59, 55, 59, 57, 59, 62, 62,...\n",
      "$ min_temp    <int> 51, 53, 51, 50, 48, 42, 41, 46, 50, 50, 50, 42, 44, 51,...\n",
      "$ mean_temp   <int> 56, 56, 54, 57, 50, 50, 50, 52, 52, 54, 54, 50, 53, 56,...\n",
      "$ mean_rh     <int> 75, 82, 78, 80, 90, 69, 77, 80, 88, 82, 78, 78, 77, 78,...\n",
      "$ events      <chr> NA, \"Rain\", NA, \"Rain\", \"Rain\", NA, NA, NA, \"Rain\", \"Ra...\n",
      "$ cloud_cover <int> 4, 4, 6, 6, 7, 1, 4, 5, 7, 4, 3, 2, 4, 5, 4, 6, 4, 4, 4...\n"
     ]
    }
   ],
   "source": [
    "library(lubridate)\n",
    "library(readr)\n",
    "library(dplyr)\n",
    "library(ggplot2)\n",
    "\n",
    "# Import CSV with read_csv()\n",
    "akl_daily_raw <- read_csv(\"akl_weather_daily.csv\")\n",
    "\n",
    "# akl_daily_raw\n",
    "glimpse(akl_daily_raw)\n",
    "\n",
    "# Parse date \n",
    "akl_daily <- akl_daily_raw %>%\n",
    "  mutate(date = ymd(date))\n",
    "\n",
    "# akl_daily\n",
    "glimpse(akl_daily)"
   ]
  },
  {
   "cell_type": "code",
   "execution_count": 39,
   "metadata": {},
   "outputs": [
    {
     "name": "stderr",
     "output_type": "stream",
     "text": [
      "Warning message:\n",
      "\"Removed 1 rows containing missing values (geom_path).\""
     ]
    },
    {
     "data": {},
     "metadata": {},
     "output_type": "display_data"
    },
    {
     "data": {
      "image/png": "[encoded data removed]",
      "text/plain": [
       "plot without title"
      ]
     },
     "metadata": {},
     "output_type": "display_data"
    }
   ],
   "source": [
    "# Plot to check work\n",
    "ggplot(akl_daily, aes(x = date, y = max_temp)) +\n",
    "  geom_line() "
   ]
  },
  {
   "cell_type": "code",
   "execution_count": 40,
   "metadata": {},
   "outputs": [
    {
     "name": "stderr",
     "output_type": "stream",
     "text": [
      "Parsed with column specification:\n",
      "cols(\n",
      "  year = col_integer(),\n",
      "  month = col_integer(),\n",
      "  mday = col_integer(),\n",
      "  time = col_time(format = \"\"),\n",
      "  temperature = col_double(),\n",
      "  weather = col_character(),\n",
      "  conditions = col_character(),\n",
      "  events = col_character(),\n",
      "  humidity = col_integer(),\n",
      "  date_utc = col_datetime(format = \"\")\n",
      ")\n"
     ]
    },
    {
     "data": {
      "text/html": [
       "<table>\n",
       "<thead><tr><th scope=col>year</th><th scope=col>month</th><th scope=col>mday</th><th scope=col>time</th><th scope=col>temperature</th><th scope=col>weather</th><th scope=col>conditions</th><th scope=col>events</th><th scope=col>humidity</th><th scope=col>date_utc</th></tr></thead>\n",
       "<tbody>\n",
       "\t<tr><td>2016               </td><td>1                  </td><td>1                  </td><td>00:00:00           </td><td>68                 </td><td>Clear              </td><td>Clear              </td><td>NA                 </td><td>68                 </td><td>2015-12-31 11:00:00</td></tr>\n",
       "\t<tr><td>2016               </td><td>1                  </td><td>1                  </td><td>00:30:00           </td><td>68                 </td><td>Clear              </td><td>Clear              </td><td>NA                 </td><td>68                 </td><td>2015-12-31 11:30:00</td></tr>\n",
       "\t<tr><td>2016               </td><td>1                  </td><td>1                  </td><td>01:00:00           </td><td>68                 </td><td>Clear              </td><td>Clear              </td><td>NA                 </td><td>73                 </td><td>2015-12-31 12:00:00</td></tr>\n",
       "\t<tr><td>2016               </td><td>1                  </td><td>1                  </td><td>01:30:00           </td><td>68                 </td><td>Clear              </td><td>Clear              </td><td>NA                 </td><td>68                 </td><td>2015-12-31 12:30:00</td></tr>\n",
       "\t<tr><td>2016               </td><td>1                  </td><td>1                  </td><td>02:00:00           </td><td>68                 </td><td>Clear              </td><td>Clear              </td><td>NA                 </td><td>68                 </td><td>2015-12-31 13:00:00</td></tr>\n",
       "\t<tr><td>2016               </td><td>1                  </td><td>1                  </td><td>02:30:00           </td><td>68                 </td><td>Clear              </td><td>Clear              </td><td>NA                 </td><td>68                 </td><td>2015-12-31 13:30:00</td></tr>\n",
       "</tbody>\n",
       "</table>\n"
      ],
      "text/latex": [
       "\\begin{tabular}{r|llllllllll}\n",
       " year & month & mday & time & temperature & weather & conditions & events & humidity & date\\_utc\\\\\n",
       "\\hline\n",
       "\t 2016                & 1                   & 1                   & 00:00:00            & 68                  & Clear               & Clear               & NA                  & 68                  & 2015-12-31 11:00:00\\\\\n",
       "\t 2016                & 1                   & 1                   & 00:30:00            & 68                  & Clear               & Clear               & NA                  & 68                  & 2015-12-31 11:30:00\\\\\n",
       "\t 2016                & 1                   & 1                   & 01:00:00            & 68                  & Clear               & Clear               & NA                  & 73                  & 2015-12-31 12:00:00\\\\\n",
       "\t 2016                & 1                   & 1                   & 01:30:00            & 68                  & Clear               & Clear               & NA                  & 68                  & 2015-12-31 12:30:00\\\\\n",
       "\t 2016                & 1                   & 1                   & 02:00:00            & 68                  & Clear               & Clear               & NA                  & 68                  & 2015-12-31 13:00:00\\\\\n",
       "\t 2016                & 1                   & 1                   & 02:30:00            & 68                  & Clear               & Clear               & NA                  & 68                  & 2015-12-31 13:30:00\\\\\n",
       "\\end{tabular}\n"
      ],
      "text/markdown": [
       "\n",
       "year | month | mday | time | temperature | weather | conditions | events | humidity | date_utc | \n",
       "|---|---|---|---|---|---|\n",
       "| 2016                | 1                   | 1                   | 00:00:00            | 68                  | Clear               | Clear               | NA                  | 68                  | 2015-12-31 11:00:00 | \n",
       "| 2016                | 1                   | 1                   | 00:30:00            | 68                  | Clear               | Clear               | NA                  | 68                  | 2015-12-31 11:30:00 | \n",
       "| 2016                | 1                   | 1                   | 01:00:00            | 68                  | Clear               | Clear               | NA                  | 73                  | 2015-12-31 12:00:00 | \n",
       "| 2016                | 1                   | 1                   | 01:30:00            | 68                  | Clear               | Clear               | NA                  | 68                  | 2015-12-31 12:30:00 | \n",
       "| 2016                | 1                   | 1                   | 02:00:00            | 68                  | Clear               | Clear               | NA                  | 68                  | 2015-12-31 13:00:00 | \n",
       "| 2016                | 1                   | 1                   | 02:30:00            | 68                  | Clear               | Clear               | NA                  | 68                  | 2015-12-31 13:30:00 | \n",
       "\n",
       "\n"
      ],
      "text/plain": [
       "  year month mday time     temperature weather conditions events humidity\n",
       "1 2016 1     1    00:00:00 68          Clear   Clear      NA     68      \n",
       "2 2016 1     1    00:30:00 68          Clear   Clear      NA     68      \n",
       "3 2016 1     1    01:00:00 68          Clear   Clear      NA     73      \n",
       "4 2016 1     1    01:30:00 68          Clear   Clear      NA     68      \n",
       "5 2016 1     1    02:00:00 68          Clear   Clear      NA     68      \n",
       "6 2016 1     1    02:30:00 68          Clear   Clear      NA     68      \n",
       "  date_utc           \n",
       "1 2015-12-31 11:00:00\n",
       "2 2015-12-31 11:30:00\n",
       "3 2015-12-31 12:00:00\n",
       "4 2015-12-31 12:30:00\n",
       "5 2015-12-31 13:00:00\n",
       "6 2015-12-31 13:30:00"
      ]
     },
     "metadata": {},
     "output_type": "display_data"
    },
    {
     "data": {
      "text/html": [
       "<table>\n",
       "<thead><tr><th scope=col>date</th><th scope=col>time</th><th scope=col>datetime</th></tr></thead>\n",
       "<tbody>\n",
       "\t<tr><td>2016-01-01         </td><td>00:00:00           </td><td>2016-01-01 00:00:00</td></tr>\n",
       "\t<tr><td>2016-01-01         </td><td>00:30:00           </td><td>2016-01-01 00:30:00</td></tr>\n",
       "\t<tr><td>2016-01-01         </td><td>01:00:00           </td><td>2016-01-01 01:00:00</td></tr>\n",
       "\t<tr><td>2016-01-01         </td><td>01:30:00           </td><td>2016-01-01 01:30:00</td></tr>\n",
       "\t<tr><td>2016-01-01         </td><td>02:00:00           </td><td>2016-01-01 02:00:00</td></tr>\n",
       "\t<tr><td>2016-01-01         </td><td>02:30:00           </td><td>2016-01-01 02:30:00</td></tr>\n",
       "</tbody>\n",
       "</table>\n"
      ],
      "text/latex": [
       "\\begin{tabular}{r|lll}\n",
       " date & time & datetime\\\\\n",
       "\\hline\n",
       "\t 2016-01-01          & 00:00:00            & 2016-01-01 00:00:00\\\\\n",
       "\t 2016-01-01          & 00:30:00            & 2016-01-01 00:30:00\\\\\n",
       "\t 2016-01-01          & 01:00:00            & 2016-01-01 01:00:00\\\\\n",
       "\t 2016-01-01          & 01:30:00            & 2016-01-01 01:30:00\\\\\n",
       "\t 2016-01-01          & 02:00:00            & 2016-01-01 02:00:00\\\\\n",
       "\t 2016-01-01          & 02:30:00            & 2016-01-01 02:30:00\\\\\n",
       "\\end{tabular}\n"
      ],
      "text/markdown": [
       "\n",
       "date | time | datetime | \n",
       "|---|---|---|---|---|---|\n",
       "| 2016-01-01          | 00:00:00            | 2016-01-01 00:00:00 | \n",
       "| 2016-01-01          | 00:30:00            | 2016-01-01 00:30:00 | \n",
       "| 2016-01-01          | 01:00:00            | 2016-01-01 01:00:00 | \n",
       "| 2016-01-01          | 01:30:00            | 2016-01-01 01:30:00 | \n",
       "| 2016-01-01          | 02:00:00            | 2016-01-01 02:00:00 | \n",
       "| 2016-01-01          | 02:30:00            | 2016-01-01 02:30:00 | \n",
       "\n",
       "\n"
      ],
      "text/plain": [
       "  date       time     datetime           \n",
       "1 2016-01-01 00:00:00 2016-01-01 00:00:00\n",
       "2 2016-01-01 00:30:00 2016-01-01 00:30:00\n",
       "3 2016-01-01 01:00:00 2016-01-01 01:00:00\n",
       "4 2016-01-01 01:30:00 2016-01-01 01:30:00\n",
       "5 2016-01-01 02:00:00 2016-01-01 02:00:00\n",
       "6 2016-01-01 02:30:00 2016-01-01 02:30:00"
      ]
     },
     "metadata": {},
     "output_type": "display_data"
    }
   ],
   "source": [
    "# Import \"akl_weather_hourly_2016.csv\"\n",
    "akl_hourly_raw <- read_csv(\"akl_weather_hourly_2016.csv\")\n",
    "\n",
    "# Print akl_hourly_raw\n",
    "head(akl_hourly_raw)\n",
    "\n",
    "# Use make_date() to combine year, month and mday \n",
    "akl_hourly  <- akl_hourly_raw  %>% \n",
    "  mutate(date = make_date(year = year, month = month, day = mday))\n",
    "\n",
    "# Parse datetime_string \n",
    "akl_hourly <- akl_hourly  %>% \n",
    "  mutate(\n",
    "    datetime_string = paste(date, time, sep = \"T\"),\n",
    "    datetime = ymd_hms(datetime_string)\n",
    "  )\n",
    "\n",
    "# Print date, time and datetime columns of akl_hourly\n",
    "head(akl_hourly %>% select(date, time, datetime))\n"
   ]
  },
  {
   "cell_type": "code",
   "execution_count": 41,
   "metadata": {},
   "outputs": [
    {
     "data": {},
     "metadata": {},
     "output_type": "display_data"
    },
    {
     "data": {
      "image/png": "[encoded data removed]",
      "text/plain": [
       "plot without title"
      ]
     },
     "metadata": {},
     "output_type": "display_data"
    }
   ],
   "source": [
    "# Plot to check work\n",
    "ggplot(akl_hourly, aes(x = datetime, y = temperature)) +\n",
    "  geom_line()\n"
   ]
  },
  {
   "cell_type": "code",
   "execution_count": 45,
   "metadata": {},
   "outputs": [
    {
     "data": {
      "text/plain": [
       ".\n",
       " 1  2  3  4  5  6  7 \n",
       " 3 29  9 12 18 31  3 "
      ]
     },
     "metadata": {},
     "output_type": "display_data"
    },
    {
     "data": {
      "text/plain": [
       ".\n",
       "So Mo Di Mi Do Fr Sa \n",
       " 3 29  9 12 18 31  3 "
      ]
     },
     "metadata": {},
     "output_type": "display_data"
    }
   ],
   "source": [
    "library(ggplot2)\n",
    "\n",
    "# Use wday() to tabulate release by day of the week\n",
    "wday(releases$datetime) %>% table()\n",
    "\n",
    "# Add label = TRUE to make table more readable\n",
    "wday(releases$datetime, label = TRUE) %>% table()\n",
    "\n",
    "# Create column wday to hold labelled week days\n",
    "releases$wday <- wday(releases$datetime, label = TRUE)\n"
   ]
  },
  {
   "cell_type": "code",
   "execution_count": 46,
   "metadata": {},
   "outputs": [
    {
     "data": {},
     "metadata": {},
     "output_type": "display_data"
    },
    {
     "data": {
      "image/png": "[encoded data removed]",
      "text/plain": [
       "plot without title"
      ]
     },
     "metadata": {},
     "output_type": "display_data"
    }
   ],
   "source": [
    "# Plot barchart of weekday by type of release\n",
    "ggplot(releases, aes(x = wday)) +\n",
    "  geom_bar() +\n",
    "  facet_wrap(~ type, ncol = 1, scale = \"free_y\")"
   ]
  },
  {
   "cell_type": "code",
   "execution_count": 49,
   "metadata": {},
   "outputs": [
    {
     "name": "stderr",
     "output_type": "stream",
     "text": [
      "\n",
      "Attaching package: 'ggridges'\n",
      "\n",
      "The following object is masked from 'package:ggplot2':\n",
      "\n",
      "    scale_discrete_manual\n",
      "\n"
     ]
    }
   ],
   "source": [
    "library(ggplot2)\n",
    "library(dplyr)\n",
    "library(ggridges)\n",
    "\n",
    "# Add columns for year, yday and month\n",
    "akl_daily <- akl_daily %>%\n",
    "  mutate(\n",
    "    year = year(date),\n",
    "    yday = yday(date),\n",
    "    month = month(date, label = TRUE))"
   ]
  },
  {
   "cell_type": "code",
   "execution_count": 50,
   "metadata": {},
   "outputs": [
    {
     "name": "stderr",
     "output_type": "stream",
     "text": [
      "Warning message:\n",
      "\"Removed 1 rows containing missing values (geom_path).\""
     ]
    },
    {
     "data": {},
     "metadata": {},
     "output_type": "display_data"
    },
    {
     "data": {
      "image/png": "[encoded data removed]",
      "text/plain": [
       "plot without title"
      ]
     },
     "metadata": {},
     "output_type": "display_data"
    }
   ],
   "source": [
    "# Plot max_temp by yday for all years\n",
    "ggplot(akl_daily, aes(x = yday, y = max_temp)) +\n",
    "  geom_line(aes(group = year), alpha = 0.5)"
   ]
  },
  {
   "cell_type": "code",
   "execution_count": 51,
   "metadata": {},
   "outputs": [
    {
     "name": "stderr",
     "output_type": "stream",
     "text": [
      "Warning message:\n",
      "\"Removed 10 rows containing non-finite values (stat_density).\""
     ]
    },
    {
     "data": {},
     "metadata": {},
     "output_type": "display_data"
    },
    {
     "data": {
      "image/png": "[encoded data removed]",
      "text/plain": [
       "plot without title"
      ]
     },
     "metadata": {},
     "output_type": "display_data"
    }
   ],
   "source": [
    "# Examine distribtion of max_temp by month\n",
    "ggplot(akl_daily, aes(x = max_temp, y = month, height = ..density..)) +\n",
    "  geom_density_ridges(stat = \"density\")"
   ]
  },
  {
   "cell_type": "code",
   "execution_count": 53,
   "metadata": {},
   "outputs": [
    {
     "data": {
      "text/html": [
       "<table>\n",
       "<thead><tr><th scope=col>month</th><th scope=col>days_rainy</th></tr></thead>\n",
       "<tbody>\n",
       "\t<tr><td>Jan</td><td>15 </td></tr>\n",
       "\t<tr><td>Feb</td><td>13 </td></tr>\n",
       "\t<tr><td>Mrz</td><td>12 </td></tr>\n",
       "\t<tr><td>Apr</td><td>15 </td></tr>\n",
       "\t<tr><td>Mai</td><td>21 </td></tr>\n",
       "\t<tr><td>Jun</td><td>19 </td></tr>\n",
       "\t<tr><td>Jul</td><td>22 </td></tr>\n",
       "\t<tr><td>Aug</td><td>16 </td></tr>\n",
       "\t<tr><td>Sep</td><td>25 </td></tr>\n",
       "\t<tr><td>Okt</td><td>20 </td></tr>\n",
       "\t<tr><td>Nov</td><td>19 </td></tr>\n",
       "\t<tr><td>Dez</td><td>11 </td></tr>\n",
       "</tbody>\n",
       "</table>\n"
      ],
      "text/latex": [
       "\\begin{tabular}{r|ll}\n",
       " month & days\\_rainy\\\\\n",
       "\\hline\n",
       "\t Jan & 15 \\\\\n",
       "\t Feb & 13 \\\\\n",
       "\t Mrz & 12 \\\\\n",
       "\t Apr & 15 \\\\\n",
       "\t Mai & 21 \\\\\n",
       "\t Jun & 19 \\\\\n",
       "\t Jul & 22 \\\\\n",
       "\t Aug & 16 \\\\\n",
       "\t Sep & 25 \\\\\n",
       "\t Okt & 20 \\\\\n",
       "\t Nov & 19 \\\\\n",
       "\t Dez & 11 \\\\\n",
       "\\end{tabular}\n"
      ],
      "text/markdown": [
       "\n",
       "month | days_rainy | \n",
       "|---|---|---|---|---|---|---|---|---|---|---|---|\n",
       "| Jan | 15  | \n",
       "| Feb | 13  | \n",
       "| Mrz | 12  | \n",
       "| Apr | 15  | \n",
       "| Mai | 21  | \n",
       "| Jun | 19  | \n",
       "| Jul | 22  | \n",
       "| Aug | 16  | \n",
       "| Sep | 25  | \n",
       "| Okt | 20  | \n",
       "| Nov | 19  | \n",
       "| Dez | 11  | \n",
       "\n",
       "\n"
      ],
      "text/plain": [
       "   month days_rainy\n",
       "1  Jan   15        \n",
       "2  Feb   13        \n",
       "3  Mrz   12        \n",
       "4  Apr   15        \n",
       "5  Mai   21        \n",
       "6  Jun   19        \n",
       "7  Jul   22        \n",
       "8  Aug   16        \n",
       "9  Sep   25        \n",
       "10 Okt   20        \n",
       "11 Nov   19        \n",
       "12 Dez   11        "
      ]
     },
     "metadata": {},
     "output_type": "display_data"
    }
   ],
   "source": [
    "# Create new columns hour, month and rainy\n",
    "akl_hourly <- akl_hourly %>%\n",
    "  mutate(\n",
    "    hour = hour(datetime),\n",
    "    month = month(datetime, label = TRUE),\n",
    "    rainy = weather == \"Precipitation\"\n",
    "  )\n",
    "\n",
    "# Filter for hours between 8am and 10pm (inclusive)\n",
    "akl_day <- akl_hourly %>% \n",
    "  filter(hour >= 8, hour <= 22)\n",
    "\n",
    "# Summarise for each date if there is any rain\n",
    "rainy_days <- akl_day %>% \n",
    "  group_by(month, date) %>%\n",
    "  summarise(\n",
    "    any_rain = any(rainy)\n",
    "  )\n",
    "\n",
    "# Summarise for each month, the number of days with rain\n",
    "rainy_days %>% \n",
    "  summarise(\n",
    "    days_rainy = sum(any_rain)\n",
    "  )"
   ]
  },
  {
   "cell_type": "markdown",
   "metadata": {},
   "source": [
    "## Practice rounding\n",
    "\n",
    "As you saw in the video, round_date() rounds a date to the nearest value, floor_date() rounds down, and ceiling_date() rounds up.\n",
    "\n",
    "All three take a unit argument which specifies the resolution of rounding. You can specify \"second\", \"minute\", \"hour\", \"day\", \"week\", \"month\", \"bimonth\", \"quarter\", \"halfyear\", or \"year\". Or, you can specify any multiple of those units, e.g. \"5 years\", \"3 minutes\" etc."
   ]
  },
  {
   "cell_type": "code",
   "execution_count": 54,
   "metadata": {},
   "outputs": [
    {
     "data": {
      "text/plain": [
       "[1] \"2016-05-03 UTC\""
      ]
     },
     "metadata": {},
     "output_type": "display_data"
    },
    {
     "data": {
      "text/plain": [
       "[1] \"2016-05-03 07:15:00 UTC\""
      ]
     },
     "metadata": {},
     "output_type": "display_data"
    },
    {
     "data": {
      "text/plain": [
       "[1] \"2016-05-08 UTC\""
      ]
     },
     "metadata": {},
     "output_type": "display_data"
    },
    {
     "data": {
      "text/plain": [
       "Time difference of 7.224444 hours"
      ]
     },
     "metadata": {},
     "output_type": "display_data"
    }
   ],
   "source": [
    "r_3_4_1 <- ymd_hms(\"2016-05-03 07:13:28 UTC\")\n",
    "\n",
    "# Round down to day\n",
    "floor_date(r_3_4_1, unit = \"day\")\n",
    "\n",
    "# Round to nearest 5 minutes\n",
    "round_date(r_3_4_1, unit = \"5 minutes\")\n",
    "\n",
    "# Round up to week \n",
    "ceiling_date(r_3_4_1, unit = \"week\")\n",
    "\n",
    "# Subtract r_3_4_1 rounded down to day\n",
    "r_3_4_1 - floor_date(r_3_4_1, unit = \"day\")"
   ]
  },
  {
   "cell_type": "code",
   "execution_count": 56,
   "metadata": {},
   "outputs": [
    {
     "data": {
      "text/html": [
       "<table>\n",
       "<thead><tr><th scope=col>day_hour</th><th scope=col>n</th></tr></thead>\n",
       "<tbody>\n",
       "\t<tr><td>2016-01-01 00:00:00</td><td>2                  </td></tr>\n",
       "\t<tr><td>2016-01-01 01:00:00</td><td>2                  </td></tr>\n",
       "\t<tr><td>2016-01-01 02:00:00</td><td>2                  </td></tr>\n",
       "\t<tr><td>2016-01-01 03:00:00</td><td>2                  </td></tr>\n",
       "\t<tr><td>2016-01-01 04:00:00</td><td>2                  </td></tr>\n",
       "\t<tr><td>2016-01-01 05:00:00</td><td>2                  </td></tr>\n",
       "</tbody>\n",
       "</table>\n"
      ],
      "text/latex": [
       "\\begin{tabular}{r|ll}\n",
       " day\\_hour & n\\\\\n",
       "\\hline\n",
       "\t 2016-01-01 00:00:00 & 2                  \\\\\n",
       "\t 2016-01-01 01:00:00 & 2                  \\\\\n",
       "\t 2016-01-01 02:00:00 & 2                  \\\\\n",
       "\t 2016-01-01 03:00:00 & 2                  \\\\\n",
       "\t 2016-01-01 04:00:00 & 2                  \\\\\n",
       "\t 2016-01-01 05:00:00 & 2                  \\\\\n",
       "\\end{tabular}\n"
      ],
      "text/markdown": [
       "\n",
       "day_hour | n | \n",
       "|---|---|---|---|---|---|\n",
       "| 2016-01-01 00:00:00 | 2                   | \n",
       "| 2016-01-01 01:00:00 | 2                   | \n",
       "| 2016-01-01 02:00:00 | 2                   | \n",
       "| 2016-01-01 03:00:00 | 2                   | \n",
       "| 2016-01-01 04:00:00 | 2                   | \n",
       "| 2016-01-01 05:00:00 | 2                   | \n",
       "\n",
       "\n"
      ],
      "text/plain": [
       "  day_hour            n\n",
       "1 2016-01-01 00:00:00 2\n",
       "2 2016-01-01 01:00:00 2\n",
       "3 2016-01-01 02:00:00 2\n",
       "4 2016-01-01 03:00:00 2\n",
       "5 2016-01-01 04:00:00 2\n",
       "6 2016-01-01 05:00:00 2"
      ]
     },
     "metadata": {},
     "output_type": "display_data"
    },
    {
     "data": {
      "text/html": [
       "<table>\n",
       "<thead><tr><th scope=col>day_hour</th><th scope=col>n</th></tr></thead>\n",
       "<tbody>\n",
       "\t<tr><td>2016-04-03 02:00:00</td><td>4                  </td></tr>\n",
       "\t<tr><td>2016-09-25 00:00:00</td><td>4                  </td></tr>\n",
       "\t<tr><td>2016-06-26 09:00:00</td><td>1                  </td></tr>\n",
       "\t<tr><td>2016-09-01 23:00:00</td><td>1                  </td></tr>\n",
       "\t<tr><td>2016-09-02 01:00:00</td><td>1                  </td></tr>\n",
       "\t<tr><td>2016-09-04 11:00:00</td><td>1                  </td></tr>\n",
       "</tbody>\n",
       "</table>\n"
      ],
      "text/latex": [
       "\\begin{tabular}{r|ll}\n",
       " day\\_hour & n\\\\\n",
       "\\hline\n",
       "\t 2016-04-03 02:00:00 & 4                  \\\\\n",
       "\t 2016-09-25 00:00:00 & 4                  \\\\\n",
       "\t 2016-06-26 09:00:00 & 1                  \\\\\n",
       "\t 2016-09-01 23:00:00 & 1                  \\\\\n",
       "\t 2016-09-02 01:00:00 & 1                  \\\\\n",
       "\t 2016-09-04 11:00:00 & 1                  \\\\\n",
       "\\end{tabular}\n"
      ],
      "text/markdown": [
       "\n",
       "day_hour | n | \n",
       "|---|---|---|---|---|---|\n",
       "| 2016-04-03 02:00:00 | 4                   | \n",
       "| 2016-09-25 00:00:00 | 4                   | \n",
       "| 2016-06-26 09:00:00 | 1                   | \n",
       "| 2016-09-01 23:00:00 | 1                   | \n",
       "| 2016-09-02 01:00:00 | 1                   | \n",
       "| 2016-09-04 11:00:00 | 1                   | \n",
       "\n",
       "\n"
      ],
      "text/plain": [
       "  day_hour            n\n",
       "1 2016-04-03 02:00:00 4\n",
       "2 2016-09-25 00:00:00 4\n",
       "3 2016-06-26 09:00:00 1\n",
       "4 2016-09-01 23:00:00 1\n",
       "5 2016-09-02 01:00:00 1\n",
       "6 2016-09-04 11:00:00 1"
      ]
     },
     "metadata": {},
     "output_type": "display_data"
    }
   ],
   "source": [
    "# Create day_hour, datetime rounded down to hour\n",
    "akl_hourly <- akl_hourly %>%\n",
    "  mutate(\n",
    "    day_hour = floor_date(datetime, unit = \"hour\")\n",
    "  )\n",
    "\n",
    "# Count observations per hour  \n",
    "head(akl_hourly %>% \n",
    "  count(day_hour))\n",
    "\n",
    "# Find day_hours with n != 2 \n",
    "head(akl_hourly %>% \n",
    "  count(day_hour) %>%\n",
    "  filter(n != 2) %>% \n",
    "  arrange(desc(n)))"
   ]
  },
  {
   "cell_type": "code",
   "execution_count": null,
   "metadata": {},
   "outputs": [],
   "source": []
  }
 ],
 "metadata": {
  "kernelspec": {
   "display_name": "R",
   "language": "R",
   "name": "ir"
  },
  "language_info": {
   "codemirror_mode": "r",
   "file_extension": ".r",
   "mimetype": "text/x-r-source",
   "name": "R",
   "pygments_lexer": "r",
   "version": "3.5.1"
  }
 },
 "nbformat": 4,
 "nbformat_minor": 2
}

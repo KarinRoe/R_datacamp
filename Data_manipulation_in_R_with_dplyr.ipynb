{
 "cells": [
  {
   "cell_type": "code",
   "execution_count": 3,
   "metadata": {},
   "outputs": [
    {
     "data": {
      "text/html": [
       "<table>\n",
       "<thead><tr><th></th><th scope=col>Year</th><th scope=col>Month</th><th scope=col>DayofMonth</th><th scope=col>DayOfWeek</th><th scope=col>DepTime</th><th scope=col>ArrTime</th><th scope=col>UniqueCarrier</th><th scope=col>FlightNum</th><th scope=col>TailNum</th><th scope=col>ActualElapsedTime</th><th scope=col>...</th><th scope=col>ArrDelay</th><th scope=col>DepDelay</th><th scope=col>Origin</th><th scope=col>Dest</th><th scope=col>Distance</th><th scope=col>TaxiIn</th><th scope=col>TaxiOut</th><th scope=col>Cancelled</th><th scope=col>CancellationCode</th><th scope=col>Diverted</th></tr></thead>\n",
       "<tbody>\n",
       "\t<tr><th scope=row>5424</th><td>2011  </td><td>1     </td><td>1     </td><td>6     </td><td>1400  </td><td>1500  </td><td>AA    </td><td>428   </td><td>N576AA</td><td>60    </td><td>...   </td><td>-10   </td><td> 0    </td><td>IAH   </td><td>DFW   </td><td>224   </td><td>7     </td><td>13    </td><td>0     </td><td>      </td><td>0     </td></tr>\n",
       "\t<tr><th scope=row>5425</th><td>2011  </td><td>1     </td><td>2     </td><td>7     </td><td>1401  </td><td>1501  </td><td>AA    </td><td>428   </td><td>N557AA</td><td>60    </td><td>...   </td><td> -9   </td><td> 1    </td><td>IAH   </td><td>DFW   </td><td>224   </td><td>6     </td><td> 9    </td><td>0     </td><td>      </td><td>0     </td></tr>\n",
       "\t<tr><th scope=row>5426</th><td>2011  </td><td>1     </td><td>3     </td><td>1     </td><td>1352  </td><td>1502  </td><td>AA    </td><td>428   </td><td>N541AA</td><td>70    </td><td>...   </td><td> -8   </td><td>-8    </td><td>IAH   </td><td>DFW   </td><td>224   </td><td>5     </td><td>17    </td><td>0     </td><td>      </td><td>0     </td></tr>\n",
       "\t<tr><th scope=row>5427</th><td>2011  </td><td>1     </td><td>4     </td><td>2     </td><td>1403  </td><td>1513  </td><td>AA    </td><td>428   </td><td>N403AA</td><td>70    </td><td>...   </td><td>  3   </td><td> 3    </td><td>IAH   </td><td>DFW   </td><td>224   </td><td>9     </td><td>22    </td><td>0     </td><td>      </td><td>0     </td></tr>\n",
       "\t<tr><th scope=row>5428</th><td>2011  </td><td>1     </td><td>5     </td><td>3     </td><td>1405  </td><td>1507  </td><td>AA    </td><td>428   </td><td>N492AA</td><td>62    </td><td>...   </td><td> -3   </td><td> 5    </td><td>IAH   </td><td>DFW   </td><td>224   </td><td>9     </td><td> 9    </td><td>0     </td><td>      </td><td>0     </td></tr>\n",
       "\t<tr><th scope=row>5429</th><td>2011  </td><td>1     </td><td>6     </td><td>4     </td><td>1359  </td><td>1503  </td><td>AA    </td><td>428   </td><td>N262AA</td><td>64    </td><td>...   </td><td> -7   </td><td>-1    </td><td>IAH   </td><td>DFW   </td><td>224   </td><td>6     </td><td>13    </td><td>0     </td><td>      </td><td>0     </td></tr>\n",
       "</tbody>\n",
       "</table>\n"
      ],
      "text/latex": [
       "\\begin{tabular}{r|lllllllllllllllllllll}\n",
       "  & Year & Month & DayofMonth & DayOfWeek & DepTime & ArrTime & UniqueCarrier & FlightNum & TailNum & ActualElapsedTime & ... & ArrDelay & DepDelay & Origin & Dest & Distance & TaxiIn & TaxiOut & Cancelled & CancellationCode & Diverted\\\\\n",
       "\\hline\n",
       "\t5424 & 2011   & 1      & 1      & 6      & 1400   & 1500   & AA     & 428    & N576AA & 60     & ...    & -10    &  0     & IAH    & DFW    & 224    & 7      & 13     & 0      &        & 0     \\\\\n",
       "\t5425 & 2011   & 1      & 2      & 7      & 1401   & 1501   & AA     & 428    & N557AA & 60     & ...    &  -9    &  1     & IAH    & DFW    & 224    & 6      &  9     & 0      &        & 0     \\\\\n",
       "\t5426 & 2011   & 1      & 3      & 1      & 1352   & 1502   & AA     & 428    & N541AA & 70     & ...    &  -8    & -8     & IAH    & DFW    & 224    & 5      & 17     & 0      &        & 0     \\\\\n",
       "\t5427 & 2011   & 1      & 4      & 2      & 1403   & 1513   & AA     & 428    & N403AA & 70     & ...    &   3    &  3     & IAH    & DFW    & 224    & 9      & 22     & 0      &        & 0     \\\\\n",
       "\t5428 & 2011   & 1      & 5      & 3      & 1405   & 1507   & AA     & 428    & N492AA & 62     & ...    &  -3    &  5     & IAH    & DFW    & 224    & 9      &  9     & 0      &        & 0     \\\\\n",
       "\t5429 & 2011   & 1      & 6      & 4      & 1359   & 1503   & AA     & 428    & N262AA & 64     & ...    &  -7    & -1     & IAH    & DFW    & 224    & 6      & 13     & 0      &        & 0     \\\\\n",
       "\\end{tabular}\n"
      ],
      "text/markdown": [
       "\n",
       "| <!--/--> | Year | Month | DayofMonth | DayOfWeek | DepTime | ArrTime | UniqueCarrier | FlightNum | TailNum | ActualElapsedTime | ... | ArrDelay | DepDelay | Origin | Dest | Distance | TaxiIn | TaxiOut | Cancelled | CancellationCode | Diverted | \n",
       "|---|---|---|---|---|---|\n",
       "| 5424 | 2011   | 1      | 1      | 6      | 1400   | 1500   | AA     | 428    | N576AA | 60     | ...    | -10    |  0     | IAH    | DFW    | 224    | 7      | 13     | 0      |        | 0      | \n",
       "| 5425 | 2011   | 1      | 2      | 7      | 1401   | 1501   | AA     | 428    | N557AA | 60     | ...    |  -9    |  1     | IAH    | DFW    | 224    | 6      |  9     | 0      |        | 0      | \n",
       "| 5426 | 2011   | 1      | 3      | 1      | 1352   | 1502   | AA     | 428    | N541AA | 70     | ...    |  -8    | -8     | IAH    | DFW    | 224    | 5      | 17     | 0      |        | 0      | \n",
       "| 5427 | 2011   | 1      | 4      | 2      | 1403   | 1513   | AA     | 428    | N403AA | 70     | ...    |   3    |  3     | IAH    | DFW    | 224    | 9      | 22     | 0      |        | 0      | \n",
       "| 5428 | 2011   | 1      | 5      | 3      | 1405   | 1507   | AA     | 428    | N492AA | 62     | ...    |  -3    |  5     | IAH    | DFW    | 224    | 9      |  9     | 0      |        | 0      | \n",
       "| 5429 | 2011   | 1      | 6      | 4      | 1359   | 1503   | AA     | 428    | N262AA | 64     | ...    |  -7    | -1     | IAH    | DFW    | 224    | 6      | 13     | 0      |        | 0      | \n",
       "\n",
       "\n"
      ],
      "text/plain": [
       "     Year Month DayofMonth DayOfWeek DepTime ArrTime UniqueCarrier FlightNum\n",
       "5424 2011 1     1          6         1400    1500    AA            428      \n",
       "5425 2011 1     2          7         1401    1501    AA            428      \n",
       "5426 2011 1     3          1         1352    1502    AA            428      \n",
       "5427 2011 1     4          2         1403    1513    AA            428      \n",
       "5428 2011 1     5          3         1405    1507    AA            428      \n",
       "5429 2011 1     6          4         1359    1503    AA            428      \n",
       "     TailNum ActualElapsedTime ... ArrDelay DepDelay Origin Dest Distance\n",
       "5424 N576AA  60                ... -10       0       IAH    DFW  224     \n",
       "5425 N557AA  60                ...  -9       1       IAH    DFW  224     \n",
       "5426 N541AA  70                ...  -8      -8       IAH    DFW  224     \n",
       "5427 N403AA  70                ...   3       3       IAH    DFW  224     \n",
       "5428 N492AA  62                ...  -3       5       IAH    DFW  224     \n",
       "5429 N262AA  64                ...  -7      -1       IAH    DFW  224     \n",
       "     TaxiIn TaxiOut Cancelled CancellationCode Diverted\n",
       "5424 7      13      0                          0       \n",
       "5425 6       9      0                          0       \n",
       "5426 5      17      0                          0       \n",
       "5427 9      22      0                          0       \n",
       "5428 9       9      0                          0       \n",
       "5429 6      13      0                          0       "
      ]
     },
     "metadata": {},
     "output_type": "display_data"
    },
    {
     "data": {
      "text/plain": [
       "      Year          Month          DayofMonth      DayOfWeek        DepTime    \n",
       " Min.   :2011   Min.   : 1.000   Min.   : 1.00   Min.   :1.000   Min.   :   1  \n",
       " 1st Qu.:2011   1st Qu.: 4.000   1st Qu.: 8.00   1st Qu.:2.000   1st Qu.:1021  \n",
       " Median :2011   Median : 7.000   Median :16.00   Median :4.000   Median :1416  \n",
       " Mean   :2011   Mean   : 6.514   Mean   :15.74   Mean   :3.948   Mean   :1396  \n",
       " 3rd Qu.:2011   3rd Qu.: 9.000   3rd Qu.:23.00   3rd Qu.:6.000   3rd Qu.:1801  \n",
       " Max.   :2011   Max.   :12.000   Max.   :31.00   Max.   :7.000   Max.   :2400  \n",
       "                                                                 NA's   :2905  \n",
       "    ArrTime     UniqueCarrier        FlightNum      TailNum         \n",
       " Min.   :   1   Length:227496      Min.   :   1   Length:227496     \n",
       " 1st Qu.:1215   Class :character   1st Qu.: 855   Class :character  \n",
       " Median :1617   Mode  :character   Median :1696   Mode  :character  \n",
       " Mean   :1578                      Mean   :1962                     \n",
       " 3rd Qu.:1953                      3rd Qu.:2755                     \n",
       " Max.   :2400                      Max.   :7290                     \n",
       " NA's   :3066                                                       \n",
       " ActualElapsedTime    AirTime         ArrDelay          DepDelay      \n",
       " Min.   : 34.0     Min.   : 11.0   Min.   :-70.000   Min.   :-33.000  \n",
       " 1st Qu.: 77.0     1st Qu.: 58.0   1st Qu.: -8.000   1st Qu.: -3.000  \n",
       " Median :128.0     Median :107.0   Median :  0.000   Median :  0.000  \n",
       " Mean   :129.3     Mean   :108.1   Mean   :  7.094   Mean   :  9.445  \n",
       " 3rd Qu.:165.0     3rd Qu.:141.0   3rd Qu.: 11.000   3rd Qu.:  9.000  \n",
       " Max.   :575.0     Max.   :549.0   Max.   :978.000   Max.   :981.000  \n",
       " NA's   :3622      NA's   :3622    NA's   :3622      NA's   :2905     \n",
       "    Origin              Dest              Distance          TaxiIn       \n",
       " Length:227496      Length:227496      Min.   :  79.0   Min.   :  1.000  \n",
       " Class :character   Class :character   1st Qu.: 376.0   1st Qu.:  4.000  \n",
       " Mode  :character   Mode  :character   Median : 809.0   Median :  5.000  \n",
       "                                       Mean   : 787.8   Mean   :  6.099  \n",
       "                                       3rd Qu.:1042.0   3rd Qu.:  7.000  \n",
       "                                       Max.   :3904.0   Max.   :165.000  \n",
       "                                                        NA's   :3066     \n",
       "    TaxiOut         Cancelled       CancellationCode      Diverted       \n",
       " Min.   :  1.00   Min.   :0.00000   Length:227496      Min.   :0.000000  \n",
       " 1st Qu.: 10.00   1st Qu.:0.00000   Class :character   1st Qu.:0.000000  \n",
       " Median : 14.00   Median :0.00000   Mode  :character   Median :0.000000  \n",
       " Mean   : 15.09   Mean   :0.01307                      Mean   :0.002853  \n",
       " 3rd Qu.: 18.00   3rd Qu.:0.00000                      3rd Qu.:0.000000  \n",
       " Max.   :163.00   Max.   :1.00000                      Max.   :1.000000  \n",
       " NA's   :2947                                                            "
      ]
     },
     "metadata": {},
     "output_type": "display_data"
    }
   ],
   "source": [
    "# Load the dplyr package\n",
    "library(dplyr)\n",
    "\n",
    "# Load the hflights package\n",
    "library(hflights)\n",
    "\n",
    "# Call both head() and summary() on hflights\n",
    "head(hflights)\n",
    "summary(hflights)"
   ]
  },
  {
   "cell_type": "markdown",
   "metadata": {},
   "source": [
    "*tibble* \n",
    "<br>Tibble is a special kind of data.frame. It is not working in Jupyter notebook yet. \n",
    "<br>You can change a data.frame to tibble with as_tibble()"
   ]
  },
  {
   "cell_type": "code",
   "execution_count": 9,
   "metadata": {},
   "outputs": [
    {
     "name": "stdout",
     "output_type": "stream",
     "text": [
      "Observations: 227,496\n",
      "Variables: 21\n",
      "$ Year              <int> 2011, 2011, 2011, 2011, 2011, 2011, 2011, 2011, 2...\n",
      "$ Month             <int> 1, 1, 1, 1, 1, 1, 1, 1, 1, 1, 1, 1, 1, 1, 1, 1, 1...\n",
      "$ DayofMonth        <int> 1, 2, 3, 4, 5, 6, 7, 8, 9, 10, 11, 12, 13, 14, 15...\n",
      "$ DayOfWeek         <int> 6, 7, 1, 2, 3, 4, 5, 6, 7, 1, 2, 3, 4, 5, 6, 7, 1...\n",
      "$ DepTime           <int> 1400, 1401, 1352, 1403, 1405, 1359, 1359, 1355, 1...\n",
      "$ ArrTime           <int> 1500, 1501, 1502, 1513, 1507, 1503, 1509, 1454, 1...\n",
      "$ UniqueCarrier     <chr> \"AA\", \"AA\", \"AA\", \"AA\", \"AA\", \"AA\", \"AA\", \"AA\", \"...\n",
      "$ FlightNum         <int> 428, 428, 428, 428, 428, 428, 428, 428, 428, 428,...\n",
      "$ TailNum           <chr> \"N576AA\", \"N557AA\", \"N541AA\", \"N403AA\", \"N492AA\",...\n",
      "$ ActualElapsedTime <int> 60, 60, 70, 70, 62, 64, 70, 59, 71, 70, 70, 56, 6...\n",
      "$ AirTime           <int> 40, 45, 48, 39, 44, 45, 43, 40, 41, 45, 42, 41, 4...\n",
      "$ ArrDelay          <int> -10, -9, -8, 3, -3, -7, -1, -16, 44, 43, 29, 5, -...\n",
      "$ DepDelay          <int> 0, 1, -8, 3, 5, -1, -1, -5, 43, 43, 29, 19, -2, -...\n",
      "$ Origin            <chr> \"IAH\", \"IAH\", \"IAH\", \"IAH\", \"IAH\", \"IAH\", \"IAH\", ...\n",
      "$ Dest              <chr> \"DFW\", \"DFW\", \"DFW\", \"DFW\", \"DFW\", \"DFW\", \"DFW\", ...\n",
      "$ Distance          <int> 224, 224, 224, 224, 224, 224, 224, 224, 224, 224,...\n",
      "$ TaxiIn            <int> 7, 6, 5, 9, 9, 6, 12, 7, 8, 6, 8, 4, 6, 5, 6, 12,...\n",
      "$ TaxiOut           <int> 13, 9, 17, 22, 9, 13, 15, 12, 22, 19, 20, 11, 13,...\n",
      "$ Cancelled         <int> 0, 0, 0, 0, 0, 0, 0, 0, 0, 0, 0, 0, 0, 0, 0, 0, 0...\n",
      "$ CancellationCode  <chr> \"\", \"\", \"\", \"\", \"\", \"\", \"\", \"\", \"\", \"\", \"\", \"\", \"...\n",
      "$ Diverted          <int> 0, 0, 0, 0, 0, 0, 0, 0, 0, 0, 0, 0, 0, 0, 0, 0, 0...\n"
     ]
    }
   ],
   "source": [
    "glimpse(hflights)"
   ]
  },
  {
   "cell_type": "markdown",
   "metadata": {},
   "source": [
    "### Changing labels of hflights\n",
    "In the hflights the carriers are only as code visible, that can be confusion therefore we add a column with their full name.\n",
    "<br>Also the CancellationCode column has non-informative codes"
   ]
  },
  {
   "cell_type": "code",
   "execution_count": 10,
   "metadata": {},
   "outputs": [],
   "source": [
    "lut <- c(\"AA\" = \"American\", \"AS\" = \"Alaska\", \"B6\" = \"JetBlue\", \"CO\" = \"Continental\", \n",
    "         \"DL\" = \"Delta\", \"OO\" = \"SkyWest\", \"UA\" = \"United\", \"US\" = \"US_Airways\", \n",
    "         \"WN\" = \"Southwest\", \"EV\" = \"Atlantic_Southeast\", \"F9\" = \"Frontier\", \n",
    "         \"FL\" = \"AirTran\", \"MQ\" = \"American_Eagle\", \"XE\" = \"ExpressJet\", \"YV\" = \"Mesa\")\n",
    "\n",
    "# Add the Carrier column to hflights\n",
    "hflights$Carrier <- lut[hflights$UniqueCarrier]"
   ]
  },
  {
   "cell_type": "code",
   "execution_count": 11,
   "metadata": {},
   "outputs": [
    {
     "name": "stdout",
     "output_type": "stream",
     "text": [
      "Observations: 227,496\n",
      "Variables: 22\n",
      "$ Year              <int> 2011, 2011, 2011, 2011, 2011, 2011, 2011, 2011, 2...\n",
      "$ Month             <int> 1, 1, 1, 1, 1, 1, 1, 1, 1, 1, 1, 1, 1, 1, 1, 1, 1...\n",
      "$ DayofMonth        <int> 1, 2, 3, 4, 5, 6, 7, 8, 9, 10, 11, 12, 13, 14, 15...\n",
      "$ DayOfWeek         <int> 6, 7, 1, 2, 3, 4, 5, 6, 7, 1, 2, 3, 4, 5, 6, 7, 1...\n",
      "$ DepTime           <int> 1400, 1401, 1352, 1403, 1405, 1359, 1359, 1355, 1...\n",
      "$ ArrTime           <int> 1500, 1501, 1502, 1513, 1507, 1503, 1509, 1454, 1...\n",
      "$ UniqueCarrier     <chr> \"AA\", \"AA\", \"AA\", \"AA\", \"AA\", \"AA\", \"AA\", \"AA\", \"...\n",
      "$ FlightNum         <int> 428, 428, 428, 428, 428, 428, 428, 428, 428, 428,...\n",
      "$ TailNum           <chr> \"N576AA\", \"N557AA\", \"N541AA\", \"N403AA\", \"N492AA\",...\n",
      "$ ActualElapsedTime <int> 60, 60, 70, 70, 62, 64, 70, 59, 71, 70, 70, 56, 6...\n",
      "$ AirTime           <int> 40, 45, 48, 39, 44, 45, 43, 40, 41, 45, 42, 41, 4...\n",
      "$ ArrDelay          <int> -10, -9, -8, 3, -3, -7, -1, -16, 44, 43, 29, 5, -...\n",
      "$ DepDelay          <int> 0, 1, -8, 3, 5, -1, -1, -5, 43, 43, 29, 19, -2, -...\n",
      "$ Origin            <chr> \"IAH\", \"IAH\", \"IAH\", \"IAH\", \"IAH\", \"IAH\", \"IAH\", ...\n",
      "$ Dest              <chr> \"DFW\", \"DFW\", \"DFW\", \"DFW\", \"DFW\", \"DFW\", \"DFW\", ...\n",
      "$ Distance          <int> 224, 224, 224, 224, 224, 224, 224, 224, 224, 224,...\n",
      "$ TaxiIn            <int> 7, 6, 5, 9, 9, 6, 12, 7, 8, 6, 8, 4, 6, 5, 6, 12,...\n",
      "$ TaxiOut           <int> 13, 9, 17, 22, 9, 13, 15, 12, 22, 19, 20, 11, 13,...\n",
      "$ Cancelled         <int> 0, 0, 0, 0, 0, 0, 0, 0, 0, 0, 0, 0, 0, 0, 0, 0, 0...\n",
      "$ CancellationCode  <chr> \"\", \"\", \"\", \"\", \"\", \"\", \"\", \"\", \"\", \"\", \"\", \"\", \"...\n",
      "$ Diverted          <int> 0, 0, 0, 0, 0, 0, 0, 0, 0, 0, 0, 0, 0, 0, 0, 0, 0...\n",
      "$ Carrier           <chr> \"American\", \"American\", \"American\", \"American\", \"...\n"
     ]
    }
   ],
   "source": [
    "glimpse(hflights)"
   ]
  },
  {
   "cell_type": "code",
   "execution_count": 15,
   "metadata": {},
   "outputs": [
    {
     "data": {
      "text/html": [
       "<ol class=list-inline>\n",
       "\t<li>''</li>\n",
       "\t<li>'A'</li>\n",
       "\t<li>'B'</li>\n",
       "\t<li>'C'</li>\n",
       "\t<li>'D'</li>\n",
       "</ol>\n"
      ],
      "text/latex": [
       "\\begin{enumerate*}\n",
       "\\item ''\n",
       "\\item 'A'\n",
       "\\item 'B'\n",
       "\\item 'C'\n",
       "\\item 'D'\n",
       "\\end{enumerate*}\n"
      ],
      "text/markdown": [
       "1. ''\n",
       "2. 'A'\n",
       "3. 'B'\n",
       "4. 'C'\n",
       "5. 'D'\n",
       "\n",
       "\n"
      ],
      "text/plain": [
       "[1] \"\"  \"A\" \"B\" \"C\" \"D\""
      ]
     },
     "metadata": {},
     "output_type": "display_data"
    }
   ],
   "source": [
    "unique(hflights$CancellationCode)"
   ]
  },
  {
   "cell_type": "code",
   "execution_count": 14,
   "metadata": {},
   "outputs": [
    {
     "name": "stdout",
     "output_type": "stream",
     "text": [
      "Observations: 227,496\n",
      "Variables: 23\n",
      "$ Year              <int> 2011, 2011, 2011, 2011, 2011, 2011, 2011, 2011, 2...\n",
      "$ Month             <int> 1, 1, 1, 1, 1, 1, 1, 1, 1, 1, 1, 1, 1, 1, 1, 1, 1...\n",
      "$ DayofMonth        <int> 1, 2, 3, 4, 5, 6, 7, 8, 9, 10, 11, 12, 13, 14, 15...\n",
      "$ DayOfWeek         <int> 6, 7, 1, 2, 3, 4, 5, 6, 7, 1, 2, 3, 4, 5, 6, 7, 1...\n",
      "$ DepTime           <int> 1400, 1401, 1352, 1403, 1405, 1359, 1359, 1355, 1...\n",
      "$ ArrTime           <int> 1500, 1501, 1502, 1513, 1507, 1503, 1509, 1454, 1...\n",
      "$ UniqueCarrier     <chr> \"AA\", \"AA\", \"AA\", \"AA\", \"AA\", \"AA\", \"AA\", \"AA\", \"...\n",
      "$ FlightNum         <int> 428, 428, 428, 428, 428, 428, 428, 428, 428, 428,...\n",
      "$ TailNum           <chr> \"N576AA\", \"N557AA\", \"N541AA\", \"N403AA\", \"N492AA\",...\n",
      "$ ActualElapsedTime <int> 60, 60, 70, 70, 62, 64, 70, 59, 71, 70, 70, 56, 6...\n",
      "$ AirTime           <int> 40, 45, 48, 39, 44, 45, 43, 40, 41, 45, 42, 41, 4...\n",
      "$ ArrDelay          <int> -10, -9, -8, 3, -3, -7, -1, -16, 44, 43, 29, 5, -...\n",
      "$ DepDelay          <int> 0, 1, -8, 3, 5, -1, -1, -5, 43, 43, 29, 19, -2, -...\n",
      "$ Origin            <chr> \"IAH\", \"IAH\", \"IAH\", \"IAH\", \"IAH\", \"IAH\", \"IAH\", ...\n",
      "$ Dest              <chr> \"DFW\", \"DFW\", \"DFW\", \"DFW\", \"DFW\", \"DFW\", \"DFW\", ...\n",
      "$ Distance          <int> 224, 224, 224, 224, 224, 224, 224, 224, 224, 224,...\n",
      "$ TaxiIn            <int> 7, 6, 5, 9, 9, 6, 12, 7, 8, 6, 8, 4, 6, 5, 6, 12,...\n",
      "$ TaxiOut           <int> 13, 9, 17, 22, 9, 13, 15, 12, 22, 19, 20, 11, 13,...\n",
      "$ Cancelled         <int> 0, 0, 0, 0, 0, 0, 0, 0, 0, 0, 0, 0, 0, 0, 0, 0, 0...\n",
      "$ CancellationCode  <chr> \"\", \"\", \"\", \"\", \"\", \"\", \"\", \"\", \"\", \"\", \"\", \"\", \"...\n",
      "$ Diverted          <int> 0, 0, 0, 0, 0, 0, 0, 0, 0, 0, 0, 0, 0, 0, 0, 0, 0...\n",
      "$ Carrier           <chr> \"American\", \"American\", \"American\", \"American\", \"...\n",
      "$ Code              <chr> NA, NA, NA, NA, NA, NA, NA, NA, NA, NA, NA, NA, N...\n"
     ]
    }
   ],
   "source": [
    "# The lookup table\n",
    "lut <- c(\"A\" = \"carrier\", \"B\" = \"weather\", \"C\" = \"FFA\", \"D\" = \"security\", \"E\" = \"not cancelled\")\n",
    "\n",
    "# Add the Code column\n",
    "hflights$Code <- lut[hflights$CancellationCode]\n",
    "\n",
    "# Glimpse at hflights\n",
    "glimpse(hflights)"
   ]
  },
  {
   "cell_type": "markdown",
   "metadata": {},
   "source": [
    "## The five key data manipulation functions\n",
    "\n",
    "    select(), which returns a subset of the columns,\n",
    "    filter(), that is able to return a subset of the rows,\n",
    "    arrange(), that reorders the rows according to single or multiple variables,\n",
    "    mutate(), used to add columns from existing data,\n",
    "    summarize(), which reduces each group to a single row by calculating aggregate measures."
   ]
  },
  {
   "cell_type": "markdown",
   "metadata": {},
   "source": [
    "### select()\n",
    "select(df, var1, var2)\n",
    "\n",
    "You can use : to select a range of variables and - to exclude some variables, similar to indexing a data.frame with square brackets. You can use both variable's names as well as integer indexes. "
   ]
  },
  {
   "cell_type": "code",
   "execution_count": 18,
   "metadata": {},
   "outputs": [
    {
     "data": {
      "text/html": [
       "<table>\n",
       "<thead><tr><th scope=col>Year</th><th scope=col>Month</th><th scope=col>DayofMonth</th><th scope=col>DayOfWeek</th><th scope=col>ArrDelay</th><th scope=col>DepDelay</th><th scope=col>Origin</th><th scope=col>Dest</th><th scope=col>Distance</th><th scope=col>TaxiIn</th><th scope=col>TaxiOut</th><th scope=col>Cancelled</th><th scope=col>CancellationCode</th><th scope=col>Diverted</th><th scope=col>Carrier</th><th scope=col>Code</th></tr></thead>\n",
       "<tbody>\n",
       "\t<tr><td>2011    </td><td>1       </td><td>1       </td><td>6       </td><td>-10     </td><td> 0      </td><td>IAH     </td><td>DFW     </td><td>224     </td><td>7       </td><td>13      </td><td>0       </td><td>        </td><td>0       </td><td>American</td><td>NA      </td></tr>\n",
       "\t<tr><td>2011    </td><td>1       </td><td>2       </td><td>7       </td><td> -9     </td><td> 1      </td><td>IAH     </td><td>DFW     </td><td>224     </td><td>6       </td><td> 9      </td><td>0       </td><td>        </td><td>0       </td><td>American</td><td>NA      </td></tr>\n",
       "\t<tr><td>2011    </td><td>1       </td><td>3       </td><td>1       </td><td> -8     </td><td>-8      </td><td>IAH     </td><td>DFW     </td><td>224     </td><td>5       </td><td>17      </td><td>0       </td><td>        </td><td>0       </td><td>American</td><td>NA      </td></tr>\n",
       "\t<tr><td>2011    </td><td>1       </td><td>4       </td><td>2       </td><td>  3     </td><td> 3      </td><td>IAH     </td><td>DFW     </td><td>224     </td><td>9       </td><td>22      </td><td>0       </td><td>        </td><td>0       </td><td>American</td><td>NA      </td></tr>\n",
       "\t<tr><td>2011    </td><td>1       </td><td>5       </td><td>3       </td><td> -3     </td><td> 5      </td><td>IAH     </td><td>DFW     </td><td>224     </td><td>9       </td><td> 9      </td><td>0       </td><td>        </td><td>0       </td><td>American</td><td>NA      </td></tr>\n",
       "\t<tr><td>2011    </td><td>1       </td><td>6       </td><td>4       </td><td> -7     </td><td>-1      </td><td>IAH     </td><td>DFW     </td><td>224     </td><td>6       </td><td>13      </td><td>0       </td><td>        </td><td>0       </td><td>American</td><td>NA      </td></tr>\n",
       "</tbody>\n",
       "</table>\n"
      ],
      "text/latex": [
       "\\begin{tabular}{r|llllllllllllllll}\n",
       " Year & Month & DayofMonth & DayOfWeek & ArrDelay & DepDelay & Origin & Dest & Distance & TaxiIn & TaxiOut & Cancelled & CancellationCode & Diverted & Carrier & Code\\\\\n",
       "\\hline\n",
       "\t 2011     & 1        & 1        & 6        & -10      &  0       & IAH      & DFW      & 224      & 7        & 13       & 0        &          & 0        & American & NA      \\\\\n",
       "\t 2011     & 1        & 2        & 7        &  -9      &  1       & IAH      & DFW      & 224      & 6        &  9       & 0        &          & 0        & American & NA      \\\\\n",
       "\t 2011     & 1        & 3        & 1        &  -8      & -8       & IAH      & DFW      & 224      & 5        & 17       & 0        &          & 0        & American & NA      \\\\\n",
       "\t 2011     & 1        & 4        & 2        &   3      &  3       & IAH      & DFW      & 224      & 9        & 22       & 0        &          & 0        & American & NA      \\\\\n",
       "\t 2011     & 1        & 5        & 3        &  -3      &  5       & IAH      & DFW      & 224      & 9        &  9       & 0        &          & 0        & American & NA      \\\\\n",
       "\t 2011     & 1        & 6        & 4        &  -7      & -1       & IAH      & DFW      & 224      & 6        & 13       & 0        &          & 0        & American & NA      \\\\\n",
       "\\end{tabular}\n"
      ],
      "text/markdown": [
       "\n",
       "Year | Month | DayofMonth | DayOfWeek | ArrDelay | DepDelay | Origin | Dest | Distance | TaxiIn | TaxiOut | Cancelled | CancellationCode | Diverted | Carrier | Code | \n",
       "|---|---|---|---|---|---|\n",
       "| 2011     | 1        | 1        | 6        | -10      |  0       | IAH      | DFW      | 224      | 7        | 13       | 0        |          | 0        | American | NA       | \n",
       "| 2011     | 1        | 2        | 7        |  -9      |  1       | IAH      | DFW      | 224      | 6        |  9       | 0        |          | 0        | American | NA       | \n",
       "| 2011     | 1        | 3        | 1        |  -8      | -8       | IAH      | DFW      | 224      | 5        | 17       | 0        |          | 0        | American | NA       | \n",
       "| 2011     | 1        | 4        | 2        |   3      |  3       | IAH      | DFW      | 224      | 9        | 22       | 0        |          | 0        | American | NA       | \n",
       "| 2011     | 1        | 5        | 3        |  -3      |  5       | IAH      | DFW      | 224      | 9        |  9       | 0        |          | 0        | American | NA       | \n",
       "| 2011     | 1        | 6        | 4        |  -7      | -1       | IAH      | DFW      | 224      | 6        | 13       | 0        |          | 0        | American | NA       | \n",
       "\n",
       "\n"
      ],
      "text/plain": [
       "  Year Month DayofMonth DayOfWeek ArrDelay DepDelay Origin Dest Distance TaxiIn\n",
       "1 2011 1     1          6         -10       0       IAH    DFW  224      7     \n",
       "2 2011 1     2          7          -9       1       IAH    DFW  224      6     \n",
       "3 2011 1     3          1          -8      -8       IAH    DFW  224      5     \n",
       "4 2011 1     4          2           3       3       IAH    DFW  224      9     \n",
       "5 2011 1     5          3          -3       5       IAH    DFW  224      9     \n",
       "6 2011 1     6          4          -7      -1       IAH    DFW  224      6     \n",
       "  TaxiOut Cancelled CancellationCode Diverted Carrier  Code\n",
       "1 13      0                          0        American NA  \n",
       "2  9      0                          0        American NA  \n",
       "3 17      0                          0        American NA  \n",
       "4 22      0                          0        American NA  \n",
       "5  9      0                          0        American NA  \n",
       "6 13      0                          0        American NA  "
      ]
     },
     "metadata": {},
     "output_type": "display_data"
    }
   ],
   "source": [
    "head(select(hflights, -(5:11)))"
   ]
  },
  {
   "cell_type": "markdown",
   "metadata": {},
   "source": [
    "Helper functions for variable selection\n",
    "\n",
    "dplyr comes with a set of helper functions that can help you select groups of variables inside a select() call:\n",
    "\n",
    "    starts_with(\"X\"): every name that starts with \"X\",\n",
    "    ends_with(\"X\"): every name that ends with \"X\",\n",
    "    contains(\"X\"): every name that contains \"X\",\n",
    "    matches(\"X\"): every name that matches \"X\", where \"X\" can be a regular expression,\n",
    "    num_range(\"x\", 1:5): the variables named x01, x02, x03, x04 and x05,\n",
    "    one_of(x): every name that appears in x, which should be a character vector.\n"
   ]
  },
  {
   "cell_type": "code",
   "execution_count": 19,
   "metadata": {},
   "outputs": [
    {
     "data": {
      "text/html": [
       "<table>\n",
       "<thead><tr><th scope=col>ArrDelay</th><th scope=col>DepDelay</th></tr></thead>\n",
       "<tbody>\n",
       "\t<tr><td>-10</td><td> 0 </td></tr>\n",
       "\t<tr><td> -9</td><td> 1 </td></tr>\n",
       "\t<tr><td> -8</td><td>-8 </td></tr>\n",
       "\t<tr><td>  3</td><td> 3 </td></tr>\n",
       "\t<tr><td> -3</td><td> 5 </td></tr>\n",
       "\t<tr><td> -7</td><td>-1 </td></tr>\n",
       "</tbody>\n",
       "</table>\n"
      ],
      "text/latex": [
       "\\begin{tabular}{r|ll}\n",
       " ArrDelay & DepDelay\\\\\n",
       "\\hline\n",
       "\t -10 &  0 \\\\\n",
       "\t  -9 &  1 \\\\\n",
       "\t  -8 & -8 \\\\\n",
       "\t   3 &  3 \\\\\n",
       "\t  -3 &  5 \\\\\n",
       "\t  -7 & -1 \\\\\n",
       "\\end{tabular}\n"
      ],
      "text/markdown": [
       "\n",
       "ArrDelay | DepDelay | \n",
       "|---|---|---|---|---|---|\n",
       "| -10 |  0  | \n",
       "|  -9 |  1  | \n",
       "|  -8 | -8  | \n",
       "|   3 |  3  | \n",
       "|  -3 |  5  | \n",
       "|  -7 | -1  | \n",
       "\n",
       "\n"
      ],
      "text/plain": [
       "  ArrDelay DepDelay\n",
       "1 -10       0      \n",
       "2  -9       1      \n",
       "3  -8      -8      \n",
       "4   3       3      \n",
       "5  -3       5      \n",
       "6  -7      -1      "
      ]
     },
     "metadata": {},
     "output_type": "display_data"
    }
   ],
   "source": [
    "# Print out a tbl containing just ArrDelay and DepDelay\n",
    "head(select(hflights, ends_with(\"Delay\")))"
   ]
  },
  {
   "cell_type": "markdown",
   "metadata": {},
   "source": [
    "### mutate() \n",
    "mutate creates new columns which are added to a copy of the dataset.\n",
    "\n",
    "Take this example that adds a new column, z, which is the element-wise sum of the columns x and y, to the data frame df:\n",
    "\n",
    "mutate(df, z = x + y)\n",
    "\n",
    "mutate(my_df, x = a + b, y = x + c)\n"
   ]
  },
  {
   "cell_type": "code",
   "execution_count": 20,
   "metadata": {},
   "outputs": [
    {
     "data": {
      "text/html": [
       "<table>\n",
       "<thead><tr><th scope=col>Year</th><th scope=col>Month</th><th scope=col>DayofMonth</th><th scope=col>DayOfWeek</th><th scope=col>DepTime</th><th scope=col>ArrTime</th><th scope=col>UniqueCarrier</th><th scope=col>FlightNum</th><th scope=col>TailNum</th><th scope=col>ActualElapsedTime</th><th scope=col>...</th><th scope=col>TaxiIn</th><th scope=col>TaxiOut</th><th scope=col>Cancelled</th><th scope=col>CancellationCode</th><th scope=col>Diverted</th><th scope=col>Carrier</th><th scope=col>Code</th><th scope=col>ActualGroundTime</th><th scope=col>GroundTime</th><th scope=col>AverageSpeed</th></tr></thead>\n",
       "<tbody>\n",
       "\t<tr><td>2011    </td><td>1       </td><td>1       </td><td>6       </td><td>1400    </td><td>1500    </td><td>AA      </td><td>428     </td><td>N576AA  </td><td>60      </td><td>...     </td><td>7       </td><td>13      </td><td>0       </td><td>        </td><td>0       </td><td>American</td><td>NA      </td><td>20      </td><td>20      </td><td>336.0000</td></tr>\n",
       "\t<tr><td>2011    </td><td>1       </td><td>2       </td><td>7       </td><td>1401    </td><td>1501    </td><td>AA      </td><td>428     </td><td>N557AA  </td><td>60      </td><td>...     </td><td>6       </td><td> 9      </td><td>0       </td><td>        </td><td>0       </td><td>American</td><td>NA      </td><td>15      </td><td>15      </td><td>298.6667</td></tr>\n",
       "\t<tr><td>2011    </td><td>1       </td><td>3       </td><td>1       </td><td>1352    </td><td>1502    </td><td>AA      </td><td>428     </td><td>N541AA  </td><td>70      </td><td>...     </td><td>5       </td><td>17      </td><td>0       </td><td>        </td><td>0       </td><td>American</td><td>NA      </td><td>22      </td><td>22      </td><td>280.0000</td></tr>\n",
       "\t<tr><td>2011    </td><td>1       </td><td>4       </td><td>2       </td><td>1403    </td><td>1513    </td><td>AA      </td><td>428     </td><td>N403AA  </td><td>70      </td><td>...     </td><td>9       </td><td>22      </td><td>0       </td><td>        </td><td>0       </td><td>American</td><td>NA      </td><td>31      </td><td>31      </td><td>344.6154</td></tr>\n",
       "\t<tr><td>2011    </td><td>1       </td><td>5       </td><td>3       </td><td>1405    </td><td>1507    </td><td>AA      </td><td>428     </td><td>N492AA  </td><td>62      </td><td>...     </td><td>9       </td><td> 9      </td><td>0       </td><td>        </td><td>0       </td><td>American</td><td>NA      </td><td>18      </td><td>18      </td><td>305.4545</td></tr>\n",
       "\t<tr><td>2011    </td><td>1       </td><td>6       </td><td>4       </td><td>1359    </td><td>1503    </td><td>AA      </td><td>428     </td><td>N262AA  </td><td>64      </td><td>...     </td><td>6       </td><td>13      </td><td>0       </td><td>        </td><td>0       </td><td>American</td><td>NA      </td><td>19      </td><td>19      </td><td>298.6667</td></tr>\n",
       "</tbody>\n",
       "</table>\n"
      ],
      "text/latex": [
       "\\begin{tabular}{r|llllllllllllllllllllllllll}\n",
       " Year & Month & DayofMonth & DayOfWeek & DepTime & ArrTime & UniqueCarrier & FlightNum & TailNum & ActualElapsedTime & ... & TaxiIn & TaxiOut & Cancelled & CancellationCode & Diverted & Carrier & Code & ActualGroundTime & GroundTime & AverageSpeed\\\\\n",
       "\\hline\n",
       "\t 2011     & 1        & 1        & 6        & 1400     & 1500     & AA       & 428      & N576AA   & 60       & ...      & 7        & 13       & 0        &          & 0        & American & NA       & 20       & 20       & 336.0000\\\\\n",
       "\t 2011     & 1        & 2        & 7        & 1401     & 1501     & AA       & 428      & N557AA   & 60       & ...      & 6        &  9       & 0        &          & 0        & American & NA       & 15       & 15       & 298.6667\\\\\n",
       "\t 2011     & 1        & 3        & 1        & 1352     & 1502     & AA       & 428      & N541AA   & 70       & ...      & 5        & 17       & 0        &          & 0        & American & NA       & 22       & 22       & 280.0000\\\\\n",
       "\t 2011     & 1        & 4        & 2        & 1403     & 1513     & AA       & 428      & N403AA   & 70       & ...      & 9        & 22       & 0        &          & 0        & American & NA       & 31       & 31       & 344.6154\\\\\n",
       "\t 2011     & 1        & 5        & 3        & 1405     & 1507     & AA       & 428      & N492AA   & 62       & ...      & 9        &  9       & 0        &          & 0        & American & NA       & 18       & 18       & 305.4545\\\\\n",
       "\t 2011     & 1        & 6        & 4        & 1359     & 1503     & AA       & 428      & N262AA   & 64       & ...      & 6        & 13       & 0        &          & 0        & American & NA       & 19       & 19       & 298.6667\\\\\n",
       "\\end{tabular}\n"
      ],
      "text/markdown": [
       "\n",
       "Year | Month | DayofMonth | DayOfWeek | DepTime | ArrTime | UniqueCarrier | FlightNum | TailNum | ActualElapsedTime | ... | TaxiIn | TaxiOut | Cancelled | CancellationCode | Diverted | Carrier | Code | ActualGroundTime | GroundTime | AverageSpeed | \n",
       "|---|---|---|---|---|---|\n",
       "| 2011     | 1        | 1        | 6        | 1400     | 1500     | AA       | 428      | N576AA   | 60       | ...      | 7        | 13       | 0        |          | 0        | American | NA       | 20       | 20       | 336.0000 | \n",
       "| 2011     | 1        | 2        | 7        | 1401     | 1501     | AA       | 428      | N557AA   | 60       | ...      | 6        |  9       | 0        |          | 0        | American | NA       | 15       | 15       | 298.6667 | \n",
       "| 2011     | 1        | 3        | 1        | 1352     | 1502     | AA       | 428      | N541AA   | 70       | ...      | 5        | 17       | 0        |          | 0        | American | NA       | 22       | 22       | 280.0000 | \n",
       "| 2011     | 1        | 4        | 2        | 1403     | 1513     | AA       | 428      | N403AA   | 70       | ...      | 9        | 22       | 0        |          | 0        | American | NA       | 31       | 31       | 344.6154 | \n",
       "| 2011     | 1        | 5        | 3        | 1405     | 1507     | AA       | 428      | N492AA   | 62       | ...      | 9        |  9       | 0        |          | 0        | American | NA       | 18       | 18       | 305.4545 | \n",
       "| 2011     | 1        | 6        | 4        | 1359     | 1503     | AA       | 428      | N262AA   | 64       | ...      | 6        | 13       | 0        |          | 0        | American | NA       | 19       | 19       | 298.6667 | \n",
       "\n",
       "\n"
      ],
      "text/plain": [
       "  Year Month DayofMonth DayOfWeek DepTime ArrTime UniqueCarrier FlightNum\n",
       "1 2011 1     1          6         1400    1500    AA            428      \n",
       "2 2011 1     2          7         1401    1501    AA            428      \n",
       "3 2011 1     3          1         1352    1502    AA            428      \n",
       "4 2011 1     4          2         1403    1513    AA            428      \n",
       "5 2011 1     5          3         1405    1507    AA            428      \n",
       "6 2011 1     6          4         1359    1503    AA            428      \n",
       "  TailNum ActualElapsedTime ... TaxiIn TaxiOut Cancelled CancellationCode\n",
       "1 N576AA  60                ... 7      13      0                         \n",
       "2 N557AA  60                ... 6       9      0                         \n",
       "3 N541AA  70                ... 5      17      0                         \n",
       "4 N403AA  70                ... 9      22      0                         \n",
       "5 N492AA  62                ... 9       9      0                         \n",
       "6 N262AA  64                ... 6      13      0                         \n",
       "  Diverted Carrier  Code ActualGroundTime GroundTime AverageSpeed\n",
       "1 0        American NA   20               20         336.0000    \n",
       "2 0        American NA   15               15         298.6667    \n",
       "3 0        American NA   22               22         280.0000    \n",
       "4 0        American NA   31               31         344.6154    \n",
       "5 0        American NA   18               18         305.4545    \n",
       "6 0        American NA   19               19         298.6667    "
      ]
     },
     "metadata": {},
     "output_type": "display_data"
    }
   ],
   "source": [
    "# Add the new variable ActualGroundTime to a copy of hflights and save the result as g1.\n",
    "g1 <- mutate(hflights, ActualGroundTime = ActualElapsedTime - AirTime)\n",
    "\n",
    "# Add the new variable GroundTime to g1. Save the result as g2.\n",
    "g2 <- mutate(g1, GroundTime = TaxiIn + TaxiOut)\n",
    "\n",
    "# Add the new variable AverageSpeed to g2. Save the result as g3.\n",
    "g3 <- mutate(g2, AverageSpeed = 60 * Distance / AirTime)\n",
    "\n",
    "# Print out g3\n",
    "head(g3)"
   ]
  },
  {
   "cell_type": "markdown",
   "metadata": {},
   "source": [
    "### filter()\n",
    "R comes with a set of logical operators that you can use inside filter():\n",
    "\n",
    "    x < y, TRUE if x is less than y\n",
    "    x <= y, TRUE if x is less than or equal to y\n",
    "    x == y, TRUE if x equals y\n",
    "    x != y, TRUE if x does not equal y\n",
    "    x >= y, TRUE if x is greater than or equal to y\n",
    "    x > y, TRUE if x is greater than y\n",
    "    x %in% c(a, b, c), TRUE if x is in the vector c(a, b, c)\n",
    "\n",
    "The following example filters df such that only the observations for which a is positive, are kept:\n",
    "\n",
    "filter(df, a > 0)"
   ]
  },
  {
   "cell_type": "code",
   "execution_count": 21,
   "metadata": {},
   "outputs": [
    {
     "data": {
      "text/html": [
       "<table>\n",
       "<thead><tr><th scope=col>Year</th><th scope=col>Month</th><th scope=col>DayofMonth</th><th scope=col>DayOfWeek</th><th scope=col>DepTime</th><th scope=col>ArrTime</th><th scope=col>UniqueCarrier</th><th scope=col>FlightNum</th><th scope=col>TailNum</th><th scope=col>ActualElapsedTime</th><th scope=col>...</th><th scope=col>Origin</th><th scope=col>Dest</th><th scope=col>Distance</th><th scope=col>TaxiIn</th><th scope=col>TaxiOut</th><th scope=col>Cancelled</th><th scope=col>CancellationCode</th><th scope=col>Diverted</th><th scope=col>Carrier</th><th scope=col>Code</th></tr></thead>\n",
       "<tbody>\n",
       "\t<tr><td>2011       </td><td>1          </td><td>31         </td><td>1          </td><td>924        </td><td>1413       </td><td>CO         </td><td>1          </td><td>N69063     </td><td>529        </td><td>...        </td><td>IAH        </td><td>HNL        </td><td>3904       </td><td> 6         </td><td>31         </td><td>0          </td><td>           </td><td>0          </td><td>Continental</td><td>NA         </td></tr>\n",
       "\t<tr><td>2011       </td><td>1          </td><td>30         </td><td>7          </td><td>925        </td><td>1410       </td><td>CO         </td><td>1          </td><td>N76064     </td><td>525        </td><td>...        </td><td>IAH        </td><td>HNL        </td><td>3904       </td><td>13         </td><td>19         </td><td>0          </td><td>           </td><td>0          </td><td>Continental</td><td>NA         </td></tr>\n",
       "</tbody>\n",
       "</table>\n"
      ],
      "text/latex": [
       "\\begin{tabular}{r|lllllllllllllllllllllll}\n",
       " Year & Month & DayofMonth & DayOfWeek & DepTime & ArrTime & UniqueCarrier & FlightNum & TailNum & ActualElapsedTime & ... & Origin & Dest & Distance & TaxiIn & TaxiOut & Cancelled & CancellationCode & Diverted & Carrier & Code\\\\\n",
       "\\hline\n",
       "\t 2011        & 1           & 31          & 1           & 924         & 1413        & CO          & 1           & N69063      & 529         & ...         & IAH         & HNL         & 3904        &  6          & 31          & 0           &             & 0           & Continental & NA         \\\\\n",
       "\t 2011        & 1           & 30          & 7           & 925         & 1410        & CO          & 1           & N76064      & 525         & ...         & IAH         & HNL         & 3904        & 13          & 19          & 0           &             & 0           & Continental & NA         \\\\\n",
       "\\end{tabular}\n"
      ],
      "text/markdown": [
       "\n",
       "Year | Month | DayofMonth | DayOfWeek | DepTime | ArrTime | UniqueCarrier | FlightNum | TailNum | ActualElapsedTime | ... | Origin | Dest | Distance | TaxiIn | TaxiOut | Cancelled | CancellationCode | Diverted | Carrier | Code | \n",
       "|---|---|\n",
       "| 2011        | 1           | 31          | 1           | 924         | 1413        | CO          | 1           | N69063      | 529         | ...         | IAH         | HNL         | 3904        |  6          | 31          | 0           |             | 0           | Continental | NA          | \n",
       "| 2011        | 1           | 30          | 7           | 925         | 1410        | CO          | 1           | N76064      | 525         | ...         | IAH         | HNL         | 3904        | 13          | 19          | 0           |             | 0           | Continental | NA          | \n",
       "\n",
       "\n"
      ],
      "text/plain": [
       "  Year Month DayofMonth DayOfWeek DepTime ArrTime UniqueCarrier FlightNum\n",
       "1 2011 1     31         1         924     1413    CO            1        \n",
       "2 2011 1     30         7         925     1410    CO            1        \n",
       "  TailNum ActualElapsedTime ... Origin Dest Distance TaxiIn TaxiOut Cancelled\n",
       "1 N69063  529               ... IAH    HNL  3904      6     31      0        \n",
       "2 N76064  525               ... IAH    HNL  3904     13     19      0        \n",
       "  CancellationCode Diverted Carrier     Code\n",
       "1                  0        Continental NA  \n",
       "2                  0        Continental NA  "
      ]
     },
     "metadata": {},
     "output_type": "display_data"
    },
    {
     "data": {
      "text/html": [
       "<table>\n",
       "<thead><tr><th scope=col>Year</th><th scope=col>Month</th><th scope=col>DayofMonth</th><th scope=col>DayOfWeek</th><th scope=col>DepTime</th><th scope=col>ArrTime</th><th scope=col>UniqueCarrier</th><th scope=col>FlightNum</th><th scope=col>TailNum</th><th scope=col>ActualElapsedTime</th><th scope=col>...</th><th scope=col>Origin</th><th scope=col>Dest</th><th scope=col>Distance</th><th scope=col>TaxiIn</th><th scope=col>TaxiOut</th><th scope=col>Cancelled</th><th scope=col>CancellationCode</th><th scope=col>Diverted</th><th scope=col>Carrier</th><th scope=col>Code</th></tr></thead>\n",
       "<tbody>\n",
       "\t<tr><td>2011   </td><td>1      </td><td>1      </td><td>6      </td><td> 654   </td><td>1124   </td><td>B6     </td><td>620    </td><td>N324JB </td><td>210    </td><td>...    </td><td>HOU    </td><td>JFK    </td><td>1428   </td><td> 6     </td><td>23     </td><td>0      </td><td>       </td><td>0      </td><td>JetBlue</td><td>NA     </td></tr>\n",
       "\t<tr><td>2011   </td><td>1      </td><td>1      </td><td>6      </td><td>1639   </td><td>2110   </td><td>B6     </td><td>622    </td><td>N324JB </td><td>211    </td><td>...    </td><td>HOU    </td><td>JFK    </td><td>1428   </td><td>12     </td><td>11     </td><td>0      </td><td>       </td><td>0      </td><td>JetBlue</td><td>NA     </td></tr>\n",
       "</tbody>\n",
       "</table>\n"
      ],
      "text/latex": [
       "\\begin{tabular}{r|lllllllllllllllllllllll}\n",
       " Year & Month & DayofMonth & DayOfWeek & DepTime & ArrTime & UniqueCarrier & FlightNum & TailNum & ActualElapsedTime & ... & Origin & Dest & Distance & TaxiIn & TaxiOut & Cancelled & CancellationCode & Diverted & Carrier & Code\\\\\n",
       "\\hline\n",
       "\t 2011    & 1       & 1       & 6       &  654    & 1124    & B6      & 620     & N324JB  & 210     & ...     & HOU     & JFK     & 1428    &  6      & 23      & 0       &         & 0       & JetBlue & NA     \\\\\n",
       "\t 2011    & 1       & 1       & 6       & 1639    & 2110    & B6      & 622     & N324JB  & 211     & ...     & HOU     & JFK     & 1428    & 12      & 11      & 0       &         & 0       & JetBlue & NA     \\\\\n",
       "\\end{tabular}\n"
      ],
      "text/markdown": [
       "\n",
       "Year | Month | DayofMonth | DayOfWeek | DepTime | ArrTime | UniqueCarrier | FlightNum | TailNum | ActualElapsedTime | ... | Origin | Dest | Distance | TaxiIn | TaxiOut | Cancelled | CancellationCode | Diverted | Carrier | Code | \n",
       "|---|---|\n",
       "| 2011    | 1       | 1       | 6       |  654    | 1124    | B6      | 620     | N324JB  | 210     | ...     | HOU     | JFK     | 1428    |  6      | 23      | 0       |         | 0       | JetBlue | NA      | \n",
       "| 2011    | 1       | 1       | 6       | 1639    | 2110    | B6      | 622     | N324JB  | 211     | ...     | HOU     | JFK     | 1428    | 12      | 11      | 0       |         | 0       | JetBlue | NA      | \n",
       "\n",
       "\n"
      ],
      "text/plain": [
       "  Year Month DayofMonth DayOfWeek DepTime ArrTime UniqueCarrier FlightNum\n",
       "1 2011 1     1          6          654    1124    B6            620      \n",
       "2 2011 1     1          6         1639    2110    B6            622      \n",
       "  TailNum ActualElapsedTime ... Origin Dest Distance TaxiIn TaxiOut Cancelled\n",
       "1 N324JB  210               ... HOU    JFK  1428      6     23      0        \n",
       "2 N324JB  211               ... HOU    JFK  1428     12     11      0        \n",
       "  CancellationCode Diverted Carrier Code\n",
       "1                  0        JetBlue NA  \n",
       "2                  0        JetBlue NA  "
      ]
     },
     "metadata": {},
     "output_type": "display_data"
    },
    {
     "data": {
      "text/html": [
       "<table>\n",
       "<thead><tr><th scope=col>Year</th><th scope=col>Month</th><th scope=col>DayofMonth</th><th scope=col>DayOfWeek</th><th scope=col>DepTime</th><th scope=col>ArrTime</th><th scope=col>UniqueCarrier</th><th scope=col>FlightNum</th><th scope=col>TailNum</th><th scope=col>ActualElapsedTime</th><th scope=col>...</th><th scope=col>Origin</th><th scope=col>Dest</th><th scope=col>Distance</th><th scope=col>TaxiIn</th><th scope=col>TaxiOut</th><th scope=col>Cancelled</th><th scope=col>CancellationCode</th><th scope=col>Diverted</th><th scope=col>Carrier</th><th scope=col>Code</th></tr></thead>\n",
       "<tbody>\n",
       "\t<tr><td>2011    </td><td>1       </td><td>24      </td><td>1       </td><td> 731    </td><td> 904    </td><td>AA      </td><td>460     </td><td>N545AA  </td><td>93      </td><td>...     </td><td>IAH     </td><td>DFW     </td><td>224     </td><td>14      </td><td>37      </td><td>0       </td><td>        </td><td>0       </td><td>American</td><td>NA      </td></tr>\n",
       "\t<tr><td>2011    </td><td>1       </td><td>30      </td><td>7       </td><td>1959    </td><td>2132    </td><td>AA      </td><td>533     </td><td>N455AA  </td><td>93      </td><td>...     </td><td>IAH     </td><td>DFW     </td><td>224     </td><td>10      </td><td>40      </td><td>0       </td><td>        </td><td>0       </td><td>American</td><td>NA      </td></tr>\n",
       "</tbody>\n",
       "</table>\n"
      ],
      "text/latex": [
       "\\begin{tabular}{r|lllllllllllllllllllllll}\n",
       " Year & Month & DayofMonth & DayOfWeek & DepTime & ArrTime & UniqueCarrier & FlightNum & TailNum & ActualElapsedTime & ... & Origin & Dest & Distance & TaxiIn & TaxiOut & Cancelled & CancellationCode & Diverted & Carrier & Code\\\\\n",
       "\\hline\n",
       "\t 2011     & 1        & 24       & 1        &  731     &  904     & AA       & 460      & N545AA   & 93       & ...      & IAH      & DFW      & 224      & 14       & 37       & 0        &          & 0        & American & NA      \\\\\n",
       "\t 2011     & 1        & 30       & 7        & 1959     & 2132     & AA       & 533      & N455AA   & 93       & ...      & IAH      & DFW      & 224      & 10       & 40       & 0        &          & 0        & American & NA      \\\\\n",
       "\\end{tabular}\n"
      ],
      "text/markdown": [
       "\n",
       "Year | Month | DayofMonth | DayOfWeek | DepTime | ArrTime | UniqueCarrier | FlightNum | TailNum | ActualElapsedTime | ... | Origin | Dest | Distance | TaxiIn | TaxiOut | Cancelled | CancellationCode | Diverted | Carrier | Code | \n",
       "|---|---|\n",
       "| 2011     | 1        | 24       | 1        |  731     |  904     | AA       | 460      | N545AA   | 93       | ...      | IAH      | DFW      | 224      | 14       | 37       | 0        |          | 0        | American | NA       | \n",
       "| 2011     | 1        | 30       | 7        | 1959     | 2132     | AA       | 533      | N455AA   | 93       | ...      | IAH      | DFW      | 224      | 10       | 40       | 0        |          | 0        | American | NA       | \n",
       "\n",
       "\n"
      ],
      "text/plain": [
       "  Year Month DayofMonth DayOfWeek DepTime ArrTime UniqueCarrier FlightNum\n",
       "1 2011 1     24         1          731     904    AA            460      \n",
       "2 2011 1     30         7         1959    2132    AA            533      \n",
       "  TailNum ActualElapsedTime ... Origin Dest Distance TaxiIn TaxiOut Cancelled\n",
       "1 N545AA  93                ... IAH    DFW  224      14     37      0        \n",
       "2 N455AA  93                ... IAH    DFW  224      10     40      0        \n",
       "  CancellationCode Diverted Carrier  Code\n",
       "1                  0        American NA  \n",
       "2                  0        American NA  "
      ]
     },
     "metadata": {},
     "output_type": "display_data"
    }
   ],
   "source": [
    "# All flights that traveled 3000 miles or more\n",
    "head(filter(hflights, Distance >= 3000), 2)\n",
    "\n",
    "# All flights flown by one of JetBlue, Southwest, or Delta\n",
    "head(filter(hflights, Carrier %in% c(\"JetBlue\", \"Southwest\", \"Delta\")), 2)\n",
    "\n",
    "# All flights where taxiing took longer than flying\n",
    "head(filter(hflights, (TaxiOut + TaxiIn) > AirTime), 2)"
   ]
  },
  {
   "cell_type": "markdown",
   "metadata": {},
   "source": [
    "**Combining tests using boolean operators**\n",
    "\n",
    "R also comes with a set of boolean operators that you can use to combine multiple logical tests into a single test. These include & (and), | (or), and ! (not). Instead of using the & operator, you can also pass several logical tests to filter(), separated by commas. The following two calls are completely equivalent:\n",
    "\n",
    "filter(df, a > 0 & b > 0)\n",
    "filter(df, a > 0, b > 0)\n",
    "\n",
    "Next, is.na() will also come in handy. This example keeps the observations in df for which the variable x is not NA:\n",
    "\n",
    "filter(df, !is.na(x))\n"
   ]
  },
  {
   "cell_type": "code",
   "execution_count": 22,
   "metadata": {},
   "outputs": [
    {
     "data": {
      "text/html": [
       "<table>\n",
       "<thead><tr><th scope=col>Year</th><th scope=col>Month</th><th scope=col>DayofMonth</th><th scope=col>DayOfWeek</th><th scope=col>DepTime</th><th scope=col>ArrTime</th><th scope=col>UniqueCarrier</th><th scope=col>FlightNum</th><th scope=col>TailNum</th><th scope=col>ActualElapsedTime</th><th scope=col>...</th><th scope=col>Origin</th><th scope=col>Dest</th><th scope=col>Distance</th><th scope=col>TaxiIn</th><th scope=col>TaxiOut</th><th scope=col>Cancelled</th><th scope=col>CancellationCode</th><th scope=col>Diverted</th><th scope=col>Carrier</th><th scope=col>Code</th></tr></thead>\n",
       "<tbody>\n",
       "\t<tr><td>2011    </td><td>1       </td><td> 4      </td><td>2       </td><td>2100    </td><td>2207    </td><td>AA      </td><td>533     </td><td>N4XGAA  </td><td>67      </td><td>...     </td><td>IAH     </td><td>DFW     </td><td>224     </td><td>3       </td><td>22      </td><td>0       </td><td>        </td><td>0       </td><td>American</td><td>NA      </td></tr>\n",
       "\t<tr><td>2011    </td><td>1       </td><td>14      </td><td>5       </td><td>2119    </td><td>2229    </td><td>AA      </td><td>533     </td><td>N549AA  </td><td>70      </td><td>...     </td><td>IAH     </td><td>DFW     </td><td>224     </td><td>5       </td><td>20      </td><td>0       </td><td>        </td><td>0       </td><td>American</td><td>NA      </td></tr>\n",
       "</tbody>\n",
       "</table>\n"
      ],
      "text/latex": [
       "\\begin{tabular}{r|lllllllllllllllllllllll}\n",
       " Year & Month & DayofMonth & DayOfWeek & DepTime & ArrTime & UniqueCarrier & FlightNum & TailNum & ActualElapsedTime & ... & Origin & Dest & Distance & TaxiIn & TaxiOut & Cancelled & CancellationCode & Diverted & Carrier & Code\\\\\n",
       "\\hline\n",
       "\t 2011     & 1        &  4       & 2        & 2100     & 2207     & AA       & 533      & N4XGAA   & 67       & ...      & IAH      & DFW      & 224      & 3        & 22       & 0        &          & 0        & American & NA      \\\\\n",
       "\t 2011     & 1        & 14       & 5        & 2119     & 2229     & AA       & 533      & N549AA   & 70       & ...      & IAH      & DFW      & 224      & 5        & 20       & 0        &          & 0        & American & NA      \\\\\n",
       "\\end{tabular}\n"
      ],
      "text/markdown": [
       "\n",
       "Year | Month | DayofMonth | DayOfWeek | DepTime | ArrTime | UniqueCarrier | FlightNum | TailNum | ActualElapsedTime | ... | Origin | Dest | Distance | TaxiIn | TaxiOut | Cancelled | CancellationCode | Diverted | Carrier | Code | \n",
       "|---|---|\n",
       "| 2011     | 1        |  4       | 2        | 2100     | 2207     | AA       | 533      | N4XGAA   | 67       | ...      | IAH      | DFW      | 224      | 3        | 22       | 0        |          | 0        | American | NA       | \n",
       "| 2011     | 1        | 14       | 5        | 2119     | 2229     | AA       | 533      | N549AA   | 70       | ...      | IAH      | DFW      | 224      | 5        | 20       | 0        |          | 0        | American | NA       | \n",
       "\n",
       "\n"
      ],
      "text/plain": [
       "  Year Month DayofMonth DayOfWeek DepTime ArrTime UniqueCarrier FlightNum\n",
       "1 2011 1      4         2         2100    2207    AA            533      \n",
       "2 2011 1     14         5         2119    2229    AA            533      \n",
       "  TailNum ActualElapsedTime ... Origin Dest Distance TaxiIn TaxiOut Cancelled\n",
       "1 N4XGAA  67                ... IAH    DFW  224      3      22      0        \n",
       "2 N549AA  70                ... IAH    DFW  224      5      20      0        \n",
       "  CancellationCode Diverted Carrier  Code\n",
       "1                  0        American NA  \n",
       "2                  0        American NA  "
      ]
     },
     "metadata": {},
     "output_type": "display_data"
    },
    {
     "data": {
      "text/html": [
       "<table>\n",
       "<thead><tr><th scope=col>Year</th><th scope=col>Month</th><th scope=col>DayofMonth</th><th scope=col>DayOfWeek</th><th scope=col>DepTime</th><th scope=col>ArrTime</th><th scope=col>UniqueCarrier</th><th scope=col>FlightNum</th><th scope=col>TailNum</th><th scope=col>ActualElapsedTime</th><th scope=col>...</th><th scope=col>Origin</th><th scope=col>Dest</th><th scope=col>Distance</th><th scope=col>TaxiIn</th><th scope=col>TaxiOut</th><th scope=col>Cancelled</th><th scope=col>CancellationCode</th><th scope=col>Diverted</th><th scope=col>Carrier</th><th scope=col>Code</th></tr></thead>\n",
       "<tbody>\n",
       "\t<tr><td>2011    </td><td>1       </td><td>2       </td><td>7       </td><td>1401    </td><td>1501    </td><td>AA      </td><td>428     </td><td>N557AA  </td><td>60      </td><td>...     </td><td>IAH     </td><td>DFW     </td><td>224     </td><td>6       </td><td>9       </td><td>0       </td><td>        </td><td>0       </td><td>American</td><td>NA      </td></tr>\n",
       "\t<tr><td>2011    </td><td>1       </td><td>5       </td><td>3       </td><td>1405    </td><td>1507    </td><td>AA      </td><td>428     </td><td>N492AA  </td><td>62      </td><td>...     </td><td>IAH     </td><td>DFW     </td><td>224     </td><td>9       </td><td>9       </td><td>0       </td><td>        </td><td>0       </td><td>American</td><td>NA      </td></tr>\n",
       "</tbody>\n",
       "</table>\n"
      ],
      "text/latex": [
       "\\begin{tabular}{r|lllllllllllllllllllllll}\n",
       " Year & Month & DayofMonth & DayOfWeek & DepTime & ArrTime & UniqueCarrier & FlightNum & TailNum & ActualElapsedTime & ... & Origin & Dest & Distance & TaxiIn & TaxiOut & Cancelled & CancellationCode & Diverted & Carrier & Code\\\\\n",
       "\\hline\n",
       "\t 2011     & 1        & 2        & 7        & 1401     & 1501     & AA       & 428      & N557AA   & 60       & ...      & IAH      & DFW      & 224      & 6        & 9        & 0        &          & 0        & American & NA      \\\\\n",
       "\t 2011     & 1        & 5        & 3        & 1405     & 1507     & AA       & 428      & N492AA   & 62       & ...      & IAH      & DFW      & 224      & 9        & 9        & 0        &          & 0        & American & NA      \\\\\n",
       "\\end{tabular}\n"
      ],
      "text/markdown": [
       "\n",
       "Year | Month | DayofMonth | DayOfWeek | DepTime | ArrTime | UniqueCarrier | FlightNum | TailNum | ActualElapsedTime | ... | Origin | Dest | Distance | TaxiIn | TaxiOut | Cancelled | CancellationCode | Diverted | Carrier | Code | \n",
       "|---|---|\n",
       "| 2011     | 1        | 2        | 7        | 1401     | 1501     | AA       | 428      | N557AA   | 60       | ...      | IAH      | DFW      | 224      | 6        | 9        | 0        |          | 0        | American | NA       | \n",
       "| 2011     | 1        | 5        | 3        | 1405     | 1507     | AA       | 428      | N492AA   | 62       | ...      | IAH      | DFW      | 224      | 9        | 9        | 0        |          | 0        | American | NA       | \n",
       "\n",
       "\n"
      ],
      "text/plain": [
       "  Year Month DayofMonth DayOfWeek DepTime ArrTime UniqueCarrier FlightNum\n",
       "1 2011 1     2          7         1401    1501    AA            428      \n",
       "2 2011 1     5          3         1405    1507    AA            428      \n",
       "  TailNum ActualElapsedTime ... Origin Dest Distance TaxiIn TaxiOut Cancelled\n",
       "1 N557AA  60                ... IAH    DFW  224      6      9       0        \n",
       "2 N492AA  62                ... IAH    DFW  224      9      9       0        \n",
       "  CancellationCode Diverted Carrier  Code\n",
       "1                  0        American NA  \n",
       "2                  0        American NA  "
      ]
     },
     "metadata": {},
     "output_type": "display_data"
    },
    {
     "data": {
      "text/html": [
       "<table>\n",
       "<thead><tr><th scope=col>Year</th><th scope=col>Month</th><th scope=col>DayofMonth</th><th scope=col>DayOfWeek</th><th scope=col>DepTime</th><th scope=col>ArrTime</th><th scope=col>UniqueCarrier</th><th scope=col>FlightNum</th><th scope=col>TailNum</th><th scope=col>ActualElapsedTime</th><th scope=col>...</th><th scope=col>Origin</th><th scope=col>Dest</th><th scope=col>Distance</th><th scope=col>TaxiIn</th><th scope=col>TaxiOut</th><th scope=col>Cancelled</th><th scope=col>CancellationCode</th><th scope=col>Diverted</th><th scope=col>Carrier</th><th scope=col>Code</th></tr></thead>\n",
       "<tbody>\n",
       "\t<tr><td>2011       </td><td>1          </td><td>26         </td><td>3          </td><td>1926       </td><td>NA         </td><td>CO         </td><td>310        </td><td>N77865     </td><td>NA         </td><td>...        </td><td>IAH        </td><td>EWR        </td><td>1400       </td><td>NA         </td><td>NA         </td><td>1          </td><td>B          </td><td>0          </td><td>Continental</td><td>weather    </td></tr>\n",
       "\t<tr><td>2011       </td><td>1          </td><td>11         </td><td>2          </td><td>1100       </td><td>NA         </td><td>US         </td><td>944        </td><td>N452UW     </td><td>NA         </td><td>...        </td><td>IAH        </td><td>CLT        </td><td> 913       </td><td>NA         </td><td>NA         </td><td>1          </td><td>B          </td><td>0          </td><td>US_Airways </td><td>weather    </td></tr>\n",
       "</tbody>\n",
       "</table>\n"
      ],
      "text/latex": [
       "\\begin{tabular}{r|lllllllllllllllllllllll}\n",
       " Year & Month & DayofMonth & DayOfWeek & DepTime & ArrTime & UniqueCarrier & FlightNum & TailNum & ActualElapsedTime & ... & Origin & Dest & Distance & TaxiIn & TaxiOut & Cancelled & CancellationCode & Diverted & Carrier & Code\\\\\n",
       "\\hline\n",
       "\t 2011        & 1           & 26          & 3           & 1926        & NA          & CO          & 310         & N77865      & NA          & ...         & IAH         & EWR         & 1400        & NA          & NA          & 1           & B           & 0           & Continental & weather    \\\\\n",
       "\t 2011          & 1             & 11            & 2             & 1100          & NA            & US            & 944           & N452UW        & NA            & ...           & IAH           & CLT           &  913          & NA            & NA            & 1             & B             & 0             & US\\_Airways  & weather      \\\\\n",
       "\\end{tabular}\n"
      ],
      "text/markdown": [
       "\n",
       "Year | Month | DayofMonth | DayOfWeek | DepTime | ArrTime | UniqueCarrier | FlightNum | TailNum | ActualElapsedTime | ... | Origin | Dest | Distance | TaxiIn | TaxiOut | Cancelled | CancellationCode | Diverted | Carrier | Code | \n",
       "|---|---|\n",
       "| 2011        | 1           | 26          | 3           | 1926        | NA          | CO          | 310         | N77865      | NA          | ...         | IAH         | EWR         | 1400        | NA          | NA          | 1           | B           | 0           | Continental | weather     | \n",
       "| 2011        | 1           | 11          | 2           | 1100        | NA          | US          | 944         | N452UW      | NA          | ...         | IAH         | CLT         |  913        | NA          | NA          | 1           | B           | 0           | US_Airways  | weather     | \n",
       "\n",
       "\n"
      ],
      "text/plain": [
       "  Year Month DayofMonth DayOfWeek DepTime ArrTime UniqueCarrier FlightNum\n",
       "1 2011 1     26         3         1926    NA      CO            310      \n",
       "2 2011 1     11         2         1100    NA      US            944      \n",
       "  TailNum ActualElapsedTime ... Origin Dest Distance TaxiIn TaxiOut Cancelled\n",
       "1 N77865  NA                ... IAH    EWR  1400     NA     NA      1        \n",
       "2 N452UW  NA                ... IAH    CLT   913     NA     NA      1        \n",
       "  CancellationCode Diverted Carrier     Code   \n",
       "1 B                0        Continental weather\n",
       "2 B                0        US_Airways  weather"
      ]
     },
     "metadata": {},
     "output_type": "display_data"
    }
   ],
   "source": [
    "# All flights that departed before 5am or arrived after 10pm\n",
    "head(filter(hflights, DepTime < 500 | ArrTime > 2200), 2)\n",
    "\n",
    "# All flights that departed late but arrived ahead of schedule\n",
    "head(filter(hflights, DepDelay > 0 & ArrDelay < 0), 2)\n",
    "\n",
    "# All flights that were cancelled after being delayed\n",
    "head(filter(hflights, DepDelay > 0 & Cancelled == 1), 2)"
   ]
  },
  {
   "cell_type": "markdown",
   "metadata": {},
   "source": [
    "How many weekend flights flew a distance of more than 1000 miles but had a total taxiing time below 15 minutes?"
   ]
  },
  {
   "cell_type": "code",
   "execution_count": 24,
   "metadata": {},
   "outputs": [
    {
     "data": {
      "text/html": [
       "1739"
      ],
      "text/latex": [
       "1739"
      ],
      "text/markdown": [
       "1739"
      ],
      "text/plain": [
       "[1] 1739"
      ]
     },
     "metadata": {},
     "output_type": "display_data"
    }
   ],
   "source": [
    "nrow(hflights %>% \n",
    "     filter(DayOfWeek %in% c(6, 7)) %>% \n",
    "     mutate(Taxi_total = TaxiIn + TaxiOut) %>% \n",
    "     filter(Taxi_total < 15 & Distance > 1000))"
   ]
  },
  {
   "cell_type": "markdown",
   "metadata": {},
   "source": [
    "### arrange()\n",
    "arrange() can be used to rearrange rows according to any type of data. If you pass arrange() a character variable, for example, R will rearrange the rows in alphabetical order according to values of the variable. If you pass a factor variable, R will rearrange the rows according to the order of the levels in your factor (running levels() on the variable reveals this order).\n",
    "\n",
    "By default, arrange() arranges the rows from smallest to largest. Rows with the smallest value of the variable will appear at the top of the data set. You can reverse this behavior with the desc() function. "
   ]
  },
  {
   "cell_type": "code",
   "execution_count": 26,
   "metadata": {},
   "outputs": [
    {
     "data": {
      "text/html": [
       "<table>\n",
       "<thead><tr><th scope=col>Year</th><th scope=col>Month</th><th scope=col>DayofMonth</th><th scope=col>DayOfWeek</th><th scope=col>DepTime</th><th scope=col>ArrTime</th><th scope=col>UniqueCarrier</th><th scope=col>FlightNum</th><th scope=col>TailNum</th><th scope=col>ActualElapsedTime</th><th scope=col>...</th><th scope=col>Origin</th><th scope=col>Dest</th><th scope=col>Distance</th><th scope=col>TaxiIn</th><th scope=col>TaxiOut</th><th scope=col>Cancelled</th><th scope=col>CancellationCode</th><th scope=col>Diverted</th><th scope=col>Carrier</th><th scope=col>Code</th></tr></thead>\n",
       "<tbody>\n",
       "\t<tr><td>2011          </td><td> 7            </td><td>23            </td><td>6             </td><td> 605          </td><td>NA            </td><td>F9            </td><td> 225          </td><td>N912FR        </td><td>NA            </td><td>...           </td><td>HOU           </td><td>DEN           </td><td> 883          </td><td>NA            </td><td>10            </td><td>1             </td><td>A             </td><td>0             </td><td>Frontier      </td><td>carrier       </td></tr>\n",
       "\t<tr><td>2011          </td><td> 1            </td><td>17            </td><td>1             </td><td> 916          </td><td>NA            </td><td>XE            </td><td>3068          </td><td>N13936        </td><td>NA            </td><td>...           </td><td>IAH           </td><td>HRL           </td><td> 295          </td><td>NA            </td><td>NA            </td><td>1             </td><td>B             </td><td>0             </td><td>ExpressJet    </td><td>weather       </td></tr>\n",
       "\t<tr><td>2011          </td><td>12            </td><td> 1            </td><td>4             </td><td> 541          </td><td>NA            </td><td>US            </td><td> 282          </td><td>N840AW        </td><td>NA            </td><td>...           </td><td>IAH           </td><td>PHX           </td><td>1009          </td><td>NA            </td><td>NA            </td><td>1             </td><td>A             </td><td>0             </td><td>US_Airways    </td><td>carrier       </td></tr>\n",
       "\t<tr><td>2011          </td><td>10            </td><td>12            </td><td>3             </td><td>2022          </td><td>NA            </td><td>MQ            </td><td>3724          </td><td>N539MQ        </td><td>NA            </td><td>...           </td><td>IAH           </td><td>LAX           </td><td>1379          </td><td>NA            </td><td>NA            </td><td>1             </td><td>A             </td><td>0             </td><td>American_Eagle</td><td>carrier       </td></tr>\n",
       "\t<tr><td>2011          </td><td> 7            </td><td>29            </td><td>5             </td><td>1424          </td><td>NA            </td><td>CO            </td><td>1079          </td><td>N14628        </td><td>NA            </td><td>...           </td><td>IAH           </td><td>ORD           </td><td> 925          </td><td>NA            </td><td>13            </td><td>1             </td><td>A             </td><td>0             </td><td>Continental   </td><td>carrier       </td></tr>\n",
       "\t<tr><td>2011          </td><td> 9            </td><td>29            </td><td>4             </td><td>1639          </td><td>NA            </td><td>OO            </td><td>2062          </td><td>N724SK        </td><td>NA            </td><td>...           </td><td>IAH           </td><td>ATL           </td><td> 689          </td><td>NA            </td><td>NA            </td><td>1             </td><td>B             </td><td>0             </td><td>SkyWest       </td><td>weather       </td></tr>\n",
       "</tbody>\n",
       "</table>\n"
      ],
      "text/latex": [
       "\\begin{tabular}{r|lllllllllllllllllllllll}\n",
       " Year & Month & DayofMonth & DayOfWeek & DepTime & ArrTime & UniqueCarrier & FlightNum & TailNum & ActualElapsedTime & ... & Origin & Dest & Distance & TaxiIn & TaxiOut & Cancelled & CancellationCode & Diverted & Carrier & Code\\\\\n",
       "\\hline\n",
       "\t 2011           &  7             & 23             & 6              &  605           & NA             & F9             &  225           & N912FR         & NA             & ...            & HOU            & DEN            &  883           & NA             & 10             & 1              & A              & 0              & Frontier       & carrier       \\\\\n",
       "\t 2011           &  1             & 17             & 1              &  916           & NA             & XE             & 3068           & N13936         & NA             & ...            & IAH            & HRL            &  295           & NA             & NA             & 1              & B              & 0              & ExpressJet     & weather       \\\\\n",
       "\t 2011             & 12               &  1               & 4                &  541             & NA               & US               &  282             & N840AW           & NA               & ...              & IAH              & PHX              & 1009             & NA               & NA               & 1                & A                & 0                & US\\_Airways     & carrier         \\\\\n",
       "\t 2011             & 10               & 12               & 3                & 2022             & NA               & MQ               & 3724             & N539MQ           & NA               & ...              & IAH              & LAX              & 1379             & NA               & NA               & 1                & A                & 0                & American\\_Eagle & carrier         \\\\\n",
       "\t 2011           &  7             & 29             & 5              & 1424           & NA             & CO             & 1079           & N14628         & NA             & ...            & IAH            & ORD            &  925           & NA             & 13             & 1              & A              & 0              & Continental    & carrier       \\\\\n",
       "\t 2011           &  9             & 29             & 4              & 1639           & NA             & OO             & 2062           & N724SK         & NA             & ...            & IAH            & ATL            &  689           & NA             & NA             & 1              & B              & 0              & SkyWest        & weather       \\\\\n",
       "\\end{tabular}\n"
      ],
      "text/markdown": [
       "\n",
       "Year | Month | DayofMonth | DayOfWeek | DepTime | ArrTime | UniqueCarrier | FlightNum | TailNum | ActualElapsedTime | ... | Origin | Dest | Distance | TaxiIn | TaxiOut | Cancelled | CancellationCode | Diverted | Carrier | Code | \n",
       "|---|---|---|---|---|---|\n",
       "| 2011           |  7             | 23             | 6              |  605           | NA             | F9             |  225           | N912FR         | NA             | ...            | HOU            | DEN            |  883           | NA             | 10             | 1              | A              | 0              | Frontier       | carrier        | \n",
       "| 2011           |  1             | 17             | 1              |  916           | NA             | XE             | 3068           | N13936         | NA             | ...            | IAH            | HRL            |  295           | NA             | NA             | 1              | B              | 0              | ExpressJet     | weather        | \n",
       "| 2011           | 12             |  1             | 4              |  541           | NA             | US             |  282           | N840AW         | NA             | ...            | IAH            | PHX            | 1009           | NA             | NA             | 1              | A              | 0              | US_Airways     | carrier        | \n",
       "| 2011           | 10             | 12             | 3              | 2022           | NA             | MQ             | 3724           | N539MQ         | NA             | ...            | IAH            | LAX            | 1379           | NA             | NA             | 1              | A              | 0              | American_Eagle | carrier        | \n",
       "| 2011           |  7             | 29             | 5              | 1424           | NA             | CO             | 1079           | N14628         | NA             | ...            | IAH            | ORD            |  925           | NA             | 13             | 1              | A              | 0              | Continental    | carrier        | \n",
       "| 2011           |  9             | 29             | 4              | 1639           | NA             | OO             | 2062           | N724SK         | NA             | ...            | IAH            | ATL            |  689           | NA             | NA             | 1              | B              | 0              | SkyWest        | weather        | \n",
       "\n",
       "\n"
      ],
      "text/plain": [
       "  Year Month DayofMonth DayOfWeek DepTime ArrTime UniqueCarrier FlightNum\n",
       "1 2011  7    23         6          605    NA      F9             225     \n",
       "2 2011  1    17         1          916    NA      XE            3068     \n",
       "3 2011 12     1         4          541    NA      US             282     \n",
       "4 2011 10    12         3         2022    NA      MQ            3724     \n",
       "5 2011  7    29         5         1424    NA      CO            1079     \n",
       "6 2011  9    29         4         1639    NA      OO            2062     \n",
       "  TailNum ActualElapsedTime ... Origin Dest Distance TaxiIn TaxiOut Cancelled\n",
       "1 N912FR  NA                ... HOU    DEN   883     NA     10      1        \n",
       "2 N13936  NA                ... IAH    HRL   295     NA     NA      1        \n",
       "3 N840AW  NA                ... IAH    PHX  1009     NA     NA      1        \n",
       "4 N539MQ  NA                ... IAH    LAX  1379     NA     NA      1        \n",
       "5 N14628  NA                ... IAH    ORD   925     NA     13      1        \n",
       "6 N724SK  NA                ... IAH    ATL   689     NA     NA      1        \n",
       "  CancellationCode Diverted Carrier        Code   \n",
       "1 A                0        Frontier       carrier\n",
       "2 B                0        ExpressJet     weather\n",
       "3 A                0        US_Airways     carrier\n",
       "4 A                0        American_Eagle carrier\n",
       "5 A                0        Continental    carrier\n",
       "6 B                0        SkyWest        weather"
      ]
     },
     "metadata": {},
     "output_type": "display_data"
    },
    {
     "data": {
      "text/html": [
       "<table>\n",
       "<thead><tr><th scope=col>Year</th><th scope=col>Month</th><th scope=col>DayofMonth</th><th scope=col>DayOfWeek</th><th scope=col>DepTime</th><th scope=col>ArrTime</th><th scope=col>UniqueCarrier</th><th scope=col>FlightNum</th><th scope=col>TailNum</th><th scope=col>ActualElapsedTime</th><th scope=col>...</th><th scope=col>Origin</th><th scope=col>Dest</th><th scope=col>Distance</th><th scope=col>TaxiIn</th><th scope=col>TaxiOut</th><th scope=col>Cancelled</th><th scope=col>CancellationCode</th><th scope=col>Diverted</th><th scope=col>Carrier</th><th scope=col>Code</th></tr></thead>\n",
       "<tbody>\n",
       "\t<tr><td>2011       </td><td>1          </td><td>20         </td><td>4          </td><td>1413       </td><td>NA         </td><td>UA         </td><td> 552       </td><td>N509UA     </td><td>NA         </td><td>...        </td><td>IAH        </td><td>IAD        </td><td>1190       </td><td>NA         </td><td>NA         </td><td>1          </td><td>A          </td><td>0          </td><td>United     </td><td>carrier    </td></tr>\n",
       "\t<tr><td>2011       </td><td>1          </td><td> 7         </td><td>5          </td><td>2028       </td><td>NA         </td><td>XE         </td><td>3050       </td><td>N15912     </td><td>NA         </td><td>...        </td><td>IAH        </td><td>JAX        </td><td> 817       </td><td>NA         </td><td>19         </td><td>1          </td><td>A          </td><td>0          </td><td>ExpressJet </td><td>carrier    </td></tr>\n",
       "\t<tr><td>2011       </td><td>2          </td><td> 4         </td><td>5          </td><td>1638       </td><td>NA         </td><td>AA         </td><td>1121       </td><td>N537AA     </td><td>NA         </td><td>...        </td><td>IAH        </td><td>DFW        </td><td> 224       </td><td>NA         </td><td>19         </td><td>1          </td><td>A          </td><td>0          </td><td>American   </td><td>carrier    </td></tr>\n",
       "\t<tr><td>2011       </td><td>2          </td><td> 8         </td><td>2          </td><td>1057       </td><td>NA         </td><td>CO         </td><td> 408       </td><td>N11641     </td><td>NA         </td><td>...        </td><td>IAH        </td><td>EWR        </td><td>1400       </td><td>NA         </td><td>NA         </td><td>1          </td><td>A          </td><td>0          </td><td>Continental</td><td>carrier    </td></tr>\n",
       "\t<tr><td>2011       </td><td>2          </td><td> 1         </td><td>2          </td><td>1508       </td><td>NA         </td><td>OO         </td><td>5812       </td><td>N959SW     </td><td>NA         </td><td>...        </td><td>IAH        </td><td>ATL        </td><td> 689       </td><td>NA         </td><td>19         </td><td>1          </td><td>A          </td><td>0          </td><td>SkyWest    </td><td>carrier    </td></tr>\n",
       "\t<tr><td>2011       </td><td>2          </td><td>21         </td><td>1          </td><td>2257       </td><td>NA         </td><td>OO         </td><td>1111       </td><td>N778SK     </td><td>NA         </td><td>...        </td><td>IAH        </td><td>AUS        </td><td> 140       </td><td>NA         </td><td>NA         </td><td>1          </td><td>A          </td><td>0          </td><td>SkyWest    </td><td>carrier    </td></tr>\n",
       "</tbody>\n",
       "</table>\n"
      ],
      "text/latex": [
       "\\begin{tabular}{r|lllllllllllllllllllllll}\n",
       " Year & Month & DayofMonth & DayOfWeek & DepTime & ArrTime & UniqueCarrier & FlightNum & TailNum & ActualElapsedTime & ... & Origin & Dest & Distance & TaxiIn & TaxiOut & Cancelled & CancellationCode & Diverted & Carrier & Code\\\\\n",
       "\\hline\n",
       "\t 2011        & 1           & 20          & 4           & 1413        & NA          & UA          &  552        & N509UA      & NA          & ...         & IAH         & IAD         & 1190        & NA          & NA          & 1           & A           & 0           & United      & carrier    \\\\\n",
       "\t 2011        & 1           &  7          & 5           & 2028        & NA          & XE          & 3050        & N15912      & NA          & ...         & IAH         & JAX         &  817        & NA          & 19          & 1           & A           & 0           & ExpressJet  & carrier    \\\\\n",
       "\t 2011        & 2           &  4          & 5           & 1638        & NA          & AA          & 1121        & N537AA      & NA          & ...         & IAH         & DFW         &  224        & NA          & 19          & 1           & A           & 0           & American    & carrier    \\\\\n",
       "\t 2011        & 2           &  8          & 2           & 1057        & NA          & CO          &  408        & N11641      & NA          & ...         & IAH         & EWR         & 1400        & NA          & NA          & 1           & A           & 0           & Continental & carrier    \\\\\n",
       "\t 2011        & 2           &  1          & 2           & 1508        & NA          & OO          & 5812        & N959SW      & NA          & ...         & IAH         & ATL         &  689        & NA          & 19          & 1           & A           & 0           & SkyWest     & carrier    \\\\\n",
       "\t 2011        & 2           & 21          & 1           & 2257        & NA          & OO          & 1111        & N778SK      & NA          & ...         & IAH         & AUS         &  140        & NA          & NA          & 1           & A           & 0           & SkyWest     & carrier    \\\\\n",
       "\\end{tabular}\n"
      ],
      "text/markdown": [
       "\n",
       "Year | Month | DayofMonth | DayOfWeek | DepTime | ArrTime | UniqueCarrier | FlightNum | TailNum | ActualElapsedTime | ... | Origin | Dest | Distance | TaxiIn | TaxiOut | Cancelled | CancellationCode | Diverted | Carrier | Code | \n",
       "|---|---|---|---|---|---|\n",
       "| 2011        | 1           | 20          | 4           | 1413        | NA          | UA          |  552        | N509UA      | NA          | ...         | IAH         | IAD         | 1190        | NA          | NA          | 1           | A           | 0           | United      | carrier     | \n",
       "| 2011        | 1           |  7          | 5           | 2028        | NA          | XE          | 3050        | N15912      | NA          | ...         | IAH         | JAX         |  817        | NA          | 19          | 1           | A           | 0           | ExpressJet  | carrier     | \n",
       "| 2011        | 2           |  4          | 5           | 1638        | NA          | AA          | 1121        | N537AA      | NA          | ...         | IAH         | DFW         |  224        | NA          | 19          | 1           | A           | 0           | American    | carrier     | \n",
       "| 2011        | 2           |  8          | 2           | 1057        | NA          | CO          |  408        | N11641      | NA          | ...         | IAH         | EWR         | 1400        | NA          | NA          | 1           | A           | 0           | Continental | carrier     | \n",
       "| 2011        | 2           |  1          | 2           | 1508        | NA          | OO          | 5812        | N959SW      | NA          | ...         | IAH         | ATL         |  689        | NA          | 19          | 1           | A           | 0           | SkyWest     | carrier     | \n",
       "| 2011        | 2           | 21          | 1           | 2257        | NA          | OO          | 1111        | N778SK      | NA          | ...         | IAH         | AUS         |  140        | NA          | NA          | 1           | A           | 0           | SkyWest     | carrier     | \n",
       "\n",
       "\n"
      ],
      "text/plain": [
       "  Year Month DayofMonth DayOfWeek DepTime ArrTime UniqueCarrier FlightNum\n",
       "1 2011 1     20         4         1413    NA      UA             552     \n",
       "2 2011 1      7         5         2028    NA      XE            3050     \n",
       "3 2011 2      4         5         1638    NA      AA            1121     \n",
       "4 2011 2      8         2         1057    NA      CO             408     \n",
       "5 2011 2      1         2         1508    NA      OO            5812     \n",
       "6 2011 2     21         1         2257    NA      OO            1111     \n",
       "  TailNum ActualElapsedTime ... Origin Dest Distance TaxiIn TaxiOut Cancelled\n",
       "1 N509UA  NA                ... IAH    IAD  1190     NA     NA      1        \n",
       "2 N15912  NA                ... IAH    JAX   817     NA     19      1        \n",
       "3 N537AA  NA                ... IAH    DFW   224     NA     19      1        \n",
       "4 N11641  NA                ... IAH    EWR  1400     NA     NA      1        \n",
       "5 N959SW  NA                ... IAH    ATL   689     NA     19      1        \n",
       "6 N778SK  NA                ... IAH    AUS   140     NA     NA      1        \n",
       "  CancellationCode Diverted Carrier     Code   \n",
       "1 A                0        United      carrier\n",
       "2 A                0        ExpressJet  carrier\n",
       "3 A                0        American    carrier\n",
       "4 A                0        Continental carrier\n",
       "5 A                0        SkyWest     carrier\n",
       "6 A                0        SkyWest     carrier"
      ]
     },
     "metadata": {},
     "output_type": "display_data"
    },
    {
     "data": {
      "text/html": [
       "<table>\n",
       "<thead><tr><th scope=col>Year</th><th scope=col>Month</th><th scope=col>DayofMonth</th><th scope=col>DayOfWeek</th><th scope=col>DepTime</th><th scope=col>ArrTime</th><th scope=col>UniqueCarrier</th><th scope=col>FlightNum</th><th scope=col>TailNum</th><th scope=col>ActualElapsedTime</th><th scope=col>...</th><th scope=col>Origin</th><th scope=col>Dest</th><th scope=col>Distance</th><th scope=col>TaxiIn</th><th scope=col>TaxiOut</th><th scope=col>Cancelled</th><th scope=col>CancellationCode</th><th scope=col>Diverted</th><th scope=col>Carrier</th><th scope=col>Code</th></tr></thead>\n",
       "<tbody>\n",
       "\t<tr><td>2011          </td><td> 6            </td><td>11            </td><td>6             </td><td>1649          </td><td>NA            </td><td>FL            </td><td>1595          </td><td>N946AT        </td><td>NA            </td><td>...           </td><td>HOU           </td><td>BKG           </td><td> 490          </td><td>NA            </td><td>25            </td><td>1             </td><td>A             </td><td>0             </td><td>AirTran       </td><td>carrier       </td></tr>\n",
       "\t<tr><td>2011          </td><td> 8            </td><td>18            </td><td>4             </td><td>1808          </td><td>NA            </td><td>AA            </td><td>1294          </td><td>N3FLAA        </td><td>NA            </td><td>...           </td><td>IAH           </td><td>MIA           </td><td> 964          </td><td>NA            </td><td>NA            </td><td>1             </td><td>A             </td><td>0             </td><td>American      </td><td>carrier       </td></tr>\n",
       "\t<tr><td>2011          </td><td> 2            </td><td> 4            </td><td>5             </td><td>1638          </td><td>NA            </td><td>AA            </td><td>1121          </td><td>N537AA        </td><td>NA            </td><td>...           </td><td>IAH           </td><td>DFW           </td><td> 224          </td><td>NA            </td><td>19            </td><td>1             </td><td>A             </td><td>0             </td><td>American      </td><td>carrier       </td></tr>\n",
       "\t<tr><td>2011          </td><td>10            </td><td>12            </td><td>3             </td><td>2022          </td><td>NA            </td><td>MQ            </td><td>3724          </td><td>N539MQ        </td><td>NA            </td><td>...           </td><td>IAH           </td><td>LAX           </td><td>1379          </td><td>NA            </td><td>NA            </td><td>1             </td><td>A             </td><td>0             </td><td>American_Eagle</td><td>carrier       </td></tr>\n",
       "\t<tr><td>2011          </td><td> 2            </td><td> 9            </td><td>3             </td><td> 555          </td><td>NA            </td><td>MQ            </td><td>3265          </td><td>N613MQ        </td><td>NA            </td><td>...           </td><td>HOU           </td><td>DFW           </td><td> 247          </td><td>NA            </td><td>11            </td><td>1             </td><td>A             </td><td>0             </td><td>American_Eagle</td><td>carrier       </td></tr>\n",
       "\t<tr><td>2011          </td><td> 7            </td><td>17            </td><td>7             </td><td>1917          </td><td>NA            </td><td>MQ            </td><td>3717          </td><td>N503MQ        </td><td>NA            </td><td>...           </td><td>IAH           </td><td>ORD           </td><td> 925          </td><td>NA            </td><td>NA            </td><td>1             </td><td>A             </td><td>0             </td><td>American_Eagle</td><td>carrier       </td></tr>\n",
       "</tbody>\n",
       "</table>\n"
      ],
      "text/latex": [
       "\\begin{tabular}{r|lllllllllllllllllllllll}\n",
       " Year & Month & DayofMonth & DayOfWeek & DepTime & ArrTime & UniqueCarrier & FlightNum & TailNum & ActualElapsedTime & ... & Origin & Dest & Distance & TaxiIn & TaxiOut & Cancelled & CancellationCode & Diverted & Carrier & Code\\\\\n",
       "\\hline\n",
       "\t 2011           &  6             & 11             & 6              & 1649           & NA             & FL             & 1595           & N946AT         & NA             & ...            & HOU            & BKG            &  490           & NA             & 25             & 1              & A              & 0              & AirTran        & carrier       \\\\\n",
       "\t 2011           &  8             & 18             & 4              & 1808           & NA             & AA             & 1294           & N3FLAA         & NA             & ...            & IAH            & MIA            &  964           & NA             & NA             & 1              & A              & 0              & American       & carrier       \\\\\n",
       "\t 2011           &  2             &  4             & 5              & 1638           & NA             & AA             & 1121           & N537AA         & NA             & ...            & IAH            & DFW            &  224           & NA             & 19             & 1              & A              & 0              & American       & carrier       \\\\\n",
       "\t 2011             & 10               & 12               & 3                & 2022             & NA               & MQ               & 3724             & N539MQ           & NA               & ...              & IAH              & LAX              & 1379             & NA               & NA               & 1                & A                & 0                & American\\_Eagle & carrier         \\\\\n",
       "\t 2011             &  2               &  9               & 3                &  555             & NA               & MQ               & 3265             & N613MQ           & NA               & ...              & HOU              & DFW              &  247             & NA               & 11               & 1                & A                & 0                & American\\_Eagle & carrier         \\\\\n",
       "\t 2011             &  7               & 17               & 7                & 1917             & NA               & MQ               & 3717             & N503MQ           & NA               & ...              & IAH              & ORD              &  925             & NA               & NA               & 1                & A                & 0                & American\\_Eagle & carrier         \\\\\n",
       "\\end{tabular}\n"
      ],
      "text/markdown": [
       "\n",
       "Year | Month | DayofMonth | DayOfWeek | DepTime | ArrTime | UniqueCarrier | FlightNum | TailNum | ActualElapsedTime | ... | Origin | Dest | Distance | TaxiIn | TaxiOut | Cancelled | CancellationCode | Diverted | Carrier | Code | \n",
       "|---|---|---|---|---|---|\n",
       "| 2011           |  6             | 11             | 6              | 1649           | NA             | FL             | 1595           | N946AT         | NA             | ...            | HOU            | BKG            |  490           | NA             | 25             | 1              | A              | 0              | AirTran        | carrier        | \n",
       "| 2011           |  8             | 18             | 4              | 1808           | NA             | AA             | 1294           | N3FLAA         | NA             | ...            | IAH            | MIA            |  964           | NA             | NA             | 1              | A              | 0              | American       | carrier        | \n",
       "| 2011           |  2             |  4             | 5              | 1638           | NA             | AA             | 1121           | N537AA         | NA             | ...            | IAH            | DFW            |  224           | NA             | 19             | 1              | A              | 0              | American       | carrier        | \n",
       "| 2011           | 10             | 12             | 3              | 2022           | NA             | MQ             | 3724           | N539MQ         | NA             | ...            | IAH            | LAX            | 1379           | NA             | NA             | 1              | A              | 0              | American_Eagle | carrier        | \n",
       "| 2011           |  2             |  9             | 3              |  555           | NA             | MQ             | 3265           | N613MQ         | NA             | ...            | HOU            | DFW            |  247           | NA             | 11             | 1              | A              | 0              | American_Eagle | carrier        | \n",
       "| 2011           |  7             | 17             | 7              | 1917           | NA             | MQ             | 3717           | N503MQ         | NA             | ...            | IAH            | ORD            |  925           | NA             | NA             | 1              | A              | 0              | American_Eagle | carrier        | \n",
       "\n",
       "\n"
      ],
      "text/plain": [
       "  Year Month DayofMonth DayOfWeek DepTime ArrTime UniqueCarrier FlightNum\n",
       "1 2011  6    11         6         1649    NA      FL            1595     \n",
       "2 2011  8    18         4         1808    NA      AA            1294     \n",
       "3 2011  2     4         5         1638    NA      AA            1121     \n",
       "4 2011 10    12         3         2022    NA      MQ            3724     \n",
       "5 2011  2     9         3          555    NA      MQ            3265     \n",
       "6 2011  7    17         7         1917    NA      MQ            3717     \n",
       "  TailNum ActualElapsedTime ... Origin Dest Distance TaxiIn TaxiOut Cancelled\n",
       "1 N946AT  NA                ... HOU    BKG   490     NA     25      1        \n",
       "2 N3FLAA  NA                ... IAH    MIA   964     NA     NA      1        \n",
       "3 N537AA  NA                ... IAH    DFW   224     NA     19      1        \n",
       "4 N539MQ  NA                ... IAH    LAX  1379     NA     NA      1        \n",
       "5 N613MQ  NA                ... HOU    DFW   247     NA     11      1        \n",
       "6 N503MQ  NA                ... IAH    ORD   925     NA     NA      1        \n",
       "  CancellationCode Diverted Carrier        Code   \n",
       "1 A                0        AirTran        carrier\n",
       "2 A                0        American       carrier\n",
       "3 A                0        American       carrier\n",
       "4 A                0        American_Eagle carrier\n",
       "5 A                0        American_Eagle carrier\n",
       "6 A                0        American_Eagle carrier"
      ]
     },
     "metadata": {},
     "output_type": "display_data"
    }
   ],
   "source": [
    "# Definition of dtc\n",
    "dtc <- filter(hflights, Cancelled == 1, !is.na(DepDelay))\n",
    "\n",
    "# Arrange dtc by departure delays\n",
    "head(arrange(dtc, DepDelay))\n",
    "\n",
    "# Arrange dtc so that cancellation reasons are grouped\n",
    "head(arrange(dtc, Code))\n",
    "# Arrange dtc according to carrier and departure delays\n",
    "head(arrange(dtc, Carrier, DepDelay))"
   ]
  },
  {
   "cell_type": "code",
   "execution_count": 27,
   "metadata": {},
   "outputs": [
    {
     "data": {
      "text/html": [
       "<table>\n",
       "<thead><tr><th scope=col>Year</th><th scope=col>Month</th><th scope=col>DayofMonth</th><th scope=col>DayOfWeek</th><th scope=col>DepTime</th><th scope=col>ArrTime</th><th scope=col>UniqueCarrier</th><th scope=col>FlightNum</th><th scope=col>TailNum</th><th scope=col>ActualElapsedTime</th><th scope=col>...</th><th scope=col>Origin</th><th scope=col>Dest</th><th scope=col>Distance</th><th scope=col>TaxiIn</th><th scope=col>TaxiOut</th><th scope=col>Cancelled</th><th scope=col>CancellationCode</th><th scope=col>Diverted</th><th scope=col>Carrier</th><th scope=col>Code</th></tr></thead>\n",
       "<tbody>\n",
       "\t<tr><td>2011    </td><td>12      </td><td>12      </td><td>1       </td><td> 650    </td><td> 808    </td><td>AA      </td><td>1740    </td><td>N473AA  </td><td>78      </td><td>...     </td><td>IAH     </td><td>DFW     </td><td>224     </td><td>14      </td><td>15      </td><td>0       </td><td>        </td><td>0       </td><td>American</td><td>NA      </td></tr>\n",
       "\t<tr><td>2011    </td><td>11      </td><td>19      </td><td>6       </td><td>1752    </td><td>1910    </td><td>AA      </td><td>1903    </td><td>N495AA  </td><td>78      </td><td>...     </td><td>IAH     </td><td>DFW     </td><td>224     </td><td> 7      </td><td>31      </td><td>0       </td><td>        </td><td>0       </td><td>American</td><td>NA      </td></tr>\n",
       "\t<tr><td>2011    </td><td>12      </td><td>22      </td><td>4       </td><td>1728    </td><td>1848    </td><td>AA      </td><td>1903    </td><td>N580AA  </td><td>80      </td><td>...     </td><td>IAH     </td><td>DFW     </td><td>224     </td><td> 8      </td><td>32      </td><td>0       </td><td>        </td><td>0       </td><td>American</td><td>NA      </td></tr>\n",
       "\t<tr><td>2011    </td><td>10      </td><td>23      </td><td>7       </td><td>2305    </td><td>   2    </td><td>AA      </td><td> 742    </td><td>N548AA  </td><td>57      </td><td>...     </td><td>IAH     </td><td>DFW     </td><td>224     </td><td> 5      </td><td>13      </td><td>0       </td><td>        </td><td>0       </td><td>American</td><td>NA      </td></tr>\n",
       "\t<tr><td>2011    </td><td> 9      </td><td>27      </td><td>2       </td><td>1206    </td><td>1300    </td><td>AA      </td><td>1948    </td><td>N4YUAA  </td><td>54      </td><td>...     </td><td>IAH     </td><td>DFW     </td><td>224     </td><td>10      </td><td> 7      </td><td>0       </td><td>        </td><td>0       </td><td>American</td><td>NA      </td></tr>\n",
       "\t<tr><td>2011    </td><td> 3      </td><td>17      </td><td>4       </td><td>1647    </td><td>1747    </td><td>AA      </td><td>1505    </td><td>N584AA  </td><td>60      </td><td>...     </td><td>IAH     </td><td>DFW     </td><td>224     </td><td> 7      </td><td>12      </td><td>0       </td><td>        </td><td>0       </td><td>American</td><td>NA      </td></tr>\n",
       "</tbody>\n",
       "</table>\n"
      ],
      "text/latex": [
       "\\begin{tabular}{r|lllllllllllllllllllllll}\n",
       " Year & Month & DayofMonth & DayOfWeek & DepTime & ArrTime & UniqueCarrier & FlightNum & TailNum & ActualElapsedTime & ... & Origin & Dest & Distance & TaxiIn & TaxiOut & Cancelled & CancellationCode & Diverted & Carrier & Code\\\\\n",
       "\\hline\n",
       "\t 2011     & 12       & 12       & 1        &  650     &  808     & AA       & 1740     & N473AA   & 78       & ...      & IAH      & DFW      & 224      & 14       & 15       & 0        &          & 0        & American & NA      \\\\\n",
       "\t 2011     & 11       & 19       & 6        & 1752     & 1910     & AA       & 1903     & N495AA   & 78       & ...      & IAH      & DFW      & 224      &  7       & 31       & 0        &          & 0        & American & NA      \\\\\n",
       "\t 2011     & 12       & 22       & 4        & 1728     & 1848     & AA       & 1903     & N580AA   & 80       & ...      & IAH      & DFW      & 224      &  8       & 32       & 0        &          & 0        & American & NA      \\\\\n",
       "\t 2011     & 10       & 23       & 7        & 2305     &    2     & AA       &  742     & N548AA   & 57       & ...      & IAH      & DFW      & 224      &  5       & 13       & 0        &          & 0        & American & NA      \\\\\n",
       "\t 2011     &  9       & 27       & 2        & 1206     & 1300     & AA       & 1948     & N4YUAA   & 54       & ...      & IAH      & DFW      & 224      & 10       &  7       & 0        &          & 0        & American & NA      \\\\\n",
       "\t 2011     &  3       & 17       & 4        & 1647     & 1747     & AA       & 1505     & N584AA   & 60       & ...      & IAH      & DFW      & 224      &  7       & 12       & 0        &          & 0        & American & NA      \\\\\n",
       "\\end{tabular}\n"
      ],
      "text/markdown": [
       "\n",
       "Year | Month | DayofMonth | DayOfWeek | DepTime | ArrTime | UniqueCarrier | FlightNum | TailNum | ActualElapsedTime | ... | Origin | Dest | Distance | TaxiIn | TaxiOut | Cancelled | CancellationCode | Diverted | Carrier | Code | \n",
       "|---|---|---|---|---|---|\n",
       "| 2011     | 12       | 12       | 1        |  650     |  808     | AA       | 1740     | N473AA   | 78       | ...      | IAH      | DFW      | 224      | 14       | 15       | 0        |          | 0        | American | NA       | \n",
       "| 2011     | 11       | 19       | 6        | 1752     | 1910     | AA       | 1903     | N495AA   | 78       | ...      | IAH      | DFW      | 224      |  7       | 31       | 0        |          | 0        | American | NA       | \n",
       "| 2011     | 12       | 22       | 4        | 1728     | 1848     | AA       | 1903     | N580AA   | 80       | ...      | IAH      | DFW      | 224      |  8       | 32       | 0        |          | 0        | American | NA       | \n",
       "| 2011     | 10       | 23       | 7        | 2305     |    2     | AA       |  742     | N548AA   | 57       | ...      | IAH      | DFW      | 224      |  5       | 13       | 0        |          | 0        | American | NA       | \n",
       "| 2011     |  9       | 27       | 2        | 1206     | 1300     | AA       | 1948     | N4YUAA   | 54       | ...      | IAH      | DFW      | 224      | 10       |  7       | 0        |          | 0        | American | NA       | \n",
       "| 2011     |  3       | 17       | 4        | 1647     | 1747     | AA       | 1505     | N584AA   | 60       | ...      | IAH      | DFW      | 224      |  7       | 12       | 0        |          | 0        | American | NA       | \n",
       "\n",
       "\n"
      ],
      "text/plain": [
       "  Year Month DayofMonth DayOfWeek DepTime ArrTime UniqueCarrier FlightNum\n",
       "1 2011 12    12         1          650     808    AA            1740     \n",
       "2 2011 11    19         6         1752    1910    AA            1903     \n",
       "3 2011 12    22         4         1728    1848    AA            1903     \n",
       "4 2011 10    23         7         2305       2    AA             742     \n",
       "5 2011  9    27         2         1206    1300    AA            1948     \n",
       "6 2011  3    17         4         1647    1747    AA            1505     \n",
       "  TailNum ActualElapsedTime ... Origin Dest Distance TaxiIn TaxiOut Cancelled\n",
       "1 N473AA  78                ... IAH    DFW  224      14     15      0        \n",
       "2 N495AA  78                ... IAH    DFW  224       7     31      0        \n",
       "3 N580AA  80                ... IAH    DFW  224       8     32      0        \n",
       "4 N548AA  57                ... IAH    DFW  224       5     13      0        \n",
       "5 N4YUAA  54                ... IAH    DFW  224      10      7      0        \n",
       "6 N584AA  60                ... IAH    DFW  224       7     12      0        \n",
       "  CancellationCode Diverted Carrier  Code\n",
       "1                  0        American NA  \n",
       "2                  0        American NA  \n",
       "3                  0        American NA  \n",
       "4                  0        American NA  \n",
       "5                  0        American NA  \n",
       "6                  0        American NA  "
      ]
     },
     "metadata": {},
     "output_type": "display_data"
    },
    {
     "data": {
      "text/html": [
       "<table>\n",
       "<thead><tr><th scope=col>Year</th><th scope=col>Month</th><th scope=col>DayofMonth</th><th scope=col>DayOfWeek</th><th scope=col>DepTime</th><th scope=col>ArrTime</th><th scope=col>UniqueCarrier</th><th scope=col>FlightNum</th><th scope=col>TailNum</th><th scope=col>ActualElapsedTime</th><th scope=col>...</th><th scope=col>Origin</th><th scope=col>Dest</th><th scope=col>Distance</th><th scope=col>TaxiIn</th><th scope=col>TaxiOut</th><th scope=col>Cancelled</th><th scope=col>CancellationCode</th><th scope=col>Diverted</th><th scope=col>Carrier</th><th scope=col>Code</th></tr></thead>\n",
       "<tbody>\n",
       "\t<tr><td>2011      </td><td> 7        </td><td> 3        </td><td>7         </td><td>1914      </td><td>2039      </td><td>XE        </td><td>2804      </td><td>N12157    </td><td> 85       </td><td>...       </td><td>IAH       </td><td>MEM       </td><td> 468      </td><td>4         </td><td>15        </td><td>0         </td><td>          </td><td>0         </td><td>ExpressJet</td><td>NA        </td></tr>\n",
       "\t<tr><td>2011      </td><td> 8        </td><td>31        </td><td>3         </td><td> 934      </td><td>1039      </td><td>OO        </td><td>2040      </td><td>N783SK    </td><td>185       </td><td>...       </td><td>IAH       </td><td>BFL       </td><td>1428      </td><td>3         </td><td>10        </td><td>0         </td><td>          </td><td>0         </td><td>SkyWest   </td><td>NA        </td></tr>\n",
       "\t<tr><td>2011      </td><td> 8        </td><td>21        </td><td>7         </td><td> 935      </td><td>1039      </td><td>OO        </td><td>2001      </td><td>N767SK    </td><td>184       </td><td>...       </td><td>IAH       </td><td>BFL       </td><td>1428      </td><td>3         </td><td>10        </td><td>0         </td><td>          </td><td>0         </td><td>SkyWest   </td><td>NA        </td></tr>\n",
       "\t<tr><td>2011      </td><td> 8        </td><td>28        </td><td>7         </td><td>2059      </td><td>2206      </td><td>OO        </td><td>2003      </td><td>N783SK    </td><td>187       </td><td>...       </td><td>IAH       </td><td>BFL       </td><td>1428      </td><td>5         </td><td>11        </td><td>0         </td><td>          </td><td>0         </td><td>SkyWest   </td><td>NA        </td></tr>\n",
       "\t<tr><td>2011      </td><td> 8        </td><td>29        </td><td>1         </td><td> 935      </td><td>1041      </td><td>OO        </td><td>2040      </td><td>N767SK    </td><td>186       </td><td>...       </td><td>IAH       </td><td>BFL       </td><td>1428      </td><td>4         </td><td>13        </td><td>0         </td><td>          </td><td>0         </td><td>SkyWest   </td><td>NA        </td></tr>\n",
       "\t<tr><td>2011      </td><td>12        </td><td>25        </td><td>7         </td><td> 741      </td><td> 926      </td><td>OO        </td><td>4591      </td><td>N814SK    </td><td>165       </td><td>...       </td><td>IAH       </td><td>SLC       </td><td>1195      </td><td>4         </td><td>14        </td><td>0         </td><td>          </td><td>0         </td><td>SkyWest   </td><td>NA        </td></tr>\n",
       "</tbody>\n",
       "</table>\n"
      ],
      "text/latex": [
       "\\begin{tabular}{r|lllllllllllllllllllllll}\n",
       " Year & Month & DayofMonth & DayOfWeek & DepTime & ArrTime & UniqueCarrier & FlightNum & TailNum & ActualElapsedTime & ... & Origin & Dest & Distance & TaxiIn & TaxiOut & Cancelled & CancellationCode & Diverted & Carrier & Code\\\\\n",
       "\\hline\n",
       "\t 2011       &  7         &  3         & 7          & 1914       & 2039       & XE         & 2804       & N12157     &  85        & ...        & IAH        & MEM        &  468       & 4          & 15         & 0          &            & 0          & ExpressJet & NA        \\\\\n",
       "\t 2011       &  8         & 31         & 3          &  934       & 1039       & OO         & 2040       & N783SK     & 185        & ...        & IAH        & BFL        & 1428       & 3          & 10         & 0          &            & 0          & SkyWest    & NA        \\\\\n",
       "\t 2011       &  8         & 21         & 7          &  935       & 1039       & OO         & 2001       & N767SK     & 184        & ...        & IAH        & BFL        & 1428       & 3          & 10         & 0          &            & 0          & SkyWest    & NA        \\\\\n",
       "\t 2011       &  8         & 28         & 7          & 2059       & 2206       & OO         & 2003       & N783SK     & 187        & ...        & IAH        & BFL        & 1428       & 5          & 11         & 0          &            & 0          & SkyWest    & NA        \\\\\n",
       "\t 2011       &  8         & 29         & 1          &  935       & 1041       & OO         & 2040       & N767SK     & 186        & ...        & IAH        & BFL        & 1428       & 4          & 13         & 0          &            & 0          & SkyWest    & NA        \\\\\n",
       "\t 2011       & 12         & 25         & 7          &  741       &  926       & OO         & 4591       & N814SK     & 165        & ...        & IAH        & SLC        & 1195       & 4          & 14         & 0          &            & 0          & SkyWest    & NA        \\\\\n",
       "\\end{tabular}\n"
      ],
      "text/markdown": [
       "\n",
       "Year | Month | DayofMonth | DayOfWeek | DepTime | ArrTime | UniqueCarrier | FlightNum | TailNum | ActualElapsedTime | ... | Origin | Dest | Distance | TaxiIn | TaxiOut | Cancelled | CancellationCode | Diverted | Carrier | Code | \n",
       "|---|---|---|---|---|---|\n",
       "| 2011       |  7         |  3         | 7          | 1914       | 2039       | XE         | 2804       | N12157     |  85        | ...        | IAH        | MEM        |  468       | 4          | 15         | 0          |            | 0          | ExpressJet | NA         | \n",
       "| 2011       |  8         | 31         | 3          |  934       | 1039       | OO         | 2040       | N783SK     | 185        | ...        | IAH        | BFL        | 1428       | 3          | 10         | 0          |            | 0          | SkyWest    | NA         | \n",
       "| 2011       |  8         | 21         | 7          |  935       | 1039       | OO         | 2001       | N767SK     | 184        | ...        | IAH        | BFL        | 1428       | 3          | 10         | 0          |            | 0          | SkyWest    | NA         | \n",
       "| 2011       |  8         | 28         | 7          | 2059       | 2206       | OO         | 2003       | N783SK     | 187        | ...        | IAH        | BFL        | 1428       | 5          | 11         | 0          |            | 0          | SkyWest    | NA         | \n",
       "| 2011       |  8         | 29         | 1          |  935       | 1041       | OO         | 2040       | N767SK     | 186        | ...        | IAH        | BFL        | 1428       | 4          | 13         | 0          |            | 0          | SkyWest    | NA         | \n",
       "| 2011       | 12         | 25         | 7          |  741       |  926       | OO         | 4591       | N814SK     | 165        | ...        | IAH        | SLC        | 1195       | 4          | 14         | 0          |            | 0          | SkyWest    | NA         | \n",
       "\n",
       "\n"
      ],
      "text/plain": [
       "  Year Month DayofMonth DayOfWeek DepTime ArrTime UniqueCarrier FlightNum\n",
       "1 2011  7     3         7         1914    2039    XE            2804     \n",
       "2 2011  8    31         3          934    1039    OO            2040     \n",
       "3 2011  8    21         7          935    1039    OO            2001     \n",
       "4 2011  8    28         7         2059    2206    OO            2003     \n",
       "5 2011  8    29         1          935    1041    OO            2040     \n",
       "6 2011 12    25         7          741     926    OO            4591     \n",
       "  TailNum ActualElapsedTime ... Origin Dest Distance TaxiIn TaxiOut Cancelled\n",
       "1 N12157   85               ... IAH    MEM   468     4      15      0        \n",
       "2 N783SK  185               ... IAH    BFL  1428     3      10      0        \n",
       "3 N767SK  184               ... IAH    BFL  1428     3      10      0        \n",
       "4 N783SK  187               ... IAH    BFL  1428     5      11      0        \n",
       "5 N767SK  186               ... IAH    BFL  1428     4      13      0        \n",
       "6 N814SK  165               ... IAH    SLC  1195     4      14      0        \n",
       "  CancellationCode Diverted Carrier    Code\n",
       "1                  0        ExpressJet NA  \n",
       "2                  0        SkyWest    NA  \n",
       "3                  0        SkyWest    NA  \n",
       "4                  0        SkyWest    NA  \n",
       "5                  0        SkyWest    NA  \n",
       "6                  0        SkyWest    NA  "
      ]
     },
     "metadata": {},
     "output_type": "display_data"
    }
   ],
   "source": [
    "# Arrange according to carrier and decreasing departure delays\n",
    "head(arrange(hflights, UniqueCarrier, desc(DepDelay)))\n",
    "\n",
    "# Arrange flights by total delay (normal order).\n",
    "head(arrange(hflights, DepDelay + ArrDelay))"
   ]
  },
  {
   "cell_type": "markdown",
   "metadata": {},
   "source": [
    "### summarise()\n",
    "summarise uses the same syntax as mutate(), but the resulting dataset consists of a single row instead of an entire new column in the case of mutate().\n",
    "\n",
    "In contrast to the four other data manipulation functions, summarize() does not return an altered copy of the dataset it is summarizing; instead, it builds a new dataset that contains only the summarizing statistics.\n",
    "\n",
    "summarise(df, z = min(x))"
   ]
  },
  {
   "cell_type": "code",
   "execution_count": 29,
   "metadata": {},
   "outputs": [
    {
     "data": {
      "text/html": [
       "<table>\n",
       "<thead><tr><th scope=col>min_dist</th><th scope=col>max_dist</th></tr></thead>\n",
       "<tbody>\n",
       "\t<tr><td>79  </td><td>3904</td></tr>\n",
       "</tbody>\n",
       "</table>\n"
      ],
      "text/latex": [
       "\\begin{tabular}{r|ll}\n",
       " min\\_dist & max\\_dist\\\\\n",
       "\\hline\n",
       "\t 79   & 3904\\\\\n",
       "\\end{tabular}\n"
      ],
      "text/markdown": [
       "\n",
       "min_dist | max_dist | \n",
       "|---|\n",
       "| 79   | 3904 | \n",
       "\n",
       "\n"
      ],
      "text/plain": [
       "  min_dist max_dist\n",
       "1 79       3904    "
      ]
     },
     "metadata": {},
     "output_type": "display_data"
    },
    {
     "data": {
      "text/html": [
       "<table>\n",
       "<thead><tr><th scope=col>max_div</th></tr></thead>\n",
       "<tbody>\n",
       "\t<tr><td>3904</td></tr>\n",
       "</tbody>\n",
       "</table>\n"
      ],
      "text/latex": [
       "\\begin{tabular}{r|l}\n",
       " max\\_div\\\\\n",
       "\\hline\n",
       "\t 3904\\\\\n",
       "\\end{tabular}\n"
      ],
      "text/markdown": [
       "\n",
       "max_div | \n",
       "|---|\n",
       "| 3904 | \n",
       "\n",
       "\n"
      ],
      "text/plain": [
       "  max_div\n",
       "1 3904   "
      ]
     },
     "metadata": {},
     "output_type": "display_data"
    }
   ],
   "source": [
    "# Print out a summary with variables min_dist and max_dist\n",
    "summarize(hflights, min_dist = min(Distance), max_dist = max(Distance))\n",
    "\n",
    "# Print out a summary with variable max_div\n",
    "hflights %>%\n",
    "  filter(Diverted == 1) %>%\n",
    "  summarise(max_div = max(Distance))"
   ]
  },
  {
   "cell_type": "markdown",
   "metadata": {},
   "source": [
    "**Aggregate functions**\n",
    "\n",
    "You can use any function you like in summarize() so long as the function can take a vector of data and return a single number. R contains many aggregating functions, as dplyr calls them:\n",
    "\n",
    "    min(x) - minimum value of vector x.\n",
    "    max(x) - maximum value of vector x.\n",
    "    mean(x) - mean value of vector x.\n",
    "    median(x) - median value of vector x.\n",
    "    quantile(x, p) - pth quantile of vector x.\n",
    "    sd(x) - standard deviation of vector x.\n",
    "    var(x) - variance of vector x.\n",
    "    IQR(x) - Inter Quartile Range (IQR) of vector x.\n",
    "    diff(range(x)) - total range of vector x.\n"
   ]
  },
  {
   "cell_type": "code",
   "execution_count": 31,
   "metadata": {},
   "outputs": [
    {
     "data": {
      "text/html": [
       "<table>\n",
       "<thead><tr><th scope=col>earliest</th><th scope=col>average</th><th scope=col>latest</th><th scope=col>sd</th></tr></thead>\n",
       "<tbody>\n",
       "\t<tr><td>-70     </td><td>7.094334</td><td>978     </td><td>30.70852</td></tr>\n",
       "</tbody>\n",
       "</table>\n"
      ],
      "text/latex": [
       "\\begin{tabular}{r|llll}\n",
       " earliest & average & latest & sd\\\\\n",
       "\\hline\n",
       "\t -70      & 7.094334 & 978      & 30.70852\\\\\n",
       "\\end{tabular}\n"
      ],
      "text/markdown": [
       "\n",
       "earliest | average | latest | sd | \n",
       "|---|\n",
       "| -70      | 7.094334 | 978      | 30.70852 | \n",
       "\n",
       "\n"
      ],
      "text/plain": [
       "  earliest average  latest sd      \n",
       "1 -70      7.094334 978    30.70852"
      ]
     },
     "metadata": {},
     "output_type": "display_data"
    },
    {
     "data": {
      "text/html": [
       "<table>\n",
       "<thead><tr><th scope=col>max_taxi_diff</th></tr></thead>\n",
       "<tbody>\n",
       "\t<tr><td>160</td></tr>\n",
       "</tbody>\n",
       "</table>\n"
      ],
      "text/latex": [
       "\\begin{tabular}{r|l}\n",
       " max\\_taxi\\_diff\\\\\n",
       "\\hline\n",
       "\t 160\\\\\n",
       "\\end{tabular}\n"
      ],
      "text/markdown": [
       "\n",
       "max_taxi_diff | \n",
       "|---|\n",
       "| 160 | \n",
       "\n",
       "\n"
      ],
      "text/plain": [
       "  max_taxi_diff\n",
       "1 160          "
      ]
     },
     "metadata": {},
     "output_type": "display_data"
    }
   ],
   "source": [
    "# Remove rows that have NA ArrDelay: temp1\n",
    "temp1 <- filter(hflights, !is.na(ArrDelay))\n",
    "\n",
    "# Generate summary about ArrDelay column of temp1\n",
    "summarise(temp1, earliest = min(ArrDelay), average = mean(ArrDelay), latest = max(ArrDelay), sd = sd(ArrDelay))\n",
    "\n",
    "# Keep rows that have no NA TaxiIn and no NA TaxiOut: temp2\n",
    "temp2 <- filter(hflights, !is.na(TaxiIn) & !is.na(TaxiOut))\n",
    "\n",
    "# Print the maximum taxiing difference of temp2 with summarize()\n",
    "summarise(temp2, max_taxi_diff = max(abs(TaxiIn - TaxiOut)))"
   ]
  },
  {
   "cell_type": "markdown",
   "metadata": {},
   "source": [
    "### dplyr aggregate functions\n",
    "dplyr provides several helpful aggregate functions of its own, in addition to the ones that are already defined in R. These include:\n",
    "\n",
    "    first(x) - The first element of vector x.\n",
    "    last(x) - The last element of vector x.\n",
    "    nth(x, n) - The nth element of vector x.\n",
    "    n() - The number of rows in the data.frame or group of observations that summarize() describes.\n",
    "    n_distinct(x) - The number of unique values in vector x.\n"
   ]
  },
  {
   "cell_type": "code",
   "execution_count": 34,
   "metadata": {},
   "outputs": [
    {
     "data": {
      "text/html": [
       "<table>\n",
       "<thead><tr><th scope=col>n_obs</th><th scope=col>n_carrier</th><th scope=col>n_dest</th></tr></thead>\n",
       "<tbody>\n",
       "\t<tr><td>227496</td><td>15    </td><td>116   </td></tr>\n",
       "</tbody>\n",
       "</table>\n"
      ],
      "text/latex": [
       "\\begin{tabular}{r|lll}\n",
       " n\\_obs & n\\_carrier & n\\_dest\\\\\n",
       "\\hline\n",
       "\t 227496 & 15     & 116   \\\\\n",
       "\\end{tabular}\n"
      ],
      "text/markdown": [
       "\n",
       "n_obs | n_carrier | n_dest | \n",
       "|---|\n",
       "| 227496 | 15     | 116    | \n",
       "\n",
       "\n"
      ],
      "text/plain": [
       "  n_obs  n_carrier n_dest\n",
       "1 227496 15        116   "
      ]
     },
     "metadata": {},
     "output_type": "display_data"
    },
    {
     "data": {
      "text/html": [
       "<table>\n",
       "<thead><tr><th scope=col>n_flights</th><th scope=col>n_canc</th><th scope=col>avg_delay</th></tr></thead>\n",
       "<tbody>\n",
       "\t<tr><td>3244     </td><td>60       </td><td>0.8917558</td></tr>\n",
       "</tbody>\n",
       "</table>\n"
      ],
      "text/latex": [
       "\\begin{tabular}{r|lll}\n",
       " n\\_flights & n\\_canc & avg\\_delay\\\\\n",
       "\\hline\n",
       "\t 3244      & 60        & 0.8917558\\\\\n",
       "\\end{tabular}\n"
      ],
      "text/markdown": [
       "\n",
       "n_flights | n_canc | avg_delay | \n",
       "|---|\n",
       "| 3244      | 60        | 0.8917558 | \n",
       "\n",
       "\n"
      ],
      "text/plain": [
       "  n_flights n_canc avg_delay\n",
       "1 3244      60     0.8917558"
      ]
     },
     "metadata": {},
     "output_type": "display_data"
    }
   ],
   "source": [
    "# Generate summarizing statistics for hflights\n",
    "summarize(hflights,\n",
    "          n_obs = n(),\n",
    "          n_carrier = n_distinct(UniqueCarrier),\n",
    "          n_dest = n_distinct(Dest))\n",
    "\n",
    "# All American Airline flights\n",
    "aa <- filter(hflights, Carrier == \"American\")\n",
    "\n",
    "# Generate summarizing statistics for aa \n",
    "summarize(aa, n_flights = n(),\n",
    "  n_canc = sum(Cancelled == 1),\n",
    "  avg_delay = mean(ArrDelay, na.rm = TRUE))"
   ]
  },
  {
   "cell_type": "markdown",
   "metadata": {},
   "source": [
    "## Pipe operator"
   ]
  },
  {
   "cell_type": "code",
   "execution_count": 35,
   "metadata": {},
   "outputs": [
    {
     "data": {
      "text/html": [
       "<table>\n",
       "<thead><tr><th scope=col>n_less</th><th scope=col>n_dest</th><th scope=col>min_dist</th><th scope=col>max_dist</th></tr></thead>\n",
       "<tbody>\n",
       "\t<tr><td>6726</td><td>13  </td><td>79  </td><td>305 </td></tr>\n",
       "</tbody>\n",
       "</table>\n"
      ],
      "text/latex": [
       "\\begin{tabular}{r|llll}\n",
       " n\\_less & n\\_dest & min\\_dist & max\\_dist\\\\\n",
       "\\hline\n",
       "\t 6726 & 13   & 79   & 305 \\\\\n",
       "\\end{tabular}\n"
      ],
      "text/markdown": [
       "\n",
       "n_less | n_dest | min_dist | max_dist | \n",
       "|---|\n",
       "| 6726 | 13   | 79   | 305  | \n",
       "\n",
       "\n"
      ],
      "text/plain": [
       "  n_less n_dest min_dist max_dist\n",
       "1 6726   13     79       305     "
      ]
     },
     "metadata": {},
     "output_type": "display_data"
    }
   ],
   "source": [
    "# Chain together mutate(), filter() and summarize()\n",
    "hflights %>%\n",
    "  mutate(RealTime = ActualElapsedTime + 100, mph = Distance * 60 / RealTime) %>%\n",
    "  filter(!is.na(mph) & mph < 70) %>%\n",
    "  summarize(n_less = n(),\n",
    "            n_dest = n_distinct(Dest),\n",
    "            min_dist = min(Distance),\n",
    "            max_dist = max(Distance))"
   ]
  },
  {
   "cell_type": "markdown",
   "metadata": {},
   "source": [
    "## group_by()\n",
    "group_by() lets you define groups within your data set. Its influence becomes clear when calling summarize() on a grouped dataset: summarizing statistics are calculated for the different groups separately.\n"
   ]
  },
  {
   "cell_type": "code",
   "execution_count": 37,
   "metadata": {},
   "outputs": [
    {
     "data": {
      "text/html": [
       "<table>\n",
       "<thead><tr><th scope=col>Carrier</th><th scope=col>p_canc</th><th scope=col>avg_delay</th></tr></thead>\n",
       "<tbody>\n",
       "\t<tr><td>US_Airways        </td><td>1.1268986         </td><td>-0.6307692        </td></tr>\n",
       "\t<tr><td>American          </td><td>1.8495684         </td><td> 0.8917558        </td></tr>\n",
       "\t<tr><td>AirTran           </td><td>0.9817672         </td><td> 1.8536239        </td></tr>\n",
       "\t<tr><td>Alaska            </td><td>0.0000000         </td><td> 3.1923077        </td></tr>\n",
       "\t<tr><td>Mesa              </td><td>1.2658228         </td><td> 4.0128205        </td></tr>\n",
       "\t<tr><td>Delta             </td><td>1.5903067         </td><td> 6.0841374        </td></tr>\n",
       "\t<tr><td>Continental       </td><td>0.6782614         </td><td> 6.0986983        </td></tr>\n",
       "\t<tr><td>American_Eagle    </td><td>2.9044750         </td><td> 7.1529751        </td></tr>\n",
       "\t<tr><td>Atlantic_Southeast</td><td>3.4482759         </td><td> 7.2569543        </td></tr>\n",
       "\t<tr><td>Southwest         </td><td>1.5504047         </td><td> 7.5871430        </td></tr>\n",
       "\t<tr><td>Frontier          </td><td>0.7159905         </td><td> 7.6682692        </td></tr>\n",
       "\t<tr><td>ExpressJet        </td><td>1.5495599         </td><td> 8.1865242        </td></tr>\n",
       "\t<tr><td>SkyWest           </td><td>1.3946828         </td><td> 8.6934922        </td></tr>\n",
       "\t<tr><td>JetBlue           </td><td>2.5899281         </td><td> 9.8588410        </td></tr>\n",
       "\t<tr><td>United            </td><td>1.6409266         </td><td>10.4628628        </td></tr>\n",
       "</tbody>\n",
       "</table>\n"
      ],
      "text/latex": [
       "\\begin{tabular}{r|lll}\n",
       " Carrier & p\\_canc & avg\\_delay\\\\\n",
       "\\hline\n",
       "\t US\\_Airways         & 1.1268986            & -0.6307692          \\\\\n",
       "\t American           & 1.8495684          &  0.8917558        \\\\\n",
       "\t AirTran            & 0.9817672          &  1.8536239        \\\\\n",
       "\t Alaska             & 0.0000000          &  3.1923077        \\\\\n",
       "\t Mesa               & 1.2658228          &  4.0128205        \\\\\n",
       "\t Delta              & 1.5903067          &  6.0841374        \\\\\n",
       "\t Continental        & 0.6782614          &  6.0986983        \\\\\n",
       "\t American\\_Eagle     & 2.9044750            &  7.1529751          \\\\\n",
       "\t Atlantic\\_Southeast & 3.4482759            &  7.2569543          \\\\\n",
       "\t Southwest          & 1.5504047          &  7.5871430        \\\\\n",
       "\t Frontier           & 0.7159905          &  7.6682692        \\\\\n",
       "\t ExpressJet         & 1.5495599          &  8.1865242        \\\\\n",
       "\t SkyWest            & 1.3946828          &  8.6934922        \\\\\n",
       "\t JetBlue            & 2.5899281          &  9.8588410        \\\\\n",
       "\t United             & 1.6409266          & 10.4628628        \\\\\n",
       "\\end{tabular}\n"
      ],
      "text/markdown": [
       "\n",
       "Carrier | p_canc | avg_delay | \n",
       "|---|---|---|---|---|---|---|---|---|---|---|---|---|---|---|\n",
       "| US_Airways         | 1.1268986          | -0.6307692         | \n",
       "| American           | 1.8495684          |  0.8917558         | \n",
       "| AirTran            | 0.9817672          |  1.8536239         | \n",
       "| Alaska             | 0.0000000          |  3.1923077         | \n",
       "| Mesa               | 1.2658228          |  4.0128205         | \n",
       "| Delta              | 1.5903067          |  6.0841374         | \n",
       "| Continental        | 0.6782614          |  6.0986983         | \n",
       "| American_Eagle     | 2.9044750          |  7.1529751         | \n",
       "| Atlantic_Southeast | 3.4482759          |  7.2569543         | \n",
       "| Southwest          | 1.5504047          |  7.5871430         | \n",
       "| Frontier           | 0.7159905          |  7.6682692         | \n",
       "| ExpressJet         | 1.5495599          |  8.1865242         | \n",
       "| SkyWest            | 1.3946828          |  8.6934922         | \n",
       "| JetBlue            | 2.5899281          |  9.8588410         | \n",
       "| United             | 1.6409266          | 10.4628628         | \n",
       "\n",
       "\n"
      ],
      "text/plain": [
       "   Carrier            p_canc    avg_delay \n",
       "1  US_Airways         1.1268986 -0.6307692\n",
       "2  American           1.8495684  0.8917558\n",
       "3  AirTran            0.9817672  1.8536239\n",
       "4  Alaska             0.0000000  3.1923077\n",
       "5  Mesa               1.2658228  4.0128205\n",
       "6  Delta              1.5903067  6.0841374\n",
       "7  Continental        0.6782614  6.0986983\n",
       "8  American_Eagle     2.9044750  7.1529751\n",
       "9  Atlantic_Southeast 3.4482759  7.2569543\n",
       "10 Southwest          1.5504047  7.5871430\n",
       "11 Frontier           0.7159905  7.6682692\n",
       "12 ExpressJet         1.5495599  8.1865242\n",
       "13 SkyWest            1.3946828  8.6934922\n",
       "14 JetBlue            2.5899281  9.8588410\n",
       "15 United             1.6409266 10.4628628"
      ]
     },
     "metadata": {},
     "output_type": "display_data"
    }
   ],
   "source": [
    "hflights %>%\n",
    "  group_by(Carrier) %>%\n",
    "  summarize(\n",
    "    p_canc = mean(Cancelled == 1) * 100,\n",
    "    avg_delay = mean(ArrDelay, na.rm = TRUE)\n",
    "  ) %>%\n",
    "  arrange(avg_delay, p_canc)"
   ]
  },
  {
   "cell_type": "code",
   "execution_count": 47,
   "metadata": {},
   "outputs": [
    {
     "data": {
      "text/html": [
       "<table>\n",
       "<thead><tr><th scope=col>nplanes</th></tr></thead>\n",
       "<tbody>\n",
       "\t<tr><td>1526</td></tr>\n",
       "</tbody>\n",
       "</table>\n"
      ],
      "text/latex": [
       "\\begin{tabular}{r|l}\n",
       " nplanes\\\\\n",
       "\\hline\n",
       "\t 1526\\\\\n",
       "\\end{tabular}\n"
      ],
      "text/markdown": [
       "\n",
       "nplanes | \n",
       "|---|\n",
       "| 1526 | \n",
       "\n",
       "\n"
      ],
      "text/plain": [
       "  nplanes\n",
       "1 1526   "
      ]
     },
     "metadata": {},
     "output_type": "display_data"
    },
    {
     "data": {
      "text/html": [
       "<table>\n",
       "<thead><tr><th scope=col>UniqueCarrier</th><th scope=col>Dest</th><th scope=col>n</th><th scope=col>rank</th></tr></thead>\n",
       "<tbody>\n",
       "\t<tr><td>AA  </td><td>DFW </td><td>2105</td><td>1   </td></tr>\n",
       "\t<tr><td>AS  </td><td>SEA </td><td> 365</td><td>1   </td></tr>\n",
       "\t<tr><td>B6  </td><td>JFK </td><td> 695</td><td>1   </td></tr>\n",
       "\t<tr><td>CO  </td><td>EWR </td><td>3924</td><td>1   </td></tr>\n",
       "\t<tr><td>DL  </td><td>ATL </td><td>2396</td><td>1   </td></tr>\n",
       "\t<tr><td>EV  </td><td>DTW </td><td> 851</td><td>1   </td></tr>\n",
       "\t<tr><td>F9  </td><td>DEN </td><td> 837</td><td>1   </td></tr>\n",
       "\t<tr><td>FL  </td><td>ATL </td><td>2029</td><td>1   </td></tr>\n",
       "\t<tr><td>MQ  </td><td>DFW </td><td>2424</td><td>1   </td></tr>\n",
       "\t<tr><td>OO  </td><td>COS </td><td>1335</td><td>1   </td></tr>\n",
       "\t<tr><td>UA  </td><td>SFO </td><td> 643</td><td>1   </td></tr>\n",
       "\t<tr><td>US  </td><td>CLT </td><td>2212</td><td>1   </td></tr>\n",
       "\t<tr><td>WN  </td><td>DAL </td><td>8243</td><td>1   </td></tr>\n",
       "\t<tr><td>XE  </td><td>CRP </td><td>3175</td><td>1   </td></tr>\n",
       "\t<tr><td>YV  </td><td>CLT </td><td>  71</td><td>1   </td></tr>\n",
       "</tbody>\n",
       "</table>\n"
      ],
      "text/latex": [
       "\\begin{tabular}{r|llll}\n",
       " UniqueCarrier & Dest & n & rank\\\\\n",
       "\\hline\n",
       "\t AA   & DFW  & 2105 & 1   \\\\\n",
       "\t AS   & SEA  &  365 & 1   \\\\\n",
       "\t B6   & JFK  &  695 & 1   \\\\\n",
       "\t CO   & EWR  & 3924 & 1   \\\\\n",
       "\t DL   & ATL  & 2396 & 1   \\\\\n",
       "\t EV   & DTW  &  851 & 1   \\\\\n",
       "\t F9   & DEN  &  837 & 1   \\\\\n",
       "\t FL   & ATL  & 2029 & 1   \\\\\n",
       "\t MQ   & DFW  & 2424 & 1   \\\\\n",
       "\t OO   & COS  & 1335 & 1   \\\\\n",
       "\t UA   & SFO  &  643 & 1   \\\\\n",
       "\t US   & CLT  & 2212 & 1   \\\\\n",
       "\t WN   & DAL  & 8243 & 1   \\\\\n",
       "\t XE   & CRP  & 3175 & 1   \\\\\n",
       "\t YV   & CLT  &   71 & 1   \\\\\n",
       "\\end{tabular}\n"
      ],
      "text/markdown": [
       "\n",
       "UniqueCarrier | Dest | n | rank | \n",
       "|---|---|---|---|---|---|---|---|---|---|---|---|---|---|---|\n",
       "| AA   | DFW  | 2105 | 1    | \n",
       "| AS   | SEA  |  365 | 1    | \n",
       "| B6   | JFK  |  695 | 1    | \n",
       "| CO   | EWR  | 3924 | 1    | \n",
       "| DL   | ATL  | 2396 | 1    | \n",
       "| EV   | DTW  |  851 | 1    | \n",
       "| F9   | DEN  |  837 | 1    | \n",
       "| FL   | ATL  | 2029 | 1    | \n",
       "| MQ   | DFW  | 2424 | 1    | \n",
       "| OO   | COS  | 1335 | 1    | \n",
       "| UA   | SFO  |  643 | 1    | \n",
       "| US   | CLT  | 2212 | 1    | \n",
       "| WN   | DAL  | 8243 | 1    | \n",
       "| XE   | CRP  | 3175 | 1    | \n",
       "| YV   | CLT  |   71 | 1    | \n",
       "\n",
       "\n"
      ],
      "text/plain": [
       "   UniqueCarrier Dest n    rank\n",
       "1  AA            DFW  2105 1   \n",
       "2  AS            SEA   365 1   \n",
       "3  B6            JFK   695 1   \n",
       "4  CO            EWR  3924 1   \n",
       "5  DL            ATL  2396 1   \n",
       "6  EV            DTW   851 1   \n",
       "7  F9            DEN   837 1   \n",
       "8  FL            ATL  2029 1   \n",
       "9  MQ            DFW  2424 1   \n",
       "10 OO            COS  1335 1   \n",
       "11 UA            SFO   643 1   \n",
       "12 US            CLT  2212 1   \n",
       "13 WN            DAL  8243 1   \n",
       "14 XE            CRP  3175 1   \n",
       "15 YV            CLT    71 1   "
      ]
     },
     "metadata": {},
     "output_type": "display_data"
    }
   ],
   "source": [
    "# How many airplanes only flew to one destination?\n",
    "hflights %>%\n",
    "    group_by(TailNum) %>%\n",
    "    summarize(ndest = n_distinct(Dest)) %>% \n",
    "    filter(TailNum != \"\" & ndest == 1) %>%\n",
    "    summarize(nplanes = n())\n",
    "\n",
    "# Find the most visited destination for each carrier\n",
    "hflights %>%\n",
    "  group_by(UniqueCarrier, Dest) %>%\n",
    "  summarize(n = n()) %>%\n",
    "  mutate(rank = rank(-n)) %>%\n",
    "  filter(rank == 1)"
   ]
  },
  {
   "cell_type": "code",
   "execution_count": 49,
   "metadata": {},
   "outputs": [
    {
     "ename": "ERROR",
     "evalue": "Error: The RMySQL package is required to connect to MySQL/MariaDB.\nPlease install it with `install.packages(\"RMySQL\")`\n",
     "output_type": "error",
     "traceback": [
      "Error: The RMySQL package is required to connect to MySQL/MariaDB.\nPlease install it with `install.packages(\"RMySQL\")`\nTraceback:\n",
      "1. src_mysql(dbname = \"dplyr\", host = \"courses.csrrinzqubik.us-east-1.rds.amazonaws.com\", \n .     port = 3306, user = \"student\", password = \"datacamp\")",
      "2. check_pkg(\"RMySQL\", \"connect to MySQL/MariaDB\")",
      "3. glubort(NULL, \"The {name} package is required to {reason}.\", \n .     if (install) \"\\nPlease install it with `install.packages(\\\"{name}\\\")`\" else \"\")",
      "4. .abort(text)"
     ]
    }
   ],
   "source": [
    "# Set up a connection to the mysql database\n",
    "# my_db <- src_mysql(dbname = \"dplyr\", \n",
    " #                   host = \"courses.csrrinzqubik.us-east-1.rds.amazonaws.com\", \n",
    " #                  port = 3306, \n",
    "  #                 user = \"student\",\n",
    "   #                password = \"datacamp\")\n",
    "\n",
    "# Reference a table within that source: nycflights#nycflights <- tbl(my_db, \"dplyr\")\n",
    "\n",
    "# glimpse at nycflights\n",
    "#glimpse(nycflights)\n",
    "\n",
    "\n",
    "# Ordered, grouped summary of nycflights\n",
    "#  nycflights %>%\n",
    " #   group_by(carrier) %>%\n",
    "  #  summarize(n_flights = n(), avg_delay = mean(arr_delay)) %>%\n",
    "   # arrange(avg_delay)"
   ]
  }
 ],
 "metadata": {
  "kernelspec": {
   "display_name": "R",
   "language": "R",
   "name": "ir"
  },
  "language_info": {
   "codemirror_mode": "r",
   "file_extension": ".r",
   "mimetype": "text/x-r-source",
   "name": "R",
   "pygments_lexer": "r",
   "version": "3.5.1"
  }
 },
 "nbformat": 4,
 "nbformat_minor": 2
}

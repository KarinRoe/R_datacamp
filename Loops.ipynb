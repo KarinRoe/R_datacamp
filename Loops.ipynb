{
 "cells": [
  {
   "cell_type": "markdown",
   "metadata": {},
   "source": [
    "## while loop"
   ]
  },
  {
   "cell_type": "code",
   "execution_count": 1,
   "metadata": {},
   "outputs": [
    {
     "name": "stdout",
     "output_type": "stream",
     "text": [
      "[1] \"Your speed is 88\"\n"
     ]
    }
   ],
   "source": [
    "# Initialize the speed variable\n",
    "speed <- 88\n",
    "\n",
    "while (speed > 30) {\n",
    "  print(paste(\"Your speed is\", speed))\n",
    "  \n",
    "  # Break the while loop when speed exceeds 80\n",
    "  if (speed > 80) {\n",
    "    break\n",
    "  }\n",
    "  \n",
    "  if (speed > 48) {\n",
    "    print(\"Slow down big time!\")\n",
    "    speed <- speed - 11\n",
    "  } else {\n",
    "    print(\"Slow down!\")\n",
    "    speed <- speed - 6\n",
    "  }\n",
    "}"
   ]
  },
  {
   "cell_type": "markdown",
   "metadata": {},
   "source": [
    "## for loop"
   ]
  },
  {
   "cell_type": "markdown",
   "metadata": {},
   "source": [
    "The break statement abandons the active loop: the remaining code in the loop is skipped and the loop is not iterated over anymore.\n",
    "\n",
    "The next statement skips the remainder of the code in the loop, but continues the iteration."
   ]
  },
  {
   "cell_type": "code",
   "execution_count": 2,
   "metadata": {},
   "outputs": [
    {
     "name": "stdout",
     "output_type": "stream",
     "text": [
      "[1] \"You're popular!\"\n",
      "[1] 16\n",
      "[1] \"Be more visible!\"\n",
      "[1] 9\n",
      "[1] \"You're popular!\"\n",
      "[1] 13\n",
      "[1] \"Be more visible!\"\n",
      "[1] 5\n",
      "[1] \"Be more visible!\"\n",
      "[1] \"This is too embarrassing!\"\n",
      "[1] \"You're popular!\"\n",
      "[1] \"This is ridiculous, I'm outta here!\"\n"
     ]
    }
   ],
   "source": [
    "# The linkedin vector has already been defined for you\n",
    "linkedin <- c(16, 9, 13, 5, 2, 17, 14)\n",
    "\n",
    "# Extend the for loop\n",
    "for (li in linkedin) {\n",
    "  if (li > 10) {\n",
    "    print(\"You're popular!\")\n",
    "  } else {\n",
    "    print(\"Be more visible!\")\n",
    "  }\n",
    "  \n",
    "  # Add if statement with break\n",
    "  if (li > 16) {\n",
    "    print(\"This is ridiculous, I'm outta here!\")\n",
    "    break\n",
    "  } \n",
    "  if (li < 5) {\n",
    "    print(\"This is too embarrassing!\")\n",
    "    next\n",
    "  }\n",
    "  print(li)\n",
    "}"
   ]
  },
  {
   "cell_type": "markdown",
   "metadata": {},
   "source": [
    "## lapply"
   ]
  },
  {
   "cell_type": "markdown",
   "metadata": {},
   "source": [
    "lapply returns always a list"
   ]
  },
  {
   "cell_type": "code",
   "execution_count": 3,
   "metadata": {},
   "outputs": [],
   "source": [
    "# Definition of split_low\n",
    "pioneers <- c(\"GAUSS:1777\", \"BAYES:1702\", \"PASCAL:1623\", \"PEARSON:1857\")\n",
    "split <- strsplit(pioneers, split = \":\")\n",
    "split_low <- lapply(split, tolower)\n",
    "\n",
    "# Generic select function\n",
    "select_el <- function(x, index) {\n",
    "  x[index]\n",
    "}\n",
    "\n",
    "# Use lapply() twice on split_low: names and years\n",
    "names <- lapply(split_low, select_el, index = 1)\n",
    "years <- lapply(split_low, select_el, index = 2)"
   ]
  },
  {
   "cell_type": "markdown",
   "metadata": {},
   "source": [
    "## sapply"
   ]
  },
  {
   "cell_type": "markdown",
   "metadata": {},
   "source": [
    "sapply simplifies lapply result"
   ]
  },
  {
   "cell_type": "code",
   "execution_count": 4,
   "metadata": {},
   "outputs": [
    {
     "ename": "ERROR",
     "evalue": "Error in lapply(X = X, FUN = FUN, ...): Objekt 'temp' nicht gefunden\n",
     "output_type": "error",
     "traceback": [
      "Error in lapply(X = X, FUN = FUN, ...): Objekt 'temp' nicht gefunden\nTraceback:\n",
      "1. sapply(temp, extremes_avg)",
      "2. lapply(X = X, FUN = FUN, ...)"
     ]
    }
   ],
   "source": [
    "# temp is already defined in the workspace\n",
    "\n",
    "# Finish function definition of extremes_avg\n",
    "extremes_avg <- function(x) {\n",
    "  ( min(x) + max(x) ) / 2\n",
    "}\n",
    "\n",
    "# Apply extremes_avg() over temp using sapply()\n",
    "sapply(temp, extremes_avg)\n",
    "\n",
    "# Apply extremes_avg() over temp using lapply()\n",
    "lapply(temp, extremes_avg)"
   ]
  },
  {
   "cell_type": "markdown",
   "metadata": {},
   "source": [
    "sapply returns a matrix when the vector is > 1 "
   ]
  },
  {
   "cell_type": "code",
   "execution_count": 5,
   "metadata": {},
   "outputs": [
    {
     "ename": "ERROR",
     "evalue": "Error in lapply(X = X, FUN = FUN, ...): Objekt 'temp' nicht gefunden\n",
     "output_type": "error",
     "traceback": [
      "Error in lapply(X = X, FUN = FUN, ...): Objekt 'temp' nicht gefunden\nTraceback:\n",
      "1. sapply(temp, extremes)",
      "2. lapply(X = X, FUN = FUN, ...)"
     ]
    }
   ],
   "source": [
    "# temp is already available in the workspace\n",
    "\n",
    "# Create a function that returns min and max of a vector: extremes\n",
    "extremes <- function(x) {\n",
    "  c(min = min(x), max = max(x))\n",
    "}\n",
    "\n",
    "# Apply extremes() over temp with sapply()\n",
    "sapply(temp, extremes)\n",
    "\n",
    "# Apply extremes() over temp with lapply()\n",
    "lapply(temp, extremes)"
   ]
  },
  {
   "cell_type": "markdown",
   "metadata": {},
   "source": [
    "## useful functions"
   ]
  },
  {
   "cell_type": "markdown",
   "metadata": {},
   "source": [
    "\n",
    "    seq(): Generate sequences, by specifying the from, to, and by arguments.\n",
    "    rep(): Replicate elements of vectors and lists.\n",
    "    sort(): Sort a vector in ascending order. Works on numerics, but also on character strings and logicals.\n",
    "    rev(): Reverse the elements in a data structures for which reversal is defined.\n",
    "    str(): Display the structure of any R object.\n",
    "    append(): Merge vectors or lists.\n",
    "    is.*(): Check for the class of an R object.\n",
    "    as.*(): Convert an R object from one class to another.\n",
    "    unlist(): Flatten (possibly embedded) lists to produce a vector.\n"
   ]
  },
  {
   "cell_type": "markdown",
   "metadata": {},
   "source": [
    "## Regular expression"
   ]
  },
  {
   "cell_type": "markdown",
   "metadata": {},
   "source": [
    "In their most basic form, regular expressions can be used to see whether a pattern exists inside a character string or a vector of character strings. For this purpose, you can use:\n",
    "\n",
    "    grepl(), which returns TRUE when a pattern is found in the corresponding character string.\n",
    "    grep(), which returns a vector of indices of the character strings that contains the pattern.\n",
    "    \n",
    "You can use the caret, ^, and the dollar sign, $ to match the content located in the start and end of a string, respectively. \n",
    "\n",
    "        \".*\", which matches any character (.) zero or more times (*). Both the dot and the asterisk are metacharacters. You can use them to match any character between the at-sign and the \".edu\" portion of an email address.\n",
    "\n",
    "        \"\\\\.edu$\", to match the \".edu\" part of the email at the end of the string. The \\\\ part escapes the dot: it tells R that you want to use the . as an actual character.\n"
   ]
  },
  {
   "cell_type": "code",
   "execution_count": 6,
   "metadata": {},
   "outputs": [
    {
     "data": {
      "text/html": [
       "<ol class=list-inline>\n",
       "\t<li>TRUE</li>\n",
       "\t<li>FALSE</li>\n",
       "\t<li>FALSE</li>\n",
       "\t<li>FALSE</li>\n",
       "\t<li>TRUE</li>\n",
       "\t<li>FALSE</li>\n",
       "</ol>\n"
      ],
      "text/latex": [
       "\\begin{enumerate*}\n",
       "\\item TRUE\n",
       "\\item FALSE\n",
       "\\item FALSE\n",
       "\\item FALSE\n",
       "\\item TRUE\n",
       "\\item FALSE\n",
       "\\end{enumerate*}\n"
      ],
      "text/markdown": [
       "1. TRUE\n",
       "2. FALSE\n",
       "3. FALSE\n",
       "4. FALSE\n",
       "5. TRUE\n",
       "6. FALSE\n",
       "\n",
       "\n"
      ],
      "text/plain": [
       "[1]  TRUE FALSE FALSE FALSE  TRUE FALSE"
      ]
     },
     "metadata": {},
     "output_type": "display_data"
    },
    {
     "data": {
      "text/html": [
       "<ol class=list-inline>\n",
       "\t<li>'john.doe@ivyleague.edu'</li>\n",
       "\t<li>'quant@bigdatacollege.edu'</li>\n",
       "</ol>\n"
      ],
      "text/latex": [
       "\\begin{enumerate*}\n",
       "\\item 'john.doe@ivyleague.edu'\n",
       "\\item 'quant@bigdatacollege.edu'\n",
       "\\end{enumerate*}\n"
      ],
      "text/markdown": [
       "1. 'john.doe@ivyleague.edu'\n",
       "2. 'quant@bigdatacollege.edu'\n",
       "\n",
       "\n"
      ],
      "text/plain": [
       "[1] \"john.doe@ivyleague.edu\"   \"quant@bigdatacollege.edu\""
      ]
     },
     "metadata": {},
     "output_type": "display_data"
    }
   ],
   "source": [
    "# The emails vector has already been defined for you\n",
    "emails <- c(\"john.doe@ivyleague.edu\", \"education@world.gov\", \"dalai.lama@peace.org\",\n",
    "            \"invalid.edu\", \"quant@bigdatacollege.edu\", \"cookie.monster@sesame.tv\")\n",
    "\n",
    "# Use grepl() to match for .edu addresses more robustly\n",
    "grepl(pattern = \"@.*\\\\.edu$\", emails)\n",
    "\n",
    "# Use grep() to match for .edu addresses more robustly, save result to hits\n",
    "hits <- grep(pattern = \"@.*\\\\.edu$\", emails)\n",
    "\n",
    "# Subset emails using hits\n",
    "emails[hits]"
   ]
  },
  {
   "cell_type": "code",
   "execution_count": 7,
   "metadata": {},
   "outputs": [
    {
     "data": {
      "text/html": [
       "<ol class=list-inline>\n",
       "\t<li>'john.doe@datacamp.edu'</li>\n",
       "\t<li>'education@world.gov'</li>\n",
       "\t<li>'global@peace.org'</li>\n",
       "\t<li>'invalid.edu'</li>\n",
       "\t<li>'quant@datacamp.edu'</li>\n",
       "\t<li>'cookie.monster@sesame.tv'</li>\n",
       "</ol>\n"
      ],
      "text/latex": [
       "\\begin{enumerate*}\n",
       "\\item 'john.doe@datacamp.edu'\n",
       "\\item 'education@world.gov'\n",
       "\\item 'global@peace.org'\n",
       "\\item 'invalid.edu'\n",
       "\\item 'quant@datacamp.edu'\n",
       "\\item 'cookie.monster@sesame.tv'\n",
       "\\end{enumerate*}\n"
      ],
      "text/markdown": [
       "1. 'john.doe@datacamp.edu'\n",
       "2. 'education@world.gov'\n",
       "3. 'global@peace.org'\n",
       "4. 'invalid.edu'\n",
       "5. 'quant@datacamp.edu'\n",
       "6. 'cookie.monster@sesame.tv'\n",
       "\n",
       "\n"
      ],
      "text/plain": [
       "[1] \"john.doe@datacamp.edu\"    \"education@world.gov\"     \n",
       "[3] \"global@peace.org\"         \"invalid.edu\"             \n",
       "[5] \"quant@datacamp.edu\"       \"cookie.monster@sesame.tv\""
      ]
     },
     "metadata": {},
     "output_type": "display_data"
    }
   ],
   "source": [
    "# The emails vector has already been defined for you\n",
    "emails <- c(\"john.doe@ivyleague.edu\", \"education@world.gov\", \"global@peace.org\",\n",
    "            \"invalid.edu\", \"quant@bigdatacollege.edu\", \"cookie.monster@sesame.tv\")\n",
    "\n",
    "# Use sub() to convert the email domains to datacamp.edu\n",
    "sub(pattern = \"@.*\\\\.edu$\",replacement = \"@datacamp.edu\", x = emails)"
   ]
  },
  {
   "cell_type": "markdown",
   "metadata": {},
   "source": [
    "\n",
    "    .*: A usual suspect! It can be read as \"any character that is matched zero or more times\".\n",
    "    \\\\s: Match a space. The \"s\" is normally a character, escaping it (\\\\) makes it a metacharacter.\n",
    "    [0-9]+: Match the numbers 0 to 9, at least once (+).\n",
    "    ([0-9]+): The parentheses are used to make parts of the matching string available to define the replacement. The \\\\1 in the replacement argument of sub() gets set to the string that is captured by the regular expression [0-9]+.\n"
   ]
  },
  {
   "cell_type": "markdown",
   "metadata": {},
   "source": [
    "## dates and times"
   ]
  },
  {
   "cell_type": "markdown",
   "metadata": {},
   "source": [
    "Create and format dates\n",
    "\n",
    "To create a Date object from a simple character string in R, you can use the as.Date() function. The character string has to obey a format that can be defined using a set of symbols (the examples correspond to 13 January, 1982):\n",
    "\n",
    "    %Y: 4-digit year (1982)\n",
    "    %y: 2-digit year (82)\n",
    "    %m: 2-digit month (01)\n",
    "    %d: 2-digit day of the month (13)\n",
    "    %A: weekday (Wednesday)\n",
    "    %a: abbreviated weekday (Wed)\n",
    "    %B: month (January)\n",
    "    %b: abbreviated month (Jan)\n"
   ]
  },
  {
   "cell_type": "code",
   "execution_count": 8,
   "metadata": {},
   "outputs": [
    {
     "data": {
      "text/html": [
       "NA"
      ],
      "text/latex": [
       "NA"
      ],
      "text/markdown": [
       "NA"
      ],
      "text/plain": [
       "[1] NA"
      ]
     },
     "metadata": {},
     "output_type": "display_data"
    },
    {
     "data": {
      "text/html": [
       "'15'"
      ],
      "text/latex": [
       "'15'"
      ],
      "text/markdown": [
       "'15'"
      ],
      "text/plain": [
       "[1] \"15\""
      ]
     },
     "metadata": {},
     "output_type": "display_data"
    },
    {
     "data": {
      "text/html": [
       "NA"
      ],
      "text/latex": [
       "NA"
      ],
      "text/markdown": [
       "NA"
      ],
      "text/plain": [
       "[1] NA"
      ]
     },
     "metadata": {},
     "output_type": "display_data"
    }
   ],
   "source": [
    "# Definition of character strings representing dates\n",
    "str1 <- \"May 23, '96\"\n",
    "str2 <- \"2012-03-15\"\n",
    "str3 <- \"30/January/2006\"\n",
    "\n",
    "# Convert the strings to dates: date1, date2, date3\n",
    "date1 <- as.Date(str1, format = \"%b %d, '%y\")\n",
    "date2 <- as.Date(str2)\n",
    "date3 <- as.Date(str3, format = \"%d/%B/%Y\")\n",
    "\n",
    "\n",
    "# Convert dates to formatted strings\n",
    "format(date1, \"%A\")\n",
    "format(date2, \"%d\")\n",
    "format(date3, \"%b %Y\")\n"
   ]
  },
  {
   "cell_type": "markdown",
   "metadata": {},
   "source": [
    "As default R matches your character string to the formats \"%Y-%m-%d\" or \"%Y/%m/%d\"."
   ]
  },
  {
   "cell_type": "markdown",
   "metadata": {},
   "source": [
    "In addition to creating dates, you can also convert dates to character strings that use a different date notation. For this, you use the format() function. Try the following lines of code:"
   ]
  },
  {
   "cell_type": "markdown",
   "metadata": {},
   "source": [
    "Create and format times\n",
    "\n",
    "Similar to working with dates, you can use as.POSIXct() to convert from a character string to a POSIXct object, and format() to convert from a POSIXct object to a character string. Again, you have a wide variety of symbols:\n",
    "\n",
    "    %H: hours as a decimal number (00-23)\n",
    "    %I: hours as a decimal number (01-12)\n",
    "    %M: minutes as a decimal number\n",
    "    %S: seconds as a decimal number\n",
    "    %T: shorthand notation for the typical format %H:%M:%S\n",
    "    %p: AM/PM indicator\n",
    "    \n",
    "For a full list of conversion symbols, consult the ?strptime documentation in the console\n",
    "\n",
    "Again,as.POSIXct() uses a default format to match character strings. In this case, it's %Y-%m-%d %H:%M:%S. In this exercise, abstraction is made of different time zones.\n"
   ]
  }
 ],
 "metadata": {
  "kernelspec": {
   "display_name": "R",
   "language": "R",
   "name": "ir"
  },
  "language_info": {
   "codemirror_mode": "r",
   "file_extension": ".r",
   "mimetype": "text/x-r-source",
   "name": "R",
   "pygments_lexer": "r",
   "version": "3.5.1"
  }
 },
 "nbformat": 4,
 "nbformat_minor": 2
}
